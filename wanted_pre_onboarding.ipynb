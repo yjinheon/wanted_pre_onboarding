{
 "cells": [
  {
   "cell_type": "code",
   "execution_count": 5,
   "metadata": {},
   "outputs": [],
   "source": [
    "import re\n",
    "\n",
    "class Tokenizer():\n",
    "  def __init__(self):\n",
    "    self.word_dict = {'oov': 0}\n",
    "    self.fit_checker = False\n",
    "  \n",
    "  def preprocessing(self, sequences):\n",
    "    result = []\n",
    "    '''\n",
    "    문제 1-1.\n",
    "    - nested list 형태의 전처리 결과를 반환.\n",
    "    - 특수문자, 소문자 처리\n",
    "    '''\n",
    "    for seq in sequences:\n",
    "      seq = seq.lower()\n",
    "      seq = re.sub(r'[^a-zA-Z\\d\\s]', ' ', seq)\n",
    "      inner = seq.split(\" \")\n",
    "      inner = list(filter(None, inner))\n",
    "      result.append(inner)\n",
    "      \n",
    "    return result\n",
    "  \n",
    "  def fit(self, sequences):\n",
    "    self.fit_checker = False\n",
    "    '''\n",
    "    문제 1-2.\n",
    "    - 정수 인덱싱\n",
    "    '''\n",
    "    tokens = self.preprocessing(sequences)\n",
    "    \n",
    "    for token in tokens:\n",
    "      for word in token:\n",
    "        if word not in self.word_dict:\n",
    "          self.word_dict[word] = len(self.word_dict)\n",
    "    \n",
    "    self.fit_checker = True\n",
    "  \n",
    "  def transform(self, sequences):\n",
    "    result = []\n",
    "    tokens = self.preprocessing(sequences)\n",
    "    if self.fit_checker:\n",
    "      '''\n",
    "      문제 1-3.\n",
    "      - 인덱스 변환\n",
    "      '''\n",
    "      result = [*map(lambda x: [self.word_dict[k] for k in x], tokens)]\n",
    "      \n",
    "      return result\n",
    "    else:\n",
    "      raise Exception(\"Tokenizer instance is not fitted yet.\")\n",
    "      \n",
    "  def fit_transform(self, sequences):\n",
    "    self.fit(sequences)\n",
    "    result = self.transform(sequences)\n",
    "    return result"
   ]
  },
  {
   "cell_type": "code",
   "execution_count": 3,
   "metadata": {},
   "outputs": [],
   "source": [
    "import math\n",
    "import numpy as np\n",
    "from collections import Counter\n",
    "\n",
    "\n",
    "class TfidfVectorizer:\n",
    "  def __init__(self, tokenizer):\n",
    "    self.tokenizer = tokenizer\n",
    "    self.fit_checker = False\n",
    "  \n",
    "  def fit(self, sequences):\n",
    "    tokenized = self.tokenizer.fit_transform(sequences)\n",
    "    '''\n",
    "    문제 2-1.\n",
    "    - idf matrix \n",
    "    '''\n",
    "    idf_list = []\n",
    "    word_index = list(self.tokenizer.word_dict.values())\n",
    "    word_index.pop(0)\n",
    "    N = len(tokenized)\n",
    "    for i in word_index:\n",
    "      cnt = 0\n",
    "      for seq in tokenized:\n",
    "        if i in seq:\n",
    "          cnt += 1\n",
    "      idf_list.append(math.log((N)/(cnt+1)))\n",
    "        \n",
    "    self.fit_checker = True\n",
    "    return idf_list\n",
    "\n",
    "  def transform(self, sequences):\n",
    "    if self.fit_checker:\n",
    "      tokenized = self.tokenizer.transform(sequences)\n",
    "    '''\n",
    "    문제 2-2.\n",
    "    tf-idf 반환      \n",
    "    '''\n",
    "    tf = []\n",
    "    word_index = list(self.tokenizer.word_dict.values())\n",
    "    word_index.pop(0)\n",
    "    for seq in tokenized:\n",
    "        c = Counter(seq)\n",
    "        tf.append([c[i] for i in word_index])\n",
    "        \n",
    "    self.tfidf_matrix = []\n",
    "     \n",
    "    for i in tf:\n",
    "      res=self.fit(sequences) * np.array(i)\n",
    "      self.tfidf_matrix.append(list(res))\n",
    "    \n",
    "    return self.tfidf_matrix\n",
    "    \n",
    "     \n",
    "  def fit_transform(self, sequences):\n",
    "    self.fit(sequences)\n",
    "    return self.transform(sequences)"
   ]
  },
  {
   "cell_type": "code",
   "execution_count": 6,
   "metadata": {},
   "outputs": [
    {
     "name": "stdout",
     "output_type": "stream",
     "text": [
      "<class 'list'>\n",
      "[[-0.40546510810816444, 0.0, 0.0, 0.0, 0.0, 0.0], [-0.40546510810816444, 0.0, 0.0, 0.0, 0.0, 0.0]]\n"
     ]
    }
   ],
   "source": [
    "test = ['I go to school.', 'I LIKE pizza!']\n",
    "\n",
    "# tfidf transform\n",
    "\n",
    "tokenizer = Tokenizer()\n",
    "tfidfvectorizer = TfidfVectorizer(tokenizer)\n",
    "ex_transformed=tfidfvectorizer.fit_transform(test)\n",
    "print(type(ex_transformed))\n",
    "print(ex_transformed)"
   ]
  },
  {
   "cell_type": "code",
   "execution_count": 7,
   "metadata": {},
   "outputs": [
    {
     "data": {
      "text/plain": [
       "{'oov': 0, 'i': 1, 'go': 2, 'to': 3, 'school': 4, 'like': 5, 'pizza': 6}"
      ]
     },
     "execution_count": 7,
     "metadata": {},
     "output_type": "execute_result"
    }
   ],
   "source": [
    "tokenizer.word_dict"
   ]
  }
 ],
 "metadata": {
  "interpreter": {
   "hash": "af10c12910fe547a104a4e7054f6b738e5a585692cba659c6842421994a84dc5"
  },
  "kernelspec": {
   "display_name": "Python 3.8.12 64-bit ('datamind': conda)",
   "language": "python",
   "name": "python3"
  },
  "language_info": {
   "codemirror_mode": {
    "name": "ipython",
    "version": 3
   },
   "file_extension": ".py",
   "mimetype": "text/x-python",
   "name": "python",
   "nbconvert_exporter": "python",
   "pygments_lexer": "ipython3",
   "version": "3.8.12"
  },
  "orig_nbformat": 4
 },
 "nbformat": 4,
 "nbformat_minor": 2
}
