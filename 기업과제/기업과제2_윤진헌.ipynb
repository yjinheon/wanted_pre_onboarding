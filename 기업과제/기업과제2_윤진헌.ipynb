{
 "cells": [
  {
   "cell_type": "markdown",
   "metadata": {},
   "source": [
    "## Meta Data\n",
    "\n",
    "### DATA Description\n",
    "\n",
    "- video_id\t영상의 비디오 아이디\n",
    "- channel_id\t영상이 업로드 되어있는 채널 아이디\n",
    "- published_date\t영 상이 유튜브에 업로드된 날짜\n",
    "- category_name\t영상/채널의 카테고리\n",
    "- duration\t영상 길이 (PT1H13M25S == 1시간13분25초)\n",
    "- tags\t영상에 사용된 해시태그\n",
    "- description\t영상부연설명\n",
    "- on_trending_date\t인기 동영상에서 처음 포착된 날짜\n",
    "- off_trending_date\t인기 동영상에서 사라진 날짜\n",
    "- on_rank\t인기 동영상에서 처음 기록된 순위\n",
    "- off_rank\t인기 동영상에서 사라지기전 기록된 순위\n",
    "- on_views\t인기 동영상에서 처음 기록된 조회수\n",
    "- off_views\t인기 동영상에서 사라지기전 기록된 조회수\n",
    "- on_likes\t인기 동영상에서 처음 기록된 좋아요수\n",
    "- off_likes\t인기 동영상에서 사라지기전 기록된 좋아요수\n",
    "- on_dislikes\t인기 동영상에서 처음 기록된 싫어요수\n",
    "- off_dislikes\t인기 동영상에서 사라지기전 기록된 싫어요수\n",
    "- on_comments\t인기 동영상에서 처음 기록된 댓글수\n",
    "- off_comments\t인기 동영상에서 사라지기전 기록된 댓글수\n",
    "- on_channel_subscribers\t인기 동영상에서 처음 기록된 채널의 구독자수\n",
    "- off_channel_subscribers\t인기 동영상에서 사라지기전 기록된 채널의 구독자수\n",
    "- on_channel_total_views\t인기 동영상에서 처음 기록된 채널의 전체 비디오 조회수의 합\n",
    "- off_channel_total_views\t인기 동영상에서 사라지기전 기록된 채널의 전체 비디오\n",
    "조회수의 합\n",
    "- on_channel_total_videos\t인기 동영상에서 처음 기록된 채널의 비디오 개수\n",
    "- off_channel_total_videos\t인기 동영상에서 사라지기전 기록된 채널의 비디오 개수\n"
   ]
  },
  {
   "cell_type": "markdown",
   "metadata": {},
   "source": [
    "## EDA & Preprocess"
   ]
  },
  {
   "cell_type": "code",
   "execution_count": 1,
   "metadata": {},
   "outputs": [],
   "source": [
    "import numpy as np\n",
    "import pandas as pd\n",
    "import matplotlib as mpl\n",
    "import matplotlib.pyplot as plt\n",
    "import seaborn as sns\n",
    "import warnings; \n",
    "warnings.filterwarnings(action='ignore')\n",
    "\n",
    "\n",
    "# warning 삭제용\n",
    "from matplotlib.axes._axes import _log as matplotlib_axes_logger\n",
    "matplotlib_axes_logger.setLevel('ERROR')"
   ]
  },
  {
   "cell_type": "code",
   "execution_count": 2,
   "metadata": {},
   "outputs": [
    {
     "data": {
      "text/html": [
       "<div>\n",
       "<style scoped>\n",
       "    .dataframe tbody tr th:only-of-type {\n",
       "        vertical-align: middle;\n",
       "    }\n",
       "\n",
       "    .dataframe tbody tr th {\n",
       "        vertical-align: top;\n",
       "    }\n",
       "\n",
       "    .dataframe thead th {\n",
       "        text-align: right;\n",
       "    }\n",
       "</style>\n",
       "<table border=\"1\" class=\"dataframe\">\n",
       "  <thead>\n",
       "    <tr style=\"text-align: right;\">\n",
       "      <th></th>\n",
       "      <th>video_id</th>\n",
       "      <th>channel_id</th>\n",
       "      <th>published_date</th>\n",
       "      <th>category_name</th>\n",
       "      <th>duration</th>\n",
       "      <th>tags</th>\n",
       "      <th>description</th>\n",
       "      <th>on_trending_date</th>\n",
       "      <th>off_trending_date</th>\n",
       "      <th>on_rank</th>\n",
       "      <th>...</th>\n",
       "      <th>on_dislikes</th>\n",
       "      <th>off_dislikes</th>\n",
       "      <th>on_comments</th>\n",
       "      <th>off_comments</th>\n",
       "      <th>on_channel_subscribers</th>\n",
       "      <th>off_channel_subscribers</th>\n",
       "      <th>on_channel_total_views</th>\n",
       "      <th>off_channel_total_views</th>\n",
       "      <th>on_channel_total_videos</th>\n",
       "      <th>off_channel_total_videos</th>\n",
       "    </tr>\n",
       "  </thead>\n",
       "  <tbody>\n",
       "    <tr>\n",
       "      <th>0</th>\n",
       "      <td>V-0db</td>\n",
       "      <td>CH49ta0</td>\n",
       "      <td>2021-07-01</td>\n",
       "      <td>Entertainment</td>\n",
       "      <td>PT8M20S</td>\n",
       "      <td>SiriusXM|Sirius XM|Sirius|SXM|BIGHIT|빅히트|방탄소년단...</td>\n",
       "      <td>BTS performs their hit songs ‘Dynamite’ and ‘B...</td>\n",
       "      <td>2021-07-03</td>\n",
       "      <td>2021-07-04</td>\n",
       "      <td>13</td>\n",
       "      <td>...</td>\n",
       "      <td>792</td>\n",
       "      <td>1014</td>\n",
       "      <td>10373</td>\n",
       "      <td>10720</td>\n",
       "      <td>1080000</td>\n",
       "      <td>1080000</td>\n",
       "      <td>685992413</td>\n",
       "      <td>687485021</td>\n",
       "      <td>5947</td>\n",
       "      <td>5950</td>\n",
       "    </tr>\n",
       "    <tr>\n",
       "      <th>1</th>\n",
       "      <td>V-1XL</td>\n",
       "      <td>CHZVD--</td>\n",
       "      <td>2021-06-24</td>\n",
       "      <td>Entertainment</td>\n",
       "      <td>PT9M17S</td>\n",
       "      <td>치킨불냉면|치킨|불냉면|냉면</td>\n",
       "      <td>영상에 나오는 캐릭터의 이름은 파도비 입니다. 고양이가 아니라 파란 도깨비입니다. ...</td>\n",
       "      <td>2021-06-26</td>\n",
       "      <td>2021-06-27</td>\n",
       "      <td>28</td>\n",
       "      <td>...</td>\n",
       "      <td>121</td>\n",
       "      <td>154</td>\n",
       "      <td>1083</td>\n",
       "      <td>1173</td>\n",
       "      <td>627000</td>\n",
       "      <td>628000</td>\n",
       "      <td>75327083</td>\n",
       "      <td>75685030</td>\n",
       "      <td>70</td>\n",
       "      <td>70</td>\n",
       "    </tr>\n",
       "    <tr>\n",
       "      <th>2</th>\n",
       "      <td>V-4fa</td>\n",
       "      <td>CH9w-h_</td>\n",
       "      <td>2021-07-17</td>\n",
       "      <td>Entertainment</td>\n",
       "      <td>PT7M39S</td>\n",
       "      <td>NaN</td>\n",
       "      <td>거세 구형, 성 충동 제거를 위한 엄벌 치료 VS 인권 보호해야고민 끝에 내린 강요...</td>\n",
       "      <td>2021-07-19</td>\n",
       "      <td>2021-07-22</td>\n",
       "      <td>1</td>\n",
       "      <td>...</td>\n",
       "      <td>162</td>\n",
       "      <td>233</td>\n",
       "      <td>696</td>\n",
       "      <td>1006</td>\n",
       "      <td>5750000</td>\n",
       "      <td>5750000</td>\n",
       "      <td>5424167911</td>\n",
       "      <td>5431617741</td>\n",
       "      <td>34270</td>\n",
       "      <td>34341</td>\n",
       "    </tr>\n",
       "    <tr>\n",
       "      <th>3</th>\n",
       "      <td>V-5ip</td>\n",
       "      <td>CHUQVGX</td>\n",
       "      <td>2021-06-02</td>\n",
       "      <td>Sports</td>\n",
       "      <td>PT6M40S</td>\n",
       "      <td>News Network|SBS SPORTSMUG|SPORTSMUG|스포츠머그|축구|...</td>\n",
       "      <td>세계 최초 9회 연속 올림픽 본선 진출! 그동안 한국 축구의 역사를 써내려 간 올림...</td>\n",
       "      <td>2021-06-04</td>\n",
       "      <td>2021-06-04</td>\n",
       "      <td>18</td>\n",
       "      <td>...</td>\n",
       "      <td>30</td>\n",
       "      <td>30</td>\n",
       "      <td>416</td>\n",
       "      <td>416</td>\n",
       "      <td>94200</td>\n",
       "      <td>94200</td>\n",
       "      <td>71160125</td>\n",
       "      <td>71160125</td>\n",
       "      <td>224</td>\n",
       "      <td>224</td>\n",
       "    </tr>\n",
       "    <tr>\n",
       "      <th>4</th>\n",
       "      <td>V-5jn</td>\n",
       "      <td>CHhI3EX</td>\n",
       "      <td>2021-07-06</td>\n",
       "      <td>Sports</td>\n",
       "      <td>PT11M27S</td>\n",
       "      <td>이천수|심판도전기|축구심판</td>\n",
       "      <td>찾아 뵐 심판분들이 이제 18명정도 남았네요</td>\n",
       "      <td>2021-07-08</td>\n",
       "      <td>2021-07-09</td>\n",
       "      <td>11</td>\n",
       "      <td>...</td>\n",
       "      <td>112</td>\n",
       "      <td>143</td>\n",
       "      <td>687</td>\n",
       "      <td>772</td>\n",
       "      <td>47600</td>\n",
       "      <td>49200</td>\n",
       "      <td>6993451</td>\n",
       "      <td>7607123</td>\n",
       "      <td>21</td>\n",
       "      <td>21</td>\n",
       "    </tr>\n",
       "  </tbody>\n",
       "</table>\n",
       "<p>5 rows × 25 columns</p>\n",
       "</div>"
      ],
      "text/plain": [
       "  video_id channel_id published_date  category_name  duration  \\\n",
       "0    V-0db    CH49ta0     2021-07-01  Entertainment   PT8M20S   \n",
       "1    V-1XL    CHZVD--     2021-06-24  Entertainment   PT9M17S   \n",
       "2    V-4fa    CH9w-h_     2021-07-17  Entertainment   PT7M39S   \n",
       "3    V-5ip    CHUQVGX     2021-06-02         Sports   PT6M40S   \n",
       "4    V-5jn    CHhI3EX     2021-07-06         Sports  PT11M27S   \n",
       "\n",
       "                                                tags  \\\n",
       "0  SiriusXM|Sirius XM|Sirius|SXM|BIGHIT|빅히트|방탄소년단...   \n",
       "1                                    치킨불냉면|치킨|불냉면|냉면   \n",
       "2                                                NaN   \n",
       "3  News Network|SBS SPORTSMUG|SPORTSMUG|스포츠머그|축구|...   \n",
       "4                                     이천수|심판도전기|축구심판   \n",
       "\n",
       "                                         description on_trending_date  \\\n",
       "0  BTS performs their hit songs ‘Dynamite’ and ‘B...       2021-07-03   \n",
       "1  영상에 나오는 캐릭터의 이름은 파도비 입니다. 고양이가 아니라 파란 도깨비입니다. ...       2021-06-26   \n",
       "2  거세 구형, 성 충동 제거를 위한 엄벌 치료 VS 인권 보호해야고민 끝에 내린 강요...       2021-07-19   \n",
       "3  세계 최초 9회 연속 올림픽 본선 진출! 그동안 한국 축구의 역사를 써내려 간 올림...       2021-06-04   \n",
       "4                           찾아 뵐 심판분들이 이제 18명정도 남았네요       2021-07-08   \n",
       "\n",
       "  off_trending_date  on_rank  ...  on_dislikes  off_dislikes  on_comments  \\\n",
       "0        2021-07-04       13  ...          792          1014        10373   \n",
       "1        2021-06-27       28  ...          121           154         1083   \n",
       "2        2021-07-22        1  ...          162           233          696   \n",
       "3        2021-06-04       18  ...           30            30          416   \n",
       "4        2021-07-09       11  ...          112           143          687   \n",
       "\n",
       "   off_comments  on_channel_subscribers  off_channel_subscribers  \\\n",
       "0         10720                 1080000                  1080000   \n",
       "1          1173                  627000                   628000   \n",
       "2          1006                 5750000                  5750000   \n",
       "3           416                   94200                    94200   \n",
       "4           772                   47600                    49200   \n",
       "\n",
       "   on_channel_total_views  off_channel_total_views  on_channel_total_videos  \\\n",
       "0               685992413                687485021                     5947   \n",
       "1                75327083                 75685030                       70   \n",
       "2              5424167911               5431617741                    34270   \n",
       "3                71160125                 71160125                      224   \n",
       "4                 6993451                  7607123                       21   \n",
       "\n",
       "   off_channel_total_videos  \n",
       "0                      5950  \n",
       "1                        70  \n",
       "2                     34341  \n",
       "3                       224  \n",
       "4                        21  \n",
       "\n",
       "[5 rows x 25 columns]"
      ]
     },
     "execution_count": 2,
     "metadata": {},
     "output_type": "execute_result"
    }
   ],
   "source": [
    "df = pd.read_csv('data/pretest_data.csv')\n",
    "df.head()"
   ]
  },
  {
   "cell_type": "markdown",
   "metadata": {},
   "source": [
    "### 중복 record 처리"
   ]
  },
  {
   "cell_type": "code",
   "execution_count": 3,
   "metadata": {},
   "outputs": [
    {
     "data": {
      "text/html": [
       "<div>\n",
       "<style scoped>\n",
       "    .dataframe tbody tr th:only-of-type {\n",
       "        vertical-align: middle;\n",
       "    }\n",
       "\n",
       "    .dataframe tbody tr th {\n",
       "        vertical-align: top;\n",
       "    }\n",
       "\n",
       "    .dataframe thead th {\n",
       "        text-align: right;\n",
       "    }\n",
       "</style>\n",
       "<table border=\"1\" class=\"dataframe\">\n",
       "  <thead>\n",
       "    <tr style=\"text-align: right;\">\n",
       "      <th></th>\n",
       "      <th>video_id</th>\n",
       "      <th>channel_id</th>\n",
       "      <th>category_name</th>\n",
       "    </tr>\n",
       "  </thead>\n",
       "  <tbody>\n",
       "    <tr>\n",
       "      <th>count</th>\n",
       "      <td>2644</td>\n",
       "      <td>2644</td>\n",
       "      <td>2644</td>\n",
       "    </tr>\n",
       "    <tr>\n",
       "      <th>unique</th>\n",
       "      <td>2643</td>\n",
       "      <td>940</td>\n",
       "      <td>15</td>\n",
       "    </tr>\n",
       "    <tr>\n",
       "      <th>top</th>\n",
       "      <td>VBSBm</td>\n",
       "      <td>CHQ2O-i</td>\n",
       "      <td>Entertainment</td>\n",
       "    </tr>\n",
       "    <tr>\n",
       "      <th>freq</th>\n",
       "      <td>2</td>\n",
       "      <td>17</td>\n",
       "      <td>954</td>\n",
       "    </tr>\n",
       "  </tbody>\n",
       "</table>\n",
       "</div>"
      ],
      "text/plain": [
       "       video_id channel_id  category_name\n",
       "count      2644       2644           2644\n",
       "unique     2643        940             15\n",
       "top       VBSBm    CHQ2O-i  Entertainment\n",
       "freq          2         17            954"
      ]
     },
     "execution_count": 3,
     "metadata": {},
     "output_type": "execute_result"
    }
   ],
   "source": [
    "### 주요변수 선택\n",
    "\n",
    "df[['video_id','channel_id','category_name']].describe()"
   ]
  },
  {
   "cell_type": "markdown",
   "metadata": {},
   "source": [
    "- video_id의 unique value가 전체 count 보다 1개 모자라므로 video_id가 중복된 것으로 보임 "
   ]
  },
  {
   "cell_type": "code",
   "execution_count": 4,
   "metadata": {},
   "outputs": [
    {
     "data": {
      "text/html": [
       "<div>\n",
       "<style scoped>\n",
       "    .dataframe tbody tr th:only-of-type {\n",
       "        vertical-align: middle;\n",
       "    }\n",
       "\n",
       "    .dataframe tbody tr th {\n",
       "        vertical-align: top;\n",
       "    }\n",
       "\n",
       "    .dataframe thead th {\n",
       "        text-align: right;\n",
       "    }\n",
       "</style>\n",
       "<table border=\"1\" class=\"dataframe\">\n",
       "  <thead>\n",
       "    <tr style=\"text-align: right;\">\n",
       "      <th></th>\n",
       "      <th>video_id</th>\n",
       "      <th>channel_id</th>\n",
       "      <th>published_date</th>\n",
       "      <th>category_name</th>\n",
       "      <th>duration</th>\n",
       "      <th>tags</th>\n",
       "      <th>description</th>\n",
       "      <th>on_trending_date</th>\n",
       "      <th>off_trending_date</th>\n",
       "      <th>on_rank</th>\n",
       "      <th>...</th>\n",
       "      <th>on_dislikes</th>\n",
       "      <th>off_dislikes</th>\n",
       "      <th>on_comments</th>\n",
       "      <th>off_comments</th>\n",
       "      <th>on_channel_subscribers</th>\n",
       "      <th>off_channel_subscribers</th>\n",
       "      <th>on_channel_total_views</th>\n",
       "      <th>off_channel_total_views</th>\n",
       "      <th>on_channel_total_videos</th>\n",
       "      <th>off_channel_total_videos</th>\n",
       "    </tr>\n",
       "  </thead>\n",
       "  <tbody>\n",
       "    <tr>\n",
       "      <th>535</th>\n",
       "      <td>VBSBm</td>\n",
       "      <td>CHF4Wxd</td>\n",
       "      <td>2021-07-09</td>\n",
       "      <td>News &amp; Politics</td>\n",
       "      <td>PT1M56S</td>\n",
       "      <td>MBC|MBC뉴스|뉴스데스크|newsdesk|뉴스투데이|newstoday|8시뉴스|...</td>\n",
       "      <td>전남 순천의 한 어린이집에서 원생을 마중 나온 선생님이 경사로에 밀린 학부모의 차량...</td>\n",
       "      <td>2021-07-11</td>\n",
       "      <td>2021-07-14</td>\n",
       "      <td>3</td>\n",
       "      <td>...</td>\n",
       "      <td>625</td>\n",
       "      <td>765</td>\n",
       "      <td>16067</td>\n",
       "      <td>17655</td>\n",
       "      <td>1430000</td>\n",
       "      <td>1440000</td>\n",
       "      <td>3130819202</td>\n",
       "      <td>3151554338</td>\n",
       "      <td>112154</td>\n",
       "      <td>112456</td>\n",
       "    </tr>\n",
       "  </tbody>\n",
       "</table>\n",
       "<p>1 rows × 25 columns</p>\n",
       "</div>"
      ],
      "text/plain": [
       "    video_id channel_id published_date    category_name duration  \\\n",
       "535    VBSBm    CHF4Wxd     2021-07-09  News & Politics  PT1M56S   \n",
       "\n",
       "                                                  tags  \\\n",
       "535  MBC|MBC뉴스|뉴스데스크|newsdesk|뉴스투데이|newstoday|8시뉴스|...   \n",
       "\n",
       "                                           description on_trending_date  \\\n",
       "535  전남 순천의 한 어린이집에서 원생을 마중 나온 선생님이 경사로에 밀린 학부모의 차량...       2021-07-11   \n",
       "\n",
       "    off_trending_date  on_rank  ...  on_dislikes  off_dislikes  on_comments  \\\n",
       "535        2021-07-14        3  ...          625           765        16067   \n",
       "\n",
       "     off_comments  on_channel_subscribers  off_channel_subscribers  \\\n",
       "535         17655                 1430000                  1440000   \n",
       "\n",
       "     on_channel_total_views  off_channel_total_views  on_channel_total_videos  \\\n",
       "535              3130819202               3151554338                   112154   \n",
       "\n",
       "     off_channel_total_videos  \n",
       "535                    112456  \n",
       "\n",
       "[1 rows x 25 columns]"
      ]
     },
     "execution_count": 4,
     "metadata": {},
     "output_type": "execute_result"
    }
   ],
   "source": [
    "df[df.duplicated(['video_id'])]"
   ]
  },
  {
   "cell_type": "code",
   "execution_count": 5,
   "metadata": {},
   "outputs": [
    {
     "data": {
      "text/html": [
       "<div>\n",
       "<style scoped>\n",
       "    .dataframe tbody tr th:only-of-type {\n",
       "        vertical-align: middle;\n",
       "    }\n",
       "\n",
       "    .dataframe tbody tr th {\n",
       "        vertical-align: top;\n",
       "    }\n",
       "\n",
       "    .dataframe thead th {\n",
       "        text-align: right;\n",
       "    }\n",
       "</style>\n",
       "<table border=\"1\" class=\"dataframe\">\n",
       "  <thead>\n",
       "    <tr style=\"text-align: right;\">\n",
       "      <th></th>\n",
       "      <th>video_id</th>\n",
       "      <th>channel_id</th>\n",
       "      <th>published_date</th>\n",
       "      <th>category_name</th>\n",
       "      <th>duration</th>\n",
       "      <th>tags</th>\n",
       "      <th>description</th>\n",
       "      <th>on_trending_date</th>\n",
       "      <th>off_trending_date</th>\n",
       "      <th>on_rank</th>\n",
       "      <th>...</th>\n",
       "      <th>on_dislikes</th>\n",
       "      <th>off_dislikes</th>\n",
       "      <th>on_comments</th>\n",
       "      <th>off_comments</th>\n",
       "      <th>on_channel_subscribers</th>\n",
       "      <th>off_channel_subscribers</th>\n",
       "      <th>on_channel_total_views</th>\n",
       "      <th>off_channel_total_views</th>\n",
       "      <th>on_channel_total_videos</th>\n",
       "      <th>off_channel_total_videos</th>\n",
       "    </tr>\n",
       "  </thead>\n",
       "  <tbody>\n",
       "    <tr>\n",
       "      <th>534</th>\n",
       "      <td>VBSBm</td>\n",
       "      <td>CH0VR2v</td>\n",
       "      <td>2021-05-07</td>\n",
       "      <td>Entertainment</td>\n",
       "      <td>PT11M6S</td>\n",
       "      <td>요리|레시피|육식|고기|육식맨|고기요리|YOOXICMAN|짜장면|자장면|짜장|고기짜...</td>\n",
       "      <td>※ 오늘 영상에 등장하는 모든 식재료, 조리도구, 업장, TV프로그램, 브랜드, 서...</td>\n",
       "      <td>2021-05-09</td>\n",
       "      <td>2021-05-10</td>\n",
       "      <td>40</td>\n",
       "      <td>...</td>\n",
       "      <td>156</td>\n",
       "      <td>187</td>\n",
       "      <td>1458</td>\n",
       "      <td>1568</td>\n",
       "      <td>652000</td>\n",
       "      <td>652000</td>\n",
       "      <td>94094934</td>\n",
       "      <td>94383615</td>\n",
       "      <td>90</td>\n",
       "      <td>90</td>\n",
       "    </tr>\n",
       "    <tr>\n",
       "      <th>535</th>\n",
       "      <td>VBSBm</td>\n",
       "      <td>CHF4Wxd</td>\n",
       "      <td>2021-07-09</td>\n",
       "      <td>News &amp; Politics</td>\n",
       "      <td>PT1M56S</td>\n",
       "      <td>MBC|MBC뉴스|뉴스데스크|newsdesk|뉴스투데이|newstoday|8시뉴스|...</td>\n",
       "      <td>전남 순천의 한 어린이집에서 원생을 마중 나온 선생님이 경사로에 밀린 학부모의 차량...</td>\n",
       "      <td>2021-07-11</td>\n",
       "      <td>2021-07-14</td>\n",
       "      <td>3</td>\n",
       "      <td>...</td>\n",
       "      <td>625</td>\n",
       "      <td>765</td>\n",
       "      <td>16067</td>\n",
       "      <td>17655</td>\n",
       "      <td>1430000</td>\n",
       "      <td>1440000</td>\n",
       "      <td>3130819202</td>\n",
       "      <td>3151554338</td>\n",
       "      <td>112154</td>\n",
       "      <td>112456</td>\n",
       "    </tr>\n",
       "  </tbody>\n",
       "</table>\n",
       "<p>2 rows × 25 columns</p>\n",
       "</div>"
      ],
      "text/plain": [
       "    video_id channel_id published_date    category_name duration  \\\n",
       "534    VBSBm    CH0VR2v     2021-05-07    Entertainment  PT11M6S   \n",
       "535    VBSBm    CHF4Wxd     2021-07-09  News & Politics  PT1M56S   \n",
       "\n",
       "                                                  tags  \\\n",
       "534  요리|레시피|육식|고기|육식맨|고기요리|YOOXICMAN|짜장면|자장면|짜장|고기짜...   \n",
       "535  MBC|MBC뉴스|뉴스데스크|newsdesk|뉴스투데이|newstoday|8시뉴스|...   \n",
       "\n",
       "                                           description on_trending_date  \\\n",
       "534  ※ 오늘 영상에 등장하는 모든 식재료, 조리도구, 업장, TV프로그램, 브랜드, 서...       2021-05-09   \n",
       "535  전남 순천의 한 어린이집에서 원생을 마중 나온 선생님이 경사로에 밀린 학부모의 차량...       2021-07-11   \n",
       "\n",
       "    off_trending_date  on_rank  ...  on_dislikes  off_dislikes  on_comments  \\\n",
       "534        2021-05-10       40  ...          156           187         1458   \n",
       "535        2021-07-14        3  ...          625           765        16067   \n",
       "\n",
       "     off_comments  on_channel_subscribers  off_channel_subscribers  \\\n",
       "534          1568                  652000                   652000   \n",
       "535         17655                 1430000                  1440000   \n",
       "\n",
       "     on_channel_total_views  off_channel_total_views  on_channel_total_videos  \\\n",
       "534                94094934                 94383615                       90   \n",
       "535              3130819202               3151554338                   112154   \n",
       "\n",
       "     off_channel_total_videos  \n",
       "534                        90  \n",
       "535                    112456  \n",
       "\n",
       "[2 rows x 25 columns]"
      ]
     },
     "execution_count": 5,
     "metadata": {},
     "output_type": "execute_result"
    }
   ],
   "source": [
    "df[df['video_id']=='VBSBm']"
   ]
  },
  {
   "cell_type": "markdown",
   "metadata": {},
   "source": [
    "video_id가 중복된 두 레코드가 내용상 서로 다르기에 이후 분석은 아래쪽 레코드의 video_id값을 변경하여 진행함\n"
   ]
  },
  {
   "cell_type": "code",
   "execution_count": 6,
   "metadata": {},
   "outputs": [],
   "source": [
    "cond = (df['video_id']=='VBSBm') & (df['category_name']=='News & Politics')\n",
    "df.loc[cond,'video_id'] = 'VBSBm_News_Politics'"
   ]
  },
  {
   "cell_type": "code",
   "execution_count": 7,
   "metadata": {},
   "outputs": [
    {
     "data": {
      "text/html": [
       "<div>\n",
       "<style scoped>\n",
       "    .dataframe tbody tr th:only-of-type {\n",
       "        vertical-align: middle;\n",
       "    }\n",
       "\n",
       "    .dataframe tbody tr th {\n",
       "        vertical-align: top;\n",
       "    }\n",
       "\n",
       "    .dataframe thead th {\n",
       "        text-align: right;\n",
       "    }\n",
       "</style>\n",
       "<table border=\"1\" class=\"dataframe\">\n",
       "  <thead>\n",
       "    <tr style=\"text-align: right;\">\n",
       "      <th></th>\n",
       "      <th>video_id</th>\n",
       "      <th>channel_id</th>\n",
       "      <th>category_name</th>\n",
       "    </tr>\n",
       "  </thead>\n",
       "  <tbody>\n",
       "    <tr>\n",
       "      <th>count</th>\n",
       "      <td>2644</td>\n",
       "      <td>2644</td>\n",
       "      <td>2644</td>\n",
       "    </tr>\n",
       "    <tr>\n",
       "      <th>unique</th>\n",
       "      <td>2644</td>\n",
       "      <td>940</td>\n",
       "      <td>15</td>\n",
       "    </tr>\n",
       "    <tr>\n",
       "      <th>top</th>\n",
       "      <td>V-0db</td>\n",
       "      <td>CHQ2O-i</td>\n",
       "      <td>Entertainment</td>\n",
       "    </tr>\n",
       "    <tr>\n",
       "      <th>freq</th>\n",
       "      <td>1</td>\n",
       "      <td>17</td>\n",
       "      <td>954</td>\n",
       "    </tr>\n",
       "  </tbody>\n",
       "</table>\n",
       "</div>"
      ],
      "text/plain": [
       "       video_id channel_id  category_name\n",
       "count      2644       2644           2644\n",
       "unique     2644        940             15\n",
       "top       V-0db    CHQ2O-i  Entertainment\n",
       "freq          1         17            954"
      ]
     },
     "execution_count": 7,
     "metadata": {},
     "output_type": "execute_result"
    }
   ],
   "source": [
    "df[['video_id','channel_id','category_name']].describe()"
   ]
  },
  {
   "cell_type": "code",
   "execution_count": 8,
   "metadata": {},
   "outputs": [
    {
     "data": {
      "text/html": [
       "<div>\n",
       "<style scoped>\n",
       "    .dataframe tbody tr th:only-of-type {\n",
       "        vertical-align: middle;\n",
       "    }\n",
       "\n",
       "    .dataframe tbody tr th {\n",
       "        vertical-align: top;\n",
       "    }\n",
       "\n",
       "    .dataframe thead th {\n",
       "        text-align: right;\n",
       "    }\n",
       "</style>\n",
       "<table border=\"1\" class=\"dataframe\">\n",
       "  <thead>\n",
       "    <tr style=\"text-align: right;\">\n",
       "      <th></th>\n",
       "      <th>video_id</th>\n",
       "      <th>channel_id</th>\n",
       "      <th>published_date</th>\n",
       "      <th>category_name</th>\n",
       "      <th>duration</th>\n",
       "      <th>tags</th>\n",
       "      <th>description</th>\n",
       "      <th>on_trending_date</th>\n",
       "      <th>off_trending_date</th>\n",
       "      <th>on_rank</th>\n",
       "      <th>...</th>\n",
       "      <th>off_dislikes</th>\n",
       "      <th>on_comments</th>\n",
       "      <th>off_comments</th>\n",
       "      <th>on_channel_subscribers</th>\n",
       "      <th>off_channel_subscribers</th>\n",
       "      <th>on_channel_total_views</th>\n",
       "      <th>off_channel_total_views</th>\n",
       "      <th>on_channel_total_videos</th>\n",
       "      <th>off_channel_total_videos</th>\n",
       "      <th>year_month</th>\n",
       "    </tr>\n",
       "  </thead>\n",
       "  <tbody>\n",
       "    <tr>\n",
       "      <th>535</th>\n",
       "      <td>VBSBm_News_Politics</td>\n",
       "      <td>CHF4Wxd</td>\n",
       "      <td>2021-07-09</td>\n",
       "      <td>News &amp; Politics</td>\n",
       "      <td>PT1M56S</td>\n",
       "      <td>MBC|MBC뉴스|뉴스데스크|newsdesk|뉴스투데이|newstoday|8시뉴스|...</td>\n",
       "      <td>전남 순천의 한 어린이집에서 원생을 마중 나온 선생님이 경사로에 밀린 학부모의 차량...</td>\n",
       "      <td>2021-07-11</td>\n",
       "      <td>2021-07-14</td>\n",
       "      <td>3</td>\n",
       "      <td>...</td>\n",
       "      <td>765</td>\n",
       "      <td>16067</td>\n",
       "      <td>17655</td>\n",
       "      <td>1430000</td>\n",
       "      <td>1440000</td>\n",
       "      <td>3130819202</td>\n",
       "      <td>3151554338</td>\n",
       "      <td>112154</td>\n",
       "      <td>112456</td>\n",
       "      <td>2021-07</td>\n",
       "    </tr>\n",
       "  </tbody>\n",
       "</table>\n",
       "<p>1 rows × 26 columns</p>\n",
       "</div>"
      ],
      "text/plain": [
       "                video_id channel_id published_date    category_name duration  \\\n",
       "535  VBSBm_News_Politics    CHF4Wxd     2021-07-09  News & Politics  PT1M56S   \n",
       "\n",
       "                                                  tags  \\\n",
       "535  MBC|MBC뉴스|뉴스데스크|newsdesk|뉴스투데이|newstoday|8시뉴스|...   \n",
       "\n",
       "                                           description on_trending_date  \\\n",
       "535  전남 순천의 한 어린이집에서 원생을 마중 나온 선생님이 경사로에 밀린 학부모의 차량...       2021-07-11   \n",
       "\n",
       "    off_trending_date  on_rank  ...  off_dislikes  on_comments  off_comments  \\\n",
       "535        2021-07-14        3  ...           765        16067         17655   \n",
       "\n",
       "     on_channel_subscribers  off_channel_subscribers  on_channel_total_views  \\\n",
       "535                 1430000                  1440000              3130819202   \n",
       "\n",
       "     off_channel_total_views  on_channel_total_videos  \\\n",
       "535               3151554338                   112154   \n",
       "\n",
       "     off_channel_total_videos  year_month  \n",
       "535                    112456     2021-07  \n",
       "\n",
       "[1 rows x 26 columns]"
      ]
     },
     "execution_count": 8,
     "metadata": {},
     "output_type": "execute_result"
    }
   ],
   "source": [
    "df[cond]"
   ]
  },
  {
   "cell_type": "markdown",
   "metadata": {},
   "source": [
    "## Q1 Visualization\n",
    "\n",
    "### Ideation\n",
    "\n",
    "- 카테고리단위 로 나눠서 채널별 차트 생성\n",
    "- 색상은 기본차트 제외 다른 걸로\n",
    "\n",
    "### Q1-1 전체 카테고리 채널-> 비디오 개수\n",
    "\n",
    "- Q1. 데이터 타입별 시각화 (자유양식) \n",
    "  - 전체기간 카테고리->채널->비디오 개수\n",
    "  - 월별 카테고리->채널->비디오 개수\n",
    "  - 월별 TOP10 채널 (분류 기준은 비디오 개수)\n",
    "  - 주별 TOP5 채널 (분류 기준은 비디오 개수)\n",
    "  - 월별 카테고리별 태그 키워드 순위\n",
    "- Q2. 각각의 비디오는 시청자의 호응도(engagement)를 판단할수 있는 객관적인 지표들이\n",
    "있음\n",
    "ex) views, likes, dislikes, comments,...\n",
    "  - 비디오를 인기 동영상 기준에 부합하도록 분류할수 있는 새로운 지표를 개발하고\n",
    "  - 이 지표를 사용하여 engagement 와 어떤 상관관계가 있는지 설명하시오."
   ]
  },
  {
   "cell_type": "code",
   "execution_count": 15,
   "metadata": {},
   "outputs": [],
   "source": [
    "#@ Q1 visualization 해결을 위한 class 생성\n",
    "import plotly.express as px\n",
    "import math\n",
    "\n",
    "class YoutubeViz():\n",
    "    def __init__(self,df):\n",
    "        self.df = df\n",
    "        self.df['published_date'] = pd.to_datetime(self.df['published_date'])\n",
    "        self.df['year_month'] = self.df['published_date'].dt.strftime('%Y-%m')\n",
    "        self.df['week_num'] = self.df['published_date'].dt.week\n",
    "        # q1 해결을 위한 요약통계량\n",
    "        self.q1 = self.df[['video_id','category_name','channel_id','year_month','week_num']].groupby(['category_name','channel_id']). \\\n",
    "            count().\\\n",
    "            sort_values(by='video_id',ascending=False).\\\n",
    "            reset_index(drop=False)\n",
    "        # tag list column 생성\n",
    "        self.df['tags_split'] = self.df['tags'].str.split('|')\n",
    "        # 월별 주차 계산\n",
    "        self.df['week_num_month'] = self.df['published_date'].apply(self._week_of_month)\n",
    "        # n월 n주차 변수\n",
    "        self.df['month_week'] = self.df['year_month'].astype(str) + '-'+ self.df['week_num_month'].astype(str)\n",
    "        self.df['month_week'] = self.df['month_week'].apply(lambda x: x.split('-')[1]+\"월 \"+x.split('-')[2]+\"주\")\n",
    "        \n",
    "        \n",
    "    def _week_of_month(self,dt):\n",
    "        first_day = dt.replace(day=1)\n",
    "        dom = dt.day\n",
    "        adjusted_dom = dom + first_day.weekday()\n",
    "    \n",
    "        return int(math.ceil(adjusted_dom/7.0))\n",
    "    \n",
    "    # list of list 형태의 Series를 태그의 개수를 세기 위한 함수\n",
    "    def _count_tag(self,tags:pd.Series):\n",
    "        \"\"\"\n",
    "        series.explode().value_counts() 와 같은 역할\n",
    "        \"\"\"\n",
    "        tags.dropna(inplace=True)\n",
    "        res=pd.Series(sum([item for item in tags], [])).value_counts().sort_values(ascending=False)\n",
    "        \n",
    "        return res\n",
    "    \n",
    "    # 카테고리별 채널별 비디오 개수\n",
    "    def solve_q1_1(self):\n",
    "        fig = px.bar(self.q1, y='video_id',x='channel_id' ,color='category_name',\n",
    "                     orientation='v',barmode='stack',\n",
    "                     color_discrete_sequence=px.colors.qualitative.Dark24,\n",
    "                     text='video_id')\n",
    "        fig.update_layout(title_text='Video Count by Category and Channel',\n",
    "                        xaxis_title='Channel',\n",
    "                        yaxis_title='Video Count',\n",
    "                        width=1600,\n",
    "                        height=800)\n",
    "        fig.write_html('q1_1.html')\n",
    "            \n",
    "        return fig\n",
    "    \n",
    "    # 월별 카테고리별 채널별 비디오 개수\n",
    "    def solve_q1_2(self):\n",
    "        self.q1_2 = self.df[['video_id','category_name','channel_id','year_month']].groupby(['year_month','category_name','channel_id']). \\\n",
    "            count().\\\n",
    "            sort_values(by='video_id', ascending=False).\\\n",
    "            reset_index(drop=False)\n",
    "        fig = px.bar(self.q1_2, y='video_id',x='channel_id' ,color='category_name',facet_row=\"year_month\",\n",
    "                     orientation='v',barmode='stack',facet_col_wrap=2,\n",
    "                     color_discrete_sequence=px.colors.qualitative.Light24,\n",
    "                     text='video_id')\n",
    "\n",
    "        fig.for_each_annotation(lambda a: a.update(text=a.text.split(\"=\")[-1]))\n",
    "        fig.for_each_yaxis(lambda y: y.update(title='Video Count'))\n",
    "        fig.update_layout(title_text='Video Count by Category and Channel by Month',\n",
    "                        xaxis_title='Channel',\n",
    "                        #yaxis_title='Video Count',\n",
    "                        width=1600,\n",
    "                        height=800)\n",
    "        fig.write_html('q1_2.html')\n",
    "        \n",
    "        return fig\n",
    "\n",
    "    # 월별 비디오 개수 기준 Top10 채널\n",
    "    def solve_q1_3(self):\n",
    "        self.q1_3 = self.df[['video_id','category_name','channel_id','year_month']].groupby(['year_month','channel_id','category_name']). \\\n",
    "            count().\\\n",
    "            sort_values(by='video_id', ascending=False).\\\n",
    "            reset_index(drop=False)\n",
    "        top10 = self.q1_3.sort_values(['year_month','video_id'],ascending=[True,False]).groupby('year_month'). \\\n",
    "            head(10)\n",
    "        fig = px.bar(top10, y='video_id',x='channel_id' ,facet_col=\"year_month\",color='category_name',color_discrete_sequence=px.colors.qualitative.Dark24,text='video_id')\n",
    "        fig.for_each_annotation(lambda a: a.update(text=a.text.split(\"=\")[-1]))\n",
    "        fig.update_xaxes(showticklabels=True , matches=None)\n",
    "        fig.update_layout(title_text='Top 10 Channel by Month',\n",
    "                          yaxis_title='Video Count',\n",
    "                          xaxis_title=None)\n",
    "        fig.write_html('q1_3.html')\n",
    "    \n",
    "        return fig\n",
    "        \n",
    "    # 주별 비디오 개수 기준 Top5 채널\n",
    "    def solve_q1_4(self):\n",
    "        self.q1_4 = self.df[['video_id','category_name','channel_id','week_num','month_week']].groupby(['month_week','week_num','channel_id','category_name']). \\\n",
    "            count().\\\n",
    "            sort_values(by='video_id',ascending=False).\\\n",
    "            reset_index(drop=False) \n",
    "        top5=self.q1_4.sort_values(['month_week','video_id'],ascending=[True,False]).groupby('month_week'). \\\n",
    "            head(5)\n",
    "        fig = px.bar(top5, y='video_id',x='channel_id' ,facet_col=\"month_week\",text='video_id',color='category_name',color_discrete_sequence=px.colors.qualitative.Dark24)\n",
    "        fig.for_each_annotation(lambda a: a.update(text=a.text.split(\"=\")[-1]))\n",
    "        fig.for_each_xaxis(lambda x: x.update(title='Channel'))\n",
    "        fig.update_xaxes(showticklabels=True , matches=None)\n",
    "        #fig.update_xaxes(showticklabels=True , matches=None)\n",
    "        # hide the x-axis title\n",
    "        fig.update_layout(title_text='Top 5 Channel by Week',\n",
    "                          yaxis_title='Video Count',\n",
    "                          xaxis_title=None)\n",
    "        fig.write_html('q1_4.html')\n",
    "        \n",
    "    \n",
    "        \n",
    "        return fig\n",
    "    \n",
    "\n",
    "    # 월별 카테고리별 태그 키워드 순위 시각화\n",
    "    def solve_q1_5(self):\n",
    "        q1_5 = self.df.groupby(['year_month','category_name'])['tags_split'].apply(self._count_tag).reset_index()\n",
    "        q1_5.sort_values(['year_month','category_name','tags_split'],ascending=[True,True,False],inplace=True)\n",
    "        q1_5_viz=q1_5.groupby(['year_month','category_name']).head(5)\n",
    "        \n",
    "        fig_tag = px.bar(q1_5_viz, y='tags_split',x='level_2' ,facet_col=\"year_month\", facet_row=\"category_name\",\n",
    "                 labels={'year_month':'Year-Month','category_name':'Category','tags_split':'Tag Count','level_2':'Tag'},text='tags_split')\n",
    "        fig_tag.for_each_annotation(lambda a: a.update(text=a.text.split(\"=\")[-1]))\n",
    "        fig_tag.for_each_annotation(lambda a: a.update(borderpad=29,borderwidth=15, font= dict(size=15,color='black')))\n",
    "        # annotation category position\n",
    "        fig_tag.update_xaxes(showticklabels=True , matches=None)\n",
    "        fig_tag.update_layout(title_text='',\n",
    "                      # yaxis margin\n",
    "                      yaxis = dict(automargin=True),\n",
    "                      # annotaion margin\n",
    "                      margin=dict(l=80,r=80,b=80,t=80),\n",
    "                      width=1600,\n",
    "                      height=2400)\n",
    "        #fig_tag.update_layout(title_pad=dict(t=5,l=10,b=50,r=10))\n",
    "        fig_tag.write_image('q1_5.png')\n",
    "        \n",
    "        \n",
    "        return fig_tag\n",
    "            \n"
   ]
  },
  {
   "cell_type": "code",
   "execution_count": 16,
   "metadata": {},
   "outputs": [],
   "source": [
    "youtube_viz = YoutubeViz(df)"
   ]
  },
  {
   "cell_type": "markdown",
   "metadata": {},
   "source": [
    "### Q1-1 카테고리별 채널별 비디오 개수\n",
    "\n"
   ]
  },
  {
   "cell_type": "code",
   "execution_count": 42,
   "metadata": {},
   "outputs": [
    {
     "data": {
      "application/vnd.plotly.v1+json": {
       "config": {
        "plotlyServerURL": "https://plot.ly"
       },
       "data": [
        {
         "alignmentgroup": "True",
         "hovertemplate": "category_name=Entertainment<br>channel_id=%{x}<br>video_id=%{text}<extra></extra>",
         "legendgroup": "Entertainment",
         "marker": {
          "color": "#2E91E5",
          "pattern": {
           "shape": ""
          }
         },
         "name": "Entertainment",
         "offsetgroup": "Entertainment",
         "orientation": "v",
         "showlegend": true,
         "text": [
          17,
          14,
          14,
          11,
          10,
          10,
          9,
          9,
          9,
          9,
          8,
          8,
          8,
          8,
          8,
          8,
          8,
          8,
          8,
          8,
          7,
          7,
          7,
          7,
          7,
          7,
          7,
          7,
          7,
          7,
          7,
          7,
          7,
          6,
          6,
          6,
          6,
          6,
          6,
          6,
          6,
          6,
          6,
          6,
          6,
          6,
          6,
          5,
          5,
          5,
          5,
          5,
          5,
          5,
          5,
          5,
          5,
          5,
          5,
          5,
          5,
          5,
          5,
          5,
          5,
          5,
          5,
          5,
          5,
          5,
          4,
          4,
          4,
          4,
          4,
          4,
          4,
          4,
          4,
          4,
          4,
          4,
          4,
          4,
          4,
          4,
          4,
          4,
          4,
          4,
          4,
          4,
          4,
          4,
          4,
          4,
          4,
          4,
          3,
          3,
          3,
          3,
          3,
          3,
          3,
          3,
          3,
          3,
          3,
          3,
          3,
          3,
          3,
          3,
          3,
          3,
          3,
          3,
          3,
          3,
          3,
          3,
          3,
          3,
          3,
          3,
          3,
          3,
          3,
          3,
          3,
          3,
          3,
          3,
          3,
          3,
          3,
          3,
          3,
          3,
          3,
          3,
          2,
          2,
          2,
          2,
          2,
          2,
          2,
          2,
          2,
          2,
          2,
          2,
          2,
          2,
          2,
          2,
          2,
          2,
          2,
          2,
          2,
          2,
          2,
          2,
          2,
          2,
          2,
          2,
          2,
          2,
          2,
          2,
          2,
          2,
          2,
          2,
          2,
          2,
          2,
          2,
          2,
          2,
          2,
          2,
          2,
          2,
          2,
          2,
          2,
          2,
          2,
          2,
          2,
          2,
          2,
          2,
          2,
          2,
          1,
          1,
          1,
          1,
          1,
          1,
          1,
          1,
          1,
          1,
          1,
          1,
          1,
          1,
          1,
          1,
          1,
          1,
          1,
          1,
          1,
          1,
          1,
          1,
          1,
          1,
          1,
          1,
          1,
          1,
          1,
          1,
          1,
          1,
          1,
          1,
          1,
          1,
          1,
          1,
          1,
          1,
          1,
          1,
          1,
          1,
          1,
          1,
          1,
          1,
          1,
          1,
          1,
          1,
          1,
          1,
          1,
          1,
          1,
          1,
          1,
          1,
          1,
          1,
          1,
          1,
          1,
          1,
          1,
          1,
          1,
          1,
          1,
          1,
          1,
          1,
          1,
          1,
          1,
          1,
          1,
          1,
          1,
          1,
          1,
          1,
          1,
          1,
          1,
          1,
          1,
          1,
          1,
          1,
          1,
          1,
          1,
          1,
          1,
          1,
          1,
          1,
          1,
          1,
          1,
          1,
          1,
          1,
          1,
          1,
          1,
          1
         ],
         "textposition": "auto",
         "type": "bar",
         "x": [
          "CHQ2O-i",
          "CHlzB2i",
          "CHiwQRG",
          "CHaKod3",
          "CHx6jsZ",
          "CHUyfkq",
          "CHkxbPw",
          "CH0PsUG",
          "CH0VR2v",
          "CHpjm6R",
          "CHPx-7A",
          "CHwx6n_",
          "CHEwOn7",
          "CHKxLXX",
          "CHk6bX-",
          "CHVWmCR",
          "CHhgOgR",
          "CHy-swB",
          "CHWYzc_",
          "CHmjNKt",
          "CHwNVDl",
          "CH1L79y",
          "CHIUfR-",
          "CHbCr1d",
          "CH78PMQ",
          "CHtDcEb",
          "CHiBKp3",
          "CHFL1sC",
          "CHyozK5",
          "CHqHP70",
          "CHZf4ZE",
          "CHqq-ov",
          "CHnx4Fi",
          "CHsRIHt",
          "CHIA-LP",
          "CH3re3u",
          "CHCfQK8",
          "CH8OUSY",
          "CHEIi7z",
          "CH1cWTE",
          "CHcOYEm",
          "CHYtjW8",
          "CHhE5nZ",
          "CHPde4g",
          "CHOHM2N",
          "CHNIiH_",
          "CHbD8Ep",
          "CH920m3",
          "CHdWgRS",
          "CHeSHil",
          "CHYyLIl",
          "CHJmcPV",
          "CHYZv9v",
          "CHnLeqv",
          "CHXZx95",
          "CHK1sVu",
          "CHExw7_",
          "CHTuthm",
          "CHTnafh",
          "CHQNRHp",
          "CHHzW_7",
          "CHiEEF5",
          "CHj-dur",
          "CH3SyT4",
          "CHriPmQ",
          "CHs1R9z",
          "CHs8R3n",
          "CH2E-9A",
          "CH6erID",
          "CH5Ida8",
          "CHxQXvv",
          "CH9idb-",
          "CH5bUcn",
          "CHy-NrX",
          "CHoXoV4",
          "CHTQVIX",
          "CHRMA_N",
          "CHweOkP",
          "CHXaYpH",
          "CHmbGE7",
          "CHybPxZ",
          "CHbuks6",
          "CHbEp_Z",
          "CHZVD--",
          "CHpPXYy",
          "CH9HNi_",
          "CHYn09y",
          "CHYgUhR",
          "CHy1fru",
          "CHhY4PX",
          "CHObJpv",
          "CHm2PiW",
          "CHMGn0N",
          "CHrSase",
          "CH46BbE",
          "CHiBr0b",
          "CHF3UEV",
          "CHF8W68",
          "CHkbJc8",
          "CHmONdw",
          "CHsNVs6",
          "CHmgt7e",
          "CHr0ade",
          "CHsOW9T",
          "CHi9Sl8",
          "CHepUWU",
          "CHk5bhZ",
          "CHoCvTl",
          "CHoUDrz",
          "CHuTKrQ",
          "CHrhH1d",
          "CHhLGxP",
          "CHgsffS",
          "CHgiO7K",
          "CHgeeQu",
          "CHgZlBR",
          "CHjGoJb",
          "CHjToDB",
          "CHtckgm",
          "CHkjXq1",
          "CH-VbFg",
          "CH2qjHK",
          "CH3m0s5",
          "CH8WoHU",
          "CH9nLq3",
          "CHDb1t5",
          "CHEI4rb",
          "CHEX1cZ",
          "CHGrfaH",
          "CHGsJRp",
          "CHH1oRy",
          "CHUnSdg",
          "CHWhiqH",
          "CHY2uWQ",
          "CHZCH_G",
          "CH_Fxf0",
          "CH_pOKL",
          "CHaNGiz",
          "CHKdfNL",
          "CHLVwgJ",
          "CHIueAL",
          "CHIY5oU",
          "CHB9e3p",
          "CH-BqPA",
          "CH_plsx",
          "CHaZS_X",
          "CHb-y7Y",
          "CHbVRtq",
          "CHcTWmz",
          "CH73yn5",
          "CHe-gh0",
          "CHem8l1",
          "CHfWZns",
          "CHg3Ydm",
          "CH68buD",
          "CHYSjF7",
          "CH2tfQf",
          "CHLynj-",
          "CH2IIBY",
          "CHM31rB",
          "CHMtFAi",
          "CHNQL3R",
          "CH4JAFO",
          "CHR5cyf",
          "CHRLM0M",
          "CH1HHeT",
          "CHS_hnp",
          "CH4nEQI",
          "CHHlSeJ",
          "CH5BMQO",
          "CH-giR4",
          "CHUXYT0",
          "CHUj6rr",
          "CHVyhgR",
          "CHYC3ZZ",
          "CHg8U-Z",
          "CHrhgVH",
          "CHu9BCt",
          "CHudezj",
          "CHvAewW",
          "CHxLc0z",
          "CHxmBxN",
          "CH9w-h_",
          "CHBI8xZ",
          "CHLKugl",
          "CHreX6A",
          "CHoW9qW",
          "CHj28Fv",
          "CHkQCwn",
          "CHDih-8",
          "CHl_tB4",
          "CH81Kll",
          "CHmApNd",
          "CHnNNN_",
          "CHnNfsL",
          "CHoQIdt",
          "CHrLUuZ",
          "CHDhM2k",
          "CHp0hYY",
          "CHod5V2",
          "CHNE1pY",
          "CHOJplh",
          "CHOtCBu",
          "CHOzWaj",
          "CHPECLB",
          "CHPKNKl",
          "CHRWzK4",
          "CHSB5FO",
          "CHSQ55i",
          "CHT2X19",
          "CHTOUUd",
          "CHTS3Lw",
          "CHTmrCB",
          "CHU8MOm",
          "CHVXN28",
          "CHWJg0Q",
          "CHNl-TU",
          "CHLtOnh",
          "CHtgggh",
          "CHLF1hN",
          "CHC1LvV",
          "CHCCjbf",
          "CHEkcg9",
          "CHFg6o2",
          "CHG0Jec",
          "CHGMHKj",
          "CHGWhMp",
          "CHGnfBj",
          "CHGrAnV",
          "CHHcDLO",
          "CHI5WgF",
          "CHIn1p2",
          "CHIuteB",
          "CHK3p1w",
          "CHKuwp5",
          "CHWstBK",
          "CHXiyTP",
          "CHYIxlZ",
          "CHYeeEw",
          "CHfugxK",
          "CHhK2Dh",
          "CHhpiLQ",
          "CHhqMfc",
          "CHiP6DC",
          "CHid83o",
          "CHjkoqt",
          "CHkPp7P",
          "CHpBkdV",
          "CHpK0ae",
          "CHrjVVh",
          "CHrnPse",
          "CHsM07d",
          "CHsU2Rl",
          "CHseQwR",
          "CHfnMSb",
          "CHffY-g",
          "CHfela5",
          "CHb2wZp",
          "CHYmo0H",
          "CHZECMC",
          "CHZTPmB",
          "CHZtpUg",
          "CH_6zPf",
          "CHa56qk",
          "CHbY7nf",
          "CHfdYUR",
          "CHbs5PG",
          "CHchRZl",
          "CHclwLh",
          "CHdUlCa",
          "CHe_oTY",
          "CHed3O-",
          "CHBwCGr",
          "CHBpzJv",
          "CHBOs39",
          "CHB-ogY",
          "CH35HKv",
          "CH3Ea2-",
          "CH3W3kE",
          "CH49ta0",
          "CH4LW3s",
          "CH4qc3p",
          "CH5q0PI",
          "CH5zXl0",
          "CH6wiUw",
          "CH7Krez",
          "CH7QX2Y",
          "CH88r6m",
          "CH8RGSE",
          "CH9kUsu",
          "CHAP8OK",
          "CH2aMxQ",
          "CH2KEmF",
          "CH2DoAr",
          "CH-Jblc",
          "CH-VOS6",
          "CH2DHU9",
          "CH1-lwA",
          "CH12YJZ",
          "CH18g7g",
          "CH1LWEy",
          "CH2-Lri",
          "CH271vX",
          "CHtCW8q",
          "CHtkQiK",
          "CHtp1ok",
          "CHuw1hx",
          "CHvScwM",
          "CHwZTee",
          "CHxjERP",
          "CHybzQL",
          "CHzt24f"
         ],
         "xaxis": "x",
         "y": [
          17,
          14,
          14,
          11,
          10,
          10,
          9,
          9,
          9,
          9,
          8,
          8,
          8,
          8,
          8,
          8,
          8,
          8,
          8,
          8,
          7,
          7,
          7,
          7,
          7,
          7,
          7,
          7,
          7,
          7,
          7,
          7,
          7,
          6,
          6,
          6,
          6,
          6,
          6,
          6,
          6,
          6,
          6,
          6,
          6,
          6,
          6,
          5,
          5,
          5,
          5,
          5,
          5,
          5,
          5,
          5,
          5,
          5,
          5,
          5,
          5,
          5,
          5,
          5,
          5,
          5,
          5,
          5,
          5,
          5,
          4,
          4,
          4,
          4,
          4,
          4,
          4,
          4,
          4,
          4,
          4,
          4,
          4,
          4,
          4,
          4,
          4,
          4,
          4,
          4,
          4,
          4,
          4,
          4,
          4,
          4,
          4,
          4,
          3,
          3,
          3,
          3,
          3,
          3,
          3,
          3,
          3,
          3,
          3,
          3,
          3,
          3,
          3,
          3,
          3,
          3,
          3,
          3,
          3,
          3,
          3,
          3,
          3,
          3,
          3,
          3,
          3,
          3,
          3,
          3,
          3,
          3,
          3,
          3,
          3,
          3,
          3,
          3,
          3,
          3,
          3,
          3,
          2,
          2,
          2,
          2,
          2,
          2,
          2,
          2,
          2,
          2,
          2,
          2,
          2,
          2,
          2,
          2,
          2,
          2,
          2,
          2,
          2,
          2,
          2,
          2,
          2,
          2,
          2,
          2,
          2,
          2,
          2,
          2,
          2,
          2,
          2,
          2,
          2,
          2,
          2,
          2,
          2,
          2,
          2,
          2,
          2,
          2,
          2,
          2,
          2,
          2,
          2,
          2,
          2,
          2,
          2,
          2,
          2,
          2,
          1,
          1,
          1,
          1,
          1,
          1,
          1,
          1,
          1,
          1,
          1,
          1,
          1,
          1,
          1,
          1,
          1,
          1,
          1,
          1,
          1,
          1,
          1,
          1,
          1,
          1,
          1,
          1,
          1,
          1,
          1,
          1,
          1,
          1,
          1,
          1,
          1,
          1,
          1,
          1,
          1,
          1,
          1,
          1,
          1,
          1,
          1,
          1,
          1,
          1,
          1,
          1,
          1,
          1,
          1,
          1,
          1,
          1,
          1,
          1,
          1,
          1,
          1,
          1,
          1,
          1,
          1,
          1,
          1,
          1,
          1,
          1,
          1,
          1,
          1,
          1,
          1,
          1,
          1,
          1,
          1,
          1,
          1,
          1,
          1,
          1,
          1,
          1,
          1,
          1,
          1,
          1,
          1,
          1,
          1,
          1,
          1,
          1,
          1,
          1,
          1,
          1,
          1,
          1,
          1,
          1,
          1,
          1,
          1,
          1,
          1,
          1
         ],
         "yaxis": "y"
        },
        {
         "alignmentgroup": "True",
         "hovertemplate": "category_name=Sports<br>channel_id=%{x}<br>video_id=%{text}<extra></extra>",
         "legendgroup": "Sports",
         "marker": {
          "color": "#E15F99",
          "pattern": {
           "shape": ""
          }
         },
         "name": "Sports",
         "offsetgroup": "Sports",
         "orientation": "v",
         "showlegend": true,
         "text": [
          15,
          12,
          10,
          9,
          8,
          7,
          7,
          7,
          7,
          7,
          6,
          6,
          6,
          6,
          6,
          6,
          5,
          5,
          5,
          5,
          5,
          4,
          4,
          4,
          4,
          3,
          3,
          2,
          2,
          2,
          2,
          2,
          2,
          2,
          2,
          2,
          2,
          2,
          1,
          1,
          1,
          1,
          1,
          1,
          1,
          1,
          1,
          1,
          1,
          1,
          1,
          1,
          1,
          1,
          1,
          1,
          1,
          1,
          1,
          1,
          1,
          1,
          1,
          1,
          1,
          1
         ],
         "textposition": "auto",
         "type": "bar",
         "x": [
          "CHtybqq",
          "CHtm_Qo",
          "CHUQVGX",
          "CHunsfa",
          "CHYRrUD",
          "CHpjOmw",
          "CHdTDdy",
          "CHhg51l",
          "CHnXNuk",
          "CH2qVOO",
          "CHArK9M",
          "CHoLrcj",
          "CHkFGfv",
          "CHk4XjB",
          "CHgp0KT",
          "CHdtRAc",
          "CHdhukF",
          "CHhb4gt",
          "CHoe-0E",
          "CHqsKWT",
          "CHDIB1D",
          "CHQ4eZw",
          "CH218FQ",
          "CHc7o0O",
          "CHcQTRi",
          "CHEg25r",
          "CHZeHMS",
          "CHCA4-e",
          "CHfHsXd",
          "CH7JbUm",
          "CHh4APi",
          "CHhI3EX",
          "CHQ2TX8",
          "CHRDowc",
          "CHvMwK5",
          "CHtctOX",
          "CHn9mJ4",
          "CHoHirU",
          "CH9pdRy",
          "CHG-Q7s",
          "CHD902z",
          "CHET00Y",
          "CHChcWq",
          "CH9LQwH",
          "CHBKMc4",
          "CHI0FxD",
          "CH7YF5m",
          "CHINRJx",
          "CHKHLAo",
          "CHP6Cn6",
          "CHt8iRt",
          "CHt7dVd",
          "CHmKTwX",
          "CHi84e1",
          "CHgIArN",
          "CHbhuEJ",
          "CHZSNhO",
          "CHYJDUe",
          "CHX0xc2",
          "CHUXDKi",
          "CHTv-Xv",
          "CHTqenv",
          "CHPxCAB",
          "CH4yq3F",
          "CH3GEDF",
          "CH4_uws"
         ],
         "xaxis": "x",
         "y": [
          15,
          12,
          10,
          9,
          8,
          7,
          7,
          7,
          7,
          7,
          6,
          6,
          6,
          6,
          6,
          6,
          5,
          5,
          5,
          5,
          5,
          4,
          4,
          4,
          4,
          3,
          3,
          2,
          2,
          2,
          2,
          2,
          2,
          2,
          2,
          2,
          2,
          2,
          1,
          1,
          1,
          1,
          1,
          1,
          1,
          1,
          1,
          1,
          1,
          1,
          1,
          1,
          1,
          1,
          1,
          1,
          1,
          1,
          1,
          1,
          1,
          1,
          1,
          1,
          1,
          1
         ],
         "yaxis": "y"
        },
        {
         "alignmentgroup": "True",
         "hovertemplate": "category_name=Comedy<br>channel_id=%{x}<br>video_id=%{text}<extra></extra>",
         "legendgroup": "Comedy",
         "marker": {
          "color": "#1CA71C",
          "pattern": {
           "shape": ""
          }
         },
         "name": "Comedy",
         "offsetgroup": "Comedy",
         "orientation": "v",
         "showlegend": true,
         "text": [
          14,
          11,
          10,
          9,
          9,
          7,
          7,
          5,
          5,
          5,
          5,
          5,
          5,
          5,
          4,
          4,
          4,
          4,
          3,
          3,
          3,
          3,
          3,
          2,
          2,
          2,
          2,
          2,
          2,
          2,
          1,
          1,
          1,
          1,
          1,
          1,
          1,
          1,
          1,
          1,
          1,
          1,
          1,
          1,
          1,
          1,
          1,
          1,
          1,
          1
         ],
         "textposition": "auto",
         "type": "bar",
         "x": [
          "CHmzMtX",
          "CHhbE5O",
          "CHg-p3l",
          "CHyCL5k",
          "CHZ0dIs",
          "CHGX5sP",
          "CHSc2Dc",
          "CHt_UFh",
          "CHqsPmf",
          "CHgBLs7",
          "CHRykAt",
          "CHR-qpX",
          "CHEUL40",
          "CH9nFMA",
          "CHe9f9M",
          "CH20WKI",
          "CH9ZLv1",
          "CHIuFnJ",
          "CH0SoPw",
          "CH6KwCU",
          "CH8-Th8",
          "CHN8CPz",
          "CHhvXm5",
          "CHzjiRW",
          "CHsJ6Ru",
          "CHghP93",
          "CHVsBCf",
          "CHV3i3l",
          "CHPwGQu",
          "CHK3p1w",
          "CH_gaUd",
          "CHbGXAe",
          "CHd-Sfb",
          "CHfU6o0",
          "CHg8U-Z",
          "CHivkx6",
          "CHmCNgL",
          "CHmHMsJ",
          "CHoe_Vp",
          "CHr9-Mp",
          "CHyh4ZG",
          "CHYACix",
          "CHQmu3U",
          "CHMVC92",
          "CHJpGg1",
          "CH2o_y8",
          "CH69uMh",
          "CHCjJV_",
          "CHD2YO_",
          "CHDCAyS"
         ],
         "xaxis": "x",
         "y": [
          14,
          11,
          10,
          9,
          9,
          7,
          7,
          5,
          5,
          5,
          5,
          5,
          5,
          5,
          4,
          4,
          4,
          4,
          3,
          3,
          3,
          3,
          3,
          2,
          2,
          2,
          2,
          2,
          2,
          2,
          1,
          1,
          1,
          1,
          1,
          1,
          1,
          1,
          1,
          1,
          1,
          1,
          1,
          1,
          1,
          1,
          1,
          1,
          1,
          1
         ],
         "yaxis": "y"
        },
        {
         "alignmentgroup": "True",
         "hovertemplate": "category_name=People & Blogs<br>channel_id=%{x}<br>video_id=%{text}<extra></extra>",
         "legendgroup": "People & Blogs",
         "marker": {
          "color": "#FB0D0D",
          "pattern": {
           "shape": ""
          }
         },
         "name": "People & Blogs",
         "offsetgroup": "People & Blogs",
         "orientation": "v",
         "showlegend": true,
         "text": [
          14,
          13,
          10,
          10,
          10,
          9,
          8,
          8,
          8,
          8,
          7,
          6,
          6,
          5,
          5,
          4,
          4,
          4,
          4,
          4,
          4,
          4,
          4,
          4,
          4,
          4,
          4,
          4,
          4,
          4,
          4,
          4,
          4,
          4,
          4,
          4,
          3,
          3,
          3,
          3,
          3,
          3,
          3,
          3,
          3,
          3,
          3,
          3,
          3,
          3,
          3,
          3,
          3,
          3,
          3,
          2,
          2,
          2,
          2,
          2,
          2,
          2,
          2,
          2,
          2,
          2,
          2,
          2,
          2,
          2,
          2,
          2,
          2,
          2,
          2,
          2,
          2,
          2,
          2,
          2,
          2,
          2,
          2,
          2,
          2,
          2,
          2,
          1,
          1,
          1,
          1,
          1,
          1,
          1,
          1,
          1,
          1,
          1,
          1,
          1,
          1,
          1,
          1,
          1,
          1,
          1,
          1,
          1,
          1,
          1,
          1,
          1,
          1,
          1,
          1,
          1,
          1,
          1,
          1,
          1,
          1,
          1,
          1,
          1,
          1,
          1,
          1,
          1,
          1,
          1,
          1,
          1,
          1,
          1,
          1,
          1,
          1,
          1,
          1,
          1,
          1,
          1,
          1,
          1,
          1,
          1,
          1,
          1,
          1,
          1,
          1,
          1,
          1,
          1,
          1,
          1,
          1,
          1,
          1,
          1,
          1,
          1,
          1,
          1,
          1,
          1
         ],
         "textposition": "auto",
         "type": "bar",
         "x": [
          "CHIG4gr",
          "CHtfriF",
          "CHZ1wYQ",
          "CHfpaSr",
          "CHkkWd0",
          "CHoQy2w",
          "CHtkRVa",
          "CHDV9zg",
          "CHXTyJZ",
          "CHpH3rU",
          "CHYnfy2",
          "CHbFzvz",
          "CHRzS1N",
          "CHuDLnJ",
          "CHppou5",
          "CH6lNIb",
          "CHASfMq",
          "CHPZ4e8",
          "CHOOKj-",
          "CHaZS_X",
          "CHXTQWs",
          "CHUyr50",
          "CHA6KBB",
          "CHzRDCw",
          "CHoPTIa",
          "CHqNN-b",
          "CH680xb",
          "CHs9H--",
          "CHsP57H",
          "CHK72hq",
          "CHKFvox",
          "CHKUz_7",
          "CH4MfUq",
          "CH4sIlW",
          "CH31-nU",
          "CH26QQC",
          "CHkh6Tl",
          "CHYt4St",
          "CHrFlv9",
          "CHXXlcP",
          "CHhK2Dh",
          "CHXURHJ",
          "CHfqVrM",
          "CHrRn4V",
          "CHrh6bu",
          "CHyG7zA",
          "CHychoc",
          "CH2KUew",
          "CH4DnB5",
          "CH1EiHI",
          "CHNBfRy",
          "CHONPqk",
          "CHRofX4",
          "CHSiGNr",
          "CHHR4kW",
          "CH-Bsa2",
          "CH0ssa8",
          "CH0wNau",
          "CHD2KRO",
          "CHjpCOk",
          "CH_EngQ",
          "CHE8SAl",
          "CHET3I7",
          "CHLJNGm",
          "CH5RION",
          "CHM64Ik",
          "CHcxK1U",
          "CH5QSBl",
          "CHd1TDy",
          "CHdfhK0",
          "CH48NSS",
          "CHheR9R",
          "CHPhHBE",
          "CHh-1iA",
          "CHAhKKb",
          "CH26M8b",
          "CHBkXIe",
          "CHBoQ8_",
          "CHwW_qU",
          "CHrLQ0o",
          "CHqsPmf",
          "CHoLQZ4",
          "CHnet0I",
          "CHmt37g",
          "CHld0ct",
          "CHu38Cq",
          "CHtn-l7",
          "CH7bRo3",
          "CH9gxOp",
          "CH7Krez",
          "CH8MVMe",
          "CH9G7V6",
          "CHl-tyx",
          "CH-KafR",
          "CH-YRx5",
          "CH-swYD",
          "CH0PsUG",
          "CH0wTMg",
          "CH2Q9aM",
          "CH2XG0i",
          "CH2tbZf",
          "CH47HAk",
          "CH1GHhg",
          "CHKkxVS",
          "CHa_ZCX",
          "CHaPILm",
          "CH_Fq5K",
          "CHZwG8g",
          "CHYDyvq",
          "CHuZu8N",
          "CHv0QY4",
          "CHvG7co",
          "CHvjhQp",
          "CHx_kYu",
          "CHyje3j",
          "CHyn-K7",
          "CHyuL_X",
          "CHzhyI5",
          "CHWycwu",
          "CHWqWR1",
          "CHW9DtK",
          "CHW945U",
          "CHaPqda",
          "CHb_-Xu",
          "CHBHJlM",
          "CHbzDJ6",
          "CHlSUMM",
          "CHkJNt3",
          "CHmfVvm",
          "CHjn-Vb",
          "CHjHn_O",
          "CHicKQU",
          "CHiMq04",
          "CHhtdyq",
          "CHhna8l",
          "CHhji-o",
          "CHrIxxm",
          "CHs29NQ",
          "CHemKWU",
          "CHelPbn",
          "CHtctOX",
          "CHdQk6g",
          "CHtfGLm",
          "CHcQ3rs",
          "CHc7een",
          "CHVyMrl",
          "CHUsoow",
          "CHH7JoV",
          "CHGiqkg",
          "CHGInHR",
          "CHFLlNL",
          "CHF8W68",
          "CHEu_YK",
          "CHCJ2b2",
          "CHC4Qcw",
          "CHJfDSu",
          "CHJko7d",
          "CHQTqoE",
          "CHUWU2s",
          "CHTx3aC",
          "CHQWylD",
          "CHknfGX",
          "CHNYi_z",
          "CHLItMt",
          "CHL-AUQ",
          "CHKmQlV"
         ],
         "xaxis": "x",
         "y": [
          14,
          13,
          10,
          10,
          10,
          9,
          8,
          8,
          8,
          8,
          7,
          6,
          6,
          5,
          5,
          4,
          4,
          4,
          4,
          4,
          4,
          4,
          4,
          4,
          4,
          4,
          4,
          4,
          4,
          4,
          4,
          4,
          4,
          4,
          4,
          4,
          3,
          3,
          3,
          3,
          3,
          3,
          3,
          3,
          3,
          3,
          3,
          3,
          3,
          3,
          3,
          3,
          3,
          3,
          3,
          2,
          2,
          2,
          2,
          2,
          2,
          2,
          2,
          2,
          2,
          2,
          2,
          2,
          2,
          2,
          2,
          2,
          2,
          2,
          2,
          2,
          2,
          2,
          2,
          2,
          2,
          2,
          2,
          2,
          2,
          2,
          2,
          1,
          1,
          1,
          1,
          1,
          1,
          1,
          1,
          1,
          1,
          1,
          1,
          1,
          1,
          1,
          1,
          1,
          1,
          1,
          1,
          1,
          1,
          1,
          1,
          1,
          1,
          1,
          1,
          1,
          1,
          1,
          1,
          1,
          1,
          1,
          1,
          1,
          1,
          1,
          1,
          1,
          1,
          1,
          1,
          1,
          1,
          1,
          1,
          1,
          1,
          1,
          1,
          1,
          1,
          1,
          1,
          1,
          1,
          1,
          1,
          1,
          1,
          1,
          1,
          1,
          1,
          1,
          1,
          1,
          1,
          1,
          1,
          1,
          1,
          1,
          1,
          1,
          1,
          1
         ],
         "yaxis": "y"
        },
        {
         "alignmentgroup": "True",
         "hovertemplate": "category_name=Music<br>channel_id=%{x}<br>video_id=%{text}<extra></extra>",
         "legendgroup": "Music",
         "marker": {
          "color": "#DA16FF",
          "pattern": {
           "shape": ""
          }
         },
         "name": "Music",
         "offsetgroup": "Music",
         "orientation": "v",
         "showlegend": true,
         "text": [
          13,
          11,
          9,
          8,
          8,
          8,
          8,
          8,
          7,
          6,
          6,
          6,
          5,
          5,
          5,
          4,
          3,
          3,
          3,
          3,
          3,
          3,
          3,
          3,
          3,
          3,
          3,
          2,
          2,
          2,
          2,
          2,
          2,
          2,
          2,
          2,
          2,
          2,
          2,
          2,
          1,
          1,
          1,
          1,
          1,
          1,
          1,
          1,
          1,
          1,
          1,
          1,
          1,
          1,
          1,
          1,
          1,
          1,
          1,
          1,
          1,
          1,
          1,
          1,
          1,
          1,
          1,
          1,
          1,
          1,
          1,
          1,
          1,
          1,
          1,
          1,
          1,
          1,
          1,
          1,
          1,
          1,
          1,
          1,
          1,
          1,
          1,
          1,
          1,
          1,
          1,
          1,
          1,
          1,
          1,
          1,
          1,
          1
         ],
         "textposition": "auto",
         "type": "bar",
         "x": [
          "CHLkAep",
          "CHEf_Bc",
          "CHzCedB",
          "CHtCiO5",
          "CH3IZKs",
          "CH9GtSL",
          "CHaO6TY",
          "CHfkXDY",
          "CHviI9l",
          "CHeLPm9",
          "CHEbRSm",
          "CHabon8",
          "CH3WZlO",
          "CHoRXPc",
          "CHe52oe",
          "CHuKdaT",
          "CHyPwRg",
          "CHwgtOR",
          "CHuhAUM",
          "CHkJ1rb",
          "CHk2E0d",
          "CHRQ7Rw",
          "CHIcXK1",
          "CHHGJwr",
          "CH-FQUI",
          "CH6nxfR",
          "CH66yQ1",
          "CHPENYt",
          "CH9vrvN",
          "CHFipx4",
          "CHk9Gmd",
          "CHsXigG",
          "CHlYq3P",
          "CHmQdC1",
          "CHpbTKp",
          "CH_pwIX",
          "CH2KmG_",
          "CH-qYkz",
          "CHYDmx2",
          "CHdNMDR",
          "CHFEVXX",
          "CHGdZ_-",
          "CHGrAnV",
          "CHHX_FN",
          "CHI3Z79",
          "CHJVA-s",
          "CHKNZsA",
          "CHMIUx2",
          "CHNk_Ik",
          "CHR5cyf",
          "CHRp-tG",
          "CHTEWSE",
          "CHXIF1a",
          "CHY7unn",
          "CHaEIlQ",
          "CHcM_a-",
          "CHG1kwS",
          "CHEdZAd",
          "CHEUX9t",
          "CH3QWks",
          "CH4htMX",
          "CH6TJkB",
          "CH6c5iD",
          "CH6tU41",
          "CH7Qts0",
          "CH8qO5r",
          "CH9LcN9",
          "CHACsUr",
          "CHACvSk",
          "CHAkWpy",
          "CHAq0pF",
          "CHArTAX",
          "CHCEi5r",
          "CHDPM_n",
          "CHcVEkH",
          "CHeQlMQ",
          "CHe_56k",
          "CHhm_d4",
          "CHritGV",
          "CHhu7d9",
          "CHkYFO5",
          "CHmTdAl",
          "CHo-E2l",
          "CHoNq-k",
          "CHq4isO",
          "CHsVcse",
          "CHzxXBQ",
          "CHvNA_f",
          "CHvolP1",
          "CHwZMmI",
          "CHwzCuK",
          "CHxOZuU",
          "CHzgxx_",
          "CH3-ec2",
          "CH2TjEZ",
          "CH0D7tP",
          "CH-jHB5",
          "CH-IG_h"
         ],
         "xaxis": "x",
         "y": [
          13,
          11,
          9,
          8,
          8,
          8,
          8,
          8,
          7,
          6,
          6,
          6,
          5,
          5,
          5,
          4,
          3,
          3,
          3,
          3,
          3,
          3,
          3,
          3,
          3,
          3,
          3,
          2,
          2,
          2,
          2,
          2,
          2,
          2,
          2,
          2,
          2,
          2,
          2,
          2,
          1,
          1,
          1,
          1,
          1,
          1,
          1,
          1,
          1,
          1,
          1,
          1,
          1,
          1,
          1,
          1,
          1,
          1,
          1,
          1,
          1,
          1,
          1,
          1,
          1,
          1,
          1,
          1,
          1,
          1,
          1,
          1,
          1,
          1,
          1,
          1,
          1,
          1,
          1,
          1,
          1,
          1,
          1,
          1,
          1,
          1,
          1,
          1,
          1,
          1,
          1,
          1,
          1,
          1,
          1,
          1,
          1,
          1
         ],
         "yaxis": "y"
        },
        {
         "alignmentgroup": "True",
         "hovertemplate": "category_name=Film & Animation<br>channel_id=%{x}<br>video_id=%{text}<extra></extra>",
         "legendgroup": "Film & Animation",
         "marker": {
          "color": "#222A2A",
          "pattern": {
           "shape": ""
          }
         },
         "name": "Film & Animation",
         "offsetgroup": "Film & Animation",
         "orientation": "v",
         "showlegend": true,
         "text": [
          13,
          10,
          7,
          5,
          5,
          4,
          3,
          3,
          3,
          2,
          2,
          2,
          1,
          1,
          1,
          1,
          1,
          1,
          1,
          1,
          1,
          1,
          1,
          1,
          1,
          1,
          1
         ],
         "textposition": "auto",
         "type": "bar",
         "x": [
          "CHszFjh",
          "CHRuSxV",
          "CH6u3fo",
          "CHi-XI2",
          "CHUK4Yj",
          "CHz2Kbg",
          "CHSB5FO",
          "CHHj3qb",
          "CH6q6s6",
          "CHgmmc5",
          "CHK9PdJ",
          "CHaT8jY",
          "CHxDsmO",
          "CHxlv4a",
          "CHym553",
          "CHuRZ7_",
          "CHuKKkB",
          "CHs0P4G",
          "CH3zQwS",
          "CHCcE8B",
          "CHlN3o2",
          "CHFnuC4",
          "CHH3mJ-",
          "CHRI5Ze",
          "CHW0gUN",
          "CHY2wHB",
          "CHdq61m"
         ],
         "xaxis": "x",
         "y": [
          13,
          10,
          7,
          5,
          5,
          4,
          3,
          3,
          3,
          2,
          2,
          2,
          1,
          1,
          1,
          1,
          1,
          1,
          1,
          1,
          1,
          1,
          1,
          1,
          1,
          1,
          1
         ],
         "yaxis": "y"
        },
        {
         "alignmentgroup": "True",
         "hovertemplate": "category_name=News & Politics<br>channel_id=%{x}<br>video_id=%{text}<extra></extra>",
         "legendgroup": "News & Politics",
         "marker": {
          "color": "#B68100",
          "pattern": {
           "shape": ""
          }
         },
         "name": "News & Politics",
         "offsetgroup": "News & Politics",
         "orientation": "v",
         "showlegend": true,
         "text": [
          11,
          9,
          8,
          7,
          7,
          6,
          6,
          6,
          6,
          6,
          5,
          4,
          4,
          4,
          4,
          4,
          3,
          3,
          3,
          3,
          3,
          3,
          3,
          3,
          2,
          2,
          2,
          2,
          2,
          2,
          2,
          2,
          2,
          1,
          1,
          1,
          1,
          1,
          1,
          1,
          1,
          1,
          1,
          1,
          1,
          1,
          1,
          1,
          1,
          1,
          1,
          1,
          1,
          1,
          1,
          1
         ],
         "textposition": "auto",
         "type": "bar",
         "x": [
          "CHsU-I-",
          "CHF4Wxd",
          "CHhlgI3",
          "CH-0C8y",
          "CHMEbRp",
          "CH_U34U",
          "CHHBvfB",
          "CHAySce",
          "CHcQTRi",
          "CHkinYT",
          "CHj3_t5",
          "CHIDOGT",
          "CHH3mJ-",
          "CHG9aFJ",
          "CHfq4V1",
          "CHQabOR",
          "CH0imOR",
          "CH1aS5C",
          "CHoxT1k",
          "CHizGMt",
          "CHYRrUD",
          "CHTHCOP",
          "CHPTy0B",
          "CH8d0Zg",
          "CHWlV3L",
          "CHMGn0N",
          "CHMLJc_",
          "CHF8AeL",
          "CHzz58-",
          "CHy-6oZ",
          "CHwRljh",
          "CHawCv9",
          "CHnfwIK",
          "CHu35od",
          "CHwCrPg",
          "CHomhAm",
          "CHliLFb",
          "CHjg8Yu",
          "CH7cF2Z",
          "CH88r6m",
          "CH9thBC",
          "CHGCGxs",
          "CHIIpmD",
          "CHIMOyt",
          "CHIipmg",
          "CHKhcMX",
          "CHLKugl",
          "CHPfxQo",
          "CHTTmtS",
          "CHWskYk",
          "CHZQj9d",
          "CHbMjg2",
          "CHeFUGS",
          "CH5GZQW",
          "CH4Aa3O",
          "CH2fNt6"
         ],
         "xaxis": "x",
         "y": [
          11,
          9,
          8,
          7,
          7,
          6,
          6,
          6,
          6,
          6,
          5,
          4,
          4,
          4,
          4,
          4,
          3,
          3,
          3,
          3,
          3,
          3,
          3,
          3,
          2,
          2,
          2,
          2,
          2,
          2,
          2,
          2,
          2,
          1,
          1,
          1,
          1,
          1,
          1,
          1,
          1,
          1,
          1,
          1,
          1,
          1,
          1,
          1,
          1,
          1,
          1,
          1,
          1,
          1,
          1,
          1
         ],
         "yaxis": "y"
        },
        {
         "alignmentgroup": "True",
         "hovertemplate": "category_name=Education<br>channel_id=%{x}<br>video_id=%{text}<extra></extra>",
         "legendgroup": "Education",
         "marker": {
          "color": "#750D86",
          "pattern": {
           "shape": ""
          }
         },
         "name": "Education",
         "offsetgroup": "Education",
         "orientation": "v",
         "showlegend": true,
         "text": [
          10,
          7,
          7,
          4,
          3,
          3,
          3,
          3,
          3,
          2,
          2,
          2,
          2,
          1,
          1,
          1,
          1,
          1,
          1,
          1,
          1,
          1,
          1,
          1,
          1,
          1,
          1
         ],
         "textposition": "auto",
         "type": "bar",
         "x": [
          "CHicKQU",
          "CHl7MKZ",
          "CHuh6Br",
          "CH7F6UD",
          "CHvW8no",
          "CHnaGfD",
          "CHBJs8l",
          "CHHpIHu",
          "CHJ7LVh",
          "CHD902z",
          "CHCt6iN",
          "CH6xugt",
          "CH1-lwA",
          "CHPvwqh",
          "CH-9RQC",
          "CH5YHB-",
          "CHBM86J",
          "CHMFk5S",
          "CHO0OSA",
          "CHZ4T91",
          "CHcWXel",
          "CHgheNM",
          "CHiV4_c",
          "CHjPqSb",
          "CHma37f",
          "CHnLO88",
          "CHznImS"
         ],
         "xaxis": "x",
         "y": [
          10,
          7,
          7,
          4,
          3,
          3,
          3,
          3,
          3,
          2,
          2,
          2,
          2,
          1,
          1,
          1,
          1,
          1,
          1,
          1,
          1,
          1,
          1,
          1,
          1,
          1,
          1
         ],
         "yaxis": "y"
        },
        {
         "alignmentgroup": "True",
         "hovertemplate": "category_name=Howto & Style<br>channel_id=%{x}<br>video_id=%{text}<extra></extra>",
         "legendgroup": "Howto & Style",
         "marker": {
          "color": "#EB663B",
          "pattern": {
           "shape": ""
          }
         },
         "name": "Howto & Style",
         "offsetgroup": "Howto & Style",
         "orientation": "v",
         "showlegend": true,
         "text": [
          8,
          7,
          6,
          6,
          6,
          6,
          5,
          5,
          5,
          4,
          4,
          4,
          4,
          3,
          3,
          3,
          3,
          3,
          2,
          2,
          2,
          2,
          2,
          2,
          2,
          2,
          1,
          1,
          1,
          1,
          1,
          1,
          1,
          1,
          1,
          1,
          1,
          1,
          1,
          1,
          1,
          1,
          1,
          1
         ],
         "textposition": "auto",
         "type": "bar",
         "x": [
          "CHd4Fmc",
          "CHn64fS",
          "CHVXx89",
          "CHIZ5rC",
          "CHBTytr",
          "CHKrhyP",
          "CHzIOIS",
          "CHy2WX3",
          "CHWrh9h",
          "CH2gasv",
          "CHZCvbW",
          "CHj8zZ1",
          "CHp94pz",
          "CHKm-cu",
          "CH6LBdA",
          "CH8wHwv",
          "CHiNS0K",
          "CHyn7ao",
          "CHuFGPh",
          "CH2xkO7",
          "CHrpB5P",
          "CHpg89Y",
          "CHkxvX8",
          "CHvil4O",
          "CHL01un",
          "CH1g9Ja",
          "CH2DHU9",
          "CH5xK2X",
          "CHCG6BE",
          "CHLduRr",
          "CHWRb5Q",
          "CHWdmhZ",
          "CHXGh59",
          "CHayVh6",
          "CHcTWmz",
          "CHnCyCL",
          "CHnZ8qy",
          "CHnekLi",
          "CHrxSR4",
          "CHxjZ0G",
          "CHz72_x",
          "CH5q0PI",
          "CH1UebY",
          "CH1EEpE"
         ],
         "xaxis": "x",
         "y": [
          8,
          7,
          6,
          6,
          6,
          6,
          5,
          5,
          5,
          4,
          4,
          4,
          4,
          3,
          3,
          3,
          3,
          3,
          2,
          2,
          2,
          2,
          2,
          2,
          2,
          2,
          1,
          1,
          1,
          1,
          1,
          1,
          1,
          1,
          1,
          1,
          1,
          1,
          1,
          1,
          1,
          1,
          1,
          1
         ],
         "yaxis": "y"
        },
        {
         "alignmentgroup": "True",
         "hovertemplate": "category_name=Gaming<br>channel_id=%{x}<br>video_id=%{text}<extra></extra>",
         "legendgroup": "Gaming",
         "marker": {
          "color": "#511CFB",
          "pattern": {
           "shape": ""
          }
         },
         "name": "Gaming",
         "offsetgroup": "Gaming",
         "orientation": "v",
         "showlegend": true,
         "text": [
          7,
          6,
          3,
          3,
          3,
          3,
          3,
          3,
          3,
          3,
          2,
          2,
          2,
          2,
          2,
          2,
          1,
          1,
          1,
          1,
          1,
          1,
          1,
          1,
          1,
          1,
          1,
          1,
          1,
          1,
          1,
          1,
          1,
          1,
          1,
          1,
          1,
          1,
          1,
          1,
          1,
          1,
          1,
          1,
          1,
          1,
          1
         ],
         "textposition": "auto",
         "type": "bar",
         "x": [
          "CH8CIM3",
          "CHdrBnB",
          "CHxM_h0",
          "CHw1Dsw",
          "CHefUNE",
          "CHooLkG",
          "CH9_093",
          "CHBUNoF",
          "CHDBAVz",
          "CHzgNzU",
          "CHBA9Xa",
          "CHAOTbN",
          "CH31ypO",
          "CHom6Yh",
          "CHU_hKD",
          "CHmCNgL",
          "CHSOeJW",
          "CH2NFRq",
          "CH48NSS",
          "CH8C0Yd",
          "CH9-LID",
          "CH9aEa6",
          "CHBrb8H",
          "CHDyc0_",
          "CHGIY_O",
          "CHHxKSi",
          "CHK3p1w",
          "CHMPM0h",
          "CHNzcxC",
          "CHOKQpm",
          "CHY9pEH",
          "CHcum1r",
          "CHmMxEF",
          "CHeHFCf",
          "CHeudxd",
          "CHfycsf",
          "CHg7rkx",
          "CHj-6sZ",
          "CHlJspS",
          "CHms8Ge",
          "CHyTB7U",
          "CHnss3B",
          "CHoyaxd",
          "CHpDtPd",
          "CHpYaDy",
          "CHta_NR",
          "CHuOUU4"
         ],
         "xaxis": "x",
         "y": [
          7,
          6,
          3,
          3,
          3,
          3,
          3,
          3,
          3,
          3,
          2,
          2,
          2,
          2,
          2,
          2,
          1,
          1,
          1,
          1,
          1,
          1,
          1,
          1,
          1,
          1,
          1,
          1,
          1,
          1,
          1,
          1,
          1,
          1,
          1,
          1,
          1,
          1,
          1,
          1,
          1,
          1,
          1,
          1,
          1,
          1,
          1
         ],
         "yaxis": "y"
        },
        {
         "alignmentgroup": "True",
         "hovertemplate": "category_name=Travel & Events<br>channel_id=%{x}<br>video_id=%{text}<extra></extra>",
         "legendgroup": "Travel & Events",
         "marker": {
          "color": "#00A08B",
          "pattern": {
           "shape": ""
          }
         },
         "name": "Travel & Events",
         "offsetgroup": "Travel & Events",
         "orientation": "v",
         "showlegend": true,
         "text": [
          7,
          3,
          2,
          2,
          2,
          2,
          2,
          1,
          1,
          1
         ],
         "textposition": "auto",
         "type": "bar",
         "x": [
          "CHlRNDV",
          "CHFw4M1",
          "CH4KYnI",
          "CHFCtZJ",
          "CHPDdt9",
          "CHPll9Z",
          "CHa0aTy",
          "CHMZO-3",
          "CH673sG",
          "CHsLoTw"
         ],
         "xaxis": "x",
         "y": [
          7,
          3,
          2,
          2,
          2,
          2,
          2,
          1,
          1,
          1
         ],
         "yaxis": "y"
        },
        {
         "alignmentgroup": "True",
         "hovertemplate": "category_name=Science & Technology<br>channel_id=%{x}<br>video_id=%{text}<extra></extra>",
         "legendgroup": "Science & Technology",
         "marker": {
          "color": "#FB00D1",
          "pattern": {
           "shape": ""
          }
         },
         "name": "Science & Technology",
         "offsetgroup": "Science & Technology",
         "orientation": "v",
         "showlegend": true,
         "text": [
          7,
          3,
          3,
          2,
          2,
          2,
          2,
          2,
          2,
          1,
          1,
          1,
          1,
          1,
          1,
          1,
          1,
          1,
          1,
          1
         ],
         "textposition": "auto",
         "type": "bar",
         "x": [
          "CHdUcjk",
          "CH3dJKw",
          "CHJJ_n7",
          "CHIk1-y",
          "CHFX6ad",
          "CHE_M8A",
          "CHB11SA",
          "CHUkuuo",
          "CH_0oo0",
          "CHJiv3w",
          "CHO4RG1",
          "CHWnC1r",
          "CHWwgaK",
          "CHYAvG7",
          "CHb-Abq",
          "CHdpbqw",
          "CHj-MI9",
          "CHrBpV_",
          "CHJKZoV",
          "CH5aNQ6"
         ],
         "xaxis": "x",
         "y": [
          7,
          3,
          3,
          2,
          2,
          2,
          2,
          2,
          2,
          1,
          1,
          1,
          1,
          1,
          1,
          1,
          1,
          1,
          1,
          1
         ],
         "yaxis": "y"
        },
        {
         "alignmentgroup": "True",
         "hovertemplate": "category_name=Pets & Animals<br>channel_id=%{x}<br>video_id=%{text}<extra></extra>",
         "legendgroup": "Pets & Animals",
         "marker": {
          "color": "#FC0080",
          "pattern": {
           "shape": ""
          }
         },
         "name": "Pets & Animals",
         "offsetgroup": "Pets & Animals",
         "orientation": "v",
         "showlegend": true,
         "text": [
          6,
          5,
          5,
          4,
          4,
          4,
          4,
          3,
          3,
          3,
          3,
          3,
          2,
          2,
          2,
          1,
          1,
          1,
          1,
          1,
          1,
          1,
          1,
          1,
          1,
          1,
          1
         ],
         "textposition": "auto",
         "type": "bar",
         "x": [
          "CH29-Il",
          "CH69l_r",
          "CHAhKKb",
          "CHOp66V",
          "CHgsgpE",
          "CHi_IoQ",
          "CH22go5",
          "CHOv1v2",
          "CHPTM-N",
          "CHHLDBh",
          "CH3PSZi",
          "CHkuA_g",
          "CHETBLy",
          "CH89A41",
          "CHHXnna",
          "CH-IYpd",
          "CH04-af",
          "CH5AAf4",
          "CHHgL0B",
          "CHP1CQH",
          "CHX2laR",
          "CHa2LU4",
          "CHd1TDy",
          "CHf0Mkc",
          "CHj-rqv",
          "CHtbOb9",
          "CHzjDgV"
         ],
         "xaxis": "x",
         "y": [
          6,
          5,
          5,
          4,
          4,
          4,
          4,
          3,
          3,
          3,
          3,
          3,
          2,
          2,
          2,
          1,
          1,
          1,
          1,
          1,
          1,
          1,
          1,
          1,
          1,
          1,
          1
         ],
         "yaxis": "y"
        },
        {
         "alignmentgroup": "True",
         "hovertemplate": "category_name=Autos & Vehicles<br>channel_id=%{x}<br>video_id=%{text}<extra></extra>",
         "legendgroup": "Autos & Vehicles",
         "marker": {
          "color": "#B2828D",
          "pattern": {
           "shape": ""
          }
         },
         "name": "Autos & Vehicles",
         "offsetgroup": "Autos & Vehicles",
         "orientation": "v",
         "showlegend": true,
         "text": [
          3,
          3,
          3,
          2,
          2,
          2,
          2,
          2,
          2,
          1,
          1,
          1,
          1,
          1,
          1,
          1,
          1,
          1,
          1
         ],
         "textposition": "auto",
         "type": "bar",
         "x": [
          "CHPbxBh",
          "CHiubh7",
          "CHrOl7I",
          "CH2xkO7",
          "CHrXkDA",
          "CHd5CdY",
          "CHH5U89",
          "CHDpnvN",
          "CH5f97D",
          "CH-IBt8",
          "CHp0B9n",
          "CHKnKi2",
          "CHSkpiP",
          "CHWY41Q",
          "CHYVZ6z",
          "CH_rBRr",
          "CHkGHfa",
          "CHs2TmE",
          "CHyF14S"
         ],
         "xaxis": "x",
         "y": [
          3,
          3,
          3,
          2,
          2,
          2,
          2,
          2,
          2,
          1,
          1,
          1,
          1,
          1,
          1,
          1,
          1,
          1,
          1
         ],
         "yaxis": "y"
        },
        {
         "alignmentgroup": "True",
         "hovertemplate": "category_name=Nonprofits & Activism<br>channel_id=%{x}<br>video_id=%{text}<extra></extra>",
         "legendgroup": "Nonprofits & Activism",
         "marker": {
          "color": "#6C7C32",
          "pattern": {
           "shape": ""
          }
         },
         "name": "Nonprofits & Activism",
         "offsetgroup": "Nonprofits & Activism",
         "orientation": "v",
         "showlegend": true,
         "text": [
          1
         ],
         "textposition": "auto",
         "type": "bar",
         "x": [
          "CHSsWdU"
         ],
         "xaxis": "x",
         "y": [
          1
         ],
         "yaxis": "y"
        }
       ],
       "layout": {
        "barmode": "stack",
        "height": 800,
        "legend": {
         "title": {
          "text": "category_name"
         },
         "tracegroupgap": 0
        },
        "margin": {
         "t": 60
        },
        "template": {
         "data": {
          "bar": [
           {
            "error_x": {
             "color": "#2a3f5f"
            },
            "error_y": {
             "color": "#2a3f5f"
            },
            "marker": {
             "line": {
              "color": "#E5ECF6",
              "width": 0.5
             },
             "pattern": {
              "fillmode": "overlay",
              "size": 10,
              "solidity": 0.2
             }
            },
            "type": "bar"
           }
          ],
          "barpolar": [
           {
            "marker": {
             "line": {
              "color": "#E5ECF6",
              "width": 0.5
             },
             "pattern": {
              "fillmode": "overlay",
              "size": 10,
              "solidity": 0.2
             }
            },
            "type": "barpolar"
           }
          ],
          "carpet": [
           {
            "aaxis": {
             "endlinecolor": "#2a3f5f",
             "gridcolor": "white",
             "linecolor": "white",
             "minorgridcolor": "white",
             "startlinecolor": "#2a3f5f"
            },
            "baxis": {
             "endlinecolor": "#2a3f5f",
             "gridcolor": "white",
             "linecolor": "white",
             "minorgridcolor": "white",
             "startlinecolor": "#2a3f5f"
            },
            "type": "carpet"
           }
          ],
          "choropleth": [
           {
            "colorbar": {
             "outlinewidth": 0,
             "ticks": ""
            },
            "type": "choropleth"
           }
          ],
          "contour": [
           {
            "colorbar": {
             "outlinewidth": 0,
             "ticks": ""
            },
            "colorscale": [
             [
              0,
              "#0d0887"
             ],
             [
              0.1111111111111111,
              "#46039f"
             ],
             [
              0.2222222222222222,
              "#7201a8"
             ],
             [
              0.3333333333333333,
              "#9c179e"
             ],
             [
              0.4444444444444444,
              "#bd3786"
             ],
             [
              0.5555555555555556,
              "#d8576b"
             ],
             [
              0.6666666666666666,
              "#ed7953"
             ],
             [
              0.7777777777777778,
              "#fb9f3a"
             ],
             [
              0.8888888888888888,
              "#fdca26"
             ],
             [
              1,
              "#f0f921"
             ]
            ],
            "type": "contour"
           }
          ],
          "contourcarpet": [
           {
            "colorbar": {
             "outlinewidth": 0,
             "ticks": ""
            },
            "type": "contourcarpet"
           }
          ],
          "heatmap": [
           {
            "colorbar": {
             "outlinewidth": 0,
             "ticks": ""
            },
            "colorscale": [
             [
              0,
              "#0d0887"
             ],
             [
              0.1111111111111111,
              "#46039f"
             ],
             [
              0.2222222222222222,
              "#7201a8"
             ],
             [
              0.3333333333333333,
              "#9c179e"
             ],
             [
              0.4444444444444444,
              "#bd3786"
             ],
             [
              0.5555555555555556,
              "#d8576b"
             ],
             [
              0.6666666666666666,
              "#ed7953"
             ],
             [
              0.7777777777777778,
              "#fb9f3a"
             ],
             [
              0.8888888888888888,
              "#fdca26"
             ],
             [
              1,
              "#f0f921"
             ]
            ],
            "type": "heatmap"
           }
          ],
          "heatmapgl": [
           {
            "colorbar": {
             "outlinewidth": 0,
             "ticks": ""
            },
            "colorscale": [
             [
              0,
              "#0d0887"
             ],
             [
              0.1111111111111111,
              "#46039f"
             ],
             [
              0.2222222222222222,
              "#7201a8"
             ],
             [
              0.3333333333333333,
              "#9c179e"
             ],
             [
              0.4444444444444444,
              "#bd3786"
             ],
             [
              0.5555555555555556,
              "#d8576b"
             ],
             [
              0.6666666666666666,
              "#ed7953"
             ],
             [
              0.7777777777777778,
              "#fb9f3a"
             ],
             [
              0.8888888888888888,
              "#fdca26"
             ],
             [
              1,
              "#f0f921"
             ]
            ],
            "type": "heatmapgl"
           }
          ],
          "histogram": [
           {
            "marker": {
             "pattern": {
              "fillmode": "overlay",
              "size": 10,
              "solidity": 0.2
             }
            },
            "type": "histogram"
           }
          ],
          "histogram2d": [
           {
            "colorbar": {
             "outlinewidth": 0,
             "ticks": ""
            },
            "colorscale": [
             [
              0,
              "#0d0887"
             ],
             [
              0.1111111111111111,
              "#46039f"
             ],
             [
              0.2222222222222222,
              "#7201a8"
             ],
             [
              0.3333333333333333,
              "#9c179e"
             ],
             [
              0.4444444444444444,
              "#bd3786"
             ],
             [
              0.5555555555555556,
              "#d8576b"
             ],
             [
              0.6666666666666666,
              "#ed7953"
             ],
             [
              0.7777777777777778,
              "#fb9f3a"
             ],
             [
              0.8888888888888888,
              "#fdca26"
             ],
             [
              1,
              "#f0f921"
             ]
            ],
            "type": "histogram2d"
           }
          ],
          "histogram2dcontour": [
           {
            "colorbar": {
             "outlinewidth": 0,
             "ticks": ""
            },
            "colorscale": [
             [
              0,
              "#0d0887"
             ],
             [
              0.1111111111111111,
              "#46039f"
             ],
             [
              0.2222222222222222,
              "#7201a8"
             ],
             [
              0.3333333333333333,
              "#9c179e"
             ],
             [
              0.4444444444444444,
              "#bd3786"
             ],
             [
              0.5555555555555556,
              "#d8576b"
             ],
             [
              0.6666666666666666,
              "#ed7953"
             ],
             [
              0.7777777777777778,
              "#fb9f3a"
             ],
             [
              0.8888888888888888,
              "#fdca26"
             ],
             [
              1,
              "#f0f921"
             ]
            ],
            "type": "histogram2dcontour"
           }
          ],
          "mesh3d": [
           {
            "colorbar": {
             "outlinewidth": 0,
             "ticks": ""
            },
            "type": "mesh3d"
           }
          ],
          "parcoords": [
           {
            "line": {
             "colorbar": {
              "outlinewidth": 0,
              "ticks": ""
             }
            },
            "type": "parcoords"
           }
          ],
          "pie": [
           {
            "automargin": true,
            "type": "pie"
           }
          ],
          "scatter": [
           {
            "marker": {
             "colorbar": {
              "outlinewidth": 0,
              "ticks": ""
             }
            },
            "type": "scatter"
           }
          ],
          "scatter3d": [
           {
            "line": {
             "colorbar": {
              "outlinewidth": 0,
              "ticks": ""
             }
            },
            "marker": {
             "colorbar": {
              "outlinewidth": 0,
              "ticks": ""
             }
            },
            "type": "scatter3d"
           }
          ],
          "scattercarpet": [
           {
            "marker": {
             "colorbar": {
              "outlinewidth": 0,
              "ticks": ""
             }
            },
            "type": "scattercarpet"
           }
          ],
          "scattergeo": [
           {
            "marker": {
             "colorbar": {
              "outlinewidth": 0,
              "ticks": ""
             }
            },
            "type": "scattergeo"
           }
          ],
          "scattergl": [
           {
            "marker": {
             "colorbar": {
              "outlinewidth": 0,
              "ticks": ""
             }
            },
            "type": "scattergl"
           }
          ],
          "scattermapbox": [
           {
            "marker": {
             "colorbar": {
              "outlinewidth": 0,
              "ticks": ""
             }
            },
            "type": "scattermapbox"
           }
          ],
          "scatterpolar": [
           {
            "marker": {
             "colorbar": {
              "outlinewidth": 0,
              "ticks": ""
             }
            },
            "type": "scatterpolar"
           }
          ],
          "scatterpolargl": [
           {
            "marker": {
             "colorbar": {
              "outlinewidth": 0,
              "ticks": ""
             }
            },
            "type": "scatterpolargl"
           }
          ],
          "scatterternary": [
           {
            "marker": {
             "colorbar": {
              "outlinewidth": 0,
              "ticks": ""
             }
            },
            "type": "scatterternary"
           }
          ],
          "surface": [
           {
            "colorbar": {
             "outlinewidth": 0,
             "ticks": ""
            },
            "colorscale": [
             [
              0,
              "#0d0887"
             ],
             [
              0.1111111111111111,
              "#46039f"
             ],
             [
              0.2222222222222222,
              "#7201a8"
             ],
             [
              0.3333333333333333,
              "#9c179e"
             ],
             [
              0.4444444444444444,
              "#bd3786"
             ],
             [
              0.5555555555555556,
              "#d8576b"
             ],
             [
              0.6666666666666666,
              "#ed7953"
             ],
             [
              0.7777777777777778,
              "#fb9f3a"
             ],
             [
              0.8888888888888888,
              "#fdca26"
             ],
             [
              1,
              "#f0f921"
             ]
            ],
            "type": "surface"
           }
          ],
          "table": [
           {
            "cells": {
             "fill": {
              "color": "#EBF0F8"
             },
             "line": {
              "color": "white"
             }
            },
            "header": {
             "fill": {
              "color": "#C8D4E3"
             },
             "line": {
              "color": "white"
             }
            },
            "type": "table"
           }
          ]
         },
         "layout": {
          "annotationdefaults": {
           "arrowcolor": "#2a3f5f",
           "arrowhead": 0,
           "arrowwidth": 1
          },
          "autotypenumbers": "strict",
          "coloraxis": {
           "colorbar": {
            "outlinewidth": 0,
            "ticks": ""
           }
          },
          "colorscale": {
           "diverging": [
            [
             0,
             "#8e0152"
            ],
            [
             0.1,
             "#c51b7d"
            ],
            [
             0.2,
             "#de77ae"
            ],
            [
             0.3,
             "#f1b6da"
            ],
            [
             0.4,
             "#fde0ef"
            ],
            [
             0.5,
             "#f7f7f7"
            ],
            [
             0.6,
             "#e6f5d0"
            ],
            [
             0.7,
             "#b8e186"
            ],
            [
             0.8,
             "#7fbc41"
            ],
            [
             0.9,
             "#4d9221"
            ],
            [
             1,
             "#276419"
            ]
           ],
           "sequential": [
            [
             0,
             "#0d0887"
            ],
            [
             0.1111111111111111,
             "#46039f"
            ],
            [
             0.2222222222222222,
             "#7201a8"
            ],
            [
             0.3333333333333333,
             "#9c179e"
            ],
            [
             0.4444444444444444,
             "#bd3786"
            ],
            [
             0.5555555555555556,
             "#d8576b"
            ],
            [
             0.6666666666666666,
             "#ed7953"
            ],
            [
             0.7777777777777778,
             "#fb9f3a"
            ],
            [
             0.8888888888888888,
             "#fdca26"
            ],
            [
             1,
             "#f0f921"
            ]
           ],
           "sequentialminus": [
            [
             0,
             "#0d0887"
            ],
            [
             0.1111111111111111,
             "#46039f"
            ],
            [
             0.2222222222222222,
             "#7201a8"
            ],
            [
             0.3333333333333333,
             "#9c179e"
            ],
            [
             0.4444444444444444,
             "#bd3786"
            ],
            [
             0.5555555555555556,
             "#d8576b"
            ],
            [
             0.6666666666666666,
             "#ed7953"
            ],
            [
             0.7777777777777778,
             "#fb9f3a"
            ],
            [
             0.8888888888888888,
             "#fdca26"
            ],
            [
             1,
             "#f0f921"
            ]
           ]
          },
          "colorway": [
           "#636efa",
           "#EF553B",
           "#00cc96",
           "#ab63fa",
           "#FFA15A",
           "#19d3f3",
           "#FF6692",
           "#B6E880",
           "#FF97FF",
           "#FECB52"
          ],
          "font": {
           "color": "#2a3f5f"
          },
          "geo": {
           "bgcolor": "white",
           "lakecolor": "white",
           "landcolor": "#E5ECF6",
           "showlakes": true,
           "showland": true,
           "subunitcolor": "white"
          },
          "hoverlabel": {
           "align": "left"
          },
          "hovermode": "closest",
          "mapbox": {
           "style": "light"
          },
          "paper_bgcolor": "white",
          "plot_bgcolor": "#E5ECF6",
          "polar": {
           "angularaxis": {
            "gridcolor": "white",
            "linecolor": "white",
            "ticks": ""
           },
           "bgcolor": "#E5ECF6",
           "radialaxis": {
            "gridcolor": "white",
            "linecolor": "white",
            "ticks": ""
           }
          },
          "scene": {
           "xaxis": {
            "backgroundcolor": "#E5ECF6",
            "gridcolor": "white",
            "gridwidth": 2,
            "linecolor": "white",
            "showbackground": true,
            "ticks": "",
            "zerolinecolor": "white"
           },
           "yaxis": {
            "backgroundcolor": "#E5ECF6",
            "gridcolor": "white",
            "gridwidth": 2,
            "linecolor": "white",
            "showbackground": true,
            "ticks": "",
            "zerolinecolor": "white"
           },
           "zaxis": {
            "backgroundcolor": "#E5ECF6",
            "gridcolor": "white",
            "gridwidth": 2,
            "linecolor": "white",
            "showbackground": true,
            "ticks": "",
            "zerolinecolor": "white"
           }
          },
          "shapedefaults": {
           "line": {
            "color": "#2a3f5f"
           }
          },
          "ternary": {
           "aaxis": {
            "gridcolor": "white",
            "linecolor": "white",
            "ticks": ""
           },
           "baxis": {
            "gridcolor": "white",
            "linecolor": "white",
            "ticks": ""
           },
           "bgcolor": "#E5ECF6",
           "caxis": {
            "gridcolor": "white",
            "linecolor": "white",
            "ticks": ""
           }
          },
          "title": {
           "x": 0.05
          },
          "xaxis": {
           "automargin": true,
           "gridcolor": "white",
           "linecolor": "white",
           "ticks": "",
           "title": {
            "standoff": 15
           },
           "zerolinecolor": "white",
           "zerolinewidth": 2
          },
          "yaxis": {
           "automargin": true,
           "gridcolor": "white",
           "linecolor": "white",
           "ticks": "",
           "title": {
            "standoff": 15
           },
           "zerolinecolor": "white",
           "zerolinewidth": 2
          }
         }
        },
        "title": {
         "text": "Video Count by Category and Channel"
        },
        "width": 1600,
        "xaxis": {
         "anchor": "y",
         "domain": [
          0,
          1
         ],
         "title": {
          "text": "Channel"
         }
        },
        "yaxis": {
         "anchor": "x",
         "domain": [
          0,
          1
         ],
         "title": {
          "text": "Video Count"
         }
        }
       }
      },
      "text/html": [
       "<div>                            <div id=\"870df475-2125-4b35-8ca0-a7b6ad01a6e4\" class=\"plotly-graph-div\" style=\"height:800px; width:1600px;\"></div>            <script type=\"text/javascript\">                require([\"plotly\"], function(Plotly) {                    window.PLOTLYENV=window.PLOTLYENV || {};                                    if (document.getElementById(\"870df475-2125-4b35-8ca0-a7b6ad01a6e4\")) {                    Plotly.newPlot(                        \"870df475-2125-4b35-8ca0-a7b6ad01a6e4\",                        [{\"alignmentgroup\":\"True\",\"hovertemplate\":\"category_name=Entertainment<br>channel_id=%{x}<br>video_id=%{text}<extra></extra>\",\"legendgroup\":\"Entertainment\",\"marker\":{\"color\":\"#2E91E5\",\"pattern\":{\"shape\":\"\"}},\"name\":\"Entertainment\",\"offsetgroup\":\"Entertainment\",\"orientation\":\"v\",\"showlegend\":true,\"text\":[17.0,14.0,14.0,11.0,10.0,10.0,9.0,9.0,9.0,9.0,8.0,8.0,8.0,8.0,8.0,8.0,8.0,8.0,8.0,8.0,7.0,7.0,7.0,7.0,7.0,7.0,7.0,7.0,7.0,7.0,7.0,7.0,7.0,6.0,6.0,6.0,6.0,6.0,6.0,6.0,6.0,6.0,6.0,6.0,6.0,6.0,6.0,5.0,5.0,5.0,5.0,5.0,5.0,5.0,5.0,5.0,5.0,5.0,5.0,5.0,5.0,5.0,5.0,5.0,5.0,5.0,5.0,5.0,5.0,5.0,4.0,4.0,4.0,4.0,4.0,4.0,4.0,4.0,4.0,4.0,4.0,4.0,4.0,4.0,4.0,4.0,4.0,4.0,4.0,4.0,4.0,4.0,4.0,4.0,4.0,4.0,4.0,4.0,3.0,3.0,3.0,3.0,3.0,3.0,3.0,3.0,3.0,3.0,3.0,3.0,3.0,3.0,3.0,3.0,3.0,3.0,3.0,3.0,3.0,3.0,3.0,3.0,3.0,3.0,3.0,3.0,3.0,3.0,3.0,3.0,3.0,3.0,3.0,3.0,3.0,3.0,3.0,3.0,3.0,3.0,3.0,3.0,2.0,2.0,2.0,2.0,2.0,2.0,2.0,2.0,2.0,2.0,2.0,2.0,2.0,2.0,2.0,2.0,2.0,2.0,2.0,2.0,2.0,2.0,2.0,2.0,2.0,2.0,2.0,2.0,2.0,2.0,2.0,2.0,2.0,2.0,2.0,2.0,2.0,2.0,2.0,2.0,2.0,2.0,2.0,2.0,2.0,2.0,2.0,2.0,2.0,2.0,2.0,2.0,2.0,2.0,2.0,2.0,2.0,2.0,1.0,1.0,1.0,1.0,1.0,1.0,1.0,1.0,1.0,1.0,1.0,1.0,1.0,1.0,1.0,1.0,1.0,1.0,1.0,1.0,1.0,1.0,1.0,1.0,1.0,1.0,1.0,1.0,1.0,1.0,1.0,1.0,1.0,1.0,1.0,1.0,1.0,1.0,1.0,1.0,1.0,1.0,1.0,1.0,1.0,1.0,1.0,1.0,1.0,1.0,1.0,1.0,1.0,1.0,1.0,1.0,1.0,1.0,1.0,1.0,1.0,1.0,1.0,1.0,1.0,1.0,1.0,1.0,1.0,1.0,1.0,1.0,1.0,1.0,1.0,1.0,1.0,1.0,1.0,1.0,1.0,1.0,1.0,1.0,1.0,1.0,1.0,1.0,1.0,1.0,1.0,1.0,1.0,1.0,1.0,1.0,1.0,1.0,1.0,1.0,1.0,1.0,1.0,1.0,1.0,1.0,1.0,1.0,1.0,1.0,1.0,1.0],\"textposition\":\"auto\",\"x\":[\"CHQ2O-i\",\"CHlzB2i\",\"CHiwQRG\",\"CHaKod3\",\"CHx6jsZ\",\"CHUyfkq\",\"CHkxbPw\",\"CH0PsUG\",\"CH0VR2v\",\"CHpjm6R\",\"CHPx-7A\",\"CHwx6n_\",\"CHEwOn7\",\"CHKxLXX\",\"CHk6bX-\",\"CHVWmCR\",\"CHhgOgR\",\"CHy-swB\",\"CHWYzc_\",\"CHmjNKt\",\"CHwNVDl\",\"CH1L79y\",\"CHIUfR-\",\"CHbCr1d\",\"CH78PMQ\",\"CHtDcEb\",\"CHiBKp3\",\"CHFL1sC\",\"CHyozK5\",\"CHqHP70\",\"CHZf4ZE\",\"CHqq-ov\",\"CHnx4Fi\",\"CHsRIHt\",\"CHIA-LP\",\"CH3re3u\",\"CHCfQK8\",\"CH8OUSY\",\"CHEIi7z\",\"CH1cWTE\",\"CHcOYEm\",\"CHYtjW8\",\"CHhE5nZ\",\"CHPde4g\",\"CHOHM2N\",\"CHNIiH_\",\"CHbD8Ep\",\"CH920m3\",\"CHdWgRS\",\"CHeSHil\",\"CHYyLIl\",\"CHJmcPV\",\"CHYZv9v\",\"CHnLeqv\",\"CHXZx95\",\"CHK1sVu\",\"CHExw7_\",\"CHTuthm\",\"CHTnafh\",\"CHQNRHp\",\"CHHzW_7\",\"CHiEEF5\",\"CHj-dur\",\"CH3SyT4\",\"CHriPmQ\",\"CHs1R9z\",\"CHs8R3n\",\"CH2E-9A\",\"CH6erID\",\"CH5Ida8\",\"CHxQXvv\",\"CH9idb-\",\"CH5bUcn\",\"CHy-NrX\",\"CHoXoV4\",\"CHTQVIX\",\"CHRMA_N\",\"CHweOkP\",\"CHXaYpH\",\"CHmbGE7\",\"CHybPxZ\",\"CHbuks6\",\"CHbEp_Z\",\"CHZVD--\",\"CHpPXYy\",\"CH9HNi_\",\"CHYn09y\",\"CHYgUhR\",\"CHy1fru\",\"CHhY4PX\",\"CHObJpv\",\"CHm2PiW\",\"CHMGn0N\",\"CHrSase\",\"CH46BbE\",\"CHiBr0b\",\"CHF3UEV\",\"CHF8W68\",\"CHkbJc8\",\"CHmONdw\",\"CHsNVs6\",\"CHmgt7e\",\"CHr0ade\",\"CHsOW9T\",\"CHi9Sl8\",\"CHepUWU\",\"CHk5bhZ\",\"CHoCvTl\",\"CHoUDrz\",\"CHuTKrQ\",\"CHrhH1d\",\"CHhLGxP\",\"CHgsffS\",\"CHgiO7K\",\"CHgeeQu\",\"CHgZlBR\",\"CHjGoJb\",\"CHjToDB\",\"CHtckgm\",\"CHkjXq1\",\"CH-VbFg\",\"CH2qjHK\",\"CH3m0s5\",\"CH8WoHU\",\"CH9nLq3\",\"CHDb1t5\",\"CHEI4rb\",\"CHEX1cZ\",\"CHGrfaH\",\"CHGsJRp\",\"CHH1oRy\",\"CHUnSdg\",\"CHWhiqH\",\"CHY2uWQ\",\"CHZCH_G\",\"CH_Fxf0\",\"CH_pOKL\",\"CHaNGiz\",\"CHKdfNL\",\"CHLVwgJ\",\"CHIueAL\",\"CHIY5oU\",\"CHB9e3p\",\"CH-BqPA\",\"CH_plsx\",\"CHaZS_X\",\"CHb-y7Y\",\"CHbVRtq\",\"CHcTWmz\",\"CH73yn5\",\"CHe-gh0\",\"CHem8l1\",\"CHfWZns\",\"CHg3Ydm\",\"CH68buD\",\"CHYSjF7\",\"CH2tfQf\",\"CHLynj-\",\"CH2IIBY\",\"CHM31rB\",\"CHMtFAi\",\"CHNQL3R\",\"CH4JAFO\",\"CHR5cyf\",\"CHRLM0M\",\"CH1HHeT\",\"CHS_hnp\",\"CH4nEQI\",\"CHHlSeJ\",\"CH5BMQO\",\"CH-giR4\",\"CHUXYT0\",\"CHUj6rr\",\"CHVyhgR\",\"CHYC3ZZ\",\"CHg8U-Z\",\"CHrhgVH\",\"CHu9BCt\",\"CHudezj\",\"CHvAewW\",\"CHxLc0z\",\"CHxmBxN\",\"CH9w-h_\",\"CHBI8xZ\",\"CHLKugl\",\"CHreX6A\",\"CHoW9qW\",\"CHj28Fv\",\"CHkQCwn\",\"CHDih-8\",\"CHl_tB4\",\"CH81Kll\",\"CHmApNd\",\"CHnNNN_\",\"CHnNfsL\",\"CHoQIdt\",\"CHrLUuZ\",\"CHDhM2k\",\"CHp0hYY\",\"CHod5V2\",\"CHNE1pY\",\"CHOJplh\",\"CHOtCBu\",\"CHOzWaj\",\"CHPECLB\",\"CHPKNKl\",\"CHRWzK4\",\"CHSB5FO\",\"CHSQ55i\",\"CHT2X19\",\"CHTOUUd\",\"CHTS3Lw\",\"CHTmrCB\",\"CHU8MOm\",\"CHVXN28\",\"CHWJg0Q\",\"CHNl-TU\",\"CHLtOnh\",\"CHtgggh\",\"CHLF1hN\",\"CHC1LvV\",\"CHCCjbf\",\"CHEkcg9\",\"CHFg6o2\",\"CHG0Jec\",\"CHGMHKj\",\"CHGWhMp\",\"CHGnfBj\",\"CHGrAnV\",\"CHHcDLO\",\"CHI5WgF\",\"CHIn1p2\",\"CHIuteB\",\"CHK3p1w\",\"CHKuwp5\",\"CHWstBK\",\"CHXiyTP\",\"CHYIxlZ\",\"CHYeeEw\",\"CHfugxK\",\"CHhK2Dh\",\"CHhpiLQ\",\"CHhqMfc\",\"CHiP6DC\",\"CHid83o\",\"CHjkoqt\",\"CHkPp7P\",\"CHpBkdV\",\"CHpK0ae\",\"CHrjVVh\",\"CHrnPse\",\"CHsM07d\",\"CHsU2Rl\",\"CHseQwR\",\"CHfnMSb\",\"CHffY-g\",\"CHfela5\",\"CHb2wZp\",\"CHYmo0H\",\"CHZECMC\",\"CHZTPmB\",\"CHZtpUg\",\"CH_6zPf\",\"CHa56qk\",\"CHbY7nf\",\"CHfdYUR\",\"CHbs5PG\",\"CHchRZl\",\"CHclwLh\",\"CHdUlCa\",\"CHe_oTY\",\"CHed3O-\",\"CHBwCGr\",\"CHBpzJv\",\"CHBOs39\",\"CHB-ogY\",\"CH35HKv\",\"CH3Ea2-\",\"CH3W3kE\",\"CH49ta0\",\"CH4LW3s\",\"CH4qc3p\",\"CH5q0PI\",\"CH5zXl0\",\"CH6wiUw\",\"CH7Krez\",\"CH7QX2Y\",\"CH88r6m\",\"CH8RGSE\",\"CH9kUsu\",\"CHAP8OK\",\"CH2aMxQ\",\"CH2KEmF\",\"CH2DoAr\",\"CH-Jblc\",\"CH-VOS6\",\"CH2DHU9\",\"CH1-lwA\",\"CH12YJZ\",\"CH18g7g\",\"CH1LWEy\",\"CH2-Lri\",\"CH271vX\",\"CHtCW8q\",\"CHtkQiK\",\"CHtp1ok\",\"CHuw1hx\",\"CHvScwM\",\"CHwZTee\",\"CHxjERP\",\"CHybzQL\",\"CHzt24f\"],\"xaxis\":\"x\",\"y\":[17,14,14,11,10,10,9,9,9,9,8,8,8,8,8,8,8,8,8,8,7,7,7,7,7,7,7,7,7,7,7,7,7,6,6,6,6,6,6,6,6,6,6,6,6,6,6,5,5,5,5,5,5,5,5,5,5,5,5,5,5,5,5,5,5,5,5,5,5,5,4,4,4,4,4,4,4,4,4,4,4,4,4,4,4,4,4,4,4,4,4,4,4,4,4,4,4,4,3,3,3,3,3,3,3,3,3,3,3,3,3,3,3,3,3,3,3,3,3,3,3,3,3,3,3,3,3,3,3,3,3,3,3,3,3,3,3,3,3,3,3,3,2,2,2,2,2,2,2,2,2,2,2,2,2,2,2,2,2,2,2,2,2,2,2,2,2,2,2,2,2,2,2,2,2,2,2,2,2,2,2,2,2,2,2,2,2,2,2,2,2,2,2,2,2,2,2,2,2,2,1,1,1,1,1,1,1,1,1,1,1,1,1,1,1,1,1,1,1,1,1,1,1,1,1,1,1,1,1,1,1,1,1,1,1,1,1,1,1,1,1,1,1,1,1,1,1,1,1,1,1,1,1,1,1,1,1,1,1,1,1,1,1,1,1,1,1,1,1,1,1,1,1,1,1,1,1,1,1,1,1,1,1,1,1,1,1,1,1,1,1,1,1,1,1,1,1,1,1,1,1,1,1,1,1,1,1,1,1,1,1,1],\"yaxis\":\"y\",\"type\":\"bar\"},{\"alignmentgroup\":\"True\",\"hovertemplate\":\"category_name=Sports<br>channel_id=%{x}<br>video_id=%{text}<extra></extra>\",\"legendgroup\":\"Sports\",\"marker\":{\"color\":\"#E15F99\",\"pattern\":{\"shape\":\"\"}},\"name\":\"Sports\",\"offsetgroup\":\"Sports\",\"orientation\":\"v\",\"showlegend\":true,\"text\":[15.0,12.0,10.0,9.0,8.0,7.0,7.0,7.0,7.0,7.0,6.0,6.0,6.0,6.0,6.0,6.0,5.0,5.0,5.0,5.0,5.0,4.0,4.0,4.0,4.0,3.0,3.0,2.0,2.0,2.0,2.0,2.0,2.0,2.0,2.0,2.0,2.0,2.0,1.0,1.0,1.0,1.0,1.0,1.0,1.0,1.0,1.0,1.0,1.0,1.0,1.0,1.0,1.0,1.0,1.0,1.0,1.0,1.0,1.0,1.0,1.0,1.0,1.0,1.0,1.0,1.0],\"textposition\":\"auto\",\"x\":[\"CHtybqq\",\"CHtm_Qo\",\"CHUQVGX\",\"CHunsfa\",\"CHYRrUD\",\"CHpjOmw\",\"CHdTDdy\",\"CHhg51l\",\"CHnXNuk\",\"CH2qVOO\",\"CHArK9M\",\"CHoLrcj\",\"CHkFGfv\",\"CHk4XjB\",\"CHgp0KT\",\"CHdtRAc\",\"CHdhukF\",\"CHhb4gt\",\"CHoe-0E\",\"CHqsKWT\",\"CHDIB1D\",\"CHQ4eZw\",\"CH218FQ\",\"CHc7o0O\",\"CHcQTRi\",\"CHEg25r\",\"CHZeHMS\",\"CHCA4-e\",\"CHfHsXd\",\"CH7JbUm\",\"CHh4APi\",\"CHhI3EX\",\"CHQ2TX8\",\"CHRDowc\",\"CHvMwK5\",\"CHtctOX\",\"CHn9mJ4\",\"CHoHirU\",\"CH9pdRy\",\"CHG-Q7s\",\"CHD902z\",\"CHET00Y\",\"CHChcWq\",\"CH9LQwH\",\"CHBKMc4\",\"CHI0FxD\",\"CH7YF5m\",\"CHINRJx\",\"CHKHLAo\",\"CHP6Cn6\",\"CHt8iRt\",\"CHt7dVd\",\"CHmKTwX\",\"CHi84e1\",\"CHgIArN\",\"CHbhuEJ\",\"CHZSNhO\",\"CHYJDUe\",\"CHX0xc2\",\"CHUXDKi\",\"CHTv-Xv\",\"CHTqenv\",\"CHPxCAB\",\"CH4yq3F\",\"CH3GEDF\",\"CH4_uws\"],\"xaxis\":\"x\",\"y\":[15,12,10,9,8,7,7,7,7,7,6,6,6,6,6,6,5,5,5,5,5,4,4,4,4,3,3,2,2,2,2,2,2,2,2,2,2,2,1,1,1,1,1,1,1,1,1,1,1,1,1,1,1,1,1,1,1,1,1,1,1,1,1,1,1,1],\"yaxis\":\"y\",\"type\":\"bar\"},{\"alignmentgroup\":\"True\",\"hovertemplate\":\"category_name=Comedy<br>channel_id=%{x}<br>video_id=%{text}<extra></extra>\",\"legendgroup\":\"Comedy\",\"marker\":{\"color\":\"#1CA71C\",\"pattern\":{\"shape\":\"\"}},\"name\":\"Comedy\",\"offsetgroup\":\"Comedy\",\"orientation\":\"v\",\"showlegend\":true,\"text\":[14.0,11.0,10.0,9.0,9.0,7.0,7.0,5.0,5.0,5.0,5.0,5.0,5.0,5.0,4.0,4.0,4.0,4.0,3.0,3.0,3.0,3.0,3.0,2.0,2.0,2.0,2.0,2.0,2.0,2.0,1.0,1.0,1.0,1.0,1.0,1.0,1.0,1.0,1.0,1.0,1.0,1.0,1.0,1.0,1.0,1.0,1.0,1.0,1.0,1.0],\"textposition\":\"auto\",\"x\":[\"CHmzMtX\",\"CHhbE5O\",\"CHg-p3l\",\"CHyCL5k\",\"CHZ0dIs\",\"CHGX5sP\",\"CHSc2Dc\",\"CHt_UFh\",\"CHqsPmf\",\"CHgBLs7\",\"CHRykAt\",\"CHR-qpX\",\"CHEUL40\",\"CH9nFMA\",\"CHe9f9M\",\"CH20WKI\",\"CH9ZLv1\",\"CHIuFnJ\",\"CH0SoPw\",\"CH6KwCU\",\"CH8-Th8\",\"CHN8CPz\",\"CHhvXm5\",\"CHzjiRW\",\"CHsJ6Ru\",\"CHghP93\",\"CHVsBCf\",\"CHV3i3l\",\"CHPwGQu\",\"CHK3p1w\",\"CH_gaUd\",\"CHbGXAe\",\"CHd-Sfb\",\"CHfU6o0\",\"CHg8U-Z\",\"CHivkx6\",\"CHmCNgL\",\"CHmHMsJ\",\"CHoe_Vp\",\"CHr9-Mp\",\"CHyh4ZG\",\"CHYACix\",\"CHQmu3U\",\"CHMVC92\",\"CHJpGg1\",\"CH2o_y8\",\"CH69uMh\",\"CHCjJV_\",\"CHD2YO_\",\"CHDCAyS\"],\"xaxis\":\"x\",\"y\":[14,11,10,9,9,7,7,5,5,5,5,5,5,5,4,4,4,4,3,3,3,3,3,2,2,2,2,2,2,2,1,1,1,1,1,1,1,1,1,1,1,1,1,1,1,1,1,1,1,1],\"yaxis\":\"y\",\"type\":\"bar\"},{\"alignmentgroup\":\"True\",\"hovertemplate\":\"category_name=People & Blogs<br>channel_id=%{x}<br>video_id=%{text}<extra></extra>\",\"legendgroup\":\"People & Blogs\",\"marker\":{\"color\":\"#FB0D0D\",\"pattern\":{\"shape\":\"\"}},\"name\":\"People & Blogs\",\"offsetgroup\":\"People & Blogs\",\"orientation\":\"v\",\"showlegend\":true,\"text\":[14.0,13.0,10.0,10.0,10.0,9.0,8.0,8.0,8.0,8.0,7.0,6.0,6.0,5.0,5.0,4.0,4.0,4.0,4.0,4.0,4.0,4.0,4.0,4.0,4.0,4.0,4.0,4.0,4.0,4.0,4.0,4.0,4.0,4.0,4.0,4.0,3.0,3.0,3.0,3.0,3.0,3.0,3.0,3.0,3.0,3.0,3.0,3.0,3.0,3.0,3.0,3.0,3.0,3.0,3.0,2.0,2.0,2.0,2.0,2.0,2.0,2.0,2.0,2.0,2.0,2.0,2.0,2.0,2.0,2.0,2.0,2.0,2.0,2.0,2.0,2.0,2.0,2.0,2.0,2.0,2.0,2.0,2.0,2.0,2.0,2.0,2.0,1.0,1.0,1.0,1.0,1.0,1.0,1.0,1.0,1.0,1.0,1.0,1.0,1.0,1.0,1.0,1.0,1.0,1.0,1.0,1.0,1.0,1.0,1.0,1.0,1.0,1.0,1.0,1.0,1.0,1.0,1.0,1.0,1.0,1.0,1.0,1.0,1.0,1.0,1.0,1.0,1.0,1.0,1.0,1.0,1.0,1.0,1.0,1.0,1.0,1.0,1.0,1.0,1.0,1.0,1.0,1.0,1.0,1.0,1.0,1.0,1.0,1.0,1.0,1.0,1.0,1.0,1.0,1.0,1.0,1.0,1.0,1.0,1.0,1.0,1.0,1.0,1.0,1.0,1.0],\"textposition\":\"auto\",\"x\":[\"CHIG4gr\",\"CHtfriF\",\"CHZ1wYQ\",\"CHfpaSr\",\"CHkkWd0\",\"CHoQy2w\",\"CHtkRVa\",\"CHDV9zg\",\"CHXTyJZ\",\"CHpH3rU\",\"CHYnfy2\",\"CHbFzvz\",\"CHRzS1N\",\"CHuDLnJ\",\"CHppou5\",\"CH6lNIb\",\"CHASfMq\",\"CHPZ4e8\",\"CHOOKj-\",\"CHaZS_X\",\"CHXTQWs\",\"CHUyr50\",\"CHA6KBB\",\"CHzRDCw\",\"CHoPTIa\",\"CHqNN-b\",\"CH680xb\",\"CHs9H--\",\"CHsP57H\",\"CHK72hq\",\"CHKFvox\",\"CHKUz_7\",\"CH4MfUq\",\"CH4sIlW\",\"CH31-nU\",\"CH26QQC\",\"CHkh6Tl\",\"CHYt4St\",\"CHrFlv9\",\"CHXXlcP\",\"CHhK2Dh\",\"CHXURHJ\",\"CHfqVrM\",\"CHrRn4V\",\"CHrh6bu\",\"CHyG7zA\",\"CHychoc\",\"CH2KUew\",\"CH4DnB5\",\"CH1EiHI\",\"CHNBfRy\",\"CHONPqk\",\"CHRofX4\",\"CHSiGNr\",\"CHHR4kW\",\"CH-Bsa2\",\"CH0ssa8\",\"CH0wNau\",\"CHD2KRO\",\"CHjpCOk\",\"CH_EngQ\",\"CHE8SAl\",\"CHET3I7\",\"CHLJNGm\",\"CH5RION\",\"CHM64Ik\",\"CHcxK1U\",\"CH5QSBl\",\"CHd1TDy\",\"CHdfhK0\",\"CH48NSS\",\"CHheR9R\",\"CHPhHBE\",\"CHh-1iA\",\"CHAhKKb\",\"CH26M8b\",\"CHBkXIe\",\"CHBoQ8_\",\"CHwW_qU\",\"CHrLQ0o\",\"CHqsPmf\",\"CHoLQZ4\",\"CHnet0I\",\"CHmt37g\",\"CHld0ct\",\"CHu38Cq\",\"CHtn-l7\",\"CH7bRo3\",\"CH9gxOp\",\"CH7Krez\",\"CH8MVMe\",\"CH9G7V6\",\"CHl-tyx\",\"CH-KafR\",\"CH-YRx5\",\"CH-swYD\",\"CH0PsUG\",\"CH0wTMg\",\"CH2Q9aM\",\"CH2XG0i\",\"CH2tbZf\",\"CH47HAk\",\"CH1GHhg\",\"CHKkxVS\",\"CHa_ZCX\",\"CHaPILm\",\"CH_Fq5K\",\"CHZwG8g\",\"CHYDyvq\",\"CHuZu8N\",\"CHv0QY4\",\"CHvG7co\",\"CHvjhQp\",\"CHx_kYu\",\"CHyje3j\",\"CHyn-K7\",\"CHyuL_X\",\"CHzhyI5\",\"CHWycwu\",\"CHWqWR1\",\"CHW9DtK\",\"CHW945U\",\"CHaPqda\",\"CHb_-Xu\",\"CHBHJlM\",\"CHbzDJ6\",\"CHlSUMM\",\"CHkJNt3\",\"CHmfVvm\",\"CHjn-Vb\",\"CHjHn_O\",\"CHicKQU\",\"CHiMq04\",\"CHhtdyq\",\"CHhna8l\",\"CHhji-o\",\"CHrIxxm\",\"CHs29NQ\",\"CHemKWU\",\"CHelPbn\",\"CHtctOX\",\"CHdQk6g\",\"CHtfGLm\",\"CHcQ3rs\",\"CHc7een\",\"CHVyMrl\",\"CHUsoow\",\"CHH7JoV\",\"CHGiqkg\",\"CHGInHR\",\"CHFLlNL\",\"CHF8W68\",\"CHEu_YK\",\"CHCJ2b2\",\"CHC4Qcw\",\"CHJfDSu\",\"CHJko7d\",\"CHQTqoE\",\"CHUWU2s\",\"CHTx3aC\",\"CHQWylD\",\"CHknfGX\",\"CHNYi_z\",\"CHLItMt\",\"CHL-AUQ\",\"CHKmQlV\"],\"xaxis\":\"x\",\"y\":[14,13,10,10,10,9,8,8,8,8,7,6,6,5,5,4,4,4,4,4,4,4,4,4,4,4,4,4,4,4,4,4,4,4,4,4,3,3,3,3,3,3,3,3,3,3,3,3,3,3,3,3,3,3,3,2,2,2,2,2,2,2,2,2,2,2,2,2,2,2,2,2,2,2,2,2,2,2,2,2,2,2,2,2,2,2,2,1,1,1,1,1,1,1,1,1,1,1,1,1,1,1,1,1,1,1,1,1,1,1,1,1,1,1,1,1,1,1,1,1,1,1,1,1,1,1,1,1,1,1,1,1,1,1,1,1,1,1,1,1,1,1,1,1,1,1,1,1,1,1,1,1,1,1,1,1,1,1,1,1,1,1,1,1,1,1],\"yaxis\":\"y\",\"type\":\"bar\"},{\"alignmentgroup\":\"True\",\"hovertemplate\":\"category_name=Music<br>channel_id=%{x}<br>video_id=%{text}<extra></extra>\",\"legendgroup\":\"Music\",\"marker\":{\"color\":\"#DA16FF\",\"pattern\":{\"shape\":\"\"}},\"name\":\"Music\",\"offsetgroup\":\"Music\",\"orientation\":\"v\",\"showlegend\":true,\"text\":[13.0,11.0,9.0,8.0,8.0,8.0,8.0,8.0,7.0,6.0,6.0,6.0,5.0,5.0,5.0,4.0,3.0,3.0,3.0,3.0,3.0,3.0,3.0,3.0,3.0,3.0,3.0,2.0,2.0,2.0,2.0,2.0,2.0,2.0,2.0,2.0,2.0,2.0,2.0,2.0,1.0,1.0,1.0,1.0,1.0,1.0,1.0,1.0,1.0,1.0,1.0,1.0,1.0,1.0,1.0,1.0,1.0,1.0,1.0,1.0,1.0,1.0,1.0,1.0,1.0,1.0,1.0,1.0,1.0,1.0,1.0,1.0,1.0,1.0,1.0,1.0,1.0,1.0,1.0,1.0,1.0,1.0,1.0,1.0,1.0,1.0,1.0,1.0,1.0,1.0,1.0,1.0,1.0,1.0,1.0,1.0,1.0,1.0],\"textposition\":\"auto\",\"x\":[\"CHLkAep\",\"CHEf_Bc\",\"CHzCedB\",\"CHtCiO5\",\"CH3IZKs\",\"CH9GtSL\",\"CHaO6TY\",\"CHfkXDY\",\"CHviI9l\",\"CHeLPm9\",\"CHEbRSm\",\"CHabon8\",\"CH3WZlO\",\"CHoRXPc\",\"CHe52oe\",\"CHuKdaT\",\"CHyPwRg\",\"CHwgtOR\",\"CHuhAUM\",\"CHkJ1rb\",\"CHk2E0d\",\"CHRQ7Rw\",\"CHIcXK1\",\"CHHGJwr\",\"CH-FQUI\",\"CH6nxfR\",\"CH66yQ1\",\"CHPENYt\",\"CH9vrvN\",\"CHFipx4\",\"CHk9Gmd\",\"CHsXigG\",\"CHlYq3P\",\"CHmQdC1\",\"CHpbTKp\",\"CH_pwIX\",\"CH2KmG_\",\"CH-qYkz\",\"CHYDmx2\",\"CHdNMDR\",\"CHFEVXX\",\"CHGdZ_-\",\"CHGrAnV\",\"CHHX_FN\",\"CHI3Z79\",\"CHJVA-s\",\"CHKNZsA\",\"CHMIUx2\",\"CHNk_Ik\",\"CHR5cyf\",\"CHRp-tG\",\"CHTEWSE\",\"CHXIF1a\",\"CHY7unn\",\"CHaEIlQ\",\"CHcM_a-\",\"CHG1kwS\",\"CHEdZAd\",\"CHEUX9t\",\"CH3QWks\",\"CH4htMX\",\"CH6TJkB\",\"CH6c5iD\",\"CH6tU41\",\"CH7Qts0\",\"CH8qO5r\",\"CH9LcN9\",\"CHACsUr\",\"CHACvSk\",\"CHAkWpy\",\"CHAq0pF\",\"CHArTAX\",\"CHCEi5r\",\"CHDPM_n\",\"CHcVEkH\",\"CHeQlMQ\",\"CHe_56k\",\"CHhm_d4\",\"CHritGV\",\"CHhu7d9\",\"CHkYFO5\",\"CHmTdAl\",\"CHo-E2l\",\"CHoNq-k\",\"CHq4isO\",\"CHsVcse\",\"CHzxXBQ\",\"CHvNA_f\",\"CHvolP1\",\"CHwZMmI\",\"CHwzCuK\",\"CHxOZuU\",\"CHzgxx_\",\"CH3-ec2\",\"CH2TjEZ\",\"CH0D7tP\",\"CH-jHB5\",\"CH-IG_h\"],\"xaxis\":\"x\",\"y\":[13,11,9,8,8,8,8,8,7,6,6,6,5,5,5,4,3,3,3,3,3,3,3,3,3,3,3,2,2,2,2,2,2,2,2,2,2,2,2,2,1,1,1,1,1,1,1,1,1,1,1,1,1,1,1,1,1,1,1,1,1,1,1,1,1,1,1,1,1,1,1,1,1,1,1,1,1,1,1,1,1,1,1,1,1,1,1,1,1,1,1,1,1,1,1,1,1,1],\"yaxis\":\"y\",\"type\":\"bar\"},{\"alignmentgroup\":\"True\",\"hovertemplate\":\"category_name=Film & Animation<br>channel_id=%{x}<br>video_id=%{text}<extra></extra>\",\"legendgroup\":\"Film & Animation\",\"marker\":{\"color\":\"#222A2A\",\"pattern\":{\"shape\":\"\"}},\"name\":\"Film & Animation\",\"offsetgroup\":\"Film & Animation\",\"orientation\":\"v\",\"showlegend\":true,\"text\":[13.0,10.0,7.0,5.0,5.0,4.0,3.0,3.0,3.0,2.0,2.0,2.0,1.0,1.0,1.0,1.0,1.0,1.0,1.0,1.0,1.0,1.0,1.0,1.0,1.0,1.0,1.0],\"textposition\":\"auto\",\"x\":[\"CHszFjh\",\"CHRuSxV\",\"CH6u3fo\",\"CHi-XI2\",\"CHUK4Yj\",\"CHz2Kbg\",\"CHSB5FO\",\"CHHj3qb\",\"CH6q6s6\",\"CHgmmc5\",\"CHK9PdJ\",\"CHaT8jY\",\"CHxDsmO\",\"CHxlv4a\",\"CHym553\",\"CHuRZ7_\",\"CHuKKkB\",\"CHs0P4G\",\"CH3zQwS\",\"CHCcE8B\",\"CHlN3o2\",\"CHFnuC4\",\"CHH3mJ-\",\"CHRI5Ze\",\"CHW0gUN\",\"CHY2wHB\",\"CHdq61m\"],\"xaxis\":\"x\",\"y\":[13,10,7,5,5,4,3,3,3,2,2,2,1,1,1,1,1,1,1,1,1,1,1,1,1,1,1],\"yaxis\":\"y\",\"type\":\"bar\"},{\"alignmentgroup\":\"True\",\"hovertemplate\":\"category_name=News & Politics<br>channel_id=%{x}<br>video_id=%{text}<extra></extra>\",\"legendgroup\":\"News & Politics\",\"marker\":{\"color\":\"#B68100\",\"pattern\":{\"shape\":\"\"}},\"name\":\"News & Politics\",\"offsetgroup\":\"News & Politics\",\"orientation\":\"v\",\"showlegend\":true,\"text\":[11.0,9.0,8.0,7.0,7.0,6.0,6.0,6.0,6.0,6.0,5.0,4.0,4.0,4.0,4.0,4.0,3.0,3.0,3.0,3.0,3.0,3.0,3.0,3.0,2.0,2.0,2.0,2.0,2.0,2.0,2.0,2.0,2.0,1.0,1.0,1.0,1.0,1.0,1.0,1.0,1.0,1.0,1.0,1.0,1.0,1.0,1.0,1.0,1.0,1.0,1.0,1.0,1.0,1.0,1.0,1.0],\"textposition\":\"auto\",\"x\":[\"CHsU-I-\",\"CHF4Wxd\",\"CHhlgI3\",\"CH-0C8y\",\"CHMEbRp\",\"CH_U34U\",\"CHHBvfB\",\"CHAySce\",\"CHcQTRi\",\"CHkinYT\",\"CHj3_t5\",\"CHIDOGT\",\"CHH3mJ-\",\"CHG9aFJ\",\"CHfq4V1\",\"CHQabOR\",\"CH0imOR\",\"CH1aS5C\",\"CHoxT1k\",\"CHizGMt\",\"CHYRrUD\",\"CHTHCOP\",\"CHPTy0B\",\"CH8d0Zg\",\"CHWlV3L\",\"CHMGn0N\",\"CHMLJc_\",\"CHF8AeL\",\"CHzz58-\",\"CHy-6oZ\",\"CHwRljh\",\"CHawCv9\",\"CHnfwIK\",\"CHu35od\",\"CHwCrPg\",\"CHomhAm\",\"CHliLFb\",\"CHjg8Yu\",\"CH7cF2Z\",\"CH88r6m\",\"CH9thBC\",\"CHGCGxs\",\"CHIIpmD\",\"CHIMOyt\",\"CHIipmg\",\"CHKhcMX\",\"CHLKugl\",\"CHPfxQo\",\"CHTTmtS\",\"CHWskYk\",\"CHZQj9d\",\"CHbMjg2\",\"CHeFUGS\",\"CH5GZQW\",\"CH4Aa3O\",\"CH2fNt6\"],\"xaxis\":\"x\",\"y\":[11,9,8,7,7,6,6,6,6,6,5,4,4,4,4,4,3,3,3,3,3,3,3,3,2,2,2,2,2,2,2,2,2,1,1,1,1,1,1,1,1,1,1,1,1,1,1,1,1,1,1,1,1,1,1,1],\"yaxis\":\"y\",\"type\":\"bar\"},{\"alignmentgroup\":\"True\",\"hovertemplate\":\"category_name=Education<br>channel_id=%{x}<br>video_id=%{text}<extra></extra>\",\"legendgroup\":\"Education\",\"marker\":{\"color\":\"#750D86\",\"pattern\":{\"shape\":\"\"}},\"name\":\"Education\",\"offsetgroup\":\"Education\",\"orientation\":\"v\",\"showlegend\":true,\"text\":[10.0,7.0,7.0,4.0,3.0,3.0,3.0,3.0,3.0,2.0,2.0,2.0,2.0,1.0,1.0,1.0,1.0,1.0,1.0,1.0,1.0,1.0,1.0,1.0,1.0,1.0,1.0],\"textposition\":\"auto\",\"x\":[\"CHicKQU\",\"CHl7MKZ\",\"CHuh6Br\",\"CH7F6UD\",\"CHvW8no\",\"CHnaGfD\",\"CHBJs8l\",\"CHHpIHu\",\"CHJ7LVh\",\"CHD902z\",\"CHCt6iN\",\"CH6xugt\",\"CH1-lwA\",\"CHPvwqh\",\"CH-9RQC\",\"CH5YHB-\",\"CHBM86J\",\"CHMFk5S\",\"CHO0OSA\",\"CHZ4T91\",\"CHcWXel\",\"CHgheNM\",\"CHiV4_c\",\"CHjPqSb\",\"CHma37f\",\"CHnLO88\",\"CHznImS\"],\"xaxis\":\"x\",\"y\":[10,7,7,4,3,3,3,3,3,2,2,2,2,1,1,1,1,1,1,1,1,1,1,1,1,1,1],\"yaxis\":\"y\",\"type\":\"bar\"},{\"alignmentgroup\":\"True\",\"hovertemplate\":\"category_name=Howto & Style<br>channel_id=%{x}<br>video_id=%{text}<extra></extra>\",\"legendgroup\":\"Howto & Style\",\"marker\":{\"color\":\"#EB663B\",\"pattern\":{\"shape\":\"\"}},\"name\":\"Howto & Style\",\"offsetgroup\":\"Howto & Style\",\"orientation\":\"v\",\"showlegend\":true,\"text\":[8.0,7.0,6.0,6.0,6.0,6.0,5.0,5.0,5.0,4.0,4.0,4.0,4.0,3.0,3.0,3.0,3.0,3.0,2.0,2.0,2.0,2.0,2.0,2.0,2.0,2.0,1.0,1.0,1.0,1.0,1.0,1.0,1.0,1.0,1.0,1.0,1.0,1.0,1.0,1.0,1.0,1.0,1.0,1.0],\"textposition\":\"auto\",\"x\":[\"CHd4Fmc\",\"CHn64fS\",\"CHVXx89\",\"CHIZ5rC\",\"CHBTytr\",\"CHKrhyP\",\"CHzIOIS\",\"CHy2WX3\",\"CHWrh9h\",\"CH2gasv\",\"CHZCvbW\",\"CHj8zZ1\",\"CHp94pz\",\"CHKm-cu\",\"CH6LBdA\",\"CH8wHwv\",\"CHiNS0K\",\"CHyn7ao\",\"CHuFGPh\",\"CH2xkO7\",\"CHrpB5P\",\"CHpg89Y\",\"CHkxvX8\",\"CHvil4O\",\"CHL01un\",\"CH1g9Ja\",\"CH2DHU9\",\"CH5xK2X\",\"CHCG6BE\",\"CHLduRr\",\"CHWRb5Q\",\"CHWdmhZ\",\"CHXGh59\",\"CHayVh6\",\"CHcTWmz\",\"CHnCyCL\",\"CHnZ8qy\",\"CHnekLi\",\"CHrxSR4\",\"CHxjZ0G\",\"CHz72_x\",\"CH5q0PI\",\"CH1UebY\",\"CH1EEpE\"],\"xaxis\":\"x\",\"y\":[8,7,6,6,6,6,5,5,5,4,4,4,4,3,3,3,3,3,2,2,2,2,2,2,2,2,1,1,1,1,1,1,1,1,1,1,1,1,1,1,1,1,1,1],\"yaxis\":\"y\",\"type\":\"bar\"},{\"alignmentgroup\":\"True\",\"hovertemplate\":\"category_name=Gaming<br>channel_id=%{x}<br>video_id=%{text}<extra></extra>\",\"legendgroup\":\"Gaming\",\"marker\":{\"color\":\"#511CFB\",\"pattern\":{\"shape\":\"\"}},\"name\":\"Gaming\",\"offsetgroup\":\"Gaming\",\"orientation\":\"v\",\"showlegend\":true,\"text\":[7.0,6.0,3.0,3.0,3.0,3.0,3.0,3.0,3.0,3.0,2.0,2.0,2.0,2.0,2.0,2.0,1.0,1.0,1.0,1.0,1.0,1.0,1.0,1.0,1.0,1.0,1.0,1.0,1.0,1.0,1.0,1.0,1.0,1.0,1.0,1.0,1.0,1.0,1.0,1.0,1.0,1.0,1.0,1.0,1.0,1.0,1.0],\"textposition\":\"auto\",\"x\":[\"CH8CIM3\",\"CHdrBnB\",\"CHxM_h0\",\"CHw1Dsw\",\"CHefUNE\",\"CHooLkG\",\"CH9_093\",\"CHBUNoF\",\"CHDBAVz\",\"CHzgNzU\",\"CHBA9Xa\",\"CHAOTbN\",\"CH31ypO\",\"CHom6Yh\",\"CHU_hKD\",\"CHmCNgL\",\"CHSOeJW\",\"CH2NFRq\",\"CH48NSS\",\"CH8C0Yd\",\"CH9-LID\",\"CH9aEa6\",\"CHBrb8H\",\"CHDyc0_\",\"CHGIY_O\",\"CHHxKSi\",\"CHK3p1w\",\"CHMPM0h\",\"CHNzcxC\",\"CHOKQpm\",\"CHY9pEH\",\"CHcum1r\",\"CHmMxEF\",\"CHeHFCf\",\"CHeudxd\",\"CHfycsf\",\"CHg7rkx\",\"CHj-6sZ\",\"CHlJspS\",\"CHms8Ge\",\"CHyTB7U\",\"CHnss3B\",\"CHoyaxd\",\"CHpDtPd\",\"CHpYaDy\",\"CHta_NR\",\"CHuOUU4\"],\"xaxis\":\"x\",\"y\":[7,6,3,3,3,3,3,3,3,3,2,2,2,2,2,2,1,1,1,1,1,1,1,1,1,1,1,1,1,1,1,1,1,1,1,1,1,1,1,1,1,1,1,1,1,1,1],\"yaxis\":\"y\",\"type\":\"bar\"},{\"alignmentgroup\":\"True\",\"hovertemplate\":\"category_name=Travel & Events<br>channel_id=%{x}<br>video_id=%{text}<extra></extra>\",\"legendgroup\":\"Travel & Events\",\"marker\":{\"color\":\"#00A08B\",\"pattern\":{\"shape\":\"\"}},\"name\":\"Travel & Events\",\"offsetgroup\":\"Travel & Events\",\"orientation\":\"v\",\"showlegend\":true,\"text\":[7.0,3.0,2.0,2.0,2.0,2.0,2.0,1.0,1.0,1.0],\"textposition\":\"auto\",\"x\":[\"CHlRNDV\",\"CHFw4M1\",\"CH4KYnI\",\"CHFCtZJ\",\"CHPDdt9\",\"CHPll9Z\",\"CHa0aTy\",\"CHMZO-3\",\"CH673sG\",\"CHsLoTw\"],\"xaxis\":\"x\",\"y\":[7,3,2,2,2,2,2,1,1,1],\"yaxis\":\"y\",\"type\":\"bar\"},{\"alignmentgroup\":\"True\",\"hovertemplate\":\"category_name=Science & Technology<br>channel_id=%{x}<br>video_id=%{text}<extra></extra>\",\"legendgroup\":\"Science & Technology\",\"marker\":{\"color\":\"#FB00D1\",\"pattern\":{\"shape\":\"\"}},\"name\":\"Science & Technology\",\"offsetgroup\":\"Science & Technology\",\"orientation\":\"v\",\"showlegend\":true,\"text\":[7.0,3.0,3.0,2.0,2.0,2.0,2.0,2.0,2.0,1.0,1.0,1.0,1.0,1.0,1.0,1.0,1.0,1.0,1.0,1.0],\"textposition\":\"auto\",\"x\":[\"CHdUcjk\",\"CH3dJKw\",\"CHJJ_n7\",\"CHIk1-y\",\"CHFX6ad\",\"CHE_M8A\",\"CHB11SA\",\"CHUkuuo\",\"CH_0oo0\",\"CHJiv3w\",\"CHO4RG1\",\"CHWnC1r\",\"CHWwgaK\",\"CHYAvG7\",\"CHb-Abq\",\"CHdpbqw\",\"CHj-MI9\",\"CHrBpV_\",\"CHJKZoV\",\"CH5aNQ6\"],\"xaxis\":\"x\",\"y\":[7,3,3,2,2,2,2,2,2,1,1,1,1,1,1,1,1,1,1,1],\"yaxis\":\"y\",\"type\":\"bar\"},{\"alignmentgroup\":\"True\",\"hovertemplate\":\"category_name=Pets & Animals<br>channel_id=%{x}<br>video_id=%{text}<extra></extra>\",\"legendgroup\":\"Pets & Animals\",\"marker\":{\"color\":\"#FC0080\",\"pattern\":{\"shape\":\"\"}},\"name\":\"Pets & Animals\",\"offsetgroup\":\"Pets & Animals\",\"orientation\":\"v\",\"showlegend\":true,\"text\":[6.0,5.0,5.0,4.0,4.0,4.0,4.0,3.0,3.0,3.0,3.0,3.0,2.0,2.0,2.0,1.0,1.0,1.0,1.0,1.0,1.0,1.0,1.0,1.0,1.0,1.0,1.0],\"textposition\":\"auto\",\"x\":[\"CH29-Il\",\"CH69l_r\",\"CHAhKKb\",\"CHOp66V\",\"CHgsgpE\",\"CHi_IoQ\",\"CH22go5\",\"CHOv1v2\",\"CHPTM-N\",\"CHHLDBh\",\"CH3PSZi\",\"CHkuA_g\",\"CHETBLy\",\"CH89A41\",\"CHHXnna\",\"CH-IYpd\",\"CH04-af\",\"CH5AAf4\",\"CHHgL0B\",\"CHP1CQH\",\"CHX2laR\",\"CHa2LU4\",\"CHd1TDy\",\"CHf0Mkc\",\"CHj-rqv\",\"CHtbOb9\",\"CHzjDgV\"],\"xaxis\":\"x\",\"y\":[6,5,5,4,4,4,4,3,3,3,3,3,2,2,2,1,1,1,1,1,1,1,1,1,1,1,1],\"yaxis\":\"y\",\"type\":\"bar\"},{\"alignmentgroup\":\"True\",\"hovertemplate\":\"category_name=Autos & Vehicles<br>channel_id=%{x}<br>video_id=%{text}<extra></extra>\",\"legendgroup\":\"Autos & Vehicles\",\"marker\":{\"color\":\"#B2828D\",\"pattern\":{\"shape\":\"\"}},\"name\":\"Autos & Vehicles\",\"offsetgroup\":\"Autos & Vehicles\",\"orientation\":\"v\",\"showlegend\":true,\"text\":[3.0,3.0,3.0,2.0,2.0,2.0,2.0,2.0,2.0,1.0,1.0,1.0,1.0,1.0,1.0,1.0,1.0,1.0,1.0],\"textposition\":\"auto\",\"x\":[\"CHPbxBh\",\"CHiubh7\",\"CHrOl7I\",\"CH2xkO7\",\"CHrXkDA\",\"CHd5CdY\",\"CHH5U89\",\"CHDpnvN\",\"CH5f97D\",\"CH-IBt8\",\"CHp0B9n\",\"CHKnKi2\",\"CHSkpiP\",\"CHWY41Q\",\"CHYVZ6z\",\"CH_rBRr\",\"CHkGHfa\",\"CHs2TmE\",\"CHyF14S\"],\"xaxis\":\"x\",\"y\":[3,3,3,2,2,2,2,2,2,1,1,1,1,1,1,1,1,1,1],\"yaxis\":\"y\",\"type\":\"bar\"},{\"alignmentgroup\":\"True\",\"hovertemplate\":\"category_name=Nonprofits & Activism<br>channel_id=%{x}<br>video_id=%{text}<extra></extra>\",\"legendgroup\":\"Nonprofits & Activism\",\"marker\":{\"color\":\"#6C7C32\",\"pattern\":{\"shape\":\"\"}},\"name\":\"Nonprofits & Activism\",\"offsetgroup\":\"Nonprofits & Activism\",\"orientation\":\"v\",\"showlegend\":true,\"text\":[1.0],\"textposition\":\"auto\",\"x\":[\"CHSsWdU\"],\"xaxis\":\"x\",\"y\":[1],\"yaxis\":\"y\",\"type\":\"bar\"}],                        {\"template\":{\"data\":{\"bar\":[{\"error_x\":{\"color\":\"#2a3f5f\"},\"error_y\":{\"color\":\"#2a3f5f\"},\"marker\":{\"line\":{\"color\":\"#E5ECF6\",\"width\":0.5},\"pattern\":{\"fillmode\":\"overlay\",\"size\":10,\"solidity\":0.2}},\"type\":\"bar\"}],\"barpolar\":[{\"marker\":{\"line\":{\"color\":\"#E5ECF6\",\"width\":0.5},\"pattern\":{\"fillmode\":\"overlay\",\"size\":10,\"solidity\":0.2}},\"type\":\"barpolar\"}],\"carpet\":[{\"aaxis\":{\"endlinecolor\":\"#2a3f5f\",\"gridcolor\":\"white\",\"linecolor\":\"white\",\"minorgridcolor\":\"white\",\"startlinecolor\":\"#2a3f5f\"},\"baxis\":{\"endlinecolor\":\"#2a3f5f\",\"gridcolor\":\"white\",\"linecolor\":\"white\",\"minorgridcolor\":\"white\",\"startlinecolor\":\"#2a3f5f\"},\"type\":\"carpet\"}],\"choropleth\":[{\"colorbar\":{\"outlinewidth\":0,\"ticks\":\"\"},\"type\":\"choropleth\"}],\"contour\":[{\"colorbar\":{\"outlinewidth\":0,\"ticks\":\"\"},\"colorscale\":[[0.0,\"#0d0887\"],[0.1111111111111111,\"#46039f\"],[0.2222222222222222,\"#7201a8\"],[0.3333333333333333,\"#9c179e\"],[0.4444444444444444,\"#bd3786\"],[0.5555555555555556,\"#d8576b\"],[0.6666666666666666,\"#ed7953\"],[0.7777777777777778,\"#fb9f3a\"],[0.8888888888888888,\"#fdca26\"],[1.0,\"#f0f921\"]],\"type\":\"contour\"}],\"contourcarpet\":[{\"colorbar\":{\"outlinewidth\":0,\"ticks\":\"\"},\"type\":\"contourcarpet\"}],\"heatmap\":[{\"colorbar\":{\"outlinewidth\":0,\"ticks\":\"\"},\"colorscale\":[[0.0,\"#0d0887\"],[0.1111111111111111,\"#46039f\"],[0.2222222222222222,\"#7201a8\"],[0.3333333333333333,\"#9c179e\"],[0.4444444444444444,\"#bd3786\"],[0.5555555555555556,\"#d8576b\"],[0.6666666666666666,\"#ed7953\"],[0.7777777777777778,\"#fb9f3a\"],[0.8888888888888888,\"#fdca26\"],[1.0,\"#f0f921\"]],\"type\":\"heatmap\"}],\"heatmapgl\":[{\"colorbar\":{\"outlinewidth\":0,\"ticks\":\"\"},\"colorscale\":[[0.0,\"#0d0887\"],[0.1111111111111111,\"#46039f\"],[0.2222222222222222,\"#7201a8\"],[0.3333333333333333,\"#9c179e\"],[0.4444444444444444,\"#bd3786\"],[0.5555555555555556,\"#d8576b\"],[0.6666666666666666,\"#ed7953\"],[0.7777777777777778,\"#fb9f3a\"],[0.8888888888888888,\"#fdca26\"],[1.0,\"#f0f921\"]],\"type\":\"heatmapgl\"}],\"histogram\":[{\"marker\":{\"pattern\":{\"fillmode\":\"overlay\",\"size\":10,\"solidity\":0.2}},\"type\":\"histogram\"}],\"histogram2d\":[{\"colorbar\":{\"outlinewidth\":0,\"ticks\":\"\"},\"colorscale\":[[0.0,\"#0d0887\"],[0.1111111111111111,\"#46039f\"],[0.2222222222222222,\"#7201a8\"],[0.3333333333333333,\"#9c179e\"],[0.4444444444444444,\"#bd3786\"],[0.5555555555555556,\"#d8576b\"],[0.6666666666666666,\"#ed7953\"],[0.7777777777777778,\"#fb9f3a\"],[0.8888888888888888,\"#fdca26\"],[1.0,\"#f0f921\"]],\"type\":\"histogram2d\"}],\"histogram2dcontour\":[{\"colorbar\":{\"outlinewidth\":0,\"ticks\":\"\"},\"colorscale\":[[0.0,\"#0d0887\"],[0.1111111111111111,\"#46039f\"],[0.2222222222222222,\"#7201a8\"],[0.3333333333333333,\"#9c179e\"],[0.4444444444444444,\"#bd3786\"],[0.5555555555555556,\"#d8576b\"],[0.6666666666666666,\"#ed7953\"],[0.7777777777777778,\"#fb9f3a\"],[0.8888888888888888,\"#fdca26\"],[1.0,\"#f0f921\"]],\"type\":\"histogram2dcontour\"}],\"mesh3d\":[{\"colorbar\":{\"outlinewidth\":0,\"ticks\":\"\"},\"type\":\"mesh3d\"}],\"parcoords\":[{\"line\":{\"colorbar\":{\"outlinewidth\":0,\"ticks\":\"\"}},\"type\":\"parcoords\"}],\"pie\":[{\"automargin\":true,\"type\":\"pie\"}],\"scatter\":[{\"marker\":{\"colorbar\":{\"outlinewidth\":0,\"ticks\":\"\"}},\"type\":\"scatter\"}],\"scatter3d\":[{\"line\":{\"colorbar\":{\"outlinewidth\":0,\"ticks\":\"\"}},\"marker\":{\"colorbar\":{\"outlinewidth\":0,\"ticks\":\"\"}},\"type\":\"scatter3d\"}],\"scattercarpet\":[{\"marker\":{\"colorbar\":{\"outlinewidth\":0,\"ticks\":\"\"}},\"type\":\"scattercarpet\"}],\"scattergeo\":[{\"marker\":{\"colorbar\":{\"outlinewidth\":0,\"ticks\":\"\"}},\"type\":\"scattergeo\"}],\"scattergl\":[{\"marker\":{\"colorbar\":{\"outlinewidth\":0,\"ticks\":\"\"}},\"type\":\"scattergl\"}],\"scattermapbox\":[{\"marker\":{\"colorbar\":{\"outlinewidth\":0,\"ticks\":\"\"}},\"type\":\"scattermapbox\"}],\"scatterpolar\":[{\"marker\":{\"colorbar\":{\"outlinewidth\":0,\"ticks\":\"\"}},\"type\":\"scatterpolar\"}],\"scatterpolargl\":[{\"marker\":{\"colorbar\":{\"outlinewidth\":0,\"ticks\":\"\"}},\"type\":\"scatterpolargl\"}],\"scatterternary\":[{\"marker\":{\"colorbar\":{\"outlinewidth\":0,\"ticks\":\"\"}},\"type\":\"scatterternary\"}],\"surface\":[{\"colorbar\":{\"outlinewidth\":0,\"ticks\":\"\"},\"colorscale\":[[0.0,\"#0d0887\"],[0.1111111111111111,\"#46039f\"],[0.2222222222222222,\"#7201a8\"],[0.3333333333333333,\"#9c179e\"],[0.4444444444444444,\"#bd3786\"],[0.5555555555555556,\"#d8576b\"],[0.6666666666666666,\"#ed7953\"],[0.7777777777777778,\"#fb9f3a\"],[0.8888888888888888,\"#fdca26\"],[1.0,\"#f0f921\"]],\"type\":\"surface\"}],\"table\":[{\"cells\":{\"fill\":{\"color\":\"#EBF0F8\"},\"line\":{\"color\":\"white\"}},\"header\":{\"fill\":{\"color\":\"#C8D4E3\"},\"line\":{\"color\":\"white\"}},\"type\":\"table\"}]},\"layout\":{\"annotationdefaults\":{\"arrowcolor\":\"#2a3f5f\",\"arrowhead\":0,\"arrowwidth\":1},\"autotypenumbers\":\"strict\",\"coloraxis\":{\"colorbar\":{\"outlinewidth\":0,\"ticks\":\"\"}},\"colorscale\":{\"diverging\":[[0,\"#8e0152\"],[0.1,\"#c51b7d\"],[0.2,\"#de77ae\"],[0.3,\"#f1b6da\"],[0.4,\"#fde0ef\"],[0.5,\"#f7f7f7\"],[0.6,\"#e6f5d0\"],[0.7,\"#b8e186\"],[0.8,\"#7fbc41\"],[0.9,\"#4d9221\"],[1,\"#276419\"]],\"sequential\":[[0.0,\"#0d0887\"],[0.1111111111111111,\"#46039f\"],[0.2222222222222222,\"#7201a8\"],[0.3333333333333333,\"#9c179e\"],[0.4444444444444444,\"#bd3786\"],[0.5555555555555556,\"#d8576b\"],[0.6666666666666666,\"#ed7953\"],[0.7777777777777778,\"#fb9f3a\"],[0.8888888888888888,\"#fdca26\"],[1.0,\"#f0f921\"]],\"sequentialminus\":[[0.0,\"#0d0887\"],[0.1111111111111111,\"#46039f\"],[0.2222222222222222,\"#7201a8\"],[0.3333333333333333,\"#9c179e\"],[0.4444444444444444,\"#bd3786\"],[0.5555555555555556,\"#d8576b\"],[0.6666666666666666,\"#ed7953\"],[0.7777777777777778,\"#fb9f3a\"],[0.8888888888888888,\"#fdca26\"],[1.0,\"#f0f921\"]]},\"colorway\":[\"#636efa\",\"#EF553B\",\"#00cc96\",\"#ab63fa\",\"#FFA15A\",\"#19d3f3\",\"#FF6692\",\"#B6E880\",\"#FF97FF\",\"#FECB52\"],\"font\":{\"color\":\"#2a3f5f\"},\"geo\":{\"bgcolor\":\"white\",\"lakecolor\":\"white\",\"landcolor\":\"#E5ECF6\",\"showlakes\":true,\"showland\":true,\"subunitcolor\":\"white\"},\"hoverlabel\":{\"align\":\"left\"},\"hovermode\":\"closest\",\"mapbox\":{\"style\":\"light\"},\"paper_bgcolor\":\"white\",\"plot_bgcolor\":\"#E5ECF6\",\"polar\":{\"angularaxis\":{\"gridcolor\":\"white\",\"linecolor\":\"white\",\"ticks\":\"\"},\"bgcolor\":\"#E5ECF6\",\"radialaxis\":{\"gridcolor\":\"white\",\"linecolor\":\"white\",\"ticks\":\"\"}},\"scene\":{\"xaxis\":{\"backgroundcolor\":\"#E5ECF6\",\"gridcolor\":\"white\",\"gridwidth\":2,\"linecolor\":\"white\",\"showbackground\":true,\"ticks\":\"\",\"zerolinecolor\":\"white\"},\"yaxis\":{\"backgroundcolor\":\"#E5ECF6\",\"gridcolor\":\"white\",\"gridwidth\":2,\"linecolor\":\"white\",\"showbackground\":true,\"ticks\":\"\",\"zerolinecolor\":\"white\"},\"zaxis\":{\"backgroundcolor\":\"#E5ECF6\",\"gridcolor\":\"white\",\"gridwidth\":2,\"linecolor\":\"white\",\"showbackground\":true,\"ticks\":\"\",\"zerolinecolor\":\"white\"}},\"shapedefaults\":{\"line\":{\"color\":\"#2a3f5f\"}},\"ternary\":{\"aaxis\":{\"gridcolor\":\"white\",\"linecolor\":\"white\",\"ticks\":\"\"},\"baxis\":{\"gridcolor\":\"white\",\"linecolor\":\"white\",\"ticks\":\"\"},\"bgcolor\":\"#E5ECF6\",\"caxis\":{\"gridcolor\":\"white\",\"linecolor\":\"white\",\"ticks\":\"\"}},\"title\":{\"x\":0.05},\"xaxis\":{\"automargin\":true,\"gridcolor\":\"white\",\"linecolor\":\"white\",\"ticks\":\"\",\"title\":{\"standoff\":15},\"zerolinecolor\":\"white\",\"zerolinewidth\":2},\"yaxis\":{\"automargin\":true,\"gridcolor\":\"white\",\"linecolor\":\"white\",\"ticks\":\"\",\"title\":{\"standoff\":15},\"zerolinecolor\":\"white\",\"zerolinewidth\":2}}},\"xaxis\":{\"anchor\":\"y\",\"domain\":[0.0,1.0],\"title\":{\"text\":\"Channel\"}},\"yaxis\":{\"anchor\":\"x\",\"domain\":[0.0,1.0],\"title\":{\"text\":\"Video Count\"}},\"legend\":{\"title\":{\"text\":\"category_name\"},\"tracegroupgap\":0},\"margin\":{\"t\":60},\"barmode\":\"stack\",\"title\":{\"text\":\"Video Count by Category and Channel\"},\"width\":1600,\"height\":800},                        {\"responsive\": true}                    ).then(function(){\n",
       "                            \n",
       "var gd = document.getElementById('870df475-2125-4b35-8ca0-a7b6ad01a6e4');\n",
       "var x = new MutationObserver(function (mutations, observer) {{\n",
       "        var display = window.getComputedStyle(gd).display;\n",
       "        if (!display || display === 'none') {{\n",
       "            console.log([gd, 'removed!']);\n",
       "            Plotly.purge(gd);\n",
       "            observer.disconnect();\n",
       "        }}\n",
       "}});\n",
       "\n",
       "// Listen for the removal of the full notebook cells\n",
       "var notebookContainer = gd.closest('#notebook-container');\n",
       "if (notebookContainer) {{\n",
       "    x.observe(notebookContainer, {childList: true});\n",
       "}}\n",
       "\n",
       "// Listen for the clearing of the current output cell\n",
       "var outputEl = gd.closest('.output');\n",
       "if (outputEl) {{\n",
       "    x.observe(outputEl, {childList: true});\n",
       "}}\n",
       "\n",
       "                        })                };                });            </script>        </div>"
      ]
     },
     "metadata": {},
     "output_type": "display_data"
    }
   ],
   "source": [
    "youtube_viz.solve_q1_1()"
   ]
  },
  {
   "cell_type": "markdown",
   "metadata": {},
   "source": [
    "### Q1-2 월별 카테고리별 채널별 비디오 개수"
   ]
  },
  {
   "cell_type": "code",
   "execution_count": 43,
   "metadata": {},
   "outputs": [
    {
     "data": {
      "application/vnd.plotly.v1+json": {
       "config": {
        "plotlyServerURL": "https://plot.ly"
       },
       "data": [
        {
         "alignmentgroup": "True",
         "hovertemplate": "category_name=Sports<br>year_month=2021-06<br>channel_id=%{x}<br>video_id=%{text}<extra></extra>",
         "legendgroup": "Sports",
         "marker": {
          "color": "#FD3216",
          "pattern": {
           "shape": ""
          }
         },
         "name": "Sports",
         "offsetgroup": "Sports",
         "orientation": "v",
         "showlegend": true,
         "text": [
          15,
          6,
          4,
          3,
          3,
          3,
          2,
          2,
          2,
          2,
          2,
          2,
          2,
          2,
          2,
          1,
          1,
          1,
          1,
          1,
          1,
          1,
          1,
          1,
          1,
          1,
          1,
          1,
          1,
          1,
          1,
          1
         ],
         "textposition": "auto",
         "type": "bar",
         "x": [
          "CHtybqq",
          "CHpjOmw",
          "CHdtRAc",
          "CHdTDdy",
          "CH218FQ",
          "CHdhukF",
          "CHvMwK5",
          "CHQ4eZw",
          "CHUQVGX",
          "CHfHsXd",
          "CHgp0KT",
          "CHhg51l",
          "CHoe-0E",
          "CHqsKWT",
          "CHtctOX",
          "CHunsfa",
          "CHtm_Qo",
          "CHYJDUe",
          "CHZeHMS",
          "CHc7o0O",
          "CHi84e1",
          "CHkFGfv",
          "CHnXNuk",
          "CHoLrcj",
          "CHTqenv",
          "CHI0FxD",
          "CH2qVOO",
          "CH4yq3F",
          "CH7YF5m",
          "CHBKMc4",
          "CHDIB1D",
          "CHINRJx"
         ],
         "xaxis": "x5",
         "y": [
          15,
          6,
          4,
          3,
          3,
          3,
          2,
          2,
          2,
          2,
          2,
          2,
          2,
          2,
          2,
          1,
          1,
          1,
          1,
          1,
          1,
          1,
          1,
          1,
          1,
          1,
          1,
          1,
          1,
          1,
          1,
          1
         ],
         "yaxis": "y5"
        },
        {
         "alignmentgroup": "True",
         "hovertemplate": "category_name=Sports<br>year_month=2021-05<br>channel_id=%{x}<br>video_id=%{text}<extra></extra>",
         "legendgroup": "Sports",
         "marker": {
          "color": "#FD3216",
          "pattern": {
           "shape": ""
          }
         },
         "name": "Sports",
         "offsetgroup": "Sports",
         "orientation": "v",
         "showlegend": false,
         "text": [
          5,
          2,
          2,
          2,
          2,
          1,
          1,
          1,
          1,
          1,
          1,
          1,
          1,
          1,
          1,
          1,
          1,
          1,
          1,
          1,
          1,
          1,
          1,
          1,
          1
         ],
         "textposition": "auto",
         "type": "bar",
         "x": [
          "CHunsfa",
          "CHdTDdy",
          "CHdtRAc",
          "CHkFGfv",
          "CHtm_Qo",
          "CH9LQwH",
          "CH7JbUm",
          "CH2qVOO",
          "CHChcWq",
          "CHP6Cn6",
          "CHRDowc",
          "CHUQVGX",
          "CHZeHMS",
          "CHdhukF",
          "CHgIArN",
          "CHgp0KT",
          "CHh4APi",
          "CHhI3EX",
          "CHhb4gt",
          "CHn9mJ4",
          "CHnXNuk",
          "CHoHirU",
          "CHoLrcj",
          "CHqsKWT",
          "CHt8iRt"
         ],
         "xaxis": "x4",
         "y": [
          5,
          2,
          2,
          2,
          2,
          1,
          1,
          1,
          1,
          1,
          1,
          1,
          1,
          1,
          1,
          1,
          1,
          1,
          1,
          1,
          1,
          1,
          1,
          1,
          1
         ],
         "yaxis": "y4"
        },
        {
         "alignmentgroup": "True",
         "hovertemplate": "category_name=Sports<br>year_month=2021-07<br>channel_id=%{x}<br>video_id=%{text}<extra></extra>",
         "legendgroup": "Sports",
         "marker": {
          "color": "#FD3216",
          "pattern": {
           "shape": ""
          }
         },
         "name": "Sports",
         "offsetgroup": "Sports",
         "orientation": "v",
         "showlegend": false,
         "text": [
          8,
          6,
          6,
          5,
          4,
          4,
          4,
          3,
          2,
          2,
          2,
          2,
          2,
          1,
          1,
          1,
          1,
          1,
          1,
          1,
          1,
          1,
          1,
          1,
          1,
          1,
          1,
          1
         ],
         "textposition": "auto",
         "type": "bar",
         "x": [
          "CHYRrUD",
          "CHUQVGX",
          "CHk4XjB",
          "CHArK9M",
          "CHDIB1D",
          "CHcQTRi",
          "CHtm_Qo",
          "CHoe-0E",
          "CHEg25r",
          "CHQ2TX8",
          "CHoLrcj",
          "CHnXNuk",
          "CHkFGfv",
          "CH218FQ",
          "CHQ4eZw",
          "CHPxCAB",
          "CHG-Q7s",
          "CHRDowc",
          "CHbhuEJ",
          "CHc7o0O",
          "CHdhukF",
          "CHgp0KT",
          "CHhI3EX",
          "CHhb4gt",
          "CHhg51l",
          "CHpjOmw",
          "CHqsKWT",
          "CHunsfa"
         ],
         "xaxis": "x3",
         "y": [
          8,
          6,
          6,
          5,
          4,
          4,
          4,
          3,
          2,
          2,
          2,
          2,
          2,
          1,
          1,
          1,
          1,
          1,
          1,
          1,
          1,
          1,
          1,
          1,
          1,
          1,
          1,
          1
         ],
         "yaxis": "y3"
        },
        {
         "alignmentgroup": "True",
         "hovertemplate": "category_name=Sports<br>year_month=2021-04<br>channel_id=%{x}<br>video_id=%{text}<extra></extra>",
         "legendgroup": "Sports",
         "marker": {
          "color": "#FD3216",
          "pattern": {
           "shape": ""
          }
         },
         "name": "Sports",
         "offsetgroup": "Sports",
         "orientation": "v",
         "showlegend": false,
         "text": [
          5,
          4,
          4,
          3,
          3,
          2,
          2,
          2,
          2,
          2,
          1,
          1,
          1,
          1,
          1,
          1,
          1,
          1,
          1,
          1,
          1,
          1,
          1,
          1,
          1,
          1,
          1,
          1,
          1,
          1,
          1,
          1
         ],
         "textposition": "auto",
         "type": "bar",
         "x": [
          "CHtm_Qo",
          "CH2qVOO",
          "CHhg51l",
          "CHhb4gt",
          "CHnXNuk",
          "CHdTDdy",
          "CHgp0KT",
          "CHoLrcj",
          "CHc7o0O",
          "CHunsfa",
          "CHt7dVd",
          "CHqsKWT",
          "CHn9mJ4",
          "CHmKTwX",
          "CHkFGfv",
          "CHh4APi",
          "CHZeHMS",
          "CH3GEDF",
          "CH4_uws",
          "CH7JbUm",
          "CH9pdRy",
          "CHArK9M",
          "CHTv-Xv",
          "CHUQVGX",
          "CHCA4-e",
          "CHUXDKi",
          "CHX0xc2",
          "CHQ4eZw",
          "CHKHLAo",
          "CHEg25r",
          "CHET00Y",
          "CHD902z"
         ],
         "xaxis": "x2",
         "y": [
          5,
          4,
          4,
          3,
          3,
          2,
          2,
          2,
          2,
          2,
          1,
          1,
          1,
          1,
          1,
          1,
          1,
          1,
          1,
          1,
          1,
          1,
          1,
          1,
          1,
          1,
          1,
          1,
          1,
          1,
          1,
          1
         ],
         "yaxis": "y2"
        },
        {
         "alignmentgroup": "True",
         "hovertemplate": "category_name=Sports<br>year_month=2021-03<br>channel_id=%{x}<br>video_id=%{text}<extra></extra>",
         "legendgroup": "Sports",
         "marker": {
          "color": "#FD3216",
          "pattern": {
           "shape": ""
          }
         },
         "name": "Sports",
         "offsetgroup": "Sports",
         "orientation": "v",
         "showlegend": false,
         "text": [
          1,
          1,
          1,
          1
         ],
         "textposition": "auto",
         "type": "bar",
         "x": [
          "CHZSNhO",
          "CHoHirU",
          "CHCA4-e",
          "CH2qVOO"
         ],
         "xaxis": "x",
         "y": [
          1,
          1,
          1,
          1
         ],
         "yaxis": "y"
        },
        {
         "alignmentgroup": "True",
         "hovertemplate": "category_name=Entertainment<br>year_month=2021-06<br>channel_id=%{x}<br>video_id=%{text}<extra></extra>",
         "legendgroup": "Entertainment",
         "marker": {
          "color": "#00FE35",
          "pattern": {
           "shape": ""
          }
         },
         "name": "Entertainment",
         "offsetgroup": "Entertainment",
         "orientation": "v",
         "showlegend": true,
         "text": [
          5,
          4,
          4,
          3,
          3,
          3,
          3,
          3,
          3,
          3,
          3,
          3,
          3,
          3,
          3,
          3,
          3,
          3,
          3,
          2,
          2,
          2,
          2,
          2,
          2,
          2,
          2,
          2,
          2,
          2,
          2,
          2,
          2,
          2,
          2,
          2,
          2,
          2,
          2,
          2,
          2,
          2,
          2,
          2,
          2,
          2,
          2,
          2,
          2,
          2,
          2,
          2,
          2,
          2,
          2,
          2,
          2,
          2,
          2,
          2,
          1,
          1,
          1,
          1,
          1,
          1,
          1,
          1,
          1,
          1,
          1,
          1,
          1,
          1,
          1,
          1,
          1,
          1,
          1,
          1,
          1,
          1,
          1,
          1,
          1,
          1,
          1,
          1,
          1,
          1,
          1,
          1,
          1,
          1,
          1,
          1,
          1,
          1,
          1,
          1,
          1,
          1,
          1,
          1,
          1,
          1,
          1,
          1,
          1,
          1,
          1,
          1,
          1,
          1,
          1,
          1,
          1,
          1,
          1,
          1,
          1,
          1,
          1,
          1,
          1,
          1,
          1,
          1,
          1,
          1,
          1,
          1,
          1,
          1,
          1,
          1,
          1,
          1
         ],
         "textposition": "auto",
         "type": "bar",
         "x": [
          "CHUyfkq",
          "CHVWmCR",
          "CHlzB2i",
          "CHqHP70",
          "CHj-dur",
          "CHiBKp3",
          "CHiwQRG",
          "CHcOYEm",
          "CHZVD--",
          "CHTQVIX",
          "CHPx-7A",
          "CHIA-LP",
          "CHF8W68",
          "CH78PMQ",
          "CH6erID",
          "CH3re3u",
          "CH2E-9A",
          "CH0VR2v",
          "CH0PsUG",
          "CH9HNi_",
          "CHCfQK8",
          "CHDih-8",
          "CHHzW_7",
          "CHKxLXX",
          "CHOHM2N",
          "CHObJpv",
          "CHQ2O-i",
          "CHRMA_N",
          "CHUj6rr",
          "CHUnSdg",
          "CHVyhgR",
          "CHyozK5",
          "CHk6bX-",
          "CHmgt7e",
          "CHnNNN_",
          "CHnx4Fi",
          "CHpjm6R",
          "CHqq-ov",
          "CHrSase",
          "CHrhH1d",
          "CHs8R3n",
          "CHtDcEb",
          "CHuTKrQ",
          "CHwNVDl",
          "CHweOkP",
          "CHwx6n_",
          "CHx6jsZ",
          "CHk5bhZ",
          "CHXZx95",
          "CHjToDB",
          "CHYgUhR",
          "CHaKod3",
          "CHaNGiz",
          "CHbuks6",
          "CHdWgRS",
          "CHgiO7K",
          "CHhgOgR",
          "CHi9Sl8",
          "CHiBr0b",
          "CHiEEF5",
          "CHfugxK",
          "CHhY4PX",
          "CHhE5nZ",
          "CHgsffS",
          "CHgeeQu",
          "CHfWZns",
          "CHb2wZp",
          "CHclwLh",
          "CHbY7nf",
          "CHbD8Ep",
          "CHjGoJb",
          "CHkbJc8",
          "CHkjXq1",
          "CHmbGE7",
          "CHmjNKt",
          "CHbCr1d",
          "CHoUDrz",
          "CHQNRHp",
          "CHOzWaj",
          "CHOJplh",
          "CHLtOnh",
          "CHLKugl",
          "CHKdfNL",
          "CHK3p1w",
          "CHK1sVu",
          "CHJmcPV",
          "CHT2X19",
          "CHTnafh",
          "CHTuthm",
          "CHWYzc_",
          "CHXiyTP",
          "CHY2uWQ",
          "CHYZv9v",
          "CHYtjW8",
          "CHZf4ZE",
          "CHoQIdt",
          "CHp0hYY",
          "CHsM07d",
          "CHudezj",
          "CHtp1ok",
          "CHsRIHt",
          "CHsOW9T",
          "CHsNVs6",
          "CHs1R9z",
          "CHrnPse",
          "CHriPmQ",
          "CHr0ade",
          "CHxQXvv",
          "CHy-NrX",
          "CHy1fru",
          "CHybPxZ",
          "CHybzQL",
          "CHzt24f",
          "CHIueAL",
          "CHIn1p2",
          "CHGWhMp",
          "CH2qjHK",
          "CH73yn5",
          "CH68buD",
          "CH5bUcn",
          "CH3W3kE",
          "CH2KEmF",
          "CH2IIBY",
          "CH1cWTE",
          "CH1-lwA",
          "CH81Kll",
          "CH8OUSY",
          "CH8RGSE",
          "CH8WoHU",
          "CH9idb-",
          "CH9nLq3",
          "CHC1LvV",
          "CHDb1t5",
          "CHEI4rb",
          "CHEIi7z",
          "CHEX1cZ",
          "CHEwOn7",
          "CHF3UEV"
         ],
         "xaxis": "x5",
         "y": [
          5,
          4,
          4,
          3,
          3,
          3,
          3,
          3,
          3,
          3,
          3,
          3,
          3,
          3,
          3,
          3,
          3,
          3,
          3,
          2,
          2,
          2,
          2,
          2,
          2,
          2,
          2,
          2,
          2,
          2,
          2,
          2,
          2,
          2,
          2,
          2,
          2,
          2,
          2,
          2,
          2,
          2,
          2,
          2,
          2,
          2,
          2,
          2,
          2,
          2,
          2,
          2,
          2,
          2,
          2,
          2,
          2,
          2,
          2,
          2,
          1,
          1,
          1,
          1,
          1,
          1,
          1,
          1,
          1,
          1,
          1,
          1,
          1,
          1,
          1,
          1,
          1,
          1,
          1,
          1,
          1,
          1,
          1,
          1,
          1,
          1,
          1,
          1,
          1,
          1,
          1,
          1,
          1,
          1,
          1,
          1,
          1,
          1,
          1,
          1,
          1,
          1,
          1,
          1,
          1,
          1,
          1,
          1,
          1,
          1,
          1,
          1,
          1,
          1,
          1,
          1,
          1,
          1,
          1,
          1,
          1,
          1,
          1,
          1,
          1,
          1,
          1,
          1,
          1,
          1,
          1,
          1,
          1,
          1,
          1,
          1,
          1,
          1
         ],
         "yaxis": "y5"
        },
        {
         "alignmentgroup": "True",
         "hovertemplate": "category_name=Entertainment<br>year_month=2021-05<br>channel_id=%{x}<br>video_id=%{text}<extra></extra>",
         "legendgroup": "Entertainment",
         "marker": {
          "color": "#00FE35",
          "pattern": {
           "shape": ""
          }
         },
         "name": "Entertainment",
         "offsetgroup": "Entertainment",
         "orientation": "v",
         "showlegend": false,
         "text": [
          9,
          5,
          5,
          5,
          4,
          4,
          4,
          3,
          3,
          3,
          3,
          3,
          3,
          3,
          3,
          3,
          3,
          3,
          3,
          3,
          3,
          2,
          2,
          2,
          2,
          2,
          2,
          2,
          2,
          2,
          2,
          2,
          2,
          2,
          2,
          2,
          2,
          2,
          2,
          2,
          2,
          2,
          2,
          2,
          2,
          2,
          2,
          2,
          2,
          2,
          2,
          2,
          2,
          2,
          2,
          2,
          2,
          1,
          1,
          1,
          1,
          1,
          1,
          1,
          1,
          1,
          1,
          1,
          1,
          1,
          1,
          1,
          1,
          1,
          1,
          1,
          1,
          1,
          1,
          1,
          1,
          1,
          1,
          1,
          1,
          1,
          1,
          1,
          1,
          1,
          1,
          1,
          1,
          1,
          1,
          1,
          1,
          1,
          1,
          1,
          1,
          1,
          1,
          1,
          1,
          1,
          1,
          1,
          1,
          1,
          1,
          1,
          1,
          1,
          1,
          1,
          1,
          1,
          1,
          1,
          1,
          1,
          1,
          1,
          1,
          1,
          1,
          1,
          1,
          1,
          1,
          1,
          1,
          1,
          1,
          1,
          1,
          1,
          1,
          1,
          1,
          1,
          1,
          1,
          1,
          1,
          1,
          1,
          1,
          1,
          1,
          1,
          1
         ],
         "textposition": "auto",
         "type": "bar",
         "x": [
          "CHQ2O-i",
          "CHPde4g",
          "CHiwQRG",
          "CHExw7_",
          "CHMGn0N",
          "CHoXoV4",
          "CHIUfR-",
          "CHKxLXX",
          "CHWYzc_",
          "CH_Fxf0",
          "CHEIi7z",
          "CH8OUSY",
          "CHH1oRy",
          "CHbCr1d",
          "CHy1fru",
          "CHy-swB",
          "CHkxbPw",
          "CHlzB2i",
          "CHpPXYy",
          "CHs8R3n",
          "CHsRIHt",
          "CHyozK5",
          "CHFL1sC",
          "CHHlSeJ",
          "CHHzW_7",
          "CHM31rB",
          "CHMtFAi",
          "CHNIiH_",
          "CHS_hnp",
          "CHTnafh",
          "CHEwOn7",
          "CHCfQK8",
          "CHBI8xZ",
          "CH-VbFg",
          "CH-giR4",
          "CH0PsUG",
          "CH1HHeT",
          "CH3re3u",
          "CH8WoHU",
          "CHUXYT0",
          "CHYSjF7",
          "CHs1R9z",
          "CHu9BCt",
          "CHwx6n_",
          "CHqq-ov",
          "CHbEp_Z",
          "CHqHP70",
          "CHbVRtq",
          "CHe-gh0",
          "CHem8l1",
          "CHg3Ydm",
          "CHgZlBR",
          "CHhE5nZ",
          "CHhgOgR",
          "CHj28Fv",
          "CHl_tB4",
          "CHpjm6R",
          "CHsNVs6",
          "CHtckgm",
          "CHtDcEb",
          "CHseQwR",
          "CHsOW9T",
          "CHrLUuZ",
          "CHudezj",
          "CHvAewW",
          "CHvScwM",
          "CHwNVDl",
          "CHweOkP",
          "CHx6jsZ",
          "CHxQXvv",
          "CHxmBxN",
          "CHy-NrX",
          "CHpBkdV",
          "CHpK0ae",
          "CH920m3",
          "CHDhM2k",
          "CHCCjbf",
          "CHBOs39",
          "CH9kUsu",
          "CH88r6m",
          "CH35HKv",
          "CH73yn5",
          "CH6erID",
          "CH5bUcn",
          "CH5Ida8",
          "CH4nEQI",
          "CH46BbE",
          "CHEI4rb",
          "CHF3UEV",
          "CHFg6o2",
          "CHG0Jec",
          "CHGnfBj",
          "CHGrAnV",
          "CHGrfaH",
          "CHI5WgF",
          "CHIueAL",
          "CHKdfNL",
          "CHLF1hN",
          "CH3SyT4",
          "CH2qjHK",
          "CH1cWTE",
          "CH-Jblc",
          "CH0VR2v",
          "CH1L79y",
          "CH1LWEy",
          "CHLKugl",
          "CHNQL3R",
          "CHoW9qW",
          "CHhK2Dh",
          "CHiEEF5",
          "CHiBKp3",
          "CHi9Sl8",
          "CHhLGxP",
          "CHbs5PG",
          "CHfnMSb",
          "CHffY-g",
          "CHj-dur",
          "CHk5bhZ",
          "CHk6bX-",
          "CHkQCwn",
          "CHkjXq1",
          "CHm2PiW",
          "CHmbGE7",
          "CHmgt7e",
          "CHmjNKt",
          "CHnLeqv",
          "CHnx4Fi",
          "CHoQIdt",
          "CHoUDrz",
          "CHchRZl",
          "CHNl-TU",
          "CHRMA_N",
          "CHTS3Lw",
          "CHTQVIX",
          "CHTOUUd",
          "CHRWzK4",
          "CHR5cyf",
          "CHQNRHp",
          "CHPx-7A",
          "CHPKNKl",
          "CHOtCBu",
          "CHTuthm",
          "CHVXN28",
          "CHWhiqH",
          "CHXZx95",
          "CHXaYpH",
          "CHYmo0H",
          "CHYtjW8",
          "CHYyLIl",
          "CHZCH_G",
          "CHZf4ZE",
          "CHaKod3",
          "CHaZS_X"
         ],
         "xaxis": "x4",
         "y": [
          9,
          5,
          5,
          5,
          4,
          4,
          4,
          3,
          3,
          3,
          3,
          3,
          3,
          3,
          3,
          3,
          3,
          3,
          3,
          3,
          3,
          2,
          2,
          2,
          2,
          2,
          2,
          2,
          2,
          2,
          2,
          2,
          2,
          2,
          2,
          2,
          2,
          2,
          2,
          2,
          2,
          2,
          2,
          2,
          2,
          2,
          2,
          2,
          2,
          2,
          2,
          2,
          2,
          2,
          2,
          2,
          2,
          1,
          1,
          1,
          1,
          1,
          1,
          1,
          1,
          1,
          1,
          1,
          1,
          1,
          1,
          1,
          1,
          1,
          1,
          1,
          1,
          1,
          1,
          1,
          1,
          1,
          1,
          1,
          1,
          1,
          1,
          1,
          1,
          1,
          1,
          1,
          1,
          1,
          1,
          1,
          1,
          1,
          1,
          1,
          1,
          1,
          1,
          1,
          1,
          1,
          1,
          1,
          1,
          1,
          1,
          1,
          1,
          1,
          1,
          1,
          1,
          1,
          1,
          1,
          1,
          1,
          1,
          1,
          1,
          1,
          1,
          1,
          1,
          1,
          1,
          1,
          1,
          1,
          1,
          1,
          1,
          1,
          1,
          1,
          1,
          1,
          1,
          1,
          1,
          1,
          1,
          1,
          1,
          1,
          1,
          1,
          1
         ],
         "yaxis": "y4"
        },
        {
         "alignmentgroup": "True",
         "hovertemplate": "category_name=Entertainment<br>year_month=2021-07<br>channel_id=%{x}<br>video_id=%{text}<extra></extra>",
         "legendgroup": "Entertainment",
         "marker": {
          "color": "#00FE35",
          "pattern": {
           "shape": ""
          }
         },
         "name": "Entertainment",
         "offsetgroup": "Entertainment",
         "orientation": "v",
         "showlegend": false,
         "text": [
          4,
          4,
          3,
          3,
          3,
          3,
          3,
          3,
          3,
          3,
          3,
          3,
          3,
          3,
          3,
          3,
          3,
          2,
          2,
          2,
          2,
          2,
          2,
          2,
          2,
          2,
          2,
          2,
          2,
          2,
          2,
          2,
          2,
          2,
          2,
          2,
          2,
          2,
          2,
          2,
          2,
          2,
          2,
          2,
          2,
          2,
          2,
          2,
          2,
          2,
          2,
          2,
          2,
          2,
          2,
          1,
          1,
          1,
          1,
          1,
          1,
          1,
          1,
          1,
          1,
          1,
          1,
          1,
          1,
          1,
          1,
          1,
          1,
          1,
          1,
          1,
          1,
          1,
          1,
          1,
          1,
          1,
          1,
          1,
          1,
          1,
          1,
          1,
          1,
          1,
          1,
          1,
          1,
          1,
          1,
          1,
          1,
          1,
          1,
          1,
          1,
          1,
          1,
          1,
          1,
          1,
          1,
          1,
          1,
          1,
          1,
          1,
          1,
          1,
          1,
          1,
          1,
          1,
          1,
          1,
          1,
          1,
          1,
          1,
          1,
          1,
          1,
          1,
          1
         ],
         "textposition": "auto",
         "type": "bar",
         "x": [
          "CHk6bX-",
          "CHaKod3",
          "CH9idb-",
          "CHoCvTl",
          "CHnx4Fi",
          "CHnLeqv",
          "CHmjNKt",
          "CHOHM2N",
          "CHlzB2i",
          "CHZf4ZE",
          "CHWYzc_",
          "CHYZv9v",
          "CHYn09y",
          "CHtDcEb",
          "CHy-swB",
          "CHybPxZ",
          "CHYtjW8",
          "CHyozK5",
          "CHxLc0z",
          "CHTuthm",
          "CHRLM0M",
          "CHQ2O-i",
          "CHIUfR-",
          "CHEwOn7",
          "CHEX1cZ",
          "CH_pOKL",
          "CHb-y7Y",
          "CH920m3",
          "CH4JAFO",
          "CH2tfQf",
          "CH2E-9A",
          "CH0VR2v",
          "CH0PsUG",
          "CHbCr1d",
          "CHbD8Ep",
          "CHbEp_Z",
          "CHr0ade",
          "CHqq-ov",
          "CHqHP70",
          "CHpjm6R",
          "CHrSase",
          "CHrhgVH",
          "CHkbJc8",
          "CHx6jsZ",
          "CHwx6n_",
          "CHriPmQ",
          "CHkxbPw",
          "CHdWgRS",
          "CHepUWU",
          "CHiwQRG",
          "CHiEEF5",
          "CHhgOgR",
          "CHhE5nZ",
          "CHgsffS",
          "CHs1R9z",
          "CH2DHU9",
          "CH2DoAr",
          "CH2IIBY",
          "CH2qjHK",
          "CH3SyT4",
          "CH3m0s5",
          "CH3re3u",
          "CH49ta0",
          "CH4qc3p",
          "CH5Ida8",
          "CH5bUcn",
          "CH5q0PI",
          "CH5zXl0",
          "CH6erID",
          "CH78PMQ",
          "CH81Kll",
          "CH9HNi_",
          "CH1cWTE",
          "CH1L79y",
          "CHBpzJv",
          "CH9w-h_",
          "CHEI4rb",
          "CHEIi7z",
          "CHbuks6",
          "CHg8U-Z",
          "CHfela5",
          "CHfWZns",
          "CHed3O-",
          "CHcTWmz",
          "CHYyLIl",
          "CHZTPmB",
          "CHgZlBR",
          "CHhLGxP",
          "CHiBKp3",
          "CHid83o",
          "CHjGoJb",
          "CHjToDB",
          "CHkQCwn",
          "CHm2PiW",
          "CHmbGE7",
          "CHnNfsL",
          "CHZECMC",
          "CHHcDLO",
          "CHKxLXX",
          "CHK1sVu",
          "CHJmcPV",
          "CHIuteB",
          "CHIY5oU",
          "CHGrfaH",
          "CHGMHKj",
          "CHFL1sC",
          "CHF8W68",
          "CHF3UEV",
          "CHEkcg9",
          "CHLynj-",
          "CHNE1pY",
          "CHNIiH_",
          "CHNQL3R",
          "CHObJpv",
          "CHPx-7A",
          "CHQNRHp",
          "CHRMA_N",
          "CHTmrCB",
          "CHTnafh",
          "CHU8MOm",
          "CHVWmCR",
          "CHXaYpH",
          "CHsNVs6",
          "CHsRIHt",
          "CHsU2Rl",
          "CHtckgm",
          "CHuTKrQ",
          "CHwNVDl",
          "CHy-NrX"
         ],
         "xaxis": "x3",
         "y": [
          4,
          4,
          3,
          3,
          3,
          3,
          3,
          3,
          3,
          3,
          3,
          3,
          3,
          3,
          3,
          3,
          3,
          2,
          2,
          2,
          2,
          2,
          2,
          2,
          2,
          2,
          2,
          2,
          2,
          2,
          2,
          2,
          2,
          2,
          2,
          2,
          2,
          2,
          2,
          2,
          2,
          2,
          2,
          2,
          2,
          2,
          2,
          2,
          2,
          2,
          2,
          2,
          2,
          2,
          2,
          1,
          1,
          1,
          1,
          1,
          1,
          1,
          1,
          1,
          1,
          1,
          1,
          1,
          1,
          1,
          1,
          1,
          1,
          1,
          1,
          1,
          1,
          1,
          1,
          1,
          1,
          1,
          1,
          1,
          1,
          1,
          1,
          1,
          1,
          1,
          1,
          1,
          1,
          1,
          1,
          1,
          1,
          1,
          1,
          1,
          1,
          1,
          1,
          1,
          1,
          1,
          1,
          1,
          1,
          1,
          1,
          1,
          1,
          1,
          1,
          1,
          1,
          1,
          1,
          1,
          1,
          1,
          1,
          1,
          1,
          1,
          1,
          1,
          1
         ],
         "yaxis": "y3"
        },
        {
         "alignmentgroup": "True",
         "hovertemplate": "category_name=Entertainment<br>year_month=2021-04<br>channel_id=%{x}<br>video_id=%{text}<extra></extra>",
         "legendgroup": "Entertainment",
         "marker": {
          "color": "#00FE35",
          "pattern": {
           "shape": ""
          }
         },
         "name": "Entertainment",
         "offsetgroup": "Entertainment",
         "orientation": "v",
         "showlegend": false,
         "text": [
          5,
          5,
          5,
          5,
          4,
          4,
          4,
          4,
          3,
          3,
          3,
          3,
          3,
          3,
          3,
          3,
          3,
          3,
          3,
          3,
          3,
          3,
          3,
          3,
          3,
          3,
          2,
          2,
          2,
          2,
          2,
          2,
          2,
          2,
          2,
          2,
          2,
          2,
          2,
          2,
          2,
          2,
          2,
          2,
          2,
          2,
          2,
          2,
          2,
          2,
          2,
          2,
          2,
          2,
          2,
          2,
          2,
          2,
          2,
          2,
          2,
          1,
          1,
          1,
          1,
          1,
          1,
          1,
          1,
          1,
          1,
          1,
          1,
          1,
          1,
          1,
          1,
          1,
          1,
          1,
          1,
          1,
          1,
          1,
          1,
          1,
          1,
          1,
          1,
          1,
          1,
          1,
          1,
          1,
          1,
          1,
          1,
          1,
          1,
          1,
          1,
          1,
          1,
          1,
          1,
          1,
          1,
          1,
          1,
          1,
          1,
          1,
          1,
          1,
          1,
          1,
          1,
          1,
          1,
          1,
          1,
          1,
          1,
          1,
          1,
          1,
          1,
          1,
          1,
          1,
          1,
          1,
          1,
          1,
          1,
          1,
          1,
          1,
          1,
          1,
          1,
          1,
          1,
          1,
          1,
          1,
          1,
          1,
          1,
          1,
          1,
          1,
          1,
          1,
          1,
          1,
          1
         ],
         "textposition": "auto",
         "type": "bar",
         "x": [
          "CH1L79y",
          "CHx6jsZ",
          "CHeSHil",
          "CHUyfkq",
          "CHkxbPw",
          "CHiwQRG",
          "CHFL1sC",
          "CHQ2O-i",
          "CHVWmCR",
          "CHpjm6R",
          "CHwNVDl",
          "CHmjNKt",
          "CHmONdw",
          "CHlzB2i",
          "CHbD8Ep",
          "CHcOYEm",
          "CHhY4PX",
          "CHPx-7A",
          "CH5Ida8",
          "CH3SyT4",
          "CHNIiH_",
          "CHK1sVu",
          "CHIA-LP",
          "CH0VR2v",
          "CH1cWTE",
          "CHGsJRp",
          "CHXZx95",
          "CHWhiqH",
          "CHXaYpH",
          "CHY2uWQ",
          "CHgeeQu",
          "CHaKod3",
          "CH_plsx",
          "CHYC3ZZ",
          "CHZf4ZE",
          "CHZCH_G",
          "CHYyLIl",
          "CHYgUhR",
          "CH3m0s5",
          "CH78PMQ",
          "CHEwOn7",
          "CH8OUSY",
          "CH9nLq3",
          "CHCfQK8",
          "CHB9e3p",
          "CHQNRHp",
          "CHLVwgJ",
          "CHJmcPV",
          "CH-BqPA",
          "CHKxLXX",
          "CH0PsUG",
          "CHy-swB",
          "CHreX6A",
          "CHod5V2",
          "CHm2PiW",
          "CHiBKp3",
          "CHmApNd",
          "CHiBr0b",
          "CHhgOgR",
          "CHwx6n_",
          "CHxQXvv",
          "CHObJpv",
          "CHnLeqv",
          "CHOHM2N",
          "CHnNfsL",
          "CHnx4Fi",
          "CHLynj-",
          "CHoUDrz",
          "CHPECLB",
          "CHjkoqt",
          "CHk6bX-",
          "CHWYzc_",
          "CHWJg0Q",
          "CHkPp7P",
          "CHkjXq1",
          "CHTuthm",
          "CHSQ55i",
          "CHSB5FO",
          "CHR5cyf",
          "CHmbGE7",
          "CHPde4g",
          "CHEIi7z",
          "CHDhM2k",
          "CHDb1t5",
          "CHBwCGr",
          "CHoW9qW",
          "CHKuwp5",
          "CHKdfNL",
          "CHIueAL",
          "CHIY5oU",
          "CHIUfR-",
          "CHHzW_7",
          "CHGrfaH",
          "CHF3UEV",
          "CHWstBK",
          "CHj-dur",
          "CHaZS_X",
          "CHaNGiz",
          "CHhqMfc",
          "CHa56qk",
          "CHbCr1d",
          "CHbuks6",
          "CHhLGxP",
          "CHhE5nZ",
          "CHhpiLQ",
          "CHgiO7K",
          "CHg8U-Z",
          "CHfdYUR",
          "CHepUWU",
          "CHe_oTY",
          "CHdWgRS",
          "CHcTWmz",
          "CHiP6DC",
          "CH_pOKL",
          "CH_6zPf",
          "CHZtpUg",
          "CHZVD--",
          "CHYIxlZ",
          "CHYtjW8",
          "CHYn09y",
          "CHYeeEw",
          "CHYZv9v",
          "CH18g7g",
          "CH2-Lri",
          "CH271vX",
          "CH2aMxQ",
          "CH3Ea2-",
          "CH46BbE",
          "CH4nEQI",
          "CH-VbFg",
          "CH-VOS6",
          "CH5bUcn",
          "CHAP8OK",
          "CH6wiUw",
          "CHB-ogY",
          "CH9w-h_",
          "CH9HNi_",
          "CH7QX2Y",
          "CHp0hYY",
          "CHpPXYy",
          "CHsOW9T",
          "CHsRIHt",
          "CHtCW8q",
          "CHtDcEb",
          "CHtckgm",
          "CHrjVVh",
          "CHriPmQ",
          "CHrLUuZ",
          "CHyozK5",
          "CHy-NrX",
          "CHxmBxN",
          "CHxjERP",
          "CHwZTee",
          "CHvAewW",
          "CHuw1hx",
          "CHtkQiK",
          "CHtgggh"
         ],
         "xaxis": "x2",
         "y": [
          5,
          5,
          5,
          5,
          4,
          4,
          4,
          4,
          3,
          3,
          3,
          3,
          3,
          3,
          3,
          3,
          3,
          3,
          3,
          3,
          3,
          3,
          3,
          3,
          3,
          3,
          2,
          2,
          2,
          2,
          2,
          2,
          2,
          2,
          2,
          2,
          2,
          2,
          2,
          2,
          2,
          2,
          2,
          2,
          2,
          2,
          2,
          2,
          2,
          2,
          2,
          2,
          2,
          2,
          2,
          2,
          2,
          2,
          2,
          2,
          2,
          1,
          1,
          1,
          1,
          1,
          1,
          1,
          1,
          1,
          1,
          1,
          1,
          1,
          1,
          1,
          1,
          1,
          1,
          1,
          1,
          1,
          1,
          1,
          1,
          1,
          1,
          1,
          1,
          1,
          1,
          1,
          1,
          1,
          1,
          1,
          1,
          1,
          1,
          1,
          1,
          1,
          1,
          1,
          1,
          1,
          1,
          1,
          1,
          1,
          1,
          1,
          1,
          1,
          1,
          1,
          1,
          1,
          1,
          1,
          1,
          1,
          1,
          1,
          1,
          1,
          1,
          1,
          1,
          1,
          1,
          1,
          1,
          1,
          1,
          1,
          1,
          1,
          1,
          1,
          1,
          1,
          1,
          1,
          1,
          1,
          1,
          1,
          1,
          1,
          1,
          1,
          1,
          1,
          1,
          1,
          1
         ],
         "yaxis": "y2"
        },
        {
         "alignmentgroup": "True",
         "hovertemplate": "category_name=Entertainment<br>year_month=2021-03<br>channel_id=%{x}<br>video_id=%{text}<extra></extra>",
         "legendgroup": "Entertainment",
         "marker": {
          "color": "#00FE35",
          "pattern": {
           "shape": ""
          }
         },
         "name": "Entertainment",
         "offsetgroup": "Entertainment",
         "orientation": "v",
         "showlegend": false,
         "text": [
          2,
          2,
          2,
          2,
          1,
          1,
          1,
          1,
          1,
          1,
          1,
          1,
          1,
          1,
          1,
          1,
          1,
          1,
          1,
          1,
          1,
          1,
          1,
          1
         ],
         "textposition": "auto",
         "type": "bar",
         "x": [
          "CH920m3",
          "CH5BMQO",
          "CH46BbE",
          "CHaKod3",
          "CH68buD",
          "CH78PMQ",
          "CH7Krez",
          "CHDb1t5",
          "CHEwOn7",
          "CH4LW3s",
          "CH12YJZ",
          "CHdUlCa",
          "CHjGoJb",
          "CHlzB2i",
          "CHqq-ov",
          "CHrhH1d",
          "CHriPmQ",
          "CHweOkP",
          "CHYyLIl",
          "CHUnSdg",
          "CHTnafh",
          "CHLVwgJ",
          "CHJmcPV",
          "CHIY5oU"
         ],
         "xaxis": "x",
         "y": [
          2,
          2,
          2,
          2,
          1,
          1,
          1,
          1,
          1,
          1,
          1,
          1,
          1,
          1,
          1,
          1,
          1,
          1,
          1,
          1,
          1,
          1,
          1,
          1
         ],
         "yaxis": "y"
        },
        {
         "alignmentgroup": "True",
         "hovertemplate": "category_name=People & Blogs<br>year_month=2021-06<br>channel_id=%{x}<br>video_id=%{text}<extra></extra>",
         "legendgroup": "People & Blogs",
         "marker": {
          "color": "#6A76FC",
          "pattern": {
           "shape": ""
          }
         },
         "name": "People & Blogs",
         "offsetgroup": "People & Blogs",
         "orientation": "v",
         "showlegend": true,
         "text": [
          6,
          5,
          3,
          3,
          3,
          3,
          3,
          3,
          3,
          2,
          2,
          2,
          2,
          2,
          2,
          2,
          2,
          2,
          2,
          2,
          2,
          2,
          2,
          2,
          2,
          2,
          1,
          1,
          1,
          1,
          1,
          1,
          1,
          1,
          1,
          1,
          1,
          1,
          1,
          1,
          1,
          1,
          1,
          1,
          1,
          1,
          1,
          1,
          1,
          1,
          1,
          1,
          1,
          1,
          1,
          1,
          1,
          1,
          1,
          1,
          1,
          1,
          1,
          1,
          1,
          1,
          1,
          1,
          1,
          1,
          1,
          1,
          1,
          1,
          1,
          1,
          1,
          1,
          1
         ],
         "textposition": "auto",
         "type": "bar",
         "x": [
          "CHtfriF",
          "CHuDLnJ",
          "CHtkRVa",
          "CHpH3rU",
          "CHkkWd0",
          "CHfpaSr",
          "CHXTyJZ",
          "CHASfMq",
          "CH1EiHI",
          "CH0ssa8",
          "CH26QQC",
          "CH31-nU",
          "CH48NSS",
          "CHychoc",
          "CHrLQ0o",
          "CH4sIlW",
          "CHppou5",
          "CH6lNIb",
          "CHBkXIe",
          "CHIG4gr",
          "CHPZ4e8",
          "CHPhHBE",
          "CHXURHJ",
          "CHdfhK0",
          "CHoPTIa",
          "CHoQy2w",
          "CHQWylD",
          "CHRzS1N",
          "CHSiGNr",
          "CHTx3aC",
          "CHUsoow",
          "CHUyr50",
          "CHVyMrl",
          "CHW945U",
          "CHYnfy2",
          "CHYt4St",
          "CHZ1wYQ",
          "CHZwG8g",
          "CH_EngQ",
          "CHaPILm",
          "CHaPqda",
          "CHcxK1U",
          "CHelPbn",
          "CHhK2Dh",
          "CHhji-o",
          "CHhna8l",
          "CHiMq04",
          "CHjHn_O",
          "CHOOKj-",
          "CH8MVMe",
          "CH0wTMg",
          "CH26M8b",
          "CH2XG0i",
          "CH2tbZf",
          "CHA6KBB",
          "CHM64Ik",
          "CHAhKKb",
          "CHBoQ8_",
          "CHC4Qcw",
          "CHCJ2b2",
          "CHFLlNL",
          "CHHR4kW",
          "CHJko7d",
          "CHK72hq",
          "CHKFvox",
          "CHjn-Vb",
          "CHkJNt3",
          "CHknfGX",
          "CHmfVvm",
          "CHqNN-b",
          "CHrFlv9",
          "CHrh6bu",
          "CHs9H--",
          "CHsP57H",
          "CHtfGLm",
          "CHuZu8N",
          "CHvjhQp",
          "CHyje3j",
          "CHzRDCw"
         ],
         "xaxis": "x5",
         "y": [
          6,
          5,
          3,
          3,
          3,
          3,
          3,
          3,
          3,
          2,
          2,
          2,
          2,
          2,
          2,
          2,
          2,
          2,
          2,
          2,
          2,
          2,
          2,
          2,
          2,
          2,
          1,
          1,
          1,
          1,
          1,
          1,
          1,
          1,
          1,
          1,
          1,
          1,
          1,
          1,
          1,
          1,
          1,
          1,
          1,
          1,
          1,
          1,
          1,
          1,
          1,
          1,
          1,
          1,
          1,
          1,
          1,
          1,
          1,
          1,
          1,
          1,
          1,
          1,
          1,
          1,
          1,
          1,
          1,
          1,
          1,
          1,
          1,
          1,
          1,
          1,
          1,
          1,
          1
         ],
         "yaxis": "y5"
        },
        {
         "alignmentgroup": "True",
         "hovertemplate": "category_name=People & Blogs<br>year_month=2021-05<br>channel_id=%{x}<br>video_id=%{text}<extra></extra>",
         "legendgroup": "People & Blogs",
         "marker": {
          "color": "#6A76FC",
          "pattern": {
           "shape": ""
          }
         },
         "name": "People & Blogs",
         "offsetgroup": "People & Blogs",
         "orientation": "v",
         "showlegend": false,
         "text": [
          7,
          7,
          4,
          3,
          3,
          3,
          3,
          3,
          2,
          2,
          2,
          2,
          2,
          2,
          2,
          2,
          2,
          2,
          2,
          2,
          2,
          1,
          1,
          1,
          1,
          1,
          1,
          1,
          1,
          1,
          1,
          1,
          1,
          1,
          1,
          1,
          1,
          1,
          1,
          1,
          1,
          1,
          1,
          1,
          1,
          1,
          1,
          1,
          1,
          1,
          1,
          1,
          1,
          1,
          1,
          1,
          1,
          1
         ],
         "textposition": "auto",
         "type": "bar",
         "x": [
          "CHIG4gr",
          "CHDV9zg",
          "CHRzS1N",
          "CHK72hq",
          "CHkkWd0",
          "CHbFzvz",
          "CHRofX4",
          "CH4DnB5",
          "CHYnfy2",
          "CHzRDCw",
          "CHwW_qU",
          "CHtkRVa",
          "CHsP57H",
          "CHoQy2w",
          "CHmt37g",
          "CHheR9R",
          "CHh-1iA",
          "CHfpaSr",
          "CHZ1wYQ",
          "CHXTQWs",
          "CHld0ct",
          "CH-Bsa2",
          "CH-KafR",
          "CH-YRx5",
          "CH-swYD",
          "CH1GHhg",
          "CH26M8b",
          "CH2KUew",
          "CH2Q9aM",
          "CHA6KBB",
          "CHET3I7",
          "CHEu_YK",
          "CHF8W68",
          "CHHR4kW",
          "CHKmQlV",
          "CHLItMt",
          "CHzhyI5",
          "CHyG7zA",
          "CHaZS_X",
          "CHYt4St",
          "CHXXlcP",
          "CHWqWR1",
          "CHW9DtK",
          "CHUyr50",
          "CHQTqoE",
          "CHOOKj-",
          "CHNYi_z",
          "CHfqVrM",
          "CHhtdyq",
          "CHl-tyx",
          "CHlSUMM",
          "CHoLQZ4",
          "CHpH3rU",
          "CHqNN-b",
          "CHqsPmf",
          "CHrRn4V",
          "CHrh6bu",
          "CHtfriF"
         ],
         "xaxis": "x4",
         "y": [
          7,
          7,
          4,
          3,
          3,
          3,
          3,
          3,
          2,
          2,
          2,
          2,
          2,
          2,
          2,
          2,
          2,
          2,
          2,
          2,
          2,
          1,
          1,
          1,
          1,
          1,
          1,
          1,
          1,
          1,
          1,
          1,
          1,
          1,
          1,
          1,
          1,
          1,
          1,
          1,
          1,
          1,
          1,
          1,
          1,
          1,
          1,
          1,
          1,
          1,
          1,
          1,
          1,
          1,
          1,
          1,
          1,
          1
         ],
         "yaxis": "y4"
        },
        {
         "alignmentgroup": "True",
         "hovertemplate": "category_name=People & Blogs<br>year_month=2021-07<br>channel_id=%{x}<br>video_id=%{text}<extra></extra>",
         "legendgroup": "People & Blogs",
         "marker": {
          "color": "#6A76FC",
          "pattern": {
           "shape": ""
          }
         },
         "name": "People & Blogs",
         "offsetgroup": "People & Blogs",
         "orientation": "v",
         "showlegend": false,
         "text": [
          4,
          3,
          3,
          3,
          3,
          3,
          2,
          2,
          2,
          2,
          2,
          2,
          2,
          2,
          2,
          2,
          2,
          2,
          2,
          2,
          2,
          2,
          2,
          1,
          1,
          1,
          1,
          1,
          1,
          1,
          1,
          1,
          1,
          1,
          1,
          1,
          1,
          1,
          1,
          1,
          1,
          1,
          1,
          1,
          1,
          1,
          1,
          1,
          1,
          1,
          1,
          1,
          1,
          1,
          1,
          1
         ],
         "textposition": "auto",
         "type": "bar",
         "x": [
          "CHZ1wYQ",
          "CHppou5",
          "CHs9H--",
          "CHoQy2w",
          "CHONPqk",
          "CHfpaSr",
          "CHyG7zA",
          "CHtfriF",
          "CHrFlv9",
          "CHqNN-b",
          "CHpH3rU",
          "CHE8SAl",
          "CHD2KRO",
          "CH4sIlW",
          "CH4MfUq",
          "CH26QQC",
          "CH0wNau",
          "CHKFvox",
          "CHkkWd0",
          "CHjpCOk",
          "CHd1TDy",
          "CHYnfy2",
          "CHSiGNr",
          "CHBoQ8_",
          "CHASfMq",
          "CHA6KBB",
          "CH9G7V6",
          "CH7Krez",
          "CH31-nU",
          "CH0PsUG",
          "CHDV9zg",
          "CHET3I7",
          "CHGInHR",
          "CHIG4gr",
          "CHJfDSu",
          "CHL-AUQ",
          "CHRzS1N",
          "CHUyr50",
          "CHXXlcP",
          "CHYDyvq",
          "CH_EngQ",
          "CHbzDJ6",
          "CHbFzvz",
          "CHc7een",
          "CHcxK1U",
          "CHoLQZ4",
          "CHqsPmf",
          "CHicKQU",
          "CHhK2Dh",
          "CHfqVrM",
          "CHrRn4V",
          "CHsP57H",
          "CHtkRVa",
          "CHtn-l7",
          "CHv0QY4",
          "CHychoc"
         ],
         "xaxis": "x3",
         "y": [
          4,
          3,
          3,
          3,
          3,
          3,
          2,
          2,
          2,
          2,
          2,
          2,
          2,
          2,
          2,
          2,
          2,
          2,
          2,
          2,
          2,
          2,
          2,
          1,
          1,
          1,
          1,
          1,
          1,
          1,
          1,
          1,
          1,
          1,
          1,
          1,
          1,
          1,
          1,
          1,
          1,
          1,
          1,
          1,
          1,
          1,
          1,
          1,
          1,
          1,
          1,
          1,
          1,
          1,
          1,
          1
         ],
         "yaxis": "y3"
        },
        {
         "alignmentgroup": "True",
         "hovertemplate": "category_name=People & Blogs<br>year_month=2021-04<br>channel_id=%{x}<br>video_id=%{text}<extra></extra>",
         "legendgroup": "People & Blogs",
         "marker": {
          "color": "#6A76FC",
          "pattern": {
           "shape": ""
          }
         },
         "name": "People & Blogs",
         "offsetgroup": "People & Blogs",
         "orientation": "v",
         "showlegend": false,
         "text": [
          5,
          4,
          4,
          3,
          3,
          3,
          2,
          2,
          2,
          2,
          2,
          2,
          2,
          2,
          2,
          2,
          2,
          2,
          2,
          2,
          2,
          2,
          2,
          2,
          2,
          1,
          1,
          1,
          1,
          1,
          1,
          1,
          1,
          1,
          1,
          1,
          1,
          1,
          1,
          1,
          1,
          1,
          1,
          1,
          1,
          1,
          1,
          1,
          1,
          1,
          1,
          1,
          1,
          1,
          1,
          1,
          1,
          1,
          1,
          1,
          1
         ],
         "textposition": "auto",
         "type": "bar",
         "x": [
          "CHXTyJZ",
          "CHIG4gr",
          "CH680xb",
          "CHtfriF",
          "CHZ1wYQ",
          "CHKUz_7",
          "CH2KUew",
          "CHoQy2w",
          "CHoPTIa",
          "CHkkWd0",
          "CHkh6Tl",
          "CHfpaSr",
          "CHbFzvz",
          "CHYnfy2",
          "CHpH3rU",
          "CHu38Cq",
          "CHtkRVa",
          "CHXTQWs",
          "CH5QSBl",
          "CH4MfUq",
          "CH5RION",
          "CH6lNIb",
          "CHNBfRy",
          "CHOOKj-",
          "CHLJNGm",
          "CHhK2Dh",
          "CHrh6bu",
          "CHrIxxm",
          "CHrRn4V",
          "CHfqVrM",
          "CHemKWU",
          "CHdQk6g",
          "CHcQ3rs",
          "CHb_-Xu",
          "CHa_ZCX",
          "CHaZS_X",
          "CHYt4St",
          "CHXXlcP",
          "CHs29NQ",
          "CHzRDCw",
          "CHx_kYu",
          "CHvG7co",
          "CHtn-l7",
          "CHtctOX",
          "CH7bRo3",
          "CH9gxOp",
          "CHA6KBB",
          "CHAhKKb",
          "CH47HAk",
          "CH31-nU",
          "CHBHJlM",
          "CHUyr50",
          "CHWycwu",
          "CHH7JoV",
          "CHXURHJ",
          "CHUWU2s",
          "CHPZ4e8",
          "CHM64Ik",
          "CHKFvox",
          "CHHR4kW",
          "CH-Bsa2"
         ],
         "xaxis": "x2",
         "y": [
          5,
          4,
          4,
          3,
          3,
          3,
          2,
          2,
          2,
          2,
          2,
          2,
          2,
          2,
          2,
          2,
          2,
          2,
          2,
          2,
          2,
          2,
          2,
          2,
          2,
          1,
          1,
          1,
          1,
          1,
          1,
          1,
          1,
          1,
          1,
          1,
          1,
          1,
          1,
          1,
          1,
          1,
          1,
          1,
          1,
          1,
          1,
          1,
          1,
          1,
          1,
          1,
          1,
          1,
          1,
          1,
          1,
          1,
          1,
          1,
          1
         ],
         "yaxis": "y2"
        },
        {
         "alignmentgroup": "True",
         "hovertemplate": "category_name=People & Blogs<br>year_month=2021-03<br>channel_id=%{x}<br>video_id=%{text}<extra></extra>",
         "legendgroup": "People & Blogs",
         "marker": {
          "color": "#6A76FC",
          "pattern": {
           "shape": ""
          }
         },
         "name": "People & Blogs",
         "offsetgroup": "People & Blogs",
         "orientation": "v",
         "showlegend": false,
         "text": [
          2,
          2,
          1,
          1,
          1,
          1,
          1,
          1,
          1,
          1,
          1,
          1
         ],
         "textposition": "auto",
         "type": "bar",
         "x": [
          "CHnet0I",
          "CHaZS_X",
          "CHGiqkg",
          "CHkh6Tl",
          "CHtfriF",
          "CH_Fq5K",
          "CHPZ4e8",
          "CHNBfRy",
          "CHKkxVS",
          "CHKUz_7",
          "CHyn-K7",
          "CHyuL_X"
         ],
         "xaxis": "x",
         "y": [
          2,
          2,
          1,
          1,
          1,
          1,
          1,
          1,
          1,
          1,
          1,
          1
         ],
         "yaxis": "y"
        },
        {
         "alignmentgroup": "True",
         "hovertemplate": "category_name=Pets & Animals<br>year_month=2021-06<br>channel_id=%{x}<br>video_id=%{text}<extra></extra>",
         "legendgroup": "Pets & Animals",
         "marker": {
          "color": "#FED4C4",
          "pattern": {
           "shape": ""
          }
         },
         "name": "Pets & Animals",
         "offsetgroup": "Pets & Animals",
         "orientation": "v",
         "showlegend": true,
         "text": [
          2,
          2,
          2,
          2,
          2,
          1,
          1,
          1,
          1,
          1,
          1,
          1,
          1,
          1,
          1,
          1
         ],
         "textposition": "auto",
         "type": "bar",
         "x": [
          "CH69l_r",
          "CHETBLy",
          "CHHLDBh",
          "CHkuA_g",
          "CH3PSZi",
          "CHOv1v2",
          "CHPTM-N",
          "CHf0Mkc",
          "CHgsgpE",
          "CHi_IoQ",
          "CHj-rqv",
          "CHHgL0B",
          "CHOp66V",
          "CHHXnna",
          "CH04-af",
          "CHAhKKb"
         ],
         "xaxis": "x5",
         "y": [
          2,
          2,
          2,
          2,
          2,
          1,
          1,
          1,
          1,
          1,
          1,
          1,
          1,
          1,
          1,
          1
         ],
         "yaxis": "y5"
        },
        {
         "alignmentgroup": "True",
         "hovertemplate": "category_name=Pets & Animals<br>year_month=2021-05<br>channel_id=%{x}<br>video_id=%{text}<extra></extra>",
         "legendgroup": "Pets & Animals",
         "marker": {
          "color": "#FED4C4",
          "pattern": {
           "shape": ""
          }
         },
         "name": "Pets & Animals",
         "offsetgroup": "Pets & Animals",
         "orientation": "v",
         "showlegend": false,
         "text": [
          3,
          3,
          2,
          1,
          1,
          1
         ],
         "textposition": "auto",
         "type": "bar",
         "x": [
          "CH22go5",
          "CHi_IoQ",
          "CH69l_r",
          "CHgsgpE",
          "CHOv1v2",
          "CHAhKKb"
         ],
         "xaxis": "x4",
         "y": [
          3,
          3,
          2,
          1,
          1,
          1
         ],
         "yaxis": "y4"
        },
        {
         "alignmentgroup": "True",
         "hovertemplate": "category_name=Pets & Animals<br>year_month=2021-07<br>channel_id=%{x}<br>video_id=%{text}<extra></extra>",
         "legendgroup": "Pets & Animals",
         "marker": {
          "color": "#FED4C4",
          "pattern": {
           "shape": ""
          }
         },
         "name": "Pets & Animals",
         "offsetgroup": "Pets & Animals",
         "orientation": "v",
         "showlegend": false,
         "text": [
          6,
          3,
          2,
          2,
          1,
          1,
          1,
          1,
          1,
          1,
          1,
          1,
          1,
          1
         ],
         "textposition": "auto",
         "type": "bar",
         "x": [
          "CH29-Il",
          "CHAhKKb",
          "CHOp66V",
          "CH89A41",
          "CHa2LU4",
          "CHgsgpE",
          "CHd1TDy",
          "CHPTM-N",
          "CHOv1v2",
          "CH-IYpd",
          "CH3PSZi",
          "CH5AAf4",
          "CH69l_r",
          "CHHLDBh"
         ],
         "xaxis": "x3",
         "y": [
          6,
          3,
          2,
          2,
          1,
          1,
          1,
          1,
          1,
          1,
          1,
          1,
          1,
          1
         ],
         "yaxis": "y3"
        },
        {
         "alignmentgroup": "True",
         "hovertemplate": "category_name=Pets & Animals<br>year_month=2021-04<br>channel_id=%{x}<br>video_id=%{text}<extra></extra>",
         "legendgroup": "Pets & Animals",
         "marker": {
          "color": "#FED4C4",
          "pattern": {
           "shape": ""
          }
         },
         "name": "Pets & Animals",
         "offsetgroup": "Pets & Animals",
         "orientation": "v",
         "showlegend": false,
         "text": [
          1,
          1,
          1,
          1,
          1,
          1,
          1,
          1
         ],
         "textposition": "auto",
         "type": "bar",
         "x": [
          "CH22go5",
          "CHHXnna",
          "CHPTM-N",
          "CHX2laR",
          "CHgsgpE",
          "CHkuA_g",
          "CHtbOb9",
          "CHzjDgV"
         ],
         "xaxis": "x2",
         "y": [
          1,
          1,
          1,
          1,
          1,
          1,
          1,
          1
         ],
         "yaxis": "y2"
        },
        {
         "alignmentgroup": "True",
         "hovertemplate": "category_name=Pets & Animals<br>year_month=2021-03<br>channel_id=%{x}<br>video_id=%{text}<extra></extra>",
         "legendgroup": "Pets & Animals",
         "marker": {
          "color": "#FED4C4",
          "pattern": {
           "shape": ""
          }
         },
         "name": "Pets & Animals",
         "offsetgroup": "Pets & Animals",
         "orientation": "v",
         "showlegend": false,
         "text": [
          1,
          1
         ],
         "textposition": "auto",
         "type": "bar",
         "x": [
          "CHP1CQH",
          "CHOp66V"
         ],
         "xaxis": "x",
         "y": [
          1,
          1
         ],
         "yaxis": "y"
        },
        {
         "alignmentgroup": "True",
         "hovertemplate": "category_name=News & Politics<br>year_month=2021-06<br>channel_id=%{x}<br>video_id=%{text}<extra></extra>",
         "legendgroup": "News & Politics",
         "marker": {
          "color": "#FE00CE",
          "pattern": {
           "shape": ""
          }
         },
         "name": "News & Politics",
         "offsetgroup": "News & Politics",
         "orientation": "v",
         "showlegend": true,
         "text": [
          2,
          2,
          2,
          2,
          2,
          2,
          1,
          1,
          1,
          1,
          1,
          1,
          1,
          1,
          1,
          1,
          1,
          1,
          1,
          1,
          1
         ],
         "textposition": "auto",
         "type": "bar",
         "x": [
          "CHF4Wxd",
          "CHQabOR",
          "CH_U34U",
          "CHcQTRi",
          "CHhlgI3",
          "CHkinYT",
          "CHnfwIK",
          "CHbMjg2",
          "CHzz58-",
          "CHWskYk",
          "CHG9aFJ",
          "CHAySce",
          "CH88r6m",
          "CH2fNt6",
          "CHy-6oZ",
          "CH1aS5C",
          "CH-0C8y",
          "CHMGn0N",
          "CHTHCOP",
          "CHMEbRp",
          "CHKhcMX"
         ],
         "xaxis": "x5",
         "y": [
          2,
          2,
          2,
          2,
          2,
          2,
          1,
          1,
          1,
          1,
          1,
          1,
          1,
          1,
          1,
          1,
          1,
          1,
          1,
          1,
          1
         ],
         "yaxis": "y5"
        },
        {
         "alignmentgroup": "True",
         "hovertemplate": "category_name=News & Politics<br>year_month=2021-05<br>channel_id=%{x}<br>video_id=%{text}<extra></extra>",
         "legendgroup": "News & Politics",
         "marker": {
          "color": "#FE00CE",
          "pattern": {
           "shape": ""
          }
         },
         "name": "News & Politics",
         "offsetgroup": "News & Politics",
         "orientation": "v",
         "showlegend": false,
         "text": [
          6,
          4,
          4,
          3,
          3,
          3,
          3,
          2,
          2,
          2,
          2,
          2,
          2,
          1,
          1,
          1,
          1,
          1,
          1,
          1,
          1,
          1,
          1,
          1,
          1,
          1,
          1,
          1,
          1,
          1,
          1,
          1
         ],
         "textposition": "auto",
         "type": "bar",
         "x": [
          "CHsU-I-",
          "CHhlgI3",
          "CHHBvfB",
          "CHfq4V1",
          "CHH3mJ-",
          "CHF4Wxd",
          "CHAySce",
          "CH8d0Zg",
          "CHwRljh",
          "CHizGMt",
          "CHcQTRi",
          "CHWlV3L",
          "CHMLJc_",
          "CHYRrUD",
          "CHnfwIK",
          "CHj3_t5",
          "CHeFUGS",
          "CHawCv9",
          "CHIDOGT",
          "CHTTmtS",
          "CHTHCOP",
          "CHQabOR",
          "CHPfxQo",
          "CHIMOyt",
          "CHomhAm",
          "CHwCrPg",
          "CHIIpmD",
          "CH-0C8y",
          "CH4Aa3O",
          "CH7cF2Z",
          "CHG9aFJ",
          "CHGCGxs"
         ],
         "xaxis": "x4",
         "y": [
          6,
          4,
          4,
          3,
          3,
          3,
          3,
          2,
          2,
          2,
          2,
          2,
          2,
          1,
          1,
          1,
          1,
          1,
          1,
          1,
          1,
          1,
          1,
          1,
          1,
          1,
          1,
          1,
          1,
          1,
          1,
          1
         ],
         "yaxis": "y4"
        },
        {
         "alignmentgroup": "True",
         "hovertemplate": "category_name=News & Politics<br>year_month=2021-07<br>channel_id=%{x}<br>video_id=%{text}<extra></extra>",
         "legendgroup": "News & Politics",
         "marker": {
          "color": "#FE00CE",
          "pattern": {
           "shape": ""
          }
         },
         "name": "News & Politics",
         "offsetgroup": "News & Politics",
         "orientation": "v",
         "showlegend": false,
         "text": [
          3,
          3,
          3,
          3,
          2,
          2,
          2,
          2,
          2,
          1,
          1,
          1,
          1,
          1,
          1,
          1,
          1,
          1,
          1
         ],
         "textposition": "auto",
         "type": "bar",
         "x": [
          "CH-0C8y",
          "CHoxT1k",
          "CHkinYT",
          "CHsU-I-",
          "CH_U34U",
          "CH0imOR",
          "CHF4Wxd",
          "CHMEbRp",
          "CHj3_t5",
          "CHzz58-",
          "CHy-6oZ",
          "CHjg8Yu",
          "CH8d0Zg",
          "CHHBvfB",
          "CHLKugl",
          "CHMGn0N",
          "CHQabOR",
          "CHTHCOP",
          "CHYRrUD"
         ],
         "xaxis": "x3",
         "y": [
          3,
          3,
          3,
          3,
          2,
          2,
          2,
          2,
          2,
          1,
          1,
          1,
          1,
          1,
          1,
          1,
          1,
          1,
          1
         ],
         "yaxis": "y3"
        },
        {
         "alignmentgroup": "True",
         "hovertemplate": "category_name=News & Politics<br>year_month=2021-04<br>channel_id=%{x}<br>video_id=%{text}<extra></extra>",
         "legendgroup": "News & Politics",
         "marker": {
          "color": "#FE00CE",
          "pattern": {
           "shape": ""
          }
         },
         "name": "News & Politics",
         "offsetgroup": "News & Politics",
         "orientation": "v",
         "showlegend": false,
         "text": [
          4,
          3,
          3,
          2,
          2,
          2,
          2,
          2,
          2,
          2,
          2,
          1,
          1,
          1,
          1,
          1,
          1,
          1,
          1,
          1,
          1,
          1,
          1,
          1
         ],
         "textposition": "auto",
         "type": "bar",
         "x": [
          "CHMEbRp",
          "CHIDOGT",
          "CHPTy0B",
          "CH-0C8y",
          "CH1aS5C",
          "CHsU-I-",
          "CHAySce",
          "CHF4Wxd",
          "CHF8AeL",
          "CHhlgI3",
          "CHcQTRi",
          "CH0imOR",
          "CH5GZQW",
          "CHliLFb",
          "CHfq4V1",
          "CHizGMt",
          "CHj3_t5",
          "CHHBvfB",
          "CHu35od",
          "CHawCv9",
          "CH_U34U",
          "CHZQj9d",
          "CHYRrUD",
          "CHIipmg"
         ],
         "xaxis": "x2",
         "y": [
          4,
          3,
          3,
          2,
          2,
          2,
          2,
          2,
          2,
          2,
          2,
          1,
          1,
          1,
          1,
          1,
          1,
          1,
          1,
          1,
          1,
          1,
          1,
          1
         ],
         "yaxis": "y2"
        },
        {
         "alignmentgroup": "True",
         "hovertemplate": "category_name=News & Politics<br>year_month=2021-03<br>channel_id=%{x}<br>video_id=%{text}<extra></extra>",
         "legendgroup": "News & Politics",
         "marker": {
          "color": "#FE00CE",
          "pattern": {
           "shape": ""
          }
         },
         "name": "News & Politics",
         "offsetgroup": "News & Politics",
         "orientation": "v",
         "showlegend": false,
         "text": [
          2,
          1,
          1,
          1,
          1,
          1
         ],
         "textposition": "auto",
         "type": "bar",
         "x": [
          "CHG9aFJ",
          "CH9thBC",
          "CHkinYT",
          "CHH3mJ-",
          "CH_U34U",
          "CHj3_t5"
         ],
         "xaxis": "x",
         "y": [
          2,
          1,
          1,
          1,
          1,
          1
         ],
         "yaxis": "y"
        },
        {
         "alignmentgroup": "True",
         "hovertemplate": "category_name=Music<br>year_month=2021-06<br>channel_id=%{x}<br>video_id=%{text}<extra></extra>",
         "legendgroup": "Music",
         "marker": {
          "color": "#0DF9FF",
          "pattern": {
           "shape": ""
          }
         },
         "name": "Music",
         "offsetgroup": "Music",
         "orientation": "v",
         "showlegend": true,
         "text": [
          4,
          3,
          3,
          3,
          3,
          3,
          3,
          2,
          2,
          2,
          2,
          2,
          2,
          2,
          1,
          1,
          1,
          1,
          1,
          1,
          1,
          1,
          1,
          1,
          1,
          1,
          1,
          1,
          1,
          1,
          1,
          1,
          1,
          1,
          1,
          1,
          1
         ],
         "textposition": "auto",
         "type": "bar",
         "x": [
          "CHaO6TY",
          "CHeLPm9",
          "CHe52oe",
          "CHabon8",
          "CHfkXDY",
          "CHviI9l",
          "CHuKdaT",
          "CHoRXPc",
          "CHtCiO5",
          "CHzCedB",
          "CHmQdC1",
          "CHk2E0d",
          "CHEf_Bc",
          "CH3WZlO",
          "CHaEIlQ",
          "CHR5cyf",
          "CHXIF1a",
          "CHYDmx2",
          "CH_pwIX",
          "CHeQlMQ",
          "CHuhAUM",
          "CHoNq-k",
          "CHo-E2l",
          "CHe_56k",
          "CHhm_d4",
          "CHGrAnV",
          "CH3-ec2",
          "CH6TJkB",
          "CHDPM_n",
          "CHEbRSm",
          "CHEUX9t",
          "CH6nxfR",
          "CHAq0pF",
          "CHACvSk",
          "CH9GtSL",
          "CHwgtOR",
          "CHzgxx_"
         ],
         "xaxis": "x5",
         "y": [
          4,
          3,
          3,
          3,
          3,
          3,
          3,
          2,
          2,
          2,
          2,
          2,
          2,
          2,
          1,
          1,
          1,
          1,
          1,
          1,
          1,
          1,
          1,
          1,
          1,
          1,
          1,
          1,
          1,
          1,
          1,
          1,
          1,
          1,
          1,
          1,
          1
         ],
         "yaxis": "y5"
        },
        {
         "alignmentgroup": "True",
         "hovertemplate": "category_name=Music<br>year_month=2021-05<br>channel_id=%{x}<br>video_id=%{text}<extra></extra>",
         "legendgroup": "Music",
         "marker": {
          "color": "#0DF9FF",
          "pattern": {
           "shape": ""
          }
         },
         "name": "Music",
         "offsetgroup": "Music",
         "orientation": "v",
         "showlegend": false,
         "text": [
          6,
          5,
          4,
          4,
          4,
          2,
          2,
          2,
          2,
          2,
          2,
          2,
          2,
          2,
          2,
          1,
          1,
          1,
          1,
          1,
          1,
          1,
          1,
          1,
          1,
          1,
          1,
          1,
          1,
          1,
          1,
          1,
          1,
          1,
          1,
          1,
          1,
          1,
          1
         ],
         "textposition": "auto",
         "type": "bar",
         "x": [
          "CH9GtSL",
          "CH3IZKs",
          "CHtCiO5",
          "CHLkAep",
          "CHEf_Bc",
          "CHzCedB",
          "CH6nxfR",
          "CH3WZlO",
          "CHlYq3P",
          "CHeLPm9",
          "CH-qYkz",
          "CHFipx4",
          "CHyPwRg",
          "CHsXigG",
          "CH66yQ1",
          "CH-jHB5",
          "CH2KmG_",
          "CH4htMX",
          "CH8qO5r",
          "CH9LcN9",
          "CH9vrvN",
          "CHRp-tG",
          "CHhu7d9",
          "CHe52oe",
          "CHcVEkH",
          "CHaO6TY",
          "CHTEWSE",
          "CHGdZ_-",
          "CHG1kwS",
          "CHEdZAd",
          "CHCEi5r",
          "CHArTAX",
          "CHk9Gmd",
          "CHkJ1rb",
          "CHmTdAl",
          "CHoRXPc",
          "CHsVcse",
          "CHuKdaT",
          "CHviI9l"
         ],
         "xaxis": "x4",
         "y": [
          6,
          5,
          4,
          4,
          4,
          2,
          2,
          2,
          2,
          2,
          2,
          2,
          2,
          2,
          2,
          1,
          1,
          1,
          1,
          1,
          1,
          1,
          1,
          1,
          1,
          1,
          1,
          1,
          1,
          1,
          1,
          1,
          1,
          1,
          1,
          1,
          1,
          1,
          1
         ],
         "yaxis": "y4"
        },
        {
         "alignmentgroup": "True",
         "hovertemplate": "category_name=Music<br>year_month=2021-07<br>channel_id=%{x}<br>video_id=%{text}<extra></extra>",
         "legendgroup": "Music",
         "marker": {
          "color": "#0DF9FF",
          "pattern": {
           "shape": ""
          }
         },
         "name": "Music",
         "offsetgroup": "Music",
         "orientation": "v",
         "showlegend": false,
         "text": [
          4,
          4,
          3,
          3,
          3,
          2,
          2,
          2,
          1,
          1,
          1,
          1,
          1,
          1,
          1,
          1,
          1,
          1,
          1,
          1,
          1,
          1,
          1,
          1,
          1,
          1,
          1,
          1,
          1,
          1,
          1,
          1,
          1,
          1
         ],
         "textposition": "auto",
         "type": "bar",
         "x": [
          "CHEbRSm",
          "CHLkAep",
          "CHzCedB",
          "CHIcXK1",
          "CH-FQUI",
          "CH3IZKs",
          "CHPENYt",
          "CHEf_Bc",
          "CHe52oe",
          "CHviI9l",
          "CHtCiO5",
          "CHritGV",
          "CHkYFO5",
          "CHk9Gmd",
          "CHk2E0d",
          "CHcM_a-",
          "CHY7unn",
          "CHMIUx2",
          "CHJVA-s",
          "CHI3Z79",
          "CHvolP1",
          "CHwgtOR",
          "CHwzCuK",
          "CHxOZuU",
          "CHzxXBQ",
          "CHHX_FN",
          "CH9vrvN",
          "CH-IG_h",
          "CH0D7tP",
          "CH2TjEZ",
          "CH3WZlO",
          "CH66yQ1",
          "CH7Qts0",
          "CH9GtSL"
         ],
         "xaxis": "x3",
         "y": [
          4,
          4,
          3,
          3,
          3,
          2,
          2,
          2,
          1,
          1,
          1,
          1,
          1,
          1,
          1,
          1,
          1,
          1,
          1,
          1,
          1,
          1,
          1,
          1,
          1,
          1,
          1,
          1,
          1,
          1,
          1,
          1,
          1,
          1
         ],
         "yaxis": "y3"
        },
        {
         "alignmentgroup": "True",
         "hovertemplate": "category_name=Music<br>year_month=2021-04<br>channel_id=%{x}<br>video_id=%{text}<extra></extra>",
         "legendgroup": "Music",
         "marker": {
          "color": "#0DF9FF",
          "pattern": {
           "shape": ""
          }
         },
         "name": "Music",
         "offsetgroup": "Music",
         "orientation": "v",
         "showlegend": false,
         "text": [
          5,
          5,
          3,
          3,
          3,
          2,
          2,
          2,
          2,
          2,
          2,
          2,
          2,
          2,
          1,
          1,
          1,
          1,
          1,
          1,
          1,
          1,
          1,
          1,
          1,
          1,
          1,
          1,
          1,
          1,
          1
         ],
         "textposition": "auto",
         "type": "bar",
         "x": [
          "CHLkAep",
          "CHfkXDY",
          "CHHGJwr",
          "CHaO6TY",
          "CHabon8",
          "CHEf_Bc",
          "CHRQ7Rw",
          "CHdNMDR",
          "CHzCedB",
          "CHkJ1rb",
          "CHoRXPc",
          "CHpbTKp",
          "CHuhAUM",
          "CHviI9l",
          "CHyPwRg",
          "CHwgtOR",
          "CH6c5iD",
          "CH6tU41",
          "CHACsUr",
          "CHAkWpy",
          "CHEbRSm",
          "CH3QWks",
          "CH3IZKs",
          "CH2KmG_",
          "CHFEVXX",
          "CHKNZsA",
          "CHwZMmI",
          "CHvNA_f",
          "CHq4isO",
          "CHeLPm9",
          "CH_pwIX"
         ],
         "xaxis": "x2",
         "y": [
          5,
          5,
          3,
          3,
          3,
          2,
          2,
          2,
          2,
          2,
          2,
          2,
          2,
          2,
          1,
          1,
          1,
          1,
          1,
          1,
          1,
          1,
          1,
          1,
          1,
          1,
          1,
          1,
          1,
          1,
          1
         ],
         "yaxis": "y2"
        },
        {
         "alignmentgroup": "True",
         "hovertemplate": "category_name=Music<br>year_month=2021-03<br>channel_id=%{x}<br>video_id=%{text}<extra></extra>",
         "legendgroup": "Music",
         "marker": {
          "color": "#0DF9FF",
          "pattern": {
           "shape": ""
          }
         },
         "name": "Music",
         "offsetgroup": "Music",
         "orientation": "v",
         "showlegend": false,
         "text": [
          1,
          1,
          1,
          1,
          1
         ],
         "textposition": "auto",
         "type": "bar",
         "x": [
          "CHtCiO5",
          "CHYDmx2",
          "CHRQ7Rw",
          "CHNk_Ik",
          "CHEf_Bc"
         ],
         "xaxis": "x",
         "y": [
          1,
          1,
          1,
          1,
          1
         ],
         "yaxis": "y"
        },
        {
         "alignmentgroup": "True",
         "hovertemplate": "category_name=Comedy<br>year_month=2021-06<br>channel_id=%{x}<br>video_id=%{text}<extra></extra>",
         "legendgroup": "Comedy",
         "marker": {
          "color": "#F6F926",
          "pattern": {
           "shape": ""
          }
         },
         "name": "Comedy",
         "offsetgroup": "Comedy",
         "orientation": "v",
         "showlegend": true,
         "text": [
          4,
          3,
          2,
          2,
          2,
          2,
          2,
          2,
          2,
          1,
          1,
          1,
          1,
          1,
          1,
          1,
          1,
          1,
          1
         ],
         "textposition": "auto",
         "type": "bar",
         "x": [
          "CHg-p3l",
          "CH9ZLv1",
          "CH6KwCU",
          "CHGX5sP",
          "CHN8CPz",
          "CHR-qpX",
          "CHhbE5O",
          "CHyCL5k",
          "CHzjiRW",
          "CHRykAt",
          "CH9nFMA",
          "CHCjJV_",
          "CHVsBCf",
          "CHYACix",
          "CHZ0dIs",
          "CHghP93",
          "CHmzMtX",
          "CHr9-Mp",
          "CHyh4ZG"
         ],
         "xaxis": "x5",
         "y": [
          4,
          3,
          2,
          2,
          2,
          2,
          2,
          2,
          2,
          1,
          1,
          1,
          1,
          1,
          1,
          1,
          1,
          1,
          1
         ],
         "yaxis": "y5"
        },
        {
         "alignmentgroup": "True",
         "hovertemplate": "category_name=Comedy<br>year_month=2021-05<br>channel_id=%{x}<br>video_id=%{text}<extra></extra>",
         "legendgroup": "Comedy",
         "marker": {
          "color": "#F6F926",
          "pattern": {
           "shape": ""
          }
         },
         "name": "Comedy",
         "offsetgroup": "Comedy",
         "orientation": "v",
         "showlegend": false,
         "text": [
          3,
          3,
          2,
          2,
          2,
          2,
          2,
          2,
          1,
          1,
          1,
          1,
          1,
          1,
          1,
          1,
          1,
          1,
          1,
          1,
          1,
          1,
          1,
          1,
          1,
          1,
          1,
          1
         ],
         "textposition": "auto",
         "type": "bar",
         "x": [
          "CHmzMtX",
          "CHgBLs7",
          "CHhbE5O",
          "CHqsPmf",
          "CHyCL5k",
          "CHZ0dIs",
          "CHEUL40",
          "CHRykAt",
          "CHV3i3l",
          "CHR-qpX",
          "CHGX5sP",
          "CHK3p1w",
          "CHt_UFh",
          "CHsJ6Ru",
          "CHQmu3U",
          "CHoe_Vp",
          "CHmCNgL",
          "CHSc2Dc",
          "CHg-p3l",
          "CHfU6o0",
          "CHe9f9M",
          "CHd-Sfb",
          "CHbGXAe",
          "CHD2YO_",
          "CH9nFMA",
          "CH6KwCU",
          "CH69uMh",
          "CH_gaUd"
         ],
         "xaxis": "x4",
         "y": [
          3,
          3,
          2,
          2,
          2,
          2,
          2,
          2,
          1,
          1,
          1,
          1,
          1,
          1,
          1,
          1,
          1,
          1,
          1,
          1,
          1,
          1,
          1,
          1,
          1,
          1,
          1,
          1
         ],
         "yaxis": "y4"
        },
        {
         "alignmentgroup": "True",
         "hovertemplate": "category_name=Comedy<br>year_month=2021-07<br>channel_id=%{x}<br>video_id=%{text}<extra></extra>",
         "legendgroup": "Comedy",
         "marker": {
          "color": "#F6F926",
          "pattern": {
           "shape": ""
          }
         },
         "name": "Comedy",
         "offsetgroup": "Comedy",
         "orientation": "v",
         "showlegend": false,
         "text": [
          4,
          4,
          3,
          3,
          3,
          3,
          3,
          2,
          1,
          1,
          1,
          1,
          1,
          1
         ],
         "textposition": "auto",
         "type": "bar",
         "x": [
          "CHmzMtX",
          "CHZ0dIs",
          "CH8-Th8",
          "CHSc2Dc",
          "CHhbE5O",
          "CHhvXm5",
          "CHyCL5k",
          "CHg-p3l",
          "CHMVC92",
          "CH9nFMA",
          "CHDCAyS",
          "CHGX5sP",
          "CHN8CPz",
          "CHt_UFh"
         ],
         "xaxis": "x3",
         "y": [
          4,
          4,
          3,
          3,
          3,
          3,
          3,
          2,
          1,
          1,
          1,
          1,
          1,
          1
         ],
         "yaxis": "y3"
        },
        {
         "alignmentgroup": "True",
         "hovertemplate": "category_name=Comedy<br>year_month=2021-04<br>channel_id=%{x}<br>video_id=%{text}<extra></extra>",
         "legendgroup": "Comedy",
         "marker": {
          "color": "#F6F926",
          "pattern": {
           "shape": ""
          }
         },
         "name": "Comedy",
         "offsetgroup": "Comedy",
         "orientation": "v",
         "showlegend": false,
         "text": [
          6,
          4,
          4,
          4,
          3,
          3,
          3,
          3,
          3,
          3,
          3,
          2,
          2,
          2,
          2,
          2,
          2,
          1,
          1,
          1,
          1,
          1,
          1,
          1,
          1,
          1,
          1,
          1,
          1
         ],
         "textposition": "auto",
         "type": "bar",
         "x": [
          "CHmzMtX",
          "CH20WKI",
          "CHhbE5O",
          "CHIuFnJ",
          "CHg-p3l",
          "CHqsPmf",
          "CHt_UFh",
          "CHe9f9M",
          "CH0SoPw",
          "CHGX5sP",
          "CHSc2Dc",
          "CHRykAt",
          "CH9nFMA",
          "CHEUL40",
          "CHPwGQu",
          "CHR-qpX",
          "CHZ0dIs",
          "CHyCL5k",
          "CHsJ6Ru",
          "CHmHMsJ",
          "CHivkx6",
          "CHghP93",
          "CHgBLs7",
          "CHg8U-Z",
          "CHVsBCf",
          "CHK3p1w",
          "CHJpGg1",
          "CH9ZLv1",
          "CH2o_y8"
         ],
         "xaxis": "x2",
         "y": [
          6,
          4,
          4,
          4,
          3,
          3,
          3,
          3,
          3,
          3,
          3,
          2,
          2,
          2,
          2,
          2,
          2,
          1,
          1,
          1,
          1,
          1,
          1,
          1,
          1,
          1,
          1,
          1,
          1
         ],
         "yaxis": "y2"
        },
        {
         "alignmentgroup": "True",
         "hovertemplate": "category_name=Comedy<br>year_month=2021-03<br>channel_id=%{x}<br>video_id=%{text}<extra></extra>",
         "legendgroup": "Comedy",
         "marker": {
          "color": "#F6F926",
          "pattern": {
           "shape": ""
          }
         },
         "name": "Comedy",
         "offsetgroup": "Comedy",
         "orientation": "v",
         "showlegend": false,
         "text": [
          1,
          1,
          1,
          1
         ],
         "textposition": "auto",
         "type": "bar",
         "x": [
          "CHyCL5k",
          "CHgBLs7",
          "CHV3i3l",
          "CHEUL40"
         ],
         "xaxis": "x",
         "y": [
          1,
          1,
          1,
          1
         ],
         "yaxis": "y"
        },
        {
         "alignmentgroup": "True",
         "hovertemplate": "category_name=Education<br>year_month=2021-06<br>channel_id=%{x}<br>video_id=%{text}<extra></extra>",
         "legendgroup": "Education",
         "marker": {
          "color": "#FF9616",
          "pattern": {
           "shape": ""
          }
         },
         "name": "Education",
         "offsetgroup": "Education",
         "orientation": "v",
         "showlegend": true,
         "text": [
          4,
          2,
          2,
          2,
          1,
          1,
          1,
          1,
          1,
          1,
          1,
          1
         ],
         "textposition": "auto",
         "type": "bar",
         "x": [
          "CHuh6Br",
          "CHvW8no",
          "CHl7MKZ",
          "CH6xugt",
          "CHnaGfD",
          "CHjPqSb",
          "CH-9RQC",
          "CH1-lwA",
          "CH7F6UD",
          "CHD902z",
          "CHPvwqh",
          "CHiV4_c"
         ],
         "xaxis": "x5",
         "y": [
          4,
          2,
          2,
          2,
          1,
          1,
          1,
          1,
          1,
          1,
          1,
          1
         ],
         "yaxis": "y5"
        },
        {
         "alignmentgroup": "True",
         "hovertemplate": "category_name=Education<br>year_month=2021-05<br>channel_id=%{x}<br>video_id=%{text}<extra></extra>",
         "legendgroup": "Education",
         "marker": {
          "color": "#FF9616",
          "pattern": {
           "shape": ""
          }
         },
         "name": "Education",
         "offsetgroup": "Education",
         "orientation": "v",
         "showlegend": false,
         "text": [
          3,
          3,
          2,
          2,
          2,
          1,
          1,
          1,
          1,
          1,
          1
         ],
         "textposition": "auto",
         "type": "bar",
         "x": [
          "CHicKQU",
          "CHl7MKZ",
          "CHBJs8l",
          "CHHpIHu",
          "CHJ7LVh",
          "CHO0OSA",
          "CHcWXel",
          "CHma37f",
          "CHnLO88",
          "CHuh6Br",
          "CHznImS"
         ],
         "xaxis": "x4",
         "y": [
          3,
          3,
          2,
          2,
          2,
          1,
          1,
          1,
          1,
          1,
          1
         ],
         "yaxis": "y4"
        },
        {
         "alignmentgroup": "True",
         "hovertemplate": "category_name=Education<br>year_month=2021-07<br>channel_id=%{x}<br>video_id=%{text}<extra></extra>",
         "legendgroup": "Education",
         "marker": {
          "color": "#FF9616",
          "pattern": {
           "shape": ""
          }
         },
         "name": "Education",
         "offsetgroup": "Education",
         "orientation": "v",
         "showlegend": false,
         "text": [
          3,
          1,
          1,
          1,
          1,
          1
         ],
         "textposition": "auto",
         "type": "bar",
         "x": [
          "CH7F6UD",
          "CHBJs8l",
          "CHCt6iN",
          "CHD902z",
          "CHMFk5S",
          "CHZ4T91"
         ],
         "xaxis": "x3",
         "y": [
          3,
          1,
          1,
          1,
          1,
          1
         ],
         "yaxis": "y3"
        },
        {
         "alignmentgroup": "True",
         "hovertemplate": "category_name=Education<br>year_month=2021-04<br>channel_id=%{x}<br>video_id=%{text}<extra></extra>",
         "legendgroup": "Education",
         "marker": {
          "color": "#FF9616",
          "pattern": {
           "shape": ""
          }
         },
         "name": "Education",
         "offsetgroup": "Education",
         "orientation": "v",
         "showlegend": false,
         "text": [
          5,
          2,
          2,
          2,
          1,
          1,
          1,
          1,
          1,
          1
         ],
         "textposition": "auto",
         "type": "bar",
         "x": [
          "CHicKQU",
          "CHl7MKZ",
          "CHnaGfD",
          "CHuh6Br",
          "CHgheNM",
          "CHJ7LVh",
          "CHHpIHu",
          "CHCt6iN",
          "CHBM86J",
          "CH1-lwA"
         ],
         "xaxis": "x2",
         "y": [
          5,
          2,
          2,
          2,
          1,
          1,
          1,
          1,
          1,
          1
         ],
         "yaxis": "y2"
        },
        {
         "alignmentgroup": "True",
         "hovertemplate": "category_name=Education<br>year_month=2021-03<br>channel_id=%{x}<br>video_id=%{text}<extra></extra>",
         "legendgroup": "Education",
         "marker": {
          "color": "#FF9616",
          "pattern": {
           "shape": ""
          }
         },
         "name": "Education",
         "offsetgroup": "Education",
         "orientation": "v",
         "showlegend": false,
         "text": [
          2,
          1,
          1
         ],
         "textposition": "auto",
         "type": "bar",
         "x": [
          "CHicKQU",
          "CHvW8no",
          "CH5YHB-"
         ],
         "xaxis": "x",
         "y": [
          2,
          1,
          1
         ],
         "yaxis": "y"
        },
        {
         "alignmentgroup": "True",
         "hovertemplate": "category_name=Film & Animation<br>year_month=2021-06<br>channel_id=%{x}<br>video_id=%{text}<extra></extra>",
         "legendgroup": "Film & Animation",
         "marker": {
          "color": "#479B55",
          "pattern": {
           "shape": ""
          }
         },
         "name": "Film & Animation",
         "offsetgroup": "Film & Animation",
         "orientation": "v",
         "showlegend": true,
         "text": [
          3,
          3,
          2,
          2,
          2,
          1,
          1,
          1
         ],
         "textposition": "auto",
         "type": "bar",
         "x": [
          "CHUK4Yj",
          "CHRuSxV",
          "CHgmmc5",
          "CHszFjh",
          "CHz2Kbg",
          "CH6u3fo",
          "CHSB5FO",
          "CHuRZ7_"
         ],
         "xaxis": "x5",
         "y": [
          3,
          3,
          2,
          2,
          2,
          1,
          1,
          1
         ],
         "yaxis": "y5"
        },
        {
         "alignmentgroup": "True",
         "hovertemplate": "category_name=Film & Animation<br>year_month=2021-05<br>channel_id=%{x}<br>video_id=%{text}<extra></extra>",
         "legendgroup": "Film & Animation",
         "marker": {
          "color": "#479B55",
          "pattern": {
           "shape": ""
          }
         },
         "name": "Film & Animation",
         "offsetgroup": "Film & Animation",
         "orientation": "v",
         "showlegend": false,
         "text": [
          3,
          3,
          3,
          2,
          2,
          2,
          1,
          1,
          1,
          1,
          1,
          1,
          1
         ],
         "textposition": "auto",
         "type": "bar",
         "x": [
          "CHHj3qb",
          "CHi-XI2",
          "CHszFjh",
          "CH6u3fo",
          "CHRuSxV",
          "CHSB5FO",
          "CHz2Kbg",
          "CHxlv4a",
          "CHlN3o2",
          "CHY2wHB",
          "CHCcE8B",
          "CHK9PdJ",
          "CHRI5Ze"
         ],
         "xaxis": "x4",
         "y": [
          3,
          3,
          3,
          2,
          2,
          2,
          1,
          1,
          1,
          1,
          1,
          1,
          1
         ],
         "yaxis": "y4"
        },
        {
         "alignmentgroup": "True",
         "hovertemplate": "category_name=Film & Animation<br>year_month=2021-07<br>channel_id=%{x}<br>video_id=%{text}<extra></extra>",
         "legendgroup": "Film & Animation",
         "marker": {
          "color": "#479B55",
          "pattern": {
           "shape": ""
          }
         },
         "name": "Film & Animation",
         "offsetgroup": "Film & Animation",
         "orientation": "v",
         "showlegend": false,
         "text": [
          5,
          2,
          2,
          2,
          1,
          1,
          1,
          1,
          1,
          1,
          1
         ],
         "textposition": "auto",
         "type": "bar",
         "x": [
          "CHszFjh",
          "CH6u3fo",
          "CHRuSxV",
          "CHaT8jY",
          "CH3zQwS",
          "CH6q6s6",
          "CHFnuC4",
          "CHUK4Yj",
          "CHi-XI2",
          "CHs0P4G",
          "CHuKKkB"
         ],
         "xaxis": "x3",
         "y": [
          5,
          2,
          2,
          2,
          1,
          1,
          1,
          1,
          1,
          1,
          1
         ],
         "yaxis": "y3"
        },
        {
         "alignmentgroup": "True",
         "hovertemplate": "category_name=Film & Animation<br>year_month=2021-04<br>channel_id=%{x}<br>video_id=%{text}<extra></extra>",
         "legendgroup": "Film & Animation",
         "marker": {
          "color": "#479B55",
          "pattern": {
           "shape": ""
          }
         },
         "name": "Film & Animation",
         "offsetgroup": "Film & Animation",
         "orientation": "v",
         "showlegend": false,
         "text": [
          3,
          2,
          2,
          1,
          1,
          1,
          1,
          1,
          1,
          1,
          1,
          1,
          1
         ],
         "textposition": "auto",
         "type": "bar",
         "x": [
          "CHszFjh",
          "CH6u3fo",
          "CHRuSxV",
          "CHz2Kbg",
          "CHym553",
          "CHxDsmO",
          "CHi-XI2",
          "CHdq61m",
          "CHW0gUN",
          "CHUK4Yj",
          "CH6q6s6",
          "CHH3mJ-",
          "CHK9PdJ"
         ],
         "xaxis": "x2",
         "y": [
          3,
          2,
          2,
          1,
          1,
          1,
          1,
          1,
          1,
          1,
          1,
          1,
          1
         ],
         "yaxis": "y2"
        },
        {
         "alignmentgroup": "True",
         "hovertemplate": "category_name=Film & Animation<br>year_month=2021-03<br>channel_id=%{x}<br>video_id=%{text}<extra></extra>",
         "legendgroup": "Film & Animation",
         "marker": {
          "color": "#479B55",
          "pattern": {
           "shape": ""
          }
         },
         "name": "Film & Animation",
         "offsetgroup": "Film & Animation",
         "orientation": "v",
         "showlegend": false,
         "text": [
          1,
          1
         ],
         "textposition": "auto",
         "type": "bar",
         "x": [
          "CH6q6s6",
          "CHRuSxV"
         ],
         "xaxis": "x",
         "y": [
          1,
          1
         ],
         "yaxis": "y"
        },
        {
         "alignmentgroup": "True",
         "hovertemplate": "category_name=Travel & Events<br>year_month=2021-06<br>channel_id=%{x}<br>video_id=%{text}<extra></extra>",
         "legendgroup": "Travel & Events",
         "marker": {
          "color": "#EEA6FB",
          "pattern": {
           "shape": ""
          }
         },
         "name": "Travel & Events",
         "offsetgroup": "Travel & Events",
         "orientation": "v",
         "showlegend": true,
         "text": [
          2,
          1
         ],
         "textposition": "auto",
         "type": "bar",
         "x": [
          "CHPll9Z",
          "CHFCtZJ"
         ],
         "xaxis": "x5",
         "y": [
          2,
          1
         ],
         "yaxis": "y5"
        },
        {
         "alignmentgroup": "True",
         "hovertemplate": "category_name=Travel & Events<br>year_month=2021-05<br>channel_id=%{x}<br>video_id=%{text}<extra></extra>",
         "legendgroup": "Travel & Events",
         "marker": {
          "color": "#EEA6FB",
          "pattern": {
           "shape": ""
          }
         },
         "name": "Travel & Events",
         "offsetgroup": "Travel & Events",
         "orientation": "v",
         "showlegend": false,
         "text": [
          2,
          2,
          1,
          1,
          1
         ],
         "textposition": "auto",
         "type": "bar",
         "x": [
          "CHFw4M1",
          "CHa0aTy",
          "CH673sG",
          "CHFCtZJ",
          "CHsLoTw"
         ],
         "xaxis": "x4",
         "y": [
          2,
          2,
          1,
          1,
          1
         ],
         "yaxis": "y4"
        },
        {
         "alignmentgroup": "True",
         "hovertemplate": "category_name=Travel & Events<br>year_month=2021-07<br>channel_id=%{x}<br>video_id=%{text}<extra></extra>",
         "legendgroup": "Travel & Events",
         "marker": {
          "color": "#EEA6FB",
          "pattern": {
           "shape": ""
          }
         },
         "name": "Travel & Events",
         "offsetgroup": "Travel & Events",
         "orientation": "v",
         "showlegend": false,
         "text": [
          5
         ],
         "textposition": "auto",
         "type": "bar",
         "x": [
          "CHlRNDV"
         ],
         "xaxis": "x3",
         "y": [
          5
         ],
         "yaxis": "y3"
        },
        {
         "alignmentgroup": "True",
         "hovertemplate": "category_name=Travel & Events<br>year_month=2021-04<br>channel_id=%{x}<br>video_id=%{text}<extra></extra>",
         "legendgroup": "Travel & Events",
         "marker": {
          "color": "#EEA6FB",
          "pattern": {
           "shape": ""
          }
         },
         "name": "Travel & Events",
         "offsetgroup": "Travel & Events",
         "orientation": "v",
         "showlegend": false,
         "text": [
          2,
          2,
          2,
          1,
          1
         ],
         "textposition": "auto",
         "type": "bar",
         "x": [
          "CHPDdt9",
          "CH4KYnI",
          "CHlRNDV",
          "CHFw4M1",
          "CHMZO-3"
         ],
         "xaxis": "x2",
         "y": [
          2,
          2,
          2,
          1,
          1
         ],
         "yaxis": "y2"
        },
        {
         "alignmentgroup": "True",
         "hovertemplate": "category_name=Howto & Style<br>year_month=2021-06<br>channel_id=%{x}<br>video_id=%{text}<extra></extra>",
         "legendgroup": "Howto & Style",
         "marker": {
          "color": "#DC587D",
          "pattern": {
           "shape": ""
          }
         },
         "name": "Howto & Style",
         "offsetgroup": "Howto & Style",
         "orientation": "v",
         "showlegend": true,
         "text": [
          3,
          2,
          2,
          2,
          2,
          1,
          1,
          1,
          1,
          1,
          1,
          1,
          1,
          1,
          1,
          1,
          1,
          1,
          1,
          1,
          1
         ],
         "textposition": "auto",
         "type": "bar",
         "x": [
          "CH2gasv",
          "CHIZ5rC",
          "CHWrh9h",
          "CHd4Fmc",
          "CHiNS0K",
          "CHzIOIS",
          "CHz72_x",
          "CHy2WX3",
          "CHxjZ0G",
          "CHvil4O",
          "CHj8zZ1",
          "CHuFGPh",
          "CH2DHU9",
          "CH2xkO7",
          "CH8wHwv",
          "CHKm-cu",
          "CHKrhyP",
          "CHVXx89",
          "CHWdmhZ",
          "CHXGh59",
          "CHZCvbW"
         ],
         "xaxis": "x5",
         "y": [
          3,
          2,
          2,
          2,
          2,
          1,
          1,
          1,
          1,
          1,
          1,
          1,
          1,
          1,
          1,
          1,
          1,
          1,
          1,
          1,
          1
         ],
         "yaxis": "y5"
        },
        {
         "alignmentgroup": "True",
         "hovertemplate": "category_name=Howto & Style<br>year_month=2021-05<br>channel_id=%{x}<br>video_id=%{text}<extra></extra>",
         "legendgroup": "Howto & Style",
         "marker": {
          "color": "#DC587D",
          "pattern": {
           "shape": ""
          }
         },
         "name": "Howto & Style",
         "offsetgroup": "Howto & Style",
         "orientation": "v",
         "showlegend": false,
         "text": [
          4,
          3,
          3,
          3,
          2,
          2,
          2,
          2,
          2,
          1,
          1,
          1,
          1,
          1,
          1,
          1,
          1
         ],
         "textposition": "auto",
         "type": "bar",
         "x": [
          "CHn64fS",
          "CH6LBdA",
          "CHBTytr",
          "CHzIOIS",
          "CHpg89Y",
          "CHy2WX3",
          "CHVXx89",
          "CHZCvbW",
          "CHKrhyP",
          "CHKm-cu",
          "CH2xkO7",
          "CHWrh9h",
          "CHj8zZ1",
          "CHnZ8qy",
          "CHp94pz",
          "CHrpB5P",
          "CHuFGPh"
         ],
         "xaxis": "x4",
         "y": [
          4,
          3,
          3,
          3,
          2,
          2,
          2,
          2,
          2,
          1,
          1,
          1,
          1,
          1,
          1,
          1,
          1
         ],
         "yaxis": "y4"
        },
        {
         "alignmentgroup": "True",
         "hovertemplate": "category_name=Howto & Style<br>year_month=2021-07<br>channel_id=%{x}<br>video_id=%{text}<extra></extra>",
         "legendgroup": "Howto & Style",
         "marker": {
          "color": "#DC587D",
          "pattern": {
           "shape": ""
          }
         },
         "name": "Howto & Style",
         "offsetgroup": "Howto & Style",
         "orientation": "v",
         "showlegend": false,
         "text": [
          3,
          2,
          2,
          2,
          2,
          2,
          2,
          2,
          1,
          1,
          1,
          1,
          1,
          1,
          1,
          1,
          1,
          1,
          1
         ],
         "textposition": "auto",
         "type": "bar",
         "x": [
          "CHKrhyP",
          "CHL01un",
          "CHyn7ao",
          "CHn64fS",
          "CH8wHwv",
          "CHVXx89",
          "CHd4Fmc",
          "CHkxvX8",
          "CHBTytr",
          "CHWRb5Q",
          "CHIZ5rC",
          "CH5q0PI",
          "CH1g9Ja",
          "CH1EEpE",
          "CHiNS0K",
          "CHp94pz",
          "CHrpB5P",
          "CHrxSR4",
          "CHzIOIS"
         ],
         "xaxis": "x3",
         "y": [
          3,
          2,
          2,
          2,
          2,
          2,
          2,
          2,
          1,
          1,
          1,
          1,
          1,
          1,
          1,
          1,
          1,
          1,
          1
         ],
         "yaxis": "y3"
        },
        {
         "alignmentgroup": "True",
         "hovertemplate": "category_name=Howto & Style<br>year_month=2021-04<br>channel_id=%{x}<br>video_id=%{text}<extra></extra>",
         "legendgroup": "Howto & Style",
         "marker": {
          "color": "#DC587D",
          "pattern": {
           "shape": ""
          }
         },
         "name": "Howto & Style",
         "offsetgroup": "Howto & Style",
         "orientation": "v",
         "showlegend": false,
         "text": [
          3,
          3,
          2,
          2,
          2,
          2,
          1,
          1,
          1,
          1,
          1,
          1,
          1,
          1,
          1,
          1,
          1,
          1,
          1,
          1,
          1,
          1,
          1
         ],
         "textposition": "auto",
         "type": "bar",
         "x": [
          "CHIZ5rC",
          "CHd4Fmc",
          "CHBTytr",
          "CHj8zZ1",
          "CHy2WX3",
          "CHp94pz",
          "CH1UebY",
          "CHnCyCL",
          "CHayVh6",
          "CHcTWmz",
          "CHn64fS",
          "CH1g9Ja",
          "CHnekLi",
          "CHZCvbW",
          "CHWrh9h",
          "CHVXx89",
          "CHLduRr",
          "CHKm-cu",
          "CHCG6BE",
          "CH5xK2X",
          "CH2gasv",
          "CHvil4O",
          "CHyn7ao"
         ],
         "xaxis": "x2",
         "y": [
          3,
          3,
          2,
          2,
          2,
          2,
          1,
          1,
          1,
          1,
          1,
          1,
          1,
          1,
          1,
          1,
          1,
          1,
          1,
          1,
          1,
          1,
          1
         ],
         "yaxis": "y2"
        },
        {
         "alignmentgroup": "True",
         "hovertemplate": "category_name=Howto & Style<br>year_month=2021-03<br>channel_id=%{x}<br>video_id=%{text}<extra></extra>",
         "legendgroup": "Howto & Style",
         "marker": {
          "color": "#DC587D",
          "pattern": {
           "shape": ""
          }
         },
         "name": "Howto & Style",
         "offsetgroup": "Howto & Style",
         "orientation": "v",
         "showlegend": false,
         "text": [
          1,
          1
         ],
         "textposition": "auto",
         "type": "bar",
         "x": [
          "CHd4Fmc",
          "CHWrh9h"
         ],
         "xaxis": "x",
         "y": [
          1,
          1
         ],
         "yaxis": "y"
        },
        {
         "alignmentgroup": "True",
         "hovertemplate": "category_name=Gaming<br>year_month=2021-06<br>channel_id=%{x}<br>video_id=%{text}<extra></extra>",
         "legendgroup": "Gaming",
         "marker": {
          "color": "#D626FF",
          "pattern": {
           "shape": ""
          }
         },
         "name": "Gaming",
         "offsetgroup": "Gaming",
         "orientation": "v",
         "showlegend": true,
         "text": [
          3,
          2,
          2,
          2,
          2,
          2,
          1,
          1,
          1,
          1,
          1,
          1,
          1,
          1,
          1,
          1,
          1,
          1,
          1,
          1,
          1,
          1,
          1,
          1
         ],
         "textposition": "auto",
         "type": "bar",
         "x": [
          "CHefUNE",
          "CHAOTbN",
          "CHBUNoF",
          "CHU_hKD",
          "CHdrBnB",
          "CHw1Dsw",
          "CHGIY_O",
          "CHOKQpm",
          "CHfycsf",
          "CHcum1r",
          "CHSOeJW",
          "CHMPM0h",
          "CH9_093",
          "CHK3p1w",
          "CHDyc0_",
          "CHBA9Xa",
          "CHj-6sZ",
          "CHmMxEF",
          "CHms8Ge",
          "CHnss3B",
          "CHzgNzU",
          "CH9aEa6",
          "CH9-LID",
          "CH8C0Yd"
         ],
         "xaxis": "x5",
         "y": [
          3,
          2,
          2,
          2,
          2,
          2,
          1,
          1,
          1,
          1,
          1,
          1,
          1,
          1,
          1,
          1,
          1,
          1,
          1,
          1,
          1,
          1,
          1,
          1
         ],
         "yaxis": "y5"
        },
        {
         "alignmentgroup": "True",
         "hovertemplate": "category_name=Gaming<br>year_month=2021-05<br>channel_id=%{x}<br>video_id=%{text}<extra></extra>",
         "legendgroup": "Gaming",
         "marker": {
          "color": "#D626FF",
          "pattern": {
           "shape": ""
          }
         },
         "name": "Gaming",
         "offsetgroup": "Gaming",
         "orientation": "v",
         "showlegend": false,
         "text": [
          3,
          2,
          2,
          2,
          1,
          1,
          1,
          1,
          1,
          1,
          1
         ],
         "textposition": "auto",
         "type": "bar",
         "x": [
          "CH8CIM3",
          "CHdrBnB",
          "CHmCNgL",
          "CHxM_h0",
          "CHNzcxC",
          "CHpDtPd",
          "CHom6Yh",
          "CHeudxd",
          "CHHxKSi",
          "CH48NSS",
          "CH2NFRq"
         ],
         "xaxis": "x4",
         "y": [
          3,
          2,
          2,
          2,
          1,
          1,
          1,
          1,
          1,
          1,
          1
         ],
         "yaxis": "y4"
        },
        {
         "alignmentgroup": "True",
         "hovertemplate": "category_name=Gaming<br>year_month=2021-07<br>channel_id=%{x}<br>video_id=%{text}<extra></extra>",
         "legendgroup": "Gaming",
         "marker": {
          "color": "#D626FF",
          "pattern": {
           "shape": ""
          }
         },
         "name": "Gaming",
         "offsetgroup": "Gaming",
         "orientation": "v",
         "showlegend": false,
         "text": [
          3,
          2,
          2,
          2,
          1,
          1,
          1,
          1,
          1,
          1,
          1,
          1,
          1,
          1
         ],
         "textposition": "auto",
         "type": "bar",
         "x": [
          "CH8CIM3",
          "CH31ypO",
          "CH9_093",
          "CHzgNzU",
          "CHta_NR",
          "CHoyaxd",
          "CHooLkG",
          "CHom6Yh",
          "CHg7rkx",
          "CHdrBnB",
          "CHBUNoF",
          "CHBrb8H",
          "CHDBAVz",
          "CHY9pEH"
         ],
         "xaxis": "x3",
         "y": [
          3,
          2,
          2,
          2,
          1,
          1,
          1,
          1,
          1,
          1,
          1,
          1,
          1,
          1
         ],
         "yaxis": "y3"
        },
        {
         "alignmentgroup": "True",
         "hovertemplate": "category_name=Gaming<br>year_month=2021-04<br>channel_id=%{x}<br>video_id=%{text}<extra></extra>",
         "legendgroup": "Gaming",
         "marker": {
          "color": "#D626FF",
          "pattern": {
           "shape": ""
          }
         },
         "name": "Gaming",
         "offsetgroup": "Gaming",
         "orientation": "v",
         "showlegend": false,
         "text": [
          2,
          1,
          1,
          1,
          1,
          1,
          1,
          1,
          1,
          1,
          1,
          1
         ],
         "textposition": "auto",
         "type": "bar",
         "x": [
          "CHDBAVz",
          "CHpYaDy",
          "CHuOUU4",
          "CHw1Dsw",
          "CHxM_h0",
          "CHyTB7U",
          "CHooLkG",
          "CHlJspS",
          "CHeHFCf",
          "CHdrBnB",
          "CHBA9Xa",
          "CH8CIM3"
         ],
         "xaxis": "x2",
         "y": [
          2,
          1,
          1,
          1,
          1,
          1,
          1,
          1,
          1,
          1,
          1,
          1
         ],
         "yaxis": "y2"
        },
        {
         "alignmentgroup": "True",
         "hovertemplate": "category_name=Gaming<br>year_month=2021-03<br>channel_id=%{x}<br>video_id=%{text}<extra></extra>",
         "legendgroup": "Gaming",
         "marker": {
          "color": "#D626FF",
          "pattern": {
           "shape": ""
          }
         },
         "name": "Gaming",
         "offsetgroup": "Gaming",
         "orientation": "v",
         "showlegend": false,
         "text": [
          1
         ],
         "textposition": "auto",
         "type": "bar",
         "x": [
          "CHooLkG"
         ],
         "xaxis": "x",
         "y": [
          1
         ],
         "yaxis": "y"
        },
        {
         "alignmentgroup": "True",
         "hovertemplate": "category_name=Science & Technology<br>year_month=2021-06<br>channel_id=%{x}<br>video_id=%{text}<extra></extra>",
         "legendgroup": "Science & Technology",
         "marker": {
          "color": "#6E899C",
          "pattern": {
           "shape": ""
          }
         },
         "name": "Science & Technology",
         "offsetgroup": "Science & Technology",
         "orientation": "v",
         "showlegend": true,
         "text": [
          2,
          1,
          1,
          1,
          1,
          1
         ],
         "textposition": "auto",
         "type": "bar",
         "x": [
          "CH3dJKw",
          "CHYAvG7",
          "CHE_M8A",
          "CHJJ_n7",
          "CHJKZoV",
          "CHJiv3w"
         ],
         "xaxis": "x5",
         "y": [
          2,
          1,
          1,
          1,
          1,
          1
         ],
         "yaxis": "y5"
        },
        {
         "alignmentgroup": "True",
         "hovertemplate": "category_name=Science & Technology<br>year_month=2021-05<br>channel_id=%{x}<br>video_id=%{text}<extra></extra>",
         "legendgroup": "Science & Technology",
         "marker": {
          "color": "#6E899C",
          "pattern": {
           "shape": ""
          }
         },
         "name": "Science & Technology",
         "offsetgroup": "Science & Technology",
         "orientation": "v",
         "showlegend": false,
         "text": [
          1,
          1,
          1,
          1,
          1,
          1,
          1,
          1
         ],
         "textposition": "auto",
         "type": "bar",
         "x": [
          "CHb-Abq",
          "CHrBpV_",
          "CHdpbqw",
          "CHdUcjk",
          "CH_0oo0",
          "CHWwgaK",
          "CHWnC1r",
          "CHIk1-y"
         ],
         "xaxis": "x4",
         "y": [
          1,
          1,
          1,
          1,
          1,
          1,
          1,
          1
         ],
         "yaxis": "y4"
        },
        {
         "alignmentgroup": "True",
         "hovertemplate": "category_name=Science & Technology<br>year_month=2021-07<br>channel_id=%{x}<br>video_id=%{text}<extra></extra>",
         "legendgroup": "Science & Technology",
         "marker": {
          "color": "#6E899C",
          "pattern": {
           "shape": ""
          }
         },
         "name": "Science & Technology",
         "offsetgroup": "Science & Technology",
         "orientation": "v",
         "showlegend": false,
         "text": [
          3,
          2,
          1,
          1,
          1,
          1
         ],
         "textposition": "auto",
         "type": "bar",
         "x": [
          "CHdUcjk",
          "CHJJ_n7",
          "CHj-MI9",
          "CHFX6ad",
          "CHB11SA",
          "CH3dJKw"
         ],
         "xaxis": "x3",
         "y": [
          3,
          2,
          1,
          1,
          1,
          1
         ],
         "yaxis": "y3"
        },
        {
         "alignmentgroup": "True",
         "hovertemplate": "category_name=Science & Technology<br>year_month=2021-04<br>channel_id=%{x}<br>video_id=%{text}<extra></extra>",
         "legendgroup": "Science & Technology",
         "marker": {
          "color": "#6E899C",
          "pattern": {
           "shape": ""
          }
         },
         "name": "Science & Technology",
         "offsetgroup": "Science & Technology",
         "orientation": "v",
         "showlegend": false,
         "text": [
          3,
          1,
          1,
          1,
          1,
          1,
          1,
          1,
          1
         ],
         "textposition": "auto",
         "type": "bar",
         "x": [
          "CHdUcjk",
          "CH5aNQ6",
          "CHO4RG1",
          "CHUkuuo",
          "CH_0oo0",
          "CHIk1-y",
          "CHFX6ad",
          "CHE_M8A",
          "CHB11SA"
         ],
         "xaxis": "x2",
         "y": [
          3,
          1,
          1,
          1,
          1,
          1,
          1,
          1,
          1
         ],
         "yaxis": "y2"
        },
        {
         "alignmentgroup": "True",
         "hovertemplate": "category_name=Science & Technology<br>year_month=2021-03<br>channel_id=%{x}<br>video_id=%{text}<extra></extra>",
         "legendgroup": "Science & Technology",
         "marker": {
          "color": "#6E899C",
          "pattern": {
           "shape": ""
          }
         },
         "name": "Science & Technology",
         "offsetgroup": "Science & Technology",
         "orientation": "v",
         "showlegend": false,
         "text": [
          1
         ],
         "textposition": "auto",
         "type": "bar",
         "x": [
          "CHUkuuo"
         ],
         "xaxis": "x",
         "y": [
          1
         ],
         "yaxis": "y"
        },
        {
         "alignmentgroup": "True",
         "hovertemplate": "category_name=Autos & Vehicles<br>year_month=2021-06<br>channel_id=%{x}<br>video_id=%{text}<extra></extra>",
         "legendgroup": "Autos & Vehicles",
         "marker": {
          "color": "#00B5F7",
          "pattern": {
           "shape": ""
          }
         },
         "name": "Autos & Vehicles",
         "offsetgroup": "Autos & Vehicles",
         "orientation": "v",
         "showlegend": true,
         "text": [
          1,
          1,
          1,
          1,
          1,
          1,
          1
         ],
         "textposition": "auto",
         "type": "bar",
         "x": [
          "CH2xkO7",
          "CH5f97D",
          "CHKnKi2",
          "CHYVZ6z",
          "CHd5CdY",
          "CHiubh7",
          "CHyF14S"
         ],
         "xaxis": "x5",
         "y": [
          1,
          1,
          1,
          1,
          1,
          1,
          1
         ],
         "yaxis": "y5"
        },
        {
         "alignmentgroup": "True",
         "hovertemplate": "category_name=Autos & Vehicles<br>year_month=2021-05<br>channel_id=%{x}<br>video_id=%{text}<extra></extra>",
         "legendgroup": "Autos & Vehicles",
         "marker": {
          "color": "#00B5F7",
          "pattern": {
           "shape": ""
          }
         },
         "name": "Autos & Vehicles",
         "offsetgroup": "Autos & Vehicles",
         "orientation": "v",
         "showlegend": false,
         "text": [
          2,
          1,
          1,
          1
         ],
         "textposition": "auto",
         "type": "bar",
         "x": [
          "CHH5U89",
          "CHs2TmE",
          "CHSkpiP",
          "CHPbxBh"
         ],
         "xaxis": "x4",
         "y": [
          2,
          1,
          1,
          1
         ],
         "yaxis": "y4"
        },
        {
         "alignmentgroup": "True",
         "hovertemplate": "category_name=Autos & Vehicles<br>year_month=2021-07<br>channel_id=%{x}<br>video_id=%{text}<extra></extra>",
         "legendgroup": "Autos & Vehicles",
         "marker": {
          "color": "#00B5F7",
          "pattern": {
           "shape": ""
          }
         },
         "name": "Autos & Vehicles",
         "offsetgroup": "Autos & Vehicles",
         "orientation": "v",
         "showlegend": false,
         "text": [
          2,
          1,
          1,
          1,
          1,
          1,
          1
         ],
         "textposition": "auto",
         "type": "bar",
         "x": [
          "CHDpnvN",
          "CHp0B9n",
          "CHkGHfa",
          "CHiubh7",
          "CHPbxBh",
          "CH_rBRr",
          "CHrOl7I"
         ],
         "xaxis": "x3",
         "y": [
          2,
          1,
          1,
          1,
          1,
          1,
          1
         ],
         "yaxis": "y3"
        },
        {
         "alignmentgroup": "True",
         "hovertemplate": "category_name=Autos & Vehicles<br>year_month=2021-04<br>channel_id=%{x}<br>video_id=%{text}<extra></extra>",
         "legendgroup": "Autos & Vehicles",
         "marker": {
          "color": "#00B5F7",
          "pattern": {
           "shape": ""
          }
         },
         "name": "Autos & Vehicles",
         "offsetgroup": "Autos & Vehicles",
         "orientation": "v",
         "showlegend": false,
         "text": [
          2,
          2,
          1,
          1,
          1,
          1,
          1,
          1,
          1
         ],
         "textposition": "auto",
         "type": "bar",
         "x": [
          "CHrOl7I",
          "CHrXkDA",
          "CH-IBt8",
          "CH2xkO7",
          "CH5f97D",
          "CHPbxBh",
          "CHiubh7",
          "CHd5CdY",
          "CHWY41Q"
         ],
         "xaxis": "x2",
         "y": [
          2,
          2,
          1,
          1,
          1,
          1,
          1,
          1,
          1
         ],
         "yaxis": "y2"
        },
        {
         "alignmentgroup": "True",
         "hovertemplate": "category_name=Nonprofits & Activism<br>year_month=2021-05<br>channel_id=%{x}<br>video_id=%{text}<extra></extra>",
         "legendgroup": "Nonprofits & Activism",
         "marker": {
          "color": "#B68E00",
          "pattern": {
           "shape": ""
          }
         },
         "name": "Nonprofits & Activism",
         "offsetgroup": "Nonprofits & Activism",
         "orientation": "v",
         "showlegend": true,
         "text": [
          1
         ],
         "textposition": "auto",
         "type": "bar",
         "x": [
          "CHSsWdU"
         ],
         "xaxis": "x4",
         "y": [
          1
         ],
         "yaxis": "y4"
        }
       ],
       "layout": {
        "annotations": [
         {
          "font": {},
          "showarrow": false,
          "text": "2021-03",
          "textangle": 90,
          "x": 0.98,
          "xanchor": "left",
          "xref": "paper",
          "y": 0.08800000000000001,
          "yanchor": "middle",
          "yref": "paper"
         },
         {
          "font": {},
          "showarrow": false,
          "text": "2021-04",
          "textangle": 90,
          "x": 0.98,
          "xanchor": "left",
          "xref": "paper",
          "y": 0.29400000000000004,
          "yanchor": "middle",
          "yref": "paper"
         },
         {
          "font": {},
          "showarrow": false,
          "text": "2021-07",
          "textangle": 90,
          "x": 0.98,
          "xanchor": "left",
          "xref": "paper",
          "y": 0.5,
          "yanchor": "middle",
          "yref": "paper"
         },
         {
          "font": {},
          "showarrow": false,
          "text": "2021-05",
          "textangle": 90,
          "x": 0.98,
          "xanchor": "left",
          "xref": "paper",
          "y": 0.706,
          "yanchor": "middle",
          "yref": "paper"
         },
         {
          "font": {},
          "showarrow": false,
          "text": "2021-06",
          "textangle": 90,
          "x": 0.98,
          "xanchor": "left",
          "xref": "paper",
          "y": 0.912,
          "yanchor": "middle",
          "yref": "paper"
         }
        ],
        "barmode": "stack",
        "height": 800,
        "legend": {
         "title": {
          "text": "category_name"
         },
         "tracegroupgap": 0
        },
        "margin": {
         "t": 60
        },
        "template": {
         "data": {
          "bar": [
           {
            "error_x": {
             "color": "#2a3f5f"
            },
            "error_y": {
             "color": "#2a3f5f"
            },
            "marker": {
             "line": {
              "color": "#E5ECF6",
              "width": 0.5
             },
             "pattern": {
              "fillmode": "overlay",
              "size": 10,
              "solidity": 0.2
             }
            },
            "type": "bar"
           }
          ],
          "barpolar": [
           {
            "marker": {
             "line": {
              "color": "#E5ECF6",
              "width": 0.5
             },
             "pattern": {
              "fillmode": "overlay",
              "size": 10,
              "solidity": 0.2
             }
            },
            "type": "barpolar"
           }
          ],
          "carpet": [
           {
            "aaxis": {
             "endlinecolor": "#2a3f5f",
             "gridcolor": "white",
             "linecolor": "white",
             "minorgridcolor": "white",
             "startlinecolor": "#2a3f5f"
            },
            "baxis": {
             "endlinecolor": "#2a3f5f",
             "gridcolor": "white",
             "linecolor": "white",
             "minorgridcolor": "white",
             "startlinecolor": "#2a3f5f"
            },
            "type": "carpet"
           }
          ],
          "choropleth": [
           {
            "colorbar": {
             "outlinewidth": 0,
             "ticks": ""
            },
            "type": "choropleth"
           }
          ],
          "contour": [
           {
            "colorbar": {
             "outlinewidth": 0,
             "ticks": ""
            },
            "colorscale": [
             [
              0,
              "#0d0887"
             ],
             [
              0.1111111111111111,
              "#46039f"
             ],
             [
              0.2222222222222222,
              "#7201a8"
             ],
             [
              0.3333333333333333,
              "#9c179e"
             ],
             [
              0.4444444444444444,
              "#bd3786"
             ],
             [
              0.5555555555555556,
              "#d8576b"
             ],
             [
              0.6666666666666666,
              "#ed7953"
             ],
             [
              0.7777777777777778,
              "#fb9f3a"
             ],
             [
              0.8888888888888888,
              "#fdca26"
             ],
             [
              1,
              "#f0f921"
             ]
            ],
            "type": "contour"
           }
          ],
          "contourcarpet": [
           {
            "colorbar": {
             "outlinewidth": 0,
             "ticks": ""
            },
            "type": "contourcarpet"
           }
          ],
          "heatmap": [
           {
            "colorbar": {
             "outlinewidth": 0,
             "ticks": ""
            },
            "colorscale": [
             [
              0,
              "#0d0887"
             ],
             [
              0.1111111111111111,
              "#46039f"
             ],
             [
              0.2222222222222222,
              "#7201a8"
             ],
             [
              0.3333333333333333,
              "#9c179e"
             ],
             [
              0.4444444444444444,
              "#bd3786"
             ],
             [
              0.5555555555555556,
              "#d8576b"
             ],
             [
              0.6666666666666666,
              "#ed7953"
             ],
             [
              0.7777777777777778,
              "#fb9f3a"
             ],
             [
              0.8888888888888888,
              "#fdca26"
             ],
             [
              1,
              "#f0f921"
             ]
            ],
            "type": "heatmap"
           }
          ],
          "heatmapgl": [
           {
            "colorbar": {
             "outlinewidth": 0,
             "ticks": ""
            },
            "colorscale": [
             [
              0,
              "#0d0887"
             ],
             [
              0.1111111111111111,
              "#46039f"
             ],
             [
              0.2222222222222222,
              "#7201a8"
             ],
             [
              0.3333333333333333,
              "#9c179e"
             ],
             [
              0.4444444444444444,
              "#bd3786"
             ],
             [
              0.5555555555555556,
              "#d8576b"
             ],
             [
              0.6666666666666666,
              "#ed7953"
             ],
             [
              0.7777777777777778,
              "#fb9f3a"
             ],
             [
              0.8888888888888888,
              "#fdca26"
             ],
             [
              1,
              "#f0f921"
             ]
            ],
            "type": "heatmapgl"
           }
          ],
          "histogram": [
           {
            "marker": {
             "pattern": {
              "fillmode": "overlay",
              "size": 10,
              "solidity": 0.2
             }
            },
            "type": "histogram"
           }
          ],
          "histogram2d": [
           {
            "colorbar": {
             "outlinewidth": 0,
             "ticks": ""
            },
            "colorscale": [
             [
              0,
              "#0d0887"
             ],
             [
              0.1111111111111111,
              "#46039f"
             ],
             [
              0.2222222222222222,
              "#7201a8"
             ],
             [
              0.3333333333333333,
              "#9c179e"
             ],
             [
              0.4444444444444444,
              "#bd3786"
             ],
             [
              0.5555555555555556,
              "#d8576b"
             ],
             [
              0.6666666666666666,
              "#ed7953"
             ],
             [
              0.7777777777777778,
              "#fb9f3a"
             ],
             [
              0.8888888888888888,
              "#fdca26"
             ],
             [
              1,
              "#f0f921"
             ]
            ],
            "type": "histogram2d"
           }
          ],
          "histogram2dcontour": [
           {
            "colorbar": {
             "outlinewidth": 0,
             "ticks": ""
            },
            "colorscale": [
             [
              0,
              "#0d0887"
             ],
             [
              0.1111111111111111,
              "#46039f"
             ],
             [
              0.2222222222222222,
              "#7201a8"
             ],
             [
              0.3333333333333333,
              "#9c179e"
             ],
             [
              0.4444444444444444,
              "#bd3786"
             ],
             [
              0.5555555555555556,
              "#d8576b"
             ],
             [
              0.6666666666666666,
              "#ed7953"
             ],
             [
              0.7777777777777778,
              "#fb9f3a"
             ],
             [
              0.8888888888888888,
              "#fdca26"
             ],
             [
              1,
              "#f0f921"
             ]
            ],
            "type": "histogram2dcontour"
           }
          ],
          "mesh3d": [
           {
            "colorbar": {
             "outlinewidth": 0,
             "ticks": ""
            },
            "type": "mesh3d"
           }
          ],
          "parcoords": [
           {
            "line": {
             "colorbar": {
              "outlinewidth": 0,
              "ticks": ""
             }
            },
            "type": "parcoords"
           }
          ],
          "pie": [
           {
            "automargin": true,
            "type": "pie"
           }
          ],
          "scatter": [
           {
            "marker": {
             "colorbar": {
              "outlinewidth": 0,
              "ticks": ""
             }
            },
            "type": "scatter"
           }
          ],
          "scatter3d": [
           {
            "line": {
             "colorbar": {
              "outlinewidth": 0,
              "ticks": ""
             }
            },
            "marker": {
             "colorbar": {
              "outlinewidth": 0,
              "ticks": ""
             }
            },
            "type": "scatter3d"
           }
          ],
          "scattercarpet": [
           {
            "marker": {
             "colorbar": {
              "outlinewidth": 0,
              "ticks": ""
             }
            },
            "type": "scattercarpet"
           }
          ],
          "scattergeo": [
           {
            "marker": {
             "colorbar": {
              "outlinewidth": 0,
              "ticks": ""
             }
            },
            "type": "scattergeo"
           }
          ],
          "scattergl": [
           {
            "marker": {
             "colorbar": {
              "outlinewidth": 0,
              "ticks": ""
             }
            },
            "type": "scattergl"
           }
          ],
          "scattermapbox": [
           {
            "marker": {
             "colorbar": {
              "outlinewidth": 0,
              "ticks": ""
             }
            },
            "type": "scattermapbox"
           }
          ],
          "scatterpolar": [
           {
            "marker": {
             "colorbar": {
              "outlinewidth": 0,
              "ticks": ""
             }
            },
            "type": "scatterpolar"
           }
          ],
          "scatterpolargl": [
           {
            "marker": {
             "colorbar": {
              "outlinewidth": 0,
              "ticks": ""
             }
            },
            "type": "scatterpolargl"
           }
          ],
          "scatterternary": [
           {
            "marker": {
             "colorbar": {
              "outlinewidth": 0,
              "ticks": ""
             }
            },
            "type": "scatterternary"
           }
          ],
          "surface": [
           {
            "colorbar": {
             "outlinewidth": 0,
             "ticks": ""
            },
            "colorscale": [
             [
              0,
              "#0d0887"
             ],
             [
              0.1111111111111111,
              "#46039f"
             ],
             [
              0.2222222222222222,
              "#7201a8"
             ],
             [
              0.3333333333333333,
              "#9c179e"
             ],
             [
              0.4444444444444444,
              "#bd3786"
             ],
             [
              0.5555555555555556,
              "#d8576b"
             ],
             [
              0.6666666666666666,
              "#ed7953"
             ],
             [
              0.7777777777777778,
              "#fb9f3a"
             ],
             [
              0.8888888888888888,
              "#fdca26"
             ],
             [
              1,
              "#f0f921"
             ]
            ],
            "type": "surface"
           }
          ],
          "table": [
           {
            "cells": {
             "fill": {
              "color": "#EBF0F8"
             },
             "line": {
              "color": "white"
             }
            },
            "header": {
             "fill": {
              "color": "#C8D4E3"
             },
             "line": {
              "color": "white"
             }
            },
            "type": "table"
           }
          ]
         },
         "layout": {
          "annotationdefaults": {
           "arrowcolor": "#2a3f5f",
           "arrowhead": 0,
           "arrowwidth": 1
          },
          "autotypenumbers": "strict",
          "coloraxis": {
           "colorbar": {
            "outlinewidth": 0,
            "ticks": ""
           }
          },
          "colorscale": {
           "diverging": [
            [
             0,
             "#8e0152"
            ],
            [
             0.1,
             "#c51b7d"
            ],
            [
             0.2,
             "#de77ae"
            ],
            [
             0.3,
             "#f1b6da"
            ],
            [
             0.4,
             "#fde0ef"
            ],
            [
             0.5,
             "#f7f7f7"
            ],
            [
             0.6,
             "#e6f5d0"
            ],
            [
             0.7,
             "#b8e186"
            ],
            [
             0.8,
             "#7fbc41"
            ],
            [
             0.9,
             "#4d9221"
            ],
            [
             1,
             "#276419"
            ]
           ],
           "sequential": [
            [
             0,
             "#0d0887"
            ],
            [
             0.1111111111111111,
             "#46039f"
            ],
            [
             0.2222222222222222,
             "#7201a8"
            ],
            [
             0.3333333333333333,
             "#9c179e"
            ],
            [
             0.4444444444444444,
             "#bd3786"
            ],
            [
             0.5555555555555556,
             "#d8576b"
            ],
            [
             0.6666666666666666,
             "#ed7953"
            ],
            [
             0.7777777777777778,
             "#fb9f3a"
            ],
            [
             0.8888888888888888,
             "#fdca26"
            ],
            [
             1,
             "#f0f921"
            ]
           ],
           "sequentialminus": [
            [
             0,
             "#0d0887"
            ],
            [
             0.1111111111111111,
             "#46039f"
            ],
            [
             0.2222222222222222,
             "#7201a8"
            ],
            [
             0.3333333333333333,
             "#9c179e"
            ],
            [
             0.4444444444444444,
             "#bd3786"
            ],
            [
             0.5555555555555556,
             "#d8576b"
            ],
            [
             0.6666666666666666,
             "#ed7953"
            ],
            [
             0.7777777777777778,
             "#fb9f3a"
            ],
            [
             0.8888888888888888,
             "#fdca26"
            ],
            [
             1,
             "#f0f921"
            ]
           ]
          },
          "colorway": [
           "#636efa",
           "#EF553B",
           "#00cc96",
           "#ab63fa",
           "#FFA15A",
           "#19d3f3",
           "#FF6692",
           "#B6E880",
           "#FF97FF",
           "#FECB52"
          ],
          "font": {
           "color": "#2a3f5f"
          },
          "geo": {
           "bgcolor": "white",
           "lakecolor": "white",
           "landcolor": "#E5ECF6",
           "showlakes": true,
           "showland": true,
           "subunitcolor": "white"
          },
          "hoverlabel": {
           "align": "left"
          },
          "hovermode": "closest",
          "mapbox": {
           "style": "light"
          },
          "paper_bgcolor": "white",
          "plot_bgcolor": "#E5ECF6",
          "polar": {
           "angularaxis": {
            "gridcolor": "white",
            "linecolor": "white",
            "ticks": ""
           },
           "bgcolor": "#E5ECF6",
           "radialaxis": {
            "gridcolor": "white",
            "linecolor": "white",
            "ticks": ""
           }
          },
          "scene": {
           "xaxis": {
            "backgroundcolor": "#E5ECF6",
            "gridcolor": "white",
            "gridwidth": 2,
            "linecolor": "white",
            "showbackground": true,
            "ticks": "",
            "zerolinecolor": "white"
           },
           "yaxis": {
            "backgroundcolor": "#E5ECF6",
            "gridcolor": "white",
            "gridwidth": 2,
            "linecolor": "white",
            "showbackground": true,
            "ticks": "",
            "zerolinecolor": "white"
           },
           "zaxis": {
            "backgroundcolor": "#E5ECF6",
            "gridcolor": "white",
            "gridwidth": 2,
            "linecolor": "white",
            "showbackground": true,
            "ticks": "",
            "zerolinecolor": "white"
           }
          },
          "shapedefaults": {
           "line": {
            "color": "#2a3f5f"
           }
          },
          "ternary": {
           "aaxis": {
            "gridcolor": "white",
            "linecolor": "white",
            "ticks": ""
           },
           "baxis": {
            "gridcolor": "white",
            "linecolor": "white",
            "ticks": ""
           },
           "bgcolor": "#E5ECF6",
           "caxis": {
            "gridcolor": "white",
            "linecolor": "white",
            "ticks": ""
           }
          },
          "title": {
           "x": 0.05
          },
          "xaxis": {
           "automargin": true,
           "gridcolor": "white",
           "linecolor": "white",
           "ticks": "",
           "title": {
            "standoff": 15
           },
           "zerolinecolor": "white",
           "zerolinewidth": 2
          },
          "yaxis": {
           "automargin": true,
           "gridcolor": "white",
           "linecolor": "white",
           "ticks": "",
           "title": {
            "standoff": 15
           },
           "zerolinecolor": "white",
           "zerolinewidth": 2
          }
         }
        },
        "title": {
         "text": "Video Count by Category and Channel by Month"
        },
        "width": 1600,
        "xaxis": {
         "anchor": "y",
         "domain": [
          0,
          0.98
         ],
         "title": {
          "text": "Channel"
         }
        },
        "xaxis2": {
         "anchor": "y2",
         "domain": [
          0,
          0.98
         ],
         "matches": "x",
         "showticklabels": false
        },
        "xaxis3": {
         "anchor": "y3",
         "domain": [
          0,
          0.98
         ],
         "matches": "x",
         "showticklabels": false
        },
        "xaxis4": {
         "anchor": "y4",
         "domain": [
          0,
          0.98
         ],
         "matches": "x",
         "showticklabels": false
        },
        "xaxis5": {
         "anchor": "y5",
         "domain": [
          0,
          0.98
         ],
         "matches": "x",
         "showticklabels": false
        },
        "yaxis": {
         "anchor": "x",
         "domain": [
          0,
          0.17600000000000002
         ],
         "title": {
          "text": "Video Count"
         }
        },
        "yaxis2": {
         "anchor": "x2",
         "domain": [
          0.20600000000000002,
          0.382
         ],
         "matches": "y",
         "title": {
          "text": "Video Count"
         }
        },
        "yaxis3": {
         "anchor": "x3",
         "domain": [
          0.41200000000000003,
          0.5880000000000001
         ],
         "matches": "y",
         "title": {
          "text": "Video Count"
         }
        },
        "yaxis4": {
         "anchor": "x4",
         "domain": [
          0.618,
          0.794
         ],
         "matches": "y",
         "title": {
          "text": "Video Count"
         }
        },
        "yaxis5": {
         "anchor": "x5",
         "domain": [
          0.8240000000000001,
          1
         ],
         "matches": "y",
         "title": {
          "text": "Video Count"
         }
        }
       }
      },
      "text/html": [
       "<div>                            <div id=\"4d220dac-3367-4f0e-b188-6613d3ed1f98\" class=\"plotly-graph-div\" style=\"height:800px; width:1600px;\"></div>            <script type=\"text/javascript\">                require([\"plotly\"], function(Plotly) {                    window.PLOTLYENV=window.PLOTLYENV || {};                                    if (document.getElementById(\"4d220dac-3367-4f0e-b188-6613d3ed1f98\")) {                    Plotly.newPlot(                        \"4d220dac-3367-4f0e-b188-6613d3ed1f98\",                        [{\"alignmentgroup\":\"True\",\"hovertemplate\":\"category_name=Sports<br>year_month=2021-06<br>channel_id=%{x}<br>video_id=%{text}<extra></extra>\",\"legendgroup\":\"Sports\",\"marker\":{\"color\":\"#FD3216\",\"pattern\":{\"shape\":\"\"}},\"name\":\"Sports\",\"offsetgroup\":\"Sports\",\"orientation\":\"v\",\"showlegend\":true,\"text\":[15.0,6.0,4.0,3.0,3.0,3.0,2.0,2.0,2.0,2.0,2.0,2.0,2.0,2.0,2.0,1.0,1.0,1.0,1.0,1.0,1.0,1.0,1.0,1.0,1.0,1.0,1.0,1.0,1.0,1.0,1.0,1.0],\"textposition\":\"auto\",\"x\":[\"CHtybqq\",\"CHpjOmw\",\"CHdtRAc\",\"CHdTDdy\",\"CH218FQ\",\"CHdhukF\",\"CHvMwK5\",\"CHQ4eZw\",\"CHUQVGX\",\"CHfHsXd\",\"CHgp0KT\",\"CHhg51l\",\"CHoe-0E\",\"CHqsKWT\",\"CHtctOX\",\"CHunsfa\",\"CHtm_Qo\",\"CHYJDUe\",\"CHZeHMS\",\"CHc7o0O\",\"CHi84e1\",\"CHkFGfv\",\"CHnXNuk\",\"CHoLrcj\",\"CHTqenv\",\"CHI0FxD\",\"CH2qVOO\",\"CH4yq3F\",\"CH7YF5m\",\"CHBKMc4\",\"CHDIB1D\",\"CHINRJx\"],\"xaxis\":\"x5\",\"y\":[15,6,4,3,3,3,2,2,2,2,2,2,2,2,2,1,1,1,1,1,1,1,1,1,1,1,1,1,1,1,1,1],\"yaxis\":\"y5\",\"type\":\"bar\"},{\"alignmentgroup\":\"True\",\"hovertemplate\":\"category_name=Sports<br>year_month=2021-05<br>channel_id=%{x}<br>video_id=%{text}<extra></extra>\",\"legendgroup\":\"Sports\",\"marker\":{\"color\":\"#FD3216\",\"pattern\":{\"shape\":\"\"}},\"name\":\"Sports\",\"offsetgroup\":\"Sports\",\"orientation\":\"v\",\"showlegend\":false,\"text\":[5.0,2.0,2.0,2.0,2.0,1.0,1.0,1.0,1.0,1.0,1.0,1.0,1.0,1.0,1.0,1.0,1.0,1.0,1.0,1.0,1.0,1.0,1.0,1.0,1.0],\"textposition\":\"auto\",\"x\":[\"CHunsfa\",\"CHdTDdy\",\"CHdtRAc\",\"CHkFGfv\",\"CHtm_Qo\",\"CH9LQwH\",\"CH7JbUm\",\"CH2qVOO\",\"CHChcWq\",\"CHP6Cn6\",\"CHRDowc\",\"CHUQVGX\",\"CHZeHMS\",\"CHdhukF\",\"CHgIArN\",\"CHgp0KT\",\"CHh4APi\",\"CHhI3EX\",\"CHhb4gt\",\"CHn9mJ4\",\"CHnXNuk\",\"CHoHirU\",\"CHoLrcj\",\"CHqsKWT\",\"CHt8iRt\"],\"xaxis\":\"x4\",\"y\":[5,2,2,2,2,1,1,1,1,1,1,1,1,1,1,1,1,1,1,1,1,1,1,1,1],\"yaxis\":\"y4\",\"type\":\"bar\"},{\"alignmentgroup\":\"True\",\"hovertemplate\":\"category_name=Sports<br>year_month=2021-07<br>channel_id=%{x}<br>video_id=%{text}<extra></extra>\",\"legendgroup\":\"Sports\",\"marker\":{\"color\":\"#FD3216\",\"pattern\":{\"shape\":\"\"}},\"name\":\"Sports\",\"offsetgroup\":\"Sports\",\"orientation\":\"v\",\"showlegend\":false,\"text\":[8.0,6.0,6.0,5.0,4.0,4.0,4.0,3.0,2.0,2.0,2.0,2.0,2.0,1.0,1.0,1.0,1.0,1.0,1.0,1.0,1.0,1.0,1.0,1.0,1.0,1.0,1.0,1.0],\"textposition\":\"auto\",\"x\":[\"CHYRrUD\",\"CHUQVGX\",\"CHk4XjB\",\"CHArK9M\",\"CHDIB1D\",\"CHcQTRi\",\"CHtm_Qo\",\"CHoe-0E\",\"CHEg25r\",\"CHQ2TX8\",\"CHoLrcj\",\"CHnXNuk\",\"CHkFGfv\",\"CH218FQ\",\"CHQ4eZw\",\"CHPxCAB\",\"CHG-Q7s\",\"CHRDowc\",\"CHbhuEJ\",\"CHc7o0O\",\"CHdhukF\",\"CHgp0KT\",\"CHhI3EX\",\"CHhb4gt\",\"CHhg51l\",\"CHpjOmw\",\"CHqsKWT\",\"CHunsfa\"],\"xaxis\":\"x3\",\"y\":[8,6,6,5,4,4,4,3,2,2,2,2,2,1,1,1,1,1,1,1,1,1,1,1,1,1,1,1],\"yaxis\":\"y3\",\"type\":\"bar\"},{\"alignmentgroup\":\"True\",\"hovertemplate\":\"category_name=Sports<br>year_month=2021-04<br>channel_id=%{x}<br>video_id=%{text}<extra></extra>\",\"legendgroup\":\"Sports\",\"marker\":{\"color\":\"#FD3216\",\"pattern\":{\"shape\":\"\"}},\"name\":\"Sports\",\"offsetgroup\":\"Sports\",\"orientation\":\"v\",\"showlegend\":false,\"text\":[5.0,4.0,4.0,3.0,3.0,2.0,2.0,2.0,2.0,2.0,1.0,1.0,1.0,1.0,1.0,1.0,1.0,1.0,1.0,1.0,1.0,1.0,1.0,1.0,1.0,1.0,1.0,1.0,1.0,1.0,1.0,1.0],\"textposition\":\"auto\",\"x\":[\"CHtm_Qo\",\"CH2qVOO\",\"CHhg51l\",\"CHhb4gt\",\"CHnXNuk\",\"CHdTDdy\",\"CHgp0KT\",\"CHoLrcj\",\"CHc7o0O\",\"CHunsfa\",\"CHt7dVd\",\"CHqsKWT\",\"CHn9mJ4\",\"CHmKTwX\",\"CHkFGfv\",\"CHh4APi\",\"CHZeHMS\",\"CH3GEDF\",\"CH4_uws\",\"CH7JbUm\",\"CH9pdRy\",\"CHArK9M\",\"CHTv-Xv\",\"CHUQVGX\",\"CHCA4-e\",\"CHUXDKi\",\"CHX0xc2\",\"CHQ4eZw\",\"CHKHLAo\",\"CHEg25r\",\"CHET00Y\",\"CHD902z\"],\"xaxis\":\"x2\",\"y\":[5,4,4,3,3,2,2,2,2,2,1,1,1,1,1,1,1,1,1,1,1,1,1,1,1,1,1,1,1,1,1,1],\"yaxis\":\"y2\",\"type\":\"bar\"},{\"alignmentgroup\":\"True\",\"hovertemplate\":\"category_name=Sports<br>year_month=2021-03<br>channel_id=%{x}<br>video_id=%{text}<extra></extra>\",\"legendgroup\":\"Sports\",\"marker\":{\"color\":\"#FD3216\",\"pattern\":{\"shape\":\"\"}},\"name\":\"Sports\",\"offsetgroup\":\"Sports\",\"orientation\":\"v\",\"showlegend\":false,\"text\":[1.0,1.0,1.0,1.0],\"textposition\":\"auto\",\"x\":[\"CHZSNhO\",\"CHoHirU\",\"CHCA4-e\",\"CH2qVOO\"],\"xaxis\":\"x\",\"y\":[1,1,1,1],\"yaxis\":\"y\",\"type\":\"bar\"},{\"alignmentgroup\":\"True\",\"hovertemplate\":\"category_name=Entertainment<br>year_month=2021-06<br>channel_id=%{x}<br>video_id=%{text}<extra></extra>\",\"legendgroup\":\"Entertainment\",\"marker\":{\"color\":\"#00FE35\",\"pattern\":{\"shape\":\"\"}},\"name\":\"Entertainment\",\"offsetgroup\":\"Entertainment\",\"orientation\":\"v\",\"showlegend\":true,\"text\":[5.0,4.0,4.0,3.0,3.0,3.0,3.0,3.0,3.0,3.0,3.0,3.0,3.0,3.0,3.0,3.0,3.0,3.0,3.0,2.0,2.0,2.0,2.0,2.0,2.0,2.0,2.0,2.0,2.0,2.0,2.0,2.0,2.0,2.0,2.0,2.0,2.0,2.0,2.0,2.0,2.0,2.0,2.0,2.0,2.0,2.0,2.0,2.0,2.0,2.0,2.0,2.0,2.0,2.0,2.0,2.0,2.0,2.0,2.0,2.0,1.0,1.0,1.0,1.0,1.0,1.0,1.0,1.0,1.0,1.0,1.0,1.0,1.0,1.0,1.0,1.0,1.0,1.0,1.0,1.0,1.0,1.0,1.0,1.0,1.0,1.0,1.0,1.0,1.0,1.0,1.0,1.0,1.0,1.0,1.0,1.0,1.0,1.0,1.0,1.0,1.0,1.0,1.0,1.0,1.0,1.0,1.0,1.0,1.0,1.0,1.0,1.0,1.0,1.0,1.0,1.0,1.0,1.0,1.0,1.0,1.0,1.0,1.0,1.0,1.0,1.0,1.0,1.0,1.0,1.0,1.0,1.0,1.0,1.0,1.0,1.0,1.0,1.0],\"textposition\":\"auto\",\"x\":[\"CHUyfkq\",\"CHVWmCR\",\"CHlzB2i\",\"CHqHP70\",\"CHj-dur\",\"CHiBKp3\",\"CHiwQRG\",\"CHcOYEm\",\"CHZVD--\",\"CHTQVIX\",\"CHPx-7A\",\"CHIA-LP\",\"CHF8W68\",\"CH78PMQ\",\"CH6erID\",\"CH3re3u\",\"CH2E-9A\",\"CH0VR2v\",\"CH0PsUG\",\"CH9HNi_\",\"CHCfQK8\",\"CHDih-8\",\"CHHzW_7\",\"CHKxLXX\",\"CHOHM2N\",\"CHObJpv\",\"CHQ2O-i\",\"CHRMA_N\",\"CHUj6rr\",\"CHUnSdg\",\"CHVyhgR\",\"CHyozK5\",\"CHk6bX-\",\"CHmgt7e\",\"CHnNNN_\",\"CHnx4Fi\",\"CHpjm6R\",\"CHqq-ov\",\"CHrSase\",\"CHrhH1d\",\"CHs8R3n\",\"CHtDcEb\",\"CHuTKrQ\",\"CHwNVDl\",\"CHweOkP\",\"CHwx6n_\",\"CHx6jsZ\",\"CHk5bhZ\",\"CHXZx95\",\"CHjToDB\",\"CHYgUhR\",\"CHaKod3\",\"CHaNGiz\",\"CHbuks6\",\"CHdWgRS\",\"CHgiO7K\",\"CHhgOgR\",\"CHi9Sl8\",\"CHiBr0b\",\"CHiEEF5\",\"CHfugxK\",\"CHhY4PX\",\"CHhE5nZ\",\"CHgsffS\",\"CHgeeQu\",\"CHfWZns\",\"CHb2wZp\",\"CHclwLh\",\"CHbY7nf\",\"CHbD8Ep\",\"CHjGoJb\",\"CHkbJc8\",\"CHkjXq1\",\"CHmbGE7\",\"CHmjNKt\",\"CHbCr1d\",\"CHoUDrz\",\"CHQNRHp\",\"CHOzWaj\",\"CHOJplh\",\"CHLtOnh\",\"CHLKugl\",\"CHKdfNL\",\"CHK3p1w\",\"CHK1sVu\",\"CHJmcPV\",\"CHT2X19\",\"CHTnafh\",\"CHTuthm\",\"CHWYzc_\",\"CHXiyTP\",\"CHY2uWQ\",\"CHYZv9v\",\"CHYtjW8\",\"CHZf4ZE\",\"CHoQIdt\",\"CHp0hYY\",\"CHsM07d\",\"CHudezj\",\"CHtp1ok\",\"CHsRIHt\",\"CHsOW9T\",\"CHsNVs6\",\"CHs1R9z\",\"CHrnPse\",\"CHriPmQ\",\"CHr0ade\",\"CHxQXvv\",\"CHy-NrX\",\"CHy1fru\",\"CHybPxZ\",\"CHybzQL\",\"CHzt24f\",\"CHIueAL\",\"CHIn1p2\",\"CHGWhMp\",\"CH2qjHK\",\"CH73yn5\",\"CH68buD\",\"CH5bUcn\",\"CH3W3kE\",\"CH2KEmF\",\"CH2IIBY\",\"CH1cWTE\",\"CH1-lwA\",\"CH81Kll\",\"CH8OUSY\",\"CH8RGSE\",\"CH8WoHU\",\"CH9idb-\",\"CH9nLq3\",\"CHC1LvV\",\"CHDb1t5\",\"CHEI4rb\",\"CHEIi7z\",\"CHEX1cZ\",\"CHEwOn7\",\"CHF3UEV\"],\"xaxis\":\"x5\",\"y\":[5,4,4,3,3,3,3,3,3,3,3,3,3,3,3,3,3,3,3,2,2,2,2,2,2,2,2,2,2,2,2,2,2,2,2,2,2,2,2,2,2,2,2,2,2,2,2,2,2,2,2,2,2,2,2,2,2,2,2,2,1,1,1,1,1,1,1,1,1,1,1,1,1,1,1,1,1,1,1,1,1,1,1,1,1,1,1,1,1,1,1,1,1,1,1,1,1,1,1,1,1,1,1,1,1,1,1,1,1,1,1,1,1,1,1,1,1,1,1,1,1,1,1,1,1,1,1,1,1,1,1,1,1,1,1,1,1,1],\"yaxis\":\"y5\",\"type\":\"bar\"},{\"alignmentgroup\":\"True\",\"hovertemplate\":\"category_name=Entertainment<br>year_month=2021-05<br>channel_id=%{x}<br>video_id=%{text}<extra></extra>\",\"legendgroup\":\"Entertainment\",\"marker\":{\"color\":\"#00FE35\",\"pattern\":{\"shape\":\"\"}},\"name\":\"Entertainment\",\"offsetgroup\":\"Entertainment\",\"orientation\":\"v\",\"showlegend\":false,\"text\":[9.0,5.0,5.0,5.0,4.0,4.0,4.0,3.0,3.0,3.0,3.0,3.0,3.0,3.0,3.0,3.0,3.0,3.0,3.0,3.0,3.0,2.0,2.0,2.0,2.0,2.0,2.0,2.0,2.0,2.0,2.0,2.0,2.0,2.0,2.0,2.0,2.0,2.0,2.0,2.0,2.0,2.0,2.0,2.0,2.0,2.0,2.0,2.0,2.0,2.0,2.0,2.0,2.0,2.0,2.0,2.0,2.0,1.0,1.0,1.0,1.0,1.0,1.0,1.0,1.0,1.0,1.0,1.0,1.0,1.0,1.0,1.0,1.0,1.0,1.0,1.0,1.0,1.0,1.0,1.0,1.0,1.0,1.0,1.0,1.0,1.0,1.0,1.0,1.0,1.0,1.0,1.0,1.0,1.0,1.0,1.0,1.0,1.0,1.0,1.0,1.0,1.0,1.0,1.0,1.0,1.0,1.0,1.0,1.0,1.0,1.0,1.0,1.0,1.0,1.0,1.0,1.0,1.0,1.0,1.0,1.0,1.0,1.0,1.0,1.0,1.0,1.0,1.0,1.0,1.0,1.0,1.0,1.0,1.0,1.0,1.0,1.0,1.0,1.0,1.0,1.0,1.0,1.0,1.0,1.0,1.0,1.0,1.0,1.0,1.0,1.0,1.0,1.0],\"textposition\":\"auto\",\"x\":[\"CHQ2O-i\",\"CHPde4g\",\"CHiwQRG\",\"CHExw7_\",\"CHMGn0N\",\"CHoXoV4\",\"CHIUfR-\",\"CHKxLXX\",\"CHWYzc_\",\"CH_Fxf0\",\"CHEIi7z\",\"CH8OUSY\",\"CHH1oRy\",\"CHbCr1d\",\"CHy1fru\",\"CHy-swB\",\"CHkxbPw\",\"CHlzB2i\",\"CHpPXYy\",\"CHs8R3n\",\"CHsRIHt\",\"CHyozK5\",\"CHFL1sC\",\"CHHlSeJ\",\"CHHzW_7\",\"CHM31rB\",\"CHMtFAi\",\"CHNIiH_\",\"CHS_hnp\",\"CHTnafh\",\"CHEwOn7\",\"CHCfQK8\",\"CHBI8xZ\",\"CH-VbFg\",\"CH-giR4\",\"CH0PsUG\",\"CH1HHeT\",\"CH3re3u\",\"CH8WoHU\",\"CHUXYT0\",\"CHYSjF7\",\"CHs1R9z\",\"CHu9BCt\",\"CHwx6n_\",\"CHqq-ov\",\"CHbEp_Z\",\"CHqHP70\",\"CHbVRtq\",\"CHe-gh0\",\"CHem8l1\",\"CHg3Ydm\",\"CHgZlBR\",\"CHhE5nZ\",\"CHhgOgR\",\"CHj28Fv\",\"CHl_tB4\",\"CHpjm6R\",\"CHsNVs6\",\"CHtckgm\",\"CHtDcEb\",\"CHseQwR\",\"CHsOW9T\",\"CHrLUuZ\",\"CHudezj\",\"CHvAewW\",\"CHvScwM\",\"CHwNVDl\",\"CHweOkP\",\"CHx6jsZ\",\"CHxQXvv\",\"CHxmBxN\",\"CHy-NrX\",\"CHpBkdV\",\"CHpK0ae\",\"CH920m3\",\"CHDhM2k\",\"CHCCjbf\",\"CHBOs39\",\"CH9kUsu\",\"CH88r6m\",\"CH35HKv\",\"CH73yn5\",\"CH6erID\",\"CH5bUcn\",\"CH5Ida8\",\"CH4nEQI\",\"CH46BbE\",\"CHEI4rb\",\"CHF3UEV\",\"CHFg6o2\",\"CHG0Jec\",\"CHGnfBj\",\"CHGrAnV\",\"CHGrfaH\",\"CHI5WgF\",\"CHIueAL\",\"CHKdfNL\",\"CHLF1hN\",\"CH3SyT4\",\"CH2qjHK\",\"CH1cWTE\",\"CH-Jblc\",\"CH0VR2v\",\"CH1L79y\",\"CH1LWEy\",\"CHLKugl\",\"CHNQL3R\",\"CHoW9qW\",\"CHhK2Dh\",\"CHiEEF5\",\"CHiBKp3\",\"CHi9Sl8\",\"CHhLGxP\",\"CHbs5PG\",\"CHfnMSb\",\"CHffY-g\",\"CHj-dur\",\"CHk5bhZ\",\"CHk6bX-\",\"CHkQCwn\",\"CHkjXq1\",\"CHm2PiW\",\"CHmbGE7\",\"CHmgt7e\",\"CHmjNKt\",\"CHnLeqv\",\"CHnx4Fi\",\"CHoQIdt\",\"CHoUDrz\",\"CHchRZl\",\"CHNl-TU\",\"CHRMA_N\",\"CHTS3Lw\",\"CHTQVIX\",\"CHTOUUd\",\"CHRWzK4\",\"CHR5cyf\",\"CHQNRHp\",\"CHPx-7A\",\"CHPKNKl\",\"CHOtCBu\",\"CHTuthm\",\"CHVXN28\",\"CHWhiqH\",\"CHXZx95\",\"CHXaYpH\",\"CHYmo0H\",\"CHYtjW8\",\"CHYyLIl\",\"CHZCH_G\",\"CHZf4ZE\",\"CHaKod3\",\"CHaZS_X\"],\"xaxis\":\"x4\",\"y\":[9,5,5,5,4,4,4,3,3,3,3,3,3,3,3,3,3,3,3,3,3,2,2,2,2,2,2,2,2,2,2,2,2,2,2,2,2,2,2,2,2,2,2,2,2,2,2,2,2,2,2,2,2,2,2,2,2,1,1,1,1,1,1,1,1,1,1,1,1,1,1,1,1,1,1,1,1,1,1,1,1,1,1,1,1,1,1,1,1,1,1,1,1,1,1,1,1,1,1,1,1,1,1,1,1,1,1,1,1,1,1,1,1,1,1,1,1,1,1,1,1,1,1,1,1,1,1,1,1,1,1,1,1,1,1,1,1,1,1,1,1,1,1,1,1,1,1,1,1,1,1,1,1],\"yaxis\":\"y4\",\"type\":\"bar\"},{\"alignmentgroup\":\"True\",\"hovertemplate\":\"category_name=Entertainment<br>year_month=2021-07<br>channel_id=%{x}<br>video_id=%{text}<extra></extra>\",\"legendgroup\":\"Entertainment\",\"marker\":{\"color\":\"#00FE35\",\"pattern\":{\"shape\":\"\"}},\"name\":\"Entertainment\",\"offsetgroup\":\"Entertainment\",\"orientation\":\"v\",\"showlegend\":false,\"text\":[4.0,4.0,3.0,3.0,3.0,3.0,3.0,3.0,3.0,3.0,3.0,3.0,3.0,3.0,3.0,3.0,3.0,2.0,2.0,2.0,2.0,2.0,2.0,2.0,2.0,2.0,2.0,2.0,2.0,2.0,2.0,2.0,2.0,2.0,2.0,2.0,2.0,2.0,2.0,2.0,2.0,2.0,2.0,2.0,2.0,2.0,2.0,2.0,2.0,2.0,2.0,2.0,2.0,2.0,2.0,1.0,1.0,1.0,1.0,1.0,1.0,1.0,1.0,1.0,1.0,1.0,1.0,1.0,1.0,1.0,1.0,1.0,1.0,1.0,1.0,1.0,1.0,1.0,1.0,1.0,1.0,1.0,1.0,1.0,1.0,1.0,1.0,1.0,1.0,1.0,1.0,1.0,1.0,1.0,1.0,1.0,1.0,1.0,1.0,1.0,1.0,1.0,1.0,1.0,1.0,1.0,1.0,1.0,1.0,1.0,1.0,1.0,1.0,1.0,1.0,1.0,1.0,1.0,1.0,1.0,1.0,1.0,1.0,1.0,1.0,1.0,1.0,1.0,1.0],\"textposition\":\"auto\",\"x\":[\"CHk6bX-\",\"CHaKod3\",\"CH9idb-\",\"CHoCvTl\",\"CHnx4Fi\",\"CHnLeqv\",\"CHmjNKt\",\"CHOHM2N\",\"CHlzB2i\",\"CHZf4ZE\",\"CHWYzc_\",\"CHYZv9v\",\"CHYn09y\",\"CHtDcEb\",\"CHy-swB\",\"CHybPxZ\",\"CHYtjW8\",\"CHyozK5\",\"CHxLc0z\",\"CHTuthm\",\"CHRLM0M\",\"CHQ2O-i\",\"CHIUfR-\",\"CHEwOn7\",\"CHEX1cZ\",\"CH_pOKL\",\"CHb-y7Y\",\"CH920m3\",\"CH4JAFO\",\"CH2tfQf\",\"CH2E-9A\",\"CH0VR2v\",\"CH0PsUG\",\"CHbCr1d\",\"CHbD8Ep\",\"CHbEp_Z\",\"CHr0ade\",\"CHqq-ov\",\"CHqHP70\",\"CHpjm6R\",\"CHrSase\",\"CHrhgVH\",\"CHkbJc8\",\"CHx6jsZ\",\"CHwx6n_\",\"CHriPmQ\",\"CHkxbPw\",\"CHdWgRS\",\"CHepUWU\",\"CHiwQRG\",\"CHiEEF5\",\"CHhgOgR\",\"CHhE5nZ\",\"CHgsffS\",\"CHs1R9z\",\"CH2DHU9\",\"CH2DoAr\",\"CH2IIBY\",\"CH2qjHK\",\"CH3SyT4\",\"CH3m0s5\",\"CH3re3u\",\"CH49ta0\",\"CH4qc3p\",\"CH5Ida8\",\"CH5bUcn\",\"CH5q0PI\",\"CH5zXl0\",\"CH6erID\",\"CH78PMQ\",\"CH81Kll\",\"CH9HNi_\",\"CH1cWTE\",\"CH1L79y\",\"CHBpzJv\",\"CH9w-h_\",\"CHEI4rb\",\"CHEIi7z\",\"CHbuks6\",\"CHg8U-Z\",\"CHfela5\",\"CHfWZns\",\"CHed3O-\",\"CHcTWmz\",\"CHYyLIl\",\"CHZTPmB\",\"CHgZlBR\",\"CHhLGxP\",\"CHiBKp3\",\"CHid83o\",\"CHjGoJb\",\"CHjToDB\",\"CHkQCwn\",\"CHm2PiW\",\"CHmbGE7\",\"CHnNfsL\",\"CHZECMC\",\"CHHcDLO\",\"CHKxLXX\",\"CHK1sVu\",\"CHJmcPV\",\"CHIuteB\",\"CHIY5oU\",\"CHGrfaH\",\"CHGMHKj\",\"CHFL1sC\",\"CHF8W68\",\"CHF3UEV\",\"CHEkcg9\",\"CHLynj-\",\"CHNE1pY\",\"CHNIiH_\",\"CHNQL3R\",\"CHObJpv\",\"CHPx-7A\",\"CHQNRHp\",\"CHRMA_N\",\"CHTmrCB\",\"CHTnafh\",\"CHU8MOm\",\"CHVWmCR\",\"CHXaYpH\",\"CHsNVs6\",\"CHsRIHt\",\"CHsU2Rl\",\"CHtckgm\",\"CHuTKrQ\",\"CHwNVDl\",\"CHy-NrX\"],\"xaxis\":\"x3\",\"y\":[4,4,3,3,3,3,3,3,3,3,3,3,3,3,3,3,3,2,2,2,2,2,2,2,2,2,2,2,2,2,2,2,2,2,2,2,2,2,2,2,2,2,2,2,2,2,2,2,2,2,2,2,2,2,2,1,1,1,1,1,1,1,1,1,1,1,1,1,1,1,1,1,1,1,1,1,1,1,1,1,1,1,1,1,1,1,1,1,1,1,1,1,1,1,1,1,1,1,1,1,1,1,1,1,1,1,1,1,1,1,1,1,1,1,1,1,1,1,1,1,1,1,1,1,1,1,1,1,1],\"yaxis\":\"y3\",\"type\":\"bar\"},{\"alignmentgroup\":\"True\",\"hovertemplate\":\"category_name=Entertainment<br>year_month=2021-04<br>channel_id=%{x}<br>video_id=%{text}<extra></extra>\",\"legendgroup\":\"Entertainment\",\"marker\":{\"color\":\"#00FE35\",\"pattern\":{\"shape\":\"\"}},\"name\":\"Entertainment\",\"offsetgroup\":\"Entertainment\",\"orientation\":\"v\",\"showlegend\":false,\"text\":[5.0,5.0,5.0,5.0,4.0,4.0,4.0,4.0,3.0,3.0,3.0,3.0,3.0,3.0,3.0,3.0,3.0,3.0,3.0,3.0,3.0,3.0,3.0,3.0,3.0,3.0,2.0,2.0,2.0,2.0,2.0,2.0,2.0,2.0,2.0,2.0,2.0,2.0,2.0,2.0,2.0,2.0,2.0,2.0,2.0,2.0,2.0,2.0,2.0,2.0,2.0,2.0,2.0,2.0,2.0,2.0,2.0,2.0,2.0,2.0,2.0,1.0,1.0,1.0,1.0,1.0,1.0,1.0,1.0,1.0,1.0,1.0,1.0,1.0,1.0,1.0,1.0,1.0,1.0,1.0,1.0,1.0,1.0,1.0,1.0,1.0,1.0,1.0,1.0,1.0,1.0,1.0,1.0,1.0,1.0,1.0,1.0,1.0,1.0,1.0,1.0,1.0,1.0,1.0,1.0,1.0,1.0,1.0,1.0,1.0,1.0,1.0,1.0,1.0,1.0,1.0,1.0,1.0,1.0,1.0,1.0,1.0,1.0,1.0,1.0,1.0,1.0,1.0,1.0,1.0,1.0,1.0,1.0,1.0,1.0,1.0,1.0,1.0,1.0,1.0,1.0,1.0,1.0,1.0,1.0,1.0,1.0,1.0,1.0,1.0,1.0,1.0,1.0,1.0,1.0,1.0,1.0],\"textposition\":\"auto\",\"x\":[\"CH1L79y\",\"CHx6jsZ\",\"CHeSHil\",\"CHUyfkq\",\"CHkxbPw\",\"CHiwQRG\",\"CHFL1sC\",\"CHQ2O-i\",\"CHVWmCR\",\"CHpjm6R\",\"CHwNVDl\",\"CHmjNKt\",\"CHmONdw\",\"CHlzB2i\",\"CHbD8Ep\",\"CHcOYEm\",\"CHhY4PX\",\"CHPx-7A\",\"CH5Ida8\",\"CH3SyT4\",\"CHNIiH_\",\"CHK1sVu\",\"CHIA-LP\",\"CH0VR2v\",\"CH1cWTE\",\"CHGsJRp\",\"CHXZx95\",\"CHWhiqH\",\"CHXaYpH\",\"CHY2uWQ\",\"CHgeeQu\",\"CHaKod3\",\"CH_plsx\",\"CHYC3ZZ\",\"CHZf4ZE\",\"CHZCH_G\",\"CHYyLIl\",\"CHYgUhR\",\"CH3m0s5\",\"CH78PMQ\",\"CHEwOn7\",\"CH8OUSY\",\"CH9nLq3\",\"CHCfQK8\",\"CHB9e3p\",\"CHQNRHp\",\"CHLVwgJ\",\"CHJmcPV\",\"CH-BqPA\",\"CHKxLXX\",\"CH0PsUG\",\"CHy-swB\",\"CHreX6A\",\"CHod5V2\",\"CHm2PiW\",\"CHiBKp3\",\"CHmApNd\",\"CHiBr0b\",\"CHhgOgR\",\"CHwx6n_\",\"CHxQXvv\",\"CHObJpv\",\"CHnLeqv\",\"CHOHM2N\",\"CHnNfsL\",\"CHnx4Fi\",\"CHLynj-\",\"CHoUDrz\",\"CHPECLB\",\"CHjkoqt\",\"CHk6bX-\",\"CHWYzc_\",\"CHWJg0Q\",\"CHkPp7P\",\"CHkjXq1\",\"CHTuthm\",\"CHSQ55i\",\"CHSB5FO\",\"CHR5cyf\",\"CHmbGE7\",\"CHPde4g\",\"CHEIi7z\",\"CHDhM2k\",\"CHDb1t5\",\"CHBwCGr\",\"CHoW9qW\",\"CHKuwp5\",\"CHKdfNL\",\"CHIueAL\",\"CHIY5oU\",\"CHIUfR-\",\"CHHzW_7\",\"CHGrfaH\",\"CHF3UEV\",\"CHWstBK\",\"CHj-dur\",\"CHaZS_X\",\"CHaNGiz\",\"CHhqMfc\",\"CHa56qk\",\"CHbCr1d\",\"CHbuks6\",\"CHhLGxP\",\"CHhE5nZ\",\"CHhpiLQ\",\"CHgiO7K\",\"CHg8U-Z\",\"CHfdYUR\",\"CHepUWU\",\"CHe_oTY\",\"CHdWgRS\",\"CHcTWmz\",\"CHiP6DC\",\"CH_pOKL\",\"CH_6zPf\",\"CHZtpUg\",\"CHZVD--\",\"CHYIxlZ\",\"CHYtjW8\",\"CHYn09y\",\"CHYeeEw\",\"CHYZv9v\",\"CH18g7g\",\"CH2-Lri\",\"CH271vX\",\"CH2aMxQ\",\"CH3Ea2-\",\"CH46BbE\",\"CH4nEQI\",\"CH-VbFg\",\"CH-VOS6\",\"CH5bUcn\",\"CHAP8OK\",\"CH6wiUw\",\"CHB-ogY\",\"CH9w-h_\",\"CH9HNi_\",\"CH7QX2Y\",\"CHp0hYY\",\"CHpPXYy\",\"CHsOW9T\",\"CHsRIHt\",\"CHtCW8q\",\"CHtDcEb\",\"CHtckgm\",\"CHrjVVh\",\"CHriPmQ\",\"CHrLUuZ\",\"CHyozK5\",\"CHy-NrX\",\"CHxmBxN\",\"CHxjERP\",\"CHwZTee\",\"CHvAewW\",\"CHuw1hx\",\"CHtkQiK\",\"CHtgggh\"],\"xaxis\":\"x2\",\"y\":[5,5,5,5,4,4,4,4,3,3,3,3,3,3,3,3,3,3,3,3,3,3,3,3,3,3,2,2,2,2,2,2,2,2,2,2,2,2,2,2,2,2,2,2,2,2,2,2,2,2,2,2,2,2,2,2,2,2,2,2,2,1,1,1,1,1,1,1,1,1,1,1,1,1,1,1,1,1,1,1,1,1,1,1,1,1,1,1,1,1,1,1,1,1,1,1,1,1,1,1,1,1,1,1,1,1,1,1,1,1,1,1,1,1,1,1,1,1,1,1,1,1,1,1,1,1,1,1,1,1,1,1,1,1,1,1,1,1,1,1,1,1,1,1,1,1,1,1,1,1,1,1,1,1,1,1,1],\"yaxis\":\"y2\",\"type\":\"bar\"},{\"alignmentgroup\":\"True\",\"hovertemplate\":\"category_name=Entertainment<br>year_month=2021-03<br>channel_id=%{x}<br>video_id=%{text}<extra></extra>\",\"legendgroup\":\"Entertainment\",\"marker\":{\"color\":\"#00FE35\",\"pattern\":{\"shape\":\"\"}},\"name\":\"Entertainment\",\"offsetgroup\":\"Entertainment\",\"orientation\":\"v\",\"showlegend\":false,\"text\":[2.0,2.0,2.0,2.0,1.0,1.0,1.0,1.0,1.0,1.0,1.0,1.0,1.0,1.0,1.0,1.0,1.0,1.0,1.0,1.0,1.0,1.0,1.0,1.0],\"textposition\":\"auto\",\"x\":[\"CH920m3\",\"CH5BMQO\",\"CH46BbE\",\"CHaKod3\",\"CH68buD\",\"CH78PMQ\",\"CH7Krez\",\"CHDb1t5\",\"CHEwOn7\",\"CH4LW3s\",\"CH12YJZ\",\"CHdUlCa\",\"CHjGoJb\",\"CHlzB2i\",\"CHqq-ov\",\"CHrhH1d\",\"CHriPmQ\",\"CHweOkP\",\"CHYyLIl\",\"CHUnSdg\",\"CHTnafh\",\"CHLVwgJ\",\"CHJmcPV\",\"CHIY5oU\"],\"xaxis\":\"x\",\"y\":[2,2,2,2,1,1,1,1,1,1,1,1,1,1,1,1,1,1,1,1,1,1,1,1],\"yaxis\":\"y\",\"type\":\"bar\"},{\"alignmentgroup\":\"True\",\"hovertemplate\":\"category_name=People & Blogs<br>year_month=2021-06<br>channel_id=%{x}<br>video_id=%{text}<extra></extra>\",\"legendgroup\":\"People & Blogs\",\"marker\":{\"color\":\"#6A76FC\",\"pattern\":{\"shape\":\"\"}},\"name\":\"People & Blogs\",\"offsetgroup\":\"People & Blogs\",\"orientation\":\"v\",\"showlegend\":true,\"text\":[6.0,5.0,3.0,3.0,3.0,3.0,3.0,3.0,3.0,2.0,2.0,2.0,2.0,2.0,2.0,2.0,2.0,2.0,2.0,2.0,2.0,2.0,2.0,2.0,2.0,2.0,1.0,1.0,1.0,1.0,1.0,1.0,1.0,1.0,1.0,1.0,1.0,1.0,1.0,1.0,1.0,1.0,1.0,1.0,1.0,1.0,1.0,1.0,1.0,1.0,1.0,1.0,1.0,1.0,1.0,1.0,1.0,1.0,1.0,1.0,1.0,1.0,1.0,1.0,1.0,1.0,1.0,1.0,1.0,1.0,1.0,1.0,1.0,1.0,1.0,1.0,1.0,1.0,1.0],\"textposition\":\"auto\",\"x\":[\"CHtfriF\",\"CHuDLnJ\",\"CHtkRVa\",\"CHpH3rU\",\"CHkkWd0\",\"CHfpaSr\",\"CHXTyJZ\",\"CHASfMq\",\"CH1EiHI\",\"CH0ssa8\",\"CH26QQC\",\"CH31-nU\",\"CH48NSS\",\"CHychoc\",\"CHrLQ0o\",\"CH4sIlW\",\"CHppou5\",\"CH6lNIb\",\"CHBkXIe\",\"CHIG4gr\",\"CHPZ4e8\",\"CHPhHBE\",\"CHXURHJ\",\"CHdfhK0\",\"CHoPTIa\",\"CHoQy2w\",\"CHQWylD\",\"CHRzS1N\",\"CHSiGNr\",\"CHTx3aC\",\"CHUsoow\",\"CHUyr50\",\"CHVyMrl\",\"CHW945U\",\"CHYnfy2\",\"CHYt4St\",\"CHZ1wYQ\",\"CHZwG8g\",\"CH_EngQ\",\"CHaPILm\",\"CHaPqda\",\"CHcxK1U\",\"CHelPbn\",\"CHhK2Dh\",\"CHhji-o\",\"CHhna8l\",\"CHiMq04\",\"CHjHn_O\",\"CHOOKj-\",\"CH8MVMe\",\"CH0wTMg\",\"CH26M8b\",\"CH2XG0i\",\"CH2tbZf\",\"CHA6KBB\",\"CHM64Ik\",\"CHAhKKb\",\"CHBoQ8_\",\"CHC4Qcw\",\"CHCJ2b2\",\"CHFLlNL\",\"CHHR4kW\",\"CHJko7d\",\"CHK72hq\",\"CHKFvox\",\"CHjn-Vb\",\"CHkJNt3\",\"CHknfGX\",\"CHmfVvm\",\"CHqNN-b\",\"CHrFlv9\",\"CHrh6bu\",\"CHs9H--\",\"CHsP57H\",\"CHtfGLm\",\"CHuZu8N\",\"CHvjhQp\",\"CHyje3j\",\"CHzRDCw\"],\"xaxis\":\"x5\",\"y\":[6,5,3,3,3,3,3,3,3,2,2,2,2,2,2,2,2,2,2,2,2,2,2,2,2,2,1,1,1,1,1,1,1,1,1,1,1,1,1,1,1,1,1,1,1,1,1,1,1,1,1,1,1,1,1,1,1,1,1,1,1,1,1,1,1,1,1,1,1,1,1,1,1,1,1,1,1,1,1],\"yaxis\":\"y5\",\"type\":\"bar\"},{\"alignmentgroup\":\"True\",\"hovertemplate\":\"category_name=People & Blogs<br>year_month=2021-05<br>channel_id=%{x}<br>video_id=%{text}<extra></extra>\",\"legendgroup\":\"People & Blogs\",\"marker\":{\"color\":\"#6A76FC\",\"pattern\":{\"shape\":\"\"}},\"name\":\"People & Blogs\",\"offsetgroup\":\"People & Blogs\",\"orientation\":\"v\",\"showlegend\":false,\"text\":[7.0,7.0,4.0,3.0,3.0,3.0,3.0,3.0,2.0,2.0,2.0,2.0,2.0,2.0,2.0,2.0,2.0,2.0,2.0,2.0,2.0,1.0,1.0,1.0,1.0,1.0,1.0,1.0,1.0,1.0,1.0,1.0,1.0,1.0,1.0,1.0,1.0,1.0,1.0,1.0,1.0,1.0,1.0,1.0,1.0,1.0,1.0,1.0,1.0,1.0,1.0,1.0,1.0,1.0,1.0,1.0,1.0,1.0],\"textposition\":\"auto\",\"x\":[\"CHIG4gr\",\"CHDV9zg\",\"CHRzS1N\",\"CHK72hq\",\"CHkkWd0\",\"CHbFzvz\",\"CHRofX4\",\"CH4DnB5\",\"CHYnfy2\",\"CHzRDCw\",\"CHwW_qU\",\"CHtkRVa\",\"CHsP57H\",\"CHoQy2w\",\"CHmt37g\",\"CHheR9R\",\"CHh-1iA\",\"CHfpaSr\",\"CHZ1wYQ\",\"CHXTQWs\",\"CHld0ct\",\"CH-Bsa2\",\"CH-KafR\",\"CH-YRx5\",\"CH-swYD\",\"CH1GHhg\",\"CH26M8b\",\"CH2KUew\",\"CH2Q9aM\",\"CHA6KBB\",\"CHET3I7\",\"CHEu_YK\",\"CHF8W68\",\"CHHR4kW\",\"CHKmQlV\",\"CHLItMt\",\"CHzhyI5\",\"CHyG7zA\",\"CHaZS_X\",\"CHYt4St\",\"CHXXlcP\",\"CHWqWR1\",\"CHW9DtK\",\"CHUyr50\",\"CHQTqoE\",\"CHOOKj-\",\"CHNYi_z\",\"CHfqVrM\",\"CHhtdyq\",\"CHl-tyx\",\"CHlSUMM\",\"CHoLQZ4\",\"CHpH3rU\",\"CHqNN-b\",\"CHqsPmf\",\"CHrRn4V\",\"CHrh6bu\",\"CHtfriF\"],\"xaxis\":\"x4\",\"y\":[7,7,4,3,3,3,3,3,2,2,2,2,2,2,2,2,2,2,2,2,2,1,1,1,1,1,1,1,1,1,1,1,1,1,1,1,1,1,1,1,1,1,1,1,1,1,1,1,1,1,1,1,1,1,1,1,1,1],\"yaxis\":\"y4\",\"type\":\"bar\"},{\"alignmentgroup\":\"True\",\"hovertemplate\":\"category_name=People & Blogs<br>year_month=2021-07<br>channel_id=%{x}<br>video_id=%{text}<extra></extra>\",\"legendgroup\":\"People & Blogs\",\"marker\":{\"color\":\"#6A76FC\",\"pattern\":{\"shape\":\"\"}},\"name\":\"People & Blogs\",\"offsetgroup\":\"People & Blogs\",\"orientation\":\"v\",\"showlegend\":false,\"text\":[4.0,3.0,3.0,3.0,3.0,3.0,2.0,2.0,2.0,2.0,2.0,2.0,2.0,2.0,2.0,2.0,2.0,2.0,2.0,2.0,2.0,2.0,2.0,1.0,1.0,1.0,1.0,1.0,1.0,1.0,1.0,1.0,1.0,1.0,1.0,1.0,1.0,1.0,1.0,1.0,1.0,1.0,1.0,1.0,1.0,1.0,1.0,1.0,1.0,1.0,1.0,1.0,1.0,1.0,1.0,1.0],\"textposition\":\"auto\",\"x\":[\"CHZ1wYQ\",\"CHppou5\",\"CHs9H--\",\"CHoQy2w\",\"CHONPqk\",\"CHfpaSr\",\"CHyG7zA\",\"CHtfriF\",\"CHrFlv9\",\"CHqNN-b\",\"CHpH3rU\",\"CHE8SAl\",\"CHD2KRO\",\"CH4sIlW\",\"CH4MfUq\",\"CH26QQC\",\"CH0wNau\",\"CHKFvox\",\"CHkkWd0\",\"CHjpCOk\",\"CHd1TDy\",\"CHYnfy2\",\"CHSiGNr\",\"CHBoQ8_\",\"CHASfMq\",\"CHA6KBB\",\"CH9G7V6\",\"CH7Krez\",\"CH31-nU\",\"CH0PsUG\",\"CHDV9zg\",\"CHET3I7\",\"CHGInHR\",\"CHIG4gr\",\"CHJfDSu\",\"CHL-AUQ\",\"CHRzS1N\",\"CHUyr50\",\"CHXXlcP\",\"CHYDyvq\",\"CH_EngQ\",\"CHbzDJ6\",\"CHbFzvz\",\"CHc7een\",\"CHcxK1U\",\"CHoLQZ4\",\"CHqsPmf\",\"CHicKQU\",\"CHhK2Dh\",\"CHfqVrM\",\"CHrRn4V\",\"CHsP57H\",\"CHtkRVa\",\"CHtn-l7\",\"CHv0QY4\",\"CHychoc\"],\"xaxis\":\"x3\",\"y\":[4,3,3,3,3,3,2,2,2,2,2,2,2,2,2,2,2,2,2,2,2,2,2,1,1,1,1,1,1,1,1,1,1,1,1,1,1,1,1,1,1,1,1,1,1,1,1,1,1,1,1,1,1,1,1,1],\"yaxis\":\"y3\",\"type\":\"bar\"},{\"alignmentgroup\":\"True\",\"hovertemplate\":\"category_name=People & Blogs<br>year_month=2021-04<br>channel_id=%{x}<br>video_id=%{text}<extra></extra>\",\"legendgroup\":\"People & Blogs\",\"marker\":{\"color\":\"#6A76FC\",\"pattern\":{\"shape\":\"\"}},\"name\":\"People & Blogs\",\"offsetgroup\":\"People & Blogs\",\"orientation\":\"v\",\"showlegend\":false,\"text\":[5.0,4.0,4.0,3.0,3.0,3.0,2.0,2.0,2.0,2.0,2.0,2.0,2.0,2.0,2.0,2.0,2.0,2.0,2.0,2.0,2.0,2.0,2.0,2.0,2.0,1.0,1.0,1.0,1.0,1.0,1.0,1.0,1.0,1.0,1.0,1.0,1.0,1.0,1.0,1.0,1.0,1.0,1.0,1.0,1.0,1.0,1.0,1.0,1.0,1.0,1.0,1.0,1.0,1.0,1.0,1.0,1.0,1.0,1.0,1.0,1.0],\"textposition\":\"auto\",\"x\":[\"CHXTyJZ\",\"CHIG4gr\",\"CH680xb\",\"CHtfriF\",\"CHZ1wYQ\",\"CHKUz_7\",\"CH2KUew\",\"CHoQy2w\",\"CHoPTIa\",\"CHkkWd0\",\"CHkh6Tl\",\"CHfpaSr\",\"CHbFzvz\",\"CHYnfy2\",\"CHpH3rU\",\"CHu38Cq\",\"CHtkRVa\",\"CHXTQWs\",\"CH5QSBl\",\"CH4MfUq\",\"CH5RION\",\"CH6lNIb\",\"CHNBfRy\",\"CHOOKj-\",\"CHLJNGm\",\"CHhK2Dh\",\"CHrh6bu\",\"CHrIxxm\",\"CHrRn4V\",\"CHfqVrM\",\"CHemKWU\",\"CHdQk6g\",\"CHcQ3rs\",\"CHb_-Xu\",\"CHa_ZCX\",\"CHaZS_X\",\"CHYt4St\",\"CHXXlcP\",\"CHs29NQ\",\"CHzRDCw\",\"CHx_kYu\",\"CHvG7co\",\"CHtn-l7\",\"CHtctOX\",\"CH7bRo3\",\"CH9gxOp\",\"CHA6KBB\",\"CHAhKKb\",\"CH47HAk\",\"CH31-nU\",\"CHBHJlM\",\"CHUyr50\",\"CHWycwu\",\"CHH7JoV\",\"CHXURHJ\",\"CHUWU2s\",\"CHPZ4e8\",\"CHM64Ik\",\"CHKFvox\",\"CHHR4kW\",\"CH-Bsa2\"],\"xaxis\":\"x2\",\"y\":[5,4,4,3,3,3,2,2,2,2,2,2,2,2,2,2,2,2,2,2,2,2,2,2,2,1,1,1,1,1,1,1,1,1,1,1,1,1,1,1,1,1,1,1,1,1,1,1,1,1,1,1,1,1,1,1,1,1,1,1,1],\"yaxis\":\"y2\",\"type\":\"bar\"},{\"alignmentgroup\":\"True\",\"hovertemplate\":\"category_name=People & Blogs<br>year_month=2021-03<br>channel_id=%{x}<br>video_id=%{text}<extra></extra>\",\"legendgroup\":\"People & Blogs\",\"marker\":{\"color\":\"#6A76FC\",\"pattern\":{\"shape\":\"\"}},\"name\":\"People & Blogs\",\"offsetgroup\":\"People & Blogs\",\"orientation\":\"v\",\"showlegend\":false,\"text\":[2.0,2.0,1.0,1.0,1.0,1.0,1.0,1.0,1.0,1.0,1.0,1.0],\"textposition\":\"auto\",\"x\":[\"CHnet0I\",\"CHaZS_X\",\"CHGiqkg\",\"CHkh6Tl\",\"CHtfriF\",\"CH_Fq5K\",\"CHPZ4e8\",\"CHNBfRy\",\"CHKkxVS\",\"CHKUz_7\",\"CHyn-K7\",\"CHyuL_X\"],\"xaxis\":\"x\",\"y\":[2,2,1,1,1,1,1,1,1,1,1,1],\"yaxis\":\"y\",\"type\":\"bar\"},{\"alignmentgroup\":\"True\",\"hovertemplate\":\"category_name=Pets & Animals<br>year_month=2021-06<br>channel_id=%{x}<br>video_id=%{text}<extra></extra>\",\"legendgroup\":\"Pets & Animals\",\"marker\":{\"color\":\"#FED4C4\",\"pattern\":{\"shape\":\"\"}},\"name\":\"Pets & Animals\",\"offsetgroup\":\"Pets & Animals\",\"orientation\":\"v\",\"showlegend\":true,\"text\":[2.0,2.0,2.0,2.0,2.0,1.0,1.0,1.0,1.0,1.0,1.0,1.0,1.0,1.0,1.0,1.0],\"textposition\":\"auto\",\"x\":[\"CH69l_r\",\"CHETBLy\",\"CHHLDBh\",\"CHkuA_g\",\"CH3PSZi\",\"CHOv1v2\",\"CHPTM-N\",\"CHf0Mkc\",\"CHgsgpE\",\"CHi_IoQ\",\"CHj-rqv\",\"CHHgL0B\",\"CHOp66V\",\"CHHXnna\",\"CH04-af\",\"CHAhKKb\"],\"xaxis\":\"x5\",\"y\":[2,2,2,2,2,1,1,1,1,1,1,1,1,1,1,1],\"yaxis\":\"y5\",\"type\":\"bar\"},{\"alignmentgroup\":\"True\",\"hovertemplate\":\"category_name=Pets & Animals<br>year_month=2021-05<br>channel_id=%{x}<br>video_id=%{text}<extra></extra>\",\"legendgroup\":\"Pets & Animals\",\"marker\":{\"color\":\"#FED4C4\",\"pattern\":{\"shape\":\"\"}},\"name\":\"Pets & Animals\",\"offsetgroup\":\"Pets & Animals\",\"orientation\":\"v\",\"showlegend\":false,\"text\":[3.0,3.0,2.0,1.0,1.0,1.0],\"textposition\":\"auto\",\"x\":[\"CH22go5\",\"CHi_IoQ\",\"CH69l_r\",\"CHgsgpE\",\"CHOv1v2\",\"CHAhKKb\"],\"xaxis\":\"x4\",\"y\":[3,3,2,1,1,1],\"yaxis\":\"y4\",\"type\":\"bar\"},{\"alignmentgroup\":\"True\",\"hovertemplate\":\"category_name=Pets & Animals<br>year_month=2021-07<br>channel_id=%{x}<br>video_id=%{text}<extra></extra>\",\"legendgroup\":\"Pets & Animals\",\"marker\":{\"color\":\"#FED4C4\",\"pattern\":{\"shape\":\"\"}},\"name\":\"Pets & Animals\",\"offsetgroup\":\"Pets & Animals\",\"orientation\":\"v\",\"showlegend\":false,\"text\":[6.0,3.0,2.0,2.0,1.0,1.0,1.0,1.0,1.0,1.0,1.0,1.0,1.0,1.0],\"textposition\":\"auto\",\"x\":[\"CH29-Il\",\"CHAhKKb\",\"CHOp66V\",\"CH89A41\",\"CHa2LU4\",\"CHgsgpE\",\"CHd1TDy\",\"CHPTM-N\",\"CHOv1v2\",\"CH-IYpd\",\"CH3PSZi\",\"CH5AAf4\",\"CH69l_r\",\"CHHLDBh\"],\"xaxis\":\"x3\",\"y\":[6,3,2,2,1,1,1,1,1,1,1,1,1,1],\"yaxis\":\"y3\",\"type\":\"bar\"},{\"alignmentgroup\":\"True\",\"hovertemplate\":\"category_name=Pets & Animals<br>year_month=2021-04<br>channel_id=%{x}<br>video_id=%{text}<extra></extra>\",\"legendgroup\":\"Pets & Animals\",\"marker\":{\"color\":\"#FED4C4\",\"pattern\":{\"shape\":\"\"}},\"name\":\"Pets & Animals\",\"offsetgroup\":\"Pets & Animals\",\"orientation\":\"v\",\"showlegend\":false,\"text\":[1.0,1.0,1.0,1.0,1.0,1.0,1.0,1.0],\"textposition\":\"auto\",\"x\":[\"CH22go5\",\"CHHXnna\",\"CHPTM-N\",\"CHX2laR\",\"CHgsgpE\",\"CHkuA_g\",\"CHtbOb9\",\"CHzjDgV\"],\"xaxis\":\"x2\",\"y\":[1,1,1,1,1,1,1,1],\"yaxis\":\"y2\",\"type\":\"bar\"},{\"alignmentgroup\":\"True\",\"hovertemplate\":\"category_name=Pets & Animals<br>year_month=2021-03<br>channel_id=%{x}<br>video_id=%{text}<extra></extra>\",\"legendgroup\":\"Pets & Animals\",\"marker\":{\"color\":\"#FED4C4\",\"pattern\":{\"shape\":\"\"}},\"name\":\"Pets & Animals\",\"offsetgroup\":\"Pets & Animals\",\"orientation\":\"v\",\"showlegend\":false,\"text\":[1.0,1.0],\"textposition\":\"auto\",\"x\":[\"CHP1CQH\",\"CHOp66V\"],\"xaxis\":\"x\",\"y\":[1,1],\"yaxis\":\"y\",\"type\":\"bar\"},{\"alignmentgroup\":\"True\",\"hovertemplate\":\"category_name=News & Politics<br>year_month=2021-06<br>channel_id=%{x}<br>video_id=%{text}<extra></extra>\",\"legendgroup\":\"News & Politics\",\"marker\":{\"color\":\"#FE00CE\",\"pattern\":{\"shape\":\"\"}},\"name\":\"News & Politics\",\"offsetgroup\":\"News & Politics\",\"orientation\":\"v\",\"showlegend\":true,\"text\":[2.0,2.0,2.0,2.0,2.0,2.0,1.0,1.0,1.0,1.0,1.0,1.0,1.0,1.0,1.0,1.0,1.0,1.0,1.0,1.0,1.0],\"textposition\":\"auto\",\"x\":[\"CHF4Wxd\",\"CHQabOR\",\"CH_U34U\",\"CHcQTRi\",\"CHhlgI3\",\"CHkinYT\",\"CHnfwIK\",\"CHbMjg2\",\"CHzz58-\",\"CHWskYk\",\"CHG9aFJ\",\"CHAySce\",\"CH88r6m\",\"CH2fNt6\",\"CHy-6oZ\",\"CH1aS5C\",\"CH-0C8y\",\"CHMGn0N\",\"CHTHCOP\",\"CHMEbRp\",\"CHKhcMX\"],\"xaxis\":\"x5\",\"y\":[2,2,2,2,2,2,1,1,1,1,1,1,1,1,1,1,1,1,1,1,1],\"yaxis\":\"y5\",\"type\":\"bar\"},{\"alignmentgroup\":\"True\",\"hovertemplate\":\"category_name=News & Politics<br>year_month=2021-05<br>channel_id=%{x}<br>video_id=%{text}<extra></extra>\",\"legendgroup\":\"News & Politics\",\"marker\":{\"color\":\"#FE00CE\",\"pattern\":{\"shape\":\"\"}},\"name\":\"News & Politics\",\"offsetgroup\":\"News & Politics\",\"orientation\":\"v\",\"showlegend\":false,\"text\":[6.0,4.0,4.0,3.0,3.0,3.0,3.0,2.0,2.0,2.0,2.0,2.0,2.0,1.0,1.0,1.0,1.0,1.0,1.0,1.0,1.0,1.0,1.0,1.0,1.0,1.0,1.0,1.0,1.0,1.0,1.0,1.0],\"textposition\":\"auto\",\"x\":[\"CHsU-I-\",\"CHhlgI3\",\"CHHBvfB\",\"CHfq4V1\",\"CHH3mJ-\",\"CHF4Wxd\",\"CHAySce\",\"CH8d0Zg\",\"CHwRljh\",\"CHizGMt\",\"CHcQTRi\",\"CHWlV3L\",\"CHMLJc_\",\"CHYRrUD\",\"CHnfwIK\",\"CHj3_t5\",\"CHeFUGS\",\"CHawCv9\",\"CHIDOGT\",\"CHTTmtS\",\"CHTHCOP\",\"CHQabOR\",\"CHPfxQo\",\"CHIMOyt\",\"CHomhAm\",\"CHwCrPg\",\"CHIIpmD\",\"CH-0C8y\",\"CH4Aa3O\",\"CH7cF2Z\",\"CHG9aFJ\",\"CHGCGxs\"],\"xaxis\":\"x4\",\"y\":[6,4,4,3,3,3,3,2,2,2,2,2,2,1,1,1,1,1,1,1,1,1,1,1,1,1,1,1,1,1,1,1],\"yaxis\":\"y4\",\"type\":\"bar\"},{\"alignmentgroup\":\"True\",\"hovertemplate\":\"category_name=News & Politics<br>year_month=2021-07<br>channel_id=%{x}<br>video_id=%{text}<extra></extra>\",\"legendgroup\":\"News & Politics\",\"marker\":{\"color\":\"#FE00CE\",\"pattern\":{\"shape\":\"\"}},\"name\":\"News & Politics\",\"offsetgroup\":\"News & Politics\",\"orientation\":\"v\",\"showlegend\":false,\"text\":[3.0,3.0,3.0,3.0,2.0,2.0,2.0,2.0,2.0,1.0,1.0,1.0,1.0,1.0,1.0,1.0,1.0,1.0,1.0],\"textposition\":\"auto\",\"x\":[\"CH-0C8y\",\"CHoxT1k\",\"CHkinYT\",\"CHsU-I-\",\"CH_U34U\",\"CH0imOR\",\"CHF4Wxd\",\"CHMEbRp\",\"CHj3_t5\",\"CHzz58-\",\"CHy-6oZ\",\"CHjg8Yu\",\"CH8d0Zg\",\"CHHBvfB\",\"CHLKugl\",\"CHMGn0N\",\"CHQabOR\",\"CHTHCOP\",\"CHYRrUD\"],\"xaxis\":\"x3\",\"y\":[3,3,3,3,2,2,2,2,2,1,1,1,1,1,1,1,1,1,1],\"yaxis\":\"y3\",\"type\":\"bar\"},{\"alignmentgroup\":\"True\",\"hovertemplate\":\"category_name=News & Politics<br>year_month=2021-04<br>channel_id=%{x}<br>video_id=%{text}<extra></extra>\",\"legendgroup\":\"News & Politics\",\"marker\":{\"color\":\"#FE00CE\",\"pattern\":{\"shape\":\"\"}},\"name\":\"News & Politics\",\"offsetgroup\":\"News & Politics\",\"orientation\":\"v\",\"showlegend\":false,\"text\":[4.0,3.0,3.0,2.0,2.0,2.0,2.0,2.0,2.0,2.0,2.0,1.0,1.0,1.0,1.0,1.0,1.0,1.0,1.0,1.0,1.0,1.0,1.0,1.0],\"textposition\":\"auto\",\"x\":[\"CHMEbRp\",\"CHIDOGT\",\"CHPTy0B\",\"CH-0C8y\",\"CH1aS5C\",\"CHsU-I-\",\"CHAySce\",\"CHF4Wxd\",\"CHF8AeL\",\"CHhlgI3\",\"CHcQTRi\",\"CH0imOR\",\"CH5GZQW\",\"CHliLFb\",\"CHfq4V1\",\"CHizGMt\",\"CHj3_t5\",\"CHHBvfB\",\"CHu35od\",\"CHawCv9\",\"CH_U34U\",\"CHZQj9d\",\"CHYRrUD\",\"CHIipmg\"],\"xaxis\":\"x2\",\"y\":[4,3,3,2,2,2,2,2,2,2,2,1,1,1,1,1,1,1,1,1,1,1,1,1],\"yaxis\":\"y2\",\"type\":\"bar\"},{\"alignmentgroup\":\"True\",\"hovertemplate\":\"category_name=News & Politics<br>year_month=2021-03<br>channel_id=%{x}<br>video_id=%{text}<extra></extra>\",\"legendgroup\":\"News & Politics\",\"marker\":{\"color\":\"#FE00CE\",\"pattern\":{\"shape\":\"\"}},\"name\":\"News & Politics\",\"offsetgroup\":\"News & Politics\",\"orientation\":\"v\",\"showlegend\":false,\"text\":[2.0,1.0,1.0,1.0,1.0,1.0],\"textposition\":\"auto\",\"x\":[\"CHG9aFJ\",\"CH9thBC\",\"CHkinYT\",\"CHH3mJ-\",\"CH_U34U\",\"CHj3_t5\"],\"xaxis\":\"x\",\"y\":[2,1,1,1,1,1],\"yaxis\":\"y\",\"type\":\"bar\"},{\"alignmentgroup\":\"True\",\"hovertemplate\":\"category_name=Music<br>year_month=2021-06<br>channel_id=%{x}<br>video_id=%{text}<extra></extra>\",\"legendgroup\":\"Music\",\"marker\":{\"color\":\"#0DF9FF\",\"pattern\":{\"shape\":\"\"}},\"name\":\"Music\",\"offsetgroup\":\"Music\",\"orientation\":\"v\",\"showlegend\":true,\"text\":[4.0,3.0,3.0,3.0,3.0,3.0,3.0,2.0,2.0,2.0,2.0,2.0,2.0,2.0,1.0,1.0,1.0,1.0,1.0,1.0,1.0,1.0,1.0,1.0,1.0,1.0,1.0,1.0,1.0,1.0,1.0,1.0,1.0,1.0,1.0,1.0,1.0],\"textposition\":\"auto\",\"x\":[\"CHaO6TY\",\"CHeLPm9\",\"CHe52oe\",\"CHabon8\",\"CHfkXDY\",\"CHviI9l\",\"CHuKdaT\",\"CHoRXPc\",\"CHtCiO5\",\"CHzCedB\",\"CHmQdC1\",\"CHk2E0d\",\"CHEf_Bc\",\"CH3WZlO\",\"CHaEIlQ\",\"CHR5cyf\",\"CHXIF1a\",\"CHYDmx2\",\"CH_pwIX\",\"CHeQlMQ\",\"CHuhAUM\",\"CHoNq-k\",\"CHo-E2l\",\"CHe_56k\",\"CHhm_d4\",\"CHGrAnV\",\"CH3-ec2\",\"CH6TJkB\",\"CHDPM_n\",\"CHEbRSm\",\"CHEUX9t\",\"CH6nxfR\",\"CHAq0pF\",\"CHACvSk\",\"CH9GtSL\",\"CHwgtOR\",\"CHzgxx_\"],\"xaxis\":\"x5\",\"y\":[4,3,3,3,3,3,3,2,2,2,2,2,2,2,1,1,1,1,1,1,1,1,1,1,1,1,1,1,1,1,1,1,1,1,1,1,1],\"yaxis\":\"y5\",\"type\":\"bar\"},{\"alignmentgroup\":\"True\",\"hovertemplate\":\"category_name=Music<br>year_month=2021-05<br>channel_id=%{x}<br>video_id=%{text}<extra></extra>\",\"legendgroup\":\"Music\",\"marker\":{\"color\":\"#0DF9FF\",\"pattern\":{\"shape\":\"\"}},\"name\":\"Music\",\"offsetgroup\":\"Music\",\"orientation\":\"v\",\"showlegend\":false,\"text\":[6.0,5.0,4.0,4.0,4.0,2.0,2.0,2.0,2.0,2.0,2.0,2.0,2.0,2.0,2.0,1.0,1.0,1.0,1.0,1.0,1.0,1.0,1.0,1.0,1.0,1.0,1.0,1.0,1.0,1.0,1.0,1.0,1.0,1.0,1.0,1.0,1.0,1.0,1.0],\"textposition\":\"auto\",\"x\":[\"CH9GtSL\",\"CH3IZKs\",\"CHtCiO5\",\"CHLkAep\",\"CHEf_Bc\",\"CHzCedB\",\"CH6nxfR\",\"CH3WZlO\",\"CHlYq3P\",\"CHeLPm9\",\"CH-qYkz\",\"CHFipx4\",\"CHyPwRg\",\"CHsXigG\",\"CH66yQ1\",\"CH-jHB5\",\"CH2KmG_\",\"CH4htMX\",\"CH8qO5r\",\"CH9LcN9\",\"CH9vrvN\",\"CHRp-tG\",\"CHhu7d9\",\"CHe52oe\",\"CHcVEkH\",\"CHaO6TY\",\"CHTEWSE\",\"CHGdZ_-\",\"CHG1kwS\",\"CHEdZAd\",\"CHCEi5r\",\"CHArTAX\",\"CHk9Gmd\",\"CHkJ1rb\",\"CHmTdAl\",\"CHoRXPc\",\"CHsVcse\",\"CHuKdaT\",\"CHviI9l\"],\"xaxis\":\"x4\",\"y\":[6,5,4,4,4,2,2,2,2,2,2,2,2,2,2,1,1,1,1,1,1,1,1,1,1,1,1,1,1,1,1,1,1,1,1,1,1,1,1],\"yaxis\":\"y4\",\"type\":\"bar\"},{\"alignmentgroup\":\"True\",\"hovertemplate\":\"category_name=Music<br>year_month=2021-07<br>channel_id=%{x}<br>video_id=%{text}<extra></extra>\",\"legendgroup\":\"Music\",\"marker\":{\"color\":\"#0DF9FF\",\"pattern\":{\"shape\":\"\"}},\"name\":\"Music\",\"offsetgroup\":\"Music\",\"orientation\":\"v\",\"showlegend\":false,\"text\":[4.0,4.0,3.0,3.0,3.0,2.0,2.0,2.0,1.0,1.0,1.0,1.0,1.0,1.0,1.0,1.0,1.0,1.0,1.0,1.0,1.0,1.0,1.0,1.0,1.0,1.0,1.0,1.0,1.0,1.0,1.0,1.0,1.0,1.0],\"textposition\":\"auto\",\"x\":[\"CHEbRSm\",\"CHLkAep\",\"CHzCedB\",\"CHIcXK1\",\"CH-FQUI\",\"CH3IZKs\",\"CHPENYt\",\"CHEf_Bc\",\"CHe52oe\",\"CHviI9l\",\"CHtCiO5\",\"CHritGV\",\"CHkYFO5\",\"CHk9Gmd\",\"CHk2E0d\",\"CHcM_a-\",\"CHY7unn\",\"CHMIUx2\",\"CHJVA-s\",\"CHI3Z79\",\"CHvolP1\",\"CHwgtOR\",\"CHwzCuK\",\"CHxOZuU\",\"CHzxXBQ\",\"CHHX_FN\",\"CH9vrvN\",\"CH-IG_h\",\"CH0D7tP\",\"CH2TjEZ\",\"CH3WZlO\",\"CH66yQ1\",\"CH7Qts0\",\"CH9GtSL\"],\"xaxis\":\"x3\",\"y\":[4,4,3,3,3,2,2,2,1,1,1,1,1,1,1,1,1,1,1,1,1,1,1,1,1,1,1,1,1,1,1,1,1,1],\"yaxis\":\"y3\",\"type\":\"bar\"},{\"alignmentgroup\":\"True\",\"hovertemplate\":\"category_name=Music<br>year_month=2021-04<br>channel_id=%{x}<br>video_id=%{text}<extra></extra>\",\"legendgroup\":\"Music\",\"marker\":{\"color\":\"#0DF9FF\",\"pattern\":{\"shape\":\"\"}},\"name\":\"Music\",\"offsetgroup\":\"Music\",\"orientation\":\"v\",\"showlegend\":false,\"text\":[5.0,5.0,3.0,3.0,3.0,2.0,2.0,2.0,2.0,2.0,2.0,2.0,2.0,2.0,1.0,1.0,1.0,1.0,1.0,1.0,1.0,1.0,1.0,1.0,1.0,1.0,1.0,1.0,1.0,1.0,1.0],\"textposition\":\"auto\",\"x\":[\"CHLkAep\",\"CHfkXDY\",\"CHHGJwr\",\"CHaO6TY\",\"CHabon8\",\"CHEf_Bc\",\"CHRQ7Rw\",\"CHdNMDR\",\"CHzCedB\",\"CHkJ1rb\",\"CHoRXPc\",\"CHpbTKp\",\"CHuhAUM\",\"CHviI9l\",\"CHyPwRg\",\"CHwgtOR\",\"CH6c5iD\",\"CH6tU41\",\"CHACsUr\",\"CHAkWpy\",\"CHEbRSm\",\"CH3QWks\",\"CH3IZKs\",\"CH2KmG_\",\"CHFEVXX\",\"CHKNZsA\",\"CHwZMmI\",\"CHvNA_f\",\"CHq4isO\",\"CHeLPm9\",\"CH_pwIX\"],\"xaxis\":\"x2\",\"y\":[5,5,3,3,3,2,2,2,2,2,2,2,2,2,1,1,1,1,1,1,1,1,1,1,1,1,1,1,1,1,1],\"yaxis\":\"y2\",\"type\":\"bar\"},{\"alignmentgroup\":\"True\",\"hovertemplate\":\"category_name=Music<br>year_month=2021-03<br>channel_id=%{x}<br>video_id=%{text}<extra></extra>\",\"legendgroup\":\"Music\",\"marker\":{\"color\":\"#0DF9FF\",\"pattern\":{\"shape\":\"\"}},\"name\":\"Music\",\"offsetgroup\":\"Music\",\"orientation\":\"v\",\"showlegend\":false,\"text\":[1.0,1.0,1.0,1.0,1.0],\"textposition\":\"auto\",\"x\":[\"CHtCiO5\",\"CHYDmx2\",\"CHRQ7Rw\",\"CHNk_Ik\",\"CHEf_Bc\"],\"xaxis\":\"x\",\"y\":[1,1,1,1,1],\"yaxis\":\"y\",\"type\":\"bar\"},{\"alignmentgroup\":\"True\",\"hovertemplate\":\"category_name=Comedy<br>year_month=2021-06<br>channel_id=%{x}<br>video_id=%{text}<extra></extra>\",\"legendgroup\":\"Comedy\",\"marker\":{\"color\":\"#F6F926\",\"pattern\":{\"shape\":\"\"}},\"name\":\"Comedy\",\"offsetgroup\":\"Comedy\",\"orientation\":\"v\",\"showlegend\":true,\"text\":[4.0,3.0,2.0,2.0,2.0,2.0,2.0,2.0,2.0,1.0,1.0,1.0,1.0,1.0,1.0,1.0,1.0,1.0,1.0],\"textposition\":\"auto\",\"x\":[\"CHg-p3l\",\"CH9ZLv1\",\"CH6KwCU\",\"CHGX5sP\",\"CHN8CPz\",\"CHR-qpX\",\"CHhbE5O\",\"CHyCL5k\",\"CHzjiRW\",\"CHRykAt\",\"CH9nFMA\",\"CHCjJV_\",\"CHVsBCf\",\"CHYACix\",\"CHZ0dIs\",\"CHghP93\",\"CHmzMtX\",\"CHr9-Mp\",\"CHyh4ZG\"],\"xaxis\":\"x5\",\"y\":[4,3,2,2,2,2,2,2,2,1,1,1,1,1,1,1,1,1,1],\"yaxis\":\"y5\",\"type\":\"bar\"},{\"alignmentgroup\":\"True\",\"hovertemplate\":\"category_name=Comedy<br>year_month=2021-05<br>channel_id=%{x}<br>video_id=%{text}<extra></extra>\",\"legendgroup\":\"Comedy\",\"marker\":{\"color\":\"#F6F926\",\"pattern\":{\"shape\":\"\"}},\"name\":\"Comedy\",\"offsetgroup\":\"Comedy\",\"orientation\":\"v\",\"showlegend\":false,\"text\":[3.0,3.0,2.0,2.0,2.0,2.0,2.0,2.0,1.0,1.0,1.0,1.0,1.0,1.0,1.0,1.0,1.0,1.0,1.0,1.0,1.0,1.0,1.0,1.0,1.0,1.0,1.0,1.0],\"textposition\":\"auto\",\"x\":[\"CHmzMtX\",\"CHgBLs7\",\"CHhbE5O\",\"CHqsPmf\",\"CHyCL5k\",\"CHZ0dIs\",\"CHEUL40\",\"CHRykAt\",\"CHV3i3l\",\"CHR-qpX\",\"CHGX5sP\",\"CHK3p1w\",\"CHt_UFh\",\"CHsJ6Ru\",\"CHQmu3U\",\"CHoe_Vp\",\"CHmCNgL\",\"CHSc2Dc\",\"CHg-p3l\",\"CHfU6o0\",\"CHe9f9M\",\"CHd-Sfb\",\"CHbGXAe\",\"CHD2YO_\",\"CH9nFMA\",\"CH6KwCU\",\"CH69uMh\",\"CH_gaUd\"],\"xaxis\":\"x4\",\"y\":[3,3,2,2,2,2,2,2,1,1,1,1,1,1,1,1,1,1,1,1,1,1,1,1,1,1,1,1],\"yaxis\":\"y4\",\"type\":\"bar\"},{\"alignmentgroup\":\"True\",\"hovertemplate\":\"category_name=Comedy<br>year_month=2021-07<br>channel_id=%{x}<br>video_id=%{text}<extra></extra>\",\"legendgroup\":\"Comedy\",\"marker\":{\"color\":\"#F6F926\",\"pattern\":{\"shape\":\"\"}},\"name\":\"Comedy\",\"offsetgroup\":\"Comedy\",\"orientation\":\"v\",\"showlegend\":false,\"text\":[4.0,4.0,3.0,3.0,3.0,3.0,3.0,2.0,1.0,1.0,1.0,1.0,1.0,1.0],\"textposition\":\"auto\",\"x\":[\"CHmzMtX\",\"CHZ0dIs\",\"CH8-Th8\",\"CHSc2Dc\",\"CHhbE5O\",\"CHhvXm5\",\"CHyCL5k\",\"CHg-p3l\",\"CHMVC92\",\"CH9nFMA\",\"CHDCAyS\",\"CHGX5sP\",\"CHN8CPz\",\"CHt_UFh\"],\"xaxis\":\"x3\",\"y\":[4,4,3,3,3,3,3,2,1,1,1,1,1,1],\"yaxis\":\"y3\",\"type\":\"bar\"},{\"alignmentgroup\":\"True\",\"hovertemplate\":\"category_name=Comedy<br>year_month=2021-04<br>channel_id=%{x}<br>video_id=%{text}<extra></extra>\",\"legendgroup\":\"Comedy\",\"marker\":{\"color\":\"#F6F926\",\"pattern\":{\"shape\":\"\"}},\"name\":\"Comedy\",\"offsetgroup\":\"Comedy\",\"orientation\":\"v\",\"showlegend\":false,\"text\":[6.0,4.0,4.0,4.0,3.0,3.0,3.0,3.0,3.0,3.0,3.0,2.0,2.0,2.0,2.0,2.0,2.0,1.0,1.0,1.0,1.0,1.0,1.0,1.0,1.0,1.0,1.0,1.0,1.0],\"textposition\":\"auto\",\"x\":[\"CHmzMtX\",\"CH20WKI\",\"CHhbE5O\",\"CHIuFnJ\",\"CHg-p3l\",\"CHqsPmf\",\"CHt_UFh\",\"CHe9f9M\",\"CH0SoPw\",\"CHGX5sP\",\"CHSc2Dc\",\"CHRykAt\",\"CH9nFMA\",\"CHEUL40\",\"CHPwGQu\",\"CHR-qpX\",\"CHZ0dIs\",\"CHyCL5k\",\"CHsJ6Ru\",\"CHmHMsJ\",\"CHivkx6\",\"CHghP93\",\"CHgBLs7\",\"CHg8U-Z\",\"CHVsBCf\",\"CHK3p1w\",\"CHJpGg1\",\"CH9ZLv1\",\"CH2o_y8\"],\"xaxis\":\"x2\",\"y\":[6,4,4,4,3,3,3,3,3,3,3,2,2,2,2,2,2,1,1,1,1,1,1,1,1,1,1,1,1],\"yaxis\":\"y2\",\"type\":\"bar\"},{\"alignmentgroup\":\"True\",\"hovertemplate\":\"category_name=Comedy<br>year_month=2021-03<br>channel_id=%{x}<br>video_id=%{text}<extra></extra>\",\"legendgroup\":\"Comedy\",\"marker\":{\"color\":\"#F6F926\",\"pattern\":{\"shape\":\"\"}},\"name\":\"Comedy\",\"offsetgroup\":\"Comedy\",\"orientation\":\"v\",\"showlegend\":false,\"text\":[1.0,1.0,1.0,1.0],\"textposition\":\"auto\",\"x\":[\"CHyCL5k\",\"CHgBLs7\",\"CHV3i3l\",\"CHEUL40\"],\"xaxis\":\"x\",\"y\":[1,1,1,1],\"yaxis\":\"y\",\"type\":\"bar\"},{\"alignmentgroup\":\"True\",\"hovertemplate\":\"category_name=Education<br>year_month=2021-06<br>channel_id=%{x}<br>video_id=%{text}<extra></extra>\",\"legendgroup\":\"Education\",\"marker\":{\"color\":\"#FF9616\",\"pattern\":{\"shape\":\"\"}},\"name\":\"Education\",\"offsetgroup\":\"Education\",\"orientation\":\"v\",\"showlegend\":true,\"text\":[4.0,2.0,2.0,2.0,1.0,1.0,1.0,1.0,1.0,1.0,1.0,1.0],\"textposition\":\"auto\",\"x\":[\"CHuh6Br\",\"CHvW8no\",\"CHl7MKZ\",\"CH6xugt\",\"CHnaGfD\",\"CHjPqSb\",\"CH-9RQC\",\"CH1-lwA\",\"CH7F6UD\",\"CHD902z\",\"CHPvwqh\",\"CHiV4_c\"],\"xaxis\":\"x5\",\"y\":[4,2,2,2,1,1,1,1,1,1,1,1],\"yaxis\":\"y5\",\"type\":\"bar\"},{\"alignmentgroup\":\"True\",\"hovertemplate\":\"category_name=Education<br>year_month=2021-05<br>channel_id=%{x}<br>video_id=%{text}<extra></extra>\",\"legendgroup\":\"Education\",\"marker\":{\"color\":\"#FF9616\",\"pattern\":{\"shape\":\"\"}},\"name\":\"Education\",\"offsetgroup\":\"Education\",\"orientation\":\"v\",\"showlegend\":false,\"text\":[3.0,3.0,2.0,2.0,2.0,1.0,1.0,1.0,1.0,1.0,1.0],\"textposition\":\"auto\",\"x\":[\"CHicKQU\",\"CHl7MKZ\",\"CHBJs8l\",\"CHHpIHu\",\"CHJ7LVh\",\"CHO0OSA\",\"CHcWXel\",\"CHma37f\",\"CHnLO88\",\"CHuh6Br\",\"CHznImS\"],\"xaxis\":\"x4\",\"y\":[3,3,2,2,2,1,1,1,1,1,1],\"yaxis\":\"y4\",\"type\":\"bar\"},{\"alignmentgroup\":\"True\",\"hovertemplate\":\"category_name=Education<br>year_month=2021-07<br>channel_id=%{x}<br>video_id=%{text}<extra></extra>\",\"legendgroup\":\"Education\",\"marker\":{\"color\":\"#FF9616\",\"pattern\":{\"shape\":\"\"}},\"name\":\"Education\",\"offsetgroup\":\"Education\",\"orientation\":\"v\",\"showlegend\":false,\"text\":[3.0,1.0,1.0,1.0,1.0,1.0],\"textposition\":\"auto\",\"x\":[\"CH7F6UD\",\"CHBJs8l\",\"CHCt6iN\",\"CHD902z\",\"CHMFk5S\",\"CHZ4T91\"],\"xaxis\":\"x3\",\"y\":[3,1,1,1,1,1],\"yaxis\":\"y3\",\"type\":\"bar\"},{\"alignmentgroup\":\"True\",\"hovertemplate\":\"category_name=Education<br>year_month=2021-04<br>channel_id=%{x}<br>video_id=%{text}<extra></extra>\",\"legendgroup\":\"Education\",\"marker\":{\"color\":\"#FF9616\",\"pattern\":{\"shape\":\"\"}},\"name\":\"Education\",\"offsetgroup\":\"Education\",\"orientation\":\"v\",\"showlegend\":false,\"text\":[5.0,2.0,2.0,2.0,1.0,1.0,1.0,1.0,1.0,1.0],\"textposition\":\"auto\",\"x\":[\"CHicKQU\",\"CHl7MKZ\",\"CHnaGfD\",\"CHuh6Br\",\"CHgheNM\",\"CHJ7LVh\",\"CHHpIHu\",\"CHCt6iN\",\"CHBM86J\",\"CH1-lwA\"],\"xaxis\":\"x2\",\"y\":[5,2,2,2,1,1,1,1,1,1],\"yaxis\":\"y2\",\"type\":\"bar\"},{\"alignmentgroup\":\"True\",\"hovertemplate\":\"category_name=Education<br>year_month=2021-03<br>channel_id=%{x}<br>video_id=%{text}<extra></extra>\",\"legendgroup\":\"Education\",\"marker\":{\"color\":\"#FF9616\",\"pattern\":{\"shape\":\"\"}},\"name\":\"Education\",\"offsetgroup\":\"Education\",\"orientation\":\"v\",\"showlegend\":false,\"text\":[2.0,1.0,1.0],\"textposition\":\"auto\",\"x\":[\"CHicKQU\",\"CHvW8no\",\"CH5YHB-\"],\"xaxis\":\"x\",\"y\":[2,1,1],\"yaxis\":\"y\",\"type\":\"bar\"},{\"alignmentgroup\":\"True\",\"hovertemplate\":\"category_name=Film & Animation<br>year_month=2021-06<br>channel_id=%{x}<br>video_id=%{text}<extra></extra>\",\"legendgroup\":\"Film & Animation\",\"marker\":{\"color\":\"#479B55\",\"pattern\":{\"shape\":\"\"}},\"name\":\"Film & Animation\",\"offsetgroup\":\"Film & Animation\",\"orientation\":\"v\",\"showlegend\":true,\"text\":[3.0,3.0,2.0,2.0,2.0,1.0,1.0,1.0],\"textposition\":\"auto\",\"x\":[\"CHUK4Yj\",\"CHRuSxV\",\"CHgmmc5\",\"CHszFjh\",\"CHz2Kbg\",\"CH6u3fo\",\"CHSB5FO\",\"CHuRZ7_\"],\"xaxis\":\"x5\",\"y\":[3,3,2,2,2,1,1,1],\"yaxis\":\"y5\",\"type\":\"bar\"},{\"alignmentgroup\":\"True\",\"hovertemplate\":\"category_name=Film & Animation<br>year_month=2021-05<br>channel_id=%{x}<br>video_id=%{text}<extra></extra>\",\"legendgroup\":\"Film & Animation\",\"marker\":{\"color\":\"#479B55\",\"pattern\":{\"shape\":\"\"}},\"name\":\"Film & Animation\",\"offsetgroup\":\"Film & Animation\",\"orientation\":\"v\",\"showlegend\":false,\"text\":[3.0,3.0,3.0,2.0,2.0,2.0,1.0,1.0,1.0,1.0,1.0,1.0,1.0],\"textposition\":\"auto\",\"x\":[\"CHHj3qb\",\"CHi-XI2\",\"CHszFjh\",\"CH6u3fo\",\"CHRuSxV\",\"CHSB5FO\",\"CHz2Kbg\",\"CHxlv4a\",\"CHlN3o2\",\"CHY2wHB\",\"CHCcE8B\",\"CHK9PdJ\",\"CHRI5Ze\"],\"xaxis\":\"x4\",\"y\":[3,3,3,2,2,2,1,1,1,1,1,1,1],\"yaxis\":\"y4\",\"type\":\"bar\"},{\"alignmentgroup\":\"True\",\"hovertemplate\":\"category_name=Film & Animation<br>year_month=2021-07<br>channel_id=%{x}<br>video_id=%{text}<extra></extra>\",\"legendgroup\":\"Film & Animation\",\"marker\":{\"color\":\"#479B55\",\"pattern\":{\"shape\":\"\"}},\"name\":\"Film & Animation\",\"offsetgroup\":\"Film & Animation\",\"orientation\":\"v\",\"showlegend\":false,\"text\":[5.0,2.0,2.0,2.0,1.0,1.0,1.0,1.0,1.0,1.0,1.0],\"textposition\":\"auto\",\"x\":[\"CHszFjh\",\"CH6u3fo\",\"CHRuSxV\",\"CHaT8jY\",\"CH3zQwS\",\"CH6q6s6\",\"CHFnuC4\",\"CHUK4Yj\",\"CHi-XI2\",\"CHs0P4G\",\"CHuKKkB\"],\"xaxis\":\"x3\",\"y\":[5,2,2,2,1,1,1,1,1,1,1],\"yaxis\":\"y3\",\"type\":\"bar\"},{\"alignmentgroup\":\"True\",\"hovertemplate\":\"category_name=Film & Animation<br>year_month=2021-04<br>channel_id=%{x}<br>video_id=%{text}<extra></extra>\",\"legendgroup\":\"Film & Animation\",\"marker\":{\"color\":\"#479B55\",\"pattern\":{\"shape\":\"\"}},\"name\":\"Film & Animation\",\"offsetgroup\":\"Film & Animation\",\"orientation\":\"v\",\"showlegend\":false,\"text\":[3.0,2.0,2.0,1.0,1.0,1.0,1.0,1.0,1.0,1.0,1.0,1.0,1.0],\"textposition\":\"auto\",\"x\":[\"CHszFjh\",\"CH6u3fo\",\"CHRuSxV\",\"CHz2Kbg\",\"CHym553\",\"CHxDsmO\",\"CHi-XI2\",\"CHdq61m\",\"CHW0gUN\",\"CHUK4Yj\",\"CH6q6s6\",\"CHH3mJ-\",\"CHK9PdJ\"],\"xaxis\":\"x2\",\"y\":[3,2,2,1,1,1,1,1,1,1,1,1,1],\"yaxis\":\"y2\",\"type\":\"bar\"},{\"alignmentgroup\":\"True\",\"hovertemplate\":\"category_name=Film & Animation<br>year_month=2021-03<br>channel_id=%{x}<br>video_id=%{text}<extra></extra>\",\"legendgroup\":\"Film & Animation\",\"marker\":{\"color\":\"#479B55\",\"pattern\":{\"shape\":\"\"}},\"name\":\"Film & Animation\",\"offsetgroup\":\"Film & Animation\",\"orientation\":\"v\",\"showlegend\":false,\"text\":[1.0,1.0],\"textposition\":\"auto\",\"x\":[\"CH6q6s6\",\"CHRuSxV\"],\"xaxis\":\"x\",\"y\":[1,1],\"yaxis\":\"y\",\"type\":\"bar\"},{\"alignmentgroup\":\"True\",\"hovertemplate\":\"category_name=Travel & Events<br>year_month=2021-06<br>channel_id=%{x}<br>video_id=%{text}<extra></extra>\",\"legendgroup\":\"Travel & Events\",\"marker\":{\"color\":\"#EEA6FB\",\"pattern\":{\"shape\":\"\"}},\"name\":\"Travel & Events\",\"offsetgroup\":\"Travel & Events\",\"orientation\":\"v\",\"showlegend\":true,\"text\":[2.0,1.0],\"textposition\":\"auto\",\"x\":[\"CHPll9Z\",\"CHFCtZJ\"],\"xaxis\":\"x5\",\"y\":[2,1],\"yaxis\":\"y5\",\"type\":\"bar\"},{\"alignmentgroup\":\"True\",\"hovertemplate\":\"category_name=Travel & Events<br>year_month=2021-05<br>channel_id=%{x}<br>video_id=%{text}<extra></extra>\",\"legendgroup\":\"Travel & Events\",\"marker\":{\"color\":\"#EEA6FB\",\"pattern\":{\"shape\":\"\"}},\"name\":\"Travel & Events\",\"offsetgroup\":\"Travel & Events\",\"orientation\":\"v\",\"showlegend\":false,\"text\":[2.0,2.0,1.0,1.0,1.0],\"textposition\":\"auto\",\"x\":[\"CHFw4M1\",\"CHa0aTy\",\"CH673sG\",\"CHFCtZJ\",\"CHsLoTw\"],\"xaxis\":\"x4\",\"y\":[2,2,1,1,1],\"yaxis\":\"y4\",\"type\":\"bar\"},{\"alignmentgroup\":\"True\",\"hovertemplate\":\"category_name=Travel & Events<br>year_month=2021-07<br>channel_id=%{x}<br>video_id=%{text}<extra></extra>\",\"legendgroup\":\"Travel & Events\",\"marker\":{\"color\":\"#EEA6FB\",\"pattern\":{\"shape\":\"\"}},\"name\":\"Travel & Events\",\"offsetgroup\":\"Travel & Events\",\"orientation\":\"v\",\"showlegend\":false,\"text\":[5.0],\"textposition\":\"auto\",\"x\":[\"CHlRNDV\"],\"xaxis\":\"x3\",\"y\":[5],\"yaxis\":\"y3\",\"type\":\"bar\"},{\"alignmentgroup\":\"True\",\"hovertemplate\":\"category_name=Travel & Events<br>year_month=2021-04<br>channel_id=%{x}<br>video_id=%{text}<extra></extra>\",\"legendgroup\":\"Travel & Events\",\"marker\":{\"color\":\"#EEA6FB\",\"pattern\":{\"shape\":\"\"}},\"name\":\"Travel & Events\",\"offsetgroup\":\"Travel & Events\",\"orientation\":\"v\",\"showlegend\":false,\"text\":[2.0,2.0,2.0,1.0,1.0],\"textposition\":\"auto\",\"x\":[\"CHPDdt9\",\"CH4KYnI\",\"CHlRNDV\",\"CHFw4M1\",\"CHMZO-3\"],\"xaxis\":\"x2\",\"y\":[2,2,2,1,1],\"yaxis\":\"y2\",\"type\":\"bar\"},{\"alignmentgroup\":\"True\",\"hovertemplate\":\"category_name=Howto & Style<br>year_month=2021-06<br>channel_id=%{x}<br>video_id=%{text}<extra></extra>\",\"legendgroup\":\"Howto & Style\",\"marker\":{\"color\":\"#DC587D\",\"pattern\":{\"shape\":\"\"}},\"name\":\"Howto & Style\",\"offsetgroup\":\"Howto & Style\",\"orientation\":\"v\",\"showlegend\":true,\"text\":[3.0,2.0,2.0,2.0,2.0,1.0,1.0,1.0,1.0,1.0,1.0,1.0,1.0,1.0,1.0,1.0,1.0,1.0,1.0,1.0,1.0],\"textposition\":\"auto\",\"x\":[\"CH2gasv\",\"CHIZ5rC\",\"CHWrh9h\",\"CHd4Fmc\",\"CHiNS0K\",\"CHzIOIS\",\"CHz72_x\",\"CHy2WX3\",\"CHxjZ0G\",\"CHvil4O\",\"CHj8zZ1\",\"CHuFGPh\",\"CH2DHU9\",\"CH2xkO7\",\"CH8wHwv\",\"CHKm-cu\",\"CHKrhyP\",\"CHVXx89\",\"CHWdmhZ\",\"CHXGh59\",\"CHZCvbW\"],\"xaxis\":\"x5\",\"y\":[3,2,2,2,2,1,1,1,1,1,1,1,1,1,1,1,1,1,1,1,1],\"yaxis\":\"y5\",\"type\":\"bar\"},{\"alignmentgroup\":\"True\",\"hovertemplate\":\"category_name=Howto & Style<br>year_month=2021-05<br>channel_id=%{x}<br>video_id=%{text}<extra></extra>\",\"legendgroup\":\"Howto & Style\",\"marker\":{\"color\":\"#DC587D\",\"pattern\":{\"shape\":\"\"}},\"name\":\"Howto & Style\",\"offsetgroup\":\"Howto & Style\",\"orientation\":\"v\",\"showlegend\":false,\"text\":[4.0,3.0,3.0,3.0,2.0,2.0,2.0,2.0,2.0,1.0,1.0,1.0,1.0,1.0,1.0,1.0,1.0],\"textposition\":\"auto\",\"x\":[\"CHn64fS\",\"CH6LBdA\",\"CHBTytr\",\"CHzIOIS\",\"CHpg89Y\",\"CHy2WX3\",\"CHVXx89\",\"CHZCvbW\",\"CHKrhyP\",\"CHKm-cu\",\"CH2xkO7\",\"CHWrh9h\",\"CHj8zZ1\",\"CHnZ8qy\",\"CHp94pz\",\"CHrpB5P\",\"CHuFGPh\"],\"xaxis\":\"x4\",\"y\":[4,3,3,3,2,2,2,2,2,1,1,1,1,1,1,1,1],\"yaxis\":\"y4\",\"type\":\"bar\"},{\"alignmentgroup\":\"True\",\"hovertemplate\":\"category_name=Howto & Style<br>year_month=2021-07<br>channel_id=%{x}<br>video_id=%{text}<extra></extra>\",\"legendgroup\":\"Howto & Style\",\"marker\":{\"color\":\"#DC587D\",\"pattern\":{\"shape\":\"\"}},\"name\":\"Howto & Style\",\"offsetgroup\":\"Howto & Style\",\"orientation\":\"v\",\"showlegend\":false,\"text\":[3.0,2.0,2.0,2.0,2.0,2.0,2.0,2.0,1.0,1.0,1.0,1.0,1.0,1.0,1.0,1.0,1.0,1.0,1.0],\"textposition\":\"auto\",\"x\":[\"CHKrhyP\",\"CHL01un\",\"CHyn7ao\",\"CHn64fS\",\"CH8wHwv\",\"CHVXx89\",\"CHd4Fmc\",\"CHkxvX8\",\"CHBTytr\",\"CHWRb5Q\",\"CHIZ5rC\",\"CH5q0PI\",\"CH1g9Ja\",\"CH1EEpE\",\"CHiNS0K\",\"CHp94pz\",\"CHrpB5P\",\"CHrxSR4\",\"CHzIOIS\"],\"xaxis\":\"x3\",\"y\":[3,2,2,2,2,2,2,2,1,1,1,1,1,1,1,1,1,1,1],\"yaxis\":\"y3\",\"type\":\"bar\"},{\"alignmentgroup\":\"True\",\"hovertemplate\":\"category_name=Howto & Style<br>year_month=2021-04<br>channel_id=%{x}<br>video_id=%{text}<extra></extra>\",\"legendgroup\":\"Howto & Style\",\"marker\":{\"color\":\"#DC587D\",\"pattern\":{\"shape\":\"\"}},\"name\":\"Howto & Style\",\"offsetgroup\":\"Howto & Style\",\"orientation\":\"v\",\"showlegend\":false,\"text\":[3.0,3.0,2.0,2.0,2.0,2.0,1.0,1.0,1.0,1.0,1.0,1.0,1.0,1.0,1.0,1.0,1.0,1.0,1.0,1.0,1.0,1.0,1.0],\"textposition\":\"auto\",\"x\":[\"CHIZ5rC\",\"CHd4Fmc\",\"CHBTytr\",\"CHj8zZ1\",\"CHy2WX3\",\"CHp94pz\",\"CH1UebY\",\"CHnCyCL\",\"CHayVh6\",\"CHcTWmz\",\"CHn64fS\",\"CH1g9Ja\",\"CHnekLi\",\"CHZCvbW\",\"CHWrh9h\",\"CHVXx89\",\"CHLduRr\",\"CHKm-cu\",\"CHCG6BE\",\"CH5xK2X\",\"CH2gasv\",\"CHvil4O\",\"CHyn7ao\"],\"xaxis\":\"x2\",\"y\":[3,3,2,2,2,2,1,1,1,1,1,1,1,1,1,1,1,1,1,1,1,1,1],\"yaxis\":\"y2\",\"type\":\"bar\"},{\"alignmentgroup\":\"True\",\"hovertemplate\":\"category_name=Howto & Style<br>year_month=2021-03<br>channel_id=%{x}<br>video_id=%{text}<extra></extra>\",\"legendgroup\":\"Howto & Style\",\"marker\":{\"color\":\"#DC587D\",\"pattern\":{\"shape\":\"\"}},\"name\":\"Howto & Style\",\"offsetgroup\":\"Howto & Style\",\"orientation\":\"v\",\"showlegend\":false,\"text\":[1.0,1.0],\"textposition\":\"auto\",\"x\":[\"CHd4Fmc\",\"CHWrh9h\"],\"xaxis\":\"x\",\"y\":[1,1],\"yaxis\":\"y\",\"type\":\"bar\"},{\"alignmentgroup\":\"True\",\"hovertemplate\":\"category_name=Gaming<br>year_month=2021-06<br>channel_id=%{x}<br>video_id=%{text}<extra></extra>\",\"legendgroup\":\"Gaming\",\"marker\":{\"color\":\"#D626FF\",\"pattern\":{\"shape\":\"\"}},\"name\":\"Gaming\",\"offsetgroup\":\"Gaming\",\"orientation\":\"v\",\"showlegend\":true,\"text\":[3.0,2.0,2.0,2.0,2.0,2.0,1.0,1.0,1.0,1.0,1.0,1.0,1.0,1.0,1.0,1.0,1.0,1.0,1.0,1.0,1.0,1.0,1.0,1.0],\"textposition\":\"auto\",\"x\":[\"CHefUNE\",\"CHAOTbN\",\"CHBUNoF\",\"CHU_hKD\",\"CHdrBnB\",\"CHw1Dsw\",\"CHGIY_O\",\"CHOKQpm\",\"CHfycsf\",\"CHcum1r\",\"CHSOeJW\",\"CHMPM0h\",\"CH9_093\",\"CHK3p1w\",\"CHDyc0_\",\"CHBA9Xa\",\"CHj-6sZ\",\"CHmMxEF\",\"CHms8Ge\",\"CHnss3B\",\"CHzgNzU\",\"CH9aEa6\",\"CH9-LID\",\"CH8C0Yd\"],\"xaxis\":\"x5\",\"y\":[3,2,2,2,2,2,1,1,1,1,1,1,1,1,1,1,1,1,1,1,1,1,1,1],\"yaxis\":\"y5\",\"type\":\"bar\"},{\"alignmentgroup\":\"True\",\"hovertemplate\":\"category_name=Gaming<br>year_month=2021-05<br>channel_id=%{x}<br>video_id=%{text}<extra></extra>\",\"legendgroup\":\"Gaming\",\"marker\":{\"color\":\"#D626FF\",\"pattern\":{\"shape\":\"\"}},\"name\":\"Gaming\",\"offsetgroup\":\"Gaming\",\"orientation\":\"v\",\"showlegend\":false,\"text\":[3.0,2.0,2.0,2.0,1.0,1.0,1.0,1.0,1.0,1.0,1.0],\"textposition\":\"auto\",\"x\":[\"CH8CIM3\",\"CHdrBnB\",\"CHmCNgL\",\"CHxM_h0\",\"CHNzcxC\",\"CHpDtPd\",\"CHom6Yh\",\"CHeudxd\",\"CHHxKSi\",\"CH48NSS\",\"CH2NFRq\"],\"xaxis\":\"x4\",\"y\":[3,2,2,2,1,1,1,1,1,1,1],\"yaxis\":\"y4\",\"type\":\"bar\"},{\"alignmentgroup\":\"True\",\"hovertemplate\":\"category_name=Gaming<br>year_month=2021-07<br>channel_id=%{x}<br>video_id=%{text}<extra></extra>\",\"legendgroup\":\"Gaming\",\"marker\":{\"color\":\"#D626FF\",\"pattern\":{\"shape\":\"\"}},\"name\":\"Gaming\",\"offsetgroup\":\"Gaming\",\"orientation\":\"v\",\"showlegend\":false,\"text\":[3.0,2.0,2.0,2.0,1.0,1.0,1.0,1.0,1.0,1.0,1.0,1.0,1.0,1.0],\"textposition\":\"auto\",\"x\":[\"CH8CIM3\",\"CH31ypO\",\"CH9_093\",\"CHzgNzU\",\"CHta_NR\",\"CHoyaxd\",\"CHooLkG\",\"CHom6Yh\",\"CHg7rkx\",\"CHdrBnB\",\"CHBUNoF\",\"CHBrb8H\",\"CHDBAVz\",\"CHY9pEH\"],\"xaxis\":\"x3\",\"y\":[3,2,2,2,1,1,1,1,1,1,1,1,1,1],\"yaxis\":\"y3\",\"type\":\"bar\"},{\"alignmentgroup\":\"True\",\"hovertemplate\":\"category_name=Gaming<br>year_month=2021-04<br>channel_id=%{x}<br>video_id=%{text}<extra></extra>\",\"legendgroup\":\"Gaming\",\"marker\":{\"color\":\"#D626FF\",\"pattern\":{\"shape\":\"\"}},\"name\":\"Gaming\",\"offsetgroup\":\"Gaming\",\"orientation\":\"v\",\"showlegend\":false,\"text\":[2.0,1.0,1.0,1.0,1.0,1.0,1.0,1.0,1.0,1.0,1.0,1.0],\"textposition\":\"auto\",\"x\":[\"CHDBAVz\",\"CHpYaDy\",\"CHuOUU4\",\"CHw1Dsw\",\"CHxM_h0\",\"CHyTB7U\",\"CHooLkG\",\"CHlJspS\",\"CHeHFCf\",\"CHdrBnB\",\"CHBA9Xa\",\"CH8CIM3\"],\"xaxis\":\"x2\",\"y\":[2,1,1,1,1,1,1,1,1,1,1,1],\"yaxis\":\"y2\",\"type\":\"bar\"},{\"alignmentgroup\":\"True\",\"hovertemplate\":\"category_name=Gaming<br>year_month=2021-03<br>channel_id=%{x}<br>video_id=%{text}<extra></extra>\",\"legendgroup\":\"Gaming\",\"marker\":{\"color\":\"#D626FF\",\"pattern\":{\"shape\":\"\"}},\"name\":\"Gaming\",\"offsetgroup\":\"Gaming\",\"orientation\":\"v\",\"showlegend\":false,\"text\":[1.0],\"textposition\":\"auto\",\"x\":[\"CHooLkG\"],\"xaxis\":\"x\",\"y\":[1],\"yaxis\":\"y\",\"type\":\"bar\"},{\"alignmentgroup\":\"True\",\"hovertemplate\":\"category_name=Science & Technology<br>year_month=2021-06<br>channel_id=%{x}<br>video_id=%{text}<extra></extra>\",\"legendgroup\":\"Science & Technology\",\"marker\":{\"color\":\"#6E899C\",\"pattern\":{\"shape\":\"\"}},\"name\":\"Science & Technology\",\"offsetgroup\":\"Science & Technology\",\"orientation\":\"v\",\"showlegend\":true,\"text\":[2.0,1.0,1.0,1.0,1.0,1.0],\"textposition\":\"auto\",\"x\":[\"CH3dJKw\",\"CHYAvG7\",\"CHE_M8A\",\"CHJJ_n7\",\"CHJKZoV\",\"CHJiv3w\"],\"xaxis\":\"x5\",\"y\":[2,1,1,1,1,1],\"yaxis\":\"y5\",\"type\":\"bar\"},{\"alignmentgroup\":\"True\",\"hovertemplate\":\"category_name=Science & Technology<br>year_month=2021-05<br>channel_id=%{x}<br>video_id=%{text}<extra></extra>\",\"legendgroup\":\"Science & Technology\",\"marker\":{\"color\":\"#6E899C\",\"pattern\":{\"shape\":\"\"}},\"name\":\"Science & Technology\",\"offsetgroup\":\"Science & Technology\",\"orientation\":\"v\",\"showlegend\":false,\"text\":[1.0,1.0,1.0,1.0,1.0,1.0,1.0,1.0],\"textposition\":\"auto\",\"x\":[\"CHb-Abq\",\"CHrBpV_\",\"CHdpbqw\",\"CHdUcjk\",\"CH_0oo0\",\"CHWwgaK\",\"CHWnC1r\",\"CHIk1-y\"],\"xaxis\":\"x4\",\"y\":[1,1,1,1,1,1,1,1],\"yaxis\":\"y4\",\"type\":\"bar\"},{\"alignmentgroup\":\"True\",\"hovertemplate\":\"category_name=Science & Technology<br>year_month=2021-07<br>channel_id=%{x}<br>video_id=%{text}<extra></extra>\",\"legendgroup\":\"Science & Technology\",\"marker\":{\"color\":\"#6E899C\",\"pattern\":{\"shape\":\"\"}},\"name\":\"Science & Technology\",\"offsetgroup\":\"Science & Technology\",\"orientation\":\"v\",\"showlegend\":false,\"text\":[3.0,2.0,1.0,1.0,1.0,1.0],\"textposition\":\"auto\",\"x\":[\"CHdUcjk\",\"CHJJ_n7\",\"CHj-MI9\",\"CHFX6ad\",\"CHB11SA\",\"CH3dJKw\"],\"xaxis\":\"x3\",\"y\":[3,2,1,1,1,1],\"yaxis\":\"y3\",\"type\":\"bar\"},{\"alignmentgroup\":\"True\",\"hovertemplate\":\"category_name=Science & Technology<br>year_month=2021-04<br>channel_id=%{x}<br>video_id=%{text}<extra></extra>\",\"legendgroup\":\"Science & Technology\",\"marker\":{\"color\":\"#6E899C\",\"pattern\":{\"shape\":\"\"}},\"name\":\"Science & Technology\",\"offsetgroup\":\"Science & Technology\",\"orientation\":\"v\",\"showlegend\":false,\"text\":[3.0,1.0,1.0,1.0,1.0,1.0,1.0,1.0,1.0],\"textposition\":\"auto\",\"x\":[\"CHdUcjk\",\"CH5aNQ6\",\"CHO4RG1\",\"CHUkuuo\",\"CH_0oo0\",\"CHIk1-y\",\"CHFX6ad\",\"CHE_M8A\",\"CHB11SA\"],\"xaxis\":\"x2\",\"y\":[3,1,1,1,1,1,1,1,1],\"yaxis\":\"y2\",\"type\":\"bar\"},{\"alignmentgroup\":\"True\",\"hovertemplate\":\"category_name=Science & Technology<br>year_month=2021-03<br>channel_id=%{x}<br>video_id=%{text}<extra></extra>\",\"legendgroup\":\"Science & Technology\",\"marker\":{\"color\":\"#6E899C\",\"pattern\":{\"shape\":\"\"}},\"name\":\"Science & Technology\",\"offsetgroup\":\"Science & Technology\",\"orientation\":\"v\",\"showlegend\":false,\"text\":[1.0],\"textposition\":\"auto\",\"x\":[\"CHUkuuo\"],\"xaxis\":\"x\",\"y\":[1],\"yaxis\":\"y\",\"type\":\"bar\"},{\"alignmentgroup\":\"True\",\"hovertemplate\":\"category_name=Autos & Vehicles<br>year_month=2021-06<br>channel_id=%{x}<br>video_id=%{text}<extra></extra>\",\"legendgroup\":\"Autos & Vehicles\",\"marker\":{\"color\":\"#00B5F7\",\"pattern\":{\"shape\":\"\"}},\"name\":\"Autos & Vehicles\",\"offsetgroup\":\"Autos & Vehicles\",\"orientation\":\"v\",\"showlegend\":true,\"text\":[1.0,1.0,1.0,1.0,1.0,1.0,1.0],\"textposition\":\"auto\",\"x\":[\"CH2xkO7\",\"CH5f97D\",\"CHKnKi2\",\"CHYVZ6z\",\"CHd5CdY\",\"CHiubh7\",\"CHyF14S\"],\"xaxis\":\"x5\",\"y\":[1,1,1,1,1,1,1],\"yaxis\":\"y5\",\"type\":\"bar\"},{\"alignmentgroup\":\"True\",\"hovertemplate\":\"category_name=Autos & Vehicles<br>year_month=2021-05<br>channel_id=%{x}<br>video_id=%{text}<extra></extra>\",\"legendgroup\":\"Autos & Vehicles\",\"marker\":{\"color\":\"#00B5F7\",\"pattern\":{\"shape\":\"\"}},\"name\":\"Autos & Vehicles\",\"offsetgroup\":\"Autos & Vehicles\",\"orientation\":\"v\",\"showlegend\":false,\"text\":[2.0,1.0,1.0,1.0],\"textposition\":\"auto\",\"x\":[\"CHH5U89\",\"CHs2TmE\",\"CHSkpiP\",\"CHPbxBh\"],\"xaxis\":\"x4\",\"y\":[2,1,1,1],\"yaxis\":\"y4\",\"type\":\"bar\"},{\"alignmentgroup\":\"True\",\"hovertemplate\":\"category_name=Autos & Vehicles<br>year_month=2021-07<br>channel_id=%{x}<br>video_id=%{text}<extra></extra>\",\"legendgroup\":\"Autos & Vehicles\",\"marker\":{\"color\":\"#00B5F7\",\"pattern\":{\"shape\":\"\"}},\"name\":\"Autos & Vehicles\",\"offsetgroup\":\"Autos & Vehicles\",\"orientation\":\"v\",\"showlegend\":false,\"text\":[2.0,1.0,1.0,1.0,1.0,1.0,1.0],\"textposition\":\"auto\",\"x\":[\"CHDpnvN\",\"CHp0B9n\",\"CHkGHfa\",\"CHiubh7\",\"CHPbxBh\",\"CH_rBRr\",\"CHrOl7I\"],\"xaxis\":\"x3\",\"y\":[2,1,1,1,1,1,1],\"yaxis\":\"y3\",\"type\":\"bar\"},{\"alignmentgroup\":\"True\",\"hovertemplate\":\"category_name=Autos & Vehicles<br>year_month=2021-04<br>channel_id=%{x}<br>video_id=%{text}<extra></extra>\",\"legendgroup\":\"Autos & Vehicles\",\"marker\":{\"color\":\"#00B5F7\",\"pattern\":{\"shape\":\"\"}},\"name\":\"Autos & Vehicles\",\"offsetgroup\":\"Autos & Vehicles\",\"orientation\":\"v\",\"showlegend\":false,\"text\":[2.0,2.0,1.0,1.0,1.0,1.0,1.0,1.0,1.0],\"textposition\":\"auto\",\"x\":[\"CHrOl7I\",\"CHrXkDA\",\"CH-IBt8\",\"CH2xkO7\",\"CH5f97D\",\"CHPbxBh\",\"CHiubh7\",\"CHd5CdY\",\"CHWY41Q\"],\"xaxis\":\"x2\",\"y\":[2,2,1,1,1,1,1,1,1],\"yaxis\":\"y2\",\"type\":\"bar\"},{\"alignmentgroup\":\"True\",\"hovertemplate\":\"category_name=Nonprofits & Activism<br>year_month=2021-05<br>channel_id=%{x}<br>video_id=%{text}<extra></extra>\",\"legendgroup\":\"Nonprofits & Activism\",\"marker\":{\"color\":\"#B68E00\",\"pattern\":{\"shape\":\"\"}},\"name\":\"Nonprofits & Activism\",\"offsetgroup\":\"Nonprofits & Activism\",\"orientation\":\"v\",\"showlegend\":true,\"text\":[1.0],\"textposition\":\"auto\",\"x\":[\"CHSsWdU\"],\"xaxis\":\"x4\",\"y\":[1],\"yaxis\":\"y4\",\"type\":\"bar\"}],                        {\"template\":{\"data\":{\"bar\":[{\"error_x\":{\"color\":\"#2a3f5f\"},\"error_y\":{\"color\":\"#2a3f5f\"},\"marker\":{\"line\":{\"color\":\"#E5ECF6\",\"width\":0.5},\"pattern\":{\"fillmode\":\"overlay\",\"size\":10,\"solidity\":0.2}},\"type\":\"bar\"}],\"barpolar\":[{\"marker\":{\"line\":{\"color\":\"#E5ECF6\",\"width\":0.5},\"pattern\":{\"fillmode\":\"overlay\",\"size\":10,\"solidity\":0.2}},\"type\":\"barpolar\"}],\"carpet\":[{\"aaxis\":{\"endlinecolor\":\"#2a3f5f\",\"gridcolor\":\"white\",\"linecolor\":\"white\",\"minorgridcolor\":\"white\",\"startlinecolor\":\"#2a3f5f\"},\"baxis\":{\"endlinecolor\":\"#2a3f5f\",\"gridcolor\":\"white\",\"linecolor\":\"white\",\"minorgridcolor\":\"white\",\"startlinecolor\":\"#2a3f5f\"},\"type\":\"carpet\"}],\"choropleth\":[{\"colorbar\":{\"outlinewidth\":0,\"ticks\":\"\"},\"type\":\"choropleth\"}],\"contour\":[{\"colorbar\":{\"outlinewidth\":0,\"ticks\":\"\"},\"colorscale\":[[0.0,\"#0d0887\"],[0.1111111111111111,\"#46039f\"],[0.2222222222222222,\"#7201a8\"],[0.3333333333333333,\"#9c179e\"],[0.4444444444444444,\"#bd3786\"],[0.5555555555555556,\"#d8576b\"],[0.6666666666666666,\"#ed7953\"],[0.7777777777777778,\"#fb9f3a\"],[0.8888888888888888,\"#fdca26\"],[1.0,\"#f0f921\"]],\"type\":\"contour\"}],\"contourcarpet\":[{\"colorbar\":{\"outlinewidth\":0,\"ticks\":\"\"},\"type\":\"contourcarpet\"}],\"heatmap\":[{\"colorbar\":{\"outlinewidth\":0,\"ticks\":\"\"},\"colorscale\":[[0.0,\"#0d0887\"],[0.1111111111111111,\"#46039f\"],[0.2222222222222222,\"#7201a8\"],[0.3333333333333333,\"#9c179e\"],[0.4444444444444444,\"#bd3786\"],[0.5555555555555556,\"#d8576b\"],[0.6666666666666666,\"#ed7953\"],[0.7777777777777778,\"#fb9f3a\"],[0.8888888888888888,\"#fdca26\"],[1.0,\"#f0f921\"]],\"type\":\"heatmap\"}],\"heatmapgl\":[{\"colorbar\":{\"outlinewidth\":0,\"ticks\":\"\"},\"colorscale\":[[0.0,\"#0d0887\"],[0.1111111111111111,\"#46039f\"],[0.2222222222222222,\"#7201a8\"],[0.3333333333333333,\"#9c179e\"],[0.4444444444444444,\"#bd3786\"],[0.5555555555555556,\"#d8576b\"],[0.6666666666666666,\"#ed7953\"],[0.7777777777777778,\"#fb9f3a\"],[0.8888888888888888,\"#fdca26\"],[1.0,\"#f0f921\"]],\"type\":\"heatmapgl\"}],\"histogram\":[{\"marker\":{\"pattern\":{\"fillmode\":\"overlay\",\"size\":10,\"solidity\":0.2}},\"type\":\"histogram\"}],\"histogram2d\":[{\"colorbar\":{\"outlinewidth\":0,\"ticks\":\"\"},\"colorscale\":[[0.0,\"#0d0887\"],[0.1111111111111111,\"#46039f\"],[0.2222222222222222,\"#7201a8\"],[0.3333333333333333,\"#9c179e\"],[0.4444444444444444,\"#bd3786\"],[0.5555555555555556,\"#d8576b\"],[0.6666666666666666,\"#ed7953\"],[0.7777777777777778,\"#fb9f3a\"],[0.8888888888888888,\"#fdca26\"],[1.0,\"#f0f921\"]],\"type\":\"histogram2d\"}],\"histogram2dcontour\":[{\"colorbar\":{\"outlinewidth\":0,\"ticks\":\"\"},\"colorscale\":[[0.0,\"#0d0887\"],[0.1111111111111111,\"#46039f\"],[0.2222222222222222,\"#7201a8\"],[0.3333333333333333,\"#9c179e\"],[0.4444444444444444,\"#bd3786\"],[0.5555555555555556,\"#d8576b\"],[0.6666666666666666,\"#ed7953\"],[0.7777777777777778,\"#fb9f3a\"],[0.8888888888888888,\"#fdca26\"],[1.0,\"#f0f921\"]],\"type\":\"histogram2dcontour\"}],\"mesh3d\":[{\"colorbar\":{\"outlinewidth\":0,\"ticks\":\"\"},\"type\":\"mesh3d\"}],\"parcoords\":[{\"line\":{\"colorbar\":{\"outlinewidth\":0,\"ticks\":\"\"}},\"type\":\"parcoords\"}],\"pie\":[{\"automargin\":true,\"type\":\"pie\"}],\"scatter\":[{\"marker\":{\"colorbar\":{\"outlinewidth\":0,\"ticks\":\"\"}},\"type\":\"scatter\"}],\"scatter3d\":[{\"line\":{\"colorbar\":{\"outlinewidth\":0,\"ticks\":\"\"}},\"marker\":{\"colorbar\":{\"outlinewidth\":0,\"ticks\":\"\"}},\"type\":\"scatter3d\"}],\"scattercarpet\":[{\"marker\":{\"colorbar\":{\"outlinewidth\":0,\"ticks\":\"\"}},\"type\":\"scattercarpet\"}],\"scattergeo\":[{\"marker\":{\"colorbar\":{\"outlinewidth\":0,\"ticks\":\"\"}},\"type\":\"scattergeo\"}],\"scattergl\":[{\"marker\":{\"colorbar\":{\"outlinewidth\":0,\"ticks\":\"\"}},\"type\":\"scattergl\"}],\"scattermapbox\":[{\"marker\":{\"colorbar\":{\"outlinewidth\":0,\"ticks\":\"\"}},\"type\":\"scattermapbox\"}],\"scatterpolar\":[{\"marker\":{\"colorbar\":{\"outlinewidth\":0,\"ticks\":\"\"}},\"type\":\"scatterpolar\"}],\"scatterpolargl\":[{\"marker\":{\"colorbar\":{\"outlinewidth\":0,\"ticks\":\"\"}},\"type\":\"scatterpolargl\"}],\"scatterternary\":[{\"marker\":{\"colorbar\":{\"outlinewidth\":0,\"ticks\":\"\"}},\"type\":\"scatterternary\"}],\"surface\":[{\"colorbar\":{\"outlinewidth\":0,\"ticks\":\"\"},\"colorscale\":[[0.0,\"#0d0887\"],[0.1111111111111111,\"#46039f\"],[0.2222222222222222,\"#7201a8\"],[0.3333333333333333,\"#9c179e\"],[0.4444444444444444,\"#bd3786\"],[0.5555555555555556,\"#d8576b\"],[0.6666666666666666,\"#ed7953\"],[0.7777777777777778,\"#fb9f3a\"],[0.8888888888888888,\"#fdca26\"],[1.0,\"#f0f921\"]],\"type\":\"surface\"}],\"table\":[{\"cells\":{\"fill\":{\"color\":\"#EBF0F8\"},\"line\":{\"color\":\"white\"}},\"header\":{\"fill\":{\"color\":\"#C8D4E3\"},\"line\":{\"color\":\"white\"}},\"type\":\"table\"}]},\"layout\":{\"annotationdefaults\":{\"arrowcolor\":\"#2a3f5f\",\"arrowhead\":0,\"arrowwidth\":1},\"autotypenumbers\":\"strict\",\"coloraxis\":{\"colorbar\":{\"outlinewidth\":0,\"ticks\":\"\"}},\"colorscale\":{\"diverging\":[[0,\"#8e0152\"],[0.1,\"#c51b7d\"],[0.2,\"#de77ae\"],[0.3,\"#f1b6da\"],[0.4,\"#fde0ef\"],[0.5,\"#f7f7f7\"],[0.6,\"#e6f5d0\"],[0.7,\"#b8e186\"],[0.8,\"#7fbc41\"],[0.9,\"#4d9221\"],[1,\"#276419\"]],\"sequential\":[[0.0,\"#0d0887\"],[0.1111111111111111,\"#46039f\"],[0.2222222222222222,\"#7201a8\"],[0.3333333333333333,\"#9c179e\"],[0.4444444444444444,\"#bd3786\"],[0.5555555555555556,\"#d8576b\"],[0.6666666666666666,\"#ed7953\"],[0.7777777777777778,\"#fb9f3a\"],[0.8888888888888888,\"#fdca26\"],[1.0,\"#f0f921\"]],\"sequentialminus\":[[0.0,\"#0d0887\"],[0.1111111111111111,\"#46039f\"],[0.2222222222222222,\"#7201a8\"],[0.3333333333333333,\"#9c179e\"],[0.4444444444444444,\"#bd3786\"],[0.5555555555555556,\"#d8576b\"],[0.6666666666666666,\"#ed7953\"],[0.7777777777777778,\"#fb9f3a\"],[0.8888888888888888,\"#fdca26\"],[1.0,\"#f0f921\"]]},\"colorway\":[\"#636efa\",\"#EF553B\",\"#00cc96\",\"#ab63fa\",\"#FFA15A\",\"#19d3f3\",\"#FF6692\",\"#B6E880\",\"#FF97FF\",\"#FECB52\"],\"font\":{\"color\":\"#2a3f5f\"},\"geo\":{\"bgcolor\":\"white\",\"lakecolor\":\"white\",\"landcolor\":\"#E5ECF6\",\"showlakes\":true,\"showland\":true,\"subunitcolor\":\"white\"},\"hoverlabel\":{\"align\":\"left\"},\"hovermode\":\"closest\",\"mapbox\":{\"style\":\"light\"},\"paper_bgcolor\":\"white\",\"plot_bgcolor\":\"#E5ECF6\",\"polar\":{\"angularaxis\":{\"gridcolor\":\"white\",\"linecolor\":\"white\",\"ticks\":\"\"},\"bgcolor\":\"#E5ECF6\",\"radialaxis\":{\"gridcolor\":\"white\",\"linecolor\":\"white\",\"ticks\":\"\"}},\"scene\":{\"xaxis\":{\"backgroundcolor\":\"#E5ECF6\",\"gridcolor\":\"white\",\"gridwidth\":2,\"linecolor\":\"white\",\"showbackground\":true,\"ticks\":\"\",\"zerolinecolor\":\"white\"},\"yaxis\":{\"backgroundcolor\":\"#E5ECF6\",\"gridcolor\":\"white\",\"gridwidth\":2,\"linecolor\":\"white\",\"showbackground\":true,\"ticks\":\"\",\"zerolinecolor\":\"white\"},\"zaxis\":{\"backgroundcolor\":\"#E5ECF6\",\"gridcolor\":\"white\",\"gridwidth\":2,\"linecolor\":\"white\",\"showbackground\":true,\"ticks\":\"\",\"zerolinecolor\":\"white\"}},\"shapedefaults\":{\"line\":{\"color\":\"#2a3f5f\"}},\"ternary\":{\"aaxis\":{\"gridcolor\":\"white\",\"linecolor\":\"white\",\"ticks\":\"\"},\"baxis\":{\"gridcolor\":\"white\",\"linecolor\":\"white\",\"ticks\":\"\"},\"bgcolor\":\"#E5ECF6\",\"caxis\":{\"gridcolor\":\"white\",\"linecolor\":\"white\",\"ticks\":\"\"}},\"title\":{\"x\":0.05},\"xaxis\":{\"automargin\":true,\"gridcolor\":\"white\",\"linecolor\":\"white\",\"ticks\":\"\",\"title\":{\"standoff\":15},\"zerolinecolor\":\"white\",\"zerolinewidth\":2},\"yaxis\":{\"automargin\":true,\"gridcolor\":\"white\",\"linecolor\":\"white\",\"ticks\":\"\",\"title\":{\"standoff\":15},\"zerolinecolor\":\"white\",\"zerolinewidth\":2}}},\"xaxis\":{\"anchor\":\"y\",\"domain\":[0.0,0.98],\"title\":{\"text\":\"Channel\"}},\"yaxis\":{\"anchor\":\"x\",\"domain\":[0.0,0.17600000000000002],\"title\":{\"text\":\"Video Count\"}},\"xaxis2\":{\"anchor\":\"y2\",\"domain\":[0.0,0.98],\"matches\":\"x\",\"showticklabels\":false},\"yaxis2\":{\"anchor\":\"x2\",\"domain\":[0.20600000000000002,0.382],\"matches\":\"y\",\"title\":{\"text\":\"Video Count\"}},\"xaxis3\":{\"anchor\":\"y3\",\"domain\":[0.0,0.98],\"matches\":\"x\",\"showticklabels\":false},\"yaxis3\":{\"anchor\":\"x3\",\"domain\":[0.41200000000000003,0.5880000000000001],\"matches\":\"y\",\"title\":{\"text\":\"Video Count\"}},\"xaxis4\":{\"anchor\":\"y4\",\"domain\":[0.0,0.98],\"matches\":\"x\",\"showticklabels\":false},\"yaxis4\":{\"anchor\":\"x4\",\"domain\":[0.618,0.794],\"matches\":\"y\",\"title\":{\"text\":\"Video Count\"}},\"xaxis5\":{\"anchor\":\"y5\",\"domain\":[0.0,0.98],\"matches\":\"x\",\"showticklabels\":false},\"yaxis5\":{\"anchor\":\"x5\",\"domain\":[0.8240000000000001,1.0],\"matches\":\"y\",\"title\":{\"text\":\"Video Count\"}},\"annotations\":[{\"font\":{},\"showarrow\":false,\"text\":\"2021-03\",\"textangle\":90,\"x\":0.98,\"xanchor\":\"left\",\"xref\":\"paper\",\"y\":0.08800000000000001,\"yanchor\":\"middle\",\"yref\":\"paper\"},{\"font\":{},\"showarrow\":false,\"text\":\"2021-04\",\"textangle\":90,\"x\":0.98,\"xanchor\":\"left\",\"xref\":\"paper\",\"y\":0.29400000000000004,\"yanchor\":\"middle\",\"yref\":\"paper\"},{\"font\":{},\"showarrow\":false,\"text\":\"2021-07\",\"textangle\":90,\"x\":0.98,\"xanchor\":\"left\",\"xref\":\"paper\",\"y\":0.5,\"yanchor\":\"middle\",\"yref\":\"paper\"},{\"font\":{},\"showarrow\":false,\"text\":\"2021-05\",\"textangle\":90,\"x\":0.98,\"xanchor\":\"left\",\"xref\":\"paper\",\"y\":0.706,\"yanchor\":\"middle\",\"yref\":\"paper\"},{\"font\":{},\"showarrow\":false,\"text\":\"2021-06\",\"textangle\":90,\"x\":0.98,\"xanchor\":\"left\",\"xref\":\"paper\",\"y\":0.912,\"yanchor\":\"middle\",\"yref\":\"paper\"}],\"legend\":{\"title\":{\"text\":\"category_name\"},\"tracegroupgap\":0},\"margin\":{\"t\":60},\"barmode\":\"stack\",\"title\":{\"text\":\"Video Count by Category and Channel by Month\"},\"width\":1600,\"height\":800},                        {\"responsive\": true}                    ).then(function(){\n",
       "                            \n",
       "var gd = document.getElementById('4d220dac-3367-4f0e-b188-6613d3ed1f98');\n",
       "var x = new MutationObserver(function (mutations, observer) {{\n",
       "        var display = window.getComputedStyle(gd).display;\n",
       "        if (!display || display === 'none') {{\n",
       "            console.log([gd, 'removed!']);\n",
       "            Plotly.purge(gd);\n",
       "            observer.disconnect();\n",
       "        }}\n",
       "}});\n",
       "\n",
       "// Listen for the removal of the full notebook cells\n",
       "var notebookContainer = gd.closest('#notebook-container');\n",
       "if (notebookContainer) {{\n",
       "    x.observe(notebookContainer, {childList: true});\n",
       "}}\n",
       "\n",
       "// Listen for the clearing of the current output cell\n",
       "var outputEl = gd.closest('.output');\n",
       "if (outputEl) {{\n",
       "    x.observe(outputEl, {childList: true});\n",
       "}}\n",
       "\n",
       "                        })                };                });            </script>        </div>"
      ]
     },
     "metadata": {},
     "output_type": "display_data"
    }
   ],
   "source": [
    "youtube_viz.solve_q1_2()"
   ]
  },
  {
   "cell_type": "markdown",
   "metadata": {},
   "source": [
    "### Q1-3 월별 비디오 개수 기준 Top10 채널"
   ]
  },
  {
   "cell_type": "code",
   "execution_count": 44,
   "metadata": {},
   "outputs": [
    {
     "data": {
      "application/vnd.plotly.v1+json": {
       "config": {
        "plotlyServerURL": "https://plot.ly"
       },
       "data": [
        {
         "alignmentgroup": "True",
         "hovertemplate": "category_name=People & Blogs<br>year_month=2021-03<br>channel_id=%{x}<br>video_id=%{text}<extra></extra>",
         "legendgroup": "People & Blogs",
         "marker": {
          "color": "#2E91E5",
          "pattern": {
           "shape": ""
          }
         },
         "name": "People & Blogs",
         "offsetgroup": "People & Blogs",
         "orientation": "v",
         "showlegend": true,
         "text": [
          2,
          2,
          1
         ],
         "textposition": "auto",
         "type": "bar",
         "x": [
          "CHnet0I",
          "CHaZS_X",
          "CHyuL_X"
         ],
         "xaxis": "x",
         "y": [
          2,
          2,
          1
         ],
         "yaxis": "y"
        },
        {
         "alignmentgroup": "True",
         "hovertemplate": "category_name=People & Blogs<br>year_month=2021-04<br>channel_id=%{x}<br>video_id=%{text}<extra></extra>",
         "legendgroup": "People & Blogs",
         "marker": {
          "color": "#2E91E5",
          "pattern": {
           "shape": ""
          }
         },
         "name": "People & Blogs",
         "offsetgroup": "People & Blogs",
         "orientation": "v",
         "showlegend": false,
         "text": [
          5
         ],
         "textposition": "auto",
         "type": "bar",
         "x": [
          "CHXTyJZ"
         ],
         "xaxis": "x2",
         "y": [
          5
         ],
         "yaxis": "y2"
        },
        {
         "alignmentgroup": "True",
         "hovertemplate": "category_name=People & Blogs<br>year_month=2021-05<br>channel_id=%{x}<br>video_id=%{text}<extra></extra>",
         "legendgroup": "People & Blogs",
         "marker": {
          "color": "#2E91E5",
          "pattern": {
           "shape": ""
          }
         },
         "name": "People & Blogs",
         "offsetgroup": "People & Blogs",
         "orientation": "v",
         "showlegend": false,
         "text": [
          7,
          7
         ],
         "textposition": "auto",
         "type": "bar",
         "x": [
          "CHIG4gr",
          "CHDV9zg"
         ],
         "xaxis": "x3",
         "y": [
          7,
          7
         ],
         "yaxis": "y3"
        },
        {
         "alignmentgroup": "True",
         "hovertemplate": "category_name=People & Blogs<br>year_month=2021-06<br>channel_id=%{x}<br>video_id=%{text}<extra></extra>",
         "legendgroup": "People & Blogs",
         "marker": {
          "color": "#2E91E5",
          "pattern": {
           "shape": ""
          }
         },
         "name": "People & Blogs",
         "offsetgroup": "People & Blogs",
         "orientation": "v",
         "showlegend": false,
         "text": [
          6,
          5
         ],
         "textposition": "auto",
         "type": "bar",
         "x": [
          "CHtfriF",
          "CHuDLnJ"
         ],
         "xaxis": "x4",
         "y": [
          6,
          5
         ],
         "yaxis": "y4"
        },
        {
         "alignmentgroup": "True",
         "hovertemplate": "category_name=Entertainment<br>year_month=2021-03<br>channel_id=%{x}<br>video_id=%{text}<extra></extra>",
         "legendgroup": "Entertainment",
         "marker": {
          "color": "#E15F99",
          "pattern": {
           "shape": ""
          }
         },
         "name": "Entertainment",
         "offsetgroup": "Entertainment",
         "orientation": "v",
         "showlegend": true,
         "text": [
          2,
          2,
          2,
          2,
          1
         ],
         "textposition": "auto",
         "type": "bar",
         "x": [
          "CH46BbE",
          "CH5BMQO",
          "CH920m3",
          "CHaKod3",
          "CH12YJZ"
         ],
         "xaxis": "x",
         "y": [
          2,
          2,
          2,
          2,
          1
         ],
         "yaxis": "y"
        },
        {
         "alignmentgroup": "True",
         "hovertemplate": "category_name=Entertainment<br>year_month=2021-04<br>channel_id=%{x}<br>video_id=%{text}<extra></extra>",
         "legendgroup": "Entertainment",
         "marker": {
          "color": "#E15F99",
          "pattern": {
           "shape": ""
          }
         },
         "name": "Entertainment",
         "offsetgroup": "Entertainment",
         "orientation": "v",
         "showlegend": false,
         "text": [
          5,
          5,
          5,
          5
         ],
         "textposition": "auto",
         "type": "bar",
         "x": [
          "CH1L79y",
          "CHeSHil",
          "CHUyfkq",
          "CHx6jsZ"
         ],
         "xaxis": "x2",
         "y": [
          5,
          5,
          5,
          5
         ],
         "yaxis": "y2"
        },
        {
         "alignmentgroup": "True",
         "hovertemplate": "category_name=Entertainment<br>year_month=2021-05<br>channel_id=%{x}<br>video_id=%{text}<extra></extra>",
         "legendgroup": "Entertainment",
         "marker": {
          "color": "#E15F99",
          "pattern": {
           "shape": ""
          }
         },
         "name": "Entertainment",
         "offsetgroup": "Entertainment",
         "orientation": "v",
         "showlegend": false,
         "text": [
          9,
          5,
          5,
          5
         ],
         "textposition": "auto",
         "type": "bar",
         "x": [
          "CHQ2O-i",
          "CHPde4g",
          "CHiwQRG",
          "CHExw7_"
         ],
         "xaxis": "x3",
         "y": [
          9,
          5,
          5,
          5
         ],
         "yaxis": "y3"
        },
        {
         "alignmentgroup": "True",
         "hovertemplate": "category_name=Entertainment<br>year_month=2021-06<br>channel_id=%{x}<br>video_id=%{text}<extra></extra>",
         "legendgroup": "Entertainment",
         "marker": {
          "color": "#E15F99",
          "pattern": {
           "shape": ""
          }
         },
         "name": "Entertainment",
         "offsetgroup": "Entertainment",
         "orientation": "v",
         "showlegend": false,
         "text": [
          5,
          4,
          4
         ],
         "textposition": "auto",
         "type": "bar",
         "x": [
          "CHUyfkq",
          "CHVWmCR",
          "CHlzB2i"
         ],
         "xaxis": "x4",
         "y": [
          5,
          4,
          4
         ],
         "yaxis": "y4"
        },
        {
         "alignmentgroup": "True",
         "hovertemplate": "category_name=Entertainment<br>year_month=2021-07<br>channel_id=%{x}<br>video_id=%{text}<extra></extra>",
         "legendgroup": "Entertainment",
         "marker": {
          "color": "#E15F99",
          "pattern": {
           "shape": ""
          }
         },
         "name": "Entertainment",
         "offsetgroup": "Entertainment",
         "orientation": "v",
         "showlegend": false,
         "text": [
          4
         ],
         "textposition": "auto",
         "type": "bar",
         "x": [
          "CHk6bX-"
         ],
         "xaxis": "x5",
         "y": [
          4
         ],
         "yaxis": "y5"
        },
        {
         "alignmentgroup": "True",
         "hovertemplate": "category_name=News & Politics<br>year_month=2021-03<br>channel_id=%{x}<br>video_id=%{text}<extra></extra>",
         "legendgroup": "News & Politics",
         "marker": {
          "color": "#1CA71C",
          "pattern": {
           "shape": ""
          }
         },
         "name": "News & Politics",
         "offsetgroup": "News & Politics",
         "orientation": "v",
         "showlegend": true,
         "text": [
          2
         ],
         "textposition": "auto",
         "type": "bar",
         "x": [
          "CHG9aFJ"
         ],
         "xaxis": "x",
         "y": [
          2
         ],
         "yaxis": "y"
        },
        {
         "alignmentgroup": "True",
         "hovertemplate": "category_name=News & Politics<br>year_month=2021-05<br>channel_id=%{x}<br>video_id=%{text}<extra></extra>",
         "legendgroup": "News & Politics",
         "marker": {
          "color": "#1CA71C",
          "pattern": {
           "shape": ""
          }
         },
         "name": "News & Politics",
         "offsetgroup": "News & Politics",
         "orientation": "v",
         "showlegend": false,
         "text": [
          6
         ],
         "textposition": "auto",
         "type": "bar",
         "x": [
          "CHsU-I-"
         ],
         "xaxis": "x3",
         "y": [
          6
         ],
         "yaxis": "y3"
        },
        {
         "alignmentgroup": "True",
         "hovertemplate": "category_name=Education<br>year_month=2021-03<br>channel_id=%{x}<br>video_id=%{text}<extra></extra>",
         "legendgroup": "Education",
         "marker": {
          "color": "#FB0D0D",
          "pattern": {
           "shape": ""
          }
         },
         "name": "Education",
         "offsetgroup": "Education",
         "orientation": "v",
         "showlegend": true,
         "text": [
          2
         ],
         "textposition": "auto",
         "type": "bar",
         "x": [
          "CHicKQU"
         ],
         "xaxis": "x",
         "y": [
          2
         ],
         "yaxis": "y"
        },
        {
         "alignmentgroup": "True",
         "hovertemplate": "category_name=Education<br>year_month=2021-04<br>channel_id=%{x}<br>video_id=%{text}<extra></extra>",
         "legendgroup": "Education",
         "marker": {
          "color": "#FB0D0D",
          "pattern": {
           "shape": ""
          }
         },
         "name": "Education",
         "offsetgroup": "Education",
         "orientation": "v",
         "showlegend": false,
         "text": [
          5
         ],
         "textposition": "auto",
         "type": "bar",
         "x": [
          "CHicKQU"
         ],
         "xaxis": "x2",
         "y": [
          5
         ],
         "yaxis": "y2"
        },
        {
         "alignmentgroup": "True",
         "hovertemplate": "category_name=Education<br>year_month=2021-06<br>channel_id=%{x}<br>video_id=%{text}<extra></extra>",
         "legendgroup": "Education",
         "marker": {
          "color": "#FB0D0D",
          "pattern": {
           "shape": ""
          }
         },
         "name": "Education",
         "offsetgroup": "Education",
         "orientation": "v",
         "showlegend": false,
         "text": [
          4
         ],
         "textposition": "auto",
         "type": "bar",
         "x": [
          "CHuh6Br"
         ],
         "xaxis": "x4",
         "y": [
          4
         ],
         "yaxis": "y4"
        },
        {
         "alignmentgroup": "True",
         "hovertemplate": "category_name=Comedy<br>year_month=2021-04<br>channel_id=%{x}<br>video_id=%{text}<extra></extra>",
         "legendgroup": "Comedy",
         "marker": {
          "color": "#DA16FF",
          "pattern": {
           "shape": ""
          }
         },
         "name": "Comedy",
         "offsetgroup": "Comedy",
         "orientation": "v",
         "showlegend": true,
         "text": [
          6
         ],
         "textposition": "auto",
         "type": "bar",
         "x": [
          "CHmzMtX"
         ],
         "xaxis": "x2",
         "y": [
          6
         ],
         "yaxis": "y2"
        },
        {
         "alignmentgroup": "True",
         "hovertemplate": "category_name=Comedy<br>year_month=2021-07<br>channel_id=%{x}<br>video_id=%{text}<extra></extra>",
         "legendgroup": "Comedy",
         "marker": {
          "color": "#DA16FF",
          "pattern": {
           "shape": ""
          }
         },
         "name": "Comedy",
         "offsetgroup": "Comedy",
         "orientation": "v",
         "showlegend": false,
         "text": [
          4
         ],
         "textposition": "auto",
         "type": "bar",
         "x": [
          "CHmzMtX"
         ],
         "xaxis": "x5",
         "y": [
          4
         ],
         "yaxis": "y5"
        },
        {
         "alignmentgroup": "True",
         "hovertemplate": "category_name=Music<br>year_month=2021-04<br>channel_id=%{x}<br>video_id=%{text}<extra></extra>",
         "legendgroup": "Music",
         "marker": {
          "color": "#222A2A",
          "pattern": {
           "shape": ""
          }
         },
         "name": "Music",
         "offsetgroup": "Music",
         "orientation": "v",
         "showlegend": true,
         "text": [
          5,
          5
         ],
         "textposition": "auto",
         "type": "bar",
         "x": [
          "CHLkAep",
          "CHfkXDY"
         ],
         "xaxis": "x2",
         "y": [
          5,
          5
         ],
         "yaxis": "y2"
        },
        {
         "alignmentgroup": "True",
         "hovertemplate": "category_name=Music<br>year_month=2021-05<br>channel_id=%{x}<br>video_id=%{text}<extra></extra>",
         "legendgroup": "Music",
         "marker": {
          "color": "#222A2A",
          "pattern": {
           "shape": ""
          }
         },
         "name": "Music",
         "offsetgroup": "Music",
         "orientation": "v",
         "showlegend": false,
         "text": [
          6,
          5
         ],
         "textposition": "auto",
         "type": "bar",
         "x": [
          "CH9GtSL",
          "CH3IZKs"
         ],
         "xaxis": "x3",
         "y": [
          6,
          5
         ],
         "yaxis": "y3"
        },
        {
         "alignmentgroup": "True",
         "hovertemplate": "category_name=Music<br>year_month=2021-06<br>channel_id=%{x}<br>video_id=%{text}<extra></extra>",
         "legendgroup": "Music",
         "marker": {
          "color": "#222A2A",
          "pattern": {
           "shape": ""
          }
         },
         "name": "Music",
         "offsetgroup": "Music",
         "orientation": "v",
         "showlegend": false,
         "text": [
          4
         ],
         "textposition": "auto",
         "type": "bar",
         "x": [
          "CHaO6TY"
         ],
         "xaxis": "x4",
         "y": [
          4
         ],
         "yaxis": "y4"
        },
        {
         "alignmentgroup": "True",
         "hovertemplate": "category_name=Music<br>year_month=2021-07<br>channel_id=%{x}<br>video_id=%{text}<extra></extra>",
         "legendgroup": "Music",
         "marker": {
          "color": "#222A2A",
          "pattern": {
           "shape": ""
          }
         },
         "name": "Music",
         "offsetgroup": "Music",
         "orientation": "v",
         "showlegend": false,
         "text": [
          4
         ],
         "textposition": "auto",
         "type": "bar",
         "x": [
          "CHEbRSm"
         ],
         "xaxis": "x5",
         "y": [
          4
         ],
         "yaxis": "y5"
        },
        {
         "alignmentgroup": "True",
         "hovertemplate": "category_name=Sports<br>year_month=2021-04<br>channel_id=%{x}<br>video_id=%{text}<extra></extra>",
         "legendgroup": "Sports",
         "marker": {
          "color": "#B68100",
          "pattern": {
           "shape": ""
          }
         },
         "name": "Sports",
         "offsetgroup": "Sports",
         "orientation": "v",
         "showlegend": true,
         "text": [
          5
         ],
         "textposition": "auto",
         "type": "bar",
         "x": [
          "CHtm_Qo"
         ],
         "xaxis": "x2",
         "y": [
          5
         ],
         "yaxis": "y2"
        },
        {
         "alignmentgroup": "True",
         "hovertemplate": "category_name=Sports<br>year_month=2021-05<br>channel_id=%{x}<br>video_id=%{text}<extra></extra>",
         "legendgroup": "Sports",
         "marker": {
          "color": "#B68100",
          "pattern": {
           "shape": ""
          }
         },
         "name": "Sports",
         "offsetgroup": "Sports",
         "orientation": "v",
         "showlegend": false,
         "text": [
          5
         ],
         "textposition": "auto",
         "type": "bar",
         "x": [
          "CHunsfa"
         ],
         "xaxis": "x3",
         "y": [
          5
         ],
         "yaxis": "y3"
        },
        {
         "alignmentgroup": "True",
         "hovertemplate": "category_name=Sports<br>year_month=2021-06<br>channel_id=%{x}<br>video_id=%{text}<extra></extra>",
         "legendgroup": "Sports",
         "marker": {
          "color": "#B68100",
          "pattern": {
           "shape": ""
          }
         },
         "name": "Sports",
         "offsetgroup": "Sports",
         "orientation": "v",
         "showlegend": false,
         "text": [
          15,
          6,
          4
         ],
         "textposition": "auto",
         "type": "bar",
         "x": [
          "CHtybqq",
          "CHpjOmw",
          "CHdtRAc"
         ],
         "xaxis": "x4",
         "y": [
          15,
          6,
          4
         ],
         "yaxis": "y4"
        },
        {
         "alignmentgroup": "True",
         "hovertemplate": "category_name=Sports<br>year_month=2021-07<br>channel_id=%{x}<br>video_id=%{text}<extra></extra>",
         "legendgroup": "Sports",
         "marker": {
          "color": "#B68100",
          "pattern": {
           "shape": ""
          }
         },
         "name": "Sports",
         "offsetgroup": "Sports",
         "orientation": "v",
         "showlegend": false,
         "text": [
          8,
          6,
          6,
          5
         ],
         "textposition": "auto",
         "type": "bar",
         "x": [
          "CHYRrUD",
          "CHUQVGX",
          "CHk4XjB",
          "CHArK9M"
         ],
         "xaxis": "x5",
         "y": [
          8,
          6,
          6,
          5
         ],
         "yaxis": "y5"
        },
        {
         "alignmentgroup": "True",
         "hovertemplate": "category_name=Pets & Animals<br>year_month=2021-07<br>channel_id=%{x}<br>video_id=%{text}<extra></extra>",
         "legendgroup": "Pets & Animals",
         "marker": {
          "color": "#750D86",
          "pattern": {
           "shape": ""
          }
         },
         "name": "Pets & Animals",
         "offsetgroup": "Pets & Animals",
         "orientation": "v",
         "showlegend": true,
         "text": [
          6
         ],
         "textposition": "auto",
         "type": "bar",
         "x": [
          "CH29-Il"
         ],
         "xaxis": "x5",
         "y": [
          6
         ],
         "yaxis": "y5"
        },
        {
         "alignmentgroup": "True",
         "hovertemplate": "category_name=Travel & Events<br>year_month=2021-07<br>channel_id=%{x}<br>video_id=%{text}<extra></extra>",
         "legendgroup": "Travel & Events",
         "marker": {
          "color": "#EB663B",
          "pattern": {
           "shape": ""
          }
         },
         "name": "Travel & Events",
         "offsetgroup": "Travel & Events",
         "orientation": "v",
         "showlegend": true,
         "text": [
          5
         ],
         "textposition": "auto",
         "type": "bar",
         "x": [
          "CHlRNDV"
         ],
         "xaxis": "x5",
         "y": [
          5
         ],
         "yaxis": "y5"
        },
        {
         "alignmentgroup": "True",
         "hovertemplate": "category_name=Film & Animation<br>year_month=2021-07<br>channel_id=%{x}<br>video_id=%{text}<extra></extra>",
         "legendgroup": "Film & Animation",
         "marker": {
          "color": "#511CFB",
          "pattern": {
           "shape": ""
          }
         },
         "name": "Film & Animation",
         "offsetgroup": "Film & Animation",
         "orientation": "v",
         "showlegend": true,
         "text": [
          5
         ],
         "textposition": "auto",
         "type": "bar",
         "x": [
          "CHszFjh"
         ],
         "xaxis": "x5",
         "y": [
          5
         ],
         "yaxis": "y5"
        }
       ],
       "layout": {
        "annotations": [
         {
          "font": {},
          "showarrow": false,
          "text": "2021-03",
          "x": 0.09200000000000001,
          "xanchor": "center",
          "xref": "paper",
          "y": 1,
          "yanchor": "bottom",
          "yref": "paper"
         },
         {
          "font": {},
          "showarrow": false,
          "text": "2021-04",
          "x": 0.29600000000000004,
          "xanchor": "center",
          "xref": "paper",
          "y": 1,
          "yanchor": "bottom",
          "yref": "paper"
         },
         {
          "font": {},
          "showarrow": false,
          "text": "2021-05",
          "x": 0.5,
          "xanchor": "center",
          "xref": "paper",
          "y": 1,
          "yanchor": "bottom",
          "yref": "paper"
         },
         {
          "font": {},
          "showarrow": false,
          "text": "2021-06",
          "x": 0.7040000000000002,
          "xanchor": "center",
          "xref": "paper",
          "y": 1,
          "yanchor": "bottom",
          "yref": "paper"
         },
         {
          "font": {},
          "showarrow": false,
          "text": "2021-07",
          "x": 0.908,
          "xanchor": "center",
          "xref": "paper",
          "y": 1,
          "yanchor": "bottom",
          "yref": "paper"
         }
        ],
        "barmode": "relative",
        "legend": {
         "title": {
          "text": "category_name"
         },
         "tracegroupgap": 0
        },
        "margin": {
         "t": 60
        },
        "template": {
         "data": {
          "bar": [
           {
            "error_x": {
             "color": "#2a3f5f"
            },
            "error_y": {
             "color": "#2a3f5f"
            },
            "marker": {
             "line": {
              "color": "#E5ECF6",
              "width": 0.5
             },
             "pattern": {
              "fillmode": "overlay",
              "size": 10,
              "solidity": 0.2
             }
            },
            "type": "bar"
           }
          ],
          "barpolar": [
           {
            "marker": {
             "line": {
              "color": "#E5ECF6",
              "width": 0.5
             },
             "pattern": {
              "fillmode": "overlay",
              "size": 10,
              "solidity": 0.2
             }
            },
            "type": "barpolar"
           }
          ],
          "carpet": [
           {
            "aaxis": {
             "endlinecolor": "#2a3f5f",
             "gridcolor": "white",
             "linecolor": "white",
             "minorgridcolor": "white",
             "startlinecolor": "#2a3f5f"
            },
            "baxis": {
             "endlinecolor": "#2a3f5f",
             "gridcolor": "white",
             "linecolor": "white",
             "minorgridcolor": "white",
             "startlinecolor": "#2a3f5f"
            },
            "type": "carpet"
           }
          ],
          "choropleth": [
           {
            "colorbar": {
             "outlinewidth": 0,
             "ticks": ""
            },
            "type": "choropleth"
           }
          ],
          "contour": [
           {
            "colorbar": {
             "outlinewidth": 0,
             "ticks": ""
            },
            "colorscale": [
             [
              0,
              "#0d0887"
             ],
             [
              0.1111111111111111,
              "#46039f"
             ],
             [
              0.2222222222222222,
              "#7201a8"
             ],
             [
              0.3333333333333333,
              "#9c179e"
             ],
             [
              0.4444444444444444,
              "#bd3786"
             ],
             [
              0.5555555555555556,
              "#d8576b"
             ],
             [
              0.6666666666666666,
              "#ed7953"
             ],
             [
              0.7777777777777778,
              "#fb9f3a"
             ],
             [
              0.8888888888888888,
              "#fdca26"
             ],
             [
              1,
              "#f0f921"
             ]
            ],
            "type": "contour"
           }
          ],
          "contourcarpet": [
           {
            "colorbar": {
             "outlinewidth": 0,
             "ticks": ""
            },
            "type": "contourcarpet"
           }
          ],
          "heatmap": [
           {
            "colorbar": {
             "outlinewidth": 0,
             "ticks": ""
            },
            "colorscale": [
             [
              0,
              "#0d0887"
             ],
             [
              0.1111111111111111,
              "#46039f"
             ],
             [
              0.2222222222222222,
              "#7201a8"
             ],
             [
              0.3333333333333333,
              "#9c179e"
             ],
             [
              0.4444444444444444,
              "#bd3786"
             ],
             [
              0.5555555555555556,
              "#d8576b"
             ],
             [
              0.6666666666666666,
              "#ed7953"
             ],
             [
              0.7777777777777778,
              "#fb9f3a"
             ],
             [
              0.8888888888888888,
              "#fdca26"
             ],
             [
              1,
              "#f0f921"
             ]
            ],
            "type": "heatmap"
           }
          ],
          "heatmapgl": [
           {
            "colorbar": {
             "outlinewidth": 0,
             "ticks": ""
            },
            "colorscale": [
             [
              0,
              "#0d0887"
             ],
             [
              0.1111111111111111,
              "#46039f"
             ],
             [
              0.2222222222222222,
              "#7201a8"
             ],
             [
              0.3333333333333333,
              "#9c179e"
             ],
             [
              0.4444444444444444,
              "#bd3786"
             ],
             [
              0.5555555555555556,
              "#d8576b"
             ],
             [
              0.6666666666666666,
              "#ed7953"
             ],
             [
              0.7777777777777778,
              "#fb9f3a"
             ],
             [
              0.8888888888888888,
              "#fdca26"
             ],
             [
              1,
              "#f0f921"
             ]
            ],
            "type": "heatmapgl"
           }
          ],
          "histogram": [
           {
            "marker": {
             "pattern": {
              "fillmode": "overlay",
              "size": 10,
              "solidity": 0.2
             }
            },
            "type": "histogram"
           }
          ],
          "histogram2d": [
           {
            "colorbar": {
             "outlinewidth": 0,
             "ticks": ""
            },
            "colorscale": [
             [
              0,
              "#0d0887"
             ],
             [
              0.1111111111111111,
              "#46039f"
             ],
             [
              0.2222222222222222,
              "#7201a8"
             ],
             [
              0.3333333333333333,
              "#9c179e"
             ],
             [
              0.4444444444444444,
              "#bd3786"
             ],
             [
              0.5555555555555556,
              "#d8576b"
             ],
             [
              0.6666666666666666,
              "#ed7953"
             ],
             [
              0.7777777777777778,
              "#fb9f3a"
             ],
             [
              0.8888888888888888,
              "#fdca26"
             ],
             [
              1,
              "#f0f921"
             ]
            ],
            "type": "histogram2d"
           }
          ],
          "histogram2dcontour": [
           {
            "colorbar": {
             "outlinewidth": 0,
             "ticks": ""
            },
            "colorscale": [
             [
              0,
              "#0d0887"
             ],
             [
              0.1111111111111111,
              "#46039f"
             ],
             [
              0.2222222222222222,
              "#7201a8"
             ],
             [
              0.3333333333333333,
              "#9c179e"
             ],
             [
              0.4444444444444444,
              "#bd3786"
             ],
             [
              0.5555555555555556,
              "#d8576b"
             ],
             [
              0.6666666666666666,
              "#ed7953"
             ],
             [
              0.7777777777777778,
              "#fb9f3a"
             ],
             [
              0.8888888888888888,
              "#fdca26"
             ],
             [
              1,
              "#f0f921"
             ]
            ],
            "type": "histogram2dcontour"
           }
          ],
          "mesh3d": [
           {
            "colorbar": {
             "outlinewidth": 0,
             "ticks": ""
            },
            "type": "mesh3d"
           }
          ],
          "parcoords": [
           {
            "line": {
             "colorbar": {
              "outlinewidth": 0,
              "ticks": ""
             }
            },
            "type": "parcoords"
           }
          ],
          "pie": [
           {
            "automargin": true,
            "type": "pie"
           }
          ],
          "scatter": [
           {
            "marker": {
             "colorbar": {
              "outlinewidth": 0,
              "ticks": ""
             }
            },
            "type": "scatter"
           }
          ],
          "scatter3d": [
           {
            "line": {
             "colorbar": {
              "outlinewidth": 0,
              "ticks": ""
             }
            },
            "marker": {
             "colorbar": {
              "outlinewidth": 0,
              "ticks": ""
             }
            },
            "type": "scatter3d"
           }
          ],
          "scattercarpet": [
           {
            "marker": {
             "colorbar": {
              "outlinewidth": 0,
              "ticks": ""
             }
            },
            "type": "scattercarpet"
           }
          ],
          "scattergeo": [
           {
            "marker": {
             "colorbar": {
              "outlinewidth": 0,
              "ticks": ""
             }
            },
            "type": "scattergeo"
           }
          ],
          "scattergl": [
           {
            "marker": {
             "colorbar": {
              "outlinewidth": 0,
              "ticks": ""
             }
            },
            "type": "scattergl"
           }
          ],
          "scattermapbox": [
           {
            "marker": {
             "colorbar": {
              "outlinewidth": 0,
              "ticks": ""
             }
            },
            "type": "scattermapbox"
           }
          ],
          "scatterpolar": [
           {
            "marker": {
             "colorbar": {
              "outlinewidth": 0,
              "ticks": ""
             }
            },
            "type": "scatterpolar"
           }
          ],
          "scatterpolargl": [
           {
            "marker": {
             "colorbar": {
              "outlinewidth": 0,
              "ticks": ""
             }
            },
            "type": "scatterpolargl"
           }
          ],
          "scatterternary": [
           {
            "marker": {
             "colorbar": {
              "outlinewidth": 0,
              "ticks": ""
             }
            },
            "type": "scatterternary"
           }
          ],
          "surface": [
           {
            "colorbar": {
             "outlinewidth": 0,
             "ticks": ""
            },
            "colorscale": [
             [
              0,
              "#0d0887"
             ],
             [
              0.1111111111111111,
              "#46039f"
             ],
             [
              0.2222222222222222,
              "#7201a8"
             ],
             [
              0.3333333333333333,
              "#9c179e"
             ],
             [
              0.4444444444444444,
              "#bd3786"
             ],
             [
              0.5555555555555556,
              "#d8576b"
             ],
             [
              0.6666666666666666,
              "#ed7953"
             ],
             [
              0.7777777777777778,
              "#fb9f3a"
             ],
             [
              0.8888888888888888,
              "#fdca26"
             ],
             [
              1,
              "#f0f921"
             ]
            ],
            "type": "surface"
           }
          ],
          "table": [
           {
            "cells": {
             "fill": {
              "color": "#EBF0F8"
             },
             "line": {
              "color": "white"
             }
            },
            "header": {
             "fill": {
              "color": "#C8D4E3"
             },
             "line": {
              "color": "white"
             }
            },
            "type": "table"
           }
          ]
         },
         "layout": {
          "annotationdefaults": {
           "arrowcolor": "#2a3f5f",
           "arrowhead": 0,
           "arrowwidth": 1
          },
          "autotypenumbers": "strict",
          "coloraxis": {
           "colorbar": {
            "outlinewidth": 0,
            "ticks": ""
           }
          },
          "colorscale": {
           "diverging": [
            [
             0,
             "#8e0152"
            ],
            [
             0.1,
             "#c51b7d"
            ],
            [
             0.2,
             "#de77ae"
            ],
            [
             0.3,
             "#f1b6da"
            ],
            [
             0.4,
             "#fde0ef"
            ],
            [
             0.5,
             "#f7f7f7"
            ],
            [
             0.6,
             "#e6f5d0"
            ],
            [
             0.7,
             "#b8e186"
            ],
            [
             0.8,
             "#7fbc41"
            ],
            [
             0.9,
             "#4d9221"
            ],
            [
             1,
             "#276419"
            ]
           ],
           "sequential": [
            [
             0,
             "#0d0887"
            ],
            [
             0.1111111111111111,
             "#46039f"
            ],
            [
             0.2222222222222222,
             "#7201a8"
            ],
            [
             0.3333333333333333,
             "#9c179e"
            ],
            [
             0.4444444444444444,
             "#bd3786"
            ],
            [
             0.5555555555555556,
             "#d8576b"
            ],
            [
             0.6666666666666666,
             "#ed7953"
            ],
            [
             0.7777777777777778,
             "#fb9f3a"
            ],
            [
             0.8888888888888888,
             "#fdca26"
            ],
            [
             1,
             "#f0f921"
            ]
           ],
           "sequentialminus": [
            [
             0,
             "#0d0887"
            ],
            [
             0.1111111111111111,
             "#46039f"
            ],
            [
             0.2222222222222222,
             "#7201a8"
            ],
            [
             0.3333333333333333,
             "#9c179e"
            ],
            [
             0.4444444444444444,
             "#bd3786"
            ],
            [
             0.5555555555555556,
             "#d8576b"
            ],
            [
             0.6666666666666666,
             "#ed7953"
            ],
            [
             0.7777777777777778,
             "#fb9f3a"
            ],
            [
             0.8888888888888888,
             "#fdca26"
            ],
            [
             1,
             "#f0f921"
            ]
           ]
          },
          "colorway": [
           "#636efa",
           "#EF553B",
           "#00cc96",
           "#ab63fa",
           "#FFA15A",
           "#19d3f3",
           "#FF6692",
           "#B6E880",
           "#FF97FF",
           "#FECB52"
          ],
          "font": {
           "color": "#2a3f5f"
          },
          "geo": {
           "bgcolor": "white",
           "lakecolor": "white",
           "landcolor": "#E5ECF6",
           "showlakes": true,
           "showland": true,
           "subunitcolor": "white"
          },
          "hoverlabel": {
           "align": "left"
          },
          "hovermode": "closest",
          "mapbox": {
           "style": "light"
          },
          "paper_bgcolor": "white",
          "plot_bgcolor": "#E5ECF6",
          "polar": {
           "angularaxis": {
            "gridcolor": "white",
            "linecolor": "white",
            "ticks": ""
           },
           "bgcolor": "#E5ECF6",
           "radialaxis": {
            "gridcolor": "white",
            "linecolor": "white",
            "ticks": ""
           }
          },
          "scene": {
           "xaxis": {
            "backgroundcolor": "#E5ECF6",
            "gridcolor": "white",
            "gridwidth": 2,
            "linecolor": "white",
            "showbackground": true,
            "ticks": "",
            "zerolinecolor": "white"
           },
           "yaxis": {
            "backgroundcolor": "#E5ECF6",
            "gridcolor": "white",
            "gridwidth": 2,
            "linecolor": "white",
            "showbackground": true,
            "ticks": "",
            "zerolinecolor": "white"
           },
           "zaxis": {
            "backgroundcolor": "#E5ECF6",
            "gridcolor": "white",
            "gridwidth": 2,
            "linecolor": "white",
            "showbackground": true,
            "ticks": "",
            "zerolinecolor": "white"
           }
          },
          "shapedefaults": {
           "line": {
            "color": "#2a3f5f"
           }
          },
          "ternary": {
           "aaxis": {
            "gridcolor": "white",
            "linecolor": "white",
            "ticks": ""
           },
           "baxis": {
            "gridcolor": "white",
            "linecolor": "white",
            "ticks": ""
           },
           "bgcolor": "#E5ECF6",
           "caxis": {
            "gridcolor": "white",
            "linecolor": "white",
            "ticks": ""
           }
          },
          "title": {
           "x": 0.05
          },
          "xaxis": {
           "automargin": true,
           "gridcolor": "white",
           "linecolor": "white",
           "ticks": "",
           "title": {
            "standoff": 15
           },
           "zerolinecolor": "white",
           "zerolinewidth": 2
          },
          "yaxis": {
           "automargin": true,
           "gridcolor": "white",
           "linecolor": "white",
           "ticks": "",
           "title": {
            "standoff": 15
           },
           "zerolinecolor": "white",
           "zerolinewidth": 2
          }
         }
        },
        "title": {
         "text": "Top 10 Channel by Month"
        },
        "xaxis": {
         "anchor": "y",
         "domain": [
          0,
          0.18400000000000002
         ],
         "showticklabels": true,
         "title": {}
        },
        "xaxis2": {
         "anchor": "y2",
         "domain": [
          0.20400000000000001,
          0.388
         ],
         "showticklabels": true,
         "title": {
          "text": "channel_id"
         }
        },
        "xaxis3": {
         "anchor": "y3",
         "domain": [
          0.40800000000000003,
          0.5920000000000001
         ],
         "showticklabels": true,
         "title": {
          "text": "channel_id"
         }
        },
        "xaxis4": {
         "anchor": "y4",
         "domain": [
          0.6120000000000001,
          0.7960000000000002
         ],
         "showticklabels": true,
         "title": {
          "text": "channel_id"
         }
        },
        "xaxis5": {
         "anchor": "y5",
         "domain": [
          0.8160000000000001,
          1
         ],
         "showticklabels": true,
         "title": {
          "text": "channel_id"
         }
        },
        "yaxis": {
         "anchor": "x",
         "domain": [
          0,
          1
         ],
         "title": {
          "text": "Video Count"
         }
        },
        "yaxis2": {
         "anchor": "x2",
         "domain": [
          0,
          1
         ],
         "matches": "y",
         "showticklabels": false
        },
        "yaxis3": {
         "anchor": "x3",
         "domain": [
          0,
          1
         ],
         "matches": "y",
         "showticklabels": false
        },
        "yaxis4": {
         "anchor": "x4",
         "domain": [
          0,
          1
         ],
         "matches": "y",
         "showticklabels": false
        },
        "yaxis5": {
         "anchor": "x5",
         "domain": [
          0,
          1
         ],
         "matches": "y",
         "showticklabels": false
        }
       }
      },
      "text/html": [
       "<div>                            <div id=\"2dfe3eeb-2ba3-43f3-9fbf-3d1dd544e94f\" class=\"plotly-graph-div\" style=\"height:525px; width:100%;\"></div>            <script type=\"text/javascript\">                require([\"plotly\"], function(Plotly) {                    window.PLOTLYENV=window.PLOTLYENV || {};                                    if (document.getElementById(\"2dfe3eeb-2ba3-43f3-9fbf-3d1dd544e94f\")) {                    Plotly.newPlot(                        \"2dfe3eeb-2ba3-43f3-9fbf-3d1dd544e94f\",                        [{\"alignmentgroup\":\"True\",\"hovertemplate\":\"category_name=People & Blogs<br>year_month=2021-03<br>channel_id=%{x}<br>video_id=%{text}<extra></extra>\",\"legendgroup\":\"People & Blogs\",\"marker\":{\"color\":\"#2E91E5\",\"pattern\":{\"shape\":\"\"}},\"name\":\"People & Blogs\",\"offsetgroup\":\"People & Blogs\",\"orientation\":\"v\",\"showlegend\":true,\"text\":[2.0,2.0,1.0],\"textposition\":\"auto\",\"x\":[\"CHnet0I\",\"CHaZS_X\",\"CHyuL_X\"],\"xaxis\":\"x\",\"y\":[2,2,1],\"yaxis\":\"y\",\"type\":\"bar\"},{\"alignmentgroup\":\"True\",\"hovertemplate\":\"category_name=People & Blogs<br>year_month=2021-04<br>channel_id=%{x}<br>video_id=%{text}<extra></extra>\",\"legendgroup\":\"People & Blogs\",\"marker\":{\"color\":\"#2E91E5\",\"pattern\":{\"shape\":\"\"}},\"name\":\"People & Blogs\",\"offsetgroup\":\"People & Blogs\",\"orientation\":\"v\",\"showlegend\":false,\"text\":[5.0],\"textposition\":\"auto\",\"x\":[\"CHXTyJZ\"],\"xaxis\":\"x2\",\"y\":[5],\"yaxis\":\"y2\",\"type\":\"bar\"},{\"alignmentgroup\":\"True\",\"hovertemplate\":\"category_name=People & Blogs<br>year_month=2021-05<br>channel_id=%{x}<br>video_id=%{text}<extra></extra>\",\"legendgroup\":\"People & Blogs\",\"marker\":{\"color\":\"#2E91E5\",\"pattern\":{\"shape\":\"\"}},\"name\":\"People & Blogs\",\"offsetgroup\":\"People & Blogs\",\"orientation\":\"v\",\"showlegend\":false,\"text\":[7.0,7.0],\"textposition\":\"auto\",\"x\":[\"CHIG4gr\",\"CHDV9zg\"],\"xaxis\":\"x3\",\"y\":[7,7],\"yaxis\":\"y3\",\"type\":\"bar\"},{\"alignmentgroup\":\"True\",\"hovertemplate\":\"category_name=People & Blogs<br>year_month=2021-06<br>channel_id=%{x}<br>video_id=%{text}<extra></extra>\",\"legendgroup\":\"People & Blogs\",\"marker\":{\"color\":\"#2E91E5\",\"pattern\":{\"shape\":\"\"}},\"name\":\"People & Blogs\",\"offsetgroup\":\"People & Blogs\",\"orientation\":\"v\",\"showlegend\":false,\"text\":[6.0,5.0],\"textposition\":\"auto\",\"x\":[\"CHtfriF\",\"CHuDLnJ\"],\"xaxis\":\"x4\",\"y\":[6,5],\"yaxis\":\"y4\",\"type\":\"bar\"},{\"alignmentgroup\":\"True\",\"hovertemplate\":\"category_name=Entertainment<br>year_month=2021-03<br>channel_id=%{x}<br>video_id=%{text}<extra></extra>\",\"legendgroup\":\"Entertainment\",\"marker\":{\"color\":\"#E15F99\",\"pattern\":{\"shape\":\"\"}},\"name\":\"Entertainment\",\"offsetgroup\":\"Entertainment\",\"orientation\":\"v\",\"showlegend\":true,\"text\":[2.0,2.0,2.0,2.0,1.0],\"textposition\":\"auto\",\"x\":[\"CH46BbE\",\"CH5BMQO\",\"CH920m3\",\"CHaKod3\",\"CH12YJZ\"],\"xaxis\":\"x\",\"y\":[2,2,2,2,1],\"yaxis\":\"y\",\"type\":\"bar\"},{\"alignmentgroup\":\"True\",\"hovertemplate\":\"category_name=Entertainment<br>year_month=2021-04<br>channel_id=%{x}<br>video_id=%{text}<extra></extra>\",\"legendgroup\":\"Entertainment\",\"marker\":{\"color\":\"#E15F99\",\"pattern\":{\"shape\":\"\"}},\"name\":\"Entertainment\",\"offsetgroup\":\"Entertainment\",\"orientation\":\"v\",\"showlegend\":false,\"text\":[5.0,5.0,5.0,5.0],\"textposition\":\"auto\",\"x\":[\"CH1L79y\",\"CHeSHil\",\"CHUyfkq\",\"CHx6jsZ\"],\"xaxis\":\"x2\",\"y\":[5,5,5,5],\"yaxis\":\"y2\",\"type\":\"bar\"},{\"alignmentgroup\":\"True\",\"hovertemplate\":\"category_name=Entertainment<br>year_month=2021-05<br>channel_id=%{x}<br>video_id=%{text}<extra></extra>\",\"legendgroup\":\"Entertainment\",\"marker\":{\"color\":\"#E15F99\",\"pattern\":{\"shape\":\"\"}},\"name\":\"Entertainment\",\"offsetgroup\":\"Entertainment\",\"orientation\":\"v\",\"showlegend\":false,\"text\":[9.0,5.0,5.0,5.0],\"textposition\":\"auto\",\"x\":[\"CHQ2O-i\",\"CHPde4g\",\"CHiwQRG\",\"CHExw7_\"],\"xaxis\":\"x3\",\"y\":[9,5,5,5],\"yaxis\":\"y3\",\"type\":\"bar\"},{\"alignmentgroup\":\"True\",\"hovertemplate\":\"category_name=Entertainment<br>year_month=2021-06<br>channel_id=%{x}<br>video_id=%{text}<extra></extra>\",\"legendgroup\":\"Entertainment\",\"marker\":{\"color\":\"#E15F99\",\"pattern\":{\"shape\":\"\"}},\"name\":\"Entertainment\",\"offsetgroup\":\"Entertainment\",\"orientation\":\"v\",\"showlegend\":false,\"text\":[5.0,4.0,4.0],\"textposition\":\"auto\",\"x\":[\"CHUyfkq\",\"CHVWmCR\",\"CHlzB2i\"],\"xaxis\":\"x4\",\"y\":[5,4,4],\"yaxis\":\"y4\",\"type\":\"bar\"},{\"alignmentgroup\":\"True\",\"hovertemplate\":\"category_name=Entertainment<br>year_month=2021-07<br>channel_id=%{x}<br>video_id=%{text}<extra></extra>\",\"legendgroup\":\"Entertainment\",\"marker\":{\"color\":\"#E15F99\",\"pattern\":{\"shape\":\"\"}},\"name\":\"Entertainment\",\"offsetgroup\":\"Entertainment\",\"orientation\":\"v\",\"showlegend\":false,\"text\":[4.0],\"textposition\":\"auto\",\"x\":[\"CHk6bX-\"],\"xaxis\":\"x5\",\"y\":[4],\"yaxis\":\"y5\",\"type\":\"bar\"},{\"alignmentgroup\":\"True\",\"hovertemplate\":\"category_name=News & Politics<br>year_month=2021-03<br>channel_id=%{x}<br>video_id=%{text}<extra></extra>\",\"legendgroup\":\"News & Politics\",\"marker\":{\"color\":\"#1CA71C\",\"pattern\":{\"shape\":\"\"}},\"name\":\"News & Politics\",\"offsetgroup\":\"News & Politics\",\"orientation\":\"v\",\"showlegend\":true,\"text\":[2.0],\"textposition\":\"auto\",\"x\":[\"CHG9aFJ\"],\"xaxis\":\"x\",\"y\":[2],\"yaxis\":\"y\",\"type\":\"bar\"},{\"alignmentgroup\":\"True\",\"hovertemplate\":\"category_name=News & Politics<br>year_month=2021-05<br>channel_id=%{x}<br>video_id=%{text}<extra></extra>\",\"legendgroup\":\"News & Politics\",\"marker\":{\"color\":\"#1CA71C\",\"pattern\":{\"shape\":\"\"}},\"name\":\"News & Politics\",\"offsetgroup\":\"News & Politics\",\"orientation\":\"v\",\"showlegend\":false,\"text\":[6.0],\"textposition\":\"auto\",\"x\":[\"CHsU-I-\"],\"xaxis\":\"x3\",\"y\":[6],\"yaxis\":\"y3\",\"type\":\"bar\"},{\"alignmentgroup\":\"True\",\"hovertemplate\":\"category_name=Education<br>year_month=2021-03<br>channel_id=%{x}<br>video_id=%{text}<extra></extra>\",\"legendgroup\":\"Education\",\"marker\":{\"color\":\"#FB0D0D\",\"pattern\":{\"shape\":\"\"}},\"name\":\"Education\",\"offsetgroup\":\"Education\",\"orientation\":\"v\",\"showlegend\":true,\"text\":[2.0],\"textposition\":\"auto\",\"x\":[\"CHicKQU\"],\"xaxis\":\"x\",\"y\":[2],\"yaxis\":\"y\",\"type\":\"bar\"},{\"alignmentgroup\":\"True\",\"hovertemplate\":\"category_name=Education<br>year_month=2021-04<br>channel_id=%{x}<br>video_id=%{text}<extra></extra>\",\"legendgroup\":\"Education\",\"marker\":{\"color\":\"#FB0D0D\",\"pattern\":{\"shape\":\"\"}},\"name\":\"Education\",\"offsetgroup\":\"Education\",\"orientation\":\"v\",\"showlegend\":false,\"text\":[5.0],\"textposition\":\"auto\",\"x\":[\"CHicKQU\"],\"xaxis\":\"x2\",\"y\":[5],\"yaxis\":\"y2\",\"type\":\"bar\"},{\"alignmentgroup\":\"True\",\"hovertemplate\":\"category_name=Education<br>year_month=2021-06<br>channel_id=%{x}<br>video_id=%{text}<extra></extra>\",\"legendgroup\":\"Education\",\"marker\":{\"color\":\"#FB0D0D\",\"pattern\":{\"shape\":\"\"}},\"name\":\"Education\",\"offsetgroup\":\"Education\",\"orientation\":\"v\",\"showlegend\":false,\"text\":[4.0],\"textposition\":\"auto\",\"x\":[\"CHuh6Br\"],\"xaxis\":\"x4\",\"y\":[4],\"yaxis\":\"y4\",\"type\":\"bar\"},{\"alignmentgroup\":\"True\",\"hovertemplate\":\"category_name=Comedy<br>year_month=2021-04<br>channel_id=%{x}<br>video_id=%{text}<extra></extra>\",\"legendgroup\":\"Comedy\",\"marker\":{\"color\":\"#DA16FF\",\"pattern\":{\"shape\":\"\"}},\"name\":\"Comedy\",\"offsetgroup\":\"Comedy\",\"orientation\":\"v\",\"showlegend\":true,\"text\":[6.0],\"textposition\":\"auto\",\"x\":[\"CHmzMtX\"],\"xaxis\":\"x2\",\"y\":[6],\"yaxis\":\"y2\",\"type\":\"bar\"},{\"alignmentgroup\":\"True\",\"hovertemplate\":\"category_name=Comedy<br>year_month=2021-07<br>channel_id=%{x}<br>video_id=%{text}<extra></extra>\",\"legendgroup\":\"Comedy\",\"marker\":{\"color\":\"#DA16FF\",\"pattern\":{\"shape\":\"\"}},\"name\":\"Comedy\",\"offsetgroup\":\"Comedy\",\"orientation\":\"v\",\"showlegend\":false,\"text\":[4.0],\"textposition\":\"auto\",\"x\":[\"CHmzMtX\"],\"xaxis\":\"x5\",\"y\":[4],\"yaxis\":\"y5\",\"type\":\"bar\"},{\"alignmentgroup\":\"True\",\"hovertemplate\":\"category_name=Music<br>year_month=2021-04<br>channel_id=%{x}<br>video_id=%{text}<extra></extra>\",\"legendgroup\":\"Music\",\"marker\":{\"color\":\"#222A2A\",\"pattern\":{\"shape\":\"\"}},\"name\":\"Music\",\"offsetgroup\":\"Music\",\"orientation\":\"v\",\"showlegend\":true,\"text\":[5.0,5.0],\"textposition\":\"auto\",\"x\":[\"CHLkAep\",\"CHfkXDY\"],\"xaxis\":\"x2\",\"y\":[5,5],\"yaxis\":\"y2\",\"type\":\"bar\"},{\"alignmentgroup\":\"True\",\"hovertemplate\":\"category_name=Music<br>year_month=2021-05<br>channel_id=%{x}<br>video_id=%{text}<extra></extra>\",\"legendgroup\":\"Music\",\"marker\":{\"color\":\"#222A2A\",\"pattern\":{\"shape\":\"\"}},\"name\":\"Music\",\"offsetgroup\":\"Music\",\"orientation\":\"v\",\"showlegend\":false,\"text\":[6.0,5.0],\"textposition\":\"auto\",\"x\":[\"CH9GtSL\",\"CH3IZKs\"],\"xaxis\":\"x3\",\"y\":[6,5],\"yaxis\":\"y3\",\"type\":\"bar\"},{\"alignmentgroup\":\"True\",\"hovertemplate\":\"category_name=Music<br>year_month=2021-06<br>channel_id=%{x}<br>video_id=%{text}<extra></extra>\",\"legendgroup\":\"Music\",\"marker\":{\"color\":\"#222A2A\",\"pattern\":{\"shape\":\"\"}},\"name\":\"Music\",\"offsetgroup\":\"Music\",\"orientation\":\"v\",\"showlegend\":false,\"text\":[4.0],\"textposition\":\"auto\",\"x\":[\"CHaO6TY\"],\"xaxis\":\"x4\",\"y\":[4],\"yaxis\":\"y4\",\"type\":\"bar\"},{\"alignmentgroup\":\"True\",\"hovertemplate\":\"category_name=Music<br>year_month=2021-07<br>channel_id=%{x}<br>video_id=%{text}<extra></extra>\",\"legendgroup\":\"Music\",\"marker\":{\"color\":\"#222A2A\",\"pattern\":{\"shape\":\"\"}},\"name\":\"Music\",\"offsetgroup\":\"Music\",\"orientation\":\"v\",\"showlegend\":false,\"text\":[4.0],\"textposition\":\"auto\",\"x\":[\"CHEbRSm\"],\"xaxis\":\"x5\",\"y\":[4],\"yaxis\":\"y5\",\"type\":\"bar\"},{\"alignmentgroup\":\"True\",\"hovertemplate\":\"category_name=Sports<br>year_month=2021-04<br>channel_id=%{x}<br>video_id=%{text}<extra></extra>\",\"legendgroup\":\"Sports\",\"marker\":{\"color\":\"#B68100\",\"pattern\":{\"shape\":\"\"}},\"name\":\"Sports\",\"offsetgroup\":\"Sports\",\"orientation\":\"v\",\"showlegend\":true,\"text\":[5.0],\"textposition\":\"auto\",\"x\":[\"CHtm_Qo\"],\"xaxis\":\"x2\",\"y\":[5],\"yaxis\":\"y2\",\"type\":\"bar\"},{\"alignmentgroup\":\"True\",\"hovertemplate\":\"category_name=Sports<br>year_month=2021-05<br>channel_id=%{x}<br>video_id=%{text}<extra></extra>\",\"legendgroup\":\"Sports\",\"marker\":{\"color\":\"#B68100\",\"pattern\":{\"shape\":\"\"}},\"name\":\"Sports\",\"offsetgroup\":\"Sports\",\"orientation\":\"v\",\"showlegend\":false,\"text\":[5.0],\"textposition\":\"auto\",\"x\":[\"CHunsfa\"],\"xaxis\":\"x3\",\"y\":[5],\"yaxis\":\"y3\",\"type\":\"bar\"},{\"alignmentgroup\":\"True\",\"hovertemplate\":\"category_name=Sports<br>year_month=2021-06<br>channel_id=%{x}<br>video_id=%{text}<extra></extra>\",\"legendgroup\":\"Sports\",\"marker\":{\"color\":\"#B68100\",\"pattern\":{\"shape\":\"\"}},\"name\":\"Sports\",\"offsetgroup\":\"Sports\",\"orientation\":\"v\",\"showlegend\":false,\"text\":[15.0,6.0,4.0],\"textposition\":\"auto\",\"x\":[\"CHtybqq\",\"CHpjOmw\",\"CHdtRAc\"],\"xaxis\":\"x4\",\"y\":[15,6,4],\"yaxis\":\"y4\",\"type\":\"bar\"},{\"alignmentgroup\":\"True\",\"hovertemplate\":\"category_name=Sports<br>year_month=2021-07<br>channel_id=%{x}<br>video_id=%{text}<extra></extra>\",\"legendgroup\":\"Sports\",\"marker\":{\"color\":\"#B68100\",\"pattern\":{\"shape\":\"\"}},\"name\":\"Sports\",\"offsetgroup\":\"Sports\",\"orientation\":\"v\",\"showlegend\":false,\"text\":[8.0,6.0,6.0,5.0],\"textposition\":\"auto\",\"x\":[\"CHYRrUD\",\"CHUQVGX\",\"CHk4XjB\",\"CHArK9M\"],\"xaxis\":\"x5\",\"y\":[8,6,6,5],\"yaxis\":\"y5\",\"type\":\"bar\"},{\"alignmentgroup\":\"True\",\"hovertemplate\":\"category_name=Pets & Animals<br>year_month=2021-07<br>channel_id=%{x}<br>video_id=%{text}<extra></extra>\",\"legendgroup\":\"Pets & Animals\",\"marker\":{\"color\":\"#750D86\",\"pattern\":{\"shape\":\"\"}},\"name\":\"Pets & Animals\",\"offsetgroup\":\"Pets & Animals\",\"orientation\":\"v\",\"showlegend\":true,\"text\":[6.0],\"textposition\":\"auto\",\"x\":[\"CH29-Il\"],\"xaxis\":\"x5\",\"y\":[6],\"yaxis\":\"y5\",\"type\":\"bar\"},{\"alignmentgroup\":\"True\",\"hovertemplate\":\"category_name=Travel & Events<br>year_month=2021-07<br>channel_id=%{x}<br>video_id=%{text}<extra></extra>\",\"legendgroup\":\"Travel & Events\",\"marker\":{\"color\":\"#EB663B\",\"pattern\":{\"shape\":\"\"}},\"name\":\"Travel & Events\",\"offsetgroup\":\"Travel & Events\",\"orientation\":\"v\",\"showlegend\":true,\"text\":[5.0],\"textposition\":\"auto\",\"x\":[\"CHlRNDV\"],\"xaxis\":\"x5\",\"y\":[5],\"yaxis\":\"y5\",\"type\":\"bar\"},{\"alignmentgroup\":\"True\",\"hovertemplate\":\"category_name=Film & Animation<br>year_month=2021-07<br>channel_id=%{x}<br>video_id=%{text}<extra></extra>\",\"legendgroup\":\"Film & Animation\",\"marker\":{\"color\":\"#511CFB\",\"pattern\":{\"shape\":\"\"}},\"name\":\"Film & Animation\",\"offsetgroup\":\"Film & Animation\",\"orientation\":\"v\",\"showlegend\":true,\"text\":[5.0],\"textposition\":\"auto\",\"x\":[\"CHszFjh\"],\"xaxis\":\"x5\",\"y\":[5],\"yaxis\":\"y5\",\"type\":\"bar\"}],                        {\"template\":{\"data\":{\"bar\":[{\"error_x\":{\"color\":\"#2a3f5f\"},\"error_y\":{\"color\":\"#2a3f5f\"},\"marker\":{\"line\":{\"color\":\"#E5ECF6\",\"width\":0.5},\"pattern\":{\"fillmode\":\"overlay\",\"size\":10,\"solidity\":0.2}},\"type\":\"bar\"}],\"barpolar\":[{\"marker\":{\"line\":{\"color\":\"#E5ECF6\",\"width\":0.5},\"pattern\":{\"fillmode\":\"overlay\",\"size\":10,\"solidity\":0.2}},\"type\":\"barpolar\"}],\"carpet\":[{\"aaxis\":{\"endlinecolor\":\"#2a3f5f\",\"gridcolor\":\"white\",\"linecolor\":\"white\",\"minorgridcolor\":\"white\",\"startlinecolor\":\"#2a3f5f\"},\"baxis\":{\"endlinecolor\":\"#2a3f5f\",\"gridcolor\":\"white\",\"linecolor\":\"white\",\"minorgridcolor\":\"white\",\"startlinecolor\":\"#2a3f5f\"},\"type\":\"carpet\"}],\"choropleth\":[{\"colorbar\":{\"outlinewidth\":0,\"ticks\":\"\"},\"type\":\"choropleth\"}],\"contour\":[{\"colorbar\":{\"outlinewidth\":0,\"ticks\":\"\"},\"colorscale\":[[0.0,\"#0d0887\"],[0.1111111111111111,\"#46039f\"],[0.2222222222222222,\"#7201a8\"],[0.3333333333333333,\"#9c179e\"],[0.4444444444444444,\"#bd3786\"],[0.5555555555555556,\"#d8576b\"],[0.6666666666666666,\"#ed7953\"],[0.7777777777777778,\"#fb9f3a\"],[0.8888888888888888,\"#fdca26\"],[1.0,\"#f0f921\"]],\"type\":\"contour\"}],\"contourcarpet\":[{\"colorbar\":{\"outlinewidth\":0,\"ticks\":\"\"},\"type\":\"contourcarpet\"}],\"heatmap\":[{\"colorbar\":{\"outlinewidth\":0,\"ticks\":\"\"},\"colorscale\":[[0.0,\"#0d0887\"],[0.1111111111111111,\"#46039f\"],[0.2222222222222222,\"#7201a8\"],[0.3333333333333333,\"#9c179e\"],[0.4444444444444444,\"#bd3786\"],[0.5555555555555556,\"#d8576b\"],[0.6666666666666666,\"#ed7953\"],[0.7777777777777778,\"#fb9f3a\"],[0.8888888888888888,\"#fdca26\"],[1.0,\"#f0f921\"]],\"type\":\"heatmap\"}],\"heatmapgl\":[{\"colorbar\":{\"outlinewidth\":0,\"ticks\":\"\"},\"colorscale\":[[0.0,\"#0d0887\"],[0.1111111111111111,\"#46039f\"],[0.2222222222222222,\"#7201a8\"],[0.3333333333333333,\"#9c179e\"],[0.4444444444444444,\"#bd3786\"],[0.5555555555555556,\"#d8576b\"],[0.6666666666666666,\"#ed7953\"],[0.7777777777777778,\"#fb9f3a\"],[0.8888888888888888,\"#fdca26\"],[1.0,\"#f0f921\"]],\"type\":\"heatmapgl\"}],\"histogram\":[{\"marker\":{\"pattern\":{\"fillmode\":\"overlay\",\"size\":10,\"solidity\":0.2}},\"type\":\"histogram\"}],\"histogram2d\":[{\"colorbar\":{\"outlinewidth\":0,\"ticks\":\"\"},\"colorscale\":[[0.0,\"#0d0887\"],[0.1111111111111111,\"#46039f\"],[0.2222222222222222,\"#7201a8\"],[0.3333333333333333,\"#9c179e\"],[0.4444444444444444,\"#bd3786\"],[0.5555555555555556,\"#d8576b\"],[0.6666666666666666,\"#ed7953\"],[0.7777777777777778,\"#fb9f3a\"],[0.8888888888888888,\"#fdca26\"],[1.0,\"#f0f921\"]],\"type\":\"histogram2d\"}],\"histogram2dcontour\":[{\"colorbar\":{\"outlinewidth\":0,\"ticks\":\"\"},\"colorscale\":[[0.0,\"#0d0887\"],[0.1111111111111111,\"#46039f\"],[0.2222222222222222,\"#7201a8\"],[0.3333333333333333,\"#9c179e\"],[0.4444444444444444,\"#bd3786\"],[0.5555555555555556,\"#d8576b\"],[0.6666666666666666,\"#ed7953\"],[0.7777777777777778,\"#fb9f3a\"],[0.8888888888888888,\"#fdca26\"],[1.0,\"#f0f921\"]],\"type\":\"histogram2dcontour\"}],\"mesh3d\":[{\"colorbar\":{\"outlinewidth\":0,\"ticks\":\"\"},\"type\":\"mesh3d\"}],\"parcoords\":[{\"line\":{\"colorbar\":{\"outlinewidth\":0,\"ticks\":\"\"}},\"type\":\"parcoords\"}],\"pie\":[{\"automargin\":true,\"type\":\"pie\"}],\"scatter\":[{\"marker\":{\"colorbar\":{\"outlinewidth\":0,\"ticks\":\"\"}},\"type\":\"scatter\"}],\"scatter3d\":[{\"line\":{\"colorbar\":{\"outlinewidth\":0,\"ticks\":\"\"}},\"marker\":{\"colorbar\":{\"outlinewidth\":0,\"ticks\":\"\"}},\"type\":\"scatter3d\"}],\"scattercarpet\":[{\"marker\":{\"colorbar\":{\"outlinewidth\":0,\"ticks\":\"\"}},\"type\":\"scattercarpet\"}],\"scattergeo\":[{\"marker\":{\"colorbar\":{\"outlinewidth\":0,\"ticks\":\"\"}},\"type\":\"scattergeo\"}],\"scattergl\":[{\"marker\":{\"colorbar\":{\"outlinewidth\":0,\"ticks\":\"\"}},\"type\":\"scattergl\"}],\"scattermapbox\":[{\"marker\":{\"colorbar\":{\"outlinewidth\":0,\"ticks\":\"\"}},\"type\":\"scattermapbox\"}],\"scatterpolar\":[{\"marker\":{\"colorbar\":{\"outlinewidth\":0,\"ticks\":\"\"}},\"type\":\"scatterpolar\"}],\"scatterpolargl\":[{\"marker\":{\"colorbar\":{\"outlinewidth\":0,\"ticks\":\"\"}},\"type\":\"scatterpolargl\"}],\"scatterternary\":[{\"marker\":{\"colorbar\":{\"outlinewidth\":0,\"ticks\":\"\"}},\"type\":\"scatterternary\"}],\"surface\":[{\"colorbar\":{\"outlinewidth\":0,\"ticks\":\"\"},\"colorscale\":[[0.0,\"#0d0887\"],[0.1111111111111111,\"#46039f\"],[0.2222222222222222,\"#7201a8\"],[0.3333333333333333,\"#9c179e\"],[0.4444444444444444,\"#bd3786\"],[0.5555555555555556,\"#d8576b\"],[0.6666666666666666,\"#ed7953\"],[0.7777777777777778,\"#fb9f3a\"],[0.8888888888888888,\"#fdca26\"],[1.0,\"#f0f921\"]],\"type\":\"surface\"}],\"table\":[{\"cells\":{\"fill\":{\"color\":\"#EBF0F8\"},\"line\":{\"color\":\"white\"}},\"header\":{\"fill\":{\"color\":\"#C8D4E3\"},\"line\":{\"color\":\"white\"}},\"type\":\"table\"}]},\"layout\":{\"annotationdefaults\":{\"arrowcolor\":\"#2a3f5f\",\"arrowhead\":0,\"arrowwidth\":1},\"autotypenumbers\":\"strict\",\"coloraxis\":{\"colorbar\":{\"outlinewidth\":0,\"ticks\":\"\"}},\"colorscale\":{\"diverging\":[[0,\"#8e0152\"],[0.1,\"#c51b7d\"],[0.2,\"#de77ae\"],[0.3,\"#f1b6da\"],[0.4,\"#fde0ef\"],[0.5,\"#f7f7f7\"],[0.6,\"#e6f5d0\"],[0.7,\"#b8e186\"],[0.8,\"#7fbc41\"],[0.9,\"#4d9221\"],[1,\"#276419\"]],\"sequential\":[[0.0,\"#0d0887\"],[0.1111111111111111,\"#46039f\"],[0.2222222222222222,\"#7201a8\"],[0.3333333333333333,\"#9c179e\"],[0.4444444444444444,\"#bd3786\"],[0.5555555555555556,\"#d8576b\"],[0.6666666666666666,\"#ed7953\"],[0.7777777777777778,\"#fb9f3a\"],[0.8888888888888888,\"#fdca26\"],[1.0,\"#f0f921\"]],\"sequentialminus\":[[0.0,\"#0d0887\"],[0.1111111111111111,\"#46039f\"],[0.2222222222222222,\"#7201a8\"],[0.3333333333333333,\"#9c179e\"],[0.4444444444444444,\"#bd3786\"],[0.5555555555555556,\"#d8576b\"],[0.6666666666666666,\"#ed7953\"],[0.7777777777777778,\"#fb9f3a\"],[0.8888888888888888,\"#fdca26\"],[1.0,\"#f0f921\"]]},\"colorway\":[\"#636efa\",\"#EF553B\",\"#00cc96\",\"#ab63fa\",\"#FFA15A\",\"#19d3f3\",\"#FF6692\",\"#B6E880\",\"#FF97FF\",\"#FECB52\"],\"font\":{\"color\":\"#2a3f5f\"},\"geo\":{\"bgcolor\":\"white\",\"lakecolor\":\"white\",\"landcolor\":\"#E5ECF6\",\"showlakes\":true,\"showland\":true,\"subunitcolor\":\"white\"},\"hoverlabel\":{\"align\":\"left\"},\"hovermode\":\"closest\",\"mapbox\":{\"style\":\"light\"},\"paper_bgcolor\":\"white\",\"plot_bgcolor\":\"#E5ECF6\",\"polar\":{\"angularaxis\":{\"gridcolor\":\"white\",\"linecolor\":\"white\",\"ticks\":\"\"},\"bgcolor\":\"#E5ECF6\",\"radialaxis\":{\"gridcolor\":\"white\",\"linecolor\":\"white\",\"ticks\":\"\"}},\"scene\":{\"xaxis\":{\"backgroundcolor\":\"#E5ECF6\",\"gridcolor\":\"white\",\"gridwidth\":2,\"linecolor\":\"white\",\"showbackground\":true,\"ticks\":\"\",\"zerolinecolor\":\"white\"},\"yaxis\":{\"backgroundcolor\":\"#E5ECF6\",\"gridcolor\":\"white\",\"gridwidth\":2,\"linecolor\":\"white\",\"showbackground\":true,\"ticks\":\"\",\"zerolinecolor\":\"white\"},\"zaxis\":{\"backgroundcolor\":\"#E5ECF6\",\"gridcolor\":\"white\",\"gridwidth\":2,\"linecolor\":\"white\",\"showbackground\":true,\"ticks\":\"\",\"zerolinecolor\":\"white\"}},\"shapedefaults\":{\"line\":{\"color\":\"#2a3f5f\"}},\"ternary\":{\"aaxis\":{\"gridcolor\":\"white\",\"linecolor\":\"white\",\"ticks\":\"\"},\"baxis\":{\"gridcolor\":\"white\",\"linecolor\":\"white\",\"ticks\":\"\"},\"bgcolor\":\"#E5ECF6\",\"caxis\":{\"gridcolor\":\"white\",\"linecolor\":\"white\",\"ticks\":\"\"}},\"title\":{\"x\":0.05},\"xaxis\":{\"automargin\":true,\"gridcolor\":\"white\",\"linecolor\":\"white\",\"ticks\":\"\",\"title\":{\"standoff\":15},\"zerolinecolor\":\"white\",\"zerolinewidth\":2},\"yaxis\":{\"automargin\":true,\"gridcolor\":\"white\",\"linecolor\":\"white\",\"ticks\":\"\",\"title\":{\"standoff\":15},\"zerolinecolor\":\"white\",\"zerolinewidth\":2}}},\"xaxis\":{\"anchor\":\"y\",\"domain\":[0.0,0.18400000000000002],\"title\":{},\"showticklabels\":true},\"yaxis\":{\"anchor\":\"x\",\"domain\":[0.0,1.0],\"title\":{\"text\":\"Video Count\"}},\"xaxis2\":{\"anchor\":\"y2\",\"domain\":[0.20400000000000001,0.388],\"title\":{\"text\":\"channel_id\"},\"showticklabels\":true},\"yaxis2\":{\"anchor\":\"x2\",\"domain\":[0.0,1.0],\"matches\":\"y\",\"showticklabels\":false},\"xaxis3\":{\"anchor\":\"y3\",\"domain\":[0.40800000000000003,0.5920000000000001],\"title\":{\"text\":\"channel_id\"},\"showticklabels\":true},\"yaxis3\":{\"anchor\":\"x3\",\"domain\":[0.0,1.0],\"matches\":\"y\",\"showticklabels\":false},\"xaxis4\":{\"anchor\":\"y4\",\"domain\":[0.6120000000000001,0.7960000000000002],\"title\":{\"text\":\"channel_id\"},\"showticklabels\":true},\"yaxis4\":{\"anchor\":\"x4\",\"domain\":[0.0,1.0],\"matches\":\"y\",\"showticklabels\":false},\"xaxis5\":{\"anchor\":\"y5\",\"domain\":[0.8160000000000001,1.0],\"title\":{\"text\":\"channel_id\"},\"showticklabels\":true},\"yaxis5\":{\"anchor\":\"x5\",\"domain\":[0.0,1.0],\"matches\":\"y\",\"showticklabels\":false},\"annotations\":[{\"font\":{},\"showarrow\":false,\"text\":\"2021-03\",\"x\":0.09200000000000001,\"xanchor\":\"center\",\"xref\":\"paper\",\"y\":1.0,\"yanchor\":\"bottom\",\"yref\":\"paper\"},{\"font\":{},\"showarrow\":false,\"text\":\"2021-04\",\"x\":0.29600000000000004,\"xanchor\":\"center\",\"xref\":\"paper\",\"y\":1.0,\"yanchor\":\"bottom\",\"yref\":\"paper\"},{\"font\":{},\"showarrow\":false,\"text\":\"2021-05\",\"x\":0.5,\"xanchor\":\"center\",\"xref\":\"paper\",\"y\":1.0,\"yanchor\":\"bottom\",\"yref\":\"paper\"},{\"font\":{},\"showarrow\":false,\"text\":\"2021-06\",\"x\":0.7040000000000002,\"xanchor\":\"center\",\"xref\":\"paper\",\"y\":1.0,\"yanchor\":\"bottom\",\"yref\":\"paper\"},{\"font\":{},\"showarrow\":false,\"text\":\"2021-07\",\"x\":0.908,\"xanchor\":\"center\",\"xref\":\"paper\",\"y\":1.0,\"yanchor\":\"bottom\",\"yref\":\"paper\"}],\"legend\":{\"title\":{\"text\":\"category_name\"},\"tracegroupgap\":0},\"margin\":{\"t\":60},\"barmode\":\"relative\",\"title\":{\"text\":\"Top 10 Channel by Month\"}},                        {\"responsive\": true}                    ).then(function(){\n",
       "                            \n",
       "var gd = document.getElementById('2dfe3eeb-2ba3-43f3-9fbf-3d1dd544e94f');\n",
       "var x = new MutationObserver(function (mutations, observer) {{\n",
       "        var display = window.getComputedStyle(gd).display;\n",
       "        if (!display || display === 'none') {{\n",
       "            console.log([gd, 'removed!']);\n",
       "            Plotly.purge(gd);\n",
       "            observer.disconnect();\n",
       "        }}\n",
       "}});\n",
       "\n",
       "// Listen for the removal of the full notebook cells\n",
       "var notebookContainer = gd.closest('#notebook-container');\n",
       "if (notebookContainer) {{\n",
       "    x.observe(notebookContainer, {childList: true});\n",
       "}}\n",
       "\n",
       "// Listen for the clearing of the current output cell\n",
       "var outputEl = gd.closest('.output');\n",
       "if (outputEl) {{\n",
       "    x.observe(outputEl, {childList: true});\n",
       "}}\n",
       "\n",
       "                        })                };                });            </script>        </div>"
      ]
     },
     "metadata": {},
     "output_type": "display_data"
    }
   ],
   "source": [
    "youtube_viz.solve_q1_3()"
   ]
  },
  {
   "cell_type": "markdown",
   "metadata": {},
   "source": [
    "### Q1-4 주별 비디오 개수 기준 Top5 채널"
   ]
  },
  {
   "cell_type": "code",
   "execution_count": 45,
   "metadata": {},
   "outputs": [
    {
     "data": {
      "application/vnd.plotly.v1+json": {
       "config": {
        "plotlyServerURL": "https://plot.ly"
       },
       "data": [
        {
         "alignmentgroup": "True",
         "hovertemplate": "category_name=People & Blogs<br>month_week=03월 4주<br>channel_id=%{x}<br>video_id=%{text}<extra></extra>",
         "legendgroup": "People & Blogs",
         "marker": {
          "color": "#2E91E5",
          "pattern": {
           "shape": ""
          }
         },
         "name": "People & Blogs",
         "offsetgroup": "People & Blogs",
         "orientation": "v",
         "showlegend": true,
         "text": [
          2
         ],
         "textposition": "auto",
         "type": "bar",
         "x": [
          "CHnet0I"
         ],
         "xaxis": "x",
         "y": [
          2
         ],
         "yaxis": "y"
        },
        {
         "alignmentgroup": "True",
         "hovertemplate": "category_name=People & Blogs<br>month_week=03월 5주<br>channel_id=%{x}<br>video_id=%{text}<extra></extra>",
         "legendgroup": "People & Blogs",
         "marker": {
          "color": "#2E91E5",
          "pattern": {
           "shape": ""
          }
         },
         "name": "People & Blogs",
         "offsetgroup": "People & Blogs",
         "orientation": "v",
         "showlegend": false,
         "text": [
          2
         ],
         "textposition": "auto",
         "type": "bar",
         "x": [
          "CHaZS_X"
         ],
         "xaxis": "x2",
         "y": [
          2
         ],
         "yaxis": "y2"
        },
        {
         "alignmentgroup": "True",
         "hovertemplate": "category_name=People & Blogs<br>month_week=04월 2주<br>channel_id=%{x}<br>video_id=%{text}<extra></extra>",
         "legendgroup": "People & Blogs",
         "marker": {
          "color": "#2E91E5",
          "pattern": {
           "shape": ""
          }
         },
         "name": "People & Blogs",
         "offsetgroup": "People & Blogs",
         "orientation": "v",
         "showlegend": false,
         "text": [
          2
         ],
         "textposition": "auto",
         "type": "bar",
         "x": [
          "CHXTyJZ"
         ],
         "xaxis": "x4",
         "y": [
          2
         ],
         "yaxis": "y4"
        },
        {
         "alignmentgroup": "True",
         "hovertemplate": "category_name=People & Blogs<br>month_week=04월 4주<br>channel_id=%{x}<br>video_id=%{text}<extra></extra>",
         "legendgroup": "People & Blogs",
         "marker": {
          "color": "#2E91E5",
          "pattern": {
           "shape": ""
          }
         },
         "name": "People & Blogs",
         "offsetgroup": "People & Blogs",
         "orientation": "v",
         "showlegend": false,
         "text": [
          2
         ],
         "textposition": "auto",
         "type": "bar",
         "x": [
          "CHoPTIa"
         ],
         "xaxis": "x6",
         "y": [
          2
         ],
         "yaxis": "y6"
        },
        {
         "alignmentgroup": "True",
         "hovertemplate": "category_name=People & Blogs<br>month_week=04월 5주<br>channel_id=%{x}<br>video_id=%{text}<extra></extra>",
         "legendgroup": "People & Blogs",
         "marker": {
          "color": "#2E91E5",
          "pattern": {
           "shape": ""
          }
         },
         "name": "People & Blogs",
         "offsetgroup": "People & Blogs",
         "orientation": "v",
         "showlegend": false,
         "text": [
          3
         ],
         "textposition": "auto",
         "type": "bar",
         "x": [
          "CHIG4gr"
         ],
         "xaxis": "x7",
         "y": [
          3
         ],
         "yaxis": "y7"
        },
        {
         "alignmentgroup": "True",
         "hovertemplate": "category_name=People & Blogs<br>month_week=05월 1주<br>channel_id=%{x}<br>video_id=%{text}<extra></extra>",
         "legendgroup": "People & Blogs",
         "marker": {
          "color": "#2E91E5",
          "pattern": {
           "shape": ""
          }
         },
         "name": "People & Blogs",
         "offsetgroup": "People & Blogs",
         "orientation": "v",
         "showlegend": false,
         "text": [
          2
         ],
         "textposition": "auto",
         "type": "bar",
         "x": [
          "CHRzS1N"
         ],
         "xaxis": "x8",
         "y": [
          2
         ],
         "yaxis": "y8"
        },
        {
         "alignmentgroup": "True",
         "hovertemplate": "category_name=People & Blogs<br>month_week=05월 2주<br>channel_id=%{x}<br>video_id=%{text}<extra></extra>",
         "legendgroup": "People & Blogs",
         "marker": {
          "color": "#2E91E5",
          "pattern": {
           "shape": ""
          }
         },
         "name": "People & Blogs",
         "offsetgroup": "People & Blogs",
         "orientation": "v",
         "showlegend": false,
         "text": [
          4
         ],
         "textposition": "auto",
         "type": "bar",
         "x": [
          "CHDV9zg"
         ],
         "xaxis": "x9",
         "y": [
          4
         ],
         "yaxis": "y9"
        },
        {
         "alignmentgroup": "True",
         "hovertemplate": "category_name=People & Blogs<br>month_week=05월 3주<br>channel_id=%{x}<br>video_id=%{text}<extra></extra>",
         "legendgroup": "People & Blogs",
         "marker": {
          "color": "#2E91E5",
          "pattern": {
           "shape": ""
          }
         },
         "name": "People & Blogs",
         "offsetgroup": "People & Blogs",
         "orientation": "v",
         "showlegend": false,
         "text": [
          3
         ],
         "textposition": "auto",
         "type": "bar",
         "x": [
          "CHIG4gr"
         ],
         "xaxis": "x10",
         "y": [
          3
         ],
         "yaxis": "y10"
        },
        {
         "alignmentgroup": "True",
         "hovertemplate": "category_name=People & Blogs<br>month_week=05월 4주<br>channel_id=%{x}<br>video_id=%{text}<extra></extra>",
         "legendgroup": "People & Blogs",
         "marker": {
          "color": "#2E91E5",
          "pattern": {
           "shape": ""
          }
         },
         "name": "People & Blogs",
         "offsetgroup": "People & Blogs",
         "orientation": "v",
         "showlegend": false,
         "text": [
          3
         ],
         "textposition": "auto",
         "type": "bar",
         "x": [
          "CH4DnB5"
         ],
         "xaxis": "x11",
         "y": [
          3
         ],
         "yaxis": "y11"
        },
        {
         "alignmentgroup": "True",
         "hovertemplate": "category_name=People & Blogs<br>month_week=05월 5주<br>channel_id=%{x}<br>video_id=%{text}<extra></extra>",
         "legendgroup": "People & Blogs",
         "marker": {
          "color": "#2E91E5",
          "pattern": {
           "shape": ""
          }
         },
         "name": "People & Blogs",
         "offsetgroup": "People & Blogs",
         "orientation": "v",
         "showlegend": false,
         "text": [
          2
         ],
         "textposition": "auto",
         "type": "bar",
         "x": [
          "CHRofX4"
         ],
         "xaxis": "x12",
         "y": [
          2
         ],
         "yaxis": "y12"
        },
        {
         "alignmentgroup": "True",
         "hovertemplate": "category_name=People & Blogs<br>month_week=05월 6주<br>channel_id=%{x}<br>video_id=%{text}<extra></extra>",
         "legendgroup": "People & Blogs",
         "marker": {
          "color": "#2E91E5",
          "pattern": {
           "shape": ""
          }
         },
         "name": "People & Blogs",
         "offsetgroup": "People & Blogs",
         "orientation": "v",
         "showlegend": false,
         "text": [
          1
         ],
         "textposition": "auto",
         "type": "bar",
         "x": [
          "CHLItMt"
         ],
         "xaxis": "x13",
         "y": [
          1
         ],
         "yaxis": "y13"
        },
        {
         "alignmentgroup": "True",
         "hovertemplate": "category_name=People & Blogs<br>month_week=06월 1주<br>channel_id=%{x}<br>video_id=%{text}<extra></extra>",
         "legendgroup": "People & Blogs",
         "marker": {
          "color": "#2E91E5",
          "pattern": {
           "shape": ""
          }
         },
         "name": "People & Blogs",
         "offsetgroup": "People & Blogs",
         "orientation": "v",
         "showlegend": false,
         "text": [
          3
         ],
         "textposition": "auto",
         "type": "bar",
         "x": [
          "CHuDLnJ"
         ],
         "xaxis": "x14",
         "y": [
          3
         ],
         "yaxis": "y14"
        },
        {
         "alignmentgroup": "True",
         "hovertemplate": "category_name=People & Blogs<br>month_week=06월 3주<br>channel_id=%{x}<br>video_id=%{text}<extra></extra>",
         "legendgroup": "People & Blogs",
         "marker": {
          "color": "#2E91E5",
          "pattern": {
           "shape": ""
          }
         },
         "name": "People & Blogs",
         "offsetgroup": "People & Blogs",
         "orientation": "v",
         "showlegend": false,
         "text": [
          3,
          2
         ],
         "textposition": "auto",
         "type": "bar",
         "x": [
          "CHXTyJZ",
          "CHtfriF"
         ],
         "xaxis": "x16",
         "y": [
          3,
          2
         ],
         "yaxis": "y16"
        },
        {
         "alignmentgroup": "True",
         "hovertemplate": "category_name=People & Blogs<br>month_week=06월 5주<br>channel_id=%{x}<br>video_id=%{text}<extra></extra>",
         "legendgroup": "People & Blogs",
         "marker": {
          "color": "#2E91E5",
          "pattern": {
           "shape": ""
          }
         },
         "name": "People & Blogs",
         "offsetgroup": "People & Blogs",
         "orientation": "v",
         "showlegend": false,
         "text": [
          2
         ],
         "textposition": "auto",
         "type": "bar",
         "x": [
          "CH31-nU"
         ],
         "xaxis": "x18",
         "y": [
          2
         ],
         "yaxis": "y18"
        },
        {
         "alignmentgroup": "True",
         "hovertemplate": "category_name=People & Blogs<br>month_week=07월 3주<br>channel_id=%{x}<br>video_id=%{text}<extra></extra>",
         "legendgroup": "People & Blogs",
         "marker": {
          "color": "#2E91E5",
          "pattern": {
           "shape": ""
          }
         },
         "name": "People & Blogs",
         "offsetgroup": "People & Blogs",
         "orientation": "v",
         "showlegend": false,
         "text": [
          2
         ],
         "textposition": "auto",
         "type": "bar",
         "x": [
          "CHONPqk"
         ],
         "xaxis": "x21",
         "y": [
          2
         ],
         "yaxis": "y21"
        },
        {
         "alignmentgroup": "True",
         "hovertemplate": "category_name=People & Blogs<br>month_week=07월 4주<br>channel_id=%{x}<br>video_id=%{text}<extra></extra>",
         "legendgroup": "People & Blogs",
         "marker": {
          "color": "#2E91E5",
          "pattern": {
           "shape": ""
          }
         },
         "name": "People & Blogs",
         "offsetgroup": "People & Blogs",
         "orientation": "v",
         "showlegend": false,
         "text": [
          2
         ],
         "textposition": "auto",
         "type": "bar",
         "x": [
          "CHZ1wYQ"
         ],
         "xaxis": "x22",
         "y": [
          2
         ],
         "yaxis": "y22"
        },
        {
         "alignmentgroup": "True",
         "hovertemplate": "category_name=Sports<br>month_week=03월 4주<br>channel_id=%{x}<br>video_id=%{text}<extra></extra>",
         "legendgroup": "Sports",
         "marker": {
          "color": "#E15F99",
          "pattern": {
           "shape": ""
          }
         },
         "name": "Sports",
         "offsetgroup": "Sports",
         "orientation": "v",
         "showlegend": true,
         "text": [
          1
         ],
         "textposition": "auto",
         "type": "bar",
         "x": [
          "CH2qVOO"
         ],
         "xaxis": "x",
         "y": [
          1
         ],
         "yaxis": "y"
        },
        {
         "alignmentgroup": "True",
         "hovertemplate": "category_name=Sports<br>month_week=04월 2주<br>channel_id=%{x}<br>video_id=%{text}<extra></extra>",
         "legendgroup": "Sports",
         "marker": {
          "color": "#E15F99",
          "pattern": {
           "shape": ""
          }
         },
         "name": "Sports",
         "offsetgroup": "Sports",
         "orientation": "v",
         "showlegend": false,
         "text": [
          3
         ],
         "textposition": "auto",
         "type": "bar",
         "x": [
          "CHtm_Qo"
         ],
         "xaxis": "x4",
         "y": [
          3
         ],
         "yaxis": "y4"
        },
        {
         "alignmentgroup": "True",
         "hovertemplate": "category_name=Sports<br>month_week=04월 4주<br>channel_id=%{x}<br>video_id=%{text}<extra></extra>",
         "legendgroup": "Sports",
         "marker": {
          "color": "#E15F99",
          "pattern": {
           "shape": ""
          }
         },
         "name": "Sports",
         "offsetgroup": "Sports",
         "orientation": "v",
         "showlegend": false,
         "text": [
          2
         ],
         "textposition": "auto",
         "type": "bar",
         "x": [
          "CHhb4gt"
         ],
         "xaxis": "x6",
         "y": [
          2
         ],
         "yaxis": "y6"
        },
        {
         "alignmentgroup": "True",
         "hovertemplate": "category_name=Sports<br>month_week=05월 1주<br>channel_id=%{x}<br>video_id=%{text}<extra></extra>",
         "legendgroup": "Sports",
         "marker": {
          "color": "#E15F99",
          "pattern": {
           "shape": ""
          }
         },
         "name": "Sports",
         "offsetgroup": "Sports",
         "orientation": "v",
         "showlegend": false,
         "text": [
          1
         ],
         "textposition": "auto",
         "type": "bar",
         "x": [
          "CHunsfa"
         ],
         "xaxis": "x8",
         "y": [
          1
         ],
         "yaxis": "y8"
        },
        {
         "alignmentgroup": "True",
         "hovertemplate": "category_name=Sports<br>month_week=05월 2주<br>channel_id=%{x}<br>video_id=%{text}<extra></extra>",
         "legendgroup": "Sports",
         "marker": {
          "color": "#E15F99",
          "pattern": {
           "shape": ""
          }
         },
         "name": "Sports",
         "offsetgroup": "Sports",
         "orientation": "v",
         "showlegend": false,
         "text": [
          2
         ],
         "textposition": "auto",
         "type": "bar",
         "x": [
          "CHunsfa"
         ],
         "xaxis": "x9",
         "y": [
          2
         ],
         "yaxis": "y9"
        },
        {
         "alignmentgroup": "True",
         "hovertemplate": "category_name=Sports<br>month_week=06월 1주<br>channel_id=%{x}<br>video_id=%{text}<extra></extra>",
         "legendgroup": "Sports",
         "marker": {
          "color": "#E15F99",
          "pattern": {
           "shape": ""
          }
         },
         "name": "Sports",
         "offsetgroup": "Sports",
         "orientation": "v",
         "showlegend": false,
         "text": [
          3
         ],
         "textposition": "auto",
         "type": "bar",
         "x": [
          "CHpjOmw"
         ],
         "xaxis": "x14",
         "y": [
          3
         ],
         "yaxis": "y14"
        },
        {
         "alignmentgroup": "True",
         "hovertemplate": "category_name=Sports<br>month_week=06월 2주<br>channel_id=%{x}<br>video_id=%{text}<extra></extra>",
         "legendgroup": "Sports",
         "marker": {
          "color": "#E15F99",
          "pattern": {
           "shape": ""
          }
         },
         "name": "Sports",
         "offsetgroup": "Sports",
         "orientation": "v",
         "showlegend": false,
         "text": [
          4,
          3
         ],
         "textposition": "auto",
         "type": "bar",
         "x": [
          "CHtybqq",
          "CHpjOmw"
         ],
         "xaxis": "x15",
         "y": [
          4,
          3
         ],
         "yaxis": "y15"
        },
        {
         "alignmentgroup": "True",
         "hovertemplate": "category_name=Sports<br>month_week=06월 3주<br>channel_id=%{x}<br>video_id=%{text}<extra></extra>",
         "legendgroup": "Sports",
         "marker": {
          "color": "#E15F99",
          "pattern": {
           "shape": ""
          }
         },
         "name": "Sports",
         "offsetgroup": "Sports",
         "orientation": "v",
         "showlegend": false,
         "text": [
          4
         ],
         "textposition": "auto",
         "type": "bar",
         "x": [
          "CHtybqq"
         ],
         "xaxis": "x16",
         "y": [
          4
         ],
         "yaxis": "y16"
        },
        {
         "alignmentgroup": "True",
         "hovertemplate": "category_name=Sports<br>month_week=06월 4주<br>channel_id=%{x}<br>video_id=%{text}<extra></extra>",
         "legendgroup": "Sports",
         "marker": {
          "color": "#E15F99",
          "pattern": {
           "shape": ""
          }
         },
         "name": "Sports",
         "offsetgroup": "Sports",
         "orientation": "v",
         "showlegend": false,
         "text": [
          5,
          2
         ],
         "textposition": "auto",
         "type": "bar",
         "x": [
          "CHtybqq",
          "CHhg51l"
         ],
         "xaxis": "x17",
         "y": [
          5,
          2
         ],
         "yaxis": "y17"
        },
        {
         "alignmentgroup": "True",
         "hovertemplate": "category_name=Sports<br>month_week=06월 5주<br>channel_id=%{x}<br>video_id=%{text}<extra></extra>",
         "legendgroup": "Sports",
         "marker": {
          "color": "#E15F99",
          "pattern": {
           "shape": ""
          }
         },
         "name": "Sports",
         "offsetgroup": "Sports",
         "orientation": "v",
         "showlegend": false,
         "text": [
          2
         ],
         "textposition": "auto",
         "type": "bar",
         "x": [
          "CHtybqq"
         ],
         "xaxis": "x18",
         "y": [
          2
         ],
         "yaxis": "y18"
        },
        {
         "alignmentgroup": "True",
         "hovertemplate": "category_name=Sports<br>month_week=07월 1주<br>channel_id=%{x}<br>video_id=%{text}<extra></extra>",
         "legendgroup": "Sports",
         "marker": {
          "color": "#E15F99",
          "pattern": {
           "shape": ""
          }
         },
         "name": "Sports",
         "offsetgroup": "Sports",
         "orientation": "v",
         "showlegend": false,
         "text": [
          2
         ],
         "textposition": "auto",
         "type": "bar",
         "x": [
          "CHQ2TX8"
         ],
         "xaxis": "x19",
         "y": [
          2
         ],
         "yaxis": "y19"
        },
        {
         "alignmentgroup": "True",
         "hovertemplate": "category_name=Sports<br>month_week=07월 2주<br>channel_id=%{x}<br>video_id=%{text}<extra></extra>",
         "legendgroup": "Sports",
         "marker": {
          "color": "#E15F99",
          "pattern": {
           "shape": ""
          }
         },
         "name": "Sports",
         "offsetgroup": "Sports",
         "orientation": "v",
         "showlegend": false,
         "text": [
          3,
          2
         ],
         "textposition": "auto",
         "type": "bar",
         "x": [
          "CHtm_Qo",
          "CHkFGfv"
         ],
         "xaxis": "x20",
         "y": [
          3,
          2
         ],
         "yaxis": "y20"
        },
        {
         "alignmentgroup": "True",
         "hovertemplate": "category_name=Sports<br>month_week=07월 3주<br>channel_id=%{x}<br>video_id=%{text}<extra></extra>",
         "legendgroup": "Sports",
         "marker": {
          "color": "#E15F99",
          "pattern": {
           "shape": ""
          }
         },
         "name": "Sports",
         "offsetgroup": "Sports",
         "orientation": "v",
         "showlegend": false,
         "text": [
          2
         ],
         "textposition": "auto",
         "type": "bar",
         "x": [
          "CHUQVGX"
         ],
         "xaxis": "x21",
         "y": [
          2
         ],
         "yaxis": "y21"
        },
        {
         "alignmentgroup": "True",
         "hovertemplate": "category_name=Sports<br>month_week=07월 4주<br>channel_id=%{x}<br>video_id=%{text}<extra></extra>",
         "legendgroup": "Sports",
         "marker": {
          "color": "#E15F99",
          "pattern": {
           "shape": ""
          }
         },
         "name": "Sports",
         "offsetgroup": "Sports",
         "orientation": "v",
         "showlegend": false,
         "text": [
          4,
          3,
          3
         ],
         "textposition": "auto",
         "type": "bar",
         "x": [
          "CHArK9M",
          "CHYRrUD",
          "CHk4XjB"
         ],
         "xaxis": "x22",
         "y": [
          4,
          3,
          3
         ],
         "yaxis": "y22"
        },
        {
         "alignmentgroup": "True",
         "hovertemplate": "category_name=Sports<br>month_week=07월 5주<br>channel_id=%{x}<br>video_id=%{text}<extra></extra>",
         "legendgroup": "Sports",
         "marker": {
          "color": "#E15F99",
          "pattern": {
           "shape": ""
          }
         },
         "name": "Sports",
         "offsetgroup": "Sports",
         "orientation": "v",
         "showlegend": false,
         "text": [
          5,
          3,
          2
         ],
         "textposition": "auto",
         "type": "bar",
         "x": [
          "CHYRrUD",
          "CHcQTRi",
          "CHUQVGX"
         ],
         "xaxis": "x23",
         "y": [
          5,
          3,
          2
         ],
         "yaxis": "y23"
        },
        {
         "alignmentgroup": "True",
         "hovertemplate": "category_name=Entertainment<br>month_week=03월 4주<br>channel_id=%{x}<br>video_id=%{text}<extra></extra>",
         "legendgroup": "Entertainment",
         "marker": {
          "color": "#1CA71C",
          "pattern": {
           "shape": ""
          }
         },
         "name": "Entertainment",
         "offsetgroup": "Entertainment",
         "orientation": "v",
         "showlegend": true,
         "text": [
          1,
          1,
          1
         ],
         "textposition": "auto",
         "type": "bar",
         "x": [
          "CHweOkP",
          "CHriPmQ",
          "CHlzB2i"
         ],
         "xaxis": "x",
         "y": [
          1,
          1,
          1
         ],
         "yaxis": "y"
        },
        {
         "alignmentgroup": "True",
         "hovertemplate": "category_name=Entertainment<br>month_week=03월 5주<br>channel_id=%{x}<br>video_id=%{text}<extra></extra>",
         "legendgroup": "Entertainment",
         "marker": {
          "color": "#1CA71C",
          "pattern": {
           "shape": ""
          }
         },
         "name": "Entertainment",
         "offsetgroup": "Entertainment",
         "orientation": "v",
         "showlegend": false,
         "text": [
          2,
          2,
          2
         ],
         "textposition": "auto",
         "type": "bar",
         "x": [
          "CH920m3",
          "CHaKod3",
          "CH5BMQO"
         ],
         "xaxis": "x2",
         "y": [
          2,
          2,
          2
         ],
         "yaxis": "y2"
        },
        {
         "alignmentgroup": "True",
         "hovertemplate": "category_name=Entertainment<br>month_week=04월 1주<br>channel_id=%{x}<br>video_id=%{text}<extra></extra>",
         "legendgroup": "Entertainment",
         "marker": {
          "color": "#1CA71C",
          "pattern": {
           "shape": ""
          }
         },
         "name": "Entertainment",
         "offsetgroup": "Entertainment",
         "orientation": "v",
         "showlegend": false,
         "text": [
          2
         ],
         "textposition": "auto",
         "type": "bar",
         "x": [
          "CH0PsUG"
         ],
         "xaxis": "x3",
         "y": [
          2
         ],
         "yaxis": "y3"
        },
        {
         "alignmentgroup": "True",
         "hovertemplate": "category_name=Entertainment<br>month_week=04월 2주<br>channel_id=%{x}<br>video_id=%{text}<extra></extra>",
         "legendgroup": "Entertainment",
         "marker": {
          "color": "#1CA71C",
          "pattern": {
           "shape": ""
          }
         },
         "name": "Entertainment",
         "offsetgroup": "Entertainment",
         "orientation": "v",
         "showlegend": false,
         "text": [
          3,
          2
         ],
         "textposition": "auto",
         "type": "bar",
         "x": [
          "CHIA-LP",
          "CHUyfkq"
         ],
         "xaxis": "x4",
         "y": [
          3,
          2
         ],
         "yaxis": "y4"
        },
        {
         "alignmentgroup": "True",
         "hovertemplate": "category_name=Entertainment<br>month_week=04월 3주<br>channel_id=%{x}<br>video_id=%{text}<extra></extra>",
         "legendgroup": "Entertainment",
         "marker": {
          "color": "#1CA71C",
          "pattern": {
           "shape": ""
          }
         },
         "name": "Entertainment",
         "offsetgroup": "Entertainment",
         "orientation": "v",
         "showlegend": false,
         "text": [
          5,
          3,
          3,
          2
         ],
         "textposition": "auto",
         "type": "bar",
         "x": [
          "CHx6jsZ",
          "CHmONdw",
          "CHeSHil",
          "CH-BqPA"
         ],
         "xaxis": "x5",
         "y": [
          5,
          3,
          3,
          2
         ],
         "yaxis": "y5"
        },
        {
         "alignmentgroup": "True",
         "hovertemplate": "category_name=Entertainment<br>month_week=04월 4주<br>channel_id=%{x}<br>video_id=%{text}<extra></extra>",
         "legendgroup": "Entertainment",
         "marker": {
          "color": "#1CA71C",
          "pattern": {
           "shape": ""
          }
         },
         "name": "Entertainment",
         "offsetgroup": "Entertainment",
         "orientation": "v",
         "showlegend": false,
         "text": [
          3,
          3,
          3
         ],
         "textposition": "auto",
         "type": "bar",
         "x": [
          "CHiwQRG",
          "CH5Ida8",
          "CHGsJRp"
         ],
         "xaxis": "x6",
         "y": [
          3,
          3,
          3
         ],
         "yaxis": "y6"
        },
        {
         "alignmentgroup": "True",
         "hovertemplate": "category_name=Entertainment<br>month_week=04월 5주<br>channel_id=%{x}<br>video_id=%{text}<extra></extra>",
         "legendgroup": "Entertainment",
         "marker": {
          "color": "#1CA71C",
          "pattern": {
           "shape": ""
          }
         },
         "name": "Entertainment",
         "offsetgroup": "Entertainment",
         "orientation": "v",
         "showlegend": false,
         "text": [
          3
         ],
         "textposition": "auto",
         "type": "bar",
         "x": [
          "CHQ2O-i"
         ],
         "xaxis": "x7",
         "y": [
          3
         ],
         "yaxis": "y7"
        },
        {
         "alignmentgroup": "True",
         "hovertemplate": "category_name=Entertainment<br>month_week=05월 1주<br>channel_id=%{x}<br>video_id=%{text}<extra></extra>",
         "legendgroup": "Entertainment",
         "marker": {
          "color": "#1CA71C",
          "pattern": {
           "shape": ""
          }
         },
         "name": "Entertainment",
         "offsetgroup": "Entertainment",
         "orientation": "v",
         "showlegend": false,
         "text": [
          2,
          1
         ],
         "textposition": "auto",
         "type": "bar",
         "x": [
          "CHQ2O-i",
          "CHyozK5"
         ],
         "xaxis": "x8",
         "y": [
          2,
          1
         ],
         "yaxis": "y8"
        },
        {
         "alignmentgroup": "True",
         "hovertemplate": "category_name=Entertainment<br>month_week=05월 2주<br>channel_id=%{x}<br>video_id=%{text}<extra></extra>",
         "legendgroup": "Entertainment",
         "marker": {
          "color": "#1CA71C",
          "pattern": {
           "shape": ""
          }
         },
         "name": "Entertainment",
         "offsetgroup": "Entertainment",
         "orientation": "v",
         "showlegend": false,
         "text": [
          3
         ],
         "textposition": "auto",
         "type": "bar",
         "x": [
          "CHQ2O-i"
         ],
         "xaxis": "x9",
         "y": [
          3
         ],
         "yaxis": "y9"
        },
        {
         "alignmentgroup": "True",
         "hovertemplate": "category_name=Entertainment<br>month_week=05월 3주<br>channel_id=%{x}<br>video_id=%{text}<extra></extra>",
         "legendgroup": "Entertainment",
         "marker": {
          "color": "#1CA71C",
          "pattern": {
           "shape": ""
          }
         },
         "name": "Entertainment",
         "offsetgroup": "Entertainment",
         "orientation": "v",
         "showlegend": false,
         "text": [
          4,
          3,
          3,
          2
         ],
         "textposition": "auto",
         "type": "bar",
         "x": [
          "CHoXoV4",
          "CHQ2O-i",
          "CH_Fxf0",
          "CHTnafh"
         ],
         "xaxis": "x10",
         "y": [
          4,
          3,
          3,
          2
         ],
         "yaxis": "y10"
        },
        {
         "alignmentgroup": "True",
         "hovertemplate": "category_name=Entertainment<br>month_week=05월 4주<br>channel_id=%{x}<br>video_id=%{text}<extra></extra>",
         "legendgroup": "Entertainment",
         "marker": {
          "color": "#1CA71C",
          "pattern": {
           "shape": ""
          }
         },
         "name": "Entertainment",
         "offsetgroup": "Entertainment",
         "orientation": "v",
         "showlegend": false,
         "text": [
          2,
          2
         ],
         "textposition": "auto",
         "type": "bar",
         "x": [
          "CHWYzc_",
          "CHPde4g"
         ],
         "xaxis": "x11",
         "y": [
          2,
          2
         ],
         "yaxis": "y11"
        },
        {
         "alignmentgroup": "True",
         "hovertemplate": "category_name=Entertainment<br>month_week=05월 5주<br>channel_id=%{x}<br>video_id=%{text}<extra></extra>",
         "legendgroup": "Entertainment",
         "marker": {
          "color": "#1CA71C",
          "pattern": {
           "shape": ""
          }
         },
         "name": "Entertainment",
         "offsetgroup": "Entertainment",
         "orientation": "v",
         "showlegend": false,
         "text": [
          3,
          2
         ],
         "textposition": "auto",
         "type": "bar",
         "x": [
          "CHPde4g",
          "CH-VbFg"
         ],
         "xaxis": "x12",
         "y": [
          3,
          2
         ],
         "yaxis": "y12"
        },
        {
         "alignmentgroup": "True",
         "hovertemplate": "category_name=Entertainment<br>month_week=05월 6주<br>channel_id=%{x}<br>video_id=%{text}<extra></extra>",
         "legendgroup": "Entertainment",
         "marker": {
          "color": "#1CA71C",
          "pattern": {
           "shape": ""
          }
         },
         "name": "Entertainment",
         "offsetgroup": "Entertainment",
         "orientation": "v",
         "showlegend": false,
         "text": [
          2,
          2,
          1
         ],
         "textposition": "auto",
         "type": "bar",
         "x": [
          "CHH1oRy",
          "CHiwQRG",
          "CHy1fru"
         ],
         "xaxis": "x13",
         "y": [
          2,
          2,
          1
         ],
         "yaxis": "y13"
        },
        {
         "alignmentgroup": "True",
         "hovertemplate": "category_name=Entertainment<br>month_week=06월 1주<br>channel_id=%{x}<br>video_id=%{text}<extra></extra>",
         "legendgroup": "Entertainment",
         "marker": {
          "color": "#1CA71C",
          "pattern": {
           "shape": ""
          }
         },
         "name": "Entertainment",
         "offsetgroup": "Entertainment",
         "orientation": "v",
         "showlegend": false,
         "text": [
          3,
          2,
          2
         ],
         "textposition": "auto",
         "type": "bar",
         "x": [
          "CH78PMQ",
          "CHF8W68",
          "CHIA-LP"
         ],
         "xaxis": "x14",
         "y": [
          3,
          2,
          2
         ],
         "yaxis": "y14"
        },
        {
         "alignmentgroup": "True",
         "hovertemplate": "category_name=Entertainment<br>month_week=06월 2주<br>channel_id=%{x}<br>video_id=%{text}<extra></extra>",
         "legendgroup": "Entertainment",
         "marker": {
          "color": "#1CA71C",
          "pattern": {
           "shape": ""
          }
         },
         "name": "Entertainment",
         "offsetgroup": "Entertainment",
         "orientation": "v",
         "showlegend": false,
         "text": [
          5
         ],
         "textposition": "auto",
         "type": "bar",
         "x": [
          "CHUyfkq"
         ],
         "xaxis": "x15",
         "y": [
          5
         ],
         "yaxis": "y15"
        },
        {
         "alignmentgroup": "True",
         "hovertemplate": "category_name=Entertainment<br>month_week=06월 3주<br>channel_id=%{x}<br>video_id=%{text}<extra></extra>",
         "legendgroup": "Entertainment",
         "marker": {
          "color": "#1CA71C",
          "pattern": {
           "shape": ""
          }
         },
         "name": "Entertainment",
         "offsetgroup": "Entertainment",
         "orientation": "v",
         "showlegend": false,
         "text": [
          2
         ],
         "textposition": "auto",
         "type": "bar",
         "x": [
          "CHrhH1d"
         ],
         "xaxis": "x16",
         "y": [
          2
         ],
         "yaxis": "y16"
        },
        {
         "alignmentgroup": "True",
         "hovertemplate": "category_name=Entertainment<br>month_week=06월 4주<br>channel_id=%{x}<br>video_id=%{text}<extra></extra>",
         "legendgroup": "Entertainment",
         "marker": {
          "color": "#1CA71C",
          "pattern": {
           "shape": ""
          }
         },
         "name": "Entertainment",
         "offsetgroup": "Entertainment",
         "orientation": "v",
         "showlegend": false,
         "text": [
          2,
          2
         ],
         "textposition": "auto",
         "type": "bar",
         "x": [
          "CHweOkP",
          "CHVWmCR"
         ],
         "xaxis": "x17",
         "y": [
          2,
          2
         ],
         "yaxis": "y17"
        },
        {
         "alignmentgroup": "True",
         "hovertemplate": "category_name=Entertainment<br>month_week=06월 5주<br>channel_id=%{x}<br>video_id=%{text}<extra></extra>",
         "legendgroup": "Entertainment",
         "marker": {
          "color": "#1CA71C",
          "pattern": {
           "shape": ""
          }
         },
         "name": "Entertainment",
         "offsetgroup": "Entertainment",
         "orientation": "v",
         "showlegend": false,
         "text": [
          2
         ],
         "textposition": "auto",
         "type": "bar",
         "x": [
          "CHjToDB"
         ],
         "xaxis": "x18",
         "y": [
          2
         ],
         "yaxis": "y18"
        },
        {
         "alignmentgroup": "True",
         "hovertemplate": "category_name=Entertainment<br>month_week=07월 1주<br>channel_id=%{x}<br>video_id=%{text}<extra></extra>",
         "legendgroup": "Entertainment",
         "marker": {
          "color": "#1CA71C",
          "pattern": {
           "shape": ""
          }
         },
         "name": "Entertainment",
         "offsetgroup": "Entertainment",
         "orientation": "v",
         "showlegend": false,
         "text": [
          2,
          2,
          2,
          2
         ],
         "textposition": "auto",
         "type": "bar",
         "x": [
          "CHiEEF5",
          "CHQ2O-i",
          "CHOHM2N",
          "CHx6jsZ"
         ],
         "xaxis": "x19",
         "y": [
          2,
          2,
          2,
          2
         ],
         "yaxis": "y19"
        },
        {
         "alignmentgroup": "True",
         "hovertemplate": "category_name=Entertainment<br>month_week=07월 2주<br>channel_id=%{x}<br>video_id=%{text}<extra></extra>",
         "legendgroup": "Entertainment",
         "marker": {
          "color": "#1CA71C",
          "pattern": {
           "shape": ""
          }
         },
         "name": "Entertainment",
         "offsetgroup": "Entertainment",
         "orientation": "v",
         "showlegend": false,
         "text": [
          2
         ],
         "textposition": "auto",
         "type": "bar",
         "x": [
          "CHnLeqv"
         ],
         "xaxis": "x20",
         "y": [
          2
         ],
         "yaxis": "y20"
        },
        {
         "alignmentgroup": "True",
         "hovertemplate": "category_name=Entertainment<br>month_week=07월 3주<br>channel_id=%{x}<br>video_id=%{text}<extra></extra>",
         "legendgroup": "Entertainment",
         "marker": {
          "color": "#1CA71C",
          "pattern": {
           "shape": ""
          }
         },
         "name": "Entertainment",
         "offsetgroup": "Entertainment",
         "orientation": "v",
         "showlegend": false,
         "text": [
          2
         ],
         "textposition": "auto",
         "type": "bar",
         "x": [
          "CHy-swB"
         ],
         "xaxis": "x21",
         "y": [
          2
         ],
         "yaxis": "y21"
        },
        {
         "alignmentgroup": "True",
         "hovertemplate": "category_name=Entertainment<br>month_week=07월 4주<br>channel_id=%{x}<br>video_id=%{text}<extra></extra>",
         "legendgroup": "Entertainment",
         "marker": {
          "color": "#1CA71C",
          "pattern": {
           "shape": ""
          }
         },
         "name": "Entertainment",
         "offsetgroup": "Entertainment",
         "orientation": "v",
         "showlegend": false,
         "text": [
          2
         ],
         "textposition": "auto",
         "type": "bar",
         "x": [
          "CH0PsUG"
         ],
         "xaxis": "x22",
         "y": [
          2
         ],
         "yaxis": "y22"
        },
        {
         "alignmentgroup": "True",
         "hovertemplate": "category_name=Entertainment<br>month_week=07월 5주<br>channel_id=%{x}<br>video_id=%{text}<extra></extra>",
         "legendgroup": "Entertainment",
         "marker": {
          "color": "#1CA71C",
          "pattern": {
           "shape": ""
          }
         },
         "name": "Entertainment",
         "offsetgroup": "Entertainment",
         "orientation": "v",
         "showlegend": false,
         "text": [
          2
         ],
         "textposition": "auto",
         "type": "bar",
         "x": [
          "CHYZv9v"
         ],
         "xaxis": "x23",
         "y": [
          2
         ],
         "yaxis": "y23"
        },
        {
         "alignmentgroup": "True",
         "hovertemplate": "category_name=News & Politics<br>month_week=03월 5주<br>channel_id=%{x}<br>video_id=%{text}<extra></extra>",
         "legendgroup": "News & Politics",
         "marker": {
          "color": "#FB0D0D",
          "pattern": {
           "shape": ""
          }
         },
         "name": "News & Politics",
         "offsetgroup": "News & Politics",
         "orientation": "v",
         "showlegend": true,
         "text": [
          2
         ],
         "textposition": "auto",
         "type": "bar",
         "x": [
          "CHG9aFJ"
         ],
         "xaxis": "x2",
         "y": [
          2
         ],
         "yaxis": "y2"
        },
        {
         "alignmentgroup": "True",
         "hovertemplate": "category_name=News & Politics<br>month_week=04월 3주<br>channel_id=%{x}<br>video_id=%{text}<extra></extra>",
         "legendgroup": "News & Politics",
         "marker": {
          "color": "#FB0D0D",
          "pattern": {
           "shape": ""
          }
         },
         "name": "News & Politics",
         "offsetgroup": "News & Politics",
         "orientation": "v",
         "showlegend": false,
         "text": [
          3
         ],
         "textposition": "auto",
         "type": "bar",
         "x": [
          "CHMEbRp"
         ],
         "xaxis": "x5",
         "y": [
          3
         ],
         "yaxis": "y5"
        },
        {
         "alignmentgroup": "True",
         "hovertemplate": "category_name=News & Politics<br>month_week=04월 5주<br>channel_id=%{x}<br>video_id=%{text}<extra></extra>",
         "legendgroup": "News & Politics",
         "marker": {
          "color": "#FB0D0D",
          "pattern": {
           "shape": ""
          }
         },
         "name": "News & Politics",
         "offsetgroup": "News & Politics",
         "orientation": "v",
         "showlegend": false,
         "text": [
          2,
          2
         ],
         "textposition": "auto",
         "type": "bar",
         "x": [
          "CHF4Wxd",
          "CH1aS5C"
         ],
         "xaxis": "x7",
         "y": [
          2,
          2
         ],
         "yaxis": "y7"
        },
        {
         "alignmentgroup": "True",
         "hovertemplate": "category_name=News & Politics<br>month_week=05월 1주<br>channel_id=%{x}<br>video_id=%{text}<extra></extra>",
         "legendgroup": "News & Politics",
         "marker": {
          "color": "#FB0D0D",
          "pattern": {
           "shape": ""
          }
         },
         "name": "News & Politics",
         "offsetgroup": "News & Politics",
         "orientation": "v",
         "showlegend": false,
         "text": [
          2
         ],
         "textposition": "auto",
         "type": "bar",
         "x": [
          "CHfq4V1"
         ],
         "xaxis": "x8",
         "y": [
          2
         ],
         "yaxis": "y8"
        },
        {
         "alignmentgroup": "True",
         "hovertemplate": "category_name=News & Politics<br>month_week=05월 2주<br>channel_id=%{x}<br>video_id=%{text}<extra></extra>",
         "legendgroup": "News & Politics",
         "marker": {
          "color": "#FB0D0D",
          "pattern": {
           "shape": ""
          }
         },
         "name": "News & Politics",
         "offsetgroup": "News & Politics",
         "orientation": "v",
         "showlegend": false,
         "text": [
          2
         ],
         "textposition": "auto",
         "type": "bar",
         "x": [
          "CHwRljh"
         ],
         "xaxis": "x9",
         "y": [
          2
         ],
         "yaxis": "y9"
        },
        {
         "alignmentgroup": "True",
         "hovertemplate": "category_name=News & Politics<br>month_week=06월 5주<br>channel_id=%{x}<br>video_id=%{text}<extra></extra>",
         "legendgroup": "News & Politics",
         "marker": {
          "color": "#FB0D0D",
          "pattern": {
           "shape": ""
          }
         },
         "name": "News & Politics",
         "offsetgroup": "News & Politics",
         "orientation": "v",
         "showlegend": false,
         "text": [
          2
         ],
         "textposition": "auto",
         "type": "bar",
         "x": [
          "CHhlgI3"
         ],
         "xaxis": "x18",
         "y": [
          2
         ],
         "yaxis": "y18"
        },
        {
         "alignmentgroup": "True",
         "hovertemplate": "category_name=Comedy<br>month_week=04월 1주<br>channel_id=%{x}<br>video_id=%{text}<extra></extra>",
         "legendgroup": "Comedy",
         "marker": {
          "color": "#DA16FF",
          "pattern": {
           "shape": ""
          }
         },
         "name": "Comedy",
         "offsetgroup": "Comedy",
         "orientation": "v",
         "showlegend": true,
         "text": [
          2,
          2
         ],
         "textposition": "auto",
         "type": "bar",
         "x": [
          "CHmzMtX",
          "CHSc2Dc"
         ],
         "xaxis": "x3",
         "y": [
          2,
          2
         ],
         "yaxis": "y3"
        },
        {
         "alignmentgroup": "True",
         "hovertemplate": "category_name=Comedy<br>month_week=04월 2주<br>channel_id=%{x}<br>video_id=%{text}<extra></extra>",
         "legendgroup": "Comedy",
         "marker": {
          "color": "#DA16FF",
          "pattern": {
           "shape": ""
          }
         },
         "name": "Comedy",
         "offsetgroup": "Comedy",
         "orientation": "v",
         "showlegend": false,
         "text": [
          3
         ],
         "textposition": "auto",
         "type": "bar",
         "x": [
          "CHmzMtX"
         ],
         "xaxis": "x4",
         "y": [
          3
         ],
         "yaxis": "y4"
        },
        {
         "alignmentgroup": "True",
         "hovertemplate": "category_name=Comedy<br>month_week=04월 5주<br>channel_id=%{x}<br>video_id=%{text}<extra></extra>",
         "legendgroup": "Comedy",
         "marker": {
          "color": "#DA16FF",
          "pattern": {
           "shape": ""
          }
         },
         "name": "Comedy",
         "offsetgroup": "Comedy",
         "orientation": "v",
         "showlegend": false,
         "text": [
          2
         ],
         "textposition": "auto",
         "type": "bar",
         "x": [
          "CH20WKI"
         ],
         "xaxis": "x7",
         "y": [
          2
         ],
         "yaxis": "y7"
        },
        {
         "alignmentgroup": "True",
         "hovertemplate": "category_name=Comedy<br>month_week=06월 3주<br>channel_id=%{x}<br>video_id=%{text}<extra></extra>",
         "legendgroup": "Comedy",
         "marker": {
          "color": "#DA16FF",
          "pattern": {
           "shape": ""
          }
         },
         "name": "Comedy",
         "offsetgroup": "Comedy",
         "orientation": "v",
         "showlegend": false,
         "text": [
          2
         ],
         "textposition": "auto",
         "type": "bar",
         "x": [
          "CH9ZLv1"
         ],
         "xaxis": "x16",
         "y": [
          2
         ],
         "yaxis": "y16"
        },
        {
         "alignmentgroup": "True",
         "hovertemplate": "category_name=Comedy<br>month_week=07월 3주<br>channel_id=%{x}<br>video_id=%{text}<extra></extra>",
         "legendgroup": "Comedy",
         "marker": {
          "color": "#DA16FF",
          "pattern": {
           "shape": ""
          }
         },
         "name": "Comedy",
         "offsetgroup": "Comedy",
         "orientation": "v",
         "showlegend": false,
         "text": [
          3
         ],
         "textposition": "auto",
         "type": "bar",
         "x": [
          "CH8-Th8"
         ],
         "xaxis": "x21",
         "y": [
          3
         ],
         "yaxis": "y21"
        },
        {
         "alignmentgroup": "True",
         "hovertemplate": "category_name=Music<br>month_week=04월 1주<br>channel_id=%{x}<br>video_id=%{text}<extra></extra>",
         "legendgroup": "Music",
         "marker": {
          "color": "#222A2A",
          "pattern": {
           "shape": ""
          }
         },
         "name": "Music",
         "offsetgroup": "Music",
         "orientation": "v",
         "showlegend": true,
         "text": [
          2
         ],
         "textposition": "auto",
         "type": "bar",
         "x": [
          "CHabon8"
         ],
         "xaxis": "x3",
         "y": [
          2
         ],
         "yaxis": "y3"
        },
        {
         "alignmentgroup": "True",
         "hovertemplate": "category_name=Music<br>month_week=05월 4주<br>channel_id=%{x}<br>video_id=%{text}<extra></extra>",
         "legendgroup": "Music",
         "marker": {
          "color": "#222A2A",
          "pattern": {
           "shape": ""
          }
         },
         "name": "Music",
         "offsetgroup": "Music",
         "orientation": "v",
         "showlegend": false,
         "text": [
          3,
          3
         ],
         "textposition": "auto",
         "type": "bar",
         "x": [
          "CH3IZKs",
          "CH9GtSL"
         ],
         "xaxis": "x11",
         "y": [
          3,
          3
         ],
         "yaxis": "y11"
        },
        {
         "alignmentgroup": "True",
         "hovertemplate": "category_name=Music<br>month_week=05월 5주<br>channel_id=%{x}<br>video_id=%{text}<extra></extra>",
         "legendgroup": "Music",
         "marker": {
          "color": "#222A2A",
          "pattern": {
           "shape": ""
          }
         },
         "name": "Music",
         "offsetgroup": "Music",
         "orientation": "v",
         "showlegend": false,
         "text": [
          3
         ],
         "textposition": "auto",
         "type": "bar",
         "x": [
          "CHLkAep"
         ],
         "xaxis": "x12",
         "y": [
          3
         ],
         "yaxis": "y12"
        },
        {
         "alignmentgroup": "True",
         "hovertemplate": "category_name=Music<br>month_week=05월 6주<br>channel_id=%{x}<br>video_id=%{text}<extra></extra>",
         "legendgroup": "Music",
         "marker": {
          "color": "#222A2A",
          "pattern": {
           "shape": ""
          }
         },
         "name": "Music",
         "offsetgroup": "Music",
         "orientation": "v",
         "showlegend": false,
         "text": [
          1
         ],
         "textposition": "auto",
         "type": "bar",
         "x": [
          "CHzCedB"
         ],
         "xaxis": "x13",
         "y": [
          1
         ],
         "yaxis": "y13"
        },
        {
         "alignmentgroup": "True",
         "hovertemplate": "category_name=Music<br>month_week=06월 2주<br>channel_id=%{x}<br>video_id=%{text}<extra></extra>",
         "legendgroup": "Music",
         "marker": {
          "color": "#222A2A",
          "pattern": {
           "shape": ""
          }
         },
         "name": "Music",
         "offsetgroup": "Music",
         "orientation": "v",
         "showlegend": false,
         "text": [
          3
         ],
         "textposition": "auto",
         "type": "bar",
         "x": [
          "CHviI9l"
         ],
         "xaxis": "x15",
         "y": [
          3
         ],
         "yaxis": "y15"
        },
        {
         "alignmentgroup": "True",
         "hovertemplate": "category_name=Music<br>month_week=06월 4주<br>channel_id=%{x}<br>video_id=%{text}<extra></extra>",
         "legendgroup": "Music",
         "marker": {
          "color": "#222A2A",
          "pattern": {
           "shape": ""
          }
         },
         "name": "Music",
         "offsetgroup": "Music",
         "orientation": "v",
         "showlegend": false,
         "text": [
          2
         ],
         "textposition": "auto",
         "type": "bar",
         "x": [
          "CHoRXPc"
         ],
         "xaxis": "x17",
         "y": [
          2
         ],
         "yaxis": "y17"
        },
        {
         "alignmentgroup": "True",
         "hovertemplate": "category_name=Music<br>month_week=06월 5주<br>channel_id=%{x}<br>video_id=%{text}<extra></extra>",
         "legendgroup": "Music",
         "marker": {
          "color": "#222A2A",
          "pattern": {
           "shape": ""
          }
         },
         "name": "Music",
         "offsetgroup": "Music",
         "orientation": "v",
         "showlegend": false,
         "text": [
          3
         ],
         "textposition": "auto",
         "type": "bar",
         "x": [
          "CHuKdaT"
         ],
         "xaxis": "x18",
         "y": [
          3
         ],
         "yaxis": "y18"
        },
        {
         "alignmentgroup": "True",
         "hovertemplate": "category_name=Music<br>month_week=07월 3주<br>channel_id=%{x}<br>video_id=%{text}<extra></extra>",
         "legendgroup": "Music",
         "marker": {
          "color": "#222A2A",
          "pattern": {
           "shape": ""
          }
         },
         "name": "Music",
         "offsetgroup": "Music",
         "orientation": "v",
         "showlegend": false,
         "text": [
          3
         ],
         "textposition": "auto",
         "type": "bar",
         "x": [
          "CHLkAep"
         ],
         "xaxis": "x21",
         "y": [
          3
         ],
         "yaxis": "y21"
        },
        {
         "alignmentgroup": "True",
         "hovertemplate": "category_name=Music<br>month_week=07월 5주<br>channel_id=%{x}<br>video_id=%{text}<extra></extra>",
         "legendgroup": "Music",
         "marker": {
          "color": "#222A2A",
          "pattern": {
           "shape": ""
          }
         },
         "name": "Music",
         "offsetgroup": "Music",
         "orientation": "v",
         "showlegend": false,
         "text": [
          3
         ],
         "textposition": "auto",
         "type": "bar",
         "x": [
          "CH-FQUI"
         ],
         "xaxis": "x23",
         "y": [
          3
         ],
         "yaxis": "y23"
        },
        {
         "alignmentgroup": "True",
         "hovertemplate": "category_name=Gaming<br>month_week=04월 1주<br>channel_id=%{x}<br>video_id=%{text}<extra></extra>",
         "legendgroup": "Gaming",
         "marker": {
          "color": "#B68100",
          "pattern": {
           "shape": ""
          }
         },
         "name": "Gaming",
         "offsetgroup": "Gaming",
         "orientation": "v",
         "showlegend": true,
         "text": [
          2
         ],
         "textposition": "auto",
         "type": "bar",
         "x": [
          "CHDBAVz"
         ],
         "xaxis": "x3",
         "y": [
          2
         ],
         "yaxis": "y3"
        },
        {
         "alignmentgroup": "True",
         "hovertemplate": "category_name=Gaming<br>month_week=06월 2주<br>channel_id=%{x}<br>video_id=%{text}<extra></extra>",
         "legendgroup": "Gaming",
         "marker": {
          "color": "#B68100",
          "pattern": {
           "shape": ""
          }
         },
         "name": "Gaming",
         "offsetgroup": "Gaming",
         "orientation": "v",
         "showlegend": false,
         "text": [
          2
         ],
         "textposition": "auto",
         "type": "bar",
         "x": [
          "CHefUNE"
         ],
         "xaxis": "x15",
         "y": [
          2
         ],
         "yaxis": "y15"
        },
        {
         "alignmentgroup": "True",
         "hovertemplate": "category_name=Film & Animation<br>month_week=05월 2주<br>channel_id=%{x}<br>video_id=%{text}<extra></extra>",
         "legendgroup": "Film & Animation",
         "marker": {
          "color": "#750D86",
          "pattern": {
           "shape": ""
          }
         },
         "name": "Film & Animation",
         "offsetgroup": "Film & Animation",
         "orientation": "v",
         "showlegend": true,
         "text": [
          2
         ],
         "textposition": "auto",
         "type": "bar",
         "x": [
          "CHszFjh"
         ],
         "xaxis": "x9",
         "y": [
          2
         ],
         "yaxis": "y9"
        },
        {
         "alignmentgroup": "True",
         "hovertemplate": "category_name=Pets & Animals<br>month_week=05월 5주<br>channel_id=%{x}<br>video_id=%{text}<extra></extra>",
         "legendgroup": "Pets & Animals",
         "marker": {
          "color": "#EB663B",
          "pattern": {
           "shape": ""
          }
         },
         "name": "Pets & Animals",
         "offsetgroup": "Pets & Animals",
         "orientation": "v",
         "showlegend": true,
         "text": [
          2
         ],
         "textposition": "auto",
         "type": "bar",
         "x": [
          "CH22go5"
         ],
         "xaxis": "x12",
         "y": [
          2
         ],
         "yaxis": "y12"
        },
        {
         "alignmentgroup": "True",
         "hovertemplate": "category_name=Pets & Animals<br>month_week=07월 2주<br>channel_id=%{x}<br>video_id=%{text}<extra></extra>",
         "legendgroup": "Pets & Animals",
         "marker": {
          "color": "#EB663B",
          "pattern": {
           "shape": ""
          }
         },
         "name": "Pets & Animals",
         "offsetgroup": "Pets & Animals",
         "orientation": "v",
         "showlegend": false,
         "text": [
          3
         ],
         "textposition": "auto",
         "type": "bar",
         "x": [
          "CH29-Il"
         ],
         "xaxis": "x20",
         "y": [
          3
         ],
         "yaxis": "y20"
        },
        {
         "alignmentgroup": "True",
         "hovertemplate": "category_name=Travel & Events<br>month_week=07월 2주<br>channel_id=%{x}<br>video_id=%{text}<extra></extra>",
         "legendgroup": "Travel & Events",
         "marker": {
          "color": "#511CFB",
          "pattern": {
           "shape": ""
          }
         },
         "name": "Travel & Events",
         "offsetgroup": "Travel & Events",
         "orientation": "v",
         "showlegend": true,
         "text": [
          2
         ],
         "textposition": "auto",
         "type": "bar",
         "x": [
          "CHlRNDV"
         ],
         "xaxis": "x20",
         "y": [
          2
         ],
         "yaxis": "y20"
        }
       ],
       "layout": {
        "annotations": [
         {
          "font": {},
          "showarrow": false,
          "text": "03월 4주",
          "x": 0.012173913043478262,
          "xanchor": "center",
          "xref": "paper",
          "y": 1,
          "yanchor": "bottom",
          "yref": "paper"
         },
         {
          "font": {},
          "showarrow": false,
          "text": "03월 5주",
          "x": 0.05652173913043479,
          "xanchor": "center",
          "xref": "paper",
          "y": 1,
          "yanchor": "bottom",
          "yref": "paper"
         },
         {
          "font": {},
          "showarrow": false,
          "text": "04월 1주",
          "x": 0.10086956521739132,
          "xanchor": "center",
          "xref": "paper",
          "y": 1,
          "yanchor": "bottom",
          "yref": "paper"
         },
         {
          "font": {},
          "showarrow": false,
          "text": "04월 2주",
          "x": 0.14521739130434783,
          "xanchor": "center",
          "xref": "paper",
          "y": 1,
          "yanchor": "bottom",
          "yref": "paper"
         },
         {
          "font": {},
          "showarrow": false,
          "text": "04월 3주",
          "x": 0.18956521739130436,
          "xanchor": "center",
          "xref": "paper",
          "y": 1,
          "yanchor": "bottom",
          "yref": "paper"
         },
         {
          "font": {},
          "showarrow": false,
          "text": "04월 4주",
          "x": 0.2339130434782609,
          "xanchor": "center",
          "xref": "paper",
          "y": 1,
          "yanchor": "bottom",
          "yref": "paper"
         },
         {
          "font": {},
          "showarrow": false,
          "text": "04월 5주",
          "x": 0.2782608695652174,
          "xanchor": "center",
          "xref": "paper",
          "y": 1,
          "yanchor": "bottom",
          "yref": "paper"
         },
         {
          "font": {},
          "showarrow": false,
          "text": "05월 1주",
          "x": 0.3226086956521739,
          "xanchor": "center",
          "xref": "paper",
          "y": 1,
          "yanchor": "bottom",
          "yref": "paper"
         },
         {
          "font": {},
          "showarrow": false,
          "text": "05월 2주",
          "x": 0.3669565217391304,
          "xanchor": "center",
          "xref": "paper",
          "y": 1,
          "yanchor": "bottom",
          "yref": "paper"
         },
         {
          "font": {},
          "showarrow": false,
          "text": "05월 3주",
          "x": 0.41130434782608694,
          "xanchor": "center",
          "xref": "paper",
          "y": 1,
          "yanchor": "bottom",
          "yref": "paper"
         },
         {
          "font": {},
          "showarrow": false,
          "text": "05월 4주",
          "x": 0.45565217391304347,
          "xanchor": "center",
          "xref": "paper",
          "y": 1,
          "yanchor": "bottom",
          "yref": "paper"
         },
         {
          "font": {},
          "showarrow": false,
          "text": "05월 5주",
          "x": 0.5,
          "xanchor": "center",
          "xref": "paper",
          "y": 1,
          "yanchor": "bottom",
          "yref": "paper"
         },
         {
          "font": {},
          "showarrow": false,
          "text": "05월 6주",
          "x": 0.5443478260869564,
          "xanchor": "center",
          "xref": "paper",
          "y": 1,
          "yanchor": "bottom",
          "yref": "paper"
         },
         {
          "font": {},
          "showarrow": false,
          "text": "06월 1주",
          "x": 0.588695652173913,
          "xanchor": "center",
          "xref": "paper",
          "y": 1,
          "yanchor": "bottom",
          "yref": "paper"
         },
         {
          "font": {},
          "showarrow": false,
          "text": "06월 2주",
          "x": 0.6330434782608695,
          "xanchor": "center",
          "xref": "paper",
          "y": 1,
          "yanchor": "bottom",
          "yref": "paper"
         },
         {
          "font": {},
          "showarrow": false,
          "text": "06월 3주",
          "x": 0.677391304347826,
          "xanchor": "center",
          "xref": "paper",
          "y": 1,
          "yanchor": "bottom",
          "yref": "paper"
         },
         {
          "font": {},
          "showarrow": false,
          "text": "06월 4주",
          "x": 0.7217391304347825,
          "xanchor": "center",
          "xref": "paper",
          "y": 1,
          "yanchor": "bottom",
          "yref": "paper"
         },
         {
          "font": {},
          "showarrow": false,
          "text": "06월 5주",
          "x": 0.7660869565217391,
          "xanchor": "center",
          "xref": "paper",
          "y": 1,
          "yanchor": "bottom",
          "yref": "paper"
         },
         {
          "font": {},
          "showarrow": false,
          "text": "07월 1주",
          "x": 0.8104347826086956,
          "xanchor": "center",
          "xref": "paper",
          "y": 1,
          "yanchor": "bottom",
          "yref": "paper"
         },
         {
          "font": {},
          "showarrow": false,
          "text": "07월 2주",
          "x": 0.8547826086956521,
          "xanchor": "center",
          "xref": "paper",
          "y": 1,
          "yanchor": "bottom",
          "yref": "paper"
         },
         {
          "font": {},
          "showarrow": false,
          "text": "07월 3주",
          "x": 0.8991304347826087,
          "xanchor": "center",
          "xref": "paper",
          "y": 1,
          "yanchor": "bottom",
          "yref": "paper"
         },
         {
          "font": {},
          "showarrow": false,
          "text": "07월 4주",
          "x": 0.9434782608695652,
          "xanchor": "center",
          "xref": "paper",
          "y": 1,
          "yanchor": "bottom",
          "yref": "paper"
         },
         {
          "font": {},
          "showarrow": false,
          "text": "07월 5주",
          "x": 0.9878260869565217,
          "xanchor": "center",
          "xref": "paper",
          "y": 1,
          "yanchor": "bottom",
          "yref": "paper"
         }
        ],
        "barmode": "relative",
        "legend": {
         "title": {
          "text": "category_name"
         },
         "tracegroupgap": 0
        },
        "margin": {
         "t": 60
        },
        "template": {
         "data": {
          "bar": [
           {
            "error_x": {
             "color": "#2a3f5f"
            },
            "error_y": {
             "color": "#2a3f5f"
            },
            "marker": {
             "line": {
              "color": "#E5ECF6",
              "width": 0.5
             },
             "pattern": {
              "fillmode": "overlay",
              "size": 10,
              "solidity": 0.2
             }
            },
            "type": "bar"
           }
          ],
          "barpolar": [
           {
            "marker": {
             "line": {
              "color": "#E5ECF6",
              "width": 0.5
             },
             "pattern": {
              "fillmode": "overlay",
              "size": 10,
              "solidity": 0.2
             }
            },
            "type": "barpolar"
           }
          ],
          "carpet": [
           {
            "aaxis": {
             "endlinecolor": "#2a3f5f",
             "gridcolor": "white",
             "linecolor": "white",
             "minorgridcolor": "white",
             "startlinecolor": "#2a3f5f"
            },
            "baxis": {
             "endlinecolor": "#2a3f5f",
             "gridcolor": "white",
             "linecolor": "white",
             "minorgridcolor": "white",
             "startlinecolor": "#2a3f5f"
            },
            "type": "carpet"
           }
          ],
          "choropleth": [
           {
            "colorbar": {
             "outlinewidth": 0,
             "ticks": ""
            },
            "type": "choropleth"
           }
          ],
          "contour": [
           {
            "colorbar": {
             "outlinewidth": 0,
             "ticks": ""
            },
            "colorscale": [
             [
              0,
              "#0d0887"
             ],
             [
              0.1111111111111111,
              "#46039f"
             ],
             [
              0.2222222222222222,
              "#7201a8"
             ],
             [
              0.3333333333333333,
              "#9c179e"
             ],
             [
              0.4444444444444444,
              "#bd3786"
             ],
             [
              0.5555555555555556,
              "#d8576b"
             ],
             [
              0.6666666666666666,
              "#ed7953"
             ],
             [
              0.7777777777777778,
              "#fb9f3a"
             ],
             [
              0.8888888888888888,
              "#fdca26"
             ],
             [
              1,
              "#f0f921"
             ]
            ],
            "type": "contour"
           }
          ],
          "contourcarpet": [
           {
            "colorbar": {
             "outlinewidth": 0,
             "ticks": ""
            },
            "type": "contourcarpet"
           }
          ],
          "heatmap": [
           {
            "colorbar": {
             "outlinewidth": 0,
             "ticks": ""
            },
            "colorscale": [
             [
              0,
              "#0d0887"
             ],
             [
              0.1111111111111111,
              "#46039f"
             ],
             [
              0.2222222222222222,
              "#7201a8"
             ],
             [
              0.3333333333333333,
              "#9c179e"
             ],
             [
              0.4444444444444444,
              "#bd3786"
             ],
             [
              0.5555555555555556,
              "#d8576b"
             ],
             [
              0.6666666666666666,
              "#ed7953"
             ],
             [
              0.7777777777777778,
              "#fb9f3a"
             ],
             [
              0.8888888888888888,
              "#fdca26"
             ],
             [
              1,
              "#f0f921"
             ]
            ],
            "type": "heatmap"
           }
          ],
          "heatmapgl": [
           {
            "colorbar": {
             "outlinewidth": 0,
             "ticks": ""
            },
            "colorscale": [
             [
              0,
              "#0d0887"
             ],
             [
              0.1111111111111111,
              "#46039f"
             ],
             [
              0.2222222222222222,
              "#7201a8"
             ],
             [
              0.3333333333333333,
              "#9c179e"
             ],
             [
              0.4444444444444444,
              "#bd3786"
             ],
             [
              0.5555555555555556,
              "#d8576b"
             ],
             [
              0.6666666666666666,
              "#ed7953"
             ],
             [
              0.7777777777777778,
              "#fb9f3a"
             ],
             [
              0.8888888888888888,
              "#fdca26"
             ],
             [
              1,
              "#f0f921"
             ]
            ],
            "type": "heatmapgl"
           }
          ],
          "histogram": [
           {
            "marker": {
             "pattern": {
              "fillmode": "overlay",
              "size": 10,
              "solidity": 0.2
             }
            },
            "type": "histogram"
           }
          ],
          "histogram2d": [
           {
            "colorbar": {
             "outlinewidth": 0,
             "ticks": ""
            },
            "colorscale": [
             [
              0,
              "#0d0887"
             ],
             [
              0.1111111111111111,
              "#46039f"
             ],
             [
              0.2222222222222222,
              "#7201a8"
             ],
             [
              0.3333333333333333,
              "#9c179e"
             ],
             [
              0.4444444444444444,
              "#bd3786"
             ],
             [
              0.5555555555555556,
              "#d8576b"
             ],
             [
              0.6666666666666666,
              "#ed7953"
             ],
             [
              0.7777777777777778,
              "#fb9f3a"
             ],
             [
              0.8888888888888888,
              "#fdca26"
             ],
             [
              1,
              "#f0f921"
             ]
            ],
            "type": "histogram2d"
           }
          ],
          "histogram2dcontour": [
           {
            "colorbar": {
             "outlinewidth": 0,
             "ticks": ""
            },
            "colorscale": [
             [
              0,
              "#0d0887"
             ],
             [
              0.1111111111111111,
              "#46039f"
             ],
             [
              0.2222222222222222,
              "#7201a8"
             ],
             [
              0.3333333333333333,
              "#9c179e"
             ],
             [
              0.4444444444444444,
              "#bd3786"
             ],
             [
              0.5555555555555556,
              "#d8576b"
             ],
             [
              0.6666666666666666,
              "#ed7953"
             ],
             [
              0.7777777777777778,
              "#fb9f3a"
             ],
             [
              0.8888888888888888,
              "#fdca26"
             ],
             [
              1,
              "#f0f921"
             ]
            ],
            "type": "histogram2dcontour"
           }
          ],
          "mesh3d": [
           {
            "colorbar": {
             "outlinewidth": 0,
             "ticks": ""
            },
            "type": "mesh3d"
           }
          ],
          "parcoords": [
           {
            "line": {
             "colorbar": {
              "outlinewidth": 0,
              "ticks": ""
             }
            },
            "type": "parcoords"
           }
          ],
          "pie": [
           {
            "automargin": true,
            "type": "pie"
           }
          ],
          "scatter": [
           {
            "marker": {
             "colorbar": {
              "outlinewidth": 0,
              "ticks": ""
             }
            },
            "type": "scatter"
           }
          ],
          "scatter3d": [
           {
            "line": {
             "colorbar": {
              "outlinewidth": 0,
              "ticks": ""
             }
            },
            "marker": {
             "colorbar": {
              "outlinewidth": 0,
              "ticks": ""
             }
            },
            "type": "scatter3d"
           }
          ],
          "scattercarpet": [
           {
            "marker": {
             "colorbar": {
              "outlinewidth": 0,
              "ticks": ""
             }
            },
            "type": "scattercarpet"
           }
          ],
          "scattergeo": [
           {
            "marker": {
             "colorbar": {
              "outlinewidth": 0,
              "ticks": ""
             }
            },
            "type": "scattergeo"
           }
          ],
          "scattergl": [
           {
            "marker": {
             "colorbar": {
              "outlinewidth": 0,
              "ticks": ""
             }
            },
            "type": "scattergl"
           }
          ],
          "scattermapbox": [
           {
            "marker": {
             "colorbar": {
              "outlinewidth": 0,
              "ticks": ""
             }
            },
            "type": "scattermapbox"
           }
          ],
          "scatterpolar": [
           {
            "marker": {
             "colorbar": {
              "outlinewidth": 0,
              "ticks": ""
             }
            },
            "type": "scatterpolar"
           }
          ],
          "scatterpolargl": [
           {
            "marker": {
             "colorbar": {
              "outlinewidth": 0,
              "ticks": ""
             }
            },
            "type": "scatterpolargl"
           }
          ],
          "scatterternary": [
           {
            "marker": {
             "colorbar": {
              "outlinewidth": 0,
              "ticks": ""
             }
            },
            "type": "scatterternary"
           }
          ],
          "surface": [
           {
            "colorbar": {
             "outlinewidth": 0,
             "ticks": ""
            },
            "colorscale": [
             [
              0,
              "#0d0887"
             ],
             [
              0.1111111111111111,
              "#46039f"
             ],
             [
              0.2222222222222222,
              "#7201a8"
             ],
             [
              0.3333333333333333,
              "#9c179e"
             ],
             [
              0.4444444444444444,
              "#bd3786"
             ],
             [
              0.5555555555555556,
              "#d8576b"
             ],
             [
              0.6666666666666666,
              "#ed7953"
             ],
             [
              0.7777777777777778,
              "#fb9f3a"
             ],
             [
              0.8888888888888888,
              "#fdca26"
             ],
             [
              1,
              "#f0f921"
             ]
            ],
            "type": "surface"
           }
          ],
          "table": [
           {
            "cells": {
             "fill": {
              "color": "#EBF0F8"
             },
             "line": {
              "color": "white"
             }
            },
            "header": {
             "fill": {
              "color": "#C8D4E3"
             },
             "line": {
              "color": "white"
             }
            },
            "type": "table"
           }
          ]
         },
         "layout": {
          "annotationdefaults": {
           "arrowcolor": "#2a3f5f",
           "arrowhead": 0,
           "arrowwidth": 1
          },
          "autotypenumbers": "strict",
          "coloraxis": {
           "colorbar": {
            "outlinewidth": 0,
            "ticks": ""
           }
          },
          "colorscale": {
           "diverging": [
            [
             0,
             "#8e0152"
            ],
            [
             0.1,
             "#c51b7d"
            ],
            [
             0.2,
             "#de77ae"
            ],
            [
             0.3,
             "#f1b6da"
            ],
            [
             0.4,
             "#fde0ef"
            ],
            [
             0.5,
             "#f7f7f7"
            ],
            [
             0.6,
             "#e6f5d0"
            ],
            [
             0.7,
             "#b8e186"
            ],
            [
             0.8,
             "#7fbc41"
            ],
            [
             0.9,
             "#4d9221"
            ],
            [
             1,
             "#276419"
            ]
           ],
           "sequential": [
            [
             0,
             "#0d0887"
            ],
            [
             0.1111111111111111,
             "#46039f"
            ],
            [
             0.2222222222222222,
             "#7201a8"
            ],
            [
             0.3333333333333333,
             "#9c179e"
            ],
            [
             0.4444444444444444,
             "#bd3786"
            ],
            [
             0.5555555555555556,
             "#d8576b"
            ],
            [
             0.6666666666666666,
             "#ed7953"
            ],
            [
             0.7777777777777778,
             "#fb9f3a"
            ],
            [
             0.8888888888888888,
             "#fdca26"
            ],
            [
             1,
             "#f0f921"
            ]
           ],
           "sequentialminus": [
            [
             0,
             "#0d0887"
            ],
            [
             0.1111111111111111,
             "#46039f"
            ],
            [
             0.2222222222222222,
             "#7201a8"
            ],
            [
             0.3333333333333333,
             "#9c179e"
            ],
            [
             0.4444444444444444,
             "#bd3786"
            ],
            [
             0.5555555555555556,
             "#d8576b"
            ],
            [
             0.6666666666666666,
             "#ed7953"
            ],
            [
             0.7777777777777778,
             "#fb9f3a"
            ],
            [
             0.8888888888888888,
             "#fdca26"
            ],
            [
             1,
             "#f0f921"
            ]
           ]
          },
          "colorway": [
           "#636efa",
           "#EF553B",
           "#00cc96",
           "#ab63fa",
           "#FFA15A",
           "#19d3f3",
           "#FF6692",
           "#B6E880",
           "#FF97FF",
           "#FECB52"
          ],
          "font": {
           "color": "#2a3f5f"
          },
          "geo": {
           "bgcolor": "white",
           "lakecolor": "white",
           "landcolor": "#E5ECF6",
           "showlakes": true,
           "showland": true,
           "subunitcolor": "white"
          },
          "hoverlabel": {
           "align": "left"
          },
          "hovermode": "closest",
          "mapbox": {
           "style": "light"
          },
          "paper_bgcolor": "white",
          "plot_bgcolor": "#E5ECF6",
          "polar": {
           "angularaxis": {
            "gridcolor": "white",
            "linecolor": "white",
            "ticks": ""
           },
           "bgcolor": "#E5ECF6",
           "radialaxis": {
            "gridcolor": "white",
            "linecolor": "white",
            "ticks": ""
           }
          },
          "scene": {
           "xaxis": {
            "backgroundcolor": "#E5ECF6",
            "gridcolor": "white",
            "gridwidth": 2,
            "linecolor": "white",
            "showbackground": true,
            "ticks": "",
            "zerolinecolor": "white"
           },
           "yaxis": {
            "backgroundcolor": "#E5ECF6",
            "gridcolor": "white",
            "gridwidth": 2,
            "linecolor": "white",
            "showbackground": true,
            "ticks": "",
            "zerolinecolor": "white"
           },
           "zaxis": {
            "backgroundcolor": "#E5ECF6",
            "gridcolor": "white",
            "gridwidth": 2,
            "linecolor": "white",
            "showbackground": true,
            "ticks": "",
            "zerolinecolor": "white"
           }
          },
          "shapedefaults": {
           "line": {
            "color": "#2a3f5f"
           }
          },
          "ternary": {
           "aaxis": {
            "gridcolor": "white",
            "linecolor": "white",
            "ticks": ""
           },
           "baxis": {
            "gridcolor": "white",
            "linecolor": "white",
            "ticks": ""
           },
           "bgcolor": "#E5ECF6",
           "caxis": {
            "gridcolor": "white",
            "linecolor": "white",
            "ticks": ""
           }
          },
          "title": {
           "x": 0.05
          },
          "xaxis": {
           "automargin": true,
           "gridcolor": "white",
           "linecolor": "white",
           "ticks": "",
           "title": {
            "standoff": 15
           },
           "zerolinecolor": "white",
           "zerolinewidth": 2
          },
          "yaxis": {
           "automargin": true,
           "gridcolor": "white",
           "linecolor": "white",
           "ticks": "",
           "title": {
            "standoff": 15
           },
           "zerolinecolor": "white",
           "zerolinewidth": 2
          }
         }
        },
        "title": {
         "text": "Top 5 Channel by Week"
        },
        "xaxis": {
         "anchor": "y",
         "domain": [
          0,
          0.024347826086956525
         ],
         "showticklabels": true,
         "title": {}
        },
        "xaxis10": {
         "anchor": "y10",
         "domain": [
          0.3991304347826087,
          0.4234782608695652
         ],
         "showticklabels": true,
         "title": {
          "text": "Channel"
         }
        },
        "xaxis11": {
         "anchor": "y11",
         "domain": [
          0.4434782608695652,
          0.4678260869565217
         ],
         "showticklabels": true,
         "title": {
          "text": "Channel"
         }
        },
        "xaxis12": {
         "anchor": "y12",
         "domain": [
          0.48782608695652174,
          0.5121739130434783
         ],
         "showticklabels": true,
         "title": {
          "text": "Channel"
         }
        },
        "xaxis13": {
         "anchor": "y13",
         "domain": [
          0.5321739130434782,
          0.5565217391304347
         ],
         "showticklabels": true,
         "title": {
          "text": "Channel"
         }
        },
        "xaxis14": {
         "anchor": "y14",
         "domain": [
          0.5765217391304347,
          0.6008695652173912
         ],
         "showticklabels": true,
         "title": {
          "text": "Channel"
         }
        },
        "xaxis15": {
         "anchor": "y15",
         "domain": [
          0.6208695652173912,
          0.6452173913043477
         ],
         "showticklabels": true,
         "title": {
          "text": "Channel"
         }
        },
        "xaxis16": {
         "anchor": "y16",
         "domain": [
          0.6652173913043478,
          0.6895652173913043
         ],
         "showticklabels": true,
         "title": {
          "text": "Channel"
         }
        },
        "xaxis17": {
         "anchor": "y17",
         "domain": [
          0.7095652173913043,
          0.7339130434782608
         ],
         "showticklabels": true,
         "title": {
          "text": "Channel"
         }
        },
        "xaxis18": {
         "anchor": "y18",
         "domain": [
          0.7539130434782608,
          0.7782608695652173
         ],
         "showticklabels": true,
         "title": {
          "text": "Channel"
         }
        },
        "xaxis19": {
         "anchor": "y19",
         "domain": [
          0.7982608695652174,
          0.8226086956521739
         ],
         "showticklabels": true,
         "title": {
          "text": "Channel"
         }
        },
        "xaxis2": {
         "anchor": "y2",
         "domain": [
          0.044347826086956525,
          0.06869565217391305
         ],
         "showticklabels": true,
         "title": {
          "text": "Channel"
         }
        },
        "xaxis20": {
         "anchor": "y20",
         "domain": [
          0.8426086956521739,
          0.8669565217391304
         ],
         "showticklabels": true,
         "title": {
          "text": "Channel"
         }
        },
        "xaxis21": {
         "anchor": "y21",
         "domain": [
          0.8869565217391304,
          0.9113043478260869
         ],
         "showticklabels": true,
         "title": {
          "text": "Channel"
         }
        },
        "xaxis22": {
         "anchor": "y22",
         "domain": [
          0.931304347826087,
          0.9556521739130435
         ],
         "showticklabels": true,
         "title": {
          "text": "Channel"
         }
        },
        "xaxis23": {
         "anchor": "y23",
         "domain": [
          0.9756521739130435,
          1
         ],
         "showticklabels": true,
         "title": {
          "text": "Channel"
         }
        },
        "xaxis3": {
         "anchor": "y3",
         "domain": [
          0.08869565217391305,
          0.11304347826086958
         ],
         "showticklabels": true,
         "title": {
          "text": "Channel"
         }
        },
        "xaxis4": {
         "anchor": "y4",
         "domain": [
          0.13304347826086957,
          0.15739130434782608
         ],
         "showticklabels": true,
         "title": {
          "text": "Channel"
         }
        },
        "xaxis5": {
         "anchor": "y5",
         "domain": [
          0.1773913043478261,
          0.20173913043478262
         ],
         "showticklabels": true,
         "title": {
          "text": "Channel"
         }
        },
        "xaxis6": {
         "anchor": "y6",
         "domain": [
          0.22173913043478263,
          0.24608695652173915
         ],
         "showticklabels": true,
         "title": {
          "text": "Channel"
         }
        },
        "xaxis7": {
         "anchor": "y7",
         "domain": [
          0.26608695652173914,
          0.29043478260869565
         ],
         "showticklabels": true,
         "title": {
          "text": "Channel"
         }
        },
        "xaxis8": {
         "anchor": "y8",
         "domain": [
          0.31043478260869567,
          0.3347826086956522
         ],
         "showticklabels": true,
         "title": {
          "text": "Channel"
         }
        },
        "xaxis9": {
         "anchor": "y9",
         "domain": [
          0.35478260869565215,
          0.37913043478260866
         ],
         "showticklabels": true,
         "title": {
          "text": "Channel"
         }
        },
        "yaxis": {
         "anchor": "x",
         "domain": [
          0,
          1
         ],
         "title": {
          "text": "Video Count"
         }
        },
        "yaxis10": {
         "anchor": "x10",
         "domain": [
          0,
          1
         ],
         "matches": "y",
         "showticklabels": false
        },
        "yaxis11": {
         "anchor": "x11",
         "domain": [
          0,
          1
         ],
         "matches": "y",
         "showticklabels": false
        },
        "yaxis12": {
         "anchor": "x12",
         "domain": [
          0,
          1
         ],
         "matches": "y",
         "showticklabels": false
        },
        "yaxis13": {
         "anchor": "x13",
         "domain": [
          0,
          1
         ],
         "matches": "y",
         "showticklabels": false
        },
        "yaxis14": {
         "anchor": "x14",
         "domain": [
          0,
          1
         ],
         "matches": "y",
         "showticklabels": false
        },
        "yaxis15": {
         "anchor": "x15",
         "domain": [
          0,
          1
         ],
         "matches": "y",
         "showticklabels": false
        },
        "yaxis16": {
         "anchor": "x16",
         "domain": [
          0,
          1
         ],
         "matches": "y",
         "showticklabels": false
        },
        "yaxis17": {
         "anchor": "x17",
         "domain": [
          0,
          1
         ],
         "matches": "y",
         "showticklabels": false
        },
        "yaxis18": {
         "anchor": "x18",
         "domain": [
          0,
          1
         ],
         "matches": "y",
         "showticklabels": false
        },
        "yaxis19": {
         "anchor": "x19",
         "domain": [
          0,
          1
         ],
         "matches": "y",
         "showticklabels": false
        },
        "yaxis2": {
         "anchor": "x2",
         "domain": [
          0,
          1
         ],
         "matches": "y",
         "showticklabels": false
        },
        "yaxis20": {
         "anchor": "x20",
         "domain": [
          0,
          1
         ],
         "matches": "y",
         "showticklabels": false
        },
        "yaxis21": {
         "anchor": "x21",
         "domain": [
          0,
          1
         ],
         "matches": "y",
         "showticklabels": false
        },
        "yaxis22": {
         "anchor": "x22",
         "domain": [
          0,
          1
         ],
         "matches": "y",
         "showticklabels": false
        },
        "yaxis23": {
         "anchor": "x23",
         "domain": [
          0,
          1
         ],
         "matches": "y",
         "showticklabels": false
        },
        "yaxis3": {
         "anchor": "x3",
         "domain": [
          0,
          1
         ],
         "matches": "y",
         "showticklabels": false
        },
        "yaxis4": {
         "anchor": "x4",
         "domain": [
          0,
          1
         ],
         "matches": "y",
         "showticklabels": false
        },
        "yaxis5": {
         "anchor": "x5",
         "domain": [
          0,
          1
         ],
         "matches": "y",
         "showticklabels": false
        },
        "yaxis6": {
         "anchor": "x6",
         "domain": [
          0,
          1
         ],
         "matches": "y",
         "showticklabels": false
        },
        "yaxis7": {
         "anchor": "x7",
         "domain": [
          0,
          1
         ],
         "matches": "y",
         "showticklabels": false
        },
        "yaxis8": {
         "anchor": "x8",
         "domain": [
          0,
          1
         ],
         "matches": "y",
         "showticklabels": false
        },
        "yaxis9": {
         "anchor": "x9",
         "domain": [
          0,
          1
         ],
         "matches": "y",
         "showticklabels": false
        }
       }
      },
      "text/html": [
       "<div>                            <div id=\"5b534c05-a5fb-42e1-a59b-dd5bad2b58db\" class=\"plotly-graph-div\" style=\"height:525px; width:100%;\"></div>            <script type=\"text/javascript\">                require([\"plotly\"], function(Plotly) {                    window.PLOTLYENV=window.PLOTLYENV || {};                                    if (document.getElementById(\"5b534c05-a5fb-42e1-a59b-dd5bad2b58db\")) {                    Plotly.newPlot(                        \"5b534c05-a5fb-42e1-a59b-dd5bad2b58db\",                        [{\"alignmentgroup\":\"True\",\"hovertemplate\":\"category_name=People & Blogs<br>month_week=03\\uc6d4 4\\uc8fc<br>channel_id=%{x}<br>video_id=%{text}<extra></extra>\",\"legendgroup\":\"People & Blogs\",\"marker\":{\"color\":\"#2E91E5\",\"pattern\":{\"shape\":\"\"}},\"name\":\"People & Blogs\",\"offsetgroup\":\"People & Blogs\",\"orientation\":\"v\",\"showlegend\":true,\"text\":[2.0],\"textposition\":\"auto\",\"x\":[\"CHnet0I\"],\"xaxis\":\"x\",\"y\":[2],\"yaxis\":\"y\",\"type\":\"bar\"},{\"alignmentgroup\":\"True\",\"hovertemplate\":\"category_name=People & Blogs<br>month_week=03\\uc6d4 5\\uc8fc<br>channel_id=%{x}<br>video_id=%{text}<extra></extra>\",\"legendgroup\":\"People & Blogs\",\"marker\":{\"color\":\"#2E91E5\",\"pattern\":{\"shape\":\"\"}},\"name\":\"People & Blogs\",\"offsetgroup\":\"People & Blogs\",\"orientation\":\"v\",\"showlegend\":false,\"text\":[2.0],\"textposition\":\"auto\",\"x\":[\"CHaZS_X\"],\"xaxis\":\"x2\",\"y\":[2],\"yaxis\":\"y2\",\"type\":\"bar\"},{\"alignmentgroup\":\"True\",\"hovertemplate\":\"category_name=People & Blogs<br>month_week=04\\uc6d4 2\\uc8fc<br>channel_id=%{x}<br>video_id=%{text}<extra></extra>\",\"legendgroup\":\"People & Blogs\",\"marker\":{\"color\":\"#2E91E5\",\"pattern\":{\"shape\":\"\"}},\"name\":\"People & Blogs\",\"offsetgroup\":\"People & Blogs\",\"orientation\":\"v\",\"showlegend\":false,\"text\":[2.0],\"textposition\":\"auto\",\"x\":[\"CHXTyJZ\"],\"xaxis\":\"x4\",\"y\":[2],\"yaxis\":\"y4\",\"type\":\"bar\"},{\"alignmentgroup\":\"True\",\"hovertemplate\":\"category_name=People & Blogs<br>month_week=04\\uc6d4 4\\uc8fc<br>channel_id=%{x}<br>video_id=%{text}<extra></extra>\",\"legendgroup\":\"People & Blogs\",\"marker\":{\"color\":\"#2E91E5\",\"pattern\":{\"shape\":\"\"}},\"name\":\"People & Blogs\",\"offsetgroup\":\"People & Blogs\",\"orientation\":\"v\",\"showlegend\":false,\"text\":[2.0],\"textposition\":\"auto\",\"x\":[\"CHoPTIa\"],\"xaxis\":\"x6\",\"y\":[2],\"yaxis\":\"y6\",\"type\":\"bar\"},{\"alignmentgroup\":\"True\",\"hovertemplate\":\"category_name=People & Blogs<br>month_week=04\\uc6d4 5\\uc8fc<br>channel_id=%{x}<br>video_id=%{text}<extra></extra>\",\"legendgroup\":\"People & Blogs\",\"marker\":{\"color\":\"#2E91E5\",\"pattern\":{\"shape\":\"\"}},\"name\":\"People & Blogs\",\"offsetgroup\":\"People & Blogs\",\"orientation\":\"v\",\"showlegend\":false,\"text\":[3.0],\"textposition\":\"auto\",\"x\":[\"CHIG4gr\"],\"xaxis\":\"x7\",\"y\":[3],\"yaxis\":\"y7\",\"type\":\"bar\"},{\"alignmentgroup\":\"True\",\"hovertemplate\":\"category_name=People & Blogs<br>month_week=05\\uc6d4 1\\uc8fc<br>channel_id=%{x}<br>video_id=%{text}<extra></extra>\",\"legendgroup\":\"People & Blogs\",\"marker\":{\"color\":\"#2E91E5\",\"pattern\":{\"shape\":\"\"}},\"name\":\"People & Blogs\",\"offsetgroup\":\"People & Blogs\",\"orientation\":\"v\",\"showlegend\":false,\"text\":[2.0],\"textposition\":\"auto\",\"x\":[\"CHRzS1N\"],\"xaxis\":\"x8\",\"y\":[2],\"yaxis\":\"y8\",\"type\":\"bar\"},{\"alignmentgroup\":\"True\",\"hovertemplate\":\"category_name=People & Blogs<br>month_week=05\\uc6d4 2\\uc8fc<br>channel_id=%{x}<br>video_id=%{text}<extra></extra>\",\"legendgroup\":\"People & Blogs\",\"marker\":{\"color\":\"#2E91E5\",\"pattern\":{\"shape\":\"\"}},\"name\":\"People & Blogs\",\"offsetgroup\":\"People & Blogs\",\"orientation\":\"v\",\"showlegend\":false,\"text\":[4.0],\"textposition\":\"auto\",\"x\":[\"CHDV9zg\"],\"xaxis\":\"x9\",\"y\":[4],\"yaxis\":\"y9\",\"type\":\"bar\"},{\"alignmentgroup\":\"True\",\"hovertemplate\":\"category_name=People & Blogs<br>month_week=05\\uc6d4 3\\uc8fc<br>channel_id=%{x}<br>video_id=%{text}<extra></extra>\",\"legendgroup\":\"People & Blogs\",\"marker\":{\"color\":\"#2E91E5\",\"pattern\":{\"shape\":\"\"}},\"name\":\"People & Blogs\",\"offsetgroup\":\"People & Blogs\",\"orientation\":\"v\",\"showlegend\":false,\"text\":[3.0],\"textposition\":\"auto\",\"x\":[\"CHIG4gr\"],\"xaxis\":\"x10\",\"y\":[3],\"yaxis\":\"y10\",\"type\":\"bar\"},{\"alignmentgroup\":\"True\",\"hovertemplate\":\"category_name=People & Blogs<br>month_week=05\\uc6d4 4\\uc8fc<br>channel_id=%{x}<br>video_id=%{text}<extra></extra>\",\"legendgroup\":\"People & Blogs\",\"marker\":{\"color\":\"#2E91E5\",\"pattern\":{\"shape\":\"\"}},\"name\":\"People & Blogs\",\"offsetgroup\":\"People & Blogs\",\"orientation\":\"v\",\"showlegend\":false,\"text\":[3.0],\"textposition\":\"auto\",\"x\":[\"CH4DnB5\"],\"xaxis\":\"x11\",\"y\":[3],\"yaxis\":\"y11\",\"type\":\"bar\"},{\"alignmentgroup\":\"True\",\"hovertemplate\":\"category_name=People & Blogs<br>month_week=05\\uc6d4 5\\uc8fc<br>channel_id=%{x}<br>video_id=%{text}<extra></extra>\",\"legendgroup\":\"People & Blogs\",\"marker\":{\"color\":\"#2E91E5\",\"pattern\":{\"shape\":\"\"}},\"name\":\"People & Blogs\",\"offsetgroup\":\"People & Blogs\",\"orientation\":\"v\",\"showlegend\":false,\"text\":[2.0],\"textposition\":\"auto\",\"x\":[\"CHRofX4\"],\"xaxis\":\"x12\",\"y\":[2],\"yaxis\":\"y12\",\"type\":\"bar\"},{\"alignmentgroup\":\"True\",\"hovertemplate\":\"category_name=People & Blogs<br>month_week=05\\uc6d4 6\\uc8fc<br>channel_id=%{x}<br>video_id=%{text}<extra></extra>\",\"legendgroup\":\"People & Blogs\",\"marker\":{\"color\":\"#2E91E5\",\"pattern\":{\"shape\":\"\"}},\"name\":\"People & Blogs\",\"offsetgroup\":\"People & Blogs\",\"orientation\":\"v\",\"showlegend\":false,\"text\":[1.0],\"textposition\":\"auto\",\"x\":[\"CHLItMt\"],\"xaxis\":\"x13\",\"y\":[1],\"yaxis\":\"y13\",\"type\":\"bar\"},{\"alignmentgroup\":\"True\",\"hovertemplate\":\"category_name=People & Blogs<br>month_week=06\\uc6d4 1\\uc8fc<br>channel_id=%{x}<br>video_id=%{text}<extra></extra>\",\"legendgroup\":\"People & Blogs\",\"marker\":{\"color\":\"#2E91E5\",\"pattern\":{\"shape\":\"\"}},\"name\":\"People & Blogs\",\"offsetgroup\":\"People & Blogs\",\"orientation\":\"v\",\"showlegend\":false,\"text\":[3.0],\"textposition\":\"auto\",\"x\":[\"CHuDLnJ\"],\"xaxis\":\"x14\",\"y\":[3],\"yaxis\":\"y14\",\"type\":\"bar\"},{\"alignmentgroup\":\"True\",\"hovertemplate\":\"category_name=People & Blogs<br>month_week=06\\uc6d4 3\\uc8fc<br>channel_id=%{x}<br>video_id=%{text}<extra></extra>\",\"legendgroup\":\"People & Blogs\",\"marker\":{\"color\":\"#2E91E5\",\"pattern\":{\"shape\":\"\"}},\"name\":\"People & Blogs\",\"offsetgroup\":\"People & Blogs\",\"orientation\":\"v\",\"showlegend\":false,\"text\":[3.0,2.0],\"textposition\":\"auto\",\"x\":[\"CHXTyJZ\",\"CHtfriF\"],\"xaxis\":\"x16\",\"y\":[3,2],\"yaxis\":\"y16\",\"type\":\"bar\"},{\"alignmentgroup\":\"True\",\"hovertemplate\":\"category_name=People & Blogs<br>month_week=06\\uc6d4 5\\uc8fc<br>channel_id=%{x}<br>video_id=%{text}<extra></extra>\",\"legendgroup\":\"People & Blogs\",\"marker\":{\"color\":\"#2E91E5\",\"pattern\":{\"shape\":\"\"}},\"name\":\"People & Blogs\",\"offsetgroup\":\"People & Blogs\",\"orientation\":\"v\",\"showlegend\":false,\"text\":[2.0],\"textposition\":\"auto\",\"x\":[\"CH31-nU\"],\"xaxis\":\"x18\",\"y\":[2],\"yaxis\":\"y18\",\"type\":\"bar\"},{\"alignmentgroup\":\"True\",\"hovertemplate\":\"category_name=People & Blogs<br>month_week=07\\uc6d4 3\\uc8fc<br>channel_id=%{x}<br>video_id=%{text}<extra></extra>\",\"legendgroup\":\"People & Blogs\",\"marker\":{\"color\":\"#2E91E5\",\"pattern\":{\"shape\":\"\"}},\"name\":\"People & Blogs\",\"offsetgroup\":\"People & Blogs\",\"orientation\":\"v\",\"showlegend\":false,\"text\":[2.0],\"textposition\":\"auto\",\"x\":[\"CHONPqk\"],\"xaxis\":\"x21\",\"y\":[2],\"yaxis\":\"y21\",\"type\":\"bar\"},{\"alignmentgroup\":\"True\",\"hovertemplate\":\"category_name=People & Blogs<br>month_week=07\\uc6d4 4\\uc8fc<br>channel_id=%{x}<br>video_id=%{text}<extra></extra>\",\"legendgroup\":\"People & Blogs\",\"marker\":{\"color\":\"#2E91E5\",\"pattern\":{\"shape\":\"\"}},\"name\":\"People & Blogs\",\"offsetgroup\":\"People & Blogs\",\"orientation\":\"v\",\"showlegend\":false,\"text\":[2.0],\"textposition\":\"auto\",\"x\":[\"CHZ1wYQ\"],\"xaxis\":\"x22\",\"y\":[2],\"yaxis\":\"y22\",\"type\":\"bar\"},{\"alignmentgroup\":\"True\",\"hovertemplate\":\"category_name=Sports<br>month_week=03\\uc6d4 4\\uc8fc<br>channel_id=%{x}<br>video_id=%{text}<extra></extra>\",\"legendgroup\":\"Sports\",\"marker\":{\"color\":\"#E15F99\",\"pattern\":{\"shape\":\"\"}},\"name\":\"Sports\",\"offsetgroup\":\"Sports\",\"orientation\":\"v\",\"showlegend\":true,\"text\":[1.0],\"textposition\":\"auto\",\"x\":[\"CH2qVOO\"],\"xaxis\":\"x\",\"y\":[1],\"yaxis\":\"y\",\"type\":\"bar\"},{\"alignmentgroup\":\"True\",\"hovertemplate\":\"category_name=Sports<br>month_week=04\\uc6d4 2\\uc8fc<br>channel_id=%{x}<br>video_id=%{text}<extra></extra>\",\"legendgroup\":\"Sports\",\"marker\":{\"color\":\"#E15F99\",\"pattern\":{\"shape\":\"\"}},\"name\":\"Sports\",\"offsetgroup\":\"Sports\",\"orientation\":\"v\",\"showlegend\":false,\"text\":[3.0],\"textposition\":\"auto\",\"x\":[\"CHtm_Qo\"],\"xaxis\":\"x4\",\"y\":[3],\"yaxis\":\"y4\",\"type\":\"bar\"},{\"alignmentgroup\":\"True\",\"hovertemplate\":\"category_name=Sports<br>month_week=04\\uc6d4 4\\uc8fc<br>channel_id=%{x}<br>video_id=%{text}<extra></extra>\",\"legendgroup\":\"Sports\",\"marker\":{\"color\":\"#E15F99\",\"pattern\":{\"shape\":\"\"}},\"name\":\"Sports\",\"offsetgroup\":\"Sports\",\"orientation\":\"v\",\"showlegend\":false,\"text\":[2.0],\"textposition\":\"auto\",\"x\":[\"CHhb4gt\"],\"xaxis\":\"x6\",\"y\":[2],\"yaxis\":\"y6\",\"type\":\"bar\"},{\"alignmentgroup\":\"True\",\"hovertemplate\":\"category_name=Sports<br>month_week=05\\uc6d4 1\\uc8fc<br>channel_id=%{x}<br>video_id=%{text}<extra></extra>\",\"legendgroup\":\"Sports\",\"marker\":{\"color\":\"#E15F99\",\"pattern\":{\"shape\":\"\"}},\"name\":\"Sports\",\"offsetgroup\":\"Sports\",\"orientation\":\"v\",\"showlegend\":false,\"text\":[1.0],\"textposition\":\"auto\",\"x\":[\"CHunsfa\"],\"xaxis\":\"x8\",\"y\":[1],\"yaxis\":\"y8\",\"type\":\"bar\"},{\"alignmentgroup\":\"True\",\"hovertemplate\":\"category_name=Sports<br>month_week=05\\uc6d4 2\\uc8fc<br>channel_id=%{x}<br>video_id=%{text}<extra></extra>\",\"legendgroup\":\"Sports\",\"marker\":{\"color\":\"#E15F99\",\"pattern\":{\"shape\":\"\"}},\"name\":\"Sports\",\"offsetgroup\":\"Sports\",\"orientation\":\"v\",\"showlegend\":false,\"text\":[2.0],\"textposition\":\"auto\",\"x\":[\"CHunsfa\"],\"xaxis\":\"x9\",\"y\":[2],\"yaxis\":\"y9\",\"type\":\"bar\"},{\"alignmentgroup\":\"True\",\"hovertemplate\":\"category_name=Sports<br>month_week=06\\uc6d4 1\\uc8fc<br>channel_id=%{x}<br>video_id=%{text}<extra></extra>\",\"legendgroup\":\"Sports\",\"marker\":{\"color\":\"#E15F99\",\"pattern\":{\"shape\":\"\"}},\"name\":\"Sports\",\"offsetgroup\":\"Sports\",\"orientation\":\"v\",\"showlegend\":false,\"text\":[3.0],\"textposition\":\"auto\",\"x\":[\"CHpjOmw\"],\"xaxis\":\"x14\",\"y\":[3],\"yaxis\":\"y14\",\"type\":\"bar\"},{\"alignmentgroup\":\"True\",\"hovertemplate\":\"category_name=Sports<br>month_week=06\\uc6d4 2\\uc8fc<br>channel_id=%{x}<br>video_id=%{text}<extra></extra>\",\"legendgroup\":\"Sports\",\"marker\":{\"color\":\"#E15F99\",\"pattern\":{\"shape\":\"\"}},\"name\":\"Sports\",\"offsetgroup\":\"Sports\",\"orientation\":\"v\",\"showlegend\":false,\"text\":[4.0,3.0],\"textposition\":\"auto\",\"x\":[\"CHtybqq\",\"CHpjOmw\"],\"xaxis\":\"x15\",\"y\":[4,3],\"yaxis\":\"y15\",\"type\":\"bar\"},{\"alignmentgroup\":\"True\",\"hovertemplate\":\"category_name=Sports<br>month_week=06\\uc6d4 3\\uc8fc<br>channel_id=%{x}<br>video_id=%{text}<extra></extra>\",\"legendgroup\":\"Sports\",\"marker\":{\"color\":\"#E15F99\",\"pattern\":{\"shape\":\"\"}},\"name\":\"Sports\",\"offsetgroup\":\"Sports\",\"orientation\":\"v\",\"showlegend\":false,\"text\":[4.0],\"textposition\":\"auto\",\"x\":[\"CHtybqq\"],\"xaxis\":\"x16\",\"y\":[4],\"yaxis\":\"y16\",\"type\":\"bar\"},{\"alignmentgroup\":\"True\",\"hovertemplate\":\"category_name=Sports<br>month_week=06\\uc6d4 4\\uc8fc<br>channel_id=%{x}<br>video_id=%{text}<extra></extra>\",\"legendgroup\":\"Sports\",\"marker\":{\"color\":\"#E15F99\",\"pattern\":{\"shape\":\"\"}},\"name\":\"Sports\",\"offsetgroup\":\"Sports\",\"orientation\":\"v\",\"showlegend\":false,\"text\":[5.0,2.0],\"textposition\":\"auto\",\"x\":[\"CHtybqq\",\"CHhg51l\"],\"xaxis\":\"x17\",\"y\":[5,2],\"yaxis\":\"y17\",\"type\":\"bar\"},{\"alignmentgroup\":\"True\",\"hovertemplate\":\"category_name=Sports<br>month_week=06\\uc6d4 5\\uc8fc<br>channel_id=%{x}<br>video_id=%{text}<extra></extra>\",\"legendgroup\":\"Sports\",\"marker\":{\"color\":\"#E15F99\",\"pattern\":{\"shape\":\"\"}},\"name\":\"Sports\",\"offsetgroup\":\"Sports\",\"orientation\":\"v\",\"showlegend\":false,\"text\":[2.0],\"textposition\":\"auto\",\"x\":[\"CHtybqq\"],\"xaxis\":\"x18\",\"y\":[2],\"yaxis\":\"y18\",\"type\":\"bar\"},{\"alignmentgroup\":\"True\",\"hovertemplate\":\"category_name=Sports<br>month_week=07\\uc6d4 1\\uc8fc<br>channel_id=%{x}<br>video_id=%{text}<extra></extra>\",\"legendgroup\":\"Sports\",\"marker\":{\"color\":\"#E15F99\",\"pattern\":{\"shape\":\"\"}},\"name\":\"Sports\",\"offsetgroup\":\"Sports\",\"orientation\":\"v\",\"showlegend\":false,\"text\":[2.0],\"textposition\":\"auto\",\"x\":[\"CHQ2TX8\"],\"xaxis\":\"x19\",\"y\":[2],\"yaxis\":\"y19\",\"type\":\"bar\"},{\"alignmentgroup\":\"True\",\"hovertemplate\":\"category_name=Sports<br>month_week=07\\uc6d4 2\\uc8fc<br>channel_id=%{x}<br>video_id=%{text}<extra></extra>\",\"legendgroup\":\"Sports\",\"marker\":{\"color\":\"#E15F99\",\"pattern\":{\"shape\":\"\"}},\"name\":\"Sports\",\"offsetgroup\":\"Sports\",\"orientation\":\"v\",\"showlegend\":false,\"text\":[3.0,2.0],\"textposition\":\"auto\",\"x\":[\"CHtm_Qo\",\"CHkFGfv\"],\"xaxis\":\"x20\",\"y\":[3,2],\"yaxis\":\"y20\",\"type\":\"bar\"},{\"alignmentgroup\":\"True\",\"hovertemplate\":\"category_name=Sports<br>month_week=07\\uc6d4 3\\uc8fc<br>channel_id=%{x}<br>video_id=%{text}<extra></extra>\",\"legendgroup\":\"Sports\",\"marker\":{\"color\":\"#E15F99\",\"pattern\":{\"shape\":\"\"}},\"name\":\"Sports\",\"offsetgroup\":\"Sports\",\"orientation\":\"v\",\"showlegend\":false,\"text\":[2.0],\"textposition\":\"auto\",\"x\":[\"CHUQVGX\"],\"xaxis\":\"x21\",\"y\":[2],\"yaxis\":\"y21\",\"type\":\"bar\"},{\"alignmentgroup\":\"True\",\"hovertemplate\":\"category_name=Sports<br>month_week=07\\uc6d4 4\\uc8fc<br>channel_id=%{x}<br>video_id=%{text}<extra></extra>\",\"legendgroup\":\"Sports\",\"marker\":{\"color\":\"#E15F99\",\"pattern\":{\"shape\":\"\"}},\"name\":\"Sports\",\"offsetgroup\":\"Sports\",\"orientation\":\"v\",\"showlegend\":false,\"text\":[4.0,3.0,3.0],\"textposition\":\"auto\",\"x\":[\"CHArK9M\",\"CHYRrUD\",\"CHk4XjB\"],\"xaxis\":\"x22\",\"y\":[4,3,3],\"yaxis\":\"y22\",\"type\":\"bar\"},{\"alignmentgroup\":\"True\",\"hovertemplate\":\"category_name=Sports<br>month_week=07\\uc6d4 5\\uc8fc<br>channel_id=%{x}<br>video_id=%{text}<extra></extra>\",\"legendgroup\":\"Sports\",\"marker\":{\"color\":\"#E15F99\",\"pattern\":{\"shape\":\"\"}},\"name\":\"Sports\",\"offsetgroup\":\"Sports\",\"orientation\":\"v\",\"showlegend\":false,\"text\":[5.0,3.0,2.0],\"textposition\":\"auto\",\"x\":[\"CHYRrUD\",\"CHcQTRi\",\"CHUQVGX\"],\"xaxis\":\"x23\",\"y\":[5,3,2],\"yaxis\":\"y23\",\"type\":\"bar\"},{\"alignmentgroup\":\"True\",\"hovertemplate\":\"category_name=Entertainment<br>month_week=03\\uc6d4 4\\uc8fc<br>channel_id=%{x}<br>video_id=%{text}<extra></extra>\",\"legendgroup\":\"Entertainment\",\"marker\":{\"color\":\"#1CA71C\",\"pattern\":{\"shape\":\"\"}},\"name\":\"Entertainment\",\"offsetgroup\":\"Entertainment\",\"orientation\":\"v\",\"showlegend\":true,\"text\":[1.0,1.0,1.0],\"textposition\":\"auto\",\"x\":[\"CHweOkP\",\"CHriPmQ\",\"CHlzB2i\"],\"xaxis\":\"x\",\"y\":[1,1,1],\"yaxis\":\"y\",\"type\":\"bar\"},{\"alignmentgroup\":\"True\",\"hovertemplate\":\"category_name=Entertainment<br>month_week=03\\uc6d4 5\\uc8fc<br>channel_id=%{x}<br>video_id=%{text}<extra></extra>\",\"legendgroup\":\"Entertainment\",\"marker\":{\"color\":\"#1CA71C\",\"pattern\":{\"shape\":\"\"}},\"name\":\"Entertainment\",\"offsetgroup\":\"Entertainment\",\"orientation\":\"v\",\"showlegend\":false,\"text\":[2.0,2.0,2.0],\"textposition\":\"auto\",\"x\":[\"CH920m3\",\"CHaKod3\",\"CH5BMQO\"],\"xaxis\":\"x2\",\"y\":[2,2,2],\"yaxis\":\"y2\",\"type\":\"bar\"},{\"alignmentgroup\":\"True\",\"hovertemplate\":\"category_name=Entertainment<br>month_week=04\\uc6d4 1\\uc8fc<br>channel_id=%{x}<br>video_id=%{text}<extra></extra>\",\"legendgroup\":\"Entertainment\",\"marker\":{\"color\":\"#1CA71C\",\"pattern\":{\"shape\":\"\"}},\"name\":\"Entertainment\",\"offsetgroup\":\"Entertainment\",\"orientation\":\"v\",\"showlegend\":false,\"text\":[2.0],\"textposition\":\"auto\",\"x\":[\"CH0PsUG\"],\"xaxis\":\"x3\",\"y\":[2],\"yaxis\":\"y3\",\"type\":\"bar\"},{\"alignmentgroup\":\"True\",\"hovertemplate\":\"category_name=Entertainment<br>month_week=04\\uc6d4 2\\uc8fc<br>channel_id=%{x}<br>video_id=%{text}<extra></extra>\",\"legendgroup\":\"Entertainment\",\"marker\":{\"color\":\"#1CA71C\",\"pattern\":{\"shape\":\"\"}},\"name\":\"Entertainment\",\"offsetgroup\":\"Entertainment\",\"orientation\":\"v\",\"showlegend\":false,\"text\":[3.0,2.0],\"textposition\":\"auto\",\"x\":[\"CHIA-LP\",\"CHUyfkq\"],\"xaxis\":\"x4\",\"y\":[3,2],\"yaxis\":\"y4\",\"type\":\"bar\"},{\"alignmentgroup\":\"True\",\"hovertemplate\":\"category_name=Entertainment<br>month_week=04\\uc6d4 3\\uc8fc<br>channel_id=%{x}<br>video_id=%{text}<extra></extra>\",\"legendgroup\":\"Entertainment\",\"marker\":{\"color\":\"#1CA71C\",\"pattern\":{\"shape\":\"\"}},\"name\":\"Entertainment\",\"offsetgroup\":\"Entertainment\",\"orientation\":\"v\",\"showlegend\":false,\"text\":[5.0,3.0,3.0,2.0],\"textposition\":\"auto\",\"x\":[\"CHx6jsZ\",\"CHmONdw\",\"CHeSHil\",\"CH-BqPA\"],\"xaxis\":\"x5\",\"y\":[5,3,3,2],\"yaxis\":\"y5\",\"type\":\"bar\"},{\"alignmentgroup\":\"True\",\"hovertemplate\":\"category_name=Entertainment<br>month_week=04\\uc6d4 4\\uc8fc<br>channel_id=%{x}<br>video_id=%{text}<extra></extra>\",\"legendgroup\":\"Entertainment\",\"marker\":{\"color\":\"#1CA71C\",\"pattern\":{\"shape\":\"\"}},\"name\":\"Entertainment\",\"offsetgroup\":\"Entertainment\",\"orientation\":\"v\",\"showlegend\":false,\"text\":[3.0,3.0,3.0],\"textposition\":\"auto\",\"x\":[\"CHiwQRG\",\"CH5Ida8\",\"CHGsJRp\"],\"xaxis\":\"x6\",\"y\":[3,3,3],\"yaxis\":\"y6\",\"type\":\"bar\"},{\"alignmentgroup\":\"True\",\"hovertemplate\":\"category_name=Entertainment<br>month_week=04\\uc6d4 5\\uc8fc<br>channel_id=%{x}<br>video_id=%{text}<extra></extra>\",\"legendgroup\":\"Entertainment\",\"marker\":{\"color\":\"#1CA71C\",\"pattern\":{\"shape\":\"\"}},\"name\":\"Entertainment\",\"offsetgroup\":\"Entertainment\",\"orientation\":\"v\",\"showlegend\":false,\"text\":[3.0],\"textposition\":\"auto\",\"x\":[\"CHQ2O-i\"],\"xaxis\":\"x7\",\"y\":[3],\"yaxis\":\"y7\",\"type\":\"bar\"},{\"alignmentgroup\":\"True\",\"hovertemplate\":\"category_name=Entertainment<br>month_week=05\\uc6d4 1\\uc8fc<br>channel_id=%{x}<br>video_id=%{text}<extra></extra>\",\"legendgroup\":\"Entertainment\",\"marker\":{\"color\":\"#1CA71C\",\"pattern\":{\"shape\":\"\"}},\"name\":\"Entertainment\",\"offsetgroup\":\"Entertainment\",\"orientation\":\"v\",\"showlegend\":false,\"text\":[2.0,1.0],\"textposition\":\"auto\",\"x\":[\"CHQ2O-i\",\"CHyozK5\"],\"xaxis\":\"x8\",\"y\":[2,1],\"yaxis\":\"y8\",\"type\":\"bar\"},{\"alignmentgroup\":\"True\",\"hovertemplate\":\"category_name=Entertainment<br>month_week=05\\uc6d4 2\\uc8fc<br>channel_id=%{x}<br>video_id=%{text}<extra></extra>\",\"legendgroup\":\"Entertainment\",\"marker\":{\"color\":\"#1CA71C\",\"pattern\":{\"shape\":\"\"}},\"name\":\"Entertainment\",\"offsetgroup\":\"Entertainment\",\"orientation\":\"v\",\"showlegend\":false,\"text\":[3.0],\"textposition\":\"auto\",\"x\":[\"CHQ2O-i\"],\"xaxis\":\"x9\",\"y\":[3],\"yaxis\":\"y9\",\"type\":\"bar\"},{\"alignmentgroup\":\"True\",\"hovertemplate\":\"category_name=Entertainment<br>month_week=05\\uc6d4 3\\uc8fc<br>channel_id=%{x}<br>video_id=%{text}<extra></extra>\",\"legendgroup\":\"Entertainment\",\"marker\":{\"color\":\"#1CA71C\",\"pattern\":{\"shape\":\"\"}},\"name\":\"Entertainment\",\"offsetgroup\":\"Entertainment\",\"orientation\":\"v\",\"showlegend\":false,\"text\":[4.0,3.0,3.0,2.0],\"textposition\":\"auto\",\"x\":[\"CHoXoV4\",\"CHQ2O-i\",\"CH_Fxf0\",\"CHTnafh\"],\"xaxis\":\"x10\",\"y\":[4,3,3,2],\"yaxis\":\"y10\",\"type\":\"bar\"},{\"alignmentgroup\":\"True\",\"hovertemplate\":\"category_name=Entertainment<br>month_week=05\\uc6d4 4\\uc8fc<br>channel_id=%{x}<br>video_id=%{text}<extra></extra>\",\"legendgroup\":\"Entertainment\",\"marker\":{\"color\":\"#1CA71C\",\"pattern\":{\"shape\":\"\"}},\"name\":\"Entertainment\",\"offsetgroup\":\"Entertainment\",\"orientation\":\"v\",\"showlegend\":false,\"text\":[2.0,2.0],\"textposition\":\"auto\",\"x\":[\"CHWYzc_\",\"CHPde4g\"],\"xaxis\":\"x11\",\"y\":[2,2],\"yaxis\":\"y11\",\"type\":\"bar\"},{\"alignmentgroup\":\"True\",\"hovertemplate\":\"category_name=Entertainment<br>month_week=05\\uc6d4 5\\uc8fc<br>channel_id=%{x}<br>video_id=%{text}<extra></extra>\",\"legendgroup\":\"Entertainment\",\"marker\":{\"color\":\"#1CA71C\",\"pattern\":{\"shape\":\"\"}},\"name\":\"Entertainment\",\"offsetgroup\":\"Entertainment\",\"orientation\":\"v\",\"showlegend\":false,\"text\":[3.0,2.0],\"textposition\":\"auto\",\"x\":[\"CHPde4g\",\"CH-VbFg\"],\"xaxis\":\"x12\",\"y\":[3,2],\"yaxis\":\"y12\",\"type\":\"bar\"},{\"alignmentgroup\":\"True\",\"hovertemplate\":\"category_name=Entertainment<br>month_week=05\\uc6d4 6\\uc8fc<br>channel_id=%{x}<br>video_id=%{text}<extra></extra>\",\"legendgroup\":\"Entertainment\",\"marker\":{\"color\":\"#1CA71C\",\"pattern\":{\"shape\":\"\"}},\"name\":\"Entertainment\",\"offsetgroup\":\"Entertainment\",\"orientation\":\"v\",\"showlegend\":false,\"text\":[2.0,2.0,1.0],\"textposition\":\"auto\",\"x\":[\"CHH1oRy\",\"CHiwQRG\",\"CHy1fru\"],\"xaxis\":\"x13\",\"y\":[2,2,1],\"yaxis\":\"y13\",\"type\":\"bar\"},{\"alignmentgroup\":\"True\",\"hovertemplate\":\"category_name=Entertainment<br>month_week=06\\uc6d4 1\\uc8fc<br>channel_id=%{x}<br>video_id=%{text}<extra></extra>\",\"legendgroup\":\"Entertainment\",\"marker\":{\"color\":\"#1CA71C\",\"pattern\":{\"shape\":\"\"}},\"name\":\"Entertainment\",\"offsetgroup\":\"Entertainment\",\"orientation\":\"v\",\"showlegend\":false,\"text\":[3.0,2.0,2.0],\"textposition\":\"auto\",\"x\":[\"CH78PMQ\",\"CHF8W68\",\"CHIA-LP\"],\"xaxis\":\"x14\",\"y\":[3,2,2],\"yaxis\":\"y14\",\"type\":\"bar\"},{\"alignmentgroup\":\"True\",\"hovertemplate\":\"category_name=Entertainment<br>month_week=06\\uc6d4 2\\uc8fc<br>channel_id=%{x}<br>video_id=%{text}<extra></extra>\",\"legendgroup\":\"Entertainment\",\"marker\":{\"color\":\"#1CA71C\",\"pattern\":{\"shape\":\"\"}},\"name\":\"Entertainment\",\"offsetgroup\":\"Entertainment\",\"orientation\":\"v\",\"showlegend\":false,\"text\":[5.0],\"textposition\":\"auto\",\"x\":[\"CHUyfkq\"],\"xaxis\":\"x15\",\"y\":[5],\"yaxis\":\"y15\",\"type\":\"bar\"},{\"alignmentgroup\":\"True\",\"hovertemplate\":\"category_name=Entertainment<br>month_week=06\\uc6d4 3\\uc8fc<br>channel_id=%{x}<br>video_id=%{text}<extra></extra>\",\"legendgroup\":\"Entertainment\",\"marker\":{\"color\":\"#1CA71C\",\"pattern\":{\"shape\":\"\"}},\"name\":\"Entertainment\",\"offsetgroup\":\"Entertainment\",\"orientation\":\"v\",\"showlegend\":false,\"text\":[2.0],\"textposition\":\"auto\",\"x\":[\"CHrhH1d\"],\"xaxis\":\"x16\",\"y\":[2],\"yaxis\":\"y16\",\"type\":\"bar\"},{\"alignmentgroup\":\"True\",\"hovertemplate\":\"category_name=Entertainment<br>month_week=06\\uc6d4 4\\uc8fc<br>channel_id=%{x}<br>video_id=%{text}<extra></extra>\",\"legendgroup\":\"Entertainment\",\"marker\":{\"color\":\"#1CA71C\",\"pattern\":{\"shape\":\"\"}},\"name\":\"Entertainment\",\"offsetgroup\":\"Entertainment\",\"orientation\":\"v\",\"showlegend\":false,\"text\":[2.0,2.0],\"textposition\":\"auto\",\"x\":[\"CHweOkP\",\"CHVWmCR\"],\"xaxis\":\"x17\",\"y\":[2,2],\"yaxis\":\"y17\",\"type\":\"bar\"},{\"alignmentgroup\":\"True\",\"hovertemplate\":\"category_name=Entertainment<br>month_week=06\\uc6d4 5\\uc8fc<br>channel_id=%{x}<br>video_id=%{text}<extra></extra>\",\"legendgroup\":\"Entertainment\",\"marker\":{\"color\":\"#1CA71C\",\"pattern\":{\"shape\":\"\"}},\"name\":\"Entertainment\",\"offsetgroup\":\"Entertainment\",\"orientation\":\"v\",\"showlegend\":false,\"text\":[2.0],\"textposition\":\"auto\",\"x\":[\"CHjToDB\"],\"xaxis\":\"x18\",\"y\":[2],\"yaxis\":\"y18\",\"type\":\"bar\"},{\"alignmentgroup\":\"True\",\"hovertemplate\":\"category_name=Entertainment<br>month_week=07\\uc6d4 1\\uc8fc<br>channel_id=%{x}<br>video_id=%{text}<extra></extra>\",\"legendgroup\":\"Entertainment\",\"marker\":{\"color\":\"#1CA71C\",\"pattern\":{\"shape\":\"\"}},\"name\":\"Entertainment\",\"offsetgroup\":\"Entertainment\",\"orientation\":\"v\",\"showlegend\":false,\"text\":[2.0,2.0,2.0,2.0],\"textposition\":\"auto\",\"x\":[\"CHiEEF5\",\"CHQ2O-i\",\"CHOHM2N\",\"CHx6jsZ\"],\"xaxis\":\"x19\",\"y\":[2,2,2,2],\"yaxis\":\"y19\",\"type\":\"bar\"},{\"alignmentgroup\":\"True\",\"hovertemplate\":\"category_name=Entertainment<br>month_week=07\\uc6d4 2\\uc8fc<br>channel_id=%{x}<br>video_id=%{text}<extra></extra>\",\"legendgroup\":\"Entertainment\",\"marker\":{\"color\":\"#1CA71C\",\"pattern\":{\"shape\":\"\"}},\"name\":\"Entertainment\",\"offsetgroup\":\"Entertainment\",\"orientation\":\"v\",\"showlegend\":false,\"text\":[2.0],\"textposition\":\"auto\",\"x\":[\"CHnLeqv\"],\"xaxis\":\"x20\",\"y\":[2],\"yaxis\":\"y20\",\"type\":\"bar\"},{\"alignmentgroup\":\"True\",\"hovertemplate\":\"category_name=Entertainment<br>month_week=07\\uc6d4 3\\uc8fc<br>channel_id=%{x}<br>video_id=%{text}<extra></extra>\",\"legendgroup\":\"Entertainment\",\"marker\":{\"color\":\"#1CA71C\",\"pattern\":{\"shape\":\"\"}},\"name\":\"Entertainment\",\"offsetgroup\":\"Entertainment\",\"orientation\":\"v\",\"showlegend\":false,\"text\":[2.0],\"textposition\":\"auto\",\"x\":[\"CHy-swB\"],\"xaxis\":\"x21\",\"y\":[2],\"yaxis\":\"y21\",\"type\":\"bar\"},{\"alignmentgroup\":\"True\",\"hovertemplate\":\"category_name=Entertainment<br>month_week=07\\uc6d4 4\\uc8fc<br>channel_id=%{x}<br>video_id=%{text}<extra></extra>\",\"legendgroup\":\"Entertainment\",\"marker\":{\"color\":\"#1CA71C\",\"pattern\":{\"shape\":\"\"}},\"name\":\"Entertainment\",\"offsetgroup\":\"Entertainment\",\"orientation\":\"v\",\"showlegend\":false,\"text\":[2.0],\"textposition\":\"auto\",\"x\":[\"CH0PsUG\"],\"xaxis\":\"x22\",\"y\":[2],\"yaxis\":\"y22\",\"type\":\"bar\"},{\"alignmentgroup\":\"True\",\"hovertemplate\":\"category_name=Entertainment<br>month_week=07\\uc6d4 5\\uc8fc<br>channel_id=%{x}<br>video_id=%{text}<extra></extra>\",\"legendgroup\":\"Entertainment\",\"marker\":{\"color\":\"#1CA71C\",\"pattern\":{\"shape\":\"\"}},\"name\":\"Entertainment\",\"offsetgroup\":\"Entertainment\",\"orientation\":\"v\",\"showlegend\":false,\"text\":[2.0],\"textposition\":\"auto\",\"x\":[\"CHYZv9v\"],\"xaxis\":\"x23\",\"y\":[2],\"yaxis\":\"y23\",\"type\":\"bar\"},{\"alignmentgroup\":\"True\",\"hovertemplate\":\"category_name=News & Politics<br>month_week=03\\uc6d4 5\\uc8fc<br>channel_id=%{x}<br>video_id=%{text}<extra></extra>\",\"legendgroup\":\"News & Politics\",\"marker\":{\"color\":\"#FB0D0D\",\"pattern\":{\"shape\":\"\"}},\"name\":\"News & Politics\",\"offsetgroup\":\"News & Politics\",\"orientation\":\"v\",\"showlegend\":true,\"text\":[2.0],\"textposition\":\"auto\",\"x\":[\"CHG9aFJ\"],\"xaxis\":\"x2\",\"y\":[2],\"yaxis\":\"y2\",\"type\":\"bar\"},{\"alignmentgroup\":\"True\",\"hovertemplate\":\"category_name=News & Politics<br>month_week=04\\uc6d4 3\\uc8fc<br>channel_id=%{x}<br>video_id=%{text}<extra></extra>\",\"legendgroup\":\"News & Politics\",\"marker\":{\"color\":\"#FB0D0D\",\"pattern\":{\"shape\":\"\"}},\"name\":\"News & Politics\",\"offsetgroup\":\"News & Politics\",\"orientation\":\"v\",\"showlegend\":false,\"text\":[3.0],\"textposition\":\"auto\",\"x\":[\"CHMEbRp\"],\"xaxis\":\"x5\",\"y\":[3],\"yaxis\":\"y5\",\"type\":\"bar\"},{\"alignmentgroup\":\"True\",\"hovertemplate\":\"category_name=News & Politics<br>month_week=04\\uc6d4 5\\uc8fc<br>channel_id=%{x}<br>video_id=%{text}<extra></extra>\",\"legendgroup\":\"News & Politics\",\"marker\":{\"color\":\"#FB0D0D\",\"pattern\":{\"shape\":\"\"}},\"name\":\"News & Politics\",\"offsetgroup\":\"News & Politics\",\"orientation\":\"v\",\"showlegend\":false,\"text\":[2.0,2.0],\"textposition\":\"auto\",\"x\":[\"CHF4Wxd\",\"CH1aS5C\"],\"xaxis\":\"x7\",\"y\":[2,2],\"yaxis\":\"y7\",\"type\":\"bar\"},{\"alignmentgroup\":\"True\",\"hovertemplate\":\"category_name=News & Politics<br>month_week=05\\uc6d4 1\\uc8fc<br>channel_id=%{x}<br>video_id=%{text}<extra></extra>\",\"legendgroup\":\"News & Politics\",\"marker\":{\"color\":\"#FB0D0D\",\"pattern\":{\"shape\":\"\"}},\"name\":\"News & Politics\",\"offsetgroup\":\"News & Politics\",\"orientation\":\"v\",\"showlegend\":false,\"text\":[2.0],\"textposition\":\"auto\",\"x\":[\"CHfq4V1\"],\"xaxis\":\"x8\",\"y\":[2],\"yaxis\":\"y8\",\"type\":\"bar\"},{\"alignmentgroup\":\"True\",\"hovertemplate\":\"category_name=News & Politics<br>month_week=05\\uc6d4 2\\uc8fc<br>channel_id=%{x}<br>video_id=%{text}<extra></extra>\",\"legendgroup\":\"News & Politics\",\"marker\":{\"color\":\"#FB0D0D\",\"pattern\":{\"shape\":\"\"}},\"name\":\"News & Politics\",\"offsetgroup\":\"News & Politics\",\"orientation\":\"v\",\"showlegend\":false,\"text\":[2.0],\"textposition\":\"auto\",\"x\":[\"CHwRljh\"],\"xaxis\":\"x9\",\"y\":[2],\"yaxis\":\"y9\",\"type\":\"bar\"},{\"alignmentgroup\":\"True\",\"hovertemplate\":\"category_name=News & Politics<br>month_week=06\\uc6d4 5\\uc8fc<br>channel_id=%{x}<br>video_id=%{text}<extra></extra>\",\"legendgroup\":\"News & Politics\",\"marker\":{\"color\":\"#FB0D0D\",\"pattern\":{\"shape\":\"\"}},\"name\":\"News & Politics\",\"offsetgroup\":\"News & Politics\",\"orientation\":\"v\",\"showlegend\":false,\"text\":[2.0],\"textposition\":\"auto\",\"x\":[\"CHhlgI3\"],\"xaxis\":\"x18\",\"y\":[2],\"yaxis\":\"y18\",\"type\":\"bar\"},{\"alignmentgroup\":\"True\",\"hovertemplate\":\"category_name=Comedy<br>month_week=04\\uc6d4 1\\uc8fc<br>channel_id=%{x}<br>video_id=%{text}<extra></extra>\",\"legendgroup\":\"Comedy\",\"marker\":{\"color\":\"#DA16FF\",\"pattern\":{\"shape\":\"\"}},\"name\":\"Comedy\",\"offsetgroup\":\"Comedy\",\"orientation\":\"v\",\"showlegend\":true,\"text\":[2.0,2.0],\"textposition\":\"auto\",\"x\":[\"CHmzMtX\",\"CHSc2Dc\"],\"xaxis\":\"x3\",\"y\":[2,2],\"yaxis\":\"y3\",\"type\":\"bar\"},{\"alignmentgroup\":\"True\",\"hovertemplate\":\"category_name=Comedy<br>month_week=04\\uc6d4 2\\uc8fc<br>channel_id=%{x}<br>video_id=%{text}<extra></extra>\",\"legendgroup\":\"Comedy\",\"marker\":{\"color\":\"#DA16FF\",\"pattern\":{\"shape\":\"\"}},\"name\":\"Comedy\",\"offsetgroup\":\"Comedy\",\"orientation\":\"v\",\"showlegend\":false,\"text\":[3.0],\"textposition\":\"auto\",\"x\":[\"CHmzMtX\"],\"xaxis\":\"x4\",\"y\":[3],\"yaxis\":\"y4\",\"type\":\"bar\"},{\"alignmentgroup\":\"True\",\"hovertemplate\":\"category_name=Comedy<br>month_week=04\\uc6d4 5\\uc8fc<br>channel_id=%{x}<br>video_id=%{text}<extra></extra>\",\"legendgroup\":\"Comedy\",\"marker\":{\"color\":\"#DA16FF\",\"pattern\":{\"shape\":\"\"}},\"name\":\"Comedy\",\"offsetgroup\":\"Comedy\",\"orientation\":\"v\",\"showlegend\":false,\"text\":[2.0],\"textposition\":\"auto\",\"x\":[\"CH20WKI\"],\"xaxis\":\"x7\",\"y\":[2],\"yaxis\":\"y7\",\"type\":\"bar\"},{\"alignmentgroup\":\"True\",\"hovertemplate\":\"category_name=Comedy<br>month_week=06\\uc6d4 3\\uc8fc<br>channel_id=%{x}<br>video_id=%{text}<extra></extra>\",\"legendgroup\":\"Comedy\",\"marker\":{\"color\":\"#DA16FF\",\"pattern\":{\"shape\":\"\"}},\"name\":\"Comedy\",\"offsetgroup\":\"Comedy\",\"orientation\":\"v\",\"showlegend\":false,\"text\":[2.0],\"textposition\":\"auto\",\"x\":[\"CH9ZLv1\"],\"xaxis\":\"x16\",\"y\":[2],\"yaxis\":\"y16\",\"type\":\"bar\"},{\"alignmentgroup\":\"True\",\"hovertemplate\":\"category_name=Comedy<br>month_week=07\\uc6d4 3\\uc8fc<br>channel_id=%{x}<br>video_id=%{text}<extra></extra>\",\"legendgroup\":\"Comedy\",\"marker\":{\"color\":\"#DA16FF\",\"pattern\":{\"shape\":\"\"}},\"name\":\"Comedy\",\"offsetgroup\":\"Comedy\",\"orientation\":\"v\",\"showlegend\":false,\"text\":[3.0],\"textposition\":\"auto\",\"x\":[\"CH8-Th8\"],\"xaxis\":\"x21\",\"y\":[3],\"yaxis\":\"y21\",\"type\":\"bar\"},{\"alignmentgroup\":\"True\",\"hovertemplate\":\"category_name=Music<br>month_week=04\\uc6d4 1\\uc8fc<br>channel_id=%{x}<br>video_id=%{text}<extra></extra>\",\"legendgroup\":\"Music\",\"marker\":{\"color\":\"#222A2A\",\"pattern\":{\"shape\":\"\"}},\"name\":\"Music\",\"offsetgroup\":\"Music\",\"orientation\":\"v\",\"showlegend\":true,\"text\":[2.0],\"textposition\":\"auto\",\"x\":[\"CHabon8\"],\"xaxis\":\"x3\",\"y\":[2],\"yaxis\":\"y3\",\"type\":\"bar\"},{\"alignmentgroup\":\"True\",\"hovertemplate\":\"category_name=Music<br>month_week=05\\uc6d4 4\\uc8fc<br>channel_id=%{x}<br>video_id=%{text}<extra></extra>\",\"legendgroup\":\"Music\",\"marker\":{\"color\":\"#222A2A\",\"pattern\":{\"shape\":\"\"}},\"name\":\"Music\",\"offsetgroup\":\"Music\",\"orientation\":\"v\",\"showlegend\":false,\"text\":[3.0,3.0],\"textposition\":\"auto\",\"x\":[\"CH3IZKs\",\"CH9GtSL\"],\"xaxis\":\"x11\",\"y\":[3,3],\"yaxis\":\"y11\",\"type\":\"bar\"},{\"alignmentgroup\":\"True\",\"hovertemplate\":\"category_name=Music<br>month_week=05\\uc6d4 5\\uc8fc<br>channel_id=%{x}<br>video_id=%{text}<extra></extra>\",\"legendgroup\":\"Music\",\"marker\":{\"color\":\"#222A2A\",\"pattern\":{\"shape\":\"\"}},\"name\":\"Music\",\"offsetgroup\":\"Music\",\"orientation\":\"v\",\"showlegend\":false,\"text\":[3.0],\"textposition\":\"auto\",\"x\":[\"CHLkAep\"],\"xaxis\":\"x12\",\"y\":[3],\"yaxis\":\"y12\",\"type\":\"bar\"},{\"alignmentgroup\":\"True\",\"hovertemplate\":\"category_name=Music<br>month_week=05\\uc6d4 6\\uc8fc<br>channel_id=%{x}<br>video_id=%{text}<extra></extra>\",\"legendgroup\":\"Music\",\"marker\":{\"color\":\"#222A2A\",\"pattern\":{\"shape\":\"\"}},\"name\":\"Music\",\"offsetgroup\":\"Music\",\"orientation\":\"v\",\"showlegend\":false,\"text\":[1.0],\"textposition\":\"auto\",\"x\":[\"CHzCedB\"],\"xaxis\":\"x13\",\"y\":[1],\"yaxis\":\"y13\",\"type\":\"bar\"},{\"alignmentgroup\":\"True\",\"hovertemplate\":\"category_name=Music<br>month_week=06\\uc6d4 2\\uc8fc<br>channel_id=%{x}<br>video_id=%{text}<extra></extra>\",\"legendgroup\":\"Music\",\"marker\":{\"color\":\"#222A2A\",\"pattern\":{\"shape\":\"\"}},\"name\":\"Music\",\"offsetgroup\":\"Music\",\"orientation\":\"v\",\"showlegend\":false,\"text\":[3.0],\"textposition\":\"auto\",\"x\":[\"CHviI9l\"],\"xaxis\":\"x15\",\"y\":[3],\"yaxis\":\"y15\",\"type\":\"bar\"},{\"alignmentgroup\":\"True\",\"hovertemplate\":\"category_name=Music<br>month_week=06\\uc6d4 4\\uc8fc<br>channel_id=%{x}<br>video_id=%{text}<extra></extra>\",\"legendgroup\":\"Music\",\"marker\":{\"color\":\"#222A2A\",\"pattern\":{\"shape\":\"\"}},\"name\":\"Music\",\"offsetgroup\":\"Music\",\"orientation\":\"v\",\"showlegend\":false,\"text\":[2.0],\"textposition\":\"auto\",\"x\":[\"CHoRXPc\"],\"xaxis\":\"x17\",\"y\":[2],\"yaxis\":\"y17\",\"type\":\"bar\"},{\"alignmentgroup\":\"True\",\"hovertemplate\":\"category_name=Music<br>month_week=06\\uc6d4 5\\uc8fc<br>channel_id=%{x}<br>video_id=%{text}<extra></extra>\",\"legendgroup\":\"Music\",\"marker\":{\"color\":\"#222A2A\",\"pattern\":{\"shape\":\"\"}},\"name\":\"Music\",\"offsetgroup\":\"Music\",\"orientation\":\"v\",\"showlegend\":false,\"text\":[3.0],\"textposition\":\"auto\",\"x\":[\"CHuKdaT\"],\"xaxis\":\"x18\",\"y\":[3],\"yaxis\":\"y18\",\"type\":\"bar\"},{\"alignmentgroup\":\"True\",\"hovertemplate\":\"category_name=Music<br>month_week=07\\uc6d4 3\\uc8fc<br>channel_id=%{x}<br>video_id=%{text}<extra></extra>\",\"legendgroup\":\"Music\",\"marker\":{\"color\":\"#222A2A\",\"pattern\":{\"shape\":\"\"}},\"name\":\"Music\",\"offsetgroup\":\"Music\",\"orientation\":\"v\",\"showlegend\":false,\"text\":[3.0],\"textposition\":\"auto\",\"x\":[\"CHLkAep\"],\"xaxis\":\"x21\",\"y\":[3],\"yaxis\":\"y21\",\"type\":\"bar\"},{\"alignmentgroup\":\"True\",\"hovertemplate\":\"category_name=Music<br>month_week=07\\uc6d4 5\\uc8fc<br>channel_id=%{x}<br>video_id=%{text}<extra></extra>\",\"legendgroup\":\"Music\",\"marker\":{\"color\":\"#222A2A\",\"pattern\":{\"shape\":\"\"}},\"name\":\"Music\",\"offsetgroup\":\"Music\",\"orientation\":\"v\",\"showlegend\":false,\"text\":[3.0],\"textposition\":\"auto\",\"x\":[\"CH-FQUI\"],\"xaxis\":\"x23\",\"y\":[3],\"yaxis\":\"y23\",\"type\":\"bar\"},{\"alignmentgroup\":\"True\",\"hovertemplate\":\"category_name=Gaming<br>month_week=04\\uc6d4 1\\uc8fc<br>channel_id=%{x}<br>video_id=%{text}<extra></extra>\",\"legendgroup\":\"Gaming\",\"marker\":{\"color\":\"#B68100\",\"pattern\":{\"shape\":\"\"}},\"name\":\"Gaming\",\"offsetgroup\":\"Gaming\",\"orientation\":\"v\",\"showlegend\":true,\"text\":[2.0],\"textposition\":\"auto\",\"x\":[\"CHDBAVz\"],\"xaxis\":\"x3\",\"y\":[2],\"yaxis\":\"y3\",\"type\":\"bar\"},{\"alignmentgroup\":\"True\",\"hovertemplate\":\"category_name=Gaming<br>month_week=06\\uc6d4 2\\uc8fc<br>channel_id=%{x}<br>video_id=%{text}<extra></extra>\",\"legendgroup\":\"Gaming\",\"marker\":{\"color\":\"#B68100\",\"pattern\":{\"shape\":\"\"}},\"name\":\"Gaming\",\"offsetgroup\":\"Gaming\",\"orientation\":\"v\",\"showlegend\":false,\"text\":[2.0],\"textposition\":\"auto\",\"x\":[\"CHefUNE\"],\"xaxis\":\"x15\",\"y\":[2],\"yaxis\":\"y15\",\"type\":\"bar\"},{\"alignmentgroup\":\"True\",\"hovertemplate\":\"category_name=Film & Animation<br>month_week=05\\uc6d4 2\\uc8fc<br>channel_id=%{x}<br>video_id=%{text}<extra></extra>\",\"legendgroup\":\"Film & Animation\",\"marker\":{\"color\":\"#750D86\",\"pattern\":{\"shape\":\"\"}},\"name\":\"Film & Animation\",\"offsetgroup\":\"Film & Animation\",\"orientation\":\"v\",\"showlegend\":true,\"text\":[2.0],\"textposition\":\"auto\",\"x\":[\"CHszFjh\"],\"xaxis\":\"x9\",\"y\":[2],\"yaxis\":\"y9\",\"type\":\"bar\"},{\"alignmentgroup\":\"True\",\"hovertemplate\":\"category_name=Pets & Animals<br>month_week=05\\uc6d4 5\\uc8fc<br>channel_id=%{x}<br>video_id=%{text}<extra></extra>\",\"legendgroup\":\"Pets & Animals\",\"marker\":{\"color\":\"#EB663B\",\"pattern\":{\"shape\":\"\"}},\"name\":\"Pets & Animals\",\"offsetgroup\":\"Pets & Animals\",\"orientation\":\"v\",\"showlegend\":true,\"text\":[2.0],\"textposition\":\"auto\",\"x\":[\"CH22go5\"],\"xaxis\":\"x12\",\"y\":[2],\"yaxis\":\"y12\",\"type\":\"bar\"},{\"alignmentgroup\":\"True\",\"hovertemplate\":\"category_name=Pets & Animals<br>month_week=07\\uc6d4 2\\uc8fc<br>channel_id=%{x}<br>video_id=%{text}<extra></extra>\",\"legendgroup\":\"Pets & Animals\",\"marker\":{\"color\":\"#EB663B\",\"pattern\":{\"shape\":\"\"}},\"name\":\"Pets & Animals\",\"offsetgroup\":\"Pets & Animals\",\"orientation\":\"v\",\"showlegend\":false,\"text\":[3.0],\"textposition\":\"auto\",\"x\":[\"CH29-Il\"],\"xaxis\":\"x20\",\"y\":[3],\"yaxis\":\"y20\",\"type\":\"bar\"},{\"alignmentgroup\":\"True\",\"hovertemplate\":\"category_name=Travel & Events<br>month_week=07\\uc6d4 2\\uc8fc<br>channel_id=%{x}<br>video_id=%{text}<extra></extra>\",\"legendgroup\":\"Travel & Events\",\"marker\":{\"color\":\"#511CFB\",\"pattern\":{\"shape\":\"\"}},\"name\":\"Travel & Events\",\"offsetgroup\":\"Travel & Events\",\"orientation\":\"v\",\"showlegend\":true,\"text\":[2.0],\"textposition\":\"auto\",\"x\":[\"CHlRNDV\"],\"xaxis\":\"x20\",\"y\":[2],\"yaxis\":\"y20\",\"type\":\"bar\"}],                        {\"template\":{\"data\":{\"bar\":[{\"error_x\":{\"color\":\"#2a3f5f\"},\"error_y\":{\"color\":\"#2a3f5f\"},\"marker\":{\"line\":{\"color\":\"#E5ECF6\",\"width\":0.5},\"pattern\":{\"fillmode\":\"overlay\",\"size\":10,\"solidity\":0.2}},\"type\":\"bar\"}],\"barpolar\":[{\"marker\":{\"line\":{\"color\":\"#E5ECF6\",\"width\":0.5},\"pattern\":{\"fillmode\":\"overlay\",\"size\":10,\"solidity\":0.2}},\"type\":\"barpolar\"}],\"carpet\":[{\"aaxis\":{\"endlinecolor\":\"#2a3f5f\",\"gridcolor\":\"white\",\"linecolor\":\"white\",\"minorgridcolor\":\"white\",\"startlinecolor\":\"#2a3f5f\"},\"baxis\":{\"endlinecolor\":\"#2a3f5f\",\"gridcolor\":\"white\",\"linecolor\":\"white\",\"minorgridcolor\":\"white\",\"startlinecolor\":\"#2a3f5f\"},\"type\":\"carpet\"}],\"choropleth\":[{\"colorbar\":{\"outlinewidth\":0,\"ticks\":\"\"},\"type\":\"choropleth\"}],\"contour\":[{\"colorbar\":{\"outlinewidth\":0,\"ticks\":\"\"},\"colorscale\":[[0.0,\"#0d0887\"],[0.1111111111111111,\"#46039f\"],[0.2222222222222222,\"#7201a8\"],[0.3333333333333333,\"#9c179e\"],[0.4444444444444444,\"#bd3786\"],[0.5555555555555556,\"#d8576b\"],[0.6666666666666666,\"#ed7953\"],[0.7777777777777778,\"#fb9f3a\"],[0.8888888888888888,\"#fdca26\"],[1.0,\"#f0f921\"]],\"type\":\"contour\"}],\"contourcarpet\":[{\"colorbar\":{\"outlinewidth\":0,\"ticks\":\"\"},\"type\":\"contourcarpet\"}],\"heatmap\":[{\"colorbar\":{\"outlinewidth\":0,\"ticks\":\"\"},\"colorscale\":[[0.0,\"#0d0887\"],[0.1111111111111111,\"#46039f\"],[0.2222222222222222,\"#7201a8\"],[0.3333333333333333,\"#9c179e\"],[0.4444444444444444,\"#bd3786\"],[0.5555555555555556,\"#d8576b\"],[0.6666666666666666,\"#ed7953\"],[0.7777777777777778,\"#fb9f3a\"],[0.8888888888888888,\"#fdca26\"],[1.0,\"#f0f921\"]],\"type\":\"heatmap\"}],\"heatmapgl\":[{\"colorbar\":{\"outlinewidth\":0,\"ticks\":\"\"},\"colorscale\":[[0.0,\"#0d0887\"],[0.1111111111111111,\"#46039f\"],[0.2222222222222222,\"#7201a8\"],[0.3333333333333333,\"#9c179e\"],[0.4444444444444444,\"#bd3786\"],[0.5555555555555556,\"#d8576b\"],[0.6666666666666666,\"#ed7953\"],[0.7777777777777778,\"#fb9f3a\"],[0.8888888888888888,\"#fdca26\"],[1.0,\"#f0f921\"]],\"type\":\"heatmapgl\"}],\"histogram\":[{\"marker\":{\"pattern\":{\"fillmode\":\"overlay\",\"size\":10,\"solidity\":0.2}},\"type\":\"histogram\"}],\"histogram2d\":[{\"colorbar\":{\"outlinewidth\":0,\"ticks\":\"\"},\"colorscale\":[[0.0,\"#0d0887\"],[0.1111111111111111,\"#46039f\"],[0.2222222222222222,\"#7201a8\"],[0.3333333333333333,\"#9c179e\"],[0.4444444444444444,\"#bd3786\"],[0.5555555555555556,\"#d8576b\"],[0.6666666666666666,\"#ed7953\"],[0.7777777777777778,\"#fb9f3a\"],[0.8888888888888888,\"#fdca26\"],[1.0,\"#f0f921\"]],\"type\":\"histogram2d\"}],\"histogram2dcontour\":[{\"colorbar\":{\"outlinewidth\":0,\"ticks\":\"\"},\"colorscale\":[[0.0,\"#0d0887\"],[0.1111111111111111,\"#46039f\"],[0.2222222222222222,\"#7201a8\"],[0.3333333333333333,\"#9c179e\"],[0.4444444444444444,\"#bd3786\"],[0.5555555555555556,\"#d8576b\"],[0.6666666666666666,\"#ed7953\"],[0.7777777777777778,\"#fb9f3a\"],[0.8888888888888888,\"#fdca26\"],[1.0,\"#f0f921\"]],\"type\":\"histogram2dcontour\"}],\"mesh3d\":[{\"colorbar\":{\"outlinewidth\":0,\"ticks\":\"\"},\"type\":\"mesh3d\"}],\"parcoords\":[{\"line\":{\"colorbar\":{\"outlinewidth\":0,\"ticks\":\"\"}},\"type\":\"parcoords\"}],\"pie\":[{\"automargin\":true,\"type\":\"pie\"}],\"scatter\":[{\"marker\":{\"colorbar\":{\"outlinewidth\":0,\"ticks\":\"\"}},\"type\":\"scatter\"}],\"scatter3d\":[{\"line\":{\"colorbar\":{\"outlinewidth\":0,\"ticks\":\"\"}},\"marker\":{\"colorbar\":{\"outlinewidth\":0,\"ticks\":\"\"}},\"type\":\"scatter3d\"}],\"scattercarpet\":[{\"marker\":{\"colorbar\":{\"outlinewidth\":0,\"ticks\":\"\"}},\"type\":\"scattercarpet\"}],\"scattergeo\":[{\"marker\":{\"colorbar\":{\"outlinewidth\":0,\"ticks\":\"\"}},\"type\":\"scattergeo\"}],\"scattergl\":[{\"marker\":{\"colorbar\":{\"outlinewidth\":0,\"ticks\":\"\"}},\"type\":\"scattergl\"}],\"scattermapbox\":[{\"marker\":{\"colorbar\":{\"outlinewidth\":0,\"ticks\":\"\"}},\"type\":\"scattermapbox\"}],\"scatterpolar\":[{\"marker\":{\"colorbar\":{\"outlinewidth\":0,\"ticks\":\"\"}},\"type\":\"scatterpolar\"}],\"scatterpolargl\":[{\"marker\":{\"colorbar\":{\"outlinewidth\":0,\"ticks\":\"\"}},\"type\":\"scatterpolargl\"}],\"scatterternary\":[{\"marker\":{\"colorbar\":{\"outlinewidth\":0,\"ticks\":\"\"}},\"type\":\"scatterternary\"}],\"surface\":[{\"colorbar\":{\"outlinewidth\":0,\"ticks\":\"\"},\"colorscale\":[[0.0,\"#0d0887\"],[0.1111111111111111,\"#46039f\"],[0.2222222222222222,\"#7201a8\"],[0.3333333333333333,\"#9c179e\"],[0.4444444444444444,\"#bd3786\"],[0.5555555555555556,\"#d8576b\"],[0.6666666666666666,\"#ed7953\"],[0.7777777777777778,\"#fb9f3a\"],[0.8888888888888888,\"#fdca26\"],[1.0,\"#f0f921\"]],\"type\":\"surface\"}],\"table\":[{\"cells\":{\"fill\":{\"color\":\"#EBF0F8\"},\"line\":{\"color\":\"white\"}},\"header\":{\"fill\":{\"color\":\"#C8D4E3\"},\"line\":{\"color\":\"white\"}},\"type\":\"table\"}]},\"layout\":{\"annotationdefaults\":{\"arrowcolor\":\"#2a3f5f\",\"arrowhead\":0,\"arrowwidth\":1},\"autotypenumbers\":\"strict\",\"coloraxis\":{\"colorbar\":{\"outlinewidth\":0,\"ticks\":\"\"}},\"colorscale\":{\"diverging\":[[0,\"#8e0152\"],[0.1,\"#c51b7d\"],[0.2,\"#de77ae\"],[0.3,\"#f1b6da\"],[0.4,\"#fde0ef\"],[0.5,\"#f7f7f7\"],[0.6,\"#e6f5d0\"],[0.7,\"#b8e186\"],[0.8,\"#7fbc41\"],[0.9,\"#4d9221\"],[1,\"#276419\"]],\"sequential\":[[0.0,\"#0d0887\"],[0.1111111111111111,\"#46039f\"],[0.2222222222222222,\"#7201a8\"],[0.3333333333333333,\"#9c179e\"],[0.4444444444444444,\"#bd3786\"],[0.5555555555555556,\"#d8576b\"],[0.6666666666666666,\"#ed7953\"],[0.7777777777777778,\"#fb9f3a\"],[0.8888888888888888,\"#fdca26\"],[1.0,\"#f0f921\"]],\"sequentialminus\":[[0.0,\"#0d0887\"],[0.1111111111111111,\"#46039f\"],[0.2222222222222222,\"#7201a8\"],[0.3333333333333333,\"#9c179e\"],[0.4444444444444444,\"#bd3786\"],[0.5555555555555556,\"#d8576b\"],[0.6666666666666666,\"#ed7953\"],[0.7777777777777778,\"#fb9f3a\"],[0.8888888888888888,\"#fdca26\"],[1.0,\"#f0f921\"]]},\"colorway\":[\"#636efa\",\"#EF553B\",\"#00cc96\",\"#ab63fa\",\"#FFA15A\",\"#19d3f3\",\"#FF6692\",\"#B6E880\",\"#FF97FF\",\"#FECB52\"],\"font\":{\"color\":\"#2a3f5f\"},\"geo\":{\"bgcolor\":\"white\",\"lakecolor\":\"white\",\"landcolor\":\"#E5ECF6\",\"showlakes\":true,\"showland\":true,\"subunitcolor\":\"white\"},\"hoverlabel\":{\"align\":\"left\"},\"hovermode\":\"closest\",\"mapbox\":{\"style\":\"light\"},\"paper_bgcolor\":\"white\",\"plot_bgcolor\":\"#E5ECF6\",\"polar\":{\"angularaxis\":{\"gridcolor\":\"white\",\"linecolor\":\"white\",\"ticks\":\"\"},\"bgcolor\":\"#E5ECF6\",\"radialaxis\":{\"gridcolor\":\"white\",\"linecolor\":\"white\",\"ticks\":\"\"}},\"scene\":{\"xaxis\":{\"backgroundcolor\":\"#E5ECF6\",\"gridcolor\":\"white\",\"gridwidth\":2,\"linecolor\":\"white\",\"showbackground\":true,\"ticks\":\"\",\"zerolinecolor\":\"white\"},\"yaxis\":{\"backgroundcolor\":\"#E5ECF6\",\"gridcolor\":\"white\",\"gridwidth\":2,\"linecolor\":\"white\",\"showbackground\":true,\"ticks\":\"\",\"zerolinecolor\":\"white\"},\"zaxis\":{\"backgroundcolor\":\"#E5ECF6\",\"gridcolor\":\"white\",\"gridwidth\":2,\"linecolor\":\"white\",\"showbackground\":true,\"ticks\":\"\",\"zerolinecolor\":\"white\"}},\"shapedefaults\":{\"line\":{\"color\":\"#2a3f5f\"}},\"ternary\":{\"aaxis\":{\"gridcolor\":\"white\",\"linecolor\":\"white\",\"ticks\":\"\"},\"baxis\":{\"gridcolor\":\"white\",\"linecolor\":\"white\",\"ticks\":\"\"},\"bgcolor\":\"#E5ECF6\",\"caxis\":{\"gridcolor\":\"white\",\"linecolor\":\"white\",\"ticks\":\"\"}},\"title\":{\"x\":0.05},\"xaxis\":{\"automargin\":true,\"gridcolor\":\"white\",\"linecolor\":\"white\",\"ticks\":\"\",\"title\":{\"standoff\":15},\"zerolinecolor\":\"white\",\"zerolinewidth\":2},\"yaxis\":{\"automargin\":true,\"gridcolor\":\"white\",\"linecolor\":\"white\",\"ticks\":\"\",\"title\":{\"standoff\":15},\"zerolinecolor\":\"white\",\"zerolinewidth\":2}}},\"xaxis\":{\"anchor\":\"y\",\"domain\":[0.0,0.024347826086956525],\"title\":{},\"showticklabels\":true},\"yaxis\":{\"anchor\":\"x\",\"domain\":[0.0,1.0],\"title\":{\"text\":\"Video Count\"}},\"xaxis2\":{\"anchor\":\"y2\",\"domain\":[0.044347826086956525,0.06869565217391305],\"title\":{\"text\":\"Channel\"},\"showticklabels\":true},\"yaxis2\":{\"anchor\":\"x2\",\"domain\":[0.0,1.0],\"matches\":\"y\",\"showticklabels\":false},\"xaxis3\":{\"anchor\":\"y3\",\"domain\":[0.08869565217391305,0.11304347826086958],\"title\":{\"text\":\"Channel\"},\"showticklabels\":true},\"yaxis3\":{\"anchor\":\"x3\",\"domain\":[0.0,1.0],\"matches\":\"y\",\"showticklabels\":false},\"xaxis4\":{\"anchor\":\"y4\",\"domain\":[0.13304347826086957,0.15739130434782608],\"title\":{\"text\":\"Channel\"},\"showticklabels\":true},\"yaxis4\":{\"anchor\":\"x4\",\"domain\":[0.0,1.0],\"matches\":\"y\",\"showticklabels\":false},\"xaxis5\":{\"anchor\":\"y5\",\"domain\":[0.1773913043478261,0.20173913043478262],\"title\":{\"text\":\"Channel\"},\"showticklabels\":true},\"yaxis5\":{\"anchor\":\"x5\",\"domain\":[0.0,1.0],\"matches\":\"y\",\"showticklabels\":false},\"xaxis6\":{\"anchor\":\"y6\",\"domain\":[0.22173913043478263,0.24608695652173915],\"title\":{\"text\":\"Channel\"},\"showticklabels\":true},\"yaxis6\":{\"anchor\":\"x6\",\"domain\":[0.0,1.0],\"matches\":\"y\",\"showticklabels\":false},\"xaxis7\":{\"anchor\":\"y7\",\"domain\":[0.26608695652173914,0.29043478260869565],\"title\":{\"text\":\"Channel\"},\"showticklabels\":true},\"yaxis7\":{\"anchor\":\"x7\",\"domain\":[0.0,1.0],\"matches\":\"y\",\"showticklabels\":false},\"xaxis8\":{\"anchor\":\"y8\",\"domain\":[0.31043478260869567,0.3347826086956522],\"title\":{\"text\":\"Channel\"},\"showticklabels\":true},\"yaxis8\":{\"anchor\":\"x8\",\"domain\":[0.0,1.0],\"matches\":\"y\",\"showticklabels\":false},\"xaxis9\":{\"anchor\":\"y9\",\"domain\":[0.35478260869565215,0.37913043478260866],\"title\":{\"text\":\"Channel\"},\"showticklabels\":true},\"yaxis9\":{\"anchor\":\"x9\",\"domain\":[0.0,1.0],\"matches\":\"y\",\"showticklabels\":false},\"xaxis10\":{\"anchor\":\"y10\",\"domain\":[0.3991304347826087,0.4234782608695652],\"title\":{\"text\":\"Channel\"},\"showticklabels\":true},\"yaxis10\":{\"anchor\":\"x10\",\"domain\":[0.0,1.0],\"matches\":\"y\",\"showticklabels\":false},\"xaxis11\":{\"anchor\":\"y11\",\"domain\":[0.4434782608695652,0.4678260869565217],\"title\":{\"text\":\"Channel\"},\"showticklabels\":true},\"yaxis11\":{\"anchor\":\"x11\",\"domain\":[0.0,1.0],\"matches\":\"y\",\"showticklabels\":false},\"xaxis12\":{\"anchor\":\"y12\",\"domain\":[0.48782608695652174,0.5121739130434783],\"title\":{\"text\":\"Channel\"},\"showticklabels\":true},\"yaxis12\":{\"anchor\":\"x12\",\"domain\":[0.0,1.0],\"matches\":\"y\",\"showticklabels\":false},\"xaxis13\":{\"anchor\":\"y13\",\"domain\":[0.5321739130434782,0.5565217391304347],\"title\":{\"text\":\"Channel\"},\"showticklabels\":true},\"yaxis13\":{\"anchor\":\"x13\",\"domain\":[0.0,1.0],\"matches\":\"y\",\"showticklabels\":false},\"xaxis14\":{\"anchor\":\"y14\",\"domain\":[0.5765217391304347,0.6008695652173912],\"title\":{\"text\":\"Channel\"},\"showticklabels\":true},\"yaxis14\":{\"anchor\":\"x14\",\"domain\":[0.0,1.0],\"matches\":\"y\",\"showticklabels\":false},\"xaxis15\":{\"anchor\":\"y15\",\"domain\":[0.6208695652173912,0.6452173913043477],\"title\":{\"text\":\"Channel\"},\"showticklabels\":true},\"yaxis15\":{\"anchor\":\"x15\",\"domain\":[0.0,1.0],\"matches\":\"y\",\"showticklabels\":false},\"xaxis16\":{\"anchor\":\"y16\",\"domain\":[0.6652173913043478,0.6895652173913043],\"title\":{\"text\":\"Channel\"},\"showticklabels\":true},\"yaxis16\":{\"anchor\":\"x16\",\"domain\":[0.0,1.0],\"matches\":\"y\",\"showticklabels\":false},\"xaxis17\":{\"anchor\":\"y17\",\"domain\":[0.7095652173913043,0.7339130434782608],\"title\":{\"text\":\"Channel\"},\"showticklabels\":true},\"yaxis17\":{\"anchor\":\"x17\",\"domain\":[0.0,1.0],\"matches\":\"y\",\"showticklabels\":false},\"xaxis18\":{\"anchor\":\"y18\",\"domain\":[0.7539130434782608,0.7782608695652173],\"title\":{\"text\":\"Channel\"},\"showticklabels\":true},\"yaxis18\":{\"anchor\":\"x18\",\"domain\":[0.0,1.0],\"matches\":\"y\",\"showticklabels\":false},\"xaxis19\":{\"anchor\":\"y19\",\"domain\":[0.7982608695652174,0.8226086956521739],\"title\":{\"text\":\"Channel\"},\"showticklabels\":true},\"yaxis19\":{\"anchor\":\"x19\",\"domain\":[0.0,1.0],\"matches\":\"y\",\"showticklabels\":false},\"xaxis20\":{\"anchor\":\"y20\",\"domain\":[0.8426086956521739,0.8669565217391304],\"title\":{\"text\":\"Channel\"},\"showticklabels\":true},\"yaxis20\":{\"anchor\":\"x20\",\"domain\":[0.0,1.0],\"matches\":\"y\",\"showticklabels\":false},\"xaxis21\":{\"anchor\":\"y21\",\"domain\":[0.8869565217391304,0.9113043478260869],\"title\":{\"text\":\"Channel\"},\"showticklabels\":true},\"yaxis21\":{\"anchor\":\"x21\",\"domain\":[0.0,1.0],\"matches\":\"y\",\"showticklabels\":false},\"xaxis22\":{\"anchor\":\"y22\",\"domain\":[0.931304347826087,0.9556521739130435],\"title\":{\"text\":\"Channel\"},\"showticklabels\":true},\"yaxis22\":{\"anchor\":\"x22\",\"domain\":[0.0,1.0],\"matches\":\"y\",\"showticklabels\":false},\"xaxis23\":{\"anchor\":\"y23\",\"domain\":[0.9756521739130435,1.0],\"title\":{\"text\":\"Channel\"},\"showticklabels\":true},\"yaxis23\":{\"anchor\":\"x23\",\"domain\":[0.0,1.0],\"matches\":\"y\",\"showticklabels\":false},\"annotations\":[{\"font\":{},\"showarrow\":false,\"text\":\"03\\uc6d4 4\\uc8fc\",\"x\":0.012173913043478262,\"xanchor\":\"center\",\"xref\":\"paper\",\"y\":1.0,\"yanchor\":\"bottom\",\"yref\":\"paper\"},{\"font\":{},\"showarrow\":false,\"text\":\"03\\uc6d4 5\\uc8fc\",\"x\":0.05652173913043479,\"xanchor\":\"center\",\"xref\":\"paper\",\"y\":1.0,\"yanchor\":\"bottom\",\"yref\":\"paper\"},{\"font\":{},\"showarrow\":false,\"text\":\"04\\uc6d4 1\\uc8fc\",\"x\":0.10086956521739132,\"xanchor\":\"center\",\"xref\":\"paper\",\"y\":1.0,\"yanchor\":\"bottom\",\"yref\":\"paper\"},{\"font\":{},\"showarrow\":false,\"text\":\"04\\uc6d4 2\\uc8fc\",\"x\":0.14521739130434783,\"xanchor\":\"center\",\"xref\":\"paper\",\"y\":1.0,\"yanchor\":\"bottom\",\"yref\":\"paper\"},{\"font\":{},\"showarrow\":false,\"text\":\"04\\uc6d4 3\\uc8fc\",\"x\":0.18956521739130436,\"xanchor\":\"center\",\"xref\":\"paper\",\"y\":1.0,\"yanchor\":\"bottom\",\"yref\":\"paper\"},{\"font\":{},\"showarrow\":false,\"text\":\"04\\uc6d4 4\\uc8fc\",\"x\":0.2339130434782609,\"xanchor\":\"center\",\"xref\":\"paper\",\"y\":1.0,\"yanchor\":\"bottom\",\"yref\":\"paper\"},{\"font\":{},\"showarrow\":false,\"text\":\"04\\uc6d4 5\\uc8fc\",\"x\":0.2782608695652174,\"xanchor\":\"center\",\"xref\":\"paper\",\"y\":1.0,\"yanchor\":\"bottom\",\"yref\":\"paper\"},{\"font\":{},\"showarrow\":false,\"text\":\"05\\uc6d4 1\\uc8fc\",\"x\":0.3226086956521739,\"xanchor\":\"center\",\"xref\":\"paper\",\"y\":1.0,\"yanchor\":\"bottom\",\"yref\":\"paper\"},{\"font\":{},\"showarrow\":false,\"text\":\"05\\uc6d4 2\\uc8fc\",\"x\":0.3669565217391304,\"xanchor\":\"center\",\"xref\":\"paper\",\"y\":1.0,\"yanchor\":\"bottom\",\"yref\":\"paper\"},{\"font\":{},\"showarrow\":false,\"text\":\"05\\uc6d4 3\\uc8fc\",\"x\":0.41130434782608694,\"xanchor\":\"center\",\"xref\":\"paper\",\"y\":1.0,\"yanchor\":\"bottom\",\"yref\":\"paper\"},{\"font\":{},\"showarrow\":false,\"text\":\"05\\uc6d4 4\\uc8fc\",\"x\":0.45565217391304347,\"xanchor\":\"center\",\"xref\":\"paper\",\"y\":1.0,\"yanchor\":\"bottom\",\"yref\":\"paper\"},{\"font\":{},\"showarrow\":false,\"text\":\"05\\uc6d4 5\\uc8fc\",\"x\":0.5,\"xanchor\":\"center\",\"xref\":\"paper\",\"y\":1.0,\"yanchor\":\"bottom\",\"yref\":\"paper\"},{\"font\":{},\"showarrow\":false,\"text\":\"05\\uc6d4 6\\uc8fc\",\"x\":0.5443478260869564,\"xanchor\":\"center\",\"xref\":\"paper\",\"y\":1.0,\"yanchor\":\"bottom\",\"yref\":\"paper\"},{\"font\":{},\"showarrow\":false,\"text\":\"06\\uc6d4 1\\uc8fc\",\"x\":0.588695652173913,\"xanchor\":\"center\",\"xref\":\"paper\",\"y\":1.0,\"yanchor\":\"bottom\",\"yref\":\"paper\"},{\"font\":{},\"showarrow\":false,\"text\":\"06\\uc6d4 2\\uc8fc\",\"x\":0.6330434782608695,\"xanchor\":\"center\",\"xref\":\"paper\",\"y\":1.0,\"yanchor\":\"bottom\",\"yref\":\"paper\"},{\"font\":{},\"showarrow\":false,\"text\":\"06\\uc6d4 3\\uc8fc\",\"x\":0.677391304347826,\"xanchor\":\"center\",\"xref\":\"paper\",\"y\":1.0,\"yanchor\":\"bottom\",\"yref\":\"paper\"},{\"font\":{},\"showarrow\":false,\"text\":\"06\\uc6d4 4\\uc8fc\",\"x\":0.7217391304347825,\"xanchor\":\"center\",\"xref\":\"paper\",\"y\":1.0,\"yanchor\":\"bottom\",\"yref\":\"paper\"},{\"font\":{},\"showarrow\":false,\"text\":\"06\\uc6d4 5\\uc8fc\",\"x\":0.7660869565217391,\"xanchor\":\"center\",\"xref\":\"paper\",\"y\":1.0,\"yanchor\":\"bottom\",\"yref\":\"paper\"},{\"font\":{},\"showarrow\":false,\"text\":\"07\\uc6d4 1\\uc8fc\",\"x\":0.8104347826086956,\"xanchor\":\"center\",\"xref\":\"paper\",\"y\":1.0,\"yanchor\":\"bottom\",\"yref\":\"paper\"},{\"font\":{},\"showarrow\":false,\"text\":\"07\\uc6d4 2\\uc8fc\",\"x\":0.8547826086956521,\"xanchor\":\"center\",\"xref\":\"paper\",\"y\":1.0,\"yanchor\":\"bottom\",\"yref\":\"paper\"},{\"font\":{},\"showarrow\":false,\"text\":\"07\\uc6d4 3\\uc8fc\",\"x\":0.8991304347826087,\"xanchor\":\"center\",\"xref\":\"paper\",\"y\":1.0,\"yanchor\":\"bottom\",\"yref\":\"paper\"},{\"font\":{},\"showarrow\":false,\"text\":\"07\\uc6d4 4\\uc8fc\",\"x\":0.9434782608695652,\"xanchor\":\"center\",\"xref\":\"paper\",\"y\":1.0,\"yanchor\":\"bottom\",\"yref\":\"paper\"},{\"font\":{},\"showarrow\":false,\"text\":\"07\\uc6d4 5\\uc8fc\",\"x\":0.9878260869565217,\"xanchor\":\"center\",\"xref\":\"paper\",\"y\":1.0,\"yanchor\":\"bottom\",\"yref\":\"paper\"}],\"legend\":{\"title\":{\"text\":\"category_name\"},\"tracegroupgap\":0},\"margin\":{\"t\":60},\"barmode\":\"relative\",\"title\":{\"text\":\"Top 5 Channel by Week\"}},                        {\"responsive\": true}                    ).then(function(){\n",
       "                            \n",
       "var gd = document.getElementById('5b534c05-a5fb-42e1-a59b-dd5bad2b58db');\n",
       "var x = new MutationObserver(function (mutations, observer) {{\n",
       "        var display = window.getComputedStyle(gd).display;\n",
       "        if (!display || display === 'none') {{\n",
       "            console.log([gd, 'removed!']);\n",
       "            Plotly.purge(gd);\n",
       "            observer.disconnect();\n",
       "        }}\n",
       "}});\n",
       "\n",
       "// Listen for the removal of the full notebook cells\n",
       "var notebookContainer = gd.closest('#notebook-container');\n",
       "if (notebookContainer) {{\n",
       "    x.observe(notebookContainer, {childList: true});\n",
       "}}\n",
       "\n",
       "// Listen for the clearing of the current output cell\n",
       "var outputEl = gd.closest('.output');\n",
       "if (outputEl) {{\n",
       "    x.observe(outputEl, {childList: true});\n",
       "}}\n",
       "\n",
       "                        })                };                });            </script>        </div>"
      ]
     },
     "metadata": {},
     "output_type": "display_data"
    }
   ],
   "source": [
    "youtube_viz.solve_q1_4()"
   ]
  },
  {
   "cell_type": "markdown",
   "metadata": {},
   "source": [
    "### Q1-5 월별 카테고리별 태그 키워드 순위 시각화\n"
   ]
  },
  {
   "cell_type": "code",
   "execution_count": 17,
   "metadata": {},
   "outputs": [
    {
     "data": {
      "application/vnd.plotly.v1+json": {
       "config": {
        "plotlyServerURL": "https://plot.ly"
       },
       "data": [
        {
         "alignmentgroup": "True",
         "hovertemplate": "Category=Comedy<br>Year-Month=2021-03<br>Tag=%{x}<br>Tag Count=%{text}<extra></extra>",
         "legendgroup": "",
         "marker": {
          "color": "#636efa",
          "pattern": {
           "shape": ""
          }
         },
         "name": "",
         "offsetgroup": "",
         "orientation": "v",
         "showlegend": false,
         "text": [
          2,
          2,
          2,
          1,
          1
         ],
         "textposition": "auto",
         "type": "bar",
         "x": [
          "웃긴영상",
          "몰카",
          "시트콤",
          "깨방정",
          "투마리"
         ],
         "xaxis": "x71",
         "y": [
          2,
          2,
          2,
          1,
          1
         ],
         "yaxis": "y71"
        },
        {
         "alignmentgroup": "True",
         "hovertemplate": "Category=Comedy<br>Year-Month=2021-04<br>Tag=%{x}<br>Tag Count=%{text}<extra></extra>",
         "legendgroup": "",
         "marker": {
          "color": "#636efa",
          "pattern": {
           "shape": ""
          }
         },
         "name": "",
         "offsetgroup": "",
         "orientation": "v",
         "showlegend": false,
         "text": [
          12,
          8,
          6,
          6,
          6
         ],
         "textposition": "auto",
         "type": "bar",
         "x": [
          "몰카",
          "몰래카메라",
          "개그맨",
          "웃소",
          "레전드"
         ],
         "xaxis": "x72",
         "y": [
          12,
          8,
          6,
          6,
          6
         ],
         "yaxis": "y72"
        },
        {
         "alignmentgroup": "True",
         "hovertemplate": "Category=Comedy<br>Year-Month=2021-05<br>Tag=%{x}<br>Tag Count=%{text}<extra></extra>",
         "legendgroup": "",
         "marker": {
          "color": "#636efa",
          "pattern": {
           "shape": ""
          }
         },
         "name": "",
         "offsetgroup": "",
         "orientation": "v",
         "showlegend": false,
         "text": [
          9,
          5,
          5,
          5,
          4
         ],
         "textposition": "auto",
         "type": "bar",
         "x": [
          "몰카",
          "더블비",
          "피식대학",
          "참교육",
          "몰래카메라"
         ],
         "xaxis": "x73",
         "y": [
          9,
          5,
          5,
          5,
          4
         ],
         "yaxis": "y73"
        },
        {
         "alignmentgroup": "True",
         "hovertemplate": "Category=Comedy<br>Year-Month=2021-06<br>Tag=%{x}<br>Tag Count=%{text}<extra></extra>",
         "legendgroup": "",
         "marker": {
          "color": "#636efa",
          "pattern": {
           "shape": ""
          }
         },
         "name": "",
         "offsetgroup": "",
         "orientation": "v",
         "showlegend": false,
         "text": [
          6,
          5,
          4,
          4,
          4
         ],
         "textposition": "auto",
         "type": "bar",
         "x": [
          "반응",
          "라면",
          "웃긴",
          "치킨",
          "조니"
         ],
         "xaxis": "x74",
         "y": [
          6,
          5,
          4,
          4,
          4
         ],
         "yaxis": "y74"
        },
        {
         "alignmentgroup": "True",
         "hovertemplate": "Category=Comedy<br>Year-Month=2021-07<br>Tag=%{x}<br>Tag Count=%{text}<extra></extra>",
         "legendgroup": "",
         "marker": {
          "color": "#636efa",
          "pattern": {
           "shape": ""
          }
         },
         "name": "",
         "offsetgroup": "",
         "orientation": "v",
         "showlegend": false,
         "text": [
          4,
          4,
          4,
          4,
          3
         ],
         "textposition": "auto",
         "type": "bar",
         "x": [
          "어몽어스애니메이션",
          "어몽어스애니",
          "among us animation",
          "웃소",
          "funny video"
         ],
         "xaxis": "x75",
         "y": [
          4,
          4,
          4,
          4,
          3
         ],
         "yaxis": "y75"
        },
        {
         "alignmentgroup": "True",
         "hovertemplate": "Category=Education<br>Year-Month=2021-03<br>Tag=%{x}<br>Tag Count=%{text}<extra></extra>",
         "legendgroup": "",
         "marker": {
          "color": "#636efa",
          "pattern": {
           "shape": ""
          }
         },
         "name": "",
         "offsetgroup": "",
         "orientation": "v",
         "showlegend": false,
         "text": [
          1,
          1,
          1,
          1,
          1
         ],
         "textposition": "auto",
         "type": "bar",
         "x": [
          "조승연",
          "인도 역사",
          "인도 계급 제도",
          "조승연작가",
          "조승연 작가"
         ],
         "xaxis": "x66",
         "y": [
          1,
          1,
          1,
          1,
          1
         ],
         "yaxis": "y66"
        },
        {
         "alignmentgroup": "True",
         "hovertemplate": "Category=Education<br>Year-Month=2021-04<br>Tag=%{x}<br>Tag Count=%{text}<extra></extra>",
         "legendgroup": "",
         "marker": {
          "color": "#636efa",
          "pattern": {
           "shape": ""
          }
         },
         "name": "",
         "offsetgroup": "",
         "orientation": "v",
         "showlegend": false,
         "text": [
          3,
          3,
          2,
          2,
          2
         ],
         "textposition": "auto",
         "type": "bar",
         "x": [
          "투자",
          "주식",
          "KimMiKyung",
          "International Speaker",
          "김미경TV"
         ],
         "xaxis": "x67",
         "y": [
          3,
          3,
          2,
          2,
          2
         ],
         "yaxis": "y67"
        },
        {
         "alignmentgroup": "True",
         "hovertemplate": "Category=Education<br>Year-Month=2021-05<br>Tag=%{x}<br>Tag Count=%{text}<extra></extra>",
         "legendgroup": "",
         "marker": {
          "color": "#636efa",
          "pattern": {
           "shape": ""
          }
         },
         "name": "",
         "offsetgroup": "",
         "orientation": "v",
         "showlegend": false,
         "text": [
          2,
          2,
          2,
          1,
          1
         ],
         "textposition": "auto",
         "type": "bar",
         "x": [
          "한시생계지원금",
          "유용한정보",
          "복지정보",
          "당용한자",
          "드립"
         ],
         "xaxis": "x68",
         "y": [
          2,
          2,
          2,
          1,
          1
         ],
         "yaxis": "y68"
        },
        {
         "alignmentgroup": "True",
         "hovertemplate": "Category=Education<br>Year-Month=2021-06<br>Tag=%{x}<br>Tag Count=%{text}<extra></extra>",
         "legendgroup": "",
         "marker": {
          "color": "#636efa",
          "pattern": {
           "shape": ""
          }
         },
         "name": "",
         "offsetgroup": "",
         "orientation": "v",
         "showlegend": false,
         "text": [
          3,
          3,
          3,
          3,
          3
         ],
         "textposition": "auto",
         "type": "bar",
         "x": [
          "아이템",
          "드립",
          "유래",
          "어디서",
          "아이템의인벤토리"
         ],
         "xaxis": "x69",
         "y": [
          3,
          3,
          3,
          3,
          3
         ],
         "yaxis": "y69"
        },
        {
         "alignmentgroup": "True",
         "hovertemplate": "Category=Education<br>Year-Month=2021-07<br>Tag=%{x}<br>Tag Count=%{text}<extra></extra>",
         "legendgroup": "",
         "marker": {
          "color": "#636efa",
          "pattern": {
           "shape": ""
          }
         },
         "name": "",
         "offsetgroup": "",
         "orientation": "v",
         "showlegend": false,
         "text": [
          3,
          3,
          3,
          3,
          3
         ],
         "textposition": "auto",
         "type": "bar",
         "x": [
          "호기심",
          "궁금증",
          "잡학",
          "사물궁이",
          "지식"
         ],
         "xaxis": "x70",
         "y": [
          3,
          3,
          3,
          3,
          3
         ],
         "yaxis": "y70"
        },
        {
         "alignmentgroup": "True",
         "hovertemplate": "Category=Entertainment<br>Year-Month=2021-03<br>Tag=%{x}<br>Tag Count=%{text}<extra></extra>",
         "legendgroup": "",
         "marker": {
          "color": "#636efa",
          "pattern": {
           "shape": ""
          }
         },
         "name": "",
         "offsetgroup": "",
         "orientation": "v",
         "showlegend": false,
         "text": [
          4,
          4,
          3,
          3,
          3
         ],
         "textposition": "auto",
         "type": "bar",
         "x": [
          "KBS",
          "유재석",
          "아이유",
          "idol",
          "eng"
         ],
         "xaxis": "x61",
         "y": [
          4,
          4,
          3,
          3,
          3
         ],
         "yaxis": "y61"
        },
        {
         "alignmentgroup": "True",
         "hovertemplate": "Category=Entertainment<br>Year-Month=2021-04<br>Tag=%{x}<br>Tag Count=%{text}<extra></extra>",
         "legendgroup": "",
         "marker": {
          "color": "#636efa",
          "pattern": {
           "shape": ""
          }
         },
         "name": "",
         "offsetgroup": "",
         "orientation": "v",
         "showlegend": false,
         "text": [
          24,
          22,
          19,
          18,
          18
         ],
         "textposition": "auto",
         "type": "bar",
         "x": [
          "예능",
          "먹방",
          "브레이브걸스",
          "롤린",
          "유재석"
         ],
         "xaxis": "x62",
         "y": [
          24,
          22,
          19,
          18,
          18
         ],
         "yaxis": "y62"
        },
        {
         "alignmentgroup": "True",
         "hovertemplate": "Category=Entertainment<br>Year-Month=2021-05<br>Tag=%{x}<br>Tag Count=%{text}<extra></extra>",
         "legendgroup": "",
         "marker": {
          "color": "#636efa",
          "pattern": {
           "shape": ""
          }
         },
         "name": "",
         "offsetgroup": "",
         "orientation": "v",
         "showlegend": false,
         "text": [
          19,
          16,
          14,
          12,
          11
         ],
         "textposition": "auto",
         "type": "bar",
         "x": [
          "tvN",
          "먹방",
          "방탄소년단",
          "피오",
          "라면"
         ],
         "xaxis": "x63",
         "y": [
          19,
          16,
          14,
          12,
          11
         ],
         "yaxis": "y63"
        },
        {
         "alignmentgroup": "True",
         "hovertemplate": "Category=Entertainment<br>Year-Month=2021-06<br>Tag=%{x}<br>Tag Count=%{text}<extra></extra>",
         "legendgroup": "",
         "marker": {
          "color": "#636efa",
          "pattern": {
           "shape": ""
          }
         },
         "name": "",
         "offsetgroup": "",
         "orientation": "v",
         "showlegend": false,
         "text": [
          27,
          20,
          15,
          15,
          13
         ],
         "textposition": "auto",
         "type": "bar",
         "x": [
          "먹방",
          "예능",
          "SBS",
          "레전드",
          "유재석"
         ],
         "xaxis": "x64",
         "y": [
          27,
          20,
          15,
          15,
          13
         ],
         "yaxis": "y64"
        },
        {
         "alignmentgroup": "True",
         "hovertemplate": "Category=Entertainment<br>Year-Month=2021-07<br>Tag=%{x}<br>Tag Count=%{text}<extra></extra>",
         "legendgroup": "",
         "marker": {
          "color": "#636efa",
          "pattern": {
           "shape": ""
          }
         },
         "name": "",
         "offsetgroup": "",
         "orientation": "v",
         "showlegend": false,
         "text": [
          19,
          17,
          14,
          12,
          11
         ],
         "textposition": "auto",
         "type": "bar",
         "x": [
          "유재석",
          "예능",
          "SBS",
          "먹방",
          "레전드"
         ],
         "xaxis": "x65",
         "y": [
          19,
          17,
          14,
          12,
          11
         ],
         "yaxis": "y65"
        },
        {
         "alignmentgroup": "True",
         "hovertemplate": "Category=Film & Animation<br>Year-Month=2021-03<br>Tag=%{x}<br>Tag Count=%{text}<extra></extra>",
         "legendgroup": "",
         "marker": {
          "color": "#636efa",
          "pattern": {
           "shape": ""
          }
         },
         "name": "",
         "offsetgroup": "",
         "orientation": "v",
         "showlegend": false,
         "text": [
          1,
          1,
          1,
          1,
          1
         ],
         "textposition": "auto",
         "type": "bar",
         "x": [
          "고민툰",
          "사연툰",
          "썰툰",
          "사이다툰",
          "영상툰"
         ],
         "xaxis": "x56",
         "y": [
          1,
          1,
          1,
          1,
          1
         ],
         "yaxis": "y56"
        },
        {
         "alignmentgroup": "True",
         "hovertemplate": "Category=Film & Animation<br>Year-Month=2021-04<br>Tag=%{x}<br>Tag Count=%{text}<extra></extra>",
         "legendgroup": "",
         "marker": {
          "color": "#636efa",
          "pattern": {
           "shape": ""
          }
         },
         "name": "",
         "offsetgroup": "",
         "orientation": "v",
         "showlegend": false,
         "text": [
          4,
          4,
          4,
          3,
          3
         ],
         "textposition": "auto",
         "type": "bar",
         "x": [
          "병맛더빙",
          "만화",
          "더빙",
          "병맛",
          "웹툰"
         ],
         "xaxis": "x57",
         "y": [
          4,
          4,
          4,
          3,
          3
         ],
         "yaxis": "y57"
        },
        {
         "alignmentgroup": "True",
         "hovertemplate": "Category=Film & Animation<br>Year-Month=2021-05<br>Tag=%{x}<br>Tag Count=%{text}<extra></extra>",
         "legendgroup": "",
         "marker": {
          "color": "#636efa",
          "pattern": {
           "shape": ""
          }
         },
         "name": "",
         "offsetgroup": "",
         "orientation": "v",
         "showlegend": false,
         "text": [
          6,
          5,
          4,
          3,
          3
         ],
         "textposition": "auto",
         "type": "bar",
         "x": [
          "영상툰",
          "썰툰",
          "애니메이션",
          "일상",
          "블랙위도우"
         ],
         "xaxis": "x58",
         "y": [
          6,
          5,
          4,
          3,
          3
         ],
         "yaxis": "y58"
        },
        {
         "alignmentgroup": "True",
         "hovertemplate": "Category=Film & Animation<br>Year-Month=2021-06<br>Tag=%{x}<br>Tag Count=%{text}<extra></extra>",
         "legendgroup": "",
         "marker": {
          "color": "#636efa",
          "pattern": {
           "shape": ""
          }
         },
         "name": "",
         "offsetgroup": "",
         "orientation": "v",
         "showlegend": false,
         "text": [
          5,
          5,
          5,
          3,
          3
         ],
         "textposition": "auto",
         "type": "bar",
         "x": [
          "병맛더빙",
          "더빙",
          "만화",
          "만화추천",
          "꿀잼"
         ],
         "xaxis": "x59",
         "y": [
          5,
          5,
          5,
          3,
          3
         ],
         "yaxis": "y59"
        },
        {
         "alignmentgroup": "True",
         "hovertemplate": "Category=Film & Animation<br>Year-Month=2021-07<br>Tag=%{x}<br>Tag Count=%{text}<extra></extra>",
         "legendgroup": "",
         "marker": {
          "color": "#636efa",
          "pattern": {
           "shape": ""
          }
         },
         "name": "",
         "offsetgroup": "",
         "orientation": "v",
         "showlegend": false,
         "text": [
          10,
          9,
          7,
          7,
          6
         ],
         "textposition": "auto",
         "type": "bar",
         "x": [
          "만화",
          "애니메이션",
          "더빙",
          "병맛더빙",
          "웹툰"
         ],
         "xaxis": "x60",
         "y": [
          10,
          9,
          7,
          7,
          6
         ],
         "yaxis": "y60"
        },
        {
         "alignmentgroup": "True",
         "hovertemplate": "Category=Gaming<br>Year-Month=2021-03<br>Tag=%{x}<br>Tag Count=%{text}<extra></extra>",
         "legendgroup": "",
         "marker": {
          "color": "#636efa",
          "pattern": {
           "shape": ""
          }
         },
         "name": "",
         "offsetgroup": "",
         "orientation": "v",
         "showlegend": false,
         "text": [
          1,
          1,
          1,
          1,
          1
         ],
         "textposition": "auto",
         "type": "bar",
         "x": [
          "리그오브레전드",
          "리그 오브 레전드",
          "LoL",
          "Leagueoflegends",
          "League of Legends"
         ],
         "xaxis": "x51",
         "y": [
          1,
          1,
          1,
          1,
          1
         ],
         "yaxis": "y51"
        },
        {
         "alignmentgroup": "True",
         "hovertemplate": "Category=Gaming<br>Year-Month=2021-04<br>Tag=%{x}<br>Tag Count=%{text}<extra></extra>",
         "legendgroup": "",
         "marker": {
          "color": "#636efa",
          "pattern": {
           "shape": ""
          }
         },
         "name": "",
         "offsetgroup": "",
         "orientation": "v",
         "showlegend": false,
         "text": [
          3,
          2,
          2,
          2,
          2
         ],
         "textposition": "auto",
         "type": "bar",
         "x": [
          "먹방",
          "#원딜",
          "#롤",
          "리그오브레전드",
          "#괴물쥐"
         ],
         "xaxis": "x52",
         "y": [
          3,
          2,
          2,
          2,
          2
         ],
         "yaxis": "y52"
        },
        {
         "alignmentgroup": "True",
         "hovertemplate": "Category=Gaming<br>Year-Month=2021-05<br>Tag=%{x}<br>Tag Count=%{text}<extra></extra>",
         "legendgroup": "",
         "marker": {
          "color": "#636efa",
          "pattern": {
           "shape": ""
          }
         },
         "name": "",
         "offsetgroup": "",
         "orientation": "v",
         "showlegend": false,
         "text": [
          5,
          4,
          4,
          3,
          3
         ],
         "textposition": "auto",
         "type": "bar",
         "x": [
          "먹방",
          "재밌는",
          "웃긴",
          "아프리카TV",
          "혜안"
         ],
         "xaxis": "x53",
         "y": [
          5,
          4,
          4,
          3,
          3
         ],
         "yaxis": "y53"
        },
        {
         "alignmentgroup": "True",
         "hovertemplate": "Category=Gaming<br>Year-Month=2021-06<br>Tag=%{x}<br>Tag Count=%{text}<extra></extra>",
         "legendgroup": "",
         "marker": {
          "color": "#636efa",
          "pattern": {
           "shape": ""
          }
         },
         "name": "",
         "offsetgroup": "",
         "orientation": "v",
         "showlegend": false,
         "text": [
          7,
          7,
          6,
          6,
          5
         ],
         "textposition": "auto",
         "type": "bar",
         "x": [
          "프라이데이 나이트 펌킨",
          "프나펌",
          "fnf",
          "friday night funkin",
          "프나펑"
         ],
         "xaxis": "x54",
         "y": [
          7,
          7,
          6,
          6,
          5
         ],
         "yaxis": "y54"
        },
        {
         "alignmentgroup": "True",
         "hovertemplate": "Category=Gaming<br>Year-Month=2021-07<br>Tag=%{x}<br>Tag Count=%{text}<extra></extra>",
         "legendgroup": "",
         "marker": {
          "color": "#636efa",
          "pattern": {
           "shape": ""
          }
         },
         "name": "",
         "offsetgroup": "",
         "orientation": "v",
         "showlegend": false,
         "text": [
          4,
          3,
          3,
          2,
          2
         ],
         "textposition": "auto",
         "type": "bar",
         "x": [
          "먹방",
          "혜안",
          "마인크래프트",
          "스포츠",
          "esports kbs"
         ],
         "xaxis": "x55",
         "y": [
          4,
          3,
          3,
          2,
          2
         ],
         "yaxis": "y55"
        },
        {
         "alignmentgroup": "True",
         "hovertemplate": "Category=Howto & Style<br>Year-Month=2021-03<br>Tag=%{x}<br>Tag Count=%{text}<extra></extra>",
         "legendgroup": "",
         "marker": {
          "color": "#636efa",
          "pattern": {
           "shape": ""
          }
         },
         "name": "",
         "offsetgroup": "",
         "orientation": "v",
         "showlegend": false,
         "text": [
          1,
          1,
          1,
          1,
          1
         ],
         "textposition": "auto",
         "type": "bar",
         "x": [
          "사나고",
          "3D펜",
          "3Dpen",
          "만들기",
          "making"
         ],
         "xaxis": "x46",
         "y": [
          1,
          1,
          1,
          1,
          1
         ],
         "yaxis": "y46"
        },
        {
         "alignmentgroup": "True",
         "hovertemplate": "Category=Howto & Style<br>Year-Month=2021-04<br>Tag=%{x}<br>Tag Count=%{text}<extra></extra>",
         "legendgroup": "",
         "marker": {
          "color": "#636efa",
          "pattern": {
           "shape": ""
          }
         },
         "name": "",
         "offsetgroup": "",
         "orientation": "v",
         "showlegend": false,
         "text": [
          4,
          4,
          3,
          3,
          3
         ],
         "textposition": "auto",
         "type": "bar",
         "x": [
          "사나고",
          "만들기",
          "3d프린터",
          "3Dprinting",
          "3D펜"
         ],
         "xaxis": "x47",
         "y": [
          4,
          4,
          3,
          3,
          3
         ],
         "yaxis": "y47"
        },
        {
         "alignmentgroup": "True",
         "hovertemplate": "Category=Howto & Style<br>Year-Month=2021-05<br>Tag=%{x}<br>Tag Count=%{text}<extra></extra>",
         "legendgroup": "",
         "marker": {
          "color": "#636efa",
          "pattern": {
           "shape": ""
          }
         },
         "name": "",
         "offsetgroup": "",
         "orientation": "v",
         "showlegend": false,
         "text": [
          4,
          3,
          3,
          3,
          3
         ],
         "textposition": "auto",
         "type": "bar",
         "x": [
          "요리",
          "한식",
          "초보요리",
          "함께해요 맛나요리",
          "쉬운요리"
         ],
         "xaxis": "x48",
         "y": [
          4,
          3,
          3,
          3,
          3
         ],
         "yaxis": "y48"
        },
        {
         "alignmentgroup": "True",
         "hovertemplate": "Category=Howto & Style<br>Year-Month=2021-06<br>Tag=%{x}<br>Tag Count=%{text}<extra></extra>",
         "legendgroup": "",
         "marker": {
          "color": "#636efa",
          "pattern": {
           "shape": ""
          }
         },
         "name": "",
         "offsetgroup": "",
         "orientation": "v",
         "showlegend": false,
         "text": [
          4,
          4,
          3,
          3,
          3
         ],
         "textposition": "auto",
         "type": "bar",
         "x": [
          "한식",
          "밑반찬",
          "Korean recipes",
          "Korean Traditional Food Recipe",
          "자취음식"
         ],
         "xaxis": "x49",
         "y": [
          4,
          4,
          3,
          3,
          3
         ],
         "yaxis": "y49"
        },
        {
         "alignmentgroup": "True",
         "hovertemplate": "Category=Howto & Style<br>Year-Month=2021-07<br>Tag=%{x}<br>Tag Count=%{text}<extra></extra>",
         "legendgroup": "",
         "marker": {
          "color": "#636efa",
          "pattern": {
           "shape": ""
          }
         },
         "name": "",
         "offsetgroup": "",
         "orientation": "v",
         "showlegend": false,
         "text": [
          8,
          8,
          7,
          6,
          4
         ],
         "textposition": "auto",
         "type": "bar",
         "x": [
          "반찬",
          "요리",
          "한식",
          "레시피",
          "만들기"
         ],
         "xaxis": "x50",
         "y": [
          8,
          8,
          7,
          6,
          4
         ],
         "yaxis": "y50"
        },
        {
         "alignmentgroup": "True",
         "hovertemplate": "Category=Music<br>Year-Month=2021-03<br>Tag=%{x}<br>Tag Count=%{text}<extra></extra>",
         "legendgroup": "",
         "marker": {
          "color": "#636efa",
          "pattern": {
           "shape": ""
          }
         },
         "name": "",
         "offsetgroup": "",
         "orientation": "v",
         "showlegend": false,
         "text": [
          2,
          2,
          1,
          1,
          1
         ],
         "textposition": "auto",
         "type": "bar",
         "x": [
          "아이돌",
          "music",
          "Teaser",
          "new",
          "dingo"
         ],
         "xaxis": "x41",
         "y": [
          2,
          2,
          1,
          1,
          1
         ],
         "yaxis": "y41"
        },
        {
         "alignmentgroup": "True",
         "hovertemplate": "Category=Music<br>Year-Month=2021-04<br>Tag=%{x}<br>Tag Count=%{text}<extra></extra>",
         "legendgroup": "",
         "marker": {
          "color": "#636efa",
          "pattern": {
           "shape": ""
          }
         },
         "name": "",
         "offsetgroup": "",
         "orientation": "v",
         "showlegend": false,
         "text": [
          8,
          8,
          7,
          7,
          6
         ],
         "textposition": "auto",
         "type": "bar",
         "x": [
          "SEVENTEEN",
          "BTS",
          "セブチ",
          "세븐틴",
          "방탄소년단"
         ],
         "xaxis": "x42",
         "y": [
          8,
          8,
          7,
          7,
          6
         ],
         "yaxis": "y42"
        },
        {
         "alignmentgroup": "True",
         "hovertemplate": "Category=Music<br>Year-Month=2021-05<br>Tag=%{x}<br>Tag Count=%{text}<extra></extra>",
         "legendgroup": "",
         "marker": {
          "color": "#636efa",
          "pattern": {
           "shape": ""
          }
         },
         "name": "",
         "offsetgroup": "",
         "orientation": "v",
         "showlegend": false,
         "text": [
          15,
          13,
          11,
          10,
          9
         ],
         "textposition": "auto",
         "type": "bar",
         "x": [
          "BTS",
          "방탄소년단",
          "aespa",
          "BANGTAN",
          "에스파"
         ],
         "xaxis": "x43",
         "y": [
          15,
          13,
          11,
          10,
          9
         ],
         "yaxis": "y43"
        },
        {
         "alignmentgroup": "True",
         "hovertemplate": "Category=Music<br>Year-Month=2021-06<br>Tag=%{x}<br>Tag Count=%{text}<extra></extra>",
         "legendgroup": "",
         "marker": {
          "color": "#636efa",
          "pattern": {
           "shape": ""
          }
         },
         "name": "",
         "offsetgroup": "",
         "orientation": "v",
         "showlegend": false,
         "text": [
          7,
          7,
          6,
          6,
          5
         ],
         "textposition": "auto",
         "type": "bar",
         "x": [
          "트와이스",
          "음악",
          "TWICE",
          "kpop",
          "dingo"
         ],
         "xaxis": "x44",
         "y": [
          7,
          7,
          6,
          6,
          5
         ],
         "yaxis": "y44"
        },
        {
         "alignmentgroup": "True",
         "hovertemplate": "Category=Music<br>Year-Month=2021-07<br>Tag=%{x}<br>Tag Count=%{text}<extra></extra>",
         "legendgroup": "",
         "marker": {
          "color": "#636efa",
          "pattern": {
           "shape": ""
          }
         },
         "name": "",
         "offsetgroup": "",
         "orientation": "v",
         "showlegend": false,
         "text": [
          10,
          7,
          4,
          4,
          4
         ],
         "textposition": "auto",
         "type": "bar",
         "x": [
          "BTS",
          "방탄소년단",
          "mv",
          "지민",
          "JIN"
         ],
         "xaxis": "x45",
         "y": [
          10,
          7,
          4,
          4,
          4
         ],
         "yaxis": "y45"
        },
        {
         "alignmentgroup": "True",
         "hovertemplate": "Category=News & Politics<br>Year-Month=2021-03<br>Tag=%{x}<br>Tag Count=%{text}<extra></extra>",
         "legendgroup": "",
         "marker": {
          "color": "#636efa",
          "pattern": {
           "shape": ""
          }
         },
         "name": "",
         "offsetgroup": "",
         "orientation": "v",
         "showlegend": false,
         "text": [
          4,
          2,
          2,
          1,
          1
         ],
         "textposition": "auto",
         "type": "bar",
         "x": [
          "박수홍",
          "출연료",
          "횡령",
          "계약금",
          "오열"
         ],
         "xaxis": "x36",
         "y": [
          4,
          2,
          2,
          1,
          1
         ],
         "yaxis": "y36"
        },
        {
         "alignmentgroup": "True",
         "hovertemplate": "Category=News & Politics<br>Year-Month=2021-04<br>Tag=%{x}<br>Tag Count=%{text}<extra></extra>",
         "legendgroup": "",
         "marker": {
          "color": "#636efa",
          "pattern": {
           "shape": ""
          }
         },
         "name": "",
         "offsetgroup": "",
         "orientation": "v",
         "showlegend": false,
         "text": [
          8,
          5,
          5,
          5,
          4
         ],
         "textposition": "auto",
         "type": "bar",
         "x": [
          "뉴스",
          "주식",
          "ETF",
          "news",
          "증권"
         ],
         "xaxis": "x37",
         "y": [
          8,
          5,
          5,
          5,
          4
         ],
         "yaxis": "y37"
        },
        {
         "alignmentgroup": "True",
         "hovertemplate": "Category=News & Politics<br>Year-Month=2021-05<br>Tag=%{x}<br>Tag Count=%{text}<extra></extra>",
         "legendgroup": "",
         "marker": {
          "color": "#636efa",
          "pattern": {
           "shape": ""
          }
         },
         "name": "",
         "offsetgroup": "",
         "orientation": "v",
         "showlegend": false,
         "text": [
          20,
          13,
          7,
          6,
          6
         ],
         "textposition": "auto",
         "type": "bar",
         "x": [
          "뉴스",
          "손정민",
          "의대생",
          "제이티비씨 뉴스",
          "코로나19"
         ],
         "xaxis": "x38",
         "y": [
          20,
          13,
          7,
          6,
          6
         ],
         "yaxis": "y38"
        },
        {
         "alignmentgroup": "True",
         "hovertemplate": "Category=News & Politics<br>Year-Month=2021-06<br>Tag=%{x}<br>Tag Count=%{text}<extra></extra>",
         "legendgroup": "",
         "marker": {
          "color": "#636efa",
          "pattern": {
           "shape": ""
          }
         },
         "name": "",
         "offsetgroup": "",
         "orientation": "v",
         "showlegend": false,
         "text": [
          6,
          3,
          3,
          3,
          3
         ],
         "textposition": "auto",
         "type": "bar",
         "x": [
          "뉴스",
          "광주",
          "MBC뉴스",
          "News Network",
          "news"
         ],
         "xaxis": "x39",
         "y": [
          6,
          3,
          3,
          3,
          3
         ],
         "yaxis": "y39"
        },
        {
         "alignmentgroup": "True",
         "hovertemplate": "Category=News & Politics<br>Year-Month=2021-07<br>Tag=%{x}<br>Tag Count=%{text}<extra></extra>",
         "legendgroup": "",
         "marker": {
          "color": "#636efa",
          "pattern": {
           "shape": ""
          }
         },
         "name": "",
         "offsetgroup": "",
         "orientation": "v",
         "showlegend": false,
         "text": [
          10,
          9,
          6,
          4,
          4
         ],
         "textposition": "auto",
         "type": "bar",
         "x": [
          "도쿄올림픽",
          "뉴스",
          "올림픽",
          "News Network",
          "news"
         ],
         "xaxis": "x40",
         "y": [
          10,
          9,
          6,
          4,
          4
         ],
         "yaxis": "y40"
        },
        {
         "alignmentgroup": "True",
         "hovertemplate": "Category=People & Blogs<br>Year-Month=2021-03<br>Tag=%{x}<br>Tag Count=%{text}<extra></extra>",
         "legendgroup": "",
         "marker": {
          "color": "#636efa",
          "pattern": {
           "shape": ""
          }
         },
         "name": "",
         "offsetgroup": "",
         "orientation": "v",
         "showlegend": false,
         "text": [
          2,
          2,
          2,
          2,
          2
         ],
         "textposition": "auto",
         "type": "bar",
         "x": [
          "강철부대",
          "대테러 부대",
          "밀리터리",
          "특전사",
          "UDT해군특수전전단"
         ],
         "xaxis": "x31",
         "y": [
          2,
          2,
          2,
          2,
          2
         ],
         "yaxis": "y31"
        },
        {
         "alignmentgroup": "True",
         "hovertemplate": "Category=People & Blogs<br>Year-Month=2021-04<br>Tag=%{x}<br>Tag Count=%{text}<extra></extra>",
         "legendgroup": "",
         "marker": {
          "color": "#636efa",
          "pattern": {
           "shape": ""
          }
         },
         "name": "",
         "offsetgroup": "",
         "orientation": "v",
         "showlegend": false,
         "text": [
          13,
          10,
          8,
          7,
          7
         ],
         "textposition": "auto",
         "type": "bar",
         "x": [
          "먹방",
          "브이로그",
          "vlog",
          "맛집",
          "korean"
         ],
         "xaxis": "x32",
         "y": [
          13,
          10,
          8,
          7,
          7
         ],
         "yaxis": "y32"
        },
        {
         "alignmentgroup": "True",
         "hovertemplate": "Category=People & Blogs<br>Year-Month=2021-05<br>Tag=%{x}<br>Tag Count=%{text}<extra></extra>",
         "legendgroup": "",
         "marker": {
          "color": "#636efa",
          "pattern": {
           "shape": ""
          }
         },
         "name": "",
         "offsetgroup": "",
         "orientation": "v",
         "showlegend": false,
         "text": [
          16,
          6,
          6,
          5,
          5
         ],
         "textposition": "auto",
         "type": "bar",
         "x": [
          "먹방",
          "mukbang",
          "머니게임",
          "진용진",
          "핫소스"
         ],
         "xaxis": "x33",
         "y": [
          16,
          6,
          6,
          5,
          5
         ],
         "yaxis": "y33"
        },
        {
         "alignmentgroup": "True",
         "hovertemplate": "Category=People & Blogs<br>Year-Month=2021-06<br>Tag=%{x}<br>Tag Count=%{text}<extra></extra>",
         "legendgroup": "",
         "marker": {
          "color": "#636efa",
          "pattern": {
           "shape": ""
          }
         },
         "name": "",
         "offsetgroup": "",
         "orientation": "v",
         "showlegend": false,
         "text": [
          15,
          12,
          9,
          8,
          7
         ],
         "textposition": "auto",
         "type": "bar",
         "x": [
          "먹방",
          "브이로그",
          "맛집",
          "일상",
          "vlog"
         ],
         "xaxis": "x34",
         "y": [
          15,
          12,
          9,
          8,
          7
         ],
         "yaxis": "y34"
        },
        {
         "alignmentgroup": "True",
         "hovertemplate": "Category=People & Blogs<br>Year-Month=2021-07<br>Tag=%{x}<br>Tag Count=%{text}<extra></extra>",
         "legendgroup": "",
         "marker": {
          "color": "#636efa",
          "pattern": {
           "shape": ""
          }
         },
         "name": "",
         "offsetgroup": "",
         "orientation": "v",
         "showlegend": false,
         "text": [
          14,
          12,
          9,
          5,
          5
         ],
         "textposition": "auto",
         "type": "bar",
         "x": [
          "먹방",
          "브이로그",
          "vlog",
          "국제커플",
          "mukbang"
         ],
         "xaxis": "x35",
         "y": [
          14,
          12,
          9,
          5,
          5
         ],
         "yaxis": "y35"
        },
        {
         "alignmentgroup": "True",
         "hovertemplate": "Category=Pets & Animals<br>Year-Month=2021-03<br>Tag=%{x}<br>Tag Count=%{text}<extra></extra>",
         "legendgroup": "",
         "marker": {
          "color": "#636efa",
          "pattern": {
           "shape": ""
          }
         },
         "name": "",
         "offsetgroup": "",
         "orientation": "v",
         "showlegend": false,
         "text": [
          2,
          2,
          1,
          1,
          1
         ],
         "textposition": "auto",
         "type": "bar",
         "x": [
          "고양이",
          "cat",
          "haha ha",
          "하하 하",
          "무"
         ],
         "xaxis": "x26",
         "y": [
          2,
          2,
          1,
          1,
          1
         ],
         "yaxis": "y26"
        },
        {
         "alignmentgroup": "True",
         "hovertemplate": "Category=Pets & Animals<br>Year-Month=2021-04<br>Tag=%{x}<br>Tag Count=%{text}<extra></extra>",
         "legendgroup": "",
         "marker": {
          "color": "#636efa",
          "pattern": {
           "shape": ""
          }
         },
         "name": "",
         "offsetgroup": "",
         "orientation": "v",
         "showlegend": false,
         "text": [
          2,
          2,
          2,
          1,
          1
         ],
         "textposition": "auto",
         "type": "bar",
         "x": [
          "일상",
          "동물병원",
          "브이로그",
          "황어떼",
          "tv animal farm"
         ],
         "xaxis": "x27",
         "y": [
          2,
          2,
          2,
          1,
          1
         ],
         "yaxis": "y27"
        },
        {
         "alignmentgroup": "True",
         "hovertemplate": "Category=Pets & Animals<br>Year-Month=2021-05<br>Tag=%{x}<br>Tag Count=%{text}<extra></extra>",
         "legendgroup": "",
         "marker": {
          "color": "#636efa",
          "pattern": {
           "shape": ""
          }
         },
         "name": "",
         "offsetgroup": "",
         "orientation": "v",
         "showlegend": false,
         "text": [
          6,
          6,
          6,
          6,
          6
         ],
         "textposition": "auto",
         "type": "bar",
         "x": [
          "동물영상",
          "animal farm",
          "애니멀봐",
          "동물농장",
          "animals"
         ],
         "xaxis": "x28",
         "y": [
          6,
          6,
          6,
          6,
          6
         ],
         "yaxis": "y28"
        },
        {
         "alignmentgroup": "True",
         "hovertemplate": "Category=Pets & Animals<br>Year-Month=2021-06<br>Tag=%{x}<br>Tag Count=%{text}<extra></extra>",
         "legendgroup": "",
         "marker": {
          "color": "#636efa",
          "pattern": {
           "shape": ""
          }
         },
         "name": "",
         "offsetgroup": "",
         "orientation": "v",
         "showlegend": false,
         "text": [
          6,
          5,
          3,
          3,
          3
         ],
         "textposition": "auto",
         "type": "bar",
         "x": [
          "고양이",
          "강아지",
          "아리랑",
          "동물",
          "cat"
         ],
         "xaxis": "x29",
         "y": [
          6,
          5,
          3,
          3,
          3
         ],
         "yaxis": "y29"
        },
        {
         "alignmentgroup": "True",
         "hovertemplate": "Category=Pets & Animals<br>Year-Month=2021-07<br>Tag=%{x}<br>Tag Count=%{text}<extra></extra>",
         "legendgroup": "",
         "marker": {
          "color": "#636efa",
          "pattern": {
           "shape": ""
          }
         },
         "name": "",
         "offsetgroup": "",
         "orientation": "v",
         "showlegend": false,
         "text": [
          10,
          7,
          6,
          6,
          6
         ],
         "textposition": "auto",
         "type": "bar",
         "x": [
          "cat",
          "냥줍",
          "고양이",
          "chat",
          "새끼 길고양이"
         ],
         "xaxis": "x30",
         "y": [
          10,
          7,
          6,
          6,
          6
         ],
         "yaxis": "y30"
        },
        {
         "alignmentgroup": "True",
         "hovertemplate": "Category=Science & Technology<br>Year-Month=2021-03<br>Tag=%{x}<br>Tag Count=%{text}<extra></extra>",
         "legendgroup": "",
         "marker": {
          "color": "#636efa",
          "pattern": {
           "shape": ""
          }
         },
         "name": "",
         "offsetgroup": "",
         "orientation": "v",
         "showlegend": false,
         "text": [
          1,
          1,
          1,
          1,
          1
         ],
         "textposition": "auto",
         "type": "bar",
         "x": [
          "YTN사이언스",
          "사이언스투데이",
          "과학",
          "뉴스",
          "사이언스TV"
         ],
         "xaxis": "x21",
         "y": [
          1,
          1,
          1,
          1,
          1
         ],
         "yaxis": "y21"
        },
        {
         "alignmentgroup": "True",
         "hovertemplate": "Category=Science & Technology<br>Year-Month=2021-04<br>Tag=%{x}<br>Tag Count=%{text}<extra></extra>",
         "legendgroup": "",
         "marker": {
          "color": "#636efa",
          "pattern": {
           "shape": ""
          }
         },
         "name": "",
         "offsetgroup": "",
         "orientation": "v",
         "showlegend": false,
         "text": [
          4,
          4,
          3,
          3,
          3
         ],
         "textposition": "auto",
         "type": "bar",
         "x": [
          "애플",
          "아이맥",
          "Apple",
          "에어태그",
          "아이패드 프로 5세대"
         ],
         "xaxis": "x22",
         "y": [
          4,
          4,
          3,
          3,
          3
         ],
         "yaxis": "y22"
        },
        {
         "alignmentgroup": "True",
         "hovertemplate": "Category=Science & Technology<br>Year-Month=2021-05<br>Tag=%{x}<br>Tag Count=%{text}<extra></extra>",
         "legendgroup": "",
         "marker": {
          "color": "#636efa",
          "pattern": {
           "shape": ""
          }
         },
         "name": "",
         "offsetgroup": "",
         "orientation": "v",
         "showlegend": false,
         "text": [
          3,
          2,
          2,
          2,
          1
         ],
         "textposition": "auto",
         "type": "bar",
         "x": [
          "애플",
          "아이패드 프로 12.9",
          "apple",
          "아이맥",
          "모음"
         ],
         "xaxis": "x23",
         "y": [
          3,
          2,
          2,
          2,
          1
         ],
         "yaxis": "y23"
        },
        {
         "alignmentgroup": "True",
         "hovertemplate": "Category=Science & Technology<br>Year-Month=2021-06<br>Tag=%{x}<br>Tag Count=%{text}<extra></extra>",
         "legendgroup": "",
         "marker": {
          "color": "#636efa",
          "pattern": {
           "shape": ""
          }
         },
         "name": "",
         "offsetgroup": "",
         "orientation": "v",
         "showlegend": false,
         "text": [
          1,
          1,
          1,
          1,
          1
         ],
         "textposition": "auto",
         "type": "bar",
         "x": [
          "Apple",
          "Apple Event",
          "Apple Keynote",
          "Apple Special Event",
          "Apple WWDC"
         ],
         "xaxis": "x24",
         "y": [
          1,
          1,
          1,
          1,
          1
         ],
         "yaxis": "y24"
        },
        {
         "alignmentgroup": "True",
         "hovertemplate": "Category=Science & Technology<br>Year-Month=2021-07<br>Tag=%{x}<br>Tag Count=%{text}<extra></extra>",
         "legendgroup": "",
         "marker": {
          "color": "#636efa",
          "pattern": {
           "shape": ""
          }
         },
         "name": "",
         "offsetgroup": "",
         "orientation": "v",
         "showlegend": false,
         "text": [
          2,
          2,
          1,
          1,
          1
         ],
         "textposition": "auto",
         "type": "bar",
         "x": [
          "unboxing",
          "해부",
          "갤럭시탭",
          "2주 사용기",
          "갓성비"
         ],
         "xaxis": "x25",
         "y": [
          2,
          2,
          1,
          1,
          1
         ],
         "yaxis": "y25"
        },
        {
         "alignmentgroup": "True",
         "hovertemplate": "Category=Sports<br>Year-Month=2021-03<br>Tag=%{x}<br>Tag Count=%{text}<extra></extra>",
         "legendgroup": "",
         "marker": {
          "color": "#636efa",
          "pattern": {
           "shape": ""
          }
         },
         "name": "",
         "offsetgroup": "",
         "orientation": "v",
         "showlegend": false,
         "text": [
          1,
          1,
          1,
          1,
          1
         ],
         "textposition": "auto",
         "type": "bar",
         "x": [
          "골프",
          "지면반력",
          "힙턴",
          "golf",
          "golf lesson"
         ],
         "xaxis": "x16",
         "y": [
          1,
          1,
          1,
          1,
          1
         ],
         "yaxis": "y16"
        },
        {
         "alignmentgroup": "True",
         "hovertemplate": "Category=Sports<br>Year-Month=2021-04<br>Tag=%{x}<br>Tag Count=%{text}<extra></extra>",
         "legendgroup": "",
         "marker": {
          "color": "#636efa",
          "pattern": {
           "shape": ""
          }
         },
         "name": "",
         "offsetgroup": "",
         "orientation": "v",
         "showlegend": false,
         "text": [
          11,
          10,
          7,
          6,
          6
         ],
         "textposition": "auto",
         "type": "bar",
         "x": [
          "손흥민",
          "토트넘",
          "축구",
          "스포티비",
          "SPOTV"
         ],
         "xaxis": "x17",
         "y": [
          11,
          10,
          7,
          6,
          6
         ],
         "yaxis": "y17"
        },
        {
         "alignmentgroup": "True",
         "hovertemplate": "Category=Sports<br>Year-Month=2021-05<br>Tag=%{x}<br>Tag Count=%{text}<extra></extra>",
         "legendgroup": "",
         "marker": {
          "color": "#636efa",
          "pattern": {
           "shape": ""
          }
         },
         "name": "",
         "offsetgroup": "",
         "orientation": "v",
         "showlegend": false,
         "text": [
          6,
          6,
          6,
          6,
          5
         ],
         "textposition": "auto",
         "type": "bar",
         "x": [
          "류현진",
          "토론토블루제이스",
          "메이저리그",
          "토론토",
          "mlb"
         ],
         "xaxis": "x18",
         "y": [
          6,
          6,
          6,
          6,
          5
         ],
         "yaxis": "y18"
        },
        {
         "alignmentgroup": "True",
         "hovertemplate": "Category=Sports<br>Year-Month=2021-06<br>Tag=%{x}<br>Tag Count=%{text}<extra></extra>",
         "legendgroup": "",
         "marker": {
          "color": "#636efa",
          "pattern": {
           "shape": ""
          }
         },
         "name": "",
         "offsetgroup": "",
         "orientation": "v",
         "showlegend": false,
         "text": [
          30,
          25,
          16,
          16,
          16
         ],
         "textposition": "auto",
         "type": "bar",
         "x": [
          "축구",
          "손흥민",
          "football",
          "유로",
          "이동국"
         ],
         "xaxis": "x19",
         "y": [
          30,
          25,
          16,
          16,
          16
         ],
         "yaxis": "y19"
        },
        {
         "alignmentgroup": "True",
         "hovertemplate": "Category=Sports<br>Year-Month=2021-07<br>Tag=%{x}<br>Tag Count=%{text}<extra></extra>",
         "legendgroup": "",
         "marker": {
          "color": "#636efa",
          "pattern": {
           "shape": ""
          }
         },
         "name": "",
         "offsetgroup": "",
         "orientation": "v",
         "showlegend": false,
         "text": [
          22,
          14,
          14,
          8,
          8
         ],
         "textposition": "auto",
         "type": "bar",
         "x": [
          "도쿄올림픽",
          "스포츠",
          "올림픽",
          "SPOTV",
          "KBS"
         ],
         "xaxis": "x20",
         "y": [
          22,
          14,
          14,
          8,
          8
         ],
         "yaxis": "y20"
        },
        {
         "alignmentgroup": "True",
         "hovertemplate": "Category=Autos & Vehicles<br>Year-Month=2021-04<br>Tag=%{x}<br>Tag Count=%{text}<extra></extra>",
         "legendgroup": "",
         "marker": {
          "color": "#636efa",
          "pattern": {
           "shape": ""
          }
         },
         "name": "",
         "offsetgroup": "",
         "orientation": "v",
         "showlegend": false,
         "text": [
          5,
          4,
          4,
          4,
          4
         ],
         "textposition": "auto",
         "type": "bar",
         "x": [
          "K8",
          "시승기",
          "기아",
          "자동차",
          "그랜저"
         ],
         "xaxis": "x12",
         "y": [
          5,
          4,
          4,
          4,
          4
         ],
         "yaxis": "y12"
        },
        {
         "alignmentgroup": "True",
         "hovertemplate": "Category=Autos & Vehicles<br>Year-Month=2021-05<br>Tag=%{x}<br>Tag Count=%{text}<extra></extra>",
         "legendgroup": "",
         "marker": {
          "color": "#636efa",
          "pattern": {
           "shape": ""
          }
         },
         "name": "",
         "offsetgroup": "",
         "orientation": "v",
         "showlegend": false,
         "text": [
          3,
          3,
          2,
          2,
          2
         ],
         "textposition": "auto",
         "type": "bar",
         "x": [
          "한문철",
          "블랙박스",
          "traffic accident",
          "몇대몇",
          "블랙박스로 본 세상"
         ],
         "xaxis": "x13",
         "y": [
          3,
          3,
          2,
          2,
          2
         ],
         "yaxis": "y13"
        },
        {
         "alignmentgroup": "True",
         "hovertemplate": "Category=Autos & Vehicles<br>Year-Month=2021-06<br>Tag=%{x}<br>Tag Count=%{text}<extra></extra>",
         "legendgroup": "",
         "marker": {
          "color": "#636efa",
          "pattern": {
           "shape": ""
          }
         },
         "name": "",
         "offsetgroup": "",
         "orientation": "v",
         "showlegend": false,
         "text": [
          3,
          2,
          2,
          2,
          2
         ],
         "textposition": "auto",
         "type": "bar",
         "x": [
          "자동차",
          "운전",
          "초보운전",
          "기아",
          "자동차꿀팁"
         ],
         "xaxis": "x14",
         "y": [
          3,
          2,
          2,
          2,
          2
         ],
         "yaxis": "y14"
        },
        {
         "alignmentgroup": "True",
         "hovertemplate": "Category=Autos & Vehicles<br>Year-Month=2021-07<br>Tag=%{x}<br>Tag Count=%{text}<extra></extra>",
         "legendgroup": "",
         "marker": {
          "color": "#636efa",
          "pattern": {
           "shape": ""
          }
         },
         "name": "",
         "offsetgroup": "",
         "orientation": "v",
         "showlegend": false,
         "text": [
          4,
          2,
          2,
          2,
          2
         ],
         "textposition": "auto",
         "type": "bar",
         "x": [
          "자동차",
          "리뷰",
          "벤츠튜닝",
          "중고차관리",
          "수입차정비"
         ],
         "xaxis": "x15",
         "y": [
          4,
          2,
          2,
          2,
          2
         ],
         "yaxis": "y15"
        },
        {
         "alignmentgroup": "True",
         "hovertemplate": "Category=Travel & Events<br>Year-Month=2021-04<br>Tag=%{x}<br>Tag Count=%{text}<extra></extra>",
         "legendgroup": "",
         "marker": {
          "color": "#636efa",
          "pattern": {
           "shape": ""
          }
         },
         "name": "",
         "offsetgroup": "",
         "orientation": "v",
         "showlegend": false,
         "text": [
          2,
          2,
          2,
          2,
          2
         ],
         "textposition": "auto",
         "type": "bar",
         "x": [
          "베트남",
          "막탄",
          "아프리카 여행",
          "에티오피아 여행",
          "세부"
         ],
         "xaxis": "x7",
         "y": [
          2,
          2,
          2,
          2,
          2
         ],
         "yaxis": "y7"
        },
        {
         "alignmentgroup": "True",
         "hovertemplate": "Category=Travel & Events<br>Year-Month=2021-05<br>Tag=%{x}<br>Tag Count=%{text}<extra></extra>",
         "legendgroup": "",
         "marker": {
          "color": "#636efa",
          "pattern": {
           "shape": ""
          }
         },
         "name": "",
         "offsetgroup": "",
         "orientation": "v",
         "showlegend": false,
         "text": [
          2,
          2,
          2,
          2,
          2
         ],
         "textposition": "auto",
         "type": "bar",
         "x": [
          "명소",
          "tourism",
          "EBS",
          "한국 길거리음식",
          "shorts"
         ],
         "xaxis": "x8",
         "y": [
          2,
          2,
          2,
          2,
          2
         ],
         "yaxis": "y8"
        },
        {
         "alignmentgroup": "True",
         "hovertemplate": "Category=Travel & Events<br>Year-Month=2021-06<br>Tag=%{x}<br>Tag Count=%{text}<extra></extra>",
         "legendgroup": "",
         "marker": {
          "color": "#636efa",
          "pattern": {
           "shape": ""
          }
         },
         "name": "",
         "offsetgroup": "",
         "orientation": "v",
         "showlegend": false,
         "text": [
          2,
          2,
          2,
          2,
          1
         ],
         "textposition": "auto",
         "type": "bar",
         "x": [
          "캠핑카",
          "모터홈",
          "캠핑",
          "카라반",
          "트럭캠퍼추천"
         ],
         "xaxis": "x9",
         "y": [
          2,
          2,
          2,
          2,
          1
         ],
         "yaxis": "y9"
        },
        {
         "alignmentgroup": "True",
         "hovertemplate": "Category=Travel & Events<br>Year-Month=2021-07<br>Tag=%{x}<br>Tag Count=%{text}<extra></extra>",
         "legendgroup": "",
         "marker": {
          "color": "#636efa",
          "pattern": {
           "shape": ""
          }
         },
         "name": "",
         "offsetgroup": "",
         "orientation": "v",
         "showlegend": false,
         "text": [
          4,
          3,
          2,
          2,
          1
         ],
         "textposition": "auto",
         "type": "bar",
         "x": [
          "러시아 여행",
          "러시아",
          "모스크바 여행",
          "세계여행",
          "러시아 백신"
         ],
         "xaxis": "x10",
         "y": [
          4,
          3,
          2,
          2,
          1
         ],
         "yaxis": "y10"
        },
        {
         "alignmentgroup": "True",
         "hovertemplate": "Category=Nonprofits & Activism<br>Year-Month=2021-05<br>Tag=%{x}<br>Tag Count=%{text}<extra></extra>",
         "legendgroup": "",
         "marker": {
          "color": "#636efa",
          "pattern": {
           "shape": ""
          }
         },
         "name": "",
         "offsetgroup": "",
         "orientation": "v",
         "showlegend": false,
         "text": [
          1,
          1,
          1,
          1,
          1
         ],
         "textposition": "auto",
         "type": "bar",
         "x": [
          "불교",
          "즉문즉설",
          "법륜스님",
          "정토회",
          "buddha"
         ],
         "xaxis": "x3",
         "y": [
          1,
          1,
          1,
          1,
          1
         ],
         "yaxis": "y3"
        }
       ],
       "layout": {
        "annotations": [
         {
          "borderpad": 29,
          "borderwidth": 15,
          "font": {
           "color": "black",
           "size": 15
          },
          "showarrow": false,
          "text": "2021-03",
          "x": 0.09000000000000001,
          "xanchor": "center",
          "xref": "paper",
          "y": 1,
          "yanchor": "bottom",
          "yref": "paper"
         },
         {
          "borderpad": 29,
          "borderwidth": 15,
          "font": {
           "color": "black",
           "size": 15
          },
          "showarrow": false,
          "text": "2021-04",
          "x": 0.29000000000000004,
          "xanchor": "center",
          "xref": "paper",
          "y": 1,
          "yanchor": "bottom",
          "yref": "paper"
         },
         {
          "borderpad": 29,
          "borderwidth": 15,
          "font": {
           "color": "black",
           "size": 15
          },
          "showarrow": false,
          "text": "2021-05",
          "x": 0.49000000000000005,
          "xanchor": "center",
          "xref": "paper",
          "y": 1,
          "yanchor": "bottom",
          "yref": "paper"
         },
         {
          "borderpad": 29,
          "borderwidth": 15,
          "font": {
           "color": "black",
           "size": 15
          },
          "showarrow": false,
          "text": "2021-06",
          "x": 0.6900000000000002,
          "xanchor": "center",
          "xref": "paper",
          "y": 1,
          "yanchor": "bottom",
          "yref": "paper"
         },
         {
          "borderpad": 29,
          "borderwidth": 15,
          "font": {
           "color": "black",
           "size": 15
          },
          "showarrow": false,
          "text": "2021-07",
          "x": 0.8900000000000001,
          "xanchor": "center",
          "xref": "paper",
          "y": 1,
          "yanchor": "bottom",
          "yref": "paper"
         },
         {
          "borderpad": 29,
          "borderwidth": 15,
          "font": {
           "color": "black",
           "size": 15
          },
          "showarrow": false,
          "text": "Nonprofits & Activism",
          "textangle": 90,
          "x": 0.9800000000000001,
          "xanchor": "left",
          "xref": "paper",
          "y": 0.019333333333333334,
          "yanchor": "middle",
          "yref": "paper"
         },
         {
          "borderpad": 29,
          "borderwidth": 15,
          "font": {
           "color": "black",
           "size": 15
          },
          "showarrow": false,
          "text": "Travel & Events",
          "textangle": 90,
          "x": 0.9800000000000001,
          "xanchor": "left",
          "xref": "paper",
          "y": 0.088,
          "yanchor": "middle",
          "yref": "paper"
         },
         {
          "borderpad": 29,
          "borderwidth": 15,
          "font": {
           "color": "black",
           "size": 15
          },
          "showarrow": false,
          "text": "Autos & Vehicles",
          "textangle": 90,
          "x": 0.9800000000000001,
          "xanchor": "left",
          "xref": "paper",
          "y": 0.15666666666666668,
          "yanchor": "middle",
          "yref": "paper"
         },
         {
          "borderpad": 29,
          "borderwidth": 15,
          "font": {
           "color": "black",
           "size": 15
          },
          "showarrow": false,
          "text": "Sports",
          "textangle": 90,
          "x": 0.9800000000000001,
          "xanchor": "left",
          "xref": "paper",
          "y": 0.22533333333333336,
          "yanchor": "middle",
          "yref": "paper"
         },
         {
          "borderpad": 29,
          "borderwidth": 15,
          "font": {
           "color": "black",
           "size": 15
          },
          "showarrow": false,
          "text": "Science & Technology",
          "textangle": 90,
          "x": 0.9800000000000001,
          "xanchor": "left",
          "xref": "paper",
          "y": 0.29400000000000004,
          "yanchor": "middle",
          "yref": "paper"
         },
         {
          "borderpad": 29,
          "borderwidth": 15,
          "font": {
           "color": "black",
           "size": 15
          },
          "showarrow": false,
          "text": "Pets & Animals",
          "textangle": 90,
          "x": 0.9800000000000001,
          "xanchor": "left",
          "xref": "paper",
          "y": 0.3626666666666667,
          "yanchor": "middle",
          "yref": "paper"
         },
         {
          "borderpad": 29,
          "borderwidth": 15,
          "font": {
           "color": "black",
           "size": 15
          },
          "showarrow": false,
          "text": "People & Blogs",
          "textangle": 90,
          "x": 0.9800000000000001,
          "xanchor": "left",
          "xref": "paper",
          "y": 0.43133333333333335,
          "yanchor": "middle",
          "yref": "paper"
         },
         {
          "borderpad": 29,
          "borderwidth": 15,
          "font": {
           "color": "black",
           "size": 15
          },
          "showarrow": false,
          "text": "News & Politics",
          "textangle": 90,
          "x": 0.9800000000000001,
          "xanchor": "left",
          "xref": "paper",
          "y": 0.5,
          "yanchor": "middle",
          "yref": "paper"
         },
         {
          "borderpad": 29,
          "borderwidth": 15,
          "font": {
           "color": "black",
           "size": 15
          },
          "showarrow": false,
          "text": "Music",
          "textangle": 90,
          "x": 0.9800000000000001,
          "xanchor": "left",
          "xref": "paper",
          "y": 0.5686666666666668,
          "yanchor": "middle",
          "yref": "paper"
         },
         {
          "borderpad": 29,
          "borderwidth": 15,
          "font": {
           "color": "black",
           "size": 15
          },
          "showarrow": false,
          "text": "Howto & Style",
          "textangle": 90,
          "x": 0.9800000000000001,
          "xanchor": "left",
          "xref": "paper",
          "y": 0.6373333333333334,
          "yanchor": "middle",
          "yref": "paper"
         },
         {
          "borderpad": 29,
          "borderwidth": 15,
          "font": {
           "color": "black",
           "size": 15
          },
          "showarrow": false,
          "text": "Gaming",
          "textangle": 90,
          "x": 0.9800000000000001,
          "xanchor": "left",
          "xref": "paper",
          "y": 0.7060000000000001,
          "yanchor": "middle",
          "yref": "paper"
         },
         {
          "borderpad": 29,
          "borderwidth": 15,
          "font": {
           "color": "black",
           "size": 15
          },
          "showarrow": false,
          "text": "Film & Animation",
          "textangle": 90,
          "x": 0.9800000000000001,
          "xanchor": "left",
          "xref": "paper",
          "y": 0.7746666666666667,
          "yanchor": "middle",
          "yref": "paper"
         },
         {
          "borderpad": 29,
          "borderwidth": 15,
          "font": {
           "color": "black",
           "size": 15
          },
          "showarrow": false,
          "text": "Entertainment",
          "textangle": 90,
          "x": 0.9800000000000001,
          "xanchor": "left",
          "xref": "paper",
          "y": 0.8433333333333334,
          "yanchor": "middle",
          "yref": "paper"
         },
         {
          "borderpad": 29,
          "borderwidth": 15,
          "font": {
           "color": "black",
           "size": 15
          },
          "showarrow": false,
          "text": "Education",
          "textangle": 90,
          "x": 0.9800000000000001,
          "xanchor": "left",
          "xref": "paper",
          "y": 0.9120000000000001,
          "yanchor": "middle",
          "yref": "paper"
         },
         {
          "borderpad": 29,
          "borderwidth": 15,
          "font": {
           "color": "black",
           "size": 15
          },
          "showarrow": false,
          "text": "Comedy",
          "textangle": 90,
          "x": 0.9800000000000001,
          "xanchor": "left",
          "xref": "paper",
          "y": 0.9806666666666667,
          "yanchor": "middle",
          "yref": "paper"
         }
        ],
        "barmode": "relative",
        "height": 2400,
        "legend": {
         "tracegroupgap": 0
        },
        "margin": {
         "b": 80,
         "l": 80,
         "r": 80,
         "t": 80
        },
        "template": {
         "data": {
          "bar": [
           {
            "error_x": {
             "color": "#2a3f5f"
            },
            "error_y": {
             "color": "#2a3f5f"
            },
            "marker": {
             "line": {
              "color": "#E5ECF6",
              "width": 0.5
             },
             "pattern": {
              "fillmode": "overlay",
              "size": 10,
              "solidity": 0.2
             }
            },
            "type": "bar"
           }
          ],
          "barpolar": [
           {
            "marker": {
             "line": {
              "color": "#E5ECF6",
              "width": 0.5
             },
             "pattern": {
              "fillmode": "overlay",
              "size": 10,
              "solidity": 0.2
             }
            },
            "type": "barpolar"
           }
          ],
          "carpet": [
           {
            "aaxis": {
             "endlinecolor": "#2a3f5f",
             "gridcolor": "white",
             "linecolor": "white",
             "minorgridcolor": "white",
             "startlinecolor": "#2a3f5f"
            },
            "baxis": {
             "endlinecolor": "#2a3f5f",
             "gridcolor": "white",
             "linecolor": "white",
             "minorgridcolor": "white",
             "startlinecolor": "#2a3f5f"
            },
            "type": "carpet"
           }
          ],
          "choropleth": [
           {
            "colorbar": {
             "outlinewidth": 0,
             "ticks": ""
            },
            "type": "choropleth"
           }
          ],
          "contour": [
           {
            "colorbar": {
             "outlinewidth": 0,
             "ticks": ""
            },
            "colorscale": [
             [
              0,
              "#0d0887"
             ],
             [
              0.1111111111111111,
              "#46039f"
             ],
             [
              0.2222222222222222,
              "#7201a8"
             ],
             [
              0.3333333333333333,
              "#9c179e"
             ],
             [
              0.4444444444444444,
              "#bd3786"
             ],
             [
              0.5555555555555556,
              "#d8576b"
             ],
             [
              0.6666666666666666,
              "#ed7953"
             ],
             [
              0.7777777777777778,
              "#fb9f3a"
             ],
             [
              0.8888888888888888,
              "#fdca26"
             ],
             [
              1,
              "#f0f921"
             ]
            ],
            "type": "contour"
           }
          ],
          "contourcarpet": [
           {
            "colorbar": {
             "outlinewidth": 0,
             "ticks": ""
            },
            "type": "contourcarpet"
           }
          ],
          "heatmap": [
           {
            "colorbar": {
             "outlinewidth": 0,
             "ticks": ""
            },
            "colorscale": [
             [
              0,
              "#0d0887"
             ],
             [
              0.1111111111111111,
              "#46039f"
             ],
             [
              0.2222222222222222,
              "#7201a8"
             ],
             [
              0.3333333333333333,
              "#9c179e"
             ],
             [
              0.4444444444444444,
              "#bd3786"
             ],
             [
              0.5555555555555556,
              "#d8576b"
             ],
             [
              0.6666666666666666,
              "#ed7953"
             ],
             [
              0.7777777777777778,
              "#fb9f3a"
             ],
             [
              0.8888888888888888,
              "#fdca26"
             ],
             [
              1,
              "#f0f921"
             ]
            ],
            "type": "heatmap"
           }
          ],
          "heatmapgl": [
           {
            "colorbar": {
             "outlinewidth": 0,
             "ticks": ""
            },
            "colorscale": [
             [
              0,
              "#0d0887"
             ],
             [
              0.1111111111111111,
              "#46039f"
             ],
             [
              0.2222222222222222,
              "#7201a8"
             ],
             [
              0.3333333333333333,
              "#9c179e"
             ],
             [
              0.4444444444444444,
              "#bd3786"
             ],
             [
              0.5555555555555556,
              "#d8576b"
             ],
             [
              0.6666666666666666,
              "#ed7953"
             ],
             [
              0.7777777777777778,
              "#fb9f3a"
             ],
             [
              0.8888888888888888,
              "#fdca26"
             ],
             [
              1,
              "#f0f921"
             ]
            ],
            "type": "heatmapgl"
           }
          ],
          "histogram": [
           {
            "marker": {
             "pattern": {
              "fillmode": "overlay",
              "size": 10,
              "solidity": 0.2
             }
            },
            "type": "histogram"
           }
          ],
          "histogram2d": [
           {
            "colorbar": {
             "outlinewidth": 0,
             "ticks": ""
            },
            "colorscale": [
             [
              0,
              "#0d0887"
             ],
             [
              0.1111111111111111,
              "#46039f"
             ],
             [
              0.2222222222222222,
              "#7201a8"
             ],
             [
              0.3333333333333333,
              "#9c179e"
             ],
             [
              0.4444444444444444,
              "#bd3786"
             ],
             [
              0.5555555555555556,
              "#d8576b"
             ],
             [
              0.6666666666666666,
              "#ed7953"
             ],
             [
              0.7777777777777778,
              "#fb9f3a"
             ],
             [
              0.8888888888888888,
              "#fdca26"
             ],
             [
              1,
              "#f0f921"
             ]
            ],
            "type": "histogram2d"
           }
          ],
          "histogram2dcontour": [
           {
            "colorbar": {
             "outlinewidth": 0,
             "ticks": ""
            },
            "colorscale": [
             [
              0,
              "#0d0887"
             ],
             [
              0.1111111111111111,
              "#46039f"
             ],
             [
              0.2222222222222222,
              "#7201a8"
             ],
             [
              0.3333333333333333,
              "#9c179e"
             ],
             [
              0.4444444444444444,
              "#bd3786"
             ],
             [
              0.5555555555555556,
              "#d8576b"
             ],
             [
              0.6666666666666666,
              "#ed7953"
             ],
             [
              0.7777777777777778,
              "#fb9f3a"
             ],
             [
              0.8888888888888888,
              "#fdca26"
             ],
             [
              1,
              "#f0f921"
             ]
            ],
            "type": "histogram2dcontour"
           }
          ],
          "mesh3d": [
           {
            "colorbar": {
             "outlinewidth": 0,
             "ticks": ""
            },
            "type": "mesh3d"
           }
          ],
          "parcoords": [
           {
            "line": {
             "colorbar": {
              "outlinewidth": 0,
              "ticks": ""
             }
            },
            "type": "parcoords"
           }
          ],
          "pie": [
           {
            "automargin": true,
            "type": "pie"
           }
          ],
          "scatter": [
           {
            "marker": {
             "colorbar": {
              "outlinewidth": 0,
              "ticks": ""
             }
            },
            "type": "scatter"
           }
          ],
          "scatter3d": [
           {
            "line": {
             "colorbar": {
              "outlinewidth": 0,
              "ticks": ""
             }
            },
            "marker": {
             "colorbar": {
              "outlinewidth": 0,
              "ticks": ""
             }
            },
            "type": "scatter3d"
           }
          ],
          "scattercarpet": [
           {
            "marker": {
             "colorbar": {
              "outlinewidth": 0,
              "ticks": ""
             }
            },
            "type": "scattercarpet"
           }
          ],
          "scattergeo": [
           {
            "marker": {
             "colorbar": {
              "outlinewidth": 0,
              "ticks": ""
             }
            },
            "type": "scattergeo"
           }
          ],
          "scattergl": [
           {
            "marker": {
             "colorbar": {
              "outlinewidth": 0,
              "ticks": ""
             }
            },
            "type": "scattergl"
           }
          ],
          "scattermapbox": [
           {
            "marker": {
             "colorbar": {
              "outlinewidth": 0,
              "ticks": ""
             }
            },
            "type": "scattermapbox"
           }
          ],
          "scatterpolar": [
           {
            "marker": {
             "colorbar": {
              "outlinewidth": 0,
              "ticks": ""
             }
            },
            "type": "scatterpolar"
           }
          ],
          "scatterpolargl": [
           {
            "marker": {
             "colorbar": {
              "outlinewidth": 0,
              "ticks": ""
             }
            },
            "type": "scatterpolargl"
           }
          ],
          "scatterternary": [
           {
            "marker": {
             "colorbar": {
              "outlinewidth": 0,
              "ticks": ""
             }
            },
            "type": "scatterternary"
           }
          ],
          "surface": [
           {
            "colorbar": {
             "outlinewidth": 0,
             "ticks": ""
            },
            "colorscale": [
             [
              0,
              "#0d0887"
             ],
             [
              0.1111111111111111,
              "#46039f"
             ],
             [
              0.2222222222222222,
              "#7201a8"
             ],
             [
              0.3333333333333333,
              "#9c179e"
             ],
             [
              0.4444444444444444,
              "#bd3786"
             ],
             [
              0.5555555555555556,
              "#d8576b"
             ],
             [
              0.6666666666666666,
              "#ed7953"
             ],
             [
              0.7777777777777778,
              "#fb9f3a"
             ],
             [
              0.8888888888888888,
              "#fdca26"
             ],
             [
              1,
              "#f0f921"
             ]
            ],
            "type": "surface"
           }
          ],
          "table": [
           {
            "cells": {
             "fill": {
              "color": "#EBF0F8"
             },
             "line": {
              "color": "white"
             }
            },
            "header": {
             "fill": {
              "color": "#C8D4E3"
             },
             "line": {
              "color": "white"
             }
            },
            "type": "table"
           }
          ]
         },
         "layout": {
          "annotationdefaults": {
           "arrowcolor": "#2a3f5f",
           "arrowhead": 0,
           "arrowwidth": 1
          },
          "autotypenumbers": "strict",
          "coloraxis": {
           "colorbar": {
            "outlinewidth": 0,
            "ticks": ""
           }
          },
          "colorscale": {
           "diverging": [
            [
             0,
             "#8e0152"
            ],
            [
             0.1,
             "#c51b7d"
            ],
            [
             0.2,
             "#de77ae"
            ],
            [
             0.3,
             "#f1b6da"
            ],
            [
             0.4,
             "#fde0ef"
            ],
            [
             0.5,
             "#f7f7f7"
            ],
            [
             0.6,
             "#e6f5d0"
            ],
            [
             0.7,
             "#b8e186"
            ],
            [
             0.8,
             "#7fbc41"
            ],
            [
             0.9,
             "#4d9221"
            ],
            [
             1,
             "#276419"
            ]
           ],
           "sequential": [
            [
             0,
             "#0d0887"
            ],
            [
             0.1111111111111111,
             "#46039f"
            ],
            [
             0.2222222222222222,
             "#7201a8"
            ],
            [
             0.3333333333333333,
             "#9c179e"
            ],
            [
             0.4444444444444444,
             "#bd3786"
            ],
            [
             0.5555555555555556,
             "#d8576b"
            ],
            [
             0.6666666666666666,
             "#ed7953"
            ],
            [
             0.7777777777777778,
             "#fb9f3a"
            ],
            [
             0.8888888888888888,
             "#fdca26"
            ],
            [
             1,
             "#f0f921"
            ]
           ],
           "sequentialminus": [
            [
             0,
             "#0d0887"
            ],
            [
             0.1111111111111111,
             "#46039f"
            ],
            [
             0.2222222222222222,
             "#7201a8"
            ],
            [
             0.3333333333333333,
             "#9c179e"
            ],
            [
             0.4444444444444444,
             "#bd3786"
            ],
            [
             0.5555555555555556,
             "#d8576b"
            ],
            [
             0.6666666666666666,
             "#ed7953"
            ],
            [
             0.7777777777777778,
             "#fb9f3a"
            ],
            [
             0.8888888888888888,
             "#fdca26"
            ],
            [
             1,
             "#f0f921"
            ]
           ]
          },
          "colorway": [
           "#636efa",
           "#EF553B",
           "#00cc96",
           "#ab63fa",
           "#FFA15A",
           "#19d3f3",
           "#FF6692",
           "#B6E880",
           "#FF97FF",
           "#FECB52"
          ],
          "font": {
           "color": "#2a3f5f"
          },
          "geo": {
           "bgcolor": "white",
           "lakecolor": "white",
           "landcolor": "#E5ECF6",
           "showlakes": true,
           "showland": true,
           "subunitcolor": "white"
          },
          "hoverlabel": {
           "align": "left"
          },
          "hovermode": "closest",
          "mapbox": {
           "style": "light"
          },
          "paper_bgcolor": "white",
          "plot_bgcolor": "#E5ECF6",
          "polar": {
           "angularaxis": {
            "gridcolor": "white",
            "linecolor": "white",
            "ticks": ""
           },
           "bgcolor": "#E5ECF6",
           "radialaxis": {
            "gridcolor": "white",
            "linecolor": "white",
            "ticks": ""
           }
          },
          "scene": {
           "xaxis": {
            "backgroundcolor": "#E5ECF6",
            "gridcolor": "white",
            "gridwidth": 2,
            "linecolor": "white",
            "showbackground": true,
            "ticks": "",
            "zerolinecolor": "white"
           },
           "yaxis": {
            "backgroundcolor": "#E5ECF6",
            "gridcolor": "white",
            "gridwidth": 2,
            "linecolor": "white",
            "showbackground": true,
            "ticks": "",
            "zerolinecolor": "white"
           },
           "zaxis": {
            "backgroundcolor": "#E5ECF6",
            "gridcolor": "white",
            "gridwidth": 2,
            "linecolor": "white",
            "showbackground": true,
            "ticks": "",
            "zerolinecolor": "white"
           }
          },
          "shapedefaults": {
           "line": {
            "color": "#2a3f5f"
           }
          },
          "ternary": {
           "aaxis": {
            "gridcolor": "white",
            "linecolor": "white",
            "ticks": ""
           },
           "baxis": {
            "gridcolor": "white",
            "linecolor": "white",
            "ticks": ""
           },
           "bgcolor": "#E5ECF6",
           "caxis": {
            "gridcolor": "white",
            "linecolor": "white",
            "ticks": ""
           }
          },
          "title": {
           "x": 0.05
          },
          "xaxis": {
           "automargin": true,
           "gridcolor": "white",
           "linecolor": "white",
           "ticks": "",
           "title": {
            "standoff": 15
           },
           "zerolinecolor": "white",
           "zerolinewidth": 2
          },
          "yaxis": {
           "automargin": true,
           "gridcolor": "white",
           "linecolor": "white",
           "ticks": "",
           "title": {
            "standoff": 15
           },
           "zerolinecolor": "white",
           "zerolinewidth": 2
          }
         }
        },
        "title": {
         "text": ""
        },
        "width": 1600,
        "xaxis": {
         "anchor": "y",
         "domain": [
          0,
          0.18000000000000002
         ],
         "showticklabels": true,
         "title": {
          "text": "Tag"
         }
        },
        "xaxis10": {
         "anchor": "y10",
         "domain": [
          0.8,
          0.9800000000000001
         ],
         "showticklabels": true
        },
        "xaxis11": {
         "anchor": "y11",
         "domain": [
          0,
          0.18000000000000002
         ],
         "showticklabels": true
        },
        "xaxis12": {
         "anchor": "y12",
         "domain": [
          0.2,
          0.38
         ],
         "showticklabels": true
        },
        "xaxis13": {
         "anchor": "y13",
         "domain": [
          0.4,
          0.5800000000000001
         ],
         "showticklabels": true
        },
        "xaxis14": {
         "anchor": "y14",
         "domain": [
          0.6000000000000001,
          0.7800000000000001
         ],
         "showticklabels": true
        },
        "xaxis15": {
         "anchor": "y15",
         "domain": [
          0.8,
          0.9800000000000001
         ],
         "showticklabels": true
        },
        "xaxis16": {
         "anchor": "y16",
         "domain": [
          0,
          0.18000000000000002
         ],
         "showticklabels": true
        },
        "xaxis17": {
         "anchor": "y17",
         "domain": [
          0.2,
          0.38
         ],
         "showticklabels": true
        },
        "xaxis18": {
         "anchor": "y18",
         "domain": [
          0.4,
          0.5800000000000001
         ],
         "showticklabels": true
        },
        "xaxis19": {
         "anchor": "y19",
         "domain": [
          0.6000000000000001,
          0.7800000000000001
         ],
         "showticklabels": true
        },
        "xaxis2": {
         "anchor": "y2",
         "domain": [
          0.2,
          0.38
         ],
         "showticklabels": true,
         "title": {
          "text": "Tag"
         }
        },
        "xaxis20": {
         "anchor": "y20",
         "domain": [
          0.8,
          0.9800000000000001
         ],
         "showticklabels": true
        },
        "xaxis21": {
         "anchor": "y21",
         "domain": [
          0,
          0.18000000000000002
         ],
         "showticklabels": true
        },
        "xaxis22": {
         "anchor": "y22",
         "domain": [
          0.2,
          0.38
         ],
         "showticklabels": true
        },
        "xaxis23": {
         "anchor": "y23",
         "domain": [
          0.4,
          0.5800000000000001
         ],
         "showticklabels": true
        },
        "xaxis24": {
         "anchor": "y24",
         "domain": [
          0.6000000000000001,
          0.7800000000000001
         ],
         "showticklabels": true
        },
        "xaxis25": {
         "anchor": "y25",
         "domain": [
          0.8,
          0.9800000000000001
         ],
         "showticklabels": true
        },
        "xaxis26": {
         "anchor": "y26",
         "domain": [
          0,
          0.18000000000000002
         ],
         "showticklabels": true
        },
        "xaxis27": {
         "anchor": "y27",
         "domain": [
          0.2,
          0.38
         ],
         "showticklabels": true
        },
        "xaxis28": {
         "anchor": "y28",
         "domain": [
          0.4,
          0.5800000000000001
         ],
         "showticklabels": true
        },
        "xaxis29": {
         "anchor": "y29",
         "domain": [
          0.6000000000000001,
          0.7800000000000001
         ],
         "showticklabels": true
        },
        "xaxis3": {
         "anchor": "y3",
         "domain": [
          0.4,
          0.5800000000000001
         ],
         "showticklabels": true,
         "title": {
          "text": "Tag"
         }
        },
        "xaxis30": {
         "anchor": "y30",
         "domain": [
          0.8,
          0.9800000000000001
         ],
         "showticklabels": true
        },
        "xaxis31": {
         "anchor": "y31",
         "domain": [
          0,
          0.18000000000000002
         ],
         "showticklabels": true
        },
        "xaxis32": {
         "anchor": "y32",
         "domain": [
          0.2,
          0.38
         ],
         "showticklabels": true
        },
        "xaxis33": {
         "anchor": "y33",
         "domain": [
          0.4,
          0.5800000000000001
         ],
         "showticklabels": true
        },
        "xaxis34": {
         "anchor": "y34",
         "domain": [
          0.6000000000000001,
          0.7800000000000001
         ],
         "showticklabels": true
        },
        "xaxis35": {
         "anchor": "y35",
         "domain": [
          0.8,
          0.9800000000000001
         ],
         "showticklabels": true
        },
        "xaxis36": {
         "anchor": "y36",
         "domain": [
          0,
          0.18000000000000002
         ],
         "showticklabels": true
        },
        "xaxis37": {
         "anchor": "y37",
         "domain": [
          0.2,
          0.38
         ],
         "showticklabels": true
        },
        "xaxis38": {
         "anchor": "y38",
         "domain": [
          0.4,
          0.5800000000000001
         ],
         "showticklabels": true
        },
        "xaxis39": {
         "anchor": "y39",
         "domain": [
          0.6000000000000001,
          0.7800000000000001
         ],
         "showticklabels": true
        },
        "xaxis4": {
         "anchor": "y4",
         "domain": [
          0.6000000000000001,
          0.7800000000000001
         ],
         "showticklabels": true,
         "title": {
          "text": "Tag"
         }
        },
        "xaxis40": {
         "anchor": "y40",
         "domain": [
          0.8,
          0.9800000000000001
         ],
         "showticklabels": true
        },
        "xaxis41": {
         "anchor": "y41",
         "domain": [
          0,
          0.18000000000000002
         ],
         "showticklabels": true
        },
        "xaxis42": {
         "anchor": "y42",
         "domain": [
          0.2,
          0.38
         ],
         "showticklabels": true
        },
        "xaxis43": {
         "anchor": "y43",
         "domain": [
          0.4,
          0.5800000000000001
         ],
         "showticklabels": true
        },
        "xaxis44": {
         "anchor": "y44",
         "domain": [
          0.6000000000000001,
          0.7800000000000001
         ],
         "showticklabels": true
        },
        "xaxis45": {
         "anchor": "y45",
         "domain": [
          0.8,
          0.9800000000000001
         ],
         "showticklabels": true
        },
        "xaxis46": {
         "anchor": "y46",
         "domain": [
          0,
          0.18000000000000002
         ],
         "showticklabels": true
        },
        "xaxis47": {
         "anchor": "y47",
         "domain": [
          0.2,
          0.38
         ],
         "showticklabels": true
        },
        "xaxis48": {
         "anchor": "y48",
         "domain": [
          0.4,
          0.5800000000000001
         ],
         "showticklabels": true
        },
        "xaxis49": {
         "anchor": "y49",
         "domain": [
          0.6000000000000001,
          0.7800000000000001
         ],
         "showticklabels": true
        },
        "xaxis5": {
         "anchor": "y5",
         "domain": [
          0.8,
          0.9800000000000001
         ],
         "showticklabels": true,
         "title": {
          "text": "Tag"
         }
        },
        "xaxis50": {
         "anchor": "y50",
         "domain": [
          0.8,
          0.9800000000000001
         ],
         "showticklabels": true
        },
        "xaxis51": {
         "anchor": "y51",
         "domain": [
          0,
          0.18000000000000002
         ],
         "showticklabels": true
        },
        "xaxis52": {
         "anchor": "y52",
         "domain": [
          0.2,
          0.38
         ],
         "showticklabels": true
        },
        "xaxis53": {
         "anchor": "y53",
         "domain": [
          0.4,
          0.5800000000000001
         ],
         "showticklabels": true
        },
        "xaxis54": {
         "anchor": "y54",
         "domain": [
          0.6000000000000001,
          0.7800000000000001
         ],
         "showticklabels": true
        },
        "xaxis55": {
         "anchor": "y55",
         "domain": [
          0.8,
          0.9800000000000001
         ],
         "showticklabels": true
        },
        "xaxis56": {
         "anchor": "y56",
         "domain": [
          0,
          0.18000000000000002
         ],
         "showticklabels": true
        },
        "xaxis57": {
         "anchor": "y57",
         "domain": [
          0.2,
          0.38
         ],
         "showticklabels": true
        },
        "xaxis58": {
         "anchor": "y58",
         "domain": [
          0.4,
          0.5800000000000001
         ],
         "showticklabels": true
        },
        "xaxis59": {
         "anchor": "y59",
         "domain": [
          0.6000000000000001,
          0.7800000000000001
         ],
         "showticklabels": true
        },
        "xaxis6": {
         "anchor": "y6",
         "domain": [
          0,
          0.18000000000000002
         ],
         "showticklabels": true
        },
        "xaxis60": {
         "anchor": "y60",
         "domain": [
          0.8,
          0.9800000000000001
         ],
         "showticklabels": true
        },
        "xaxis61": {
         "anchor": "y61",
         "domain": [
          0,
          0.18000000000000002
         ],
         "showticklabels": true
        },
        "xaxis62": {
         "anchor": "y62",
         "domain": [
          0.2,
          0.38
         ],
         "showticklabels": true
        },
        "xaxis63": {
         "anchor": "y63",
         "domain": [
          0.4,
          0.5800000000000001
         ],
         "showticklabels": true
        },
        "xaxis64": {
         "anchor": "y64",
         "domain": [
          0.6000000000000001,
          0.7800000000000001
         ],
         "showticklabels": true
        },
        "xaxis65": {
         "anchor": "y65",
         "domain": [
          0.8,
          0.9800000000000001
         ],
         "showticklabels": true
        },
        "xaxis66": {
         "anchor": "y66",
         "domain": [
          0,
          0.18000000000000002
         ],
         "showticklabels": true
        },
        "xaxis67": {
         "anchor": "y67",
         "domain": [
          0.2,
          0.38
         ],
         "showticklabels": true
        },
        "xaxis68": {
         "anchor": "y68",
         "domain": [
          0.4,
          0.5800000000000001
         ],
         "showticklabels": true
        },
        "xaxis69": {
         "anchor": "y69",
         "domain": [
          0.6000000000000001,
          0.7800000000000001
         ],
         "showticklabels": true
        },
        "xaxis7": {
         "anchor": "y7",
         "domain": [
          0.2,
          0.38
         ],
         "showticklabels": true
        },
        "xaxis70": {
         "anchor": "y70",
         "domain": [
          0.8,
          0.9800000000000001
         ],
         "showticklabels": true
        },
        "xaxis71": {
         "anchor": "y71",
         "domain": [
          0,
          0.18000000000000002
         ],
         "showticklabels": true
        },
        "xaxis72": {
         "anchor": "y72",
         "domain": [
          0.2,
          0.38
         ],
         "showticklabels": true
        },
        "xaxis73": {
         "anchor": "y73",
         "domain": [
          0.4,
          0.5800000000000001
         ],
         "showticklabels": true
        },
        "xaxis74": {
         "anchor": "y74",
         "domain": [
          0.6000000000000001,
          0.7800000000000001
         ],
         "showticklabels": true
        },
        "xaxis75": {
         "anchor": "y75",
         "domain": [
          0.8,
          0.9800000000000001
         ],
         "showticklabels": true
        },
        "xaxis8": {
         "anchor": "y8",
         "domain": [
          0.4,
          0.5800000000000001
         ],
         "showticklabels": true
        },
        "xaxis9": {
         "anchor": "y9",
         "domain": [
          0.6000000000000001,
          0.7800000000000001
         ],
         "showticklabels": true
        },
        "yaxis": {
         "anchor": "x",
         "automargin": true,
         "domain": [
          0,
          0.03866666666666667
         ],
         "title": {
          "text": "Tag Count"
         }
        },
        "yaxis10": {
         "anchor": "x10",
         "domain": [
          0.06866666666666667,
          0.10733333333333334
         ],
         "matches": "y",
         "showticklabels": false
        },
        "yaxis11": {
         "anchor": "x11",
         "domain": [
          0.13733333333333334,
          0.176
         ],
         "matches": "y",
         "title": {
          "text": "Tag Count"
         }
        },
        "yaxis12": {
         "anchor": "x12",
         "domain": [
          0.13733333333333334,
          0.176
         ],
         "matches": "y",
         "showticklabels": false
        },
        "yaxis13": {
         "anchor": "x13",
         "domain": [
          0.13733333333333334,
          0.176
         ],
         "matches": "y",
         "showticklabels": false
        },
        "yaxis14": {
         "anchor": "x14",
         "domain": [
          0.13733333333333334,
          0.176
         ],
         "matches": "y",
         "showticklabels": false
        },
        "yaxis15": {
         "anchor": "x15",
         "domain": [
          0.13733333333333334,
          0.176
         ],
         "matches": "y",
         "showticklabels": false
        },
        "yaxis16": {
         "anchor": "x16",
         "domain": [
          0.20600000000000002,
          0.2446666666666667
         ],
         "matches": "y",
         "title": {
          "text": "Tag Count"
         }
        },
        "yaxis17": {
         "anchor": "x17",
         "domain": [
          0.20600000000000002,
          0.2446666666666667
         ],
         "matches": "y",
         "showticklabels": false
        },
        "yaxis18": {
         "anchor": "x18",
         "domain": [
          0.20600000000000002,
          0.2446666666666667
         ],
         "matches": "y",
         "showticklabels": false
        },
        "yaxis19": {
         "anchor": "x19",
         "domain": [
          0.20600000000000002,
          0.2446666666666667
         ],
         "matches": "y",
         "showticklabels": false
        },
        "yaxis2": {
         "anchor": "x2",
         "domain": [
          0,
          0.03866666666666667
         ],
         "matches": "y",
         "showticklabels": false
        },
        "yaxis20": {
         "anchor": "x20",
         "domain": [
          0.20600000000000002,
          0.2446666666666667
         ],
         "matches": "y",
         "showticklabels": false
        },
        "yaxis21": {
         "anchor": "x21",
         "domain": [
          0.27466666666666667,
          0.31333333333333335
         ],
         "matches": "y",
         "title": {
          "text": "Tag Count"
         }
        },
        "yaxis22": {
         "anchor": "x22",
         "domain": [
          0.27466666666666667,
          0.31333333333333335
         ],
         "matches": "y",
         "showticklabels": false
        },
        "yaxis23": {
         "anchor": "x23",
         "domain": [
          0.27466666666666667,
          0.31333333333333335
         ],
         "matches": "y",
         "showticklabels": false
        },
        "yaxis24": {
         "anchor": "x24",
         "domain": [
          0.27466666666666667,
          0.31333333333333335
         ],
         "matches": "y",
         "showticklabels": false
        },
        "yaxis25": {
         "anchor": "x25",
         "domain": [
          0.27466666666666667,
          0.31333333333333335
         ],
         "matches": "y",
         "showticklabels": false
        },
        "yaxis26": {
         "anchor": "x26",
         "domain": [
          0.3433333333333334,
          0.38200000000000006
         ],
         "matches": "y",
         "title": {
          "text": "Tag Count"
         }
        },
        "yaxis27": {
         "anchor": "x27",
         "domain": [
          0.3433333333333334,
          0.38200000000000006
         ],
         "matches": "y",
         "showticklabels": false
        },
        "yaxis28": {
         "anchor": "x28",
         "domain": [
          0.3433333333333334,
          0.38200000000000006
         ],
         "matches": "y",
         "showticklabels": false
        },
        "yaxis29": {
         "anchor": "x29",
         "domain": [
          0.3433333333333334,
          0.38200000000000006
         ],
         "matches": "y",
         "showticklabels": false
        },
        "yaxis3": {
         "anchor": "x3",
         "domain": [
          0,
          0.03866666666666667
         ],
         "matches": "y",
         "showticklabels": false
        },
        "yaxis30": {
         "anchor": "x30",
         "domain": [
          0.3433333333333334,
          0.38200000000000006
         ],
         "matches": "y",
         "showticklabels": false
        },
        "yaxis31": {
         "anchor": "x31",
         "domain": [
          0.41200000000000003,
          0.4506666666666667
         ],
         "matches": "y",
         "title": {
          "text": "Tag Count"
         }
        },
        "yaxis32": {
         "anchor": "x32",
         "domain": [
          0.41200000000000003,
          0.4506666666666667
         ],
         "matches": "y",
         "showticklabels": false
        },
        "yaxis33": {
         "anchor": "x33",
         "domain": [
          0.41200000000000003,
          0.4506666666666667
         ],
         "matches": "y",
         "showticklabels": false
        },
        "yaxis34": {
         "anchor": "x34",
         "domain": [
          0.41200000000000003,
          0.4506666666666667
         ],
         "matches": "y",
         "showticklabels": false
        },
        "yaxis35": {
         "anchor": "x35",
         "domain": [
          0.41200000000000003,
          0.4506666666666667
         ],
         "matches": "y",
         "showticklabels": false
        },
        "yaxis36": {
         "anchor": "x36",
         "domain": [
          0.4806666666666667,
          0.5193333333333333
         ],
         "matches": "y",
         "title": {
          "text": "Tag Count"
         }
        },
        "yaxis37": {
         "anchor": "x37",
         "domain": [
          0.4806666666666667,
          0.5193333333333333
         ],
         "matches": "y",
         "showticklabels": false
        },
        "yaxis38": {
         "anchor": "x38",
         "domain": [
          0.4806666666666667,
          0.5193333333333333
         ],
         "matches": "y",
         "showticklabels": false
        },
        "yaxis39": {
         "anchor": "x39",
         "domain": [
          0.4806666666666667,
          0.5193333333333333
         ],
         "matches": "y",
         "showticklabels": false
        },
        "yaxis4": {
         "anchor": "x4",
         "domain": [
          0,
          0.03866666666666667
         ],
         "matches": "y",
         "showticklabels": false
        },
        "yaxis40": {
         "anchor": "x40",
         "domain": [
          0.4806666666666667,
          0.5193333333333333
         ],
         "matches": "y",
         "showticklabels": false
        },
        "yaxis41": {
         "anchor": "x41",
         "domain": [
          0.5493333333333335,
          0.5880000000000001
         ],
         "matches": "y",
         "title": {
          "text": "Tag Count"
         }
        },
        "yaxis42": {
         "anchor": "x42",
         "domain": [
          0.5493333333333335,
          0.5880000000000001
         ],
         "matches": "y",
         "showticklabels": false
        },
        "yaxis43": {
         "anchor": "x43",
         "domain": [
          0.5493333333333335,
          0.5880000000000001
         ],
         "matches": "y",
         "showticklabels": false
        },
        "yaxis44": {
         "anchor": "x44",
         "domain": [
          0.5493333333333335,
          0.5880000000000001
         ],
         "matches": "y",
         "showticklabels": false
        },
        "yaxis45": {
         "anchor": "x45",
         "domain": [
          0.5493333333333335,
          0.5880000000000001
         ],
         "matches": "y",
         "showticklabels": false
        },
        "yaxis46": {
         "anchor": "x46",
         "domain": [
          0.6180000000000001,
          0.6566666666666667
         ],
         "matches": "y",
         "title": {
          "text": "Tag Count"
         }
        },
        "yaxis47": {
         "anchor": "x47",
         "domain": [
          0.6180000000000001,
          0.6566666666666667
         ],
         "matches": "y",
         "showticklabels": false
        },
        "yaxis48": {
         "anchor": "x48",
         "domain": [
          0.6180000000000001,
          0.6566666666666667
         ],
         "matches": "y",
         "showticklabels": false
        },
        "yaxis49": {
         "anchor": "x49",
         "domain": [
          0.6180000000000001,
          0.6566666666666667
         ],
         "matches": "y",
         "showticklabels": false
        },
        "yaxis5": {
         "anchor": "x5",
         "domain": [
          0,
          0.03866666666666667
         ],
         "matches": "y",
         "showticklabels": false
        },
        "yaxis50": {
         "anchor": "x50",
         "domain": [
          0.6180000000000001,
          0.6566666666666667
         ],
         "matches": "y",
         "showticklabels": false
        },
        "yaxis51": {
         "anchor": "x51",
         "domain": [
          0.6866666666666668,
          0.7253333333333334
         ],
         "matches": "y",
         "title": {
          "text": "Tag Count"
         }
        },
        "yaxis52": {
         "anchor": "x52",
         "domain": [
          0.6866666666666668,
          0.7253333333333334
         ],
         "matches": "y",
         "showticklabels": false
        },
        "yaxis53": {
         "anchor": "x53",
         "domain": [
          0.6866666666666668,
          0.7253333333333334
         ],
         "matches": "y",
         "showticklabels": false
        },
        "yaxis54": {
         "anchor": "x54",
         "domain": [
          0.6866666666666668,
          0.7253333333333334
         ],
         "matches": "y",
         "showticklabels": false
        },
        "yaxis55": {
         "anchor": "x55",
         "domain": [
          0.6866666666666668,
          0.7253333333333334
         ],
         "matches": "y",
         "showticklabels": false
        },
        "yaxis56": {
         "anchor": "x56",
         "domain": [
          0.7553333333333334,
          0.794
         ],
         "matches": "y",
         "title": {
          "text": "Tag Count"
         }
        },
        "yaxis57": {
         "anchor": "x57",
         "domain": [
          0.7553333333333334,
          0.794
         ],
         "matches": "y",
         "showticklabels": false
        },
        "yaxis58": {
         "anchor": "x58",
         "domain": [
          0.7553333333333334,
          0.794
         ],
         "matches": "y",
         "showticklabels": false
        },
        "yaxis59": {
         "anchor": "x59",
         "domain": [
          0.7553333333333334,
          0.794
         ],
         "matches": "y",
         "showticklabels": false
        },
        "yaxis6": {
         "anchor": "x6",
         "domain": [
          0.06866666666666667,
          0.10733333333333334
         ],
         "matches": "y",
         "title": {
          "text": "Tag Count"
         }
        },
        "yaxis60": {
         "anchor": "x60",
         "domain": [
          0.7553333333333334,
          0.794
         ],
         "matches": "y",
         "showticklabels": false
        },
        "yaxis61": {
         "anchor": "x61",
         "domain": [
          0.8240000000000001,
          0.8626666666666667
         ],
         "matches": "y",
         "title": {
          "text": "Tag Count"
         }
        },
        "yaxis62": {
         "anchor": "x62",
         "domain": [
          0.8240000000000001,
          0.8626666666666667
         ],
         "matches": "y",
         "showticklabels": false
        },
        "yaxis63": {
         "anchor": "x63",
         "domain": [
          0.8240000000000001,
          0.8626666666666667
         ],
         "matches": "y",
         "showticklabels": false
        },
        "yaxis64": {
         "anchor": "x64",
         "domain": [
          0.8240000000000001,
          0.8626666666666667
         ],
         "matches": "y",
         "showticklabels": false
        },
        "yaxis65": {
         "anchor": "x65",
         "domain": [
          0.8240000000000001,
          0.8626666666666667
         ],
         "matches": "y",
         "showticklabels": false
        },
        "yaxis66": {
         "anchor": "x66",
         "domain": [
          0.8926666666666668,
          0.9313333333333335
         ],
         "matches": "y",
         "title": {
          "text": "Tag Count"
         }
        },
        "yaxis67": {
         "anchor": "x67",
         "domain": [
          0.8926666666666668,
          0.9313333333333335
         ],
         "matches": "y",
         "showticklabels": false
        },
        "yaxis68": {
         "anchor": "x68",
         "domain": [
          0.8926666666666668,
          0.9313333333333335
         ],
         "matches": "y",
         "showticklabels": false
        },
        "yaxis69": {
         "anchor": "x69",
         "domain": [
          0.8926666666666668,
          0.9313333333333335
         ],
         "matches": "y",
         "showticklabels": false
        },
        "yaxis7": {
         "anchor": "x7",
         "domain": [
          0.06866666666666667,
          0.10733333333333334
         ],
         "matches": "y",
         "showticklabels": false
        },
        "yaxis70": {
         "anchor": "x70",
         "domain": [
          0.8926666666666668,
          0.9313333333333335
         ],
         "matches": "y",
         "showticklabels": false
        },
        "yaxis71": {
         "anchor": "x71",
         "domain": [
          0.9613333333333334,
          1
         ],
         "matches": "y",
         "title": {
          "text": "Tag Count"
         }
        },
        "yaxis72": {
         "anchor": "x72",
         "domain": [
          0.9613333333333334,
          1
         ],
         "matches": "y",
         "showticklabels": false
        },
        "yaxis73": {
         "anchor": "x73",
         "domain": [
          0.9613333333333334,
          1
         ],
         "matches": "y",
         "showticklabels": false
        },
        "yaxis74": {
         "anchor": "x74",
         "domain": [
          0.9613333333333334,
          1
         ],
         "matches": "y",
         "showticklabels": false
        },
        "yaxis75": {
         "anchor": "x75",
         "domain": [
          0.9613333333333334,
          1
         ],
         "matches": "y",
         "showticklabels": false
        },
        "yaxis8": {
         "anchor": "x8",
         "domain": [
          0.06866666666666667,
          0.10733333333333334
         ],
         "matches": "y",
         "showticklabels": false
        },
        "yaxis9": {
         "anchor": "x9",
         "domain": [
          0.06866666666666667,
          0.10733333333333334
         ],
         "matches": "y",
         "showticklabels": false
        }
       }
      },
      "text/html": [
       "<div>                            <div id=\"7fb446ce-a808-47a9-bca9-f90b3b2c77ec\" class=\"plotly-graph-div\" style=\"height:2400px; width:1600px;\"></div>            <script type=\"text/javascript\">                require([\"plotly\"], function(Plotly) {                    window.PLOTLYENV=window.PLOTLYENV || {};                                    if (document.getElementById(\"7fb446ce-a808-47a9-bca9-f90b3b2c77ec\")) {                    Plotly.newPlot(                        \"7fb446ce-a808-47a9-bca9-f90b3b2c77ec\",                        [{\"alignmentgroup\":\"True\",\"hovertemplate\":\"Category=Comedy<br>Year-Month=2021-03<br>Tag=%{x}<br>Tag Count=%{text}<extra></extra>\",\"legendgroup\":\"\",\"marker\":{\"color\":\"#636efa\",\"pattern\":{\"shape\":\"\"}},\"name\":\"\",\"offsetgroup\":\"\",\"orientation\":\"v\",\"showlegend\":false,\"text\":[2.0,2.0,2.0,1.0,1.0],\"textposition\":\"auto\",\"x\":[\"\\uc6c3\\uae34\\uc601\\uc0c1\",\"\\ubab0\\uce74\",\"\\uc2dc\\ud2b8\\ucf64\",\"\\uae68\\ubc29\\uc815\",\"\\ud22c\\ub9c8\\ub9ac\"],\"xaxis\":\"x71\",\"y\":[2,2,2,1,1],\"yaxis\":\"y71\",\"type\":\"bar\"},{\"alignmentgroup\":\"True\",\"hovertemplate\":\"Category=Comedy<br>Year-Month=2021-04<br>Tag=%{x}<br>Tag Count=%{text}<extra></extra>\",\"legendgroup\":\"\",\"marker\":{\"color\":\"#636efa\",\"pattern\":{\"shape\":\"\"}},\"name\":\"\",\"offsetgroup\":\"\",\"orientation\":\"v\",\"showlegend\":false,\"text\":[12.0,8.0,6.0,6.0,6.0],\"textposition\":\"auto\",\"x\":[\"\\ubab0\\uce74\",\"\\ubab0\\ub798\\uce74\\uba54\\ub77c\",\"\\uac1c\\uadf8\\ub9e8\",\"\\uc6c3\\uc18c\",\"\\ub808\\uc804\\ub4dc\"],\"xaxis\":\"x72\",\"y\":[12,8,6,6,6],\"yaxis\":\"y72\",\"type\":\"bar\"},{\"alignmentgroup\":\"True\",\"hovertemplate\":\"Category=Comedy<br>Year-Month=2021-05<br>Tag=%{x}<br>Tag Count=%{text}<extra></extra>\",\"legendgroup\":\"\",\"marker\":{\"color\":\"#636efa\",\"pattern\":{\"shape\":\"\"}},\"name\":\"\",\"offsetgroup\":\"\",\"orientation\":\"v\",\"showlegend\":false,\"text\":[9.0,5.0,5.0,5.0,4.0],\"textposition\":\"auto\",\"x\":[\"\\ubab0\\uce74\",\"\\ub354\\ube14\\ube44\",\"\\ud53c\\uc2dd\\ub300\\ud559\",\"\\ucc38\\uad50\\uc721\",\"\\ubab0\\ub798\\uce74\\uba54\\ub77c\"],\"xaxis\":\"x73\",\"y\":[9,5,5,5,4],\"yaxis\":\"y73\",\"type\":\"bar\"},{\"alignmentgroup\":\"True\",\"hovertemplate\":\"Category=Comedy<br>Year-Month=2021-06<br>Tag=%{x}<br>Tag Count=%{text}<extra></extra>\",\"legendgroup\":\"\",\"marker\":{\"color\":\"#636efa\",\"pattern\":{\"shape\":\"\"}},\"name\":\"\",\"offsetgroup\":\"\",\"orientation\":\"v\",\"showlegend\":false,\"text\":[6.0,5.0,4.0,4.0,4.0],\"textposition\":\"auto\",\"x\":[\"\\ubc18\\uc751\",\"\\ub77c\\uba74\",\"\\uc6c3\\uae34\",\"\\uce58\\ud0a8\",\"\\uc870\\ub2c8\"],\"xaxis\":\"x74\",\"y\":[6,5,4,4,4],\"yaxis\":\"y74\",\"type\":\"bar\"},{\"alignmentgroup\":\"True\",\"hovertemplate\":\"Category=Comedy<br>Year-Month=2021-07<br>Tag=%{x}<br>Tag Count=%{text}<extra></extra>\",\"legendgroup\":\"\",\"marker\":{\"color\":\"#636efa\",\"pattern\":{\"shape\":\"\"}},\"name\":\"\",\"offsetgroup\":\"\",\"orientation\":\"v\",\"showlegend\":false,\"text\":[4.0,4.0,4.0,4.0,3.0],\"textposition\":\"auto\",\"x\":[\"\\uc5b4\\ubabd\\uc5b4\\uc2a4\\uc560\\ub2c8\\uba54\\uc774\\uc158\",\"\\uc5b4\\ubabd\\uc5b4\\uc2a4\\uc560\\ub2c8\",\"among us animation\",\"\\uc6c3\\uc18c\",\"funny video\"],\"xaxis\":\"x75\",\"y\":[4,4,4,4,3],\"yaxis\":\"y75\",\"type\":\"bar\"},{\"alignmentgroup\":\"True\",\"hovertemplate\":\"Category=Education<br>Year-Month=2021-03<br>Tag=%{x}<br>Tag Count=%{text}<extra></extra>\",\"legendgroup\":\"\",\"marker\":{\"color\":\"#636efa\",\"pattern\":{\"shape\":\"\"}},\"name\":\"\",\"offsetgroup\":\"\",\"orientation\":\"v\",\"showlegend\":false,\"text\":[1.0,1.0,1.0,1.0,1.0],\"textposition\":\"auto\",\"x\":[\"\\uc870\\uc2b9\\uc5f0\",\"\\uc778\\ub3c4 \\uc5ed\\uc0ac\",\"\\uc778\\ub3c4 \\uacc4\\uae09 \\uc81c\\ub3c4\",\"\\uc870\\uc2b9\\uc5f0\\uc791\\uac00\",\"\\uc870\\uc2b9\\uc5f0 \\uc791\\uac00\"],\"xaxis\":\"x66\",\"y\":[1,1,1,1,1],\"yaxis\":\"y66\",\"type\":\"bar\"},{\"alignmentgroup\":\"True\",\"hovertemplate\":\"Category=Education<br>Year-Month=2021-04<br>Tag=%{x}<br>Tag Count=%{text}<extra></extra>\",\"legendgroup\":\"\",\"marker\":{\"color\":\"#636efa\",\"pattern\":{\"shape\":\"\"}},\"name\":\"\",\"offsetgroup\":\"\",\"orientation\":\"v\",\"showlegend\":false,\"text\":[3.0,3.0,2.0,2.0,2.0],\"textposition\":\"auto\",\"x\":[\"\\ud22c\\uc790\",\"\\uc8fc\\uc2dd\",\"KimMiKyung\",\"International Speaker\",\"\\uae40\\ubbf8\\uacbdTV\"],\"xaxis\":\"x67\",\"y\":[3,3,2,2,2],\"yaxis\":\"y67\",\"type\":\"bar\"},{\"alignmentgroup\":\"True\",\"hovertemplate\":\"Category=Education<br>Year-Month=2021-05<br>Tag=%{x}<br>Tag Count=%{text}<extra></extra>\",\"legendgroup\":\"\",\"marker\":{\"color\":\"#636efa\",\"pattern\":{\"shape\":\"\"}},\"name\":\"\",\"offsetgroup\":\"\",\"orientation\":\"v\",\"showlegend\":false,\"text\":[2.0,2.0,2.0,1.0,1.0],\"textposition\":\"auto\",\"x\":[\"\\ud55c\\uc2dc\\uc0dd\\uacc4\\uc9c0\\uc6d0\\uae08\",\"\\uc720\\uc6a9\\ud55c\\uc815\\ubcf4\",\"\\ubcf5\\uc9c0\\uc815\\ubcf4\",\"\\ub2f9\\uc6a9\\ud55c\\uc790\",\"\\ub4dc\\ub9bd\"],\"xaxis\":\"x68\",\"y\":[2,2,2,1,1],\"yaxis\":\"y68\",\"type\":\"bar\"},{\"alignmentgroup\":\"True\",\"hovertemplate\":\"Category=Education<br>Year-Month=2021-06<br>Tag=%{x}<br>Tag Count=%{text}<extra></extra>\",\"legendgroup\":\"\",\"marker\":{\"color\":\"#636efa\",\"pattern\":{\"shape\":\"\"}},\"name\":\"\",\"offsetgroup\":\"\",\"orientation\":\"v\",\"showlegend\":false,\"text\":[3.0,3.0,3.0,3.0,3.0],\"textposition\":\"auto\",\"x\":[\"\\uc544\\uc774\\ud15c\",\"\\ub4dc\\ub9bd\",\"\\uc720\\ub798\",\"\\uc5b4\\ub514\\uc11c\",\"\\uc544\\uc774\\ud15c\\uc758\\uc778\\ubca4\\ud1a0\\ub9ac\"],\"xaxis\":\"x69\",\"y\":[3,3,3,3,3],\"yaxis\":\"y69\",\"type\":\"bar\"},{\"alignmentgroup\":\"True\",\"hovertemplate\":\"Category=Education<br>Year-Month=2021-07<br>Tag=%{x}<br>Tag Count=%{text}<extra></extra>\",\"legendgroup\":\"\",\"marker\":{\"color\":\"#636efa\",\"pattern\":{\"shape\":\"\"}},\"name\":\"\",\"offsetgroup\":\"\",\"orientation\":\"v\",\"showlegend\":false,\"text\":[3.0,3.0,3.0,3.0,3.0],\"textposition\":\"auto\",\"x\":[\"\\ud638\\uae30\\uc2ec\",\"\\uad81\\uae08\\uc99d\",\"\\uc7a1\\ud559\",\"\\uc0ac\\ubb3c\\uad81\\uc774\",\"\\uc9c0\\uc2dd\"],\"xaxis\":\"x70\",\"y\":[3,3,3,3,3],\"yaxis\":\"y70\",\"type\":\"bar\"},{\"alignmentgroup\":\"True\",\"hovertemplate\":\"Category=Entertainment<br>Year-Month=2021-03<br>Tag=%{x}<br>Tag Count=%{text}<extra></extra>\",\"legendgroup\":\"\",\"marker\":{\"color\":\"#636efa\",\"pattern\":{\"shape\":\"\"}},\"name\":\"\",\"offsetgroup\":\"\",\"orientation\":\"v\",\"showlegend\":false,\"text\":[4.0,4.0,3.0,3.0,3.0],\"textposition\":\"auto\",\"x\":[\"KBS\",\"\\uc720\\uc7ac\\uc11d\",\"\\uc544\\uc774\\uc720\",\"idol\",\"eng\"],\"xaxis\":\"x61\",\"y\":[4,4,3,3,3],\"yaxis\":\"y61\",\"type\":\"bar\"},{\"alignmentgroup\":\"True\",\"hovertemplate\":\"Category=Entertainment<br>Year-Month=2021-04<br>Tag=%{x}<br>Tag Count=%{text}<extra></extra>\",\"legendgroup\":\"\",\"marker\":{\"color\":\"#636efa\",\"pattern\":{\"shape\":\"\"}},\"name\":\"\",\"offsetgroup\":\"\",\"orientation\":\"v\",\"showlegend\":false,\"text\":[24.0,22.0,19.0,18.0,18.0],\"textposition\":\"auto\",\"x\":[\"\\uc608\\ub2a5\",\"\\uba39\\ubc29\",\"\\ube0c\\ub808\\uc774\\ube0c\\uac78\\uc2a4\",\"\\ub864\\ub9b0\",\"\\uc720\\uc7ac\\uc11d\"],\"xaxis\":\"x62\",\"y\":[24,22,19,18,18],\"yaxis\":\"y62\",\"type\":\"bar\"},{\"alignmentgroup\":\"True\",\"hovertemplate\":\"Category=Entertainment<br>Year-Month=2021-05<br>Tag=%{x}<br>Tag Count=%{text}<extra></extra>\",\"legendgroup\":\"\",\"marker\":{\"color\":\"#636efa\",\"pattern\":{\"shape\":\"\"}},\"name\":\"\",\"offsetgroup\":\"\",\"orientation\":\"v\",\"showlegend\":false,\"text\":[19.0,16.0,14.0,12.0,11.0],\"textposition\":\"auto\",\"x\":[\"tvN\",\"\\uba39\\ubc29\",\"\\ubc29\\ud0c4\\uc18c\\ub144\\ub2e8\",\"\\ud53c\\uc624\",\"\\ub77c\\uba74\"],\"xaxis\":\"x63\",\"y\":[19,16,14,12,11],\"yaxis\":\"y63\",\"type\":\"bar\"},{\"alignmentgroup\":\"True\",\"hovertemplate\":\"Category=Entertainment<br>Year-Month=2021-06<br>Tag=%{x}<br>Tag Count=%{text}<extra></extra>\",\"legendgroup\":\"\",\"marker\":{\"color\":\"#636efa\",\"pattern\":{\"shape\":\"\"}},\"name\":\"\",\"offsetgroup\":\"\",\"orientation\":\"v\",\"showlegend\":false,\"text\":[27.0,20.0,15.0,15.0,13.0],\"textposition\":\"auto\",\"x\":[\"\\uba39\\ubc29\",\"\\uc608\\ub2a5\",\"SBS\",\"\\ub808\\uc804\\ub4dc\",\"\\uc720\\uc7ac\\uc11d\"],\"xaxis\":\"x64\",\"y\":[27,20,15,15,13],\"yaxis\":\"y64\",\"type\":\"bar\"},{\"alignmentgroup\":\"True\",\"hovertemplate\":\"Category=Entertainment<br>Year-Month=2021-07<br>Tag=%{x}<br>Tag Count=%{text}<extra></extra>\",\"legendgroup\":\"\",\"marker\":{\"color\":\"#636efa\",\"pattern\":{\"shape\":\"\"}},\"name\":\"\",\"offsetgroup\":\"\",\"orientation\":\"v\",\"showlegend\":false,\"text\":[19.0,17.0,14.0,12.0,11.0],\"textposition\":\"auto\",\"x\":[\"\\uc720\\uc7ac\\uc11d\",\"\\uc608\\ub2a5\",\"SBS\",\"\\uba39\\ubc29\",\"\\ub808\\uc804\\ub4dc\"],\"xaxis\":\"x65\",\"y\":[19,17,14,12,11],\"yaxis\":\"y65\",\"type\":\"bar\"},{\"alignmentgroup\":\"True\",\"hovertemplate\":\"Category=Film & Animation<br>Year-Month=2021-03<br>Tag=%{x}<br>Tag Count=%{text}<extra></extra>\",\"legendgroup\":\"\",\"marker\":{\"color\":\"#636efa\",\"pattern\":{\"shape\":\"\"}},\"name\":\"\",\"offsetgroup\":\"\",\"orientation\":\"v\",\"showlegend\":false,\"text\":[1.0,1.0,1.0,1.0,1.0],\"textposition\":\"auto\",\"x\":[\"\\uace0\\ubbfc\\ud230\",\"\\uc0ac\\uc5f0\\ud230\",\"\\uc370\\ud230\",\"\\uc0ac\\uc774\\ub2e4\\ud230\",\"\\uc601\\uc0c1\\ud230\"],\"xaxis\":\"x56\",\"y\":[1,1,1,1,1],\"yaxis\":\"y56\",\"type\":\"bar\"},{\"alignmentgroup\":\"True\",\"hovertemplate\":\"Category=Film & Animation<br>Year-Month=2021-04<br>Tag=%{x}<br>Tag Count=%{text}<extra></extra>\",\"legendgroup\":\"\",\"marker\":{\"color\":\"#636efa\",\"pattern\":{\"shape\":\"\"}},\"name\":\"\",\"offsetgroup\":\"\",\"orientation\":\"v\",\"showlegend\":false,\"text\":[4.0,4.0,4.0,3.0,3.0],\"textposition\":\"auto\",\"x\":[\"\\ubcd1\\ub9db\\ub354\\ube59\",\"\\ub9cc\\ud654\",\"\\ub354\\ube59\",\"\\ubcd1\\ub9db\",\"\\uc6f9\\ud230\"],\"xaxis\":\"x57\",\"y\":[4,4,4,3,3],\"yaxis\":\"y57\",\"type\":\"bar\"},{\"alignmentgroup\":\"True\",\"hovertemplate\":\"Category=Film & Animation<br>Year-Month=2021-05<br>Tag=%{x}<br>Tag Count=%{text}<extra></extra>\",\"legendgroup\":\"\",\"marker\":{\"color\":\"#636efa\",\"pattern\":{\"shape\":\"\"}},\"name\":\"\",\"offsetgroup\":\"\",\"orientation\":\"v\",\"showlegend\":false,\"text\":[6.0,5.0,4.0,3.0,3.0],\"textposition\":\"auto\",\"x\":[\"\\uc601\\uc0c1\\ud230\",\"\\uc370\\ud230\",\"\\uc560\\ub2c8\\uba54\\uc774\\uc158\",\"\\uc77c\\uc0c1\",\"\\ube14\\ub799\\uc704\\ub3c4\\uc6b0\"],\"xaxis\":\"x58\",\"y\":[6,5,4,3,3],\"yaxis\":\"y58\",\"type\":\"bar\"},{\"alignmentgroup\":\"True\",\"hovertemplate\":\"Category=Film & Animation<br>Year-Month=2021-06<br>Tag=%{x}<br>Tag Count=%{text}<extra></extra>\",\"legendgroup\":\"\",\"marker\":{\"color\":\"#636efa\",\"pattern\":{\"shape\":\"\"}},\"name\":\"\",\"offsetgroup\":\"\",\"orientation\":\"v\",\"showlegend\":false,\"text\":[5.0,5.0,5.0,3.0,3.0],\"textposition\":\"auto\",\"x\":[\"\\ubcd1\\ub9db\\ub354\\ube59\",\"\\ub354\\ube59\",\"\\ub9cc\\ud654\",\"\\ub9cc\\ud654\\ucd94\\ucc9c\",\"\\uafc0\\uc7bc\"],\"xaxis\":\"x59\",\"y\":[5,5,5,3,3],\"yaxis\":\"y59\",\"type\":\"bar\"},{\"alignmentgroup\":\"True\",\"hovertemplate\":\"Category=Film & Animation<br>Year-Month=2021-07<br>Tag=%{x}<br>Tag Count=%{text}<extra></extra>\",\"legendgroup\":\"\",\"marker\":{\"color\":\"#636efa\",\"pattern\":{\"shape\":\"\"}},\"name\":\"\",\"offsetgroup\":\"\",\"orientation\":\"v\",\"showlegend\":false,\"text\":[10.0,9.0,7.0,7.0,6.0],\"textposition\":\"auto\",\"x\":[\"\\ub9cc\\ud654\",\"\\uc560\\ub2c8\\uba54\\uc774\\uc158\",\"\\ub354\\ube59\",\"\\ubcd1\\ub9db\\ub354\\ube59\",\"\\uc6f9\\ud230\"],\"xaxis\":\"x60\",\"y\":[10,9,7,7,6],\"yaxis\":\"y60\",\"type\":\"bar\"},{\"alignmentgroup\":\"True\",\"hovertemplate\":\"Category=Gaming<br>Year-Month=2021-03<br>Tag=%{x}<br>Tag Count=%{text}<extra></extra>\",\"legendgroup\":\"\",\"marker\":{\"color\":\"#636efa\",\"pattern\":{\"shape\":\"\"}},\"name\":\"\",\"offsetgroup\":\"\",\"orientation\":\"v\",\"showlegend\":false,\"text\":[1.0,1.0,1.0,1.0,1.0],\"textposition\":\"auto\",\"x\":[\"\\ub9ac\\uadf8\\uc624\\ube0c\\ub808\\uc804\\ub4dc\",\"\\ub9ac\\uadf8 \\uc624\\ube0c \\ub808\\uc804\\ub4dc\",\"LoL\",\"Leagueoflegends\",\"League of Legends\"],\"xaxis\":\"x51\",\"y\":[1,1,1,1,1],\"yaxis\":\"y51\",\"type\":\"bar\"},{\"alignmentgroup\":\"True\",\"hovertemplate\":\"Category=Gaming<br>Year-Month=2021-04<br>Tag=%{x}<br>Tag Count=%{text}<extra></extra>\",\"legendgroup\":\"\",\"marker\":{\"color\":\"#636efa\",\"pattern\":{\"shape\":\"\"}},\"name\":\"\",\"offsetgroup\":\"\",\"orientation\":\"v\",\"showlegend\":false,\"text\":[3.0,2.0,2.0,2.0,2.0],\"textposition\":\"auto\",\"x\":[\"\\uba39\\ubc29\",\"#\\uc6d0\\ub51c\",\"#\\ub864\",\"\\ub9ac\\uadf8\\uc624\\ube0c\\ub808\\uc804\\ub4dc\",\"#\\uad34\\ubb3c\\uc950\"],\"xaxis\":\"x52\",\"y\":[3,2,2,2,2],\"yaxis\":\"y52\",\"type\":\"bar\"},{\"alignmentgroup\":\"True\",\"hovertemplate\":\"Category=Gaming<br>Year-Month=2021-05<br>Tag=%{x}<br>Tag Count=%{text}<extra></extra>\",\"legendgroup\":\"\",\"marker\":{\"color\":\"#636efa\",\"pattern\":{\"shape\":\"\"}},\"name\":\"\",\"offsetgroup\":\"\",\"orientation\":\"v\",\"showlegend\":false,\"text\":[5.0,4.0,4.0,3.0,3.0],\"textposition\":\"auto\",\"x\":[\"\\uba39\\ubc29\",\"\\uc7ac\\ubc0c\\ub294\",\"\\uc6c3\\uae34\",\"\\uc544\\ud504\\ub9ac\\uce74TV\",\"\\ud61c\\uc548\"],\"xaxis\":\"x53\",\"y\":[5,4,4,3,3],\"yaxis\":\"y53\",\"type\":\"bar\"},{\"alignmentgroup\":\"True\",\"hovertemplate\":\"Category=Gaming<br>Year-Month=2021-06<br>Tag=%{x}<br>Tag Count=%{text}<extra></extra>\",\"legendgroup\":\"\",\"marker\":{\"color\":\"#636efa\",\"pattern\":{\"shape\":\"\"}},\"name\":\"\",\"offsetgroup\":\"\",\"orientation\":\"v\",\"showlegend\":false,\"text\":[7.0,7.0,6.0,6.0,5.0],\"textposition\":\"auto\",\"x\":[\"\\ud504\\ub77c\\uc774\\ub370\\uc774 \\ub098\\uc774\\ud2b8 \\ud38c\\ud0a8\",\"\\ud504\\ub098\\ud38c\",\"fnf\",\"friday night funkin\",\"\\ud504\\ub098\\ud391\"],\"xaxis\":\"x54\",\"y\":[7,7,6,6,5],\"yaxis\":\"y54\",\"type\":\"bar\"},{\"alignmentgroup\":\"True\",\"hovertemplate\":\"Category=Gaming<br>Year-Month=2021-07<br>Tag=%{x}<br>Tag Count=%{text}<extra></extra>\",\"legendgroup\":\"\",\"marker\":{\"color\":\"#636efa\",\"pattern\":{\"shape\":\"\"}},\"name\":\"\",\"offsetgroup\":\"\",\"orientation\":\"v\",\"showlegend\":false,\"text\":[4.0,3.0,3.0,2.0,2.0],\"textposition\":\"auto\",\"x\":[\"\\uba39\\ubc29\",\"\\ud61c\\uc548\",\"\\ub9c8\\uc778\\ud06c\\ub798\\ud504\\ud2b8\",\"\\uc2a4\\ud3ec\\uce20\",\"esports kbs\"],\"xaxis\":\"x55\",\"y\":[4,3,3,2,2],\"yaxis\":\"y55\",\"type\":\"bar\"},{\"alignmentgroup\":\"True\",\"hovertemplate\":\"Category=Howto & Style<br>Year-Month=2021-03<br>Tag=%{x}<br>Tag Count=%{text}<extra></extra>\",\"legendgroup\":\"\",\"marker\":{\"color\":\"#636efa\",\"pattern\":{\"shape\":\"\"}},\"name\":\"\",\"offsetgroup\":\"\",\"orientation\":\"v\",\"showlegend\":false,\"text\":[1.0,1.0,1.0,1.0,1.0],\"textposition\":\"auto\",\"x\":[\"\\uc0ac\\ub098\\uace0\",\"3D\\ud39c\",\"3Dpen\",\"\\ub9cc\\ub4e4\\uae30\",\"making\"],\"xaxis\":\"x46\",\"y\":[1,1,1,1,1],\"yaxis\":\"y46\",\"type\":\"bar\"},{\"alignmentgroup\":\"True\",\"hovertemplate\":\"Category=Howto & Style<br>Year-Month=2021-04<br>Tag=%{x}<br>Tag Count=%{text}<extra></extra>\",\"legendgroup\":\"\",\"marker\":{\"color\":\"#636efa\",\"pattern\":{\"shape\":\"\"}},\"name\":\"\",\"offsetgroup\":\"\",\"orientation\":\"v\",\"showlegend\":false,\"text\":[4.0,4.0,3.0,3.0,3.0],\"textposition\":\"auto\",\"x\":[\"\\uc0ac\\ub098\\uace0\",\"\\ub9cc\\ub4e4\\uae30\",\"3d\\ud504\\ub9b0\\ud130\",\"3Dprinting\",\"3D\\ud39c\"],\"xaxis\":\"x47\",\"y\":[4,4,3,3,3],\"yaxis\":\"y47\",\"type\":\"bar\"},{\"alignmentgroup\":\"True\",\"hovertemplate\":\"Category=Howto & Style<br>Year-Month=2021-05<br>Tag=%{x}<br>Tag Count=%{text}<extra></extra>\",\"legendgroup\":\"\",\"marker\":{\"color\":\"#636efa\",\"pattern\":{\"shape\":\"\"}},\"name\":\"\",\"offsetgroup\":\"\",\"orientation\":\"v\",\"showlegend\":false,\"text\":[4.0,3.0,3.0,3.0,3.0],\"textposition\":\"auto\",\"x\":[\"\\uc694\\ub9ac\",\"\\ud55c\\uc2dd\",\"\\ucd08\\ubcf4\\uc694\\ub9ac\",\"\\ud568\\uaed8\\ud574\\uc694 \\ub9db\\ub098\\uc694\\ub9ac\",\"\\uc26c\\uc6b4\\uc694\\ub9ac\"],\"xaxis\":\"x48\",\"y\":[4,3,3,3,3],\"yaxis\":\"y48\",\"type\":\"bar\"},{\"alignmentgroup\":\"True\",\"hovertemplate\":\"Category=Howto & Style<br>Year-Month=2021-06<br>Tag=%{x}<br>Tag Count=%{text}<extra></extra>\",\"legendgroup\":\"\",\"marker\":{\"color\":\"#636efa\",\"pattern\":{\"shape\":\"\"}},\"name\":\"\",\"offsetgroup\":\"\",\"orientation\":\"v\",\"showlegend\":false,\"text\":[4.0,4.0,3.0,3.0,3.0],\"textposition\":\"auto\",\"x\":[\"\\ud55c\\uc2dd\",\"\\ubc11\\ubc18\\ucc2c\",\"Korean recipes\",\"Korean Traditional Food Recipe\",\"\\uc790\\ucde8\\uc74c\\uc2dd\"],\"xaxis\":\"x49\",\"y\":[4,4,3,3,3],\"yaxis\":\"y49\",\"type\":\"bar\"},{\"alignmentgroup\":\"True\",\"hovertemplate\":\"Category=Howto & Style<br>Year-Month=2021-07<br>Tag=%{x}<br>Tag Count=%{text}<extra></extra>\",\"legendgroup\":\"\",\"marker\":{\"color\":\"#636efa\",\"pattern\":{\"shape\":\"\"}},\"name\":\"\",\"offsetgroup\":\"\",\"orientation\":\"v\",\"showlegend\":false,\"text\":[8.0,8.0,7.0,6.0,4.0],\"textposition\":\"auto\",\"x\":[\"\\ubc18\\ucc2c\",\"\\uc694\\ub9ac\",\"\\ud55c\\uc2dd\",\"\\ub808\\uc2dc\\ud53c\",\"\\ub9cc\\ub4e4\\uae30\"],\"xaxis\":\"x50\",\"y\":[8,8,7,6,4],\"yaxis\":\"y50\",\"type\":\"bar\"},{\"alignmentgroup\":\"True\",\"hovertemplate\":\"Category=Music<br>Year-Month=2021-03<br>Tag=%{x}<br>Tag Count=%{text}<extra></extra>\",\"legendgroup\":\"\",\"marker\":{\"color\":\"#636efa\",\"pattern\":{\"shape\":\"\"}},\"name\":\"\",\"offsetgroup\":\"\",\"orientation\":\"v\",\"showlegend\":false,\"text\":[2.0,2.0,1.0,1.0,1.0],\"textposition\":\"auto\",\"x\":[\"\\uc544\\uc774\\ub3cc\",\"music\",\"Teaser\",\"new\",\"dingo\"],\"xaxis\":\"x41\",\"y\":[2,2,1,1,1],\"yaxis\":\"y41\",\"type\":\"bar\"},{\"alignmentgroup\":\"True\",\"hovertemplate\":\"Category=Music<br>Year-Month=2021-04<br>Tag=%{x}<br>Tag Count=%{text}<extra></extra>\",\"legendgroup\":\"\",\"marker\":{\"color\":\"#636efa\",\"pattern\":{\"shape\":\"\"}},\"name\":\"\",\"offsetgroup\":\"\",\"orientation\":\"v\",\"showlegend\":false,\"text\":[8.0,8.0,7.0,7.0,6.0],\"textposition\":\"auto\",\"x\":[\"SEVENTEEN\",\"BTS\",\"\\u30bb\\u30d6\\u30c1\",\"\\uc138\\ube10\\ud2f4\",\"\\ubc29\\ud0c4\\uc18c\\ub144\\ub2e8\"],\"xaxis\":\"x42\",\"y\":[8,8,7,7,6],\"yaxis\":\"y42\",\"type\":\"bar\"},{\"alignmentgroup\":\"True\",\"hovertemplate\":\"Category=Music<br>Year-Month=2021-05<br>Tag=%{x}<br>Tag Count=%{text}<extra></extra>\",\"legendgroup\":\"\",\"marker\":{\"color\":\"#636efa\",\"pattern\":{\"shape\":\"\"}},\"name\":\"\",\"offsetgroup\":\"\",\"orientation\":\"v\",\"showlegend\":false,\"text\":[15.0,13.0,11.0,10.0,9.0],\"textposition\":\"auto\",\"x\":[\"BTS\",\"\\ubc29\\ud0c4\\uc18c\\ub144\\ub2e8\",\"aespa\",\"BANGTAN\",\"\\uc5d0\\uc2a4\\ud30c\"],\"xaxis\":\"x43\",\"y\":[15,13,11,10,9],\"yaxis\":\"y43\",\"type\":\"bar\"},{\"alignmentgroup\":\"True\",\"hovertemplate\":\"Category=Music<br>Year-Month=2021-06<br>Tag=%{x}<br>Tag Count=%{text}<extra></extra>\",\"legendgroup\":\"\",\"marker\":{\"color\":\"#636efa\",\"pattern\":{\"shape\":\"\"}},\"name\":\"\",\"offsetgroup\":\"\",\"orientation\":\"v\",\"showlegend\":false,\"text\":[7.0,7.0,6.0,6.0,5.0],\"textposition\":\"auto\",\"x\":[\"\\ud2b8\\uc640\\uc774\\uc2a4\",\"\\uc74c\\uc545\",\"TWICE\",\"kpop\",\"dingo\"],\"xaxis\":\"x44\",\"y\":[7,7,6,6,5],\"yaxis\":\"y44\",\"type\":\"bar\"},{\"alignmentgroup\":\"True\",\"hovertemplate\":\"Category=Music<br>Year-Month=2021-07<br>Tag=%{x}<br>Tag Count=%{text}<extra></extra>\",\"legendgroup\":\"\",\"marker\":{\"color\":\"#636efa\",\"pattern\":{\"shape\":\"\"}},\"name\":\"\",\"offsetgroup\":\"\",\"orientation\":\"v\",\"showlegend\":false,\"text\":[10.0,7.0,4.0,4.0,4.0],\"textposition\":\"auto\",\"x\":[\"BTS\",\"\\ubc29\\ud0c4\\uc18c\\ub144\\ub2e8\",\"mv\",\"\\uc9c0\\ubbfc\",\"JIN\"],\"xaxis\":\"x45\",\"y\":[10,7,4,4,4],\"yaxis\":\"y45\",\"type\":\"bar\"},{\"alignmentgroup\":\"True\",\"hovertemplate\":\"Category=News & Politics<br>Year-Month=2021-03<br>Tag=%{x}<br>Tag Count=%{text}<extra></extra>\",\"legendgroup\":\"\",\"marker\":{\"color\":\"#636efa\",\"pattern\":{\"shape\":\"\"}},\"name\":\"\",\"offsetgroup\":\"\",\"orientation\":\"v\",\"showlegend\":false,\"text\":[4.0,2.0,2.0,1.0,1.0],\"textposition\":\"auto\",\"x\":[\"\\ubc15\\uc218\\ud64d\",\"\\ucd9c\\uc5f0\\ub8cc\",\"\\ud6a1\\ub839\",\"\\uacc4\\uc57d\\uae08\",\"\\uc624\\uc5f4\"],\"xaxis\":\"x36\",\"y\":[4,2,2,1,1],\"yaxis\":\"y36\",\"type\":\"bar\"},{\"alignmentgroup\":\"True\",\"hovertemplate\":\"Category=News & Politics<br>Year-Month=2021-04<br>Tag=%{x}<br>Tag Count=%{text}<extra></extra>\",\"legendgroup\":\"\",\"marker\":{\"color\":\"#636efa\",\"pattern\":{\"shape\":\"\"}},\"name\":\"\",\"offsetgroup\":\"\",\"orientation\":\"v\",\"showlegend\":false,\"text\":[8.0,5.0,5.0,5.0,4.0],\"textposition\":\"auto\",\"x\":[\"\\ub274\\uc2a4\",\"\\uc8fc\\uc2dd\",\"ETF\",\"news\",\"\\uc99d\\uad8c\"],\"xaxis\":\"x37\",\"y\":[8,5,5,5,4],\"yaxis\":\"y37\",\"type\":\"bar\"},{\"alignmentgroup\":\"True\",\"hovertemplate\":\"Category=News & Politics<br>Year-Month=2021-05<br>Tag=%{x}<br>Tag Count=%{text}<extra></extra>\",\"legendgroup\":\"\",\"marker\":{\"color\":\"#636efa\",\"pattern\":{\"shape\":\"\"}},\"name\":\"\",\"offsetgroup\":\"\",\"orientation\":\"v\",\"showlegend\":false,\"text\":[20.0,13.0,7.0,6.0,6.0],\"textposition\":\"auto\",\"x\":[\"\\ub274\\uc2a4\",\"\\uc190\\uc815\\ubbfc\",\"\\uc758\\ub300\\uc0dd\",\"\\uc81c\\uc774\\ud2f0\\ube44\\uc528 \\ub274\\uc2a4\",\"\\ucf54\\ub85c\\ub09819\"],\"xaxis\":\"x38\",\"y\":[20,13,7,6,6],\"yaxis\":\"y38\",\"type\":\"bar\"},{\"alignmentgroup\":\"True\",\"hovertemplate\":\"Category=News & Politics<br>Year-Month=2021-06<br>Tag=%{x}<br>Tag Count=%{text}<extra></extra>\",\"legendgroup\":\"\",\"marker\":{\"color\":\"#636efa\",\"pattern\":{\"shape\":\"\"}},\"name\":\"\",\"offsetgroup\":\"\",\"orientation\":\"v\",\"showlegend\":false,\"text\":[6.0,3.0,3.0,3.0,3.0],\"textposition\":\"auto\",\"x\":[\"\\ub274\\uc2a4\",\"\\uad11\\uc8fc\",\"MBC\\ub274\\uc2a4\",\"News Network\",\"news\"],\"xaxis\":\"x39\",\"y\":[6,3,3,3,3],\"yaxis\":\"y39\",\"type\":\"bar\"},{\"alignmentgroup\":\"True\",\"hovertemplate\":\"Category=News & Politics<br>Year-Month=2021-07<br>Tag=%{x}<br>Tag Count=%{text}<extra></extra>\",\"legendgroup\":\"\",\"marker\":{\"color\":\"#636efa\",\"pattern\":{\"shape\":\"\"}},\"name\":\"\",\"offsetgroup\":\"\",\"orientation\":\"v\",\"showlegend\":false,\"text\":[10.0,9.0,6.0,4.0,4.0],\"textposition\":\"auto\",\"x\":[\"\\ub3c4\\ucfc4\\uc62c\\ub9bc\\ud53d\",\"\\ub274\\uc2a4\",\"\\uc62c\\ub9bc\\ud53d\",\"News Network\",\"news\"],\"xaxis\":\"x40\",\"y\":[10,9,6,4,4],\"yaxis\":\"y40\",\"type\":\"bar\"},{\"alignmentgroup\":\"True\",\"hovertemplate\":\"Category=People & Blogs<br>Year-Month=2021-03<br>Tag=%{x}<br>Tag Count=%{text}<extra></extra>\",\"legendgroup\":\"\",\"marker\":{\"color\":\"#636efa\",\"pattern\":{\"shape\":\"\"}},\"name\":\"\",\"offsetgroup\":\"\",\"orientation\":\"v\",\"showlegend\":false,\"text\":[2.0,2.0,2.0,2.0,2.0],\"textposition\":\"auto\",\"x\":[\"\\uac15\\ucca0\\ubd80\\ub300\",\"\\ub300\\ud14c\\ub7ec \\ubd80\\ub300\",\"\\ubc00\\ub9ac\\ud130\\ub9ac\",\"\\ud2b9\\uc804\\uc0ac\",\"UDT\\ud574\\uad70\\ud2b9\\uc218\\uc804\\uc804\\ub2e8\"],\"xaxis\":\"x31\",\"y\":[2,2,2,2,2],\"yaxis\":\"y31\",\"type\":\"bar\"},{\"alignmentgroup\":\"True\",\"hovertemplate\":\"Category=People & Blogs<br>Year-Month=2021-04<br>Tag=%{x}<br>Tag Count=%{text}<extra></extra>\",\"legendgroup\":\"\",\"marker\":{\"color\":\"#636efa\",\"pattern\":{\"shape\":\"\"}},\"name\":\"\",\"offsetgroup\":\"\",\"orientation\":\"v\",\"showlegend\":false,\"text\":[13.0,10.0,8.0,7.0,7.0],\"textposition\":\"auto\",\"x\":[\"\\uba39\\ubc29\",\"\\ube0c\\uc774\\ub85c\\uadf8\",\"vlog\",\"\\ub9db\\uc9d1\",\"korean\"],\"xaxis\":\"x32\",\"y\":[13,10,8,7,7],\"yaxis\":\"y32\",\"type\":\"bar\"},{\"alignmentgroup\":\"True\",\"hovertemplate\":\"Category=People & Blogs<br>Year-Month=2021-05<br>Tag=%{x}<br>Tag Count=%{text}<extra></extra>\",\"legendgroup\":\"\",\"marker\":{\"color\":\"#636efa\",\"pattern\":{\"shape\":\"\"}},\"name\":\"\",\"offsetgroup\":\"\",\"orientation\":\"v\",\"showlegend\":false,\"text\":[16.0,6.0,6.0,5.0,5.0],\"textposition\":\"auto\",\"x\":[\"\\uba39\\ubc29\",\"mukbang\",\"\\uba38\\ub2c8\\uac8c\\uc784\",\"\\uc9c4\\uc6a9\\uc9c4\",\"\\ud56b\\uc18c\\uc2a4\"],\"xaxis\":\"x33\",\"y\":[16,6,6,5,5],\"yaxis\":\"y33\",\"type\":\"bar\"},{\"alignmentgroup\":\"True\",\"hovertemplate\":\"Category=People & Blogs<br>Year-Month=2021-06<br>Tag=%{x}<br>Tag Count=%{text}<extra></extra>\",\"legendgroup\":\"\",\"marker\":{\"color\":\"#636efa\",\"pattern\":{\"shape\":\"\"}},\"name\":\"\",\"offsetgroup\":\"\",\"orientation\":\"v\",\"showlegend\":false,\"text\":[15.0,12.0,9.0,8.0,7.0],\"textposition\":\"auto\",\"x\":[\"\\uba39\\ubc29\",\"\\ube0c\\uc774\\ub85c\\uadf8\",\"\\ub9db\\uc9d1\",\"\\uc77c\\uc0c1\",\"vlog\"],\"xaxis\":\"x34\",\"y\":[15,12,9,8,7],\"yaxis\":\"y34\",\"type\":\"bar\"},{\"alignmentgroup\":\"True\",\"hovertemplate\":\"Category=People & Blogs<br>Year-Month=2021-07<br>Tag=%{x}<br>Tag Count=%{text}<extra></extra>\",\"legendgroup\":\"\",\"marker\":{\"color\":\"#636efa\",\"pattern\":{\"shape\":\"\"}},\"name\":\"\",\"offsetgroup\":\"\",\"orientation\":\"v\",\"showlegend\":false,\"text\":[14.0,12.0,9.0,5.0,5.0],\"textposition\":\"auto\",\"x\":[\"\\uba39\\ubc29\",\"\\ube0c\\uc774\\ub85c\\uadf8\",\"vlog\",\"\\uad6d\\uc81c\\ucee4\\ud50c\",\"mukbang\"],\"xaxis\":\"x35\",\"y\":[14,12,9,5,5],\"yaxis\":\"y35\",\"type\":\"bar\"},{\"alignmentgroup\":\"True\",\"hovertemplate\":\"Category=Pets & Animals<br>Year-Month=2021-03<br>Tag=%{x}<br>Tag Count=%{text}<extra></extra>\",\"legendgroup\":\"\",\"marker\":{\"color\":\"#636efa\",\"pattern\":{\"shape\":\"\"}},\"name\":\"\",\"offsetgroup\":\"\",\"orientation\":\"v\",\"showlegend\":false,\"text\":[2.0,2.0,1.0,1.0,1.0],\"textposition\":\"auto\",\"x\":[\"\\uace0\\uc591\\uc774\",\"cat\",\"haha ha\",\"\\ud558\\ud558 \\ud558\",\"\\ubb34\"],\"xaxis\":\"x26\",\"y\":[2,2,1,1,1],\"yaxis\":\"y26\",\"type\":\"bar\"},{\"alignmentgroup\":\"True\",\"hovertemplate\":\"Category=Pets & Animals<br>Year-Month=2021-04<br>Tag=%{x}<br>Tag Count=%{text}<extra></extra>\",\"legendgroup\":\"\",\"marker\":{\"color\":\"#636efa\",\"pattern\":{\"shape\":\"\"}},\"name\":\"\",\"offsetgroup\":\"\",\"orientation\":\"v\",\"showlegend\":false,\"text\":[2.0,2.0,2.0,1.0,1.0],\"textposition\":\"auto\",\"x\":[\"\\uc77c\\uc0c1\",\"\\ub3d9\\ubb3c\\ubcd1\\uc6d0\",\"\\ube0c\\uc774\\ub85c\\uadf8\",\"\\ud669\\uc5b4\\ub5bc\",\"tv animal farm\"],\"xaxis\":\"x27\",\"y\":[2,2,2,1,1],\"yaxis\":\"y27\",\"type\":\"bar\"},{\"alignmentgroup\":\"True\",\"hovertemplate\":\"Category=Pets & Animals<br>Year-Month=2021-05<br>Tag=%{x}<br>Tag Count=%{text}<extra></extra>\",\"legendgroup\":\"\",\"marker\":{\"color\":\"#636efa\",\"pattern\":{\"shape\":\"\"}},\"name\":\"\",\"offsetgroup\":\"\",\"orientation\":\"v\",\"showlegend\":false,\"text\":[6.0,6.0,6.0,6.0,6.0],\"textposition\":\"auto\",\"x\":[\"\\ub3d9\\ubb3c\\uc601\\uc0c1\",\"animal farm\",\"\\uc560\\ub2c8\\uba40\\ubd10\",\"\\ub3d9\\ubb3c\\ub18d\\uc7a5\",\"animals\"],\"xaxis\":\"x28\",\"y\":[6,6,6,6,6],\"yaxis\":\"y28\",\"type\":\"bar\"},{\"alignmentgroup\":\"True\",\"hovertemplate\":\"Category=Pets & Animals<br>Year-Month=2021-06<br>Tag=%{x}<br>Tag Count=%{text}<extra></extra>\",\"legendgroup\":\"\",\"marker\":{\"color\":\"#636efa\",\"pattern\":{\"shape\":\"\"}},\"name\":\"\",\"offsetgroup\":\"\",\"orientation\":\"v\",\"showlegend\":false,\"text\":[6.0,5.0,3.0,3.0,3.0],\"textposition\":\"auto\",\"x\":[\"\\uace0\\uc591\\uc774\",\"\\uac15\\uc544\\uc9c0\",\"\\uc544\\ub9ac\\ub791\",\"\\ub3d9\\ubb3c\",\"cat\"],\"xaxis\":\"x29\",\"y\":[6,5,3,3,3],\"yaxis\":\"y29\",\"type\":\"bar\"},{\"alignmentgroup\":\"True\",\"hovertemplate\":\"Category=Pets & Animals<br>Year-Month=2021-07<br>Tag=%{x}<br>Tag Count=%{text}<extra></extra>\",\"legendgroup\":\"\",\"marker\":{\"color\":\"#636efa\",\"pattern\":{\"shape\":\"\"}},\"name\":\"\",\"offsetgroup\":\"\",\"orientation\":\"v\",\"showlegend\":false,\"text\":[10.0,7.0,6.0,6.0,6.0],\"textposition\":\"auto\",\"x\":[\"cat\",\"\\ub0e5\\uc90d\",\"\\uace0\\uc591\\uc774\",\"chat\",\"\\uc0c8\\ub07c \\uae38\\uace0\\uc591\\uc774\"],\"xaxis\":\"x30\",\"y\":[10,7,6,6,6],\"yaxis\":\"y30\",\"type\":\"bar\"},{\"alignmentgroup\":\"True\",\"hovertemplate\":\"Category=Science & Technology<br>Year-Month=2021-03<br>Tag=%{x}<br>Tag Count=%{text}<extra></extra>\",\"legendgroup\":\"\",\"marker\":{\"color\":\"#636efa\",\"pattern\":{\"shape\":\"\"}},\"name\":\"\",\"offsetgroup\":\"\",\"orientation\":\"v\",\"showlegend\":false,\"text\":[1.0,1.0,1.0,1.0,1.0],\"textposition\":\"auto\",\"x\":[\"YTN\\uc0ac\\uc774\\uc5b8\\uc2a4\",\"\\uc0ac\\uc774\\uc5b8\\uc2a4\\ud22c\\ub370\\uc774\",\"\\uacfc\\ud559\",\"\\ub274\\uc2a4\",\"\\uc0ac\\uc774\\uc5b8\\uc2a4TV\"],\"xaxis\":\"x21\",\"y\":[1,1,1,1,1],\"yaxis\":\"y21\",\"type\":\"bar\"},{\"alignmentgroup\":\"True\",\"hovertemplate\":\"Category=Science & Technology<br>Year-Month=2021-04<br>Tag=%{x}<br>Tag Count=%{text}<extra></extra>\",\"legendgroup\":\"\",\"marker\":{\"color\":\"#636efa\",\"pattern\":{\"shape\":\"\"}},\"name\":\"\",\"offsetgroup\":\"\",\"orientation\":\"v\",\"showlegend\":false,\"text\":[4.0,4.0,3.0,3.0,3.0],\"textposition\":\"auto\",\"x\":[\"\\uc560\\ud50c\",\"\\uc544\\uc774\\ub9e5\",\"Apple\",\"\\uc5d0\\uc5b4\\ud0dc\\uadf8\",\"\\uc544\\uc774\\ud328\\ub4dc \\ud504\\ub85c 5\\uc138\\ub300\"],\"xaxis\":\"x22\",\"y\":[4,4,3,3,3],\"yaxis\":\"y22\",\"type\":\"bar\"},{\"alignmentgroup\":\"True\",\"hovertemplate\":\"Category=Science & Technology<br>Year-Month=2021-05<br>Tag=%{x}<br>Tag Count=%{text}<extra></extra>\",\"legendgroup\":\"\",\"marker\":{\"color\":\"#636efa\",\"pattern\":{\"shape\":\"\"}},\"name\":\"\",\"offsetgroup\":\"\",\"orientation\":\"v\",\"showlegend\":false,\"text\":[3.0,2.0,2.0,2.0,1.0],\"textposition\":\"auto\",\"x\":[\"\\uc560\\ud50c\",\"\\uc544\\uc774\\ud328\\ub4dc \\ud504\\ub85c 12.9\",\"apple\",\"\\uc544\\uc774\\ub9e5\",\"\\ubaa8\\uc74c\"],\"xaxis\":\"x23\",\"y\":[3,2,2,2,1],\"yaxis\":\"y23\",\"type\":\"bar\"},{\"alignmentgroup\":\"True\",\"hovertemplate\":\"Category=Science & Technology<br>Year-Month=2021-06<br>Tag=%{x}<br>Tag Count=%{text}<extra></extra>\",\"legendgroup\":\"\",\"marker\":{\"color\":\"#636efa\",\"pattern\":{\"shape\":\"\"}},\"name\":\"\",\"offsetgroup\":\"\",\"orientation\":\"v\",\"showlegend\":false,\"text\":[1.0,1.0,1.0,1.0,1.0],\"textposition\":\"auto\",\"x\":[\"Apple\",\"Apple Event\",\"Apple Keynote\",\"Apple Special Event\",\"Apple WWDC\"],\"xaxis\":\"x24\",\"y\":[1,1,1,1,1],\"yaxis\":\"y24\",\"type\":\"bar\"},{\"alignmentgroup\":\"True\",\"hovertemplate\":\"Category=Science & Technology<br>Year-Month=2021-07<br>Tag=%{x}<br>Tag Count=%{text}<extra></extra>\",\"legendgroup\":\"\",\"marker\":{\"color\":\"#636efa\",\"pattern\":{\"shape\":\"\"}},\"name\":\"\",\"offsetgroup\":\"\",\"orientation\":\"v\",\"showlegend\":false,\"text\":[2.0,2.0,1.0,1.0,1.0],\"textposition\":\"auto\",\"x\":[\"unboxing\",\"\\ud574\\ubd80\",\"\\uac24\\ub7ed\\uc2dc\\ud0ed\",\"2\\uc8fc \\uc0ac\\uc6a9\\uae30\",\"\\uac13\\uc131\\ube44\"],\"xaxis\":\"x25\",\"y\":[2,2,1,1,1],\"yaxis\":\"y25\",\"type\":\"bar\"},{\"alignmentgroup\":\"True\",\"hovertemplate\":\"Category=Sports<br>Year-Month=2021-03<br>Tag=%{x}<br>Tag Count=%{text}<extra></extra>\",\"legendgroup\":\"\",\"marker\":{\"color\":\"#636efa\",\"pattern\":{\"shape\":\"\"}},\"name\":\"\",\"offsetgroup\":\"\",\"orientation\":\"v\",\"showlegend\":false,\"text\":[1.0,1.0,1.0,1.0,1.0],\"textposition\":\"auto\",\"x\":[\"\\uace8\\ud504\",\"\\uc9c0\\uba74\\ubc18\\ub825\",\"\\ud799\\ud134\",\"golf\",\"golf lesson\"],\"xaxis\":\"x16\",\"y\":[1,1,1,1,1],\"yaxis\":\"y16\",\"type\":\"bar\"},{\"alignmentgroup\":\"True\",\"hovertemplate\":\"Category=Sports<br>Year-Month=2021-04<br>Tag=%{x}<br>Tag Count=%{text}<extra></extra>\",\"legendgroup\":\"\",\"marker\":{\"color\":\"#636efa\",\"pattern\":{\"shape\":\"\"}},\"name\":\"\",\"offsetgroup\":\"\",\"orientation\":\"v\",\"showlegend\":false,\"text\":[11.0,10.0,7.0,6.0,6.0],\"textposition\":\"auto\",\"x\":[\"\\uc190\\ud765\\ubbfc\",\"\\ud1a0\\ud2b8\\ub118\",\"\\ucd95\\uad6c\",\"\\uc2a4\\ud3ec\\ud2f0\\ube44\",\"SPOTV\"],\"xaxis\":\"x17\",\"y\":[11,10,7,6,6],\"yaxis\":\"y17\",\"type\":\"bar\"},{\"alignmentgroup\":\"True\",\"hovertemplate\":\"Category=Sports<br>Year-Month=2021-05<br>Tag=%{x}<br>Tag Count=%{text}<extra></extra>\",\"legendgroup\":\"\",\"marker\":{\"color\":\"#636efa\",\"pattern\":{\"shape\":\"\"}},\"name\":\"\",\"offsetgroup\":\"\",\"orientation\":\"v\",\"showlegend\":false,\"text\":[6.0,6.0,6.0,6.0,5.0],\"textposition\":\"auto\",\"x\":[\"\\ub958\\ud604\\uc9c4\",\"\\ud1a0\\ub860\\ud1a0\\ube14\\ub8e8\\uc81c\\uc774\\uc2a4\",\"\\uba54\\uc774\\uc800\\ub9ac\\uadf8\",\"\\ud1a0\\ub860\\ud1a0\",\"mlb\"],\"xaxis\":\"x18\",\"y\":[6,6,6,6,5],\"yaxis\":\"y18\",\"type\":\"bar\"},{\"alignmentgroup\":\"True\",\"hovertemplate\":\"Category=Sports<br>Year-Month=2021-06<br>Tag=%{x}<br>Tag Count=%{text}<extra></extra>\",\"legendgroup\":\"\",\"marker\":{\"color\":\"#636efa\",\"pattern\":{\"shape\":\"\"}},\"name\":\"\",\"offsetgroup\":\"\",\"orientation\":\"v\",\"showlegend\":false,\"text\":[30.0,25.0,16.0,16.0,16.0],\"textposition\":\"auto\",\"x\":[\"\\ucd95\\uad6c\",\"\\uc190\\ud765\\ubbfc\",\"football\",\"\\uc720\\ub85c\",\"\\uc774\\ub3d9\\uad6d\"],\"xaxis\":\"x19\",\"y\":[30,25,16,16,16],\"yaxis\":\"y19\",\"type\":\"bar\"},{\"alignmentgroup\":\"True\",\"hovertemplate\":\"Category=Sports<br>Year-Month=2021-07<br>Tag=%{x}<br>Tag Count=%{text}<extra></extra>\",\"legendgroup\":\"\",\"marker\":{\"color\":\"#636efa\",\"pattern\":{\"shape\":\"\"}},\"name\":\"\",\"offsetgroup\":\"\",\"orientation\":\"v\",\"showlegend\":false,\"text\":[22.0,14.0,14.0,8.0,8.0],\"textposition\":\"auto\",\"x\":[\"\\ub3c4\\ucfc4\\uc62c\\ub9bc\\ud53d\",\"\\uc2a4\\ud3ec\\uce20\",\"\\uc62c\\ub9bc\\ud53d\",\"SPOTV\",\"KBS\"],\"xaxis\":\"x20\",\"y\":[22,14,14,8,8],\"yaxis\":\"y20\",\"type\":\"bar\"},{\"alignmentgroup\":\"True\",\"hovertemplate\":\"Category=Autos & Vehicles<br>Year-Month=2021-04<br>Tag=%{x}<br>Tag Count=%{text}<extra></extra>\",\"legendgroup\":\"\",\"marker\":{\"color\":\"#636efa\",\"pattern\":{\"shape\":\"\"}},\"name\":\"\",\"offsetgroup\":\"\",\"orientation\":\"v\",\"showlegend\":false,\"text\":[5.0,4.0,4.0,4.0,4.0],\"textposition\":\"auto\",\"x\":[\"K8\",\"\\uc2dc\\uc2b9\\uae30\",\"\\uae30\\uc544\",\"\\uc790\\ub3d9\\ucc28\",\"\\uadf8\\ub79c\\uc800\"],\"xaxis\":\"x12\",\"y\":[5,4,4,4,4],\"yaxis\":\"y12\",\"type\":\"bar\"},{\"alignmentgroup\":\"True\",\"hovertemplate\":\"Category=Autos & Vehicles<br>Year-Month=2021-05<br>Tag=%{x}<br>Tag Count=%{text}<extra></extra>\",\"legendgroup\":\"\",\"marker\":{\"color\":\"#636efa\",\"pattern\":{\"shape\":\"\"}},\"name\":\"\",\"offsetgroup\":\"\",\"orientation\":\"v\",\"showlegend\":false,\"text\":[3.0,3.0,2.0,2.0,2.0],\"textposition\":\"auto\",\"x\":[\"\\ud55c\\ubb38\\ucca0\",\"\\ube14\\ub799\\ubc15\\uc2a4\",\"traffic accident\",\"\\uba87\\ub300\\uba87\",\"\\ube14\\ub799\\ubc15\\uc2a4\\ub85c \\ubcf8 \\uc138\\uc0c1\"],\"xaxis\":\"x13\",\"y\":[3,3,2,2,2],\"yaxis\":\"y13\",\"type\":\"bar\"},{\"alignmentgroup\":\"True\",\"hovertemplate\":\"Category=Autos & Vehicles<br>Year-Month=2021-06<br>Tag=%{x}<br>Tag Count=%{text}<extra></extra>\",\"legendgroup\":\"\",\"marker\":{\"color\":\"#636efa\",\"pattern\":{\"shape\":\"\"}},\"name\":\"\",\"offsetgroup\":\"\",\"orientation\":\"v\",\"showlegend\":false,\"text\":[3.0,2.0,2.0,2.0,2.0],\"textposition\":\"auto\",\"x\":[\"\\uc790\\ub3d9\\ucc28\",\"\\uc6b4\\uc804\",\"\\ucd08\\ubcf4\\uc6b4\\uc804\",\"\\uae30\\uc544\",\"\\uc790\\ub3d9\\ucc28\\uafc0\\ud301\"],\"xaxis\":\"x14\",\"y\":[3,2,2,2,2],\"yaxis\":\"y14\",\"type\":\"bar\"},{\"alignmentgroup\":\"True\",\"hovertemplate\":\"Category=Autos & Vehicles<br>Year-Month=2021-07<br>Tag=%{x}<br>Tag Count=%{text}<extra></extra>\",\"legendgroup\":\"\",\"marker\":{\"color\":\"#636efa\",\"pattern\":{\"shape\":\"\"}},\"name\":\"\",\"offsetgroup\":\"\",\"orientation\":\"v\",\"showlegend\":false,\"text\":[4.0,2.0,2.0,2.0,2.0],\"textposition\":\"auto\",\"x\":[\"\\uc790\\ub3d9\\ucc28\",\"\\ub9ac\\ubdf0\",\"\\ubca4\\uce20\\ud29c\\ub2dd\",\"\\uc911\\uace0\\ucc28\\uad00\\ub9ac\",\"\\uc218\\uc785\\ucc28\\uc815\\ube44\"],\"xaxis\":\"x15\",\"y\":[4,2,2,2,2],\"yaxis\":\"y15\",\"type\":\"bar\"},{\"alignmentgroup\":\"True\",\"hovertemplate\":\"Category=Travel & Events<br>Year-Month=2021-04<br>Tag=%{x}<br>Tag Count=%{text}<extra></extra>\",\"legendgroup\":\"\",\"marker\":{\"color\":\"#636efa\",\"pattern\":{\"shape\":\"\"}},\"name\":\"\",\"offsetgroup\":\"\",\"orientation\":\"v\",\"showlegend\":false,\"text\":[2.0,2.0,2.0,2.0,2.0],\"textposition\":\"auto\",\"x\":[\"\\ubca0\\ud2b8\\ub0a8\",\"\\ub9c9\\ud0c4\",\"\\uc544\\ud504\\ub9ac\\uce74 \\uc5ec\\ud589\",\"\\uc5d0\\ud2f0\\uc624\\ud53c\\uc544 \\uc5ec\\ud589\",\"\\uc138\\ubd80\"],\"xaxis\":\"x7\",\"y\":[2,2,2,2,2],\"yaxis\":\"y7\",\"type\":\"bar\"},{\"alignmentgroup\":\"True\",\"hovertemplate\":\"Category=Travel & Events<br>Year-Month=2021-05<br>Tag=%{x}<br>Tag Count=%{text}<extra></extra>\",\"legendgroup\":\"\",\"marker\":{\"color\":\"#636efa\",\"pattern\":{\"shape\":\"\"}},\"name\":\"\",\"offsetgroup\":\"\",\"orientation\":\"v\",\"showlegend\":false,\"text\":[2.0,2.0,2.0,2.0,2.0],\"textposition\":\"auto\",\"x\":[\"\\uba85\\uc18c\",\"tourism\",\"EBS\",\"\\ud55c\\uad6d \\uae38\\uac70\\ub9ac\\uc74c\\uc2dd\",\"shorts\"],\"xaxis\":\"x8\",\"y\":[2,2,2,2,2],\"yaxis\":\"y8\",\"type\":\"bar\"},{\"alignmentgroup\":\"True\",\"hovertemplate\":\"Category=Travel & Events<br>Year-Month=2021-06<br>Tag=%{x}<br>Tag Count=%{text}<extra></extra>\",\"legendgroup\":\"\",\"marker\":{\"color\":\"#636efa\",\"pattern\":{\"shape\":\"\"}},\"name\":\"\",\"offsetgroup\":\"\",\"orientation\":\"v\",\"showlegend\":false,\"text\":[2.0,2.0,2.0,2.0,1.0],\"textposition\":\"auto\",\"x\":[\"\\ucea0\\ud551\\uce74\",\"\\ubaa8\\ud130\\ud648\",\"\\ucea0\\ud551\",\"\\uce74\\ub77c\\ubc18\",\"\\ud2b8\\ub7ed\\ucea0\\ud37c\\ucd94\\ucc9c\"],\"xaxis\":\"x9\",\"y\":[2,2,2,2,1],\"yaxis\":\"y9\",\"type\":\"bar\"},{\"alignmentgroup\":\"True\",\"hovertemplate\":\"Category=Travel & Events<br>Year-Month=2021-07<br>Tag=%{x}<br>Tag Count=%{text}<extra></extra>\",\"legendgroup\":\"\",\"marker\":{\"color\":\"#636efa\",\"pattern\":{\"shape\":\"\"}},\"name\":\"\",\"offsetgroup\":\"\",\"orientation\":\"v\",\"showlegend\":false,\"text\":[4.0,3.0,2.0,2.0,1.0],\"textposition\":\"auto\",\"x\":[\"\\ub7ec\\uc2dc\\uc544 \\uc5ec\\ud589\",\"\\ub7ec\\uc2dc\\uc544\",\"\\ubaa8\\uc2a4\\ud06c\\ubc14 \\uc5ec\\ud589\",\"\\uc138\\uacc4\\uc5ec\\ud589\",\"\\ub7ec\\uc2dc\\uc544 \\ubc31\\uc2e0\"],\"xaxis\":\"x10\",\"y\":[4,3,2,2,1],\"yaxis\":\"y10\",\"type\":\"bar\"},{\"alignmentgroup\":\"True\",\"hovertemplate\":\"Category=Nonprofits & Activism<br>Year-Month=2021-05<br>Tag=%{x}<br>Tag Count=%{text}<extra></extra>\",\"legendgroup\":\"\",\"marker\":{\"color\":\"#636efa\",\"pattern\":{\"shape\":\"\"}},\"name\":\"\",\"offsetgroup\":\"\",\"orientation\":\"v\",\"showlegend\":false,\"text\":[1.0,1.0,1.0,1.0,1.0],\"textposition\":\"auto\",\"x\":[\"\\ubd88\\uad50\",\"\\uc989\\ubb38\\uc989\\uc124\",\"\\ubc95\\ub95c\\uc2a4\\ub2d8\",\"\\uc815\\ud1a0\\ud68c\",\"buddha\"],\"xaxis\":\"x3\",\"y\":[1,1,1,1,1],\"yaxis\":\"y3\",\"type\":\"bar\"}],                        {\"template\":{\"data\":{\"bar\":[{\"error_x\":{\"color\":\"#2a3f5f\"},\"error_y\":{\"color\":\"#2a3f5f\"},\"marker\":{\"line\":{\"color\":\"#E5ECF6\",\"width\":0.5},\"pattern\":{\"fillmode\":\"overlay\",\"size\":10,\"solidity\":0.2}},\"type\":\"bar\"}],\"barpolar\":[{\"marker\":{\"line\":{\"color\":\"#E5ECF6\",\"width\":0.5},\"pattern\":{\"fillmode\":\"overlay\",\"size\":10,\"solidity\":0.2}},\"type\":\"barpolar\"}],\"carpet\":[{\"aaxis\":{\"endlinecolor\":\"#2a3f5f\",\"gridcolor\":\"white\",\"linecolor\":\"white\",\"minorgridcolor\":\"white\",\"startlinecolor\":\"#2a3f5f\"},\"baxis\":{\"endlinecolor\":\"#2a3f5f\",\"gridcolor\":\"white\",\"linecolor\":\"white\",\"minorgridcolor\":\"white\",\"startlinecolor\":\"#2a3f5f\"},\"type\":\"carpet\"}],\"choropleth\":[{\"colorbar\":{\"outlinewidth\":0,\"ticks\":\"\"},\"type\":\"choropleth\"}],\"contour\":[{\"colorbar\":{\"outlinewidth\":0,\"ticks\":\"\"},\"colorscale\":[[0.0,\"#0d0887\"],[0.1111111111111111,\"#46039f\"],[0.2222222222222222,\"#7201a8\"],[0.3333333333333333,\"#9c179e\"],[0.4444444444444444,\"#bd3786\"],[0.5555555555555556,\"#d8576b\"],[0.6666666666666666,\"#ed7953\"],[0.7777777777777778,\"#fb9f3a\"],[0.8888888888888888,\"#fdca26\"],[1.0,\"#f0f921\"]],\"type\":\"contour\"}],\"contourcarpet\":[{\"colorbar\":{\"outlinewidth\":0,\"ticks\":\"\"},\"type\":\"contourcarpet\"}],\"heatmap\":[{\"colorbar\":{\"outlinewidth\":0,\"ticks\":\"\"},\"colorscale\":[[0.0,\"#0d0887\"],[0.1111111111111111,\"#46039f\"],[0.2222222222222222,\"#7201a8\"],[0.3333333333333333,\"#9c179e\"],[0.4444444444444444,\"#bd3786\"],[0.5555555555555556,\"#d8576b\"],[0.6666666666666666,\"#ed7953\"],[0.7777777777777778,\"#fb9f3a\"],[0.8888888888888888,\"#fdca26\"],[1.0,\"#f0f921\"]],\"type\":\"heatmap\"}],\"heatmapgl\":[{\"colorbar\":{\"outlinewidth\":0,\"ticks\":\"\"},\"colorscale\":[[0.0,\"#0d0887\"],[0.1111111111111111,\"#46039f\"],[0.2222222222222222,\"#7201a8\"],[0.3333333333333333,\"#9c179e\"],[0.4444444444444444,\"#bd3786\"],[0.5555555555555556,\"#d8576b\"],[0.6666666666666666,\"#ed7953\"],[0.7777777777777778,\"#fb9f3a\"],[0.8888888888888888,\"#fdca26\"],[1.0,\"#f0f921\"]],\"type\":\"heatmapgl\"}],\"histogram\":[{\"marker\":{\"pattern\":{\"fillmode\":\"overlay\",\"size\":10,\"solidity\":0.2}},\"type\":\"histogram\"}],\"histogram2d\":[{\"colorbar\":{\"outlinewidth\":0,\"ticks\":\"\"},\"colorscale\":[[0.0,\"#0d0887\"],[0.1111111111111111,\"#46039f\"],[0.2222222222222222,\"#7201a8\"],[0.3333333333333333,\"#9c179e\"],[0.4444444444444444,\"#bd3786\"],[0.5555555555555556,\"#d8576b\"],[0.6666666666666666,\"#ed7953\"],[0.7777777777777778,\"#fb9f3a\"],[0.8888888888888888,\"#fdca26\"],[1.0,\"#f0f921\"]],\"type\":\"histogram2d\"}],\"histogram2dcontour\":[{\"colorbar\":{\"outlinewidth\":0,\"ticks\":\"\"},\"colorscale\":[[0.0,\"#0d0887\"],[0.1111111111111111,\"#46039f\"],[0.2222222222222222,\"#7201a8\"],[0.3333333333333333,\"#9c179e\"],[0.4444444444444444,\"#bd3786\"],[0.5555555555555556,\"#d8576b\"],[0.6666666666666666,\"#ed7953\"],[0.7777777777777778,\"#fb9f3a\"],[0.8888888888888888,\"#fdca26\"],[1.0,\"#f0f921\"]],\"type\":\"histogram2dcontour\"}],\"mesh3d\":[{\"colorbar\":{\"outlinewidth\":0,\"ticks\":\"\"},\"type\":\"mesh3d\"}],\"parcoords\":[{\"line\":{\"colorbar\":{\"outlinewidth\":0,\"ticks\":\"\"}},\"type\":\"parcoords\"}],\"pie\":[{\"automargin\":true,\"type\":\"pie\"}],\"scatter\":[{\"marker\":{\"colorbar\":{\"outlinewidth\":0,\"ticks\":\"\"}},\"type\":\"scatter\"}],\"scatter3d\":[{\"line\":{\"colorbar\":{\"outlinewidth\":0,\"ticks\":\"\"}},\"marker\":{\"colorbar\":{\"outlinewidth\":0,\"ticks\":\"\"}},\"type\":\"scatter3d\"}],\"scattercarpet\":[{\"marker\":{\"colorbar\":{\"outlinewidth\":0,\"ticks\":\"\"}},\"type\":\"scattercarpet\"}],\"scattergeo\":[{\"marker\":{\"colorbar\":{\"outlinewidth\":0,\"ticks\":\"\"}},\"type\":\"scattergeo\"}],\"scattergl\":[{\"marker\":{\"colorbar\":{\"outlinewidth\":0,\"ticks\":\"\"}},\"type\":\"scattergl\"}],\"scattermapbox\":[{\"marker\":{\"colorbar\":{\"outlinewidth\":0,\"ticks\":\"\"}},\"type\":\"scattermapbox\"}],\"scatterpolar\":[{\"marker\":{\"colorbar\":{\"outlinewidth\":0,\"ticks\":\"\"}},\"type\":\"scatterpolar\"}],\"scatterpolargl\":[{\"marker\":{\"colorbar\":{\"outlinewidth\":0,\"ticks\":\"\"}},\"type\":\"scatterpolargl\"}],\"scatterternary\":[{\"marker\":{\"colorbar\":{\"outlinewidth\":0,\"ticks\":\"\"}},\"type\":\"scatterternary\"}],\"surface\":[{\"colorbar\":{\"outlinewidth\":0,\"ticks\":\"\"},\"colorscale\":[[0.0,\"#0d0887\"],[0.1111111111111111,\"#46039f\"],[0.2222222222222222,\"#7201a8\"],[0.3333333333333333,\"#9c179e\"],[0.4444444444444444,\"#bd3786\"],[0.5555555555555556,\"#d8576b\"],[0.6666666666666666,\"#ed7953\"],[0.7777777777777778,\"#fb9f3a\"],[0.8888888888888888,\"#fdca26\"],[1.0,\"#f0f921\"]],\"type\":\"surface\"}],\"table\":[{\"cells\":{\"fill\":{\"color\":\"#EBF0F8\"},\"line\":{\"color\":\"white\"}},\"header\":{\"fill\":{\"color\":\"#C8D4E3\"},\"line\":{\"color\":\"white\"}},\"type\":\"table\"}]},\"layout\":{\"annotationdefaults\":{\"arrowcolor\":\"#2a3f5f\",\"arrowhead\":0,\"arrowwidth\":1},\"autotypenumbers\":\"strict\",\"coloraxis\":{\"colorbar\":{\"outlinewidth\":0,\"ticks\":\"\"}},\"colorscale\":{\"diverging\":[[0,\"#8e0152\"],[0.1,\"#c51b7d\"],[0.2,\"#de77ae\"],[0.3,\"#f1b6da\"],[0.4,\"#fde0ef\"],[0.5,\"#f7f7f7\"],[0.6,\"#e6f5d0\"],[0.7,\"#b8e186\"],[0.8,\"#7fbc41\"],[0.9,\"#4d9221\"],[1,\"#276419\"]],\"sequential\":[[0.0,\"#0d0887\"],[0.1111111111111111,\"#46039f\"],[0.2222222222222222,\"#7201a8\"],[0.3333333333333333,\"#9c179e\"],[0.4444444444444444,\"#bd3786\"],[0.5555555555555556,\"#d8576b\"],[0.6666666666666666,\"#ed7953\"],[0.7777777777777778,\"#fb9f3a\"],[0.8888888888888888,\"#fdca26\"],[1.0,\"#f0f921\"]],\"sequentialminus\":[[0.0,\"#0d0887\"],[0.1111111111111111,\"#46039f\"],[0.2222222222222222,\"#7201a8\"],[0.3333333333333333,\"#9c179e\"],[0.4444444444444444,\"#bd3786\"],[0.5555555555555556,\"#d8576b\"],[0.6666666666666666,\"#ed7953\"],[0.7777777777777778,\"#fb9f3a\"],[0.8888888888888888,\"#fdca26\"],[1.0,\"#f0f921\"]]},\"colorway\":[\"#636efa\",\"#EF553B\",\"#00cc96\",\"#ab63fa\",\"#FFA15A\",\"#19d3f3\",\"#FF6692\",\"#B6E880\",\"#FF97FF\",\"#FECB52\"],\"font\":{\"color\":\"#2a3f5f\"},\"geo\":{\"bgcolor\":\"white\",\"lakecolor\":\"white\",\"landcolor\":\"#E5ECF6\",\"showlakes\":true,\"showland\":true,\"subunitcolor\":\"white\"},\"hoverlabel\":{\"align\":\"left\"},\"hovermode\":\"closest\",\"mapbox\":{\"style\":\"light\"},\"paper_bgcolor\":\"white\",\"plot_bgcolor\":\"#E5ECF6\",\"polar\":{\"angularaxis\":{\"gridcolor\":\"white\",\"linecolor\":\"white\",\"ticks\":\"\"},\"bgcolor\":\"#E5ECF6\",\"radialaxis\":{\"gridcolor\":\"white\",\"linecolor\":\"white\",\"ticks\":\"\"}},\"scene\":{\"xaxis\":{\"backgroundcolor\":\"#E5ECF6\",\"gridcolor\":\"white\",\"gridwidth\":2,\"linecolor\":\"white\",\"showbackground\":true,\"ticks\":\"\",\"zerolinecolor\":\"white\"},\"yaxis\":{\"backgroundcolor\":\"#E5ECF6\",\"gridcolor\":\"white\",\"gridwidth\":2,\"linecolor\":\"white\",\"showbackground\":true,\"ticks\":\"\",\"zerolinecolor\":\"white\"},\"zaxis\":{\"backgroundcolor\":\"#E5ECF6\",\"gridcolor\":\"white\",\"gridwidth\":2,\"linecolor\":\"white\",\"showbackground\":true,\"ticks\":\"\",\"zerolinecolor\":\"white\"}},\"shapedefaults\":{\"line\":{\"color\":\"#2a3f5f\"}},\"ternary\":{\"aaxis\":{\"gridcolor\":\"white\",\"linecolor\":\"white\",\"ticks\":\"\"},\"baxis\":{\"gridcolor\":\"white\",\"linecolor\":\"white\",\"ticks\":\"\"},\"bgcolor\":\"#E5ECF6\",\"caxis\":{\"gridcolor\":\"white\",\"linecolor\":\"white\",\"ticks\":\"\"}},\"title\":{\"x\":0.05},\"xaxis\":{\"automargin\":true,\"gridcolor\":\"white\",\"linecolor\":\"white\",\"ticks\":\"\",\"title\":{\"standoff\":15},\"zerolinecolor\":\"white\",\"zerolinewidth\":2},\"yaxis\":{\"automargin\":true,\"gridcolor\":\"white\",\"linecolor\":\"white\",\"ticks\":\"\",\"title\":{\"standoff\":15},\"zerolinecolor\":\"white\",\"zerolinewidth\":2}}},\"xaxis\":{\"anchor\":\"y\",\"domain\":[0.0,0.18000000000000002],\"title\":{\"text\":\"Tag\"},\"showticklabels\":true},\"yaxis\":{\"anchor\":\"x\",\"domain\":[0.0,0.03866666666666667],\"title\":{\"text\":\"Tag Count\"},\"automargin\":true},\"xaxis2\":{\"anchor\":\"y2\",\"domain\":[0.2,0.38],\"title\":{\"text\":\"Tag\"},\"showticklabels\":true},\"yaxis2\":{\"anchor\":\"x2\",\"domain\":[0.0,0.03866666666666667],\"matches\":\"y\",\"showticklabels\":false},\"xaxis3\":{\"anchor\":\"y3\",\"domain\":[0.4,0.5800000000000001],\"title\":{\"text\":\"Tag\"},\"showticklabels\":true},\"yaxis3\":{\"anchor\":\"x3\",\"domain\":[0.0,0.03866666666666667],\"matches\":\"y\",\"showticklabels\":false},\"xaxis4\":{\"anchor\":\"y4\",\"domain\":[0.6000000000000001,0.7800000000000001],\"title\":{\"text\":\"Tag\"},\"showticklabels\":true},\"yaxis4\":{\"anchor\":\"x4\",\"domain\":[0.0,0.03866666666666667],\"matches\":\"y\",\"showticklabels\":false},\"xaxis5\":{\"anchor\":\"y5\",\"domain\":[0.8,0.9800000000000001],\"title\":{\"text\":\"Tag\"},\"showticklabels\":true},\"yaxis5\":{\"anchor\":\"x5\",\"domain\":[0.0,0.03866666666666667],\"matches\":\"y\",\"showticklabels\":false},\"xaxis6\":{\"anchor\":\"y6\",\"domain\":[0.0,0.18000000000000002],\"showticklabels\":true},\"yaxis6\":{\"anchor\":\"x6\",\"domain\":[0.06866666666666667,0.10733333333333334],\"matches\":\"y\",\"title\":{\"text\":\"Tag Count\"}},\"xaxis7\":{\"anchor\":\"y7\",\"domain\":[0.2,0.38],\"showticklabels\":true},\"yaxis7\":{\"anchor\":\"x7\",\"domain\":[0.06866666666666667,0.10733333333333334],\"matches\":\"y\",\"showticklabels\":false},\"xaxis8\":{\"anchor\":\"y8\",\"domain\":[0.4,0.5800000000000001],\"showticklabels\":true},\"yaxis8\":{\"anchor\":\"x8\",\"domain\":[0.06866666666666667,0.10733333333333334],\"matches\":\"y\",\"showticklabels\":false},\"xaxis9\":{\"anchor\":\"y9\",\"domain\":[0.6000000000000001,0.7800000000000001],\"showticklabels\":true},\"yaxis9\":{\"anchor\":\"x9\",\"domain\":[0.06866666666666667,0.10733333333333334],\"matches\":\"y\",\"showticklabels\":false},\"xaxis10\":{\"anchor\":\"y10\",\"domain\":[0.8,0.9800000000000001],\"showticklabels\":true},\"yaxis10\":{\"anchor\":\"x10\",\"domain\":[0.06866666666666667,0.10733333333333334],\"matches\":\"y\",\"showticklabels\":false},\"xaxis11\":{\"anchor\":\"y11\",\"domain\":[0.0,0.18000000000000002],\"showticklabels\":true},\"yaxis11\":{\"anchor\":\"x11\",\"domain\":[0.13733333333333334,0.176],\"matches\":\"y\",\"title\":{\"text\":\"Tag Count\"}},\"xaxis12\":{\"anchor\":\"y12\",\"domain\":[0.2,0.38],\"showticklabels\":true},\"yaxis12\":{\"anchor\":\"x12\",\"domain\":[0.13733333333333334,0.176],\"matches\":\"y\",\"showticklabels\":false},\"xaxis13\":{\"anchor\":\"y13\",\"domain\":[0.4,0.5800000000000001],\"showticklabels\":true},\"yaxis13\":{\"anchor\":\"x13\",\"domain\":[0.13733333333333334,0.176],\"matches\":\"y\",\"showticklabels\":false},\"xaxis14\":{\"anchor\":\"y14\",\"domain\":[0.6000000000000001,0.7800000000000001],\"showticklabels\":true},\"yaxis14\":{\"anchor\":\"x14\",\"domain\":[0.13733333333333334,0.176],\"matches\":\"y\",\"showticklabels\":false},\"xaxis15\":{\"anchor\":\"y15\",\"domain\":[0.8,0.9800000000000001],\"showticklabels\":true},\"yaxis15\":{\"anchor\":\"x15\",\"domain\":[0.13733333333333334,0.176],\"matches\":\"y\",\"showticklabels\":false},\"xaxis16\":{\"anchor\":\"y16\",\"domain\":[0.0,0.18000000000000002],\"showticklabels\":true},\"yaxis16\":{\"anchor\":\"x16\",\"domain\":[0.20600000000000002,0.2446666666666667],\"matches\":\"y\",\"title\":{\"text\":\"Tag Count\"}},\"xaxis17\":{\"anchor\":\"y17\",\"domain\":[0.2,0.38],\"showticklabels\":true},\"yaxis17\":{\"anchor\":\"x17\",\"domain\":[0.20600000000000002,0.2446666666666667],\"matches\":\"y\",\"showticklabels\":false},\"xaxis18\":{\"anchor\":\"y18\",\"domain\":[0.4,0.5800000000000001],\"showticklabels\":true},\"yaxis18\":{\"anchor\":\"x18\",\"domain\":[0.20600000000000002,0.2446666666666667],\"matches\":\"y\",\"showticklabels\":false},\"xaxis19\":{\"anchor\":\"y19\",\"domain\":[0.6000000000000001,0.7800000000000001],\"showticklabels\":true},\"yaxis19\":{\"anchor\":\"x19\",\"domain\":[0.20600000000000002,0.2446666666666667],\"matches\":\"y\",\"showticklabels\":false},\"xaxis20\":{\"anchor\":\"y20\",\"domain\":[0.8,0.9800000000000001],\"showticklabels\":true},\"yaxis20\":{\"anchor\":\"x20\",\"domain\":[0.20600000000000002,0.2446666666666667],\"matches\":\"y\",\"showticklabels\":false},\"xaxis21\":{\"anchor\":\"y21\",\"domain\":[0.0,0.18000000000000002],\"showticklabels\":true},\"yaxis21\":{\"anchor\":\"x21\",\"domain\":[0.27466666666666667,0.31333333333333335],\"matches\":\"y\",\"title\":{\"text\":\"Tag Count\"}},\"xaxis22\":{\"anchor\":\"y22\",\"domain\":[0.2,0.38],\"showticklabels\":true},\"yaxis22\":{\"anchor\":\"x22\",\"domain\":[0.27466666666666667,0.31333333333333335],\"matches\":\"y\",\"showticklabels\":false},\"xaxis23\":{\"anchor\":\"y23\",\"domain\":[0.4,0.5800000000000001],\"showticklabels\":true},\"yaxis23\":{\"anchor\":\"x23\",\"domain\":[0.27466666666666667,0.31333333333333335],\"matches\":\"y\",\"showticklabels\":false},\"xaxis24\":{\"anchor\":\"y24\",\"domain\":[0.6000000000000001,0.7800000000000001],\"showticklabels\":true},\"yaxis24\":{\"anchor\":\"x24\",\"domain\":[0.27466666666666667,0.31333333333333335],\"matches\":\"y\",\"showticklabels\":false},\"xaxis25\":{\"anchor\":\"y25\",\"domain\":[0.8,0.9800000000000001],\"showticklabels\":true},\"yaxis25\":{\"anchor\":\"x25\",\"domain\":[0.27466666666666667,0.31333333333333335],\"matches\":\"y\",\"showticklabels\":false},\"xaxis26\":{\"anchor\":\"y26\",\"domain\":[0.0,0.18000000000000002],\"showticklabels\":true},\"yaxis26\":{\"anchor\":\"x26\",\"domain\":[0.3433333333333334,0.38200000000000006],\"matches\":\"y\",\"title\":{\"text\":\"Tag Count\"}},\"xaxis27\":{\"anchor\":\"y27\",\"domain\":[0.2,0.38],\"showticklabels\":true},\"yaxis27\":{\"anchor\":\"x27\",\"domain\":[0.3433333333333334,0.38200000000000006],\"matches\":\"y\",\"showticklabels\":false},\"xaxis28\":{\"anchor\":\"y28\",\"domain\":[0.4,0.5800000000000001],\"showticklabels\":true},\"yaxis28\":{\"anchor\":\"x28\",\"domain\":[0.3433333333333334,0.38200000000000006],\"matches\":\"y\",\"showticklabels\":false},\"xaxis29\":{\"anchor\":\"y29\",\"domain\":[0.6000000000000001,0.7800000000000001],\"showticklabels\":true},\"yaxis29\":{\"anchor\":\"x29\",\"domain\":[0.3433333333333334,0.38200000000000006],\"matches\":\"y\",\"showticklabels\":false},\"xaxis30\":{\"anchor\":\"y30\",\"domain\":[0.8,0.9800000000000001],\"showticklabels\":true},\"yaxis30\":{\"anchor\":\"x30\",\"domain\":[0.3433333333333334,0.38200000000000006],\"matches\":\"y\",\"showticklabels\":false},\"xaxis31\":{\"anchor\":\"y31\",\"domain\":[0.0,0.18000000000000002],\"showticklabels\":true},\"yaxis31\":{\"anchor\":\"x31\",\"domain\":[0.41200000000000003,0.4506666666666667],\"matches\":\"y\",\"title\":{\"text\":\"Tag Count\"}},\"xaxis32\":{\"anchor\":\"y32\",\"domain\":[0.2,0.38],\"showticklabels\":true},\"yaxis32\":{\"anchor\":\"x32\",\"domain\":[0.41200000000000003,0.4506666666666667],\"matches\":\"y\",\"showticklabels\":false},\"xaxis33\":{\"anchor\":\"y33\",\"domain\":[0.4,0.5800000000000001],\"showticklabels\":true},\"yaxis33\":{\"anchor\":\"x33\",\"domain\":[0.41200000000000003,0.4506666666666667],\"matches\":\"y\",\"showticklabels\":false},\"xaxis34\":{\"anchor\":\"y34\",\"domain\":[0.6000000000000001,0.7800000000000001],\"showticklabels\":true},\"yaxis34\":{\"anchor\":\"x34\",\"domain\":[0.41200000000000003,0.4506666666666667],\"matches\":\"y\",\"showticklabels\":false},\"xaxis35\":{\"anchor\":\"y35\",\"domain\":[0.8,0.9800000000000001],\"showticklabels\":true},\"yaxis35\":{\"anchor\":\"x35\",\"domain\":[0.41200000000000003,0.4506666666666667],\"matches\":\"y\",\"showticklabels\":false},\"xaxis36\":{\"anchor\":\"y36\",\"domain\":[0.0,0.18000000000000002],\"showticklabels\":true},\"yaxis36\":{\"anchor\":\"x36\",\"domain\":[0.4806666666666667,0.5193333333333333],\"matches\":\"y\",\"title\":{\"text\":\"Tag Count\"}},\"xaxis37\":{\"anchor\":\"y37\",\"domain\":[0.2,0.38],\"showticklabels\":true},\"yaxis37\":{\"anchor\":\"x37\",\"domain\":[0.4806666666666667,0.5193333333333333],\"matches\":\"y\",\"showticklabels\":false},\"xaxis38\":{\"anchor\":\"y38\",\"domain\":[0.4,0.5800000000000001],\"showticklabels\":true},\"yaxis38\":{\"anchor\":\"x38\",\"domain\":[0.4806666666666667,0.5193333333333333],\"matches\":\"y\",\"showticklabels\":false},\"xaxis39\":{\"anchor\":\"y39\",\"domain\":[0.6000000000000001,0.7800000000000001],\"showticklabels\":true},\"yaxis39\":{\"anchor\":\"x39\",\"domain\":[0.4806666666666667,0.5193333333333333],\"matches\":\"y\",\"showticklabels\":false},\"xaxis40\":{\"anchor\":\"y40\",\"domain\":[0.8,0.9800000000000001],\"showticklabels\":true},\"yaxis40\":{\"anchor\":\"x40\",\"domain\":[0.4806666666666667,0.5193333333333333],\"matches\":\"y\",\"showticklabels\":false},\"xaxis41\":{\"anchor\":\"y41\",\"domain\":[0.0,0.18000000000000002],\"showticklabels\":true},\"yaxis41\":{\"anchor\":\"x41\",\"domain\":[0.5493333333333335,0.5880000000000001],\"matches\":\"y\",\"title\":{\"text\":\"Tag Count\"}},\"xaxis42\":{\"anchor\":\"y42\",\"domain\":[0.2,0.38],\"showticklabels\":true},\"yaxis42\":{\"anchor\":\"x42\",\"domain\":[0.5493333333333335,0.5880000000000001],\"matches\":\"y\",\"showticklabels\":false},\"xaxis43\":{\"anchor\":\"y43\",\"domain\":[0.4,0.5800000000000001],\"showticklabels\":true},\"yaxis43\":{\"anchor\":\"x43\",\"domain\":[0.5493333333333335,0.5880000000000001],\"matches\":\"y\",\"showticklabels\":false},\"xaxis44\":{\"anchor\":\"y44\",\"domain\":[0.6000000000000001,0.7800000000000001],\"showticklabels\":true},\"yaxis44\":{\"anchor\":\"x44\",\"domain\":[0.5493333333333335,0.5880000000000001],\"matches\":\"y\",\"showticklabels\":false},\"xaxis45\":{\"anchor\":\"y45\",\"domain\":[0.8,0.9800000000000001],\"showticklabels\":true},\"yaxis45\":{\"anchor\":\"x45\",\"domain\":[0.5493333333333335,0.5880000000000001],\"matches\":\"y\",\"showticklabels\":false},\"xaxis46\":{\"anchor\":\"y46\",\"domain\":[0.0,0.18000000000000002],\"showticklabels\":true},\"yaxis46\":{\"anchor\":\"x46\",\"domain\":[0.6180000000000001,0.6566666666666667],\"matches\":\"y\",\"title\":{\"text\":\"Tag Count\"}},\"xaxis47\":{\"anchor\":\"y47\",\"domain\":[0.2,0.38],\"showticklabels\":true},\"yaxis47\":{\"anchor\":\"x47\",\"domain\":[0.6180000000000001,0.6566666666666667],\"matches\":\"y\",\"showticklabels\":false},\"xaxis48\":{\"anchor\":\"y48\",\"domain\":[0.4,0.5800000000000001],\"showticklabels\":true},\"yaxis48\":{\"anchor\":\"x48\",\"domain\":[0.6180000000000001,0.6566666666666667],\"matches\":\"y\",\"showticklabels\":false},\"xaxis49\":{\"anchor\":\"y49\",\"domain\":[0.6000000000000001,0.7800000000000001],\"showticklabels\":true},\"yaxis49\":{\"anchor\":\"x49\",\"domain\":[0.6180000000000001,0.6566666666666667],\"matches\":\"y\",\"showticklabels\":false},\"xaxis50\":{\"anchor\":\"y50\",\"domain\":[0.8,0.9800000000000001],\"showticklabels\":true},\"yaxis50\":{\"anchor\":\"x50\",\"domain\":[0.6180000000000001,0.6566666666666667],\"matches\":\"y\",\"showticklabels\":false},\"xaxis51\":{\"anchor\":\"y51\",\"domain\":[0.0,0.18000000000000002],\"showticklabels\":true},\"yaxis51\":{\"anchor\":\"x51\",\"domain\":[0.6866666666666668,0.7253333333333334],\"matches\":\"y\",\"title\":{\"text\":\"Tag Count\"}},\"xaxis52\":{\"anchor\":\"y52\",\"domain\":[0.2,0.38],\"showticklabels\":true},\"yaxis52\":{\"anchor\":\"x52\",\"domain\":[0.6866666666666668,0.7253333333333334],\"matches\":\"y\",\"showticklabels\":false},\"xaxis53\":{\"anchor\":\"y53\",\"domain\":[0.4,0.5800000000000001],\"showticklabels\":true},\"yaxis53\":{\"anchor\":\"x53\",\"domain\":[0.6866666666666668,0.7253333333333334],\"matches\":\"y\",\"showticklabels\":false},\"xaxis54\":{\"anchor\":\"y54\",\"domain\":[0.6000000000000001,0.7800000000000001],\"showticklabels\":true},\"yaxis54\":{\"anchor\":\"x54\",\"domain\":[0.6866666666666668,0.7253333333333334],\"matches\":\"y\",\"showticklabels\":false},\"xaxis55\":{\"anchor\":\"y55\",\"domain\":[0.8,0.9800000000000001],\"showticklabels\":true},\"yaxis55\":{\"anchor\":\"x55\",\"domain\":[0.6866666666666668,0.7253333333333334],\"matches\":\"y\",\"showticklabels\":false},\"xaxis56\":{\"anchor\":\"y56\",\"domain\":[0.0,0.18000000000000002],\"showticklabels\":true},\"yaxis56\":{\"anchor\":\"x56\",\"domain\":[0.7553333333333334,0.794],\"matches\":\"y\",\"title\":{\"text\":\"Tag Count\"}},\"xaxis57\":{\"anchor\":\"y57\",\"domain\":[0.2,0.38],\"showticklabels\":true},\"yaxis57\":{\"anchor\":\"x57\",\"domain\":[0.7553333333333334,0.794],\"matches\":\"y\",\"showticklabels\":false},\"xaxis58\":{\"anchor\":\"y58\",\"domain\":[0.4,0.5800000000000001],\"showticklabels\":true},\"yaxis58\":{\"anchor\":\"x58\",\"domain\":[0.7553333333333334,0.794],\"matches\":\"y\",\"showticklabels\":false},\"xaxis59\":{\"anchor\":\"y59\",\"domain\":[0.6000000000000001,0.7800000000000001],\"showticklabels\":true},\"yaxis59\":{\"anchor\":\"x59\",\"domain\":[0.7553333333333334,0.794],\"matches\":\"y\",\"showticklabels\":false},\"xaxis60\":{\"anchor\":\"y60\",\"domain\":[0.8,0.9800000000000001],\"showticklabels\":true},\"yaxis60\":{\"anchor\":\"x60\",\"domain\":[0.7553333333333334,0.794],\"matches\":\"y\",\"showticklabels\":false},\"xaxis61\":{\"anchor\":\"y61\",\"domain\":[0.0,0.18000000000000002],\"showticklabels\":true},\"yaxis61\":{\"anchor\":\"x61\",\"domain\":[0.8240000000000001,0.8626666666666667],\"matches\":\"y\",\"title\":{\"text\":\"Tag Count\"}},\"xaxis62\":{\"anchor\":\"y62\",\"domain\":[0.2,0.38],\"showticklabels\":true},\"yaxis62\":{\"anchor\":\"x62\",\"domain\":[0.8240000000000001,0.8626666666666667],\"matches\":\"y\",\"showticklabels\":false},\"xaxis63\":{\"anchor\":\"y63\",\"domain\":[0.4,0.5800000000000001],\"showticklabels\":true},\"yaxis63\":{\"anchor\":\"x63\",\"domain\":[0.8240000000000001,0.8626666666666667],\"matches\":\"y\",\"showticklabels\":false},\"xaxis64\":{\"anchor\":\"y64\",\"domain\":[0.6000000000000001,0.7800000000000001],\"showticklabels\":true},\"yaxis64\":{\"anchor\":\"x64\",\"domain\":[0.8240000000000001,0.8626666666666667],\"matches\":\"y\",\"showticklabels\":false},\"xaxis65\":{\"anchor\":\"y65\",\"domain\":[0.8,0.9800000000000001],\"showticklabels\":true},\"yaxis65\":{\"anchor\":\"x65\",\"domain\":[0.8240000000000001,0.8626666666666667],\"matches\":\"y\",\"showticklabels\":false},\"xaxis66\":{\"anchor\":\"y66\",\"domain\":[0.0,0.18000000000000002],\"showticklabels\":true},\"yaxis66\":{\"anchor\":\"x66\",\"domain\":[0.8926666666666668,0.9313333333333335],\"matches\":\"y\",\"title\":{\"text\":\"Tag Count\"}},\"xaxis67\":{\"anchor\":\"y67\",\"domain\":[0.2,0.38],\"showticklabels\":true},\"yaxis67\":{\"anchor\":\"x67\",\"domain\":[0.8926666666666668,0.9313333333333335],\"matches\":\"y\",\"showticklabels\":false},\"xaxis68\":{\"anchor\":\"y68\",\"domain\":[0.4,0.5800000000000001],\"showticklabels\":true},\"yaxis68\":{\"anchor\":\"x68\",\"domain\":[0.8926666666666668,0.9313333333333335],\"matches\":\"y\",\"showticklabels\":false},\"xaxis69\":{\"anchor\":\"y69\",\"domain\":[0.6000000000000001,0.7800000000000001],\"showticklabels\":true},\"yaxis69\":{\"anchor\":\"x69\",\"domain\":[0.8926666666666668,0.9313333333333335],\"matches\":\"y\",\"showticklabels\":false},\"xaxis70\":{\"anchor\":\"y70\",\"domain\":[0.8,0.9800000000000001],\"showticklabels\":true},\"yaxis70\":{\"anchor\":\"x70\",\"domain\":[0.8926666666666668,0.9313333333333335],\"matches\":\"y\",\"showticklabels\":false},\"xaxis71\":{\"anchor\":\"y71\",\"domain\":[0.0,0.18000000000000002],\"showticklabels\":true},\"yaxis71\":{\"anchor\":\"x71\",\"domain\":[0.9613333333333334,1.0],\"matches\":\"y\",\"title\":{\"text\":\"Tag Count\"}},\"xaxis72\":{\"anchor\":\"y72\",\"domain\":[0.2,0.38],\"showticklabels\":true},\"yaxis72\":{\"anchor\":\"x72\",\"domain\":[0.9613333333333334,1.0],\"matches\":\"y\",\"showticklabels\":false},\"xaxis73\":{\"anchor\":\"y73\",\"domain\":[0.4,0.5800000000000001],\"showticklabels\":true},\"yaxis73\":{\"anchor\":\"x73\",\"domain\":[0.9613333333333334,1.0],\"matches\":\"y\",\"showticklabels\":false},\"xaxis74\":{\"anchor\":\"y74\",\"domain\":[0.6000000000000001,0.7800000000000001],\"showticklabels\":true},\"yaxis74\":{\"anchor\":\"x74\",\"domain\":[0.9613333333333334,1.0],\"matches\":\"y\",\"showticklabels\":false},\"xaxis75\":{\"anchor\":\"y75\",\"domain\":[0.8,0.9800000000000001],\"showticklabels\":true},\"yaxis75\":{\"anchor\":\"x75\",\"domain\":[0.9613333333333334,1.0],\"matches\":\"y\",\"showticklabels\":false},\"annotations\":[{\"font\":{\"size\":15,\"color\":\"black\"},\"showarrow\":false,\"text\":\"2021-03\",\"x\":0.09000000000000001,\"xanchor\":\"center\",\"xref\":\"paper\",\"y\":1.0,\"yanchor\":\"bottom\",\"yref\":\"paper\",\"borderpad\":29,\"borderwidth\":15},{\"font\":{\"size\":15,\"color\":\"black\"},\"showarrow\":false,\"text\":\"2021-04\",\"x\":0.29000000000000004,\"xanchor\":\"center\",\"xref\":\"paper\",\"y\":1.0,\"yanchor\":\"bottom\",\"yref\":\"paper\",\"borderpad\":29,\"borderwidth\":15},{\"font\":{\"size\":15,\"color\":\"black\"},\"showarrow\":false,\"text\":\"2021-05\",\"x\":0.49000000000000005,\"xanchor\":\"center\",\"xref\":\"paper\",\"y\":1.0,\"yanchor\":\"bottom\",\"yref\":\"paper\",\"borderpad\":29,\"borderwidth\":15},{\"font\":{\"size\":15,\"color\":\"black\"},\"showarrow\":false,\"text\":\"2021-06\",\"x\":0.6900000000000002,\"xanchor\":\"center\",\"xref\":\"paper\",\"y\":1.0,\"yanchor\":\"bottom\",\"yref\":\"paper\",\"borderpad\":29,\"borderwidth\":15},{\"font\":{\"size\":15,\"color\":\"black\"},\"showarrow\":false,\"text\":\"2021-07\",\"x\":0.8900000000000001,\"xanchor\":\"center\",\"xref\":\"paper\",\"y\":1.0,\"yanchor\":\"bottom\",\"yref\":\"paper\",\"borderpad\":29,\"borderwidth\":15},{\"font\":{\"size\":15,\"color\":\"black\"},\"showarrow\":false,\"text\":\"Nonprofits & Activism\",\"textangle\":90,\"x\":0.9800000000000001,\"xanchor\":\"left\",\"xref\":\"paper\",\"y\":0.019333333333333334,\"yanchor\":\"middle\",\"yref\":\"paper\",\"borderpad\":29,\"borderwidth\":15},{\"font\":{\"size\":15,\"color\":\"black\"},\"showarrow\":false,\"text\":\"Travel & Events\",\"textangle\":90,\"x\":0.9800000000000001,\"xanchor\":\"left\",\"xref\":\"paper\",\"y\":0.088,\"yanchor\":\"middle\",\"yref\":\"paper\",\"borderpad\":29,\"borderwidth\":15},{\"font\":{\"size\":15,\"color\":\"black\"},\"showarrow\":false,\"text\":\"Autos & Vehicles\",\"textangle\":90,\"x\":0.9800000000000001,\"xanchor\":\"left\",\"xref\":\"paper\",\"y\":0.15666666666666668,\"yanchor\":\"middle\",\"yref\":\"paper\",\"borderpad\":29,\"borderwidth\":15},{\"font\":{\"size\":15,\"color\":\"black\"},\"showarrow\":false,\"text\":\"Sports\",\"textangle\":90,\"x\":0.9800000000000001,\"xanchor\":\"left\",\"xref\":\"paper\",\"y\":0.22533333333333336,\"yanchor\":\"middle\",\"yref\":\"paper\",\"borderpad\":29,\"borderwidth\":15},{\"font\":{\"size\":15,\"color\":\"black\"},\"showarrow\":false,\"text\":\"Science & Technology\",\"textangle\":90,\"x\":0.9800000000000001,\"xanchor\":\"left\",\"xref\":\"paper\",\"y\":0.29400000000000004,\"yanchor\":\"middle\",\"yref\":\"paper\",\"borderpad\":29,\"borderwidth\":15},{\"font\":{\"size\":15,\"color\":\"black\"},\"showarrow\":false,\"text\":\"Pets & Animals\",\"textangle\":90,\"x\":0.9800000000000001,\"xanchor\":\"left\",\"xref\":\"paper\",\"y\":0.3626666666666667,\"yanchor\":\"middle\",\"yref\":\"paper\",\"borderpad\":29,\"borderwidth\":15},{\"font\":{\"size\":15,\"color\":\"black\"},\"showarrow\":false,\"text\":\"People & Blogs\",\"textangle\":90,\"x\":0.9800000000000001,\"xanchor\":\"left\",\"xref\":\"paper\",\"y\":0.43133333333333335,\"yanchor\":\"middle\",\"yref\":\"paper\",\"borderpad\":29,\"borderwidth\":15},{\"font\":{\"size\":15,\"color\":\"black\"},\"showarrow\":false,\"text\":\"News & Politics\",\"textangle\":90,\"x\":0.9800000000000001,\"xanchor\":\"left\",\"xref\":\"paper\",\"y\":0.5,\"yanchor\":\"middle\",\"yref\":\"paper\",\"borderpad\":29,\"borderwidth\":15},{\"font\":{\"size\":15,\"color\":\"black\"},\"showarrow\":false,\"text\":\"Music\",\"textangle\":90,\"x\":0.9800000000000001,\"xanchor\":\"left\",\"xref\":\"paper\",\"y\":0.5686666666666668,\"yanchor\":\"middle\",\"yref\":\"paper\",\"borderpad\":29,\"borderwidth\":15},{\"font\":{\"size\":15,\"color\":\"black\"},\"showarrow\":false,\"text\":\"Howto & Style\",\"textangle\":90,\"x\":0.9800000000000001,\"xanchor\":\"left\",\"xref\":\"paper\",\"y\":0.6373333333333334,\"yanchor\":\"middle\",\"yref\":\"paper\",\"borderpad\":29,\"borderwidth\":15},{\"font\":{\"size\":15,\"color\":\"black\"},\"showarrow\":false,\"text\":\"Gaming\",\"textangle\":90,\"x\":0.9800000000000001,\"xanchor\":\"left\",\"xref\":\"paper\",\"y\":0.7060000000000001,\"yanchor\":\"middle\",\"yref\":\"paper\",\"borderpad\":29,\"borderwidth\":15},{\"font\":{\"size\":15,\"color\":\"black\"},\"showarrow\":false,\"text\":\"Film & Animation\",\"textangle\":90,\"x\":0.9800000000000001,\"xanchor\":\"left\",\"xref\":\"paper\",\"y\":0.7746666666666667,\"yanchor\":\"middle\",\"yref\":\"paper\",\"borderpad\":29,\"borderwidth\":15},{\"font\":{\"size\":15,\"color\":\"black\"},\"showarrow\":false,\"text\":\"Entertainment\",\"textangle\":90,\"x\":0.9800000000000001,\"xanchor\":\"left\",\"xref\":\"paper\",\"y\":0.8433333333333334,\"yanchor\":\"middle\",\"yref\":\"paper\",\"borderpad\":29,\"borderwidth\":15},{\"font\":{\"size\":15,\"color\":\"black\"},\"showarrow\":false,\"text\":\"Education\",\"textangle\":90,\"x\":0.9800000000000001,\"xanchor\":\"left\",\"xref\":\"paper\",\"y\":0.9120000000000001,\"yanchor\":\"middle\",\"yref\":\"paper\",\"borderpad\":29,\"borderwidth\":15},{\"font\":{\"size\":15,\"color\":\"black\"},\"showarrow\":false,\"text\":\"Comedy\",\"textangle\":90,\"x\":0.9800000000000001,\"xanchor\":\"left\",\"xref\":\"paper\",\"y\":0.9806666666666667,\"yanchor\":\"middle\",\"yref\":\"paper\",\"borderpad\":29,\"borderwidth\":15}],\"legend\":{\"tracegroupgap\":0},\"margin\":{\"t\":80,\"l\":80,\"r\":80,\"b\":80},\"barmode\":\"relative\",\"title\":{\"text\":\"\"},\"width\":1600,\"height\":2400},                        {\"responsive\": true}                    ).then(function(){\n",
       "                            \n",
       "var gd = document.getElementById('7fb446ce-a808-47a9-bca9-f90b3b2c77ec');\n",
       "var x = new MutationObserver(function (mutations, observer) {{\n",
       "        var display = window.getComputedStyle(gd).display;\n",
       "        if (!display || display === 'none') {{\n",
       "            console.log([gd, 'removed!']);\n",
       "            Plotly.purge(gd);\n",
       "            observer.disconnect();\n",
       "        }}\n",
       "}});\n",
       "\n",
       "// Listen for the removal of the full notebook cells\n",
       "var notebookContainer = gd.closest('#notebook-container');\n",
       "if (notebookContainer) {{\n",
       "    x.observe(notebookContainer, {childList: true});\n",
       "}}\n",
       "\n",
       "// Listen for the clearing of the current output cell\n",
       "var outputEl = gd.closest('.output');\n",
       "if (outputEl) {{\n",
       "    x.observe(outputEl, {childList: true});\n",
       "}}\n",
       "\n",
       "                        })                };                });            </script>        </div>"
      ]
     },
     "metadata": {},
     "output_type": "display_data"
    }
   ],
   "source": [
    "youtube_viz.solve_q1_5()"
   ]
  },
  {
   "cell_type": "markdown",
   "metadata": {},
   "source": [
    "## Q2 Engagement"
   ]
  },
  {
   "cell_type": "markdown",
   "metadata": {},
   "source": [
    "### Task\n",
    "\n",
    "Q2. 각각의 비디오는 시청자의 호응도(engagement)를 판단할수 있는 객관적인 지표들이있음\n",
    "\n",
    "ex) views, likes, dislikes, comments,...\n",
    "- 비디오를 인기 동영상 기준에 부합하도록 분류할수 있는 새로운 지표를 개발하고\n",
    "- 이 지표를 사용하여 engagement 와 어떤 상관관계가 있는지 설명하시오.\n",
    "\n"
   ]
  },
  {
   "cell_type": "markdown",
   "metadata": {},
   "source": [
    "**data description**\n",
    "\n",
    "- video_id\t영상의 비디오 아이디\n",
    "- channel_id\t영상이 업로드 되어있는 채널 아이디\n",
    "- published_date\t영 상이 유튜브에 업로드된 날짜\n",
    "- category_name\t영상/채널의 카테고리\n",
    "- duration\t영상 길이 (PT1H13M25S == 1시간13분25초)\n",
    "- tags\t영상에 사용된 해시태그\n",
    "- description\t영상부연설명\n",
    "- on_trending_date\t인기 동영상에서 처음 포착된 날짜\n",
    "  - publish_date와 의 기간이 짧을 수록 좋음\n",
    "- off_trending_date\t인기 동영상에서 사라진 날짜\n",
    "  - -> on off의 사이가 길수록 좋음\n",
    "- on_rank\t인기 동영상에서 처음 기록된 순위\n",
    "- off_rank\t인기 동영상에서 사라지기전 기록된 순위\n",
    "  - 순위가 올라갈 수록 좋음\n",
    "- on_views\t인기 동영상에서 처음 기록된 조회수\n",
    "- off_views\t인기 동영상에서 사라지기전 기록된 조회수\n",
    "  - 조회수 차이가 클수록 좋음\n",
    "- on_likes\t인기 동영상에서 처음 기록된 좋아요수\n",
    "- off_likes\t인기 동영상에서 사라지기전 기록된 좋아요수\n",
    "  - 차이가 클 수록 좋음\n",
    "- on_dislikes\t인기 동영상에서 처음 기록된 싫어요수\n",
    "- off_dislikes\t인기 동영상에서 사라지기전 기록된 싫어요수\n",
    "- on_comments\t인기 동영상에서 처음 기록된 댓글수\n",
    "- off_comments\t인기 동영상에서 사라지기전 기록된 댓글수\n",
    "- on_channel_subscribers\t인기 동영상에서 처음 기록된 채널의 구독자수\n",
    "- off_channel_subscribers\t인기 동영상에서 사라지기전 기록된 채널의 구독자수\n",
    "  - 차이가 클 수록 좋음 (늘어날 수록 좋음)\n",
    "- on_channel_total_views\t인기 동영상에서 처음 기록된 채널의 전체 비디오 조회수의 합\n",
    "- off_channel_total_views\t인기 동영상에서 사라지기전 기록된 채널의 전체 비디오\n",
    "조회수의 합\n",
    "  - 차이가 클수록 좋음\n",
    "- on_channel_total_videos\t인기 동영상에서 처음 기록된 채널의 비디오 개수\n",
    "- off_channel_total_videos\t인기 동영상에서 사라지기전 기록된 채널의 비디오 개수\n",
    "  - 차이가 클 수록 영향이 큰것인가?"
   ]
  },
  {
   "cell_type": "markdown",
   "metadata": {},
   "source": [
    "### 가설"
   ]
  },
  {
   "cell_type": "code",
   "execution_count": 22,
   "metadata": {},
   "outputs": [],
   "source": [
    "\n",
    "from datetime import datetime\n",
    "import pandas as pd\n",
    "import matplotlib.pyplot as plt\n",
    "from scipy import stats\n",
    "import seaborn as sns\n",
    "import numpy as np\n",
    "\n",
    "# clsss YouTubeEngagement 계산을 위한 클래스\n",
    "class YoutubeEngagement():\n",
    "    \n",
    "    def __init__(self, df):\n",
    "        self.df = df\n",
    "        self.df['playtime'] = self.df['duration'].apply(lambda x: x.replace('PT',''))\n",
    "        self.df['published_date'] = pd.to_datetime(self.df['published_date'])\n",
    "        self.df['on_trending_date'] = pd.to_datetime(self.df['on_trending_date'])\n",
    "        self.df['off_trending_date'] = pd.to_datetime(self.df['off_trending_date'])\n",
    "    \n",
    "    # %h%m%s format을 시간으로 변환하기 위한 함수    \n",
    "    def _time_parser(self,s:str):\n",
    "        s = s.lower()\n",
    "        fmt=''.join('%'+c.upper()+c for c in 'hms' if c in s)\n",
    "        return datetime.strptime(s, fmt).time()\n",
    "    # 시간을 초로 변환하는 함수\n",
    "    def _time_to_sec(self,t:datetime):\n",
    "        return t.hour*3600 + t.minute*60 + t.second\n",
    "    \n",
    "    def engagement(self):\n",
    "        self.df['playtime_sec'] = self.df['playtime'].apply(self._time_parser).apply(self._time_to_sec)\n",
    "        self.df['publish_trend_datediff'] = (self.df['on_trending_date'] - self.df['published_date']).apply(lambda x: x.days) # smaller the better\n",
    "        self.df['trend_off_datediff'] = (self.df['off_trending_date'] - self.df['on_trending_date']).apply(lambda x: x.days)\n",
    "        self.df['rank_diff'] = self.df['off_rank'] - self.df['on_rank'] # bigger the better\n",
    "        # view, like, comment, subscribe \n",
    "        self.df['views_diff'] = (self.df['off_views'] - self.df['on_views']) #* 100 /self.df['on_views'] # \n",
    "        self.df['likes_diff'] = (self.df['off_likes'] - self.df['on_likes']) #* 100 /self.df['on_likes'] #\n",
    "        # dislike를 포함시킬 것인가?\n",
    "        #self.df['dislike_diff'] = (self.df['off_dislikes'] - self.df['on_dislikes']) * 100 /self.df['on_dislikes']        \n",
    "        self.df['comments_diff'] = (self.df['off_comments'] - self.df['on_comments']) #* 100 /self.df['on_comments'] #\n",
    "        self.df['subscribers_diff'] = (self.df['off_channel_subscribers'] - self.df['on_channel_subscribers']) #* 100 /self.df['on_channel_subscribers'] #        \n",
    "        self.df['engagement_score'] = self.df['trend_off_datediff'] + self.df['rank_diff'] + self.df['views_diff'] + self.df['likes_diff'] + self.df['comments_diff'] + self.df['subscribers_diff'] - self.df['publish_trend_datediff']\n",
    "    \n",
    "        return self.df\n",
    "            \n",
    "\n",
    "# engagement score와 관련변수의 상관관계 시각화를 위한 class\n",
    "\n",
    "class Vizcorr():\n",
    "  def __init__(self):\n",
    "    pass\n",
    "    \n",
    "  def corrdot(self, *args, **kwargs):\n",
    "    \"\"\"\n",
    "    상관계수 text annotation 용 함수\n",
    "    \"\"\"\n",
    "    corr_r = args[0].corr(args[1], 'pearson')\n",
    "    corr_text = round(corr_r, 3)\n",
    "    ax = plt.gca()\n",
    "    font_size = abs(corr_r) * 80 + 5\n",
    "    ax.annotate(corr_text, [.5, .5,],  xycoords=\"axes fraction\",\n",
    "                ha='center', va='center', fontsize=font_size)\n",
    "    \n",
    "  def corrfunc(self, x, y, **kwargs):\n",
    "    \"\"\"\n",
    "    p value text annotation 용 함수\n",
    "    \"\"\"\n",
    "    r, p = stats.pearsonr(x, y)\n",
    "    p_stars = ''\n",
    "    if p <= 0.05:\n",
    "        p_stars = '*'\n",
    "    if p <= 0.01:\n",
    "        p_stars = '**'\n",
    "    if p <= 0.001:\n",
    "        p_stars = '***'\n",
    "    ax = plt.gca()\n",
    "    ax.annotate(p_stars, xy=(0.65, 0.6), xycoords=ax.transAxes,\n",
    "                color='red', fontsize=55)\n",
    "    \n",
    "  def corr_plot(self,df:pd.DataFrame):\n",
    "    sns.set(style=\"white\")\n",
    "    g = sns.PairGrid(df, aspect=1.5, diag_sharey=False, despine=False)\n",
    "    g.map_lower(sns.regplot, lowess=True, ci=False,\n",
    "                line_kws={'color': 'red', 'lw': 1},\n",
    "                scatter_kws={'color': 'black', 's': 20})\n",
    "    g.map_diag(sns.histplot, color='black',kde=True) \n",
    "    g.map_diag(sns.rugplot, color='black')\n",
    "    g.map_upper(self.corrdot)\n",
    "    g.map_upper(self.corrfunc)\n",
    "    g.fig.subplots_adjust(wspace=0, hspace=0)\n",
    "    \n",
    "    # axis labels 삭제\n",
    "    for ax in g.axes.flatten():\n",
    "        ax.set_ylabel('')\n",
    "        ax.set_xlabel('')\n",
    "\n",
    "    # Add titles to the diagonal axes/subplots\n",
    "    for ax, col in zip(np.diag(g.axes), df.columns):\n",
    "      ax.set_title(col, y=0.82, fontsize=26)\n",
    "      #ax.ticklabel_format(axis='x', style='plain')\n",
    "      \n",
    "    return g\n",
    "  \n",
    "  \n",
    "  def get_redundant_pairs(self,df):\n",
    "    \"\"\"\n",
    "    상관행렬의 하단 상관계수 패어만 추출\n",
    "    \"\"\"\n",
    "    pairs_to_drop = set()\n",
    "    cols = df.columns\n",
    "    for i in range(0, df.shape[1]):\n",
    "        for j in range(0, i+1):\n",
    "            pairs_to_drop.add((cols[i], cols[j]))\n",
    "    return pairs_to_drop\n",
    "  \n",
    "\n",
    "  def get_top_abs_corr(self,df, n=5):\n",
    "    au_corr = df.corr().abs().unstack()\n",
    "    labels_to_drop = self.get_redundant_pairs(df)\n",
    "    au_corr = au_corr.drop(labels=labels_to_drop).sort_values(ascending=False)\n",
    "    return au_corr[0:n]\n",
    "  \n"
   ]
  },
  {
   "cell_type": "code",
   "execution_count": 23,
   "metadata": {},
   "outputs": [],
   "source": [
    "youtube_engagement = YoutubeEngagement(df)\n",
    "vis_corr = Vizcorr()\n",
    "youtube_engagement_df=youtube_engagement.engagement()"
   ]
  },
  {
   "cell_type": "code",
   "execution_count": 25,
   "metadata": {},
   "outputs": [],
   "source": [
    "youtube_engagement_df['engagement_score'] = youtube_engagement_df['engagement_score'].apply(lambda x: round(x,3))\n",
    "corr_df = youtube_engagement_df[['playtime_sec','on_likes','on_comments','on_views','engagement_score']]"
   ]
  },
  {
   "cell_type": "code",
   "execution_count": 26,
   "metadata": {},
   "outputs": [
    {
     "data": {
      "text/plain": [
       "on_likes      on_views            0.902141\n",
       "on_comments   engagement_score    0.889063\n",
       "on_views      engagement_score    0.865353\n",
       "on_comments   on_views            0.841637\n",
       "on_likes      on_comments         0.796527\n",
       "              engagement_score    0.788064\n",
       "playtime_sec  on_likes            0.069966\n",
       "              on_views            0.061040\n",
       "              engagement_score    0.050251\n",
       "              on_comments         0.042359\n",
       "dtype: float64"
      ]
     },
     "execution_count": 26,
     "metadata": {},
     "output_type": "execute_result"
    }
   ],
   "source": [
    "vis_corr.get_top_abs_corr(corr_df,10)"
   ]
  },
  {
   "cell_type": "code",
   "execution_count": 27,
   "metadata": {},
   "outputs": [
    {
     "data": {
      "text/plain": [
       "<seaborn.axisgrid.PairGrid at 0x7f138a307ee0>"
      ]
     },
     "execution_count": 27,
     "metadata": {},
     "output_type": "execute_result"
    },
    {
     "data": {
      "image/png": "[encoded data removed]",
      "text/plain": [
       "<Figure size 1350x900 with 30 Axes>"
      ]
     },
     "metadata": {},
     "output_type": "display_data"
    }
   ],
   "source": [
    "vis_corr.corr_plot(corr_df)"
   ]
  },
  {
   "cell_type": "markdown",
   "metadata": {},
   "source": [
    "### 결과"
   ]
  },
  {
   "cell_type": "markdown",
   "metadata": {},
   "source": [
    "## References"
   ]
  },
  {
   "cell_type": "markdown",
   "metadata": {},
   "source": [
    "- [Youtube Dislike의 영향](https://www.wales247.co.uk/how-do-dislikes-affect-youtube-videos-everything-you-wanted-to-know)\n",
    "- [Youtube Engagement에 영향을 미치는 요인들](https://www.octoboard.com/reports/youtube-engagement)"
   ]
  }
 ],
 "metadata": {
  "interpreter": {
   "hash": "af10c12910fe547a104a4e7054f6b738e5a585692cba659c6842421994a84dc5"
  },
  "kernelspec": {
   "display_name": "Python 3.8.12 ('datamind')",
   "language": "python",
   "name": "python3"
  },
  "language_info": {
   "codemirror_mode": {
    "name": "ipython",
    "version": 3
   },
   "file_extension": ".py",
   "mimetype": "text/x-python",
   "name": "python",
   "nbconvert_exporter": "python",
   "pygments_lexer": "ipython3",
   "version": "3.8.12"
  },
  "orig_nbformat": 4
 },
 "nbformat": 4,
 "nbformat_minor": 2
}
